{
 "cells": [
  {
   "cell_type": "markdown",
   "metadata": {},
   "source": [
    "# Анализ оттока клиентов банка"
   ]
  },
  {
   "cell_type": "markdown",
   "metadata": {},
   "source": [
    "Отделу маркетинга «Метанпромбанка» необходим анализ оттока клиентов. По результатам анализа нам нужно эффективно выделить сегменты отточных клиентов, чтобы они были однородными, высокоточными и покрывали максимум проблемных зон банка, после чего дать рекомендации отделу маркетинга, чтобы воздействие на эти сегменты привело к уменьшению оттока.  \n",
    "\n",
    "**Цели проекта:** \n",
    "1. Провести сегментацию отточных клиентов  \n",
    "2. Дать рекомендации отделу маркетинга  \n",
    "\n",
    "**Для достижения целей необходимо выполнить следующие задачи:**  \n",
    "1. Ознакомиться с данными  \n",
    "2. Провести предобработку данных  \n",
    "3. Провести исследовательский анализ данных  \n",
    "4. Выдвинуть и проверить статистические гипотезы  \n",
    "5. На основе проведенного анализа провести сегментацию клиентов  \n",
    "6. Дать рекомендации заказчику по каждому сегменту  \n",
    "7. Подготовить презентацию  "
   ]
  },
  {
   "cell_type": "markdown",
   "metadata": {},
   "source": [
    "**Описание данных:**  \n",
    "/datasets/bank_scrooge.csv — датасет, содержащий данные о клиентах банка «Метанпром». Банк располагается в Ярославле и областных городах: Ростов Великий и Рыбинск.  \n",
    "\n",
    "Колонки:\n",
    "\n",
    "+ *USERID* — идентификатор пользователя;  \n",
    "+ *score* — баллы кредитного скоринга;  \n",
    "+ *city* — город;  \n",
    "+ *gender* — пол;  \n",
    "+ *age* — возраст;  \n",
    "+ *equity* — количество баллов собственности;  \n",
    "+ *balance* — баланс на счете;  \n",
    "+ *products* — количество продуктов, которыми пользуется клиент;  \n",
    "+ *credit_card* — есть ли кредитная карта;  \n",
    "+ *last_activity* — активный клиент;  \n",
    "+ *EST_SALARY* — оценочный доход клиента;  \n",
    "+ *churn* — признак оттока.  "
   ]
  },
  {
   "cell_type": "markdown",
   "metadata": {},
   "source": [
    "**Импорт библиотек**"
   ]
  },
  {
   "cell_type": "code",
   "execution_count": 1,
   "metadata": {},
   "outputs": [],
   "source": [
    "import pandas as pd\n",
    "import matplotlib.pyplot as plt\n",
    "import seaborn as sns\n",
    "import plotly.express as px\n",
    "from matplotlib import pyplot as plt\n",
    "from plotly import graph_objects as go\n",
    "import numpy as np\n",
    "from scipy import stats as st\n",
    "import warnings\n",
    "warnings.filterwarnings('ignore')\n",
    "pd.set_option('display.float_format', '{: .2f}'.format)"
   ]
  },
  {
   "cell_type": "markdown",
   "metadata": {},
   "source": [
    "## Обзор данных"
   ]
  },
  {
   "cell_type": "markdown",
   "metadata": {},
   "source": [
    "### Загрузка данных"
   ]
  },
  {
   "cell_type": "code",
   "execution_count": 2,
   "metadata": {},
   "outputs": [],
   "source": [
    "#считаем файл с данными\n",
    "try:\n",
    "    data = pd.read_csv('/datasets/bank_scrooge.csv')\n",
    "except: \n",
    "    data = pd.read_csv('https://code.s3.yandex.net/datasets/bank_scrooge.csv')"
   ]
  },
  {
   "cell_type": "markdown",
   "metadata": {},
   "source": [
    "### Общая информация"
   ]
  },
  {
   "cell_type": "code",
   "execution_count": 3,
   "metadata": {},
   "outputs": [
    {
     "data": {
      "text/html": [
       "<div>\n",
       "<style scoped>\n",
       "    .dataframe tbody tr th:only-of-type {\n",
       "        vertical-align: middle;\n",
       "    }\n",
       "\n",
       "    .dataframe tbody tr th {\n",
       "        vertical-align: top;\n",
       "    }\n",
       "\n",
       "    .dataframe thead th {\n",
       "        text-align: right;\n",
       "    }\n",
       "</style>\n",
       "<table border=\"1\" class=\"dataframe\">\n",
       "  <thead>\n",
       "    <tr style=\"text-align: right;\">\n",
       "      <th></th>\n",
       "      <th>USERID</th>\n",
       "      <th>score</th>\n",
       "      <th>city</th>\n",
       "      <th>gender</th>\n",
       "      <th>age</th>\n",
       "      <th>equity</th>\n",
       "      <th>balance</th>\n",
       "      <th>products</th>\n",
       "      <th>credit_card</th>\n",
       "      <th>last_activity</th>\n",
       "      <th>EST_SALARY</th>\n",
       "      <th>churn</th>\n",
       "    </tr>\n",
       "  </thead>\n",
       "  <tbody>\n",
       "    <tr>\n",
       "      <th>0</th>\n",
       "      <td>183012</td>\n",
       "      <td>850.00</td>\n",
       "      <td>Рыбинск</td>\n",
       "      <td>Ж</td>\n",
       "      <td>25.00</td>\n",
       "      <td>1</td>\n",
       "      <td>59214.82</td>\n",
       "      <td>2</td>\n",
       "      <td>0</td>\n",
       "      <td>1</td>\n",
       "      <td>75719.14</td>\n",
       "      <td>1</td>\n",
       "    </tr>\n",
       "    <tr>\n",
       "      <th>1</th>\n",
       "      <td>146556</td>\n",
       "      <td>861.00</td>\n",
       "      <td>Рыбинск</td>\n",
       "      <td>Ж</td>\n",
       "      <td>37.00</td>\n",
       "      <td>5</td>\n",
       "      <td>850594.33</td>\n",
       "      <td>3</td>\n",
       "      <td>1</td>\n",
       "      <td>0</td>\n",
       "      <td>86621.77</td>\n",
       "      <td>0</td>\n",
       "    </tr>\n",
       "    <tr>\n",
       "      <th>2</th>\n",
       "      <td>120722</td>\n",
       "      <td>892.00</td>\n",
       "      <td>Рыбинск</td>\n",
       "      <td>Ж</td>\n",
       "      <td>30.00</td>\n",
       "      <td>0</td>\n",
       "      <td>NaN</td>\n",
       "      <td>1</td>\n",
       "      <td>1</td>\n",
       "      <td>1</td>\n",
       "      <td>107683.34</td>\n",
       "      <td>0</td>\n",
       "    </tr>\n",
       "    <tr>\n",
       "      <th>3</th>\n",
       "      <td>225363</td>\n",
       "      <td>866.00</td>\n",
       "      <td>Ярославль</td>\n",
       "      <td>Ж</td>\n",
       "      <td>51.00</td>\n",
       "      <td>5</td>\n",
       "      <td>1524746.26</td>\n",
       "      <td>2</td>\n",
       "      <td>0</td>\n",
       "      <td>1</td>\n",
       "      <td>174423.53</td>\n",
       "      <td>1</td>\n",
       "    </tr>\n",
       "    <tr>\n",
       "      <th>4</th>\n",
       "      <td>157978</td>\n",
       "      <td>730.00</td>\n",
       "      <td>Ярославль</td>\n",
       "      <td>М</td>\n",
       "      <td>34.00</td>\n",
       "      <td>5</td>\n",
       "      <td>174.00</td>\n",
       "      <td>1</td>\n",
       "      <td>1</td>\n",
       "      <td>0</td>\n",
       "      <td>67353.16</td>\n",
       "      <td>1</td>\n",
       "    </tr>\n",
       "    <tr>\n",
       "      <th>5</th>\n",
       "      <td>202305</td>\n",
       "      <td>856.00</td>\n",
       "      <td>Рыбинск</td>\n",
       "      <td>М</td>\n",
       "      <td>56.00</td>\n",
       "      <td>4</td>\n",
       "      <td>863687.24</td>\n",
       "      <td>3</td>\n",
       "      <td>1</td>\n",
       "      <td>0</td>\n",
       "      <td>156619.80</td>\n",
       "      <td>0</td>\n",
       "    </tr>\n",
       "    <tr>\n",
       "      <th>6</th>\n",
       "      <td>177259</td>\n",
       "      <td>807.00</td>\n",
       "      <td>Ярославль</td>\n",
       "      <td>Ж</td>\n",
       "      <td>39.00</td>\n",
       "      <td>3</td>\n",
       "      <td>405042.44</td>\n",
       "      <td>3</td>\n",
       "      <td>0</td>\n",
       "      <td>1</td>\n",
       "      <td>103838.32</td>\n",
       "      <td>0</td>\n",
       "    </tr>\n",
       "    <tr>\n",
       "      <th>7</th>\n",
       "      <td>218868</td>\n",
       "      <td>825.00</td>\n",
       "      <td>Ярославль</td>\n",
       "      <td>Ж</td>\n",
       "      <td>38.00</td>\n",
       "      <td>4</td>\n",
       "      <td>458145.40</td>\n",
       "      <td>2</td>\n",
       "      <td>1</td>\n",
       "      <td>1</td>\n",
       "      <td>68085.48</td>\n",
       "      <td>0</td>\n",
       "    </tr>\n",
       "    <tr>\n",
       "      <th>8</th>\n",
       "      <td>211686</td>\n",
       "      <td>923.00</td>\n",
       "      <td>Ярославль</td>\n",
       "      <td>М</td>\n",
       "      <td>54.00</td>\n",
       "      <td>5</td>\n",
       "      <td>1206337.87</td>\n",
       "      <td>2</td>\n",
       "      <td>1</td>\n",
       "      <td>0</td>\n",
       "      <td>155371.79</td>\n",
       "      <td>0</td>\n",
       "    </tr>\n",
       "    <tr>\n",
       "      <th>9</th>\n",
       "      <td>133130</td>\n",
       "      <td>906.00</td>\n",
       "      <td>Ярославль</td>\n",
       "      <td>Ж</td>\n",
       "      <td>67.00</td>\n",
       "      <td>0</td>\n",
       "      <td>NaN</td>\n",
       "      <td>1</td>\n",
       "      <td>0</td>\n",
       "      <td>1</td>\n",
       "      <td>238055.53</td>\n",
       "      <td>0</td>\n",
       "    </tr>\n",
       "  </tbody>\n",
       "</table>\n",
       "</div>"
      ],
      "text/plain": [
       "   USERID   score       city gender    age  equity     balance  products  \\\n",
       "0  183012  850.00    Рыбинск      Ж  25.00       1    59214.82         2   \n",
       "1  146556  861.00    Рыбинск      Ж  37.00       5   850594.33         3   \n",
       "2  120722  892.00    Рыбинск      Ж  30.00       0         NaN         1   \n",
       "3  225363  866.00  Ярославль      Ж  51.00       5  1524746.26         2   \n",
       "4  157978  730.00  Ярославль      М  34.00       5      174.00         1   \n",
       "5  202305  856.00    Рыбинск      М  56.00       4   863687.24         3   \n",
       "6  177259  807.00  Ярославль      Ж  39.00       3   405042.44         3   \n",
       "7  218868  825.00  Ярославль      Ж  38.00       4   458145.40         2   \n",
       "8  211686  923.00  Ярославль      М  54.00       5  1206337.87         2   \n",
       "9  133130  906.00  Ярославль      Ж  67.00       0         NaN         1   \n",
       "\n",
       "   credit_card  last_activity  EST_SALARY  churn  \n",
       "0            0              1    75719.14      1  \n",
       "1            1              0    86621.77      0  \n",
       "2            1              1   107683.34      0  \n",
       "3            0              1   174423.53      1  \n",
       "4            1              0    67353.16      1  \n",
       "5            1              0   156619.80      0  \n",
       "6            0              1   103838.32      0  \n",
       "7            1              1    68085.48      0  \n",
       "8            1              0   155371.79      0  \n",
       "9            0              1   238055.53      0  "
      ]
     },
     "execution_count": 3,
     "metadata": {},
     "output_type": "execute_result"
    }
   ],
   "source": [
    "#выведем первые десять строк датафрейма с данными\n",
    "data.head(10)"
   ]
  },
  {
   "cell_type": "code",
   "execution_count": 4,
   "metadata": {},
   "outputs": [
    {
     "name": "stdout",
     "output_type": "stream",
     "text": [
      "<class 'pandas.core.frame.DataFrame'>\n",
      "RangeIndex: 10000 entries, 0 to 9999\n",
      "Data columns (total 12 columns):\n",
      " #   Column         Non-Null Count  Dtype  \n",
      "---  ------         --------------  -----  \n",
      " 0   USERID         10000 non-null  int64  \n",
      " 1   score          10000 non-null  float64\n",
      " 2   city           10000 non-null  object \n",
      " 3   gender         10000 non-null  object \n",
      " 4   age            9974 non-null   float64\n",
      " 5   equity         10000 non-null  int64  \n",
      " 6   balance        7705 non-null   float64\n",
      " 7   products       10000 non-null  int64  \n",
      " 8   credit_card    10000 non-null  int64  \n",
      " 9   last_activity  10000 non-null  int64  \n",
      " 10  EST_SALARY     10000 non-null  float64\n",
      " 11  churn          10000 non-null  int64  \n",
      "dtypes: float64(4), int64(6), object(2)\n",
      "memory usage: 937.6+ KB\n"
     ]
    }
   ],
   "source": [
    "#выведем общую информацию по датафрейму\n",
    "data.info()"
   ]
  },
  {
   "cell_type": "markdown",
   "metadata": {},
   "source": [
    "### Выводы"
   ]
  },
  {
   "cell_type": "markdown",
   "metadata": {},
   "source": [
    "В полученном датафрейме 10 000 строк и 12 столбцов. Столбцы *age* и *balance* содержат пропуски. Типы данных в некоторых столбцах не соответствуют заданным значениям, в столбцах *score* и *age* должно быть целочисленное значение, в столбцах *credit_card, last_activity, churn* - булев тип. На данном этапе представлена информация по 10 000 клиентов. "
   ]
  },
  {
   "cell_type": "markdown",
   "metadata": {},
   "source": [
    "## Предобработка данных"
   ]
  },
  {
   "cell_type": "markdown",
   "metadata": {},
   "source": [
    "### Унификация названий столбцов "
   ]
  },
  {
   "cell_type": "code",
   "execution_count": 5,
   "metadata": {},
   "outputs": [],
   "source": [
    "#приведем названия столбцов к нижнему регистру\n",
    "data.columns = data.columns.str.lower()"
   ]
  },
  {
   "cell_type": "code",
   "execution_count": 6,
   "metadata": {},
   "outputs": [],
   "source": [
    "#переименуем столбец с идентификатором пользователя\n",
    "data = data.rename(columns={'userid': 'user_id'})"
   ]
  },
  {
   "cell_type": "code",
   "execution_count": 7,
   "metadata": {},
   "outputs": [
    {
     "name": "stdout",
     "output_type": "stream",
     "text": [
      "<class 'pandas.core.frame.DataFrame'>\n",
      "RangeIndex: 10000 entries, 0 to 9999\n",
      "Data columns (total 12 columns):\n",
      " #   Column         Non-Null Count  Dtype  \n",
      "---  ------         --------------  -----  \n",
      " 0   user_id        10000 non-null  int64  \n",
      " 1   score          10000 non-null  float64\n",
      " 2   city           10000 non-null  object \n",
      " 3   gender         10000 non-null  object \n",
      " 4   age            9974 non-null   float64\n",
      " 5   equity         10000 non-null  int64  \n",
      " 6   balance        7705 non-null   float64\n",
      " 7   products       10000 non-null  int64  \n",
      " 8   credit_card    10000 non-null  int64  \n",
      " 9   last_activity  10000 non-null  int64  \n",
      " 10  est_salary     10000 non-null  float64\n",
      " 11  churn          10000 non-null  int64  \n",
      "dtypes: float64(4), int64(6), object(2)\n",
      "memory usage: 937.6+ KB\n"
     ]
    }
   ],
   "source": [
    "#проверим изменения\n",
    "data.info()"
   ]
  },
  {
   "cell_type": "markdown",
   "metadata": {},
   "source": [
    "### Анализ и замена пропусков"
   ]
  },
  {
   "cell_type": "code",
   "execution_count": 8,
   "metadata": {},
   "outputs": [
    {
     "data": {
      "text/plain": [
       "user_id             0\n",
       "score               0\n",
       "city                0\n",
       "gender              0\n",
       "age                26\n",
       "equity              0\n",
       "balance          2295\n",
       "products            0\n",
       "credit_card         0\n",
       "last_activity       0\n",
       "est_salary          0\n",
       "churn               0\n",
       "dtype: int64"
      ]
     },
     "execution_count": 8,
     "metadata": {},
     "output_type": "execute_result"
    }
   ],
   "source": [
    "data.isna().sum()"
   ]
  },
  {
   "cell_type": "code",
   "execution_count": 9,
   "metadata": {},
   "outputs": [
    {
     "data": {
      "text/html": [
       "<div>\n",
       "<style scoped>\n",
       "    .dataframe tbody tr th:only-of-type {\n",
       "        vertical-align: middle;\n",
       "    }\n",
       "\n",
       "    .dataframe tbody tr th {\n",
       "        vertical-align: top;\n",
       "    }\n",
       "\n",
       "    .dataframe thead th {\n",
       "        text-align: right;\n",
       "    }\n",
       "</style>\n",
       "<table border=\"1\" class=\"dataframe\">\n",
       "  <thead>\n",
       "    <tr style=\"text-align: right;\">\n",
       "      <th></th>\n",
       "      <th>0</th>\n",
       "    </tr>\n",
       "  </thead>\n",
       "  <tbody>\n",
       "    <tr>\n",
       "      <th>user_id</th>\n",
       "      <td>0.00</td>\n",
       "    </tr>\n",
       "    <tr>\n",
       "      <th>score</th>\n",
       "      <td>0.00</td>\n",
       "    </tr>\n",
       "    <tr>\n",
       "      <th>city</th>\n",
       "      <td>0.00</td>\n",
       "    </tr>\n",
       "    <tr>\n",
       "      <th>gender</th>\n",
       "      <td>0.00</td>\n",
       "    </tr>\n",
       "    <tr>\n",
       "      <th>age</th>\n",
       "      <td>0.30</td>\n",
       "    </tr>\n",
       "    <tr>\n",
       "      <th>equity</th>\n",
       "      <td>0.00</td>\n",
       "    </tr>\n",
       "    <tr>\n",
       "      <th>balance</th>\n",
       "      <td>23.00</td>\n",
       "    </tr>\n",
       "    <tr>\n",
       "      <th>products</th>\n",
       "      <td>0.00</td>\n",
       "    </tr>\n",
       "    <tr>\n",
       "      <th>credit_card</th>\n",
       "      <td>0.00</td>\n",
       "    </tr>\n",
       "    <tr>\n",
       "      <th>last_activity</th>\n",
       "      <td>0.00</td>\n",
       "    </tr>\n",
       "    <tr>\n",
       "      <th>est_salary</th>\n",
       "      <td>0.00</td>\n",
       "    </tr>\n",
       "    <tr>\n",
       "      <th>churn</th>\n",
       "      <td>0.00</td>\n",
       "    </tr>\n",
       "  </tbody>\n",
       "</table>\n",
       "</div>"
      ],
      "text/plain": [
       "                   0\n",
       "user_id         0.00\n",
       "score           0.00\n",
       "city            0.00\n",
       "gender          0.00\n",
       "age             0.30\n",
       "equity          0.00\n",
       "balance        23.00\n",
       "products        0.00\n",
       "credit_card     0.00\n",
       "last_activity   0.00\n",
       "est_salary      0.00\n",
       "churn           0.00"
      ]
     },
     "execution_count": 9,
     "metadata": {},
     "output_type": "execute_result"
    }
   ],
   "source": [
    "pd.DataFrame(data.isna().mean()*100).round(1)"
   ]
  },
  {
   "cell_type": "code",
   "execution_count": 10,
   "metadata": {},
   "outputs": [],
   "source": [
    "#создадим новый столбец, который будет повторять значения столбца 'баланс'\n",
    "data['bal_miss'] = data['balance']\n",
    "#заменим пропуски на -1\n",
    "data['bal_miss'] = data['bal_miss'].fillna(-1)"
   ]
  },
  {
   "cell_type": "code",
   "execution_count": 11,
   "metadata": {},
   "outputs": [],
   "source": [
    "#создадим функцию, которая будет перебирать значения и заменять на 1 и 0, где 1 - пропуск, 0 - нет пропуска\n",
    "def balance_missing(bal):\n",
    "    if bal == -1:\n",
    "        return 1\n",
    "    else:\n",
    "        return 0"
   ]
  },
  {
   "cell_type": "code",
   "execution_count": 12,
   "metadata": {},
   "outputs": [],
   "source": [
    "#применим функцию к новому столбцу\n",
    "data['bal_miss'] = data['bal_miss'].apply(balance_missing)"
   ]
  },
  {
   "cell_type": "code",
   "execution_count": 13,
   "metadata": {},
   "outputs": [
    {
     "data": {
      "text/html": [
       "<div>\n",
       "<style scoped>\n",
       "    .dataframe tbody tr th:only-of-type {\n",
       "        vertical-align: middle;\n",
       "    }\n",
       "\n",
       "    .dataframe tbody tr th {\n",
       "        vertical-align: top;\n",
       "    }\n",
       "\n",
       "    .dataframe thead th {\n",
       "        text-align: right;\n",
       "    }\n",
       "</style>\n",
       "<table border=\"1\" class=\"dataframe\">\n",
       "  <thead>\n",
       "    <tr style=\"text-align: right;\">\n",
       "      <th></th>\n",
       "      <th>user_id</th>\n",
       "      <th>score</th>\n",
       "      <th>city</th>\n",
       "      <th>gender</th>\n",
       "      <th>age</th>\n",
       "      <th>equity</th>\n",
       "      <th>balance</th>\n",
       "      <th>products</th>\n",
       "      <th>credit_card</th>\n",
       "      <th>last_activity</th>\n",
       "      <th>est_salary</th>\n",
       "      <th>churn</th>\n",
       "      <th>bal_miss</th>\n",
       "    </tr>\n",
       "  </thead>\n",
       "  <tbody>\n",
       "    <tr>\n",
       "      <th>0</th>\n",
       "      <td>183012</td>\n",
       "      <td>850.00</td>\n",
       "      <td>Рыбинск</td>\n",
       "      <td>Ж</td>\n",
       "      <td>25.00</td>\n",
       "      <td>1</td>\n",
       "      <td>59214.82</td>\n",
       "      <td>2</td>\n",
       "      <td>0</td>\n",
       "      <td>1</td>\n",
       "      <td>75719.14</td>\n",
       "      <td>1</td>\n",
       "      <td>0</td>\n",
       "    </tr>\n",
       "    <tr>\n",
       "      <th>1</th>\n",
       "      <td>146556</td>\n",
       "      <td>861.00</td>\n",
       "      <td>Рыбинск</td>\n",
       "      <td>Ж</td>\n",
       "      <td>37.00</td>\n",
       "      <td>5</td>\n",
       "      <td>850594.33</td>\n",
       "      <td>3</td>\n",
       "      <td>1</td>\n",
       "      <td>0</td>\n",
       "      <td>86621.77</td>\n",
       "      <td>0</td>\n",
       "      <td>0</td>\n",
       "    </tr>\n",
       "    <tr>\n",
       "      <th>2</th>\n",
       "      <td>120722</td>\n",
       "      <td>892.00</td>\n",
       "      <td>Рыбинск</td>\n",
       "      <td>Ж</td>\n",
       "      <td>30.00</td>\n",
       "      <td>0</td>\n",
       "      <td>NaN</td>\n",
       "      <td>1</td>\n",
       "      <td>1</td>\n",
       "      <td>1</td>\n",
       "      <td>107683.34</td>\n",
       "      <td>0</td>\n",
       "      <td>1</td>\n",
       "    </tr>\n",
       "    <tr>\n",
       "      <th>3</th>\n",
       "      <td>225363</td>\n",
       "      <td>866.00</td>\n",
       "      <td>Ярославль</td>\n",
       "      <td>Ж</td>\n",
       "      <td>51.00</td>\n",
       "      <td>5</td>\n",
       "      <td>1524746.26</td>\n",
       "      <td>2</td>\n",
       "      <td>0</td>\n",
       "      <td>1</td>\n",
       "      <td>174423.53</td>\n",
       "      <td>1</td>\n",
       "      <td>0</td>\n",
       "    </tr>\n",
       "    <tr>\n",
       "      <th>4</th>\n",
       "      <td>157978</td>\n",
       "      <td>730.00</td>\n",
       "      <td>Ярославль</td>\n",
       "      <td>М</td>\n",
       "      <td>34.00</td>\n",
       "      <td>5</td>\n",
       "      <td>174.00</td>\n",
       "      <td>1</td>\n",
       "      <td>1</td>\n",
       "      <td>0</td>\n",
       "      <td>67353.16</td>\n",
       "      <td>1</td>\n",
       "      <td>0</td>\n",
       "    </tr>\n",
       "    <tr>\n",
       "      <th>5</th>\n",
       "      <td>202305</td>\n",
       "      <td>856.00</td>\n",
       "      <td>Рыбинск</td>\n",
       "      <td>М</td>\n",
       "      <td>56.00</td>\n",
       "      <td>4</td>\n",
       "      <td>863687.24</td>\n",
       "      <td>3</td>\n",
       "      <td>1</td>\n",
       "      <td>0</td>\n",
       "      <td>156619.80</td>\n",
       "      <td>0</td>\n",
       "      <td>0</td>\n",
       "    </tr>\n",
       "    <tr>\n",
       "      <th>6</th>\n",
       "      <td>177259</td>\n",
       "      <td>807.00</td>\n",
       "      <td>Ярославль</td>\n",
       "      <td>Ж</td>\n",
       "      <td>39.00</td>\n",
       "      <td>3</td>\n",
       "      <td>405042.44</td>\n",
       "      <td>3</td>\n",
       "      <td>0</td>\n",
       "      <td>1</td>\n",
       "      <td>103838.32</td>\n",
       "      <td>0</td>\n",
       "      <td>0</td>\n",
       "    </tr>\n",
       "    <tr>\n",
       "      <th>7</th>\n",
       "      <td>218868</td>\n",
       "      <td>825.00</td>\n",
       "      <td>Ярославль</td>\n",
       "      <td>Ж</td>\n",
       "      <td>38.00</td>\n",
       "      <td>4</td>\n",
       "      <td>458145.40</td>\n",
       "      <td>2</td>\n",
       "      <td>1</td>\n",
       "      <td>1</td>\n",
       "      <td>68085.48</td>\n",
       "      <td>0</td>\n",
       "      <td>0</td>\n",
       "    </tr>\n",
       "    <tr>\n",
       "      <th>8</th>\n",
       "      <td>211686</td>\n",
       "      <td>923.00</td>\n",
       "      <td>Ярославль</td>\n",
       "      <td>М</td>\n",
       "      <td>54.00</td>\n",
       "      <td>5</td>\n",
       "      <td>1206337.87</td>\n",
       "      <td>2</td>\n",
       "      <td>1</td>\n",
       "      <td>0</td>\n",
       "      <td>155371.79</td>\n",
       "      <td>0</td>\n",
       "      <td>0</td>\n",
       "    </tr>\n",
       "    <tr>\n",
       "      <th>9</th>\n",
       "      <td>133130</td>\n",
       "      <td>906.00</td>\n",
       "      <td>Ярославль</td>\n",
       "      <td>Ж</td>\n",
       "      <td>67.00</td>\n",
       "      <td>0</td>\n",
       "      <td>NaN</td>\n",
       "      <td>1</td>\n",
       "      <td>0</td>\n",
       "      <td>1</td>\n",
       "      <td>238055.53</td>\n",
       "      <td>0</td>\n",
       "      <td>1</td>\n",
       "    </tr>\n",
       "  </tbody>\n",
       "</table>\n",
       "</div>"
      ],
      "text/plain": [
       "   user_id   score       city gender    age  equity     balance  products  \\\n",
       "0   183012  850.00    Рыбинск      Ж  25.00       1    59214.82         2   \n",
       "1   146556  861.00    Рыбинск      Ж  37.00       5   850594.33         3   \n",
       "2   120722  892.00    Рыбинск      Ж  30.00       0         NaN         1   \n",
       "3   225363  866.00  Ярославль      Ж  51.00       5  1524746.26         2   \n",
       "4   157978  730.00  Ярославль      М  34.00       5      174.00         1   \n",
       "5   202305  856.00    Рыбинск      М  56.00       4   863687.24         3   \n",
       "6   177259  807.00  Ярославль      Ж  39.00       3   405042.44         3   \n",
       "7   218868  825.00  Ярославль      Ж  38.00       4   458145.40         2   \n",
       "8   211686  923.00  Ярославль      М  54.00       5  1206337.87         2   \n",
       "9   133130  906.00  Ярославль      Ж  67.00       0         NaN         1   \n",
       "\n",
       "   credit_card  last_activity  est_salary  churn  bal_miss  \n",
       "0            0              1    75719.14      1         0  \n",
       "1            1              0    86621.77      0         0  \n",
       "2            1              1   107683.34      0         1  \n",
       "3            0              1   174423.53      1         0  \n",
       "4            1              0    67353.16      1         0  \n",
       "5            1              0   156619.80      0         0  \n",
       "6            0              1   103838.32      0         0  \n",
       "7            1              1    68085.48      0         0  \n",
       "8            1              0   155371.79      0         0  \n",
       "9            0              1   238055.53      0         1  "
      ]
     },
     "execution_count": 13,
     "metadata": {},
     "output_type": "execute_result"
    }
   ],
   "source": [
    "#выведем первые 10 строк датафрейма для проверки\n",
    "data.head(10)"
   ]
  },
  {
   "cell_type": "code",
   "execution_count": 14,
   "metadata": {},
   "outputs": [
    {
     "data": {
      "image/png": "[encoded data removed]",
      "text/plain": [
       "<Figure size 1080x432 with 2 Axes>"
      ]
     },
     "metadata": {
      "needs_background": "light"
     },
     "output_type": "display_data"
    }
   ],
   "source": [
    "#создадим отдельную таблицу со столбцами, по которым нужно проверить корреляцию\n",
    "miss_correlation = data[['score', 'age', 'equity', 'products', 'credit_card', 'last_activity', 'est_salary', 'churn', 'bal_miss']]\n",
    "plt.figure(figsize=(15, 6))\n",
    "sns.heatmap(miss_correlation.corr(), annot=True, center=0, cmap='coolwarm')\n",
    "plt.show()"
   ]
  },
  {
   "cell_type": "code",
   "execution_count": 15,
   "metadata": {},
   "outputs": [
    {
     "data": {
      "image/png": "[encoded data removed]",
      "text/plain": [
       "<Figure size 864x432 with 2 Axes>"
      ]
     },
     "metadata": {
      "needs_background": "light"
     },
     "output_type": "display_data"
    }
   ],
   "source": [
    "plt.figure(figsize=(12, 6))\n",
    "sns.heatmap(\n",
    "    miss_correlation.corr().loc[:, ['bal_miss']].drop('bal_miss').sort_values('bal_miss'), \n",
    "    annot=True, fmt=\".0%\", cmap=\"vlag\", center=0)\n",
    "plt.show()"
   ]
  },
  {
   "cell_type": "markdown",
   "metadata": {},
   "source": [
    "В столбце *age* всего 26 пропусков, это 0.3% от всех данных. Возможно, клиенты не указывали возраст при заполнении анкеты, сотрудник банка не внес полную информацию или пропуски появились по технической причине. Эти пропуски можно классифицировать как MAR и удалить.  \n",
    "Со столбцом *balance* ситуация несколько иная: пропусков здесь 2295, а это 23% от всех данных. В данном случае скорее виноват технический фактор, сбой мог произойти как на этапе загрузки и на этапе выгрузки данных, так и из-за неправильного запроса или объединения таблиц.  \n",
    "Положительная корреляция между пропусками и значениями столбца с доходом прослеживается, но слабая - 31% по шкале Чеддока, еще слабее зависимость со значениями столбца с данными по наличию и отсутствию кредитной карты (16%) и кредитного рейтинга (14%).  \n",
    "Но, также есть и высокая отрицательная корреляция с баллами оценки собственности - 71% по шкале Чеддока, и умеренная отрицательная корреляция с количеством продуктов - 49%.  \n",
    "Зависимость между пропусками и значениямидругих столбцов не неблюдается.  \n",
    "Пропуски можно классифицировать как MNAR, их нельзя отбрасывать или заполнять одним значением, т.к. это приведёт к заметным искажениям, придется их оставить, чтобы не искажать результаты дальнейшего анализа."
   ]
  },
  {
   "cell_type": "code",
   "execution_count": 16,
   "metadata": {},
   "outputs": [
    {
     "data": {
      "text/plain": [
       "user_id             0\n",
       "score               0\n",
       "city                0\n",
       "gender              0\n",
       "age                 0\n",
       "equity              0\n",
       "balance          2279\n",
       "products            0\n",
       "credit_card         0\n",
       "last_activity       0\n",
       "est_salary          0\n",
       "churn               0\n",
       "bal_miss            0\n",
       "dtype: int64"
      ]
     },
     "execution_count": 16,
     "metadata": {},
     "output_type": "execute_result"
    }
   ],
   "source": [
    "data = data.dropna(subset= ['age'])\n",
    "data.isna().sum()"
   ]
  },
  {
   "cell_type": "markdown",
   "metadata": {},
   "source": [
    "### Работа с дубликатами "
   ]
  },
  {
   "cell_type": "code",
   "execution_count": 17,
   "metadata": {},
   "outputs": [
    {
     "data": {
      "text/plain": [
       "0"
      ]
     },
     "execution_count": 17,
     "metadata": {},
     "output_type": "execute_result"
    }
   ],
   "source": [
    "#посчитаем явные дубликаты \n",
    "data.duplicated().sum()"
   ]
  },
  {
   "cell_type": "markdown",
   "metadata": {},
   "source": [
    "Явных дубликатов нет, проверим неявные"
   ]
  },
  {
   "cell_type": "code",
   "execution_count": 18,
   "metadata": {},
   "outputs": [
    {
     "data": {
      "text/plain": [
       "50"
      ]
     },
     "execution_count": 18,
     "metadata": {},
     "output_type": "execute_result"
    }
   ],
   "source": [
    "#поищем дубликаты по идентификатору пользователя\n",
    "data.duplicated(subset=['user_id']).sum()"
   ]
  },
  {
   "cell_type": "code",
   "execution_count": 19,
   "metadata": {},
   "outputs": [
    {
     "data": {
      "text/html": [
       "<div>\n",
       "<style scoped>\n",
       "    .dataframe tbody tr th:only-of-type {\n",
       "        vertical-align: middle;\n",
       "    }\n",
       "\n",
       "    .dataframe tbody tr th {\n",
       "        vertical-align: top;\n",
       "    }\n",
       "\n",
       "    .dataframe thead th {\n",
       "        text-align: right;\n",
       "    }\n",
       "</style>\n",
       "<table border=\"1\" class=\"dataframe\">\n",
       "  <thead>\n",
       "    <tr style=\"text-align: right;\">\n",
       "      <th></th>\n",
       "      <th>user_id</th>\n",
       "      <th>score</th>\n",
       "      <th>city</th>\n",
       "      <th>gender</th>\n",
       "      <th>age</th>\n",
       "      <th>equity</th>\n",
       "      <th>balance</th>\n",
       "      <th>products</th>\n",
       "      <th>credit_card</th>\n",
       "      <th>last_activity</th>\n",
       "      <th>est_salary</th>\n",
       "      <th>churn</th>\n",
       "      <th>bal_miss</th>\n",
       "    </tr>\n",
       "  </thead>\n",
       "  <tbody>\n",
       "    <tr>\n",
       "      <th>1893</th>\n",
       "      <td>116540</td>\n",
       "      <td>883.00</td>\n",
       "      <td>Рыбинск</td>\n",
       "      <td>Ж</td>\n",
       "      <td>55.00</td>\n",
       "      <td>1</td>\n",
       "      <td>362756.49</td>\n",
       "      <td>3</td>\n",
       "      <td>0</td>\n",
       "      <td>1</td>\n",
       "      <td>175920.48</td>\n",
       "      <td>1</td>\n",
       "      <td>0</td>\n",
       "    </tr>\n",
       "    <tr>\n",
       "      <th>7694</th>\n",
       "      <td>116540</td>\n",
       "      <td>887.00</td>\n",
       "      <td>Ярославль</td>\n",
       "      <td>Ж</td>\n",
       "      <td>38.00</td>\n",
       "      <td>0</td>\n",
       "      <td>NaN</td>\n",
       "      <td>1</td>\n",
       "      <td>0</td>\n",
       "      <td>1</td>\n",
       "      <td>119247.61</td>\n",
       "      <td>0</td>\n",
       "      <td>1</td>\n",
       "    </tr>\n",
       "    <tr>\n",
       "      <th>4866</th>\n",
       "      <td>117943</td>\n",
       "      <td>855.00</td>\n",
       "      <td>Рыбинск</td>\n",
       "      <td>Ж</td>\n",
       "      <td>32.00</td>\n",
       "      <td>6</td>\n",
       "      <td>1036832.93</td>\n",
       "      <td>4</td>\n",
       "      <td>1</td>\n",
       "      <td>1</td>\n",
       "      <td>107792.71</td>\n",
       "      <td>1</td>\n",
       "      <td>0</td>\n",
       "    </tr>\n",
       "    <tr>\n",
       "      <th>7542</th>\n",
       "      <td>117943</td>\n",
       "      <td>880.00</td>\n",
       "      <td>Ярославль</td>\n",
       "      <td>Ж</td>\n",
       "      <td>40.00</td>\n",
       "      <td>0</td>\n",
       "      <td>NaN</td>\n",
       "      <td>1</td>\n",
       "      <td>1</td>\n",
       "      <td>0</td>\n",
       "      <td>137718.93</td>\n",
       "      <td>0</td>\n",
       "      <td>1</td>\n",
       "    </tr>\n",
       "    <tr>\n",
       "      <th>5863</th>\n",
       "      <td>120258</td>\n",
       "      <td>908.00</td>\n",
       "      <td>Рыбинск</td>\n",
       "      <td>Ж</td>\n",
       "      <td>38.00</td>\n",
       "      <td>4</td>\n",
       "      <td>2213581.63</td>\n",
       "      <td>2</td>\n",
       "      <td>0</td>\n",
       "      <td>1</td>\n",
       "      <td>160327.77</td>\n",
       "      <td>1</td>\n",
       "      <td>0</td>\n",
       "    </tr>\n",
       "    <tr>\n",
       "      <th>...</th>\n",
       "      <td>...</td>\n",
       "      <td>...</td>\n",
       "      <td>...</td>\n",
       "      <td>...</td>\n",
       "      <td>...</td>\n",
       "      <td>...</td>\n",
       "      <td>...</td>\n",
       "      <td>...</td>\n",
       "      <td>...</td>\n",
       "      <td>...</td>\n",
       "      <td>...</td>\n",
       "      <td>...</td>\n",
       "      <td>...</td>\n",
       "    </tr>\n",
       "    <tr>\n",
       "      <th>2302</th>\n",
       "      <td>220816</td>\n",
       "      <td>934.00</td>\n",
       "      <td>Рыбинск</td>\n",
       "      <td>Ж</td>\n",
       "      <td>74.00</td>\n",
       "      <td>5</td>\n",
       "      <td>1294285.39</td>\n",
       "      <td>3</td>\n",
       "      <td>1</td>\n",
       "      <td>0</td>\n",
       "      <td>95606.80</td>\n",
       "      <td>0</td>\n",
       "      <td>0</td>\n",
       "    </tr>\n",
       "    <tr>\n",
       "      <th>2597</th>\n",
       "      <td>226719</td>\n",
       "      <td>990.00</td>\n",
       "      <td>Ярославль</td>\n",
       "      <td>М</td>\n",
       "      <td>37.00</td>\n",
       "      <td>4</td>\n",
       "      <td>14648692.14</td>\n",
       "      <td>2</td>\n",
       "      <td>0</td>\n",
       "      <td>0</td>\n",
       "      <td>934412.61</td>\n",
       "      <td>1</td>\n",
       "      <td>0</td>\n",
       "    </tr>\n",
       "    <tr>\n",
       "      <th>4216</th>\n",
       "      <td>226719</td>\n",
       "      <td>903.00</td>\n",
       "      <td>Рыбинск</td>\n",
       "      <td>Ж</td>\n",
       "      <td>63.00</td>\n",
       "      <td>0</td>\n",
       "      <td>NaN</td>\n",
       "      <td>1</td>\n",
       "      <td>1</td>\n",
       "      <td>0</td>\n",
       "      <td>138582.58</td>\n",
       "      <td>0</td>\n",
       "      <td>1</td>\n",
       "    </tr>\n",
       "    <tr>\n",
       "      <th>8205</th>\n",
       "      <td>227795</td>\n",
       "      <td>840.00</td>\n",
       "      <td>Рыбинск</td>\n",
       "      <td>М</td>\n",
       "      <td>34.00</td>\n",
       "      <td>2</td>\n",
       "      <td>350768.03</td>\n",
       "      <td>1</td>\n",
       "      <td>1</td>\n",
       "      <td>0</td>\n",
       "      <td>102036.14</td>\n",
       "      <td>1</td>\n",
       "      <td>0</td>\n",
       "    </tr>\n",
       "    <tr>\n",
       "      <th>8497</th>\n",
       "      <td>227795</td>\n",
       "      <td>839.00</td>\n",
       "      <td>Ярославль</td>\n",
       "      <td>М</td>\n",
       "      <td>34.00</td>\n",
       "      <td>2</td>\n",
       "      <td>326593.14</td>\n",
       "      <td>2</td>\n",
       "      <td>1</td>\n",
       "      <td>0</td>\n",
       "      <td>103314.92</td>\n",
       "      <td>0</td>\n",
       "      <td>0</td>\n",
       "    </tr>\n",
       "  </tbody>\n",
       "</table>\n",
       "<p>100 rows × 13 columns</p>\n",
       "</div>"
      ],
      "text/plain": [
       "      user_id   score       city gender    age  equity      balance  products  \\\n",
       "1893   116540  883.00    Рыбинск      Ж  55.00       1    362756.49         3   \n",
       "7694   116540  887.00  Ярославль      Ж  38.00       0          NaN         1   \n",
       "4866   117943  855.00    Рыбинск      Ж  32.00       6   1036832.93         4   \n",
       "7542   117943  880.00  Ярославль      Ж  40.00       0          NaN         1   \n",
       "5863   120258  908.00    Рыбинск      Ж  38.00       4   2213581.63         2   \n",
       "...       ...     ...        ...    ...    ...     ...          ...       ...   \n",
       "2302   220816  934.00    Рыбинск      Ж  74.00       5   1294285.39         3   \n",
       "2597   226719  990.00  Ярославль      М  37.00       4  14648692.14         2   \n",
       "4216   226719  903.00    Рыбинск      Ж  63.00       0          NaN         1   \n",
       "8205   227795  840.00    Рыбинск      М  34.00       2    350768.03         1   \n",
       "8497   227795  839.00  Ярославль      М  34.00       2    326593.14         2   \n",
       "\n",
       "      credit_card  last_activity  est_salary  churn  bal_miss  \n",
       "1893            0              1   175920.48      1         0  \n",
       "7694            0              1   119247.61      0         1  \n",
       "4866            1              1   107792.71      1         0  \n",
       "7542            1              0   137718.93      0         1  \n",
       "5863            0              1   160327.77      1         0  \n",
       "...           ...            ...         ...    ...       ...  \n",
       "2302            1              0    95606.80      0         0  \n",
       "2597            0              0   934412.61      1         0  \n",
       "4216            1              0   138582.58      0         1  \n",
       "8205            1              0   102036.14      1         0  \n",
       "8497            1              0   103314.92      0         0  \n",
       "\n",
       "[100 rows x 13 columns]"
      ]
     },
     "execution_count": 19,
     "metadata": {},
     "output_type": "execute_result"
    }
   ],
   "source": [
    "#выведем таблицу с дубликатами по идентификатору пользователя\n",
    "id_duplicates = data[data.duplicated(subset=['user_id'], keep=False)].sort_values(by='user_id') \n",
    "id_duplicates"
   ]
  },
  {
   "cell_type": "markdown",
   "metadata": {},
   "source": [
    "У нас есть 50 неявных дубликатов. По большей части это разные клиенты из разных городов под одним и тем же идентификатором, но клиенты с идентификатором 227795 имеют практически идентичный кредитный рейтинг, оба мужчины, обоим 34 года, одинаковые баллы оценки собственности, не сильно различающийся баланс и доход. Возможно, это один и тот же клиент с одним и тем же идентификатором, но зарегистрированный в разных городах (например, переехал из Рыбинска в областной центр). Среди дубликатов могут встречаться и другие подобные клиенты.\n",
    "50 значений из 9974 - это меньше 1%, они не повлияют на результаты исследования, значит их можно удалить. "
   ]
  },
  {
   "cell_type": "code",
   "execution_count": 20,
   "metadata": {},
   "outputs": [
    {
     "data": {
      "text/plain": [
       "0"
      ]
     },
     "execution_count": 20,
     "metadata": {},
     "output_type": "execute_result"
    }
   ],
   "source": [
    "#удалим дубликаты\n",
    "data = data.drop_duplicates(subset=['user_id'])\n",
    "#проверим\n",
    "data.duplicated(subset=['user_id']).sum()"
   ]
  },
  {
   "cell_type": "markdown",
   "metadata": {},
   "source": [
    "Проверим уникальные значения по столбцам"
   ]
  },
  {
   "cell_type": "code",
   "execution_count": 21,
   "metadata": {},
   "outputs": [
    {
     "name": "stdout",
     "output_type": "stream",
     "text": [
      "['Рыбинск' 'Ярославль' 'Ростов']\n",
      "Уникальных значений:  3\n"
     ]
    }
   ],
   "source": [
    "print(data['city'].unique())\n",
    "print('Уникальных значений: ', data['city'].nunique())"
   ]
  },
  {
   "cell_type": "code",
   "execution_count": 22,
   "metadata": {},
   "outputs": [
    {
     "name": "stdout",
     "output_type": "stream",
     "text": [
      "['Ж' 'М']\n",
      "Уникальных значений:  2\n"
     ]
    }
   ],
   "source": [
    "print(data['gender'].unique())\n",
    "print('Уникальных значений: ', data['gender'].nunique())"
   ]
  },
  {
   "cell_type": "code",
   "execution_count": 23,
   "metadata": {},
   "outputs": [
    {
     "name": "stdout",
     "output_type": "stream",
     "text": [
      "[1 5 0 4 3 2 6 7 8 9]\n",
      "Уникальных значений:  10\n"
     ]
    }
   ],
   "source": [
    "print(data['equity'].unique())\n",
    "print('Уникальных значений: ', data['equity'].nunique())"
   ]
  },
  {
   "cell_type": "code",
   "execution_count": 24,
   "metadata": {},
   "outputs": [
    {
     "name": "stdout",
     "output_type": "stream",
     "text": [
      "[2 3 1 4 5 0]\n",
      "Уникальных значений:  6\n"
     ]
    }
   ],
   "source": [
    "print(data['products'].unique())\n",
    "print('Уникальных значений: ', data['products'].nunique())"
   ]
  },
  {
   "cell_type": "markdown",
   "metadata": {},
   "source": [
    "Интересный момент: у кого-то из клиентов в графе с количеством продуктов стоит ноль, но ведь такого не может быть - у любого клиента банка должен быть хоть один продукт."
   ]
  },
  {
   "cell_type": "code",
   "execution_count": 25,
   "metadata": {},
   "outputs": [
    {
     "data": {
      "text/html": [
       "<div>\n",
       "<style scoped>\n",
       "    .dataframe tbody tr th:only-of-type {\n",
       "        vertical-align: middle;\n",
       "    }\n",
       "\n",
       "    .dataframe tbody tr th {\n",
       "        vertical-align: top;\n",
       "    }\n",
       "\n",
       "    .dataframe thead th {\n",
       "        text-align: right;\n",
       "    }\n",
       "</style>\n",
       "<table border=\"1\" class=\"dataframe\">\n",
       "  <thead>\n",
       "    <tr style=\"text-align: right;\">\n",
       "      <th></th>\n",
       "      <th>user_id</th>\n",
       "      <th>score</th>\n",
       "      <th>city</th>\n",
       "      <th>gender</th>\n",
       "      <th>age</th>\n",
       "      <th>equity</th>\n",
       "      <th>balance</th>\n",
       "      <th>products</th>\n",
       "      <th>credit_card</th>\n",
       "      <th>last_activity</th>\n",
       "      <th>est_salary</th>\n",
       "      <th>churn</th>\n",
       "      <th>bal_miss</th>\n",
       "    </tr>\n",
       "  </thead>\n",
       "  <tbody>\n",
       "    <tr>\n",
       "      <th>8957</th>\n",
       "      <td>147837</td>\n",
       "      <td>962.00</td>\n",
       "      <td>Рыбинск</td>\n",
       "      <td>Ж</td>\n",
       "      <td>79.00</td>\n",
       "      <td>3</td>\n",
       "      <td>NaN</td>\n",
       "      <td>0</td>\n",
       "      <td>0</td>\n",
       "      <td>0</td>\n",
       "      <td>25063.96</td>\n",
       "      <td>1</td>\n",
       "      <td>1</td>\n",
       "    </tr>\n",
       "  </tbody>\n",
       "</table>\n",
       "</div>"
      ],
      "text/plain": [
       "      user_id   score     city gender    age  equity  balance  products  \\\n",
       "8957   147837  962.00  Рыбинск      Ж  79.00       3      NaN         0   \n",
       "\n",
       "      credit_card  last_activity  est_salary  churn  bal_miss  \n",
       "8957            0              0    25063.96      1         1  "
      ]
     },
     "execution_count": 25,
     "metadata": {},
     "output_type": "execute_result"
    }
   ],
   "source": [
    "#найдем у кого из клиентов ноль продуктов\n",
    "zero_prod = data.query('products == 0')\n",
    "zero_prod"
   ]
  },
  {
   "cell_type": "markdown",
   "metadata": {},
   "source": [
    "Только у одного клиента 0 продуктов. Удалим его, т.к. без продуктов банка он не является клиентом банка."
   ]
  },
  {
   "cell_type": "code",
   "execution_count": 26,
   "metadata": {},
   "outputs": [
    {
     "name": "stdout",
     "output_type": "stream",
     "text": [
      "[2 3 1 4 5]\n",
      "Уникальных значений:  5\n"
     ]
    }
   ],
   "source": [
    "data = data.query('products > 0')\n",
    "print(data['products'].unique())\n",
    "print('Уникальных значений: ', data['products'].nunique())"
   ]
  },
  {
   "cell_type": "markdown",
   "metadata": {},
   "source": [
    "Нулевых значений больше нет, можно продолжить проверку по другим столбцам."
   ]
  },
  {
   "cell_type": "code",
   "execution_count": 27,
   "metadata": {},
   "outputs": [
    {
     "name": "stdout",
     "output_type": "stream",
     "text": [
      "[0 1]\n",
      "Уникальных значений:  2\n"
     ]
    }
   ],
   "source": [
    "print(data['credit_card'].unique())\n",
    "print('Уникальных значений: ', data['credit_card'].nunique())"
   ]
  },
  {
   "cell_type": "code",
   "execution_count": 28,
   "metadata": {},
   "outputs": [
    {
     "name": "stdout",
     "output_type": "stream",
     "text": [
      "[1 0]\n",
      "Уникальных значений:  2\n"
     ]
    }
   ],
   "source": [
    "print(data['last_activity'].unique())\n",
    "print('Уникальных значений: ', data['last_activity'].nunique())"
   ]
  },
  {
   "cell_type": "code",
   "execution_count": 29,
   "metadata": {},
   "outputs": [
    {
     "name": "stdout",
     "output_type": "stream",
     "text": [
      "[1 0]\n",
      "Уникальных значений:  2\n"
     ]
    }
   ],
   "source": [
    "print(data['churn'].unique())\n",
    "print('Уникальных значений: ', data['churn'].nunique())"
   ]
  },
  {
   "cell_type": "code",
   "execution_count": 30,
   "metadata": {},
   "outputs": [
    {
     "name": "stdout",
     "output_type": "stream",
     "text": [
      "<class 'pandas.core.frame.DataFrame'>\n",
      "Int64Index: 9923 entries, 0 to 9999\n",
      "Data columns (total 13 columns):\n",
      " #   Column         Non-Null Count  Dtype  \n",
      "---  ------         --------------  -----  \n",
      " 0   user_id        9923 non-null   int64  \n",
      " 1   score          9923 non-null   float64\n",
      " 2   city           9923 non-null   object \n",
      " 3   gender         9923 non-null   object \n",
      " 4   age            9923 non-null   float64\n",
      " 5   equity         9923 non-null   int64  \n",
      " 6   balance        7664 non-null   float64\n",
      " 7   products       9923 non-null   int64  \n",
      " 8   credit_card    9923 non-null   int64  \n",
      " 9   last_activity  9923 non-null   int64  \n",
      " 10  est_salary     9923 non-null   float64\n",
      " 11  churn          9923 non-null   int64  \n",
      " 12  bal_miss       9923 non-null   int64  \n",
      "dtypes: float64(4), int64(7), object(2)\n",
      "memory usage: 1.1+ MB\n"
     ]
    }
   ],
   "source": [
    "#проверим изменения и сохранение данных после срезов\n",
    "data.info()"
   ]
  },
  {
   "cell_type": "markdown",
   "metadata": {},
   "source": [
    "### Изменение типов данных"
   ]
  },
  {
   "cell_type": "code",
   "execution_count": 31,
   "metadata": {},
   "outputs": [],
   "source": [
    "#изменим типы данных\n",
    "data['score'] = data['score'].astype('int64')\n",
    "data['age'] = data['age'].astype('int64')\n",
    "data['credit_card'] = data['credit_card'].astype('bool')\n",
    "data['last_activity'] = data['last_activity'].astype('bool')\n",
    "data['churn'] = data['churn'].astype('bool')"
   ]
  },
  {
   "cell_type": "code",
   "execution_count": 32,
   "metadata": {},
   "outputs": [
    {
     "name": "stdout",
     "output_type": "stream",
     "text": [
      "<class 'pandas.core.frame.DataFrame'>\n",
      "Int64Index: 9923 entries, 0 to 9999\n",
      "Data columns (total 13 columns):\n",
      " #   Column         Non-Null Count  Dtype  \n",
      "---  ------         --------------  -----  \n",
      " 0   user_id        9923 non-null   int64  \n",
      " 1   score          9923 non-null   int64  \n",
      " 2   city           9923 non-null   object \n",
      " 3   gender         9923 non-null   object \n",
      " 4   age            9923 non-null   int64  \n",
      " 5   equity         9923 non-null   int64  \n",
      " 6   balance        7664 non-null   float64\n",
      " 7   products       9923 non-null   int64  \n",
      " 8   credit_card    9923 non-null   bool   \n",
      " 9   last_activity  9923 non-null   bool   \n",
      " 10  est_salary     9923 non-null   float64\n",
      " 11  churn          9923 non-null   bool   \n",
      " 12  bal_miss       9923 non-null   int64  \n",
      "dtypes: bool(3), float64(2), int64(6), object(2)\n",
      "memory usage: 881.8+ KB\n"
     ]
    }
   ],
   "source": [
    "#проверим изменения\n",
    "data.info()"
   ]
  },
  {
   "cell_type": "markdown",
   "metadata": {},
   "source": [
    "### Кодирование данных"
   ]
  },
  {
   "cell_type": "markdown",
   "metadata": {},
   "source": [
    "Для того, чтобы позже отследить корреляцию, нам нужно закодировать категориальные неупорядоченные переменные (столбцы с городом и полом клиентов). Чтобы при этом не потерять оригинальные столбцы, сделаем их копии и используем параметр columns (чтобы перекодированию подверглись только те столбцы, которые нам нужно перекодировать). "
   ]
  },
  {
   "cell_type": "code",
   "execution_count": 33,
   "metadata": {},
   "outputs": [
    {
     "data": {
      "text/html": [
       "<div>\n",
       "<style scoped>\n",
       "    .dataframe tbody tr th:only-of-type {\n",
       "        vertical-align: middle;\n",
       "    }\n",
       "\n",
       "    .dataframe tbody tr th {\n",
       "        vertical-align: top;\n",
       "    }\n",
       "\n",
       "    .dataframe thead th {\n",
       "        text-align: right;\n",
       "    }\n",
       "</style>\n",
       "<table border=\"1\" class=\"dataframe\">\n",
       "  <thead>\n",
       "    <tr style=\"text-align: right;\">\n",
       "      <th></th>\n",
       "      <th>user_id</th>\n",
       "      <th>score</th>\n",
       "      <th>city</th>\n",
       "      <th>gender</th>\n",
       "      <th>age</th>\n",
       "      <th>equity</th>\n",
       "      <th>balance</th>\n",
       "      <th>products</th>\n",
       "      <th>credit_card</th>\n",
       "      <th>last_activity</th>\n",
       "      <th>est_salary</th>\n",
       "      <th>churn</th>\n",
       "      <th>bal_miss</th>\n",
       "      <th>city_dum</th>\n",
       "      <th>gender_dum</th>\n",
       "    </tr>\n",
       "  </thead>\n",
       "  <tbody>\n",
       "    <tr>\n",
       "      <th>0</th>\n",
       "      <td>183012</td>\n",
       "      <td>850</td>\n",
       "      <td>Рыбинск</td>\n",
       "      <td>Ж</td>\n",
       "      <td>25</td>\n",
       "      <td>1</td>\n",
       "      <td>59214.82</td>\n",
       "      <td>2</td>\n",
       "      <td>False</td>\n",
       "      <td>True</td>\n",
       "      <td>75719.14</td>\n",
       "      <td>True</td>\n",
       "      <td>0</td>\n",
       "      <td>Рыбинск</td>\n",
       "      <td>Ж</td>\n",
       "    </tr>\n",
       "    <tr>\n",
       "      <th>1</th>\n",
       "      <td>146556</td>\n",
       "      <td>861</td>\n",
       "      <td>Рыбинск</td>\n",
       "      <td>Ж</td>\n",
       "      <td>37</td>\n",
       "      <td>5</td>\n",
       "      <td>850594.33</td>\n",
       "      <td>3</td>\n",
       "      <td>True</td>\n",
       "      <td>False</td>\n",
       "      <td>86621.77</td>\n",
       "      <td>False</td>\n",
       "      <td>0</td>\n",
       "      <td>Рыбинск</td>\n",
       "      <td>Ж</td>\n",
       "    </tr>\n",
       "    <tr>\n",
       "      <th>2</th>\n",
       "      <td>120722</td>\n",
       "      <td>892</td>\n",
       "      <td>Рыбинск</td>\n",
       "      <td>Ж</td>\n",
       "      <td>30</td>\n",
       "      <td>0</td>\n",
       "      <td>NaN</td>\n",
       "      <td>1</td>\n",
       "      <td>True</td>\n",
       "      <td>True</td>\n",
       "      <td>107683.34</td>\n",
       "      <td>False</td>\n",
       "      <td>1</td>\n",
       "      <td>Рыбинск</td>\n",
       "      <td>Ж</td>\n",
       "    </tr>\n",
       "    <tr>\n",
       "      <th>3</th>\n",
       "      <td>225363</td>\n",
       "      <td>866</td>\n",
       "      <td>Ярославль</td>\n",
       "      <td>Ж</td>\n",
       "      <td>51</td>\n",
       "      <td>5</td>\n",
       "      <td>1524746.26</td>\n",
       "      <td>2</td>\n",
       "      <td>False</td>\n",
       "      <td>True</td>\n",
       "      <td>174423.53</td>\n",
       "      <td>True</td>\n",
       "      <td>0</td>\n",
       "      <td>Ярославль</td>\n",
       "      <td>Ж</td>\n",
       "    </tr>\n",
       "    <tr>\n",
       "      <th>4</th>\n",
       "      <td>157978</td>\n",
       "      <td>730</td>\n",
       "      <td>Ярославль</td>\n",
       "      <td>М</td>\n",
       "      <td>34</td>\n",
       "      <td>5</td>\n",
       "      <td>174.00</td>\n",
       "      <td>1</td>\n",
       "      <td>True</td>\n",
       "      <td>False</td>\n",
       "      <td>67353.16</td>\n",
       "      <td>True</td>\n",
       "      <td>0</td>\n",
       "      <td>Ярославль</td>\n",
       "      <td>М</td>\n",
       "    </tr>\n",
       "  </tbody>\n",
       "</table>\n",
       "</div>"
      ],
      "text/plain": [
       "   user_id  score       city gender  age  equity     balance  products  \\\n",
       "0   183012    850    Рыбинск      Ж   25       1    59214.82         2   \n",
       "1   146556    861    Рыбинск      Ж   37       5   850594.33         3   \n",
       "2   120722    892    Рыбинск      Ж   30       0         NaN         1   \n",
       "3   225363    866  Ярославль      Ж   51       5  1524746.26         2   \n",
       "4   157978    730  Ярославль      М   34       5      174.00         1   \n",
       "\n",
       "   credit_card  last_activity  est_salary  churn  bal_miss   city_dum  \\\n",
       "0        False           True    75719.14   True         0    Рыбинск   \n",
       "1         True          False    86621.77  False         0    Рыбинск   \n",
       "2         True           True   107683.34  False         1    Рыбинск   \n",
       "3        False           True   174423.53   True         0  Ярославль   \n",
       "4         True          False    67353.16   True         0  Ярославль   \n",
       "\n",
       "  gender_dum  \n",
       "0          Ж  \n",
       "1          Ж  \n",
       "2          Ж  \n",
       "3          Ж  \n",
       "4          М  "
      ]
     },
     "execution_count": 33,
     "metadata": {},
     "output_type": "execute_result"
    }
   ],
   "source": [
    "#создадим копии столбцов \n",
    "data['city_dum'] = data['city']\n",
    "data['gender_dum'] = data['gender']\n",
    "#выведем первые пять строк таблицы для проверки\n",
    "data.head()"
   ]
  },
  {
   "cell_type": "code",
   "execution_count": 34,
   "metadata": {},
   "outputs": [
    {
     "data": {
      "text/html": [
       "<div>\n",
       "<style scoped>\n",
       "    .dataframe tbody tr th:only-of-type {\n",
       "        vertical-align: middle;\n",
       "    }\n",
       "\n",
       "    .dataframe tbody tr th {\n",
       "        vertical-align: top;\n",
       "    }\n",
       "\n",
       "    .dataframe thead th {\n",
       "        text-align: right;\n",
       "    }\n",
       "</style>\n",
       "<table border=\"1\" class=\"dataframe\">\n",
       "  <thead>\n",
       "    <tr style=\"text-align: right;\">\n",
       "      <th></th>\n",
       "      <th>user_id</th>\n",
       "      <th>score</th>\n",
       "      <th>city</th>\n",
       "      <th>gender</th>\n",
       "      <th>age</th>\n",
       "      <th>equity</th>\n",
       "      <th>balance</th>\n",
       "      <th>products</th>\n",
       "      <th>credit_card</th>\n",
       "      <th>last_activity</th>\n",
       "      <th>est_salary</th>\n",
       "      <th>churn</th>\n",
       "      <th>bal_miss</th>\n",
       "      <th>rostov</th>\n",
       "      <th>rybinsk</th>\n",
       "      <th>yaroslavl</th>\n",
       "      <th>female</th>\n",
       "      <th>male</th>\n",
       "    </tr>\n",
       "  </thead>\n",
       "  <tbody>\n",
       "    <tr>\n",
       "      <th>0</th>\n",
       "      <td>183012</td>\n",
       "      <td>850</td>\n",
       "      <td>Рыбинск</td>\n",
       "      <td>Ж</td>\n",
       "      <td>25</td>\n",
       "      <td>1</td>\n",
       "      <td>59214.82</td>\n",
       "      <td>2</td>\n",
       "      <td>False</td>\n",
       "      <td>True</td>\n",
       "      <td>75719.14</td>\n",
       "      <td>True</td>\n",
       "      <td>0</td>\n",
       "      <td>0</td>\n",
       "      <td>1</td>\n",
       "      <td>0</td>\n",
       "      <td>1</td>\n",
       "      <td>0</td>\n",
       "    </tr>\n",
       "    <tr>\n",
       "      <th>1</th>\n",
       "      <td>146556</td>\n",
       "      <td>861</td>\n",
       "      <td>Рыбинск</td>\n",
       "      <td>Ж</td>\n",
       "      <td>37</td>\n",
       "      <td>5</td>\n",
       "      <td>850594.33</td>\n",
       "      <td>3</td>\n",
       "      <td>True</td>\n",
       "      <td>False</td>\n",
       "      <td>86621.77</td>\n",
       "      <td>False</td>\n",
       "      <td>0</td>\n",
       "      <td>0</td>\n",
       "      <td>1</td>\n",
       "      <td>0</td>\n",
       "      <td>1</td>\n",
       "      <td>0</td>\n",
       "    </tr>\n",
       "    <tr>\n",
       "      <th>2</th>\n",
       "      <td>120722</td>\n",
       "      <td>892</td>\n",
       "      <td>Рыбинск</td>\n",
       "      <td>Ж</td>\n",
       "      <td>30</td>\n",
       "      <td>0</td>\n",
       "      <td>NaN</td>\n",
       "      <td>1</td>\n",
       "      <td>True</td>\n",
       "      <td>True</td>\n",
       "      <td>107683.34</td>\n",
       "      <td>False</td>\n",
       "      <td>1</td>\n",
       "      <td>0</td>\n",
       "      <td>1</td>\n",
       "      <td>0</td>\n",
       "      <td>1</td>\n",
       "      <td>0</td>\n",
       "    </tr>\n",
       "    <tr>\n",
       "      <th>3</th>\n",
       "      <td>225363</td>\n",
       "      <td>866</td>\n",
       "      <td>Ярославль</td>\n",
       "      <td>Ж</td>\n",
       "      <td>51</td>\n",
       "      <td>5</td>\n",
       "      <td>1524746.26</td>\n",
       "      <td>2</td>\n",
       "      <td>False</td>\n",
       "      <td>True</td>\n",
       "      <td>174423.53</td>\n",
       "      <td>True</td>\n",
       "      <td>0</td>\n",
       "      <td>0</td>\n",
       "      <td>0</td>\n",
       "      <td>1</td>\n",
       "      <td>1</td>\n",
       "      <td>0</td>\n",
       "    </tr>\n",
       "    <tr>\n",
       "      <th>4</th>\n",
       "      <td>157978</td>\n",
       "      <td>730</td>\n",
       "      <td>Ярославль</td>\n",
       "      <td>М</td>\n",
       "      <td>34</td>\n",
       "      <td>5</td>\n",
       "      <td>174.00</td>\n",
       "      <td>1</td>\n",
       "      <td>True</td>\n",
       "      <td>False</td>\n",
       "      <td>67353.16</td>\n",
       "      <td>True</td>\n",
       "      <td>0</td>\n",
       "      <td>0</td>\n",
       "      <td>0</td>\n",
       "      <td>1</td>\n",
       "      <td>0</td>\n",
       "      <td>1</td>\n",
       "    </tr>\n",
       "  </tbody>\n",
       "</table>\n",
       "</div>"
      ],
      "text/plain": [
       "   user_id  score       city gender  age  equity     balance  products  \\\n",
       "0   183012    850    Рыбинск      Ж   25       1    59214.82         2   \n",
       "1   146556    861    Рыбинск      Ж   37       5   850594.33         3   \n",
       "2   120722    892    Рыбинск      Ж   30       0         NaN         1   \n",
       "3   225363    866  Ярославль      Ж   51       5  1524746.26         2   \n",
       "4   157978    730  Ярославль      М   34       5      174.00         1   \n",
       "\n",
       "   credit_card  last_activity  est_salary  churn  bal_miss  rostov  rybinsk  \\\n",
       "0        False           True    75719.14   True         0       0        1   \n",
       "1         True          False    86621.77  False         0       0        1   \n",
       "2         True           True   107683.34  False         1       0        1   \n",
       "3        False           True   174423.53   True         0       0        0   \n",
       "4         True          False    67353.16   True         0       0        0   \n",
       "\n",
       "   yaroslavl  female  male  \n",
       "0          0       1     0  \n",
       "1          0       1     0  \n",
       "2          0       1     0  \n",
       "3          1       1     0  \n",
       "4          1       0     1  "
      ]
     },
     "execution_count": 34,
     "metadata": {},
     "output_type": "execute_result"
    }
   ],
   "source": [
    "#закодируем столбцы с помощью метода get_dummies()\n",
    "data = pd.get_dummies(data, columns = ['city_dum', 'gender_dum'])\n",
    "#переименуем столбцы\n",
    "data = data.rename(columns={'city_dum_Ростов': 'rostov', 'city_dum_Рыбинск': 'rybinsk', 'city_dum_Ярославль': 'yaroslavl', \n",
    "                            'gender_dum_Ж': 'female', 'gender_dum_М': 'male'})\n",
    "data.head()"
   ]
  },
  {
   "cell_type": "markdown",
   "metadata": {},
   "source": [
    "Данные закодированы успешно, можно переходить к следующему этапу анализа. "
   ]
  },
  {
   "cell_type": "markdown",
   "metadata": {},
   "source": [
    "### Выводы"
   ]
  },
  {
   "cell_type": "code",
   "execution_count": 35,
   "metadata": {},
   "outputs": [
    {
     "name": "stdout",
     "output_type": "stream",
     "text": [
      "<class 'pandas.core.frame.DataFrame'>\n",
      "Int64Index: 9923 entries, 0 to 9999\n",
      "Data columns (total 18 columns):\n",
      " #   Column         Non-Null Count  Dtype  \n",
      "---  ------         --------------  -----  \n",
      " 0   user_id        9923 non-null   int64  \n",
      " 1   score          9923 non-null   int64  \n",
      " 2   city           9923 non-null   object \n",
      " 3   gender         9923 non-null   object \n",
      " 4   age            9923 non-null   int64  \n",
      " 5   equity         9923 non-null   int64  \n",
      " 6   balance        7664 non-null   float64\n",
      " 7   products       9923 non-null   int64  \n",
      " 8   credit_card    9923 non-null   bool   \n",
      " 9   last_activity  9923 non-null   bool   \n",
      " 10  est_salary     9923 non-null   float64\n",
      " 11  churn          9923 non-null   bool   \n",
      " 12  bal_miss       9923 non-null   int64  \n",
      " 13  rostov         9923 non-null   uint8  \n",
      " 14  rybinsk        9923 non-null   uint8  \n",
      " 15  yaroslavl      9923 non-null   uint8  \n",
      " 16  female         9923 non-null   uint8  \n",
      " 17  male           9923 non-null   uint8  \n",
      "dtypes: bool(3), float64(2), int64(6), object(2), uint8(5)\n",
      "memory usage: 930.3+ KB\n"
     ]
    }
   ],
   "source": [
    "#выведем общую информацию по датафрейму\n",
    "data.info()"
   ]
  },
  {
   "cell_type": "markdown",
   "metadata": {},
   "source": [
    "На этапе предобработки данных мы изменили названия столбцов, проанализировали и устранили (где это возможно) пропуски, проверили данные на наличие дубликатов, изменили некоторые типы данных и провели кодирование для дальнейшего изучения корреляции на этапе исследовательского анализа данных. На данном этапе в датафрейме представлено 9923 строки и 18 столбцов."
   ]
  },
  {
   "cell_type": "markdown",
   "metadata": {},
   "source": [
    "## Исследовательский анализ данных"
   ]
  },
  {
   "cell_type": "markdown",
   "metadata": {},
   "source": [
    "### Сравнение портретов клиентов (по средним или медианным)"
   ]
  },
  {
   "cell_type": "code",
   "execution_count": 36,
   "metadata": {},
   "outputs": [
    {
     "data": {
      "text/html": [
       "<div>\n",
       "<style scoped>\n",
       "    .dataframe tbody tr th:only-of-type {\n",
       "        vertical-align: middle;\n",
       "    }\n",
       "\n",
       "    .dataframe tbody tr th {\n",
       "        vertical-align: top;\n",
       "    }\n",
       "\n",
       "    .dataframe thead th {\n",
       "        text-align: right;\n",
       "    }\n",
       "</style>\n",
       "<table border=\"1\" class=\"dataframe\">\n",
       "  <thead>\n",
       "    <tr style=\"text-align: right;\">\n",
       "      <th></th>\n",
       "      <th>score</th>\n",
       "      <th>age</th>\n",
       "      <th>equity</th>\n",
       "      <th>balance</th>\n",
       "      <th>products</th>\n",
       "      <th>est_salary</th>\n",
       "    </tr>\n",
       "  </thead>\n",
       "  <tbody>\n",
       "    <tr>\n",
       "      <th>count</th>\n",
       "      <td>9923.00</td>\n",
       "      <td>9923.00</td>\n",
       "      <td>9923.00</td>\n",
       "      <td>7664.00</td>\n",
       "      <td>9923.00</td>\n",
       "      <td>9923.00</td>\n",
       "    </tr>\n",
       "    <tr>\n",
       "      <th>mean</th>\n",
       "      <td>848.72</td>\n",
       "      <td>42.73</td>\n",
       "      <td>2.63</td>\n",
       "      <td>828206.27</td>\n",
       "      <td>1.87</td>\n",
       "      <td>147892.55</td>\n",
       "    </tr>\n",
       "    <tr>\n",
       "      <th>std</th>\n",
       "      <td>65.39</td>\n",
       "      <td>12.17</td>\n",
       "      <td>1.98</td>\n",
       "      <td>1984121.61</td>\n",
       "      <td>0.79</td>\n",
       "      <td>139359.86</td>\n",
       "    </tr>\n",
       "    <tr>\n",
       "      <th>min</th>\n",
       "      <td>642.00</td>\n",
       "      <td>18.00</td>\n",
       "      <td>0.00</td>\n",
       "      <td>0.00</td>\n",
       "      <td>1.00</td>\n",
       "      <td>2546.30</td>\n",
       "    </tr>\n",
       "    <tr>\n",
       "      <th>25%</th>\n",
       "      <td>802.00</td>\n",
       "      <td>33.00</td>\n",
       "      <td>0.00</td>\n",
       "      <td>295526.57</td>\n",
       "      <td>1.00</td>\n",
       "      <td>75255.86</td>\n",
       "    </tr>\n",
       "    <tr>\n",
       "      <th>50%</th>\n",
       "      <td>853.00</td>\n",
       "      <td>40.00</td>\n",
       "      <td>3.00</td>\n",
       "      <td>524927.74</td>\n",
       "      <td>2.00</td>\n",
       "      <td>119719.33</td>\n",
       "    </tr>\n",
       "    <tr>\n",
       "      <th>75%</th>\n",
       "      <td>900.00</td>\n",
       "      <td>51.00</td>\n",
       "      <td>4.00</td>\n",
       "      <td>980753.67</td>\n",
       "      <td>2.00</td>\n",
       "      <td>174673.28</td>\n",
       "    </tr>\n",
       "    <tr>\n",
       "      <th>max</th>\n",
       "      <td>1000.00</td>\n",
       "      <td>86.00</td>\n",
       "      <td>9.00</td>\n",
       "      <td>119113552.01</td>\n",
       "      <td>5.00</td>\n",
       "      <td>1395064.45</td>\n",
       "    </tr>\n",
       "  </tbody>\n",
       "</table>\n",
       "</div>"
      ],
      "text/plain": [
       "         score      age   equity       balance  products  est_salary\n",
       "count  9923.00  9923.00  9923.00       7664.00   9923.00     9923.00\n",
       "mean    848.72    42.73     2.63     828206.27      1.87   147892.55\n",
       "std      65.39    12.17     1.98    1984121.61      0.79   139359.86\n",
       "min     642.00    18.00     0.00          0.00      1.00     2546.30\n",
       "25%     802.00    33.00     0.00     295526.57      1.00    75255.86\n",
       "50%     853.00    40.00     3.00     524927.74      2.00   119719.33\n",
       "75%     900.00    51.00     4.00     980753.67      2.00   174673.28\n",
       "max    1000.00    86.00     9.00  119113552.01      5.00  1395064.45"
      ]
     },
     "execution_count": 36,
     "metadata": {},
     "output_type": "execute_result"
    }
   ],
   "source": [
    "#выведем таблицу с описанием данных\n",
    "data[['score', 'age', 'equity', 'balance', 'products', 'est_salary']].describe()"
   ]
  },
  {
   "cell_type": "code",
   "execution_count": 37,
   "metadata": {},
   "outputs": [
    {
     "data": {
      "text/plain": [
       "0.18"
      ]
     },
     "execution_count": 37,
     "metadata": {},
     "output_type": "execute_result"
    }
   ],
   "source": [
    "#узнаем процент отточных клиентов по датафрейму\n",
    "round(data['churn'].mean(), 2)"
   ]
  },
  {
   "cell_type": "code",
   "execution_count": 38,
   "metadata": {},
   "outputs": [
    {
     "data": {
      "text/plain": [
       "0    М\n",
       "dtype: object"
      ]
     },
     "execution_count": 38,
     "metadata": {},
     "output_type": "execute_result"
    }
   ],
   "source": [
    "#выведем моду по полу клиентов\n",
    "data['gender'].mode()"
   ]
  },
  {
   "cell_type": "code",
   "execution_count": 39,
   "metadata": {},
   "outputs": [
    {
     "data": {
      "text/plain": [
       "0    Ярославль\n",
       "dtype: object"
      ]
     },
     "execution_count": 39,
     "metadata": {},
     "output_type": "execute_result"
    }
   ],
   "source": [
    "#выведем моду по городу\n",
    "data['city'].mode()"
   ]
  },
  {
   "cell_type": "markdown",
   "metadata": {},
   "source": [
    "**Среднестатистический клиент** Метанпромбанка - мужчина в возрасте около 40 лет из Ярославля имеет около 850 баллов кредитного скоринга и 3 балла оценки собственности, пользуется 2 продуктами банка, имеет баланс от 500 000 до 800 000 и ежемесячный доход от 119 000 до 148 000. "
   ]
  },
  {
   "cell_type": "code",
   "execution_count": 40,
   "metadata": {},
   "outputs": [],
   "source": [
    "#создадим срезы с данными по остающимся и уходящим клиентам \n",
    "client_stay = data.query('churn == 0') #остающиеся\n",
    "client_leave = data.query('churn == 1') #уходящие"
   ]
  },
  {
   "cell_type": "code",
   "execution_count": 41,
   "metadata": {},
   "outputs": [
    {
     "data": {
      "text/html": [
       "<div>\n",
       "<style scoped>\n",
       "    .dataframe tbody tr th:only-of-type {\n",
       "        vertical-align: middle;\n",
       "    }\n",
       "\n",
       "    .dataframe tbody tr th {\n",
       "        vertical-align: top;\n",
       "    }\n",
       "\n",
       "    .dataframe thead th {\n",
       "        text-align: right;\n",
       "    }\n",
       "</style>\n",
       "<table border=\"1\" class=\"dataframe\">\n",
       "  <thead>\n",
       "    <tr style=\"text-align: right;\">\n",
       "      <th></th>\n",
       "      <th>score</th>\n",
       "      <th>age</th>\n",
       "      <th>equity</th>\n",
       "      <th>balance</th>\n",
       "      <th>products</th>\n",
       "      <th>est_salary</th>\n",
       "    </tr>\n",
       "  </thead>\n",
       "  <tbody>\n",
       "    <tr>\n",
       "      <th>count</th>\n",
       "      <td>8105.00</td>\n",
       "      <td>8105.00</td>\n",
       "      <td>8105.00</td>\n",
       "      <td>5858.00</td>\n",
       "      <td>8105.00</td>\n",
       "      <td>8105.00</td>\n",
       "    </tr>\n",
       "    <tr>\n",
       "      <th>mean</th>\n",
       "      <td>845.44</td>\n",
       "      <td>43.02</td>\n",
       "      <td>2.38</td>\n",
       "      <td>733789.92</td>\n",
       "      <td>1.76</td>\n",
       "      <td>147788.27</td>\n",
       "    </tr>\n",
       "    <tr>\n",
       "      <th>std</th>\n",
       "      <td>68.01</td>\n",
       "      <td>12.37</td>\n",
       "      <td>1.97</td>\n",
       "      <td>1958890.42</td>\n",
       "      <td>0.71</td>\n",
       "      <td>142792.18</td>\n",
       "    </tr>\n",
       "    <tr>\n",
       "      <th>min</th>\n",
       "      <td>642.00</td>\n",
       "      <td>18.00</td>\n",
       "      <td>0.00</td>\n",
       "      <td>0.00</td>\n",
       "      <td>1.00</td>\n",
       "      <td>2546.30</td>\n",
       "    </tr>\n",
       "    <tr>\n",
       "      <th>25%</th>\n",
       "      <td>796.00</td>\n",
       "      <td>34.00</td>\n",
       "      <td>0.00</td>\n",
       "      <td>279013.32</td>\n",
       "      <td>1.00</td>\n",
       "      <td>73489.66</td>\n",
       "    </tr>\n",
       "    <tr>\n",
       "      <th>50%</th>\n",
       "      <td>848.00</td>\n",
       "      <td>40.00</td>\n",
       "      <td>3.00</td>\n",
       "      <td>475382.45</td>\n",
       "      <td>2.00</td>\n",
       "      <td>118247.25</td>\n",
       "    </tr>\n",
       "    <tr>\n",
       "      <th>75%</th>\n",
       "      <td>900.00</td>\n",
       "      <td>51.00</td>\n",
       "      <td>4.00</td>\n",
       "      <td>853815.30</td>\n",
       "      <td>2.00</td>\n",
       "      <td>174087.83</td>\n",
       "    </tr>\n",
       "    <tr>\n",
       "      <th>max</th>\n",
       "      <td>1000.00</td>\n",
       "      <td>86.00</td>\n",
       "      <td>9.00</td>\n",
       "      <td>119113552.01</td>\n",
       "      <td>5.00</td>\n",
       "      <td>1395064.45</td>\n",
       "    </tr>\n",
       "  </tbody>\n",
       "</table>\n",
       "</div>"
      ],
      "text/plain": [
       "         score      age   equity       balance  products  est_salary\n",
       "count  8105.00  8105.00  8105.00       5858.00   8105.00     8105.00\n",
       "mean    845.44    43.02     2.38     733789.92      1.76   147788.27\n",
       "std      68.01    12.37     1.97    1958890.42      0.71   142792.18\n",
       "min     642.00    18.00     0.00          0.00      1.00     2546.30\n",
       "25%     796.00    34.00     0.00     279013.32      1.00    73489.66\n",
       "50%     848.00    40.00     3.00     475382.45      2.00   118247.25\n",
       "75%     900.00    51.00     4.00     853815.30      2.00   174087.83\n",
       "max    1000.00    86.00     9.00  119113552.01      5.00  1395064.45"
      ]
     },
     "execution_count": 41,
     "metadata": {},
     "output_type": "execute_result"
    }
   ],
   "source": [
    "#выведем таблицу с описанием данных по остающимся клиентам\n",
    "client_stay[['score', 'age', 'equity', 'balance', 'products', 'est_salary']].describe()"
   ]
  },
  {
   "cell_type": "code",
   "execution_count": 42,
   "metadata": {},
   "outputs": [
    {
     "data": {
      "text/plain": [
       "0    Ж\n",
       "dtype: object"
      ]
     },
     "execution_count": 42,
     "metadata": {},
     "output_type": "execute_result"
    }
   ],
   "source": [
    "#выведем моду по полу остающихся клиентов\n",
    "client_stay['gender'].mode()"
   ]
  },
  {
   "cell_type": "code",
   "execution_count": 43,
   "metadata": {},
   "outputs": [
    {
     "data": {
      "text/plain": [
       "0    Ярославль\n",
       "dtype: object"
      ]
     },
     "execution_count": 43,
     "metadata": {},
     "output_type": "execute_result"
    }
   ],
   "source": [
    "#выведем моду по городу остающихся клиентов\n",
    "client_stay['city'].mode()"
   ]
  },
  {
   "cell_type": "markdown",
   "metadata": {},
   "source": [
    "**Типичный остающийся клиент** Метанпромбанка - женщина в возрасте около 40 лет из Ярославля имеет около 848 баллов кредитного скоринга и 3 балла оценки собственности, пользуется 2 продуктами банка, имеет баланс от 475 000 до 733 000 и ежемесячный доход от 118 000 до 147 000."
   ]
  },
  {
   "cell_type": "code",
   "execution_count": 44,
   "metadata": {},
   "outputs": [
    {
     "data": {
      "text/html": [
       "<div>\n",
       "<style scoped>\n",
       "    .dataframe tbody tr th:only-of-type {\n",
       "        vertical-align: middle;\n",
       "    }\n",
       "\n",
       "    .dataframe tbody tr th {\n",
       "        vertical-align: top;\n",
       "    }\n",
       "\n",
       "    .dataframe thead th {\n",
       "        text-align: right;\n",
       "    }\n",
       "</style>\n",
       "<table border=\"1\" class=\"dataframe\">\n",
       "  <thead>\n",
       "    <tr style=\"text-align: right;\">\n",
       "      <th></th>\n",
       "      <th>score</th>\n",
       "      <th>age</th>\n",
       "      <th>equity</th>\n",
       "      <th>balance</th>\n",
       "      <th>products</th>\n",
       "      <th>est_salary</th>\n",
       "    </tr>\n",
       "  </thead>\n",
       "  <tbody>\n",
       "    <tr>\n",
       "      <th>count</th>\n",
       "      <td>1818.00</td>\n",
       "      <td>1818.00</td>\n",
       "      <td>1818.00</td>\n",
       "      <td>1806.00</td>\n",
       "      <td>1818.00</td>\n",
       "      <td>1818.00</td>\n",
       "    </tr>\n",
       "    <tr>\n",
       "      <th>mean</th>\n",
       "      <td>863.36</td>\n",
       "      <td>41.43</td>\n",
       "      <td>3.76</td>\n",
       "      <td>1134458.21</td>\n",
       "      <td>2.38</td>\n",
       "      <td>148357.48</td>\n",
       "    </tr>\n",
       "    <tr>\n",
       "      <th>std</th>\n",
       "      <td>49.58</td>\n",
       "      <td>11.14</td>\n",
       "      <td>1.59</td>\n",
       "      <td>2034445.55</td>\n",
       "      <td>0.92</td>\n",
       "      <td>122931.98</td>\n",
       "    </tr>\n",
       "    <tr>\n",
       "      <th>min</th>\n",
       "      <td>706.00</td>\n",
       "      <td>18.00</td>\n",
       "      <td>0.00</td>\n",
       "      <td>6.00</td>\n",
       "      <td>1.00</td>\n",
       "      <td>10880.27</td>\n",
       "    </tr>\n",
       "    <tr>\n",
       "      <th>25%</th>\n",
       "      <td>828.00</td>\n",
       "      <td>32.00</td>\n",
       "      <td>3.00</td>\n",
       "      <td>387482.16</td>\n",
       "      <td>2.00</td>\n",
       "      <td>83285.66</td>\n",
       "    </tr>\n",
       "    <tr>\n",
       "      <th>50%</th>\n",
       "      <td>866.00</td>\n",
       "      <td>39.00</td>\n",
       "      <td>4.00</td>\n",
       "      <td>783908.90</td>\n",
       "      <td>2.00</td>\n",
       "      <td>125408.88</td>\n",
       "    </tr>\n",
       "    <tr>\n",
       "      <th>75%</th>\n",
       "      <td>898.00</td>\n",
       "      <td>52.00</td>\n",
       "      <td>5.00</td>\n",
       "      <td>1348127.55</td>\n",
       "      <td>3.00</td>\n",
       "      <td>176017.84</td>\n",
       "    </tr>\n",
       "    <tr>\n",
       "      <th>max</th>\n",
       "      <td>1000.00</td>\n",
       "      <td>75.00</td>\n",
       "      <td>9.00</td>\n",
       "      <td>64866210.15</td>\n",
       "      <td>5.00</td>\n",
       "      <td>1263028.49</td>\n",
       "    </tr>\n",
       "  </tbody>\n",
       "</table>\n",
       "</div>"
      ],
      "text/plain": [
       "         score      age   equity      balance  products  est_salary\n",
       "count  1818.00  1818.00  1818.00      1806.00   1818.00     1818.00\n",
       "mean    863.36    41.43     3.76   1134458.21      2.38   148357.48\n",
       "std      49.58    11.14     1.59   2034445.55      0.92   122931.98\n",
       "min     706.00    18.00     0.00         6.00      1.00    10880.27\n",
       "25%     828.00    32.00     3.00    387482.16      2.00    83285.66\n",
       "50%     866.00    39.00     4.00    783908.90      2.00   125408.88\n",
       "75%     898.00    52.00     5.00   1348127.55      3.00   176017.84\n",
       "max    1000.00    75.00     9.00  64866210.15      5.00  1263028.49"
      ]
     },
     "execution_count": 44,
     "metadata": {},
     "output_type": "execute_result"
    }
   ],
   "source": [
    "#выведем таблицу с описанием данных по уходящим клиентам\n",
    "client_leave[['score', 'age', 'equity', 'balance', 'products', 'est_salary']].describe()"
   ]
  },
  {
   "cell_type": "code",
   "execution_count": 45,
   "metadata": {},
   "outputs": [
    {
     "data": {
      "text/plain": [
       "0    М\n",
       "dtype: object"
      ]
     },
     "execution_count": 45,
     "metadata": {},
     "output_type": "execute_result"
    }
   ],
   "source": [
    "#выведем моду по полу уходящих клиентов\n",
    "client_leave['gender'].mode()"
   ]
  },
  {
   "cell_type": "code",
   "execution_count": 46,
   "metadata": {},
   "outputs": [
    {
     "data": {
      "text/plain": [
       "0    Ярославль\n",
       "dtype: object"
      ]
     },
     "execution_count": 46,
     "metadata": {},
     "output_type": "execute_result"
    }
   ],
   "source": [
    "#выведем моду по городу уходящих клиентов\n",
    "client_leave['city'].mode()"
   ]
  },
  {
   "cell_type": "markdown",
   "metadata": {},
   "source": [
    "**Типичный уходящий клиент** Метанпромбанка - мужчина в возрасте около 40 лет из Ярославля имеет около 865 баллов кредитного скоринга и 4 балла оценки собственности, пользуется 2 продуктами банка, имеет баланс от 783 000 до 1 134 000 и ежемесячный доход от 125 000 до 148 000."
   ]
  },
  {
   "cell_type": "markdown",
   "metadata": {},
   "source": [
    "Портрет остающегося клиента:  \n",
    "женщина, около 40 лет из Ярославля, около 848 баллов кредитного скоринга, 3 балла оценки собственности, пользуется 2 продуктами банка, имеет баланс от 475 000 до 733 000 и ежемесячный доход от 118 000 до 147 000.  \n",
    "Портрет уходящего клиента:  \n",
    "мужчина, около 40 лет из Ярославля, около 865 баллов кредитного скоринга, 4 балла оценки собственности, пользуется 2 продуктами банка, имеет баланс от 783 000 до 1 134 000 и ежемесячный доход от 125 000 до 148 000.  \n",
    "Из вышеперечисленного следует вывод, что мужчины с более высоким баллом кредитного скоринга, большим количеством объектов в собственности и более высоким балансом, уходят из банка чаще. По критериям возраста, города, количества продуктов банка и ежемесячного дохода, уходящие и остающиеся клиенты совпадают. "
   ]
  },
  {
   "cell_type": "markdown",
   "metadata": {},
   "source": [
    "### Распределения непрервных величин"
   ]
  },
  {
   "cell_type": "markdown",
   "metadata": {},
   "source": [
    "Рассмотрим распределение непрервыных величин в разрезе оттока"
   ]
  },
  {
   "cell_type": "code",
   "execution_count": 47,
   "metadata": {},
   "outputs": [
    {
     "data": {
      "image/png": "[encoded data removed]",
      "text/plain": [
       "<Figure size 1080x432 with 1 Axes>"
      ]
     },
     "metadata": {
      "needs_background": "light"
     },
     "output_type": "display_data"
    }
   ],
   "source": [
    "#создадим гистограмму по баллам скоринга\n",
    "plt.figure(figsize=(15, 6))\n",
    "sns.histplot(data=data, x='score', hue='churn', stat='density', common_norm=False, kde=True) \n",
    "plt.title('Распределение баллов кредитного скоринга в разрезе оттока')\n",
    "plt.xlabel('Баллы скоринга')\n",
    "plt.ylabel('Плотность')\n",
    "plt.legend(['уходят', 'остаются'])\n",
    "plt.grid()\n",
    "plt.show()"
   ]
  },
  {
   "cell_type": "markdown",
   "metadata": {},
   "source": [
    "У остающихся клиентов два пиковых значения - 810 и 900 баллов, у уходящих клиентов пик - 870 баллов, у большинства остающихся клиентов от 650 до 810 баллов, у большинства уходящих - от 830 до 900 баллов. "
   ]
  },
  {
   "cell_type": "code",
   "execution_count": 48,
   "metadata": {},
   "outputs": [
    {
     "data": {
      "image/png": "[encoded data removed]",
      "text/plain": [
       "<Figure size 1080x432 with 1 Axes>"
      ]
     },
     "metadata": {
      "needs_background": "light"
     },
     "output_type": "display_data"
    }
   ],
   "source": [
    "#создадим гистограмму по возрастам клиентов\n",
    "plt.figure(figsize=(15, 6))\n",
    "sns.histplot(data=data, x='age', hue='churn', stat='density', common_norm=False, kde=True) \n",
    "plt.title('Распределение возрастов клиентов в разрезе оттока')\n",
    "plt.xlabel('Возраст')\n",
    "plt.ylabel('Плотность')\n",
    "plt.legend(['уходят', 'остаются'])\n",
    "plt.grid()\n",
    "plt.show()"
   ]
  },
  {
   "cell_type": "markdown",
   "metadata": {},
   "source": [
    "Большинство уходящих клиентов находятся в возрастной группе от 25 до 35 и от 50 до 60, остающихся - от 35 до 50."
   ]
  },
  {
   "cell_type": "code",
   "execution_count": 49,
   "metadata": {},
   "outputs": [
    {
     "data": {
      "image/png": "[encoded data removed]",
      "text/plain": [
       "<Figure size 1080x432 with 1 Axes>"
      ]
     },
     "metadata": {
      "needs_background": "light"
     },
     "output_type": "display_data"
    }
   ],
   "source": [
    "#создадим гистограмму по балансу\n",
    "plt.figure(figsize=(15, 6))\n",
    "sns.histplot(data=data, x='balance', hue='churn', stat='density', common_norm=False, kde=True) \n",
    "plt.title('Распределение баланса в разрезе оттока')\n",
    "plt.xlabel('Баланс')\n",
    "plt.ylabel('Плотность')\n",
    "plt.legend(['уходят', 'остаются'])\n",
    "plt.grid()\n",
    "plt.show()"
   ]
  },
  {
   "cell_type": "markdown",
   "metadata": {},
   "source": [
    "В распределении есть выбросы, ограничим график по оси x до баланса в 3 000 000."
   ]
  },
  {
   "cell_type": "code",
   "execution_count": 50,
   "metadata": {},
   "outputs": [
    {
     "data": {
      "image/png": "[encoded data removed]",
      "text/plain": [
       "<Figure size 1080x432 with 1 Axes>"
      ]
     },
     "metadata": {
      "needs_background": "light"
     },
     "output_type": "display_data"
    }
   ],
   "source": [
    "#создадим гистограмму по балансу\n",
    "plt.figure(figsize=(15, 6))\n",
    "sns.histplot(data=data, x='balance', hue='churn', stat='density', common_norm=False, kde=True) \n",
    "plt.title('Распределение баланса в разрезе оттока')\n",
    "plt.xlabel('Баланс (млн)')\n",
    "plt.ylabel('Плотность')\n",
    "plt.xlim(0, 3000000)\n",
    "plt.legend(['уходят', 'остаются'])\n",
    "plt.grid()\n",
    "plt.show()"
   ]
  },
  {
   "cell_type": "markdown",
   "metadata": {},
   "source": [
    "Хвост все еще длинный, но теперь мы можем рассмотреть, что клиенты с низким балансом остаются в банке с большей вероятностью, чем клиенты с балансом выше 800 000."
   ]
  },
  {
   "cell_type": "code",
   "execution_count": 51,
   "metadata": {},
   "outputs": [
    {
     "data": {
      "image/png": "[encoded data removed]",
      "text/plain": [
       "<Figure size 1080x432 with 1 Axes>"
      ]
     },
     "metadata": {
      "needs_background": "light"
     },
     "output_type": "display_data"
    }
   ],
   "source": [
    "#создадим гистограмму по доходам\n",
    "plt.figure(figsize=(15, 6))\n",
    "sns.histplot(data=data, x='est_salary', hue='churn', stat='density', common_norm=False, kde=True) \n",
    "plt.title('Распределение среднемесячного дохода в разрезе оттока')\n",
    "plt.xlabel('Среднемесячный доход (млн)')\n",
    "plt.ylabel('Плотность')\n",
    "plt.legend(['уходят', 'остаются'])\n",
    "plt.grid()\n",
    "plt.show()"
   ]
  },
  {
   "cell_type": "markdown",
   "metadata": {},
   "source": [
    "Здесь также имеются выбросы, ограничим график по оси х до дохода в 500 000."
   ]
  },
  {
   "cell_type": "code",
   "execution_count": 52,
   "metadata": {},
   "outputs": [
    {
     "data": {
      "image/png": "[encoded data removed]",
      "text/plain": [
       "<Figure size 1080x432 with 1 Axes>"
      ]
     },
     "metadata": {
      "needs_background": "light"
     },
     "output_type": "display_data"
    }
   ],
   "source": [
    "#создадим гистограмму по доходам\n",
    "plt.figure(figsize=(15, 6))\n",
    "sns.histplot(data=data, x='est_salary', hue='churn', stat='density', common_norm=False, kde=True) \n",
    "plt.title('Распределение среднемесячного дохода в разрезе оттока')\n",
    "plt.xlabel('Среднемесячный доход')\n",
    "plt.ylabel('Плотность')\n",
    "plt.xlim(0, 500000)\n",
    "plt.legend(['уходят', 'остаются'])\n",
    "plt.grid()\n",
    "plt.show()"
   ]
  },
  {
   "cell_type": "markdown",
   "metadata": {},
   "source": [
    "Пик значений остающихся клиентов приходится на 90 000, у уходящих - на 120 000. Клиенты с балансом ниже 100 000, как правило, остаются, а клиенты с балансом выше 100 000 уходят из банка."
   ]
  },
  {
   "cell_type": "markdown",
   "metadata": {},
   "source": [
    "### Уровни оттока по категориям (по долям оттока, а не количеству)"
   ]
  },
  {
   "cell_type": "markdown",
   "metadata": {},
   "source": [
    "Так как рассмотрение категориальных переменных по количеству значений может привести к некорректной трактовке результатов, используем для анализа доли оттока."
   ]
  },
  {
   "cell_type": "code",
   "execution_count": 53,
   "metadata": {},
   "outputs": [
    {
     "data": {
      "text/html": [
       "<div>\n",
       "<style scoped>\n",
       "    .dataframe tbody tr th:only-of-type {\n",
       "        vertical-align: middle;\n",
       "    }\n",
       "\n",
       "    .dataframe tbody tr th {\n",
       "        vertical-align: top;\n",
       "    }\n",
       "\n",
       "    .dataframe thead th {\n",
       "        text-align: right;\n",
       "    }\n",
       "</style>\n",
       "<table border=\"1\" class=\"dataframe\">\n",
       "  <thead>\n",
       "    <tr style=\"text-align: right;\">\n",
       "      <th></th>\n",
       "      <th>city</th>\n",
       "      <th>sum</th>\n",
       "      <th>count</th>\n",
       "      <th>share</th>\n",
       "    </tr>\n",
       "  </thead>\n",
       "  <tbody>\n",
       "    <tr>\n",
       "      <th>0</th>\n",
       "      <td>Ростов</td>\n",
       "      <td>265</td>\n",
       "      <td>1416</td>\n",
       "      <td>18.71</td>\n",
       "    </tr>\n",
       "    <tr>\n",
       "      <th>1</th>\n",
       "      <td>Рыбинск</td>\n",
       "      <td>436</td>\n",
       "      <td>2653</td>\n",
       "      <td>16.43</td>\n",
       "    </tr>\n",
       "    <tr>\n",
       "      <th>2</th>\n",
       "      <td>Ярославль</td>\n",
       "      <td>1117</td>\n",
       "      <td>5854</td>\n",
       "      <td>19.08</td>\n",
       "    </tr>\n",
       "  </tbody>\n",
       "</table>\n",
       "</div>"
      ],
      "text/plain": [
       "        city   sum  count  share\n",
       "0     Ростов   265   1416  18.71\n",
       "1    Рыбинск   436   2653  16.43\n",
       "2  Ярославль  1117   5854  19.08"
      ]
     },
     "execution_count": 53,
     "metadata": {},
     "output_type": "execute_result"
    }
   ],
   "source": [
    "#создадим сводную таблицу по городам\n",
    "city_churn = data.pivot_table(index = 'city', values = 'churn', aggfunc=['sum', 'count']).reset_index()\n",
    "city_churn.columns = city_churn.columns.droplevel(level=1)\n",
    "city_churn['share'] = city_churn['sum'] / city_churn['count'] * 100\n",
    "city_churn"
   ]
  },
  {
   "cell_type": "code",
   "execution_count": 54,
   "metadata": {},
   "outputs": [
    {
     "data": {
      "image/png": "[encoded data removed]",
      "text/plain": [
       "<Figure size 864x432 with 1 Axes>"
      ]
     },
     "metadata": {
      "needs_background": "light"
     },
     "output_type": "display_data"
    }
   ],
   "source": [
    "#создадим столбчатую диаграмму по городам\n",
    "plt.figure(figsize=(12, 6))\n",
    "sns.barplot(x=city_churn.city, y=city_churn.share, color='skyblue') \n",
    "plt.title('Уровни оттока по городам')\n",
    "plt.xlabel('Город')\n",
    "plt.ylabel('Процент клиентов')\n",
    "plt.grid()\n",
    "plt.show()"
   ]
  },
  {
   "cell_type": "markdown",
   "metadata": {},
   "source": [
    "По количеству лидирует Ярославль (как областной центр), на него приходится больше 50% анализируемых клиентов банка, но, так как мы рассматриваем доли оттока, процентное соотношение уходящих клиентов в трех городах примерно равно - в Ростове 18.71%, в Рыбинске - 16.43%, в Ярославле 19.08% от общего количества клиентов из каждого города. "
   ]
  },
  {
   "cell_type": "code",
   "execution_count": 55,
   "metadata": {},
   "outputs": [
    {
     "data": {
      "text/html": [
       "<div>\n",
       "<style scoped>\n",
       "    .dataframe tbody tr th:only-of-type {\n",
       "        vertical-align: middle;\n",
       "    }\n",
       "\n",
       "    .dataframe tbody tr th {\n",
       "        vertical-align: top;\n",
       "    }\n",
       "\n",
       "    .dataframe thead th {\n",
       "        text-align: right;\n",
       "    }\n",
       "</style>\n",
       "<table border=\"1\" class=\"dataframe\">\n",
       "  <thead>\n",
       "    <tr style=\"text-align: right;\">\n",
       "      <th></th>\n",
       "      <th>gender</th>\n",
       "      <th>sum</th>\n",
       "      <th>count</th>\n",
       "      <th>share</th>\n",
       "    </tr>\n",
       "  </thead>\n",
       "  <tbody>\n",
       "    <tr>\n",
       "      <th>0</th>\n",
       "      <td>Ж</td>\n",
       "      <td>635</td>\n",
       "      <td>4952</td>\n",
       "      <td>12.82</td>\n",
       "    </tr>\n",
       "    <tr>\n",
       "      <th>1</th>\n",
       "      <td>М</td>\n",
       "      <td>1183</td>\n",
       "      <td>4971</td>\n",
       "      <td>23.80</td>\n",
       "    </tr>\n",
       "  </tbody>\n",
       "</table>\n",
       "</div>"
      ],
      "text/plain": [
       "  gender   sum  count  share\n",
       "0      Ж   635   4952  12.82\n",
       "1      М  1183   4971  23.80"
      ]
     },
     "execution_count": 55,
     "metadata": {},
     "output_type": "execute_result"
    }
   ],
   "source": [
    "#создадим сводную таблицу по полу\n",
    "gender_churn = data.pivot_table(index = 'gender', values = 'churn', aggfunc=['sum', 'count']).reset_index()\n",
    "gender_churn.columns = gender_churn.columns.droplevel(level=1)\n",
    "gender_churn['share'] = gender_churn['sum'] / gender_churn['count'] * 100\n",
    "gender_churn"
   ]
  },
  {
   "cell_type": "code",
   "execution_count": 56,
   "metadata": {},
   "outputs": [
    {
     "data": {
      "image/png": "[encoded data removed]",
      "text/plain": [
       "<Figure size 864x432 with 1 Axes>"
      ]
     },
     "metadata": {
      "needs_background": "light"
     },
     "output_type": "display_data"
    }
   ],
   "source": [
    "#создадим столбчатую диаграмму по полу\n",
    "plt.figure(figsize=(12, 6))\n",
    "sns.barplot(x=gender_churn.gender, y=gender_churn.share, color='skyblue') \n",
    "plt.title('Уровни оттока по полу клиентов')\n",
    "plt.xlabel('Пол')\n",
    "plt.ylabel('Процент клиентов')\n",
    "plt.grid()\n",
    "plt.show()"
   ]
  },
  {
   "cell_type": "markdown",
   "metadata": {},
   "source": [
    "Всего женщин и мужчин примерно одинаковое количество, но среди уходящих клиентов процент женщин составляет 12.82% от общего числа женщин, а процент мужчин - 23.8% от общего числа мужчин. Видимо, мужчинам банк нравится меньше."
   ]
  },
  {
   "cell_type": "code",
   "execution_count": 57,
   "metadata": {},
   "outputs": [
    {
     "data": {
      "text/html": [
       "<div>\n",
       "<style scoped>\n",
       "    .dataframe tbody tr th:only-of-type {\n",
       "        vertical-align: middle;\n",
       "    }\n",
       "\n",
       "    .dataframe tbody tr th {\n",
       "        vertical-align: top;\n",
       "    }\n",
       "\n",
       "    .dataframe thead th {\n",
       "        text-align: right;\n",
       "    }\n",
       "</style>\n",
       "<table border=\"1\" class=\"dataframe\">\n",
       "  <thead>\n",
       "    <tr style=\"text-align: right;\">\n",
       "      <th></th>\n",
       "      <th>equity</th>\n",
       "      <th>sum</th>\n",
       "      <th>count</th>\n",
       "      <th>share</th>\n",
       "    </tr>\n",
       "  </thead>\n",
       "  <tbody>\n",
       "    <tr>\n",
       "      <th>0</th>\n",
       "      <td>0</td>\n",
       "      <td>90</td>\n",
       "      <td>2554</td>\n",
       "      <td>3.52</td>\n",
       "    </tr>\n",
       "    <tr>\n",
       "      <th>1</th>\n",
       "      <td>1</td>\n",
       "      <td>93</td>\n",
       "      <td>771</td>\n",
       "      <td>12.06</td>\n",
       "    </tr>\n",
       "    <tr>\n",
       "      <th>2</th>\n",
       "      <td>2</td>\n",
       "      <td>166</td>\n",
       "      <td>1046</td>\n",
       "      <td>15.87</td>\n",
       "    </tr>\n",
       "    <tr>\n",
       "      <th>3</th>\n",
       "      <td>3</td>\n",
       "      <td>321</td>\n",
       "      <td>1531</td>\n",
       "      <td>20.97</td>\n",
       "    </tr>\n",
       "    <tr>\n",
       "      <th>4</th>\n",
       "      <td>4</td>\n",
       "      <td>464</td>\n",
       "      <td>1841</td>\n",
       "      <td>25.20</td>\n",
       "    </tr>\n",
       "    <tr>\n",
       "      <th>5</th>\n",
       "      <td>5</td>\n",
       "      <td>576</td>\n",
       "      <td>1910</td>\n",
       "      <td>30.16</td>\n",
       "    </tr>\n",
       "    <tr>\n",
       "      <th>6</th>\n",
       "      <td>6</td>\n",
       "      <td>58</td>\n",
       "      <td>161</td>\n",
       "      <td>36.02</td>\n",
       "    </tr>\n",
       "    <tr>\n",
       "      <th>7</th>\n",
       "      <td>7</td>\n",
       "      <td>37</td>\n",
       "      <td>79</td>\n",
       "      <td>46.84</td>\n",
       "    </tr>\n",
       "    <tr>\n",
       "      <th>8</th>\n",
       "      <td>8</td>\n",
       "      <td>6</td>\n",
       "      <td>17</td>\n",
       "      <td>35.29</td>\n",
       "    </tr>\n",
       "    <tr>\n",
       "      <th>9</th>\n",
       "      <td>9</td>\n",
       "      <td>7</td>\n",
       "      <td>13</td>\n",
       "      <td>53.85</td>\n",
       "    </tr>\n",
       "  </tbody>\n",
       "</table>\n",
       "</div>"
      ],
      "text/plain": [
       "   equity  sum  count  share\n",
       "0       0   90   2554   3.52\n",
       "1       1   93    771  12.06\n",
       "2       2  166   1046  15.87\n",
       "3       3  321   1531  20.97\n",
       "4       4  464   1841  25.20\n",
       "5       5  576   1910  30.16\n",
       "6       6   58    161  36.02\n",
       "7       7   37     79  46.84\n",
       "8       8    6     17  35.29\n",
       "9       9    7     13  53.85"
      ]
     },
     "execution_count": 57,
     "metadata": {},
     "output_type": "execute_result"
    }
   ],
   "source": [
    "#создадим сводную таблицу по баллам собственности\n",
    "equity_churn = data.pivot_table(index = 'equity', values = 'churn', aggfunc=['sum', 'count']).reset_index()\n",
    "equity_churn.columns = equity_churn.columns.droplevel(level=1)\n",
    "equity_churn['share'] = equity_churn['sum'] / equity_churn['count'] * 100\n",
    "equity_churn"
   ]
  },
  {
   "cell_type": "code",
   "execution_count": 58,
   "metadata": {},
   "outputs": [
    {
     "data": {
      "image/png": "[encoded data removed]",
      "text/plain": [
       "<Figure size 864x432 with 1 Axes>"
      ]
     },
     "metadata": {
      "needs_background": "light"
     },
     "output_type": "display_data"
    }
   ],
   "source": [
    "#создадим столбчатую диаграмму по объектам собственности\n",
    "plt.figure(figsize=(12, 6))\n",
    "sns.barplot(x=equity_churn.equity, y=equity_churn.share, color='skyblue') \n",
    "plt.title('Уровни оттока по количеству баллов собственности')\n",
    "plt.xlabel('Количество баллов собственности')\n",
    "plt.ylabel('Процент клиентов')\n",
    "plt.grid()\n",
    "plt.show()"
   ]
  },
  {
   "cell_type": "markdown",
   "metadata": {},
   "source": [
    "Наглядно видно, что чем больше у клиента объектов в собственности, тем с большей вероятностью клиент окажется среди уходящих. Клиентов с 8 и 9 баллами в банке мало, но даже если не учитывать их, рост заметен."
   ]
  },
  {
   "cell_type": "code",
   "execution_count": 59,
   "metadata": {},
   "outputs": [
    {
     "data": {
      "text/html": [
       "<div>\n",
       "<style scoped>\n",
       "    .dataframe tbody tr th:only-of-type {\n",
       "        vertical-align: middle;\n",
       "    }\n",
       "\n",
       "    .dataframe tbody tr th {\n",
       "        vertical-align: top;\n",
       "    }\n",
       "\n",
       "    .dataframe thead th {\n",
       "        text-align: right;\n",
       "    }\n",
       "</style>\n",
       "<table border=\"1\" class=\"dataframe\">\n",
       "  <thead>\n",
       "    <tr style=\"text-align: right;\">\n",
       "      <th></th>\n",
       "      <th>products</th>\n",
       "      <th>sum</th>\n",
       "      <th>count</th>\n",
       "      <th>share</th>\n",
       "    </tr>\n",
       "  </thead>\n",
       "  <tbody>\n",
       "    <tr>\n",
       "      <th>0</th>\n",
       "      <td>1</td>\n",
       "      <td>235</td>\n",
       "      <td>3306</td>\n",
       "      <td>7.11</td>\n",
       "    </tr>\n",
       "    <tr>\n",
       "      <th>1</th>\n",
       "      <td>2</td>\n",
       "      <td>978</td>\n",
       "      <td>5095</td>\n",
       "      <td>19.20</td>\n",
       "    </tr>\n",
       "    <tr>\n",
       "      <th>2</th>\n",
       "      <td>3</td>\n",
       "      <td>297</td>\n",
       "      <td>1029</td>\n",
       "      <td>28.86</td>\n",
       "    </tr>\n",
       "    <tr>\n",
       "      <th>3</th>\n",
       "      <td>4</td>\n",
       "      <td>300</td>\n",
       "      <td>474</td>\n",
       "      <td>63.29</td>\n",
       "    </tr>\n",
       "    <tr>\n",
       "      <th>4</th>\n",
       "      <td>5</td>\n",
       "      <td>8</td>\n",
       "      <td>19</td>\n",
       "      <td>42.11</td>\n",
       "    </tr>\n",
       "  </tbody>\n",
       "</table>\n",
       "</div>"
      ],
      "text/plain": [
       "   products  sum  count  share\n",
       "0         1  235   3306   7.11\n",
       "1         2  978   5095  19.20\n",
       "2         3  297   1029  28.86\n",
       "3         4  300    474  63.29\n",
       "4         5    8     19  42.11"
      ]
     },
     "execution_count": 59,
     "metadata": {},
     "output_type": "execute_result"
    }
   ],
   "source": [
    "#создадим сводную таблицу по количеству продуктов\n",
    "products_churn = data.pivot_table(index = 'products', values = 'churn', aggfunc=['sum', 'count']).reset_index()\n",
    "products_churn.columns = products_churn.columns.droplevel(level=1)\n",
    "products_churn['share'] = products_churn['sum'] / products_churn['count'] * 100\n",
    "products_churn"
   ]
  },
  {
   "cell_type": "code",
   "execution_count": 60,
   "metadata": {},
   "outputs": [
    {
     "data": {
      "image/png": "[encoded data removed]",
      "text/plain": [
       "<Figure size 864x432 with 1 Axes>"
      ]
     },
     "metadata": {
      "needs_background": "light"
     },
     "output_type": "display_data"
    }
   ],
   "source": [
    "#создадим столбчатую диаграмму по количеству продуктов\n",
    "plt.figure(figsize=(12, 6))\n",
    "sns.barplot(x=products_churn.products, y=products_churn.share, color='skyblue') \n",
    "plt.title('Уровни оттока по количеству продуктов, используемых клиентом')\n",
    "plt.xlabel('Количество продуктов')\n",
    "plt.ylabel('Процент клиентов')\n",
    "plt.grid()\n",
    "plt.show()"
   ]
  },
  {
   "cell_type": "markdown",
   "metadata": {},
   "source": [
    "И здесь видим: чем большим количеством продуктов банка пользуется клиент, тем вероятнее окажется в проценте уходящих. Больше всего уходящих клиентов с четырьмя продуктами."
   ]
  },
  {
   "cell_type": "code",
   "execution_count": 61,
   "metadata": {},
   "outputs": [
    {
     "data": {
      "text/html": [
       "<div>\n",
       "<style scoped>\n",
       "    .dataframe tbody tr th:only-of-type {\n",
       "        vertical-align: middle;\n",
       "    }\n",
       "\n",
       "    .dataframe tbody tr th {\n",
       "        vertical-align: top;\n",
       "    }\n",
       "\n",
       "    .dataframe thead th {\n",
       "        text-align: right;\n",
       "    }\n",
       "</style>\n",
       "<table border=\"1\" class=\"dataframe\">\n",
       "  <thead>\n",
       "    <tr style=\"text-align: right;\">\n",
       "      <th></th>\n",
       "      <th>credit_card</th>\n",
       "      <th>sum</th>\n",
       "      <th>count</th>\n",
       "      <th>share</th>\n",
       "    </tr>\n",
       "  </thead>\n",
       "  <tbody>\n",
       "    <tr>\n",
       "      <th>0</th>\n",
       "      <td>нет карты</td>\n",
       "      <td>815</td>\n",
       "      <td>3175</td>\n",
       "      <td>25.67</td>\n",
       "    </tr>\n",
       "    <tr>\n",
       "      <th>1</th>\n",
       "      <td>есть карта</td>\n",
       "      <td>1003</td>\n",
       "      <td>6748</td>\n",
       "      <td>14.86</td>\n",
       "    </tr>\n",
       "  </tbody>\n",
       "</table>\n",
       "</div>"
      ],
      "text/plain": [
       "  credit_card   sum  count  share\n",
       "0   нет карты   815   3175  25.67\n",
       "1  есть карта  1003   6748  14.86"
      ]
     },
     "execution_count": 61,
     "metadata": {},
     "output_type": "execute_result"
    }
   ],
   "source": [
    "#создадим сводную таблицу по наличию кредитной карты\n",
    "card_churn = data.pivot_table(index = 'credit_card', values = 'churn', aggfunc=['sum', 'count']).reset_index()\n",
    "card_churn.columns = card_churn.columns.droplevel(level=1)\n",
    "card_churn['share'] = card_churn['sum'] / card_churn['count'] * 100\n",
    "card_churn['credit_card'].replace({False: 'нет карты', True: 'есть карта'}, inplace=True)\n",
    "card_churn"
   ]
  },
  {
   "cell_type": "code",
   "execution_count": 62,
   "metadata": {},
   "outputs": [
    {
     "data": {
      "image/png": "[encoded data removed]",
      "text/plain": [
       "<Figure size 864x432 with 1 Axes>"
      ]
     },
     "metadata": {
      "needs_background": "light"
     },
     "output_type": "display_data"
    }
   ],
   "source": [
    "#создадим столбчатую диаграмму по наличию кредитной карты\n",
    "plt.figure(figsize=(12, 6))\n",
    "sns.barplot(x=card_churn.credit_card, y=card_churn.share, color='skyblue') \n",
    "plt.title('Уровни оттока по наличию кредитной карты у клиента')\n",
    "plt.xlabel('Наличие кредитной карты')\n",
    "plt.ylabel('Процент клиентов')\n",
    "plt.grid()\n",
    "plt.show()"
   ]
  },
  {
   "cell_type": "markdown",
   "metadata": {},
   "source": [
    "А вот наличие кредитной карты наоборот делает клиента более лояльным. Процент уходящих клиентов без карты 25.67%, а с картой всего 14.86%."
   ]
  },
  {
   "cell_type": "code",
   "execution_count": 63,
   "metadata": {},
   "outputs": [
    {
     "data": {
      "text/html": [
       "<div>\n",
       "<style scoped>\n",
       "    .dataframe tbody tr th:only-of-type {\n",
       "        vertical-align: middle;\n",
       "    }\n",
       "\n",
       "    .dataframe tbody tr th {\n",
       "        vertical-align: top;\n",
       "    }\n",
       "\n",
       "    .dataframe thead th {\n",
       "        text-align: right;\n",
       "    }\n",
       "</style>\n",
       "<table border=\"1\" class=\"dataframe\">\n",
       "  <thead>\n",
       "    <tr style=\"text-align: right;\">\n",
       "      <th></th>\n",
       "      <th>last_activity</th>\n",
       "      <th>sum</th>\n",
       "      <th>count</th>\n",
       "      <th>share</th>\n",
       "    </tr>\n",
       "  </thead>\n",
       "  <tbody>\n",
       "    <tr>\n",
       "      <th>0</th>\n",
       "      <td>неактивные</td>\n",
       "      <td>541</td>\n",
       "      <td>4729</td>\n",
       "      <td>11.44</td>\n",
       "    </tr>\n",
       "    <tr>\n",
       "      <th>1</th>\n",
       "      <td>активные</td>\n",
       "      <td>1277</td>\n",
       "      <td>5194</td>\n",
       "      <td>24.59</td>\n",
       "    </tr>\n",
       "  </tbody>\n",
       "</table>\n",
       "</div>"
      ],
      "text/plain": [
       "  last_activity   sum  count  share\n",
       "0    неактивные   541   4729  11.44\n",
       "1      активные  1277   5194  24.59"
      ]
     },
     "execution_count": 63,
     "metadata": {},
     "output_type": "execute_result"
    }
   ],
   "source": [
    "#создадим сводную таблицу по активности клиента\n",
    "activity_churn = data.pivot_table(index = 'last_activity', values = 'churn', aggfunc=['sum', 'count']).reset_index()\n",
    "activity_churn.columns = activity_churn.columns.droplevel(level=1)\n",
    "activity_churn['share'] = activity_churn['sum'] / activity_churn['count'] * 100\n",
    "activity_churn['last_activity'].replace({False: 'неактивные', True: 'активные'}, inplace=True)\n",
    "activity_churn"
   ]
  },
  {
   "cell_type": "code",
   "execution_count": 64,
   "metadata": {},
   "outputs": [
    {
     "data": {
      "image/png": "[encoded data removed]",
      "text/plain": [
       "<Figure size 864x432 with 1 Axes>"
      ]
     },
     "metadata": {
      "needs_background": "light"
     },
     "output_type": "display_data"
    }
   ],
   "source": [
    "#создадим столбчатую диаграмму по активности клиента\n",
    "plt.figure(figsize=(12, 6))\n",
    "sns.barplot(x=activity_churn.last_activity, y=activity_churn.share, color='skyblue') \n",
    "plt.title('Уровни оттока по активности клиента')\n",
    "plt.xlabel('Клиент активен')\n",
    "plt.ylabel('Процент клиентов')\n",
    "plt.grid()\n",
    "plt.show()"
   ]
  },
  {
   "cell_type": "markdown",
   "metadata": {},
   "source": [
    "Процент уходящих неактивных клиентов 11.44%, а активных - 24.59%. Возможно, некоторые клиенты открывают вклады на долгий срок и не пользуются другими услугами банка, а у других клиентов по 3-4 продукта, которыми они регулярно пользуются, но остаются недовольны."
   ]
  },
  {
   "cell_type": "markdown",
   "metadata": {},
   "source": [
    "### Корреляционный анализ"
   ]
  },
  {
   "cell_type": "markdown",
   "metadata": {},
   "source": [
    "Составим тепловую карту для поиска корреляции между оттоком и другими признаками."
   ]
  },
  {
   "cell_type": "code",
   "execution_count": 65,
   "metadata": {},
   "outputs": [
    {
     "data": {
      "image/png": "[encoded data removed]",
      "text/plain": [
       "<Figure size 1080x432 with 2 Axes>"
      ]
     },
     "metadata": {
      "needs_background": "light"
     },
     "output_type": "display_data"
    }
   ],
   "source": [
    "churn_correlation = data[['score', 'age', 'balance', 'equity', 'products', 'credit_card', 'last_activity', 'est_salary', \n",
    "                          'churn', 'rostov', 'rybinsk', 'yaroslavl', 'female', 'male']]\n",
    "plt.figure(figsize=(15, 6))\n",
    "sns.heatmap(churn_correlation.corr(), annot=True, center=0, cmap='coolwarm')\n",
    "plt.show()"
   ]
  },
  {
   "cell_type": "code",
   "execution_count": 66,
   "metadata": {},
   "outputs": [
    {
     "data": {
      "image/png": "[encoded data removed]",
      "text/plain": [
       "<Figure size 864x432 with 2 Axes>"
      ]
     },
     "metadata": {
      "needs_background": "light"
     },
     "output_type": "display_data"
    }
   ],
   "source": [
    "plt.figure(figsize=(12, 6))\n",
    "sns.heatmap(\n",
    "    churn_correlation.corr().loc[:, ['churn']].drop('churn').sort_values('churn'), \n",
    "    annot=True, fmt=\".0%\", cmap=\"vlag\", center=0)\n",
    "plt.show()"
   ]
  },
  {
   "cell_type": "markdown",
   "metadata": {},
   "source": [
    "Линейной зависимости между оттоком и другими признаками не наблюдается. Связь есть между оттоком и количеством баллов в собственности (0.27), и оттком и количеством продуктов (0.3), но коэффициент слишком низкий, т.е. в некоторых случаях зависимость будет проявляться, а в некоторых - нет.  \n",
    "Есть слабая зависимость между балансом и доходом (0.34) и количеством баллов собсвтенности и количеством продуктов (0.43), но даже эти коэффициенты не близки к единице, а значит слишком низкие."
   ]
  },
  {
   "cell_type": "markdown",
   "metadata": {},
   "source": [
    "### Выводы"
   ]
  },
  {
   "cell_type": "markdown",
   "metadata": {},
   "source": [
    "На этапе исследовательского анализа данных мы сравнили портреты клиентов и выяснили, что среднестатистический клиент Метанпромбанка - мужчина в возрасте около 40 лет из Ярославля имеет около 850 быллов кредитного скоринга и 3 объекта в собственности, пользуется 2 продуктами банка, имеет баланс от 500 000 до 800 000 и ежемесячный доход от 119 000 до 148 000.  \n",
    "Многие величины имеют нормальное распределение, в балансе и доходах есть выбросы.  \n",
    "У уходящих клиентов скоринговый балл от 830 до 900, возраст от 25 до 35 и от 50 до 60, баланс 800000 и выше, среднемесячный доход около 120000. В Ярославле и Ростове доля уходящих клиентов выше (19.08% и 18.71% соответственно), мужчины (23.9%) уходят чаще, чем женщины (12.82%), также чаще уходят клиенты с большим числом объектов собственности (46.84% с семью объектами) и используемых продуктов (63.29% с четырьмя продуктами). Наличие кредитной карты положительно влияет на лояльность клиентов: процент уходящих клиентов без карты 25.67%, а с картой - 14.86%. Процент уходящих неактивных клиентов 11.44%, а активных - 24.59%.  \n",
    "Линейной зависимости между оттоком и другими признаками не наблюдается. "
   ]
  },
  {
   "cell_type": "markdown",
   "metadata": {},
   "source": [
    "## Статистический анализ данных"
   ]
  },
  {
   "cell_type": "markdown",
   "metadata": {},
   "source": [
    "Подготовим данные для проверки гипотез"
   ]
  },
  {
   "cell_type": "code",
   "execution_count": 67,
   "metadata": {},
   "outputs": [],
   "source": [
    "#создадим срезы с данными по остающимся и уходящим клиентам \n",
    "churn_0 = data.query('churn == 0') #остающиеся\n",
    "churn_1 = data.query('churn == 1') #уходящие"
   ]
  },
  {
   "cell_type": "markdown",
   "metadata": {},
   "source": [
    "### Проверка гипотезы о различии дохода между клиентами, которые ушли и клиентами, которые остались"
   ]
  },
  {
   "cell_type": "markdown",
   "metadata": {},
   "source": [
    "Нулевая гипотеза: средние доходы оставшихся и уходящих клиентов равны.   \n",
    "Альтернативная гипотеза: средние доходы оставшихся и уходящих клиентов не равны.   "
   ]
  },
  {
   "cell_type": "markdown",
   "metadata": {},
   "source": [
    "Для проверки распределения на нормальность применим критерий Шапиро-Уилка."
   ]
  },
  {
   "cell_type": "code",
   "execution_count": 68,
   "metadata": {},
   "outputs": [
    {
     "name": "stdout",
     "output_type": "stream",
     "text": [
      "p-значение:  0.0\n",
      "Отвергаем нулевую гипотезу: распределение не нормально\n"
     ]
    }
   ],
   "source": [
    "alpha = 0.05  # критический уровень статистической значимости\n",
    "\n",
    "results = st.shapiro(churn_0['est_salary'])\n",
    "p_value = results[1]  # второе значение в массиве результатов (с индексом 1) - p-value\n",
    "\n",
    "print('p-значение: ', p_value)\n",
    "\n",
    "if p_value < alpha:\n",
    "    print('Отвергаем нулевую гипотезу: распределение не нормально')\n",
    "else:\n",
    "    print('Не получилось отвергнуть нулевую гипотезу, всё нормально') "
   ]
  },
  {
   "cell_type": "code",
   "execution_count": 69,
   "metadata": {},
   "outputs": [
    {
     "name": "stdout",
     "output_type": "stream",
     "text": [
      "p-значение:  0.0\n",
      "Отвергаем нулевую гипотезу: распределение не нормально\n"
     ]
    }
   ],
   "source": [
    "alpha = 0.05  # критический уровень статистической значимости\n",
    "\n",
    "results = st.shapiro(churn_1['est_salary'])\n",
    "p_value = results[1]  # второе значение в массиве результатов (с индексом 1) - p-value\n",
    "\n",
    "print('p-значение: ', p_value)\n",
    "\n",
    "if p_value < alpha:\n",
    "    print('Отвергаем нулевую гипотезу: распределение не нормально')\n",
    "else:\n",
    "    print('Не получилось отвергнуть нулевую гипотезу, всё нормально') "
   ]
  },
  {
   "cell_type": "markdown",
   "metadata": {},
   "source": [
    "Оба распределения не нормальны. Проверим размеры и дисперсии выборок."
   ]
  },
  {
   "cell_type": "code",
   "execution_count": 70,
   "metadata": {},
   "outputs": [
    {
     "name": "stdout",
     "output_type": "stream",
     "text": [
      "Размер выборки остающихся клиентов:  8105\n",
      "Размер выборки уходящих клиентов:  1818\n",
      "Дисперсия выборки остающихся клиентов:  20389608052.585316\n",
      "Дисперсия выборки уходящих клиентов:  15112272166.883385\n"
     ]
    }
   ],
   "source": [
    "print('Размер выборки остающихся клиентов: ', len(churn_0['est_salary']))\n",
    "print('Размер выборки уходящих клиентов: ', len(churn_1['est_salary']))\n",
    "\n",
    "print('Дисперсия выборки остающихся клиентов: ', churn_0['est_salary'].var())\n",
    "print('Дисперсия выборки уходящих клиентов: ', churn_1['est_salary'].var())"
   ]
  },
  {
   "cell_type": "markdown",
   "metadata": {},
   "source": [
    "Используем t-test для двух независимых выборок и укажем equal_var=False, т.к. дисперсии не равны. Не нормальное распределение - не проблема для t-test, т.к. центральная предельная теорема гласит, что выборочные средние будут нормально распределены вокруг настоящего среднего генеральной совокупности (а пропорции, взятые из выборок - вокруг пропорции). Это верно и для распределений, содержащих сильные выбросы. "
   ]
  },
  {
   "cell_type": "code",
   "execution_count": 71,
   "metadata": {},
   "outputs": [
    {
     "name": "stdout",
     "output_type": "stream",
     "text": [
      "p-значение: 0.8626784591490475\n",
      "Не получилось отвергнуть нулевую гипотезу\n"
     ]
    }
   ],
   "source": [
    "alpha = 0.05 #уровень статистической значимости\n",
    "#проверяем гипотезу о равенстве средних двух генеральных совокупностей\n",
    "results = st.ttest_ind (\n",
    "    churn_0['est_salary'],\n",
    "    churn_1['est_salary'], equal_var=False)\n",
    "print('p-значение:', results.pvalue)\n",
    "if results.pvalue < alpha:\n",
    "    print('Отвергаем нулевую гипотезу')\n",
    "else:\n",
    "    print('Не получилось отвергнуть нулевую гипотезу')"
   ]
  },
  {
   "cell_type": "markdown",
   "metadata": {},
   "source": [
    "Нулевая гипотеза не была отвергнута, следовательно, средние доходы оставшихся и уходящих клиентов равны."
   ]
  },
  {
   "cell_type": "markdown",
   "metadata": {},
   "source": [
    "Проверим эту же гипотезу, используя u-критерий Манна-Уитни"
   ]
  },
  {
   "cell_type": "code",
   "execution_count": 72,
   "metadata": {},
   "outputs": [
    {
     "name": "stdout",
     "output_type": "stream",
     "text": [
      "p-значение: 0.00020329119363804673\n",
      "Отвергаем нулевую гипотезу\n"
     ]
    }
   ],
   "source": [
    "alpha = 0.05 #уровень статистической значимости\n",
    "#проверяем гипотезу о равенстве средних двух генеральных совокупностей\n",
    "results = st.mannwhitneyu(\n",
    "    churn_0['est_salary'],\n",
    "    churn_1['est_salary'])\n",
    "print('p-значение:', results.pvalue)\n",
    "if results.pvalue < alpha:\n",
    "    print('Отвергаем нулевую гипотезу')\n",
    "else:\n",
    "    print('Не получилось отвергнуть нулевую гипотезу')"
   ]
  },
  {
   "cell_type": "markdown",
   "metadata": {},
   "source": [
    "Нулевая гипотеза была отвергнута, следовательно, средние доходы оставшихся и уходящих клиентов не равны."
   ]
  },
  {
   "cell_type": "markdown",
   "metadata": {},
   "source": [
    "Значения тестов расходятся, ограничим выбросы в данных и проведем тесты снова. "
   ]
  },
  {
   "cell_type": "code",
   "execution_count": 73,
   "metadata": {},
   "outputs": [
    {
     "data": {
      "text/plain": [
       "count       8105.00\n",
       "mean      147788.27\n",
       "std       142792.18\n",
       "min         2546.30\n",
       "25%        73489.66\n",
       "50%       118247.25\n",
       "75%       174087.83\n",
       "max      1395064.45\n",
       "Name: est_salary, dtype: float64"
      ]
     },
     "execution_count": 73,
     "metadata": {},
     "output_type": "execute_result"
    }
   ],
   "source": [
    "#выведем числовое описание данных по остающимся клиентам\n",
    "churn_0['est_salary'].describe()"
   ]
  },
  {
   "cell_type": "code",
   "execution_count": 74,
   "metadata": {},
   "outputs": [
    {
     "data": {
      "image/png": "[encoded data removed]",
      "text/plain": [
       "<Figure size 432x288 with 1 Axes>"
      ]
     },
     "metadata": {
      "needs_background": "light"
     },
     "output_type": "display_data"
    }
   ],
   "source": [
    "#выведем диаграмму размаха\n",
    "churn_0.boxplot('est_salary') \n",
    "plt.title('Среднемесячный доход остающихся клиентов')\n",
    "plt.ylabel('Доход (млн)')\n",
    "plt.xticks([])\n",
    "plt.show()"
   ]
  },
  {
   "cell_type": "code",
   "execution_count": 75,
   "metadata": {},
   "outputs": [
    {
     "data": {
      "image/png": "[encoded data removed]",
      "text/plain": [
       "<Figure size 432x288 with 1 Axes>"
      ]
     },
     "metadata": {
      "needs_background": "light"
     },
     "output_type": "display_data"
    }
   ],
   "source": [
    "#выведем гистограмму\n",
    "churn_0.hist('est_salary')\n",
    "plt.title('Среднемесячный доход остающихся клиентов')\n",
    "plt.ylabel('Количество клиентов')\n",
    "plt.xlabel('Доход (млн)')\n",
    "plt.show()"
   ]
  },
  {
   "cell_type": "code",
   "execution_count": 76,
   "metadata": {},
   "outputs": [
    {
     "data": {
      "image/png": "[encoded data removed]",
      "text/plain": [
       "<Figure size 432x288 with 1 Axes>"
      ]
     },
     "metadata": {
      "needs_background": "light"
     },
     "output_type": "display_data"
    }
   ],
   "source": [
    "#выведем еще одну гистограмму, увеличив число корзин, и ограничив график по оси x\n",
    "churn_0.hist('est_salary', bins=50, range= (0, 400000))\n",
    "plt.title('Среднемесячный доход остающихся клиентов')\n",
    "plt.ylabel('Количество клиентов')\n",
    "plt.xlabel('Доход (млн)')\n",
    "plt.show()"
   ]
  },
  {
   "cell_type": "markdown",
   "metadata": {},
   "source": [
    "Максимальное значение по описанию данных - 1 395 064. По диаграмме размаха и гистограмме видно, что выбросы начинаются на 300 000. Создадим срез, установив 300 000 верхним порогом дохода."
   ]
  },
  {
   "cell_type": "code",
   "execution_count": 77,
   "metadata": {},
   "outputs": [
    {
     "data": {
      "text/plain": [
       "count      7639.00\n",
       "mean     120566.64\n",
       "std       63356.27\n",
       "min        2546.30\n",
       "25%       71194.62\n",
       "50%      112870.32\n",
       "75%      162594.21\n",
       "max      299874.88\n",
       "Name: est_salary, dtype: float64"
      ]
     },
     "execution_count": 77,
     "metadata": {},
     "output_type": "execute_result"
    }
   ],
   "source": [
    "churn_0 = churn_0.query('est_salary <= 300000')\n",
    "#проверим срез\n",
    "churn_0['est_salary'].describe()"
   ]
  },
  {
   "cell_type": "markdown",
   "metadata": {},
   "source": [
    "Проделаем то же самое для уходящих клиентов"
   ]
  },
  {
   "cell_type": "code",
   "execution_count": 78,
   "metadata": {},
   "outputs": [
    {
     "data": {
      "text/plain": [
       "count       1818.00\n",
       "mean      148357.48\n",
       "std       122931.98\n",
       "min        10880.27\n",
       "25%        83285.66\n",
       "50%       125408.88\n",
       "75%       176017.84\n",
       "max      1263028.49\n",
       "Name: est_salary, dtype: float64"
      ]
     },
     "execution_count": 78,
     "metadata": {},
     "output_type": "execute_result"
    }
   ],
   "source": [
    "#выведем числовое описание данных по уходящим клиентам\n",
    "churn_1['est_salary'].describe()"
   ]
  },
  {
   "cell_type": "code",
   "execution_count": 79,
   "metadata": {},
   "outputs": [
    {
     "data": {
      "image/png": "[encoded data removed]",
      "text/plain": [
       "<Figure size 432x288 with 1 Axes>"
      ]
     },
     "metadata": {
      "needs_background": "light"
     },
     "output_type": "display_data"
    }
   ],
   "source": [
    "#выведем диаграмму размаха\n",
    "churn_1.boxplot('est_salary') \n",
    "plt.title('Среднемесячный доход уходящих клиентов')\n",
    "plt.ylabel('Доход (млн)')\n",
    "plt.xticks([])\n",
    "plt.show()"
   ]
  },
  {
   "cell_type": "code",
   "execution_count": 80,
   "metadata": {},
   "outputs": [
    {
     "data": {
      "image/png": "[encoded data removed]",
      "text/plain": [
       "<Figure size 432x288 with 1 Axes>"
      ]
     },
     "metadata": {
      "needs_background": "light"
     },
     "output_type": "display_data"
    }
   ],
   "source": [
    "#выведем гистограмму\n",
    "churn_1.hist('est_salary')\n",
    "plt.title('Среднемесячный доход уходящих клиентов')\n",
    "plt.ylabel('Количество клиентов')\n",
    "plt.xlabel('Доход (млн)')\n",
    "plt.show()"
   ]
  },
  {
   "cell_type": "code",
   "execution_count": 81,
   "metadata": {},
   "outputs": [
    {
     "data": {
      "image/png": "[encoded data removed]",
      "text/plain": [
       "<Figure size 432x288 with 1 Axes>"
      ]
     },
     "metadata": {
      "needs_background": "light"
     },
     "output_type": "display_data"
    }
   ],
   "source": [
    "#выведем еще одну гистограмму, увеличив число корзин, и ограничив график по оси x\n",
    "churn_0.hist('est_salary', bins=50, range= (0, 400000))\n",
    "plt.title('Среднемесячный доход остающихся клиентов')\n",
    "plt.ylabel('Количество клиентов')\n",
    "plt.xlabel('Доход (млн)')\n",
    "plt.show()"
   ]
  },
  {
   "cell_type": "markdown",
   "metadata": {},
   "source": [
    "Максимальное значение по уходящим клиентам тоже выбивается - 1 263 028. Выбросов здесь меньше (потому что и данных меньше), но они тоже начинаются на 300 000. Создадим срез, установив 300 000 верхним порогом дохода."
   ]
  },
  {
   "cell_type": "code",
   "execution_count": 82,
   "metadata": {},
   "outputs": [
    {
     "data": {
      "text/plain": [
       "count      1723.00\n",
       "mean     127069.08\n",
       "std       60648.51\n",
       "min       10880.27\n",
       "25%       81131.40\n",
       "50%      120738.70\n",
       "75%      167733.58\n",
       "max      299904.85\n",
       "Name: est_salary, dtype: float64"
      ]
     },
     "execution_count": 82,
     "metadata": {},
     "output_type": "execute_result"
    }
   ],
   "source": [
    "churn_1 = churn_1.query('est_salary <= 300000')\n",
    "#проверим срез\n",
    "churn_1['est_salary'].describe()"
   ]
  },
  {
   "cell_type": "markdown",
   "metadata": {},
   "source": [
    "Выбросы устранены."
   ]
  },
  {
   "cell_type": "markdown",
   "metadata": {},
   "source": [
    "Проверим гипотезу еще раз, используя t-test."
   ]
  },
  {
   "cell_type": "code",
   "execution_count": 83,
   "metadata": {},
   "outputs": [
    {
     "name": "stdout",
     "output_type": "stream",
     "text": [
      "p-значение: 6.881336485143691e-05\n",
      "Отвергаем нулевую гипотезу\n"
     ]
    }
   ],
   "source": [
    "alpha = 0.05 #уровень статистической значимости\n",
    "#проверяем гипотезу о равенстве средних двух генеральных совокупностей\n",
    "results = st.ttest_ind (\n",
    "    churn_0['est_salary'],\n",
    "    churn_1['est_salary'], equal_var=False)\n",
    "print('p-значение:', results.pvalue)\n",
    "if results.pvalue < alpha:\n",
    "    print('Отвергаем нулевую гипотезу')\n",
    "else:\n",
    "    print('Не получилось отвергнуть нулевую гипотезу')"
   ]
  },
  {
   "cell_type": "markdown",
   "metadata": {},
   "source": [
    "Проверим гипотезу еще раз, используя u-критерий Манна-Уитни."
   ]
  },
  {
   "cell_type": "code",
   "execution_count": 84,
   "metadata": {},
   "outputs": [
    {
     "name": "stdout",
     "output_type": "stream",
     "text": [
      "p-значение: 8.412679590267084e-06\n",
      "Отвергаем нулевую гипотезу\n"
     ]
    }
   ],
   "source": [
    "alpha = 0.05 #уровень статистической значимости\n",
    "#проверяем гипотезу о равенстве средних двух генеральных совокупностей\n",
    "results = st.mannwhitneyu(\n",
    "    churn_0['est_salary'],\n",
    "    churn_1['est_salary'])\n",
    "print('p-значение:', results.pvalue)\n",
    "if results.pvalue < alpha:\n",
    "    print('Отвергаем нулевую гипотезу')\n",
    "else:\n",
    "    print('Не получилось отвергнуть нулевую гипотезу')"
   ]
  },
  {
   "cell_type": "markdown",
   "metadata": {},
   "source": [
    "В обоих случаях нулевая гипотеза отвергается, следовательно, средние доходы оставшихся и уходящих клиентов не равны.  \n",
    "При не нормальном распределении следует использовать непараметрический тест Манна-Уитни даже для больших выборок, т.к. выбросы сильно сдвигают параметрические результаты. "
   ]
  },
  {
   "cell_type": "markdown",
   "metadata": {},
   "source": [
    "### Проверка гипотезы о различии возраста между клиентами, которые ушли и клиентами, которые остались"
   ]
  },
  {
   "cell_type": "markdown",
   "metadata": {},
   "source": [
    "Нулевая гипотеза: средний возраст оставшихся и уходящих клиентов равен.   \n",
    "Альтернативная гипотеза: средний возраст оставшихся и уходящих клиентов не равен.   "
   ]
  },
  {
   "cell_type": "markdown",
   "metadata": {},
   "source": [
    "Для проверки распределения на нормальность применим критерий Шапиро-Уилка."
   ]
  },
  {
   "cell_type": "code",
   "execution_count": 85,
   "metadata": {},
   "outputs": [
    {
     "name": "stdout",
     "output_type": "stream",
     "text": [
      "p-значение:  4.705560243202736e-42\n",
      "Отвергаем нулевую гипотезу: распределение не нормально\n"
     ]
    }
   ],
   "source": [
    "alpha = 0.05  # критический уровень статистической значимости\n",
    "\n",
    "results = st.shapiro(churn_0['age'])\n",
    "p_value = results[1]  # второе значение в массиве результатов (с индексом 1) - p-value\n",
    "\n",
    "print('p-значение: ', p_value)\n",
    "\n",
    "if p_value < alpha:\n",
    "    print('Отвергаем нулевую гипотезу: распределение не нормально')\n",
    "else:\n",
    "    print('Не получилось отвергнуть нулевую гипотезу, всё нормально') "
   ]
  },
  {
   "cell_type": "code",
   "execution_count": 86,
   "metadata": {},
   "outputs": [
    {
     "name": "stdout",
     "output_type": "stream",
     "text": [
      "p-значение:  2.0084480688461104e-23\n",
      "Отвергаем нулевую гипотезу: распределение не нормально\n"
     ]
    }
   ],
   "source": [
    "alpha = 0.05  # критический уровень статистической значимости\n",
    "\n",
    "results = st.shapiro(churn_1['age'])\n",
    "p_value = results[1]  # второе значение в массиве результатов (с индексом 1) - p-value\n",
    "\n",
    "print('p-значение: ', p_value)\n",
    "\n",
    "if p_value < alpha:\n",
    "    print('Отвергаем нулевую гипотезу: распределение не нормально')\n",
    "else:\n",
    "    print('Не получилось отвергнуть нулевую гипотезу, всё нормально') "
   ]
  },
  {
   "cell_type": "markdown",
   "metadata": {},
   "source": [
    "И здесь распределения не нормальны. Проверим размеры и дисперсии выборок."
   ]
  },
  {
   "cell_type": "code",
   "execution_count": 87,
   "metadata": {},
   "outputs": [
    {
     "name": "stdout",
     "output_type": "stream",
     "text": [
      "Размер выборки остающихся клиентов:  7639\n",
      "Размер выборки уходящих клиентов:  1723\n",
      "Дисперсия выборки остающихся клиентов:  155.73854077940538\n",
      "Дисперсия выборки уходящих клиентов:  125.80033340006727\n"
     ]
    }
   ],
   "source": [
    "print('Размер выборки остающихся клиентов: ', len(churn_0['age']))\n",
    "print('Размер выборки уходящих клиентов: ', len(churn_1['age']))\n",
    "\n",
    "print('Дисперсия выборки остающихся клиентов: ', churn_0['age'].var())\n",
    "print('Дисперсия выборки уходящих клиентов: ', churn_1['age'].var())"
   ]
  },
  {
   "cell_type": "markdown",
   "metadata": {},
   "source": [
    "Проверим гипотезу, используя u-критерий Манна-Уитни."
   ]
  },
  {
   "cell_type": "code",
   "execution_count": 88,
   "metadata": {},
   "outputs": [
    {
     "name": "stdout",
     "output_type": "stream",
     "text": [
      "p-значение: 1.0158340550268624e-05\n",
      "Отвергаем нулевую гипотезу\n"
     ]
    }
   ],
   "source": [
    "alpha = 0.05 #уровень статистической значимости\n",
    "#проверяем гипотезу о равенстве средних двух генеральных совокупностей\n",
    "results = st.mannwhitneyu(\n",
    "    churn_0['age'],\n",
    "    churn_1['age'])\n",
    "print('p-значение:', results.pvalue)\n",
    "if results.pvalue < alpha:\n",
    "    print('Отвергаем нулевую гипотезу')\n",
    "else:\n",
    "    print('Не получилось отвергнуть нулевую гипотезу')"
   ]
  },
  {
   "cell_type": "markdown",
   "metadata": {},
   "source": [
    "Нулевая гипотеза была отвергнута, следовательно, средний возраст оставшихся и уходящих клиентов не равен."
   ]
  },
  {
   "cell_type": "markdown",
   "metadata": {},
   "source": [
    "### Выводы"
   ]
  },
  {
   "cell_type": "markdown",
   "metadata": {},
   "source": [
    "По итогам проведенного статистического анализа данных было проверено две гипотезы:  \n",
    "1. Гипотеза о равенстве средних доходов оставшихся и уходящих клиентов не подтвердилась. Различия в среднем возрасте между оставшимися и отточными клиентами имеют статистическую значимость. \n",
    "2. Гипотеза о равенстве средних возрастов оставшихся и уходящих клиентов не подтвердилась. Различия в среднем возрасте между оставшимися и отточными клиентами имеют статистическую значимость. "
   ]
  },
  {
   "cell_type": "markdown",
   "metadata": {},
   "source": [
    "## Сегментация клиентов"
   ]
  },
  {
   "cell_type": "markdown",
   "metadata": {},
   "source": [
    "По результатам проведенного исследования можем провести сегментацию клиентов.  \n",
    "Средний процент уходящих клиентов 18%, нам нужно сегментировать клиентов по критериям превышающим среднебанковский, а в самих сегментах отток должен быть более, чем в 2 раза выше среднего по банку. В сегмент должны войти от 300 до 2000 клиентов.    \n",
    "Большинство уходящих клиентов:  \n",
    "+ 830-900 баллов скоринга;  \n",
    "+ 25-35 или 50-60 лет;  \n",
    "+ баланс 800 000 и выше;  \n",
    "+ доход 120 000 и выше;  \n",
    "+ из Ярославля или Ростова;  \n",
    "+ мужчины;  \n",
    "+ 3-9 баллов оценки собственности;  \n",
    "+ 3-5 продуктов банка;  \n",
    "+ без кредитки;  \n",
    "+ активные."
   ]
  },
  {
   "cell_type": "markdown",
   "metadata": {},
   "source": [
    "### Выделить сегменты пользователей (по 2-3 критерия)"
   ]
  },
  {
   "cell_type": "markdown",
   "metadata": {},
   "source": [
    "Сегмент 1: с 830-900 баллами скоринга, в возрасте 25-35 лет и без кредитной карты.  \n",
    "Сегмент 2: 50-60 лет с балансом 800 000 и выше и баллами собственности 3-9.  \n",
    "Сегмент 3: мужчины с доходом от 100 000 до 250 000 и 3-5 продуктами.  \n",
    "Сегмент 4: активные пользователи из Ярославля с балансом от 500 000 до 1 000 000.  \n",
    "Сегмент 5: клиенты с баллами скоринга выше 800 и 3-5 продуктами."
   ]
  },
  {
   "cell_type": "markdown",
   "metadata": {},
   "source": [
    "### Посчитать размер и отток сегментов"
   ]
  },
  {
   "cell_type": "markdown",
   "metadata": {},
   "source": [
    "Выделим **сегмент 1** с 830-900 баллами скоринга, в возрасте 25-35 лет и без кредитной карты"
   ]
  },
  {
   "cell_type": "code",
   "execution_count": 89,
   "metadata": {},
   "outputs": [
    {
     "name": "stdout",
     "output_type": "stream",
     "text": [
      "Клиентов в сегменте 1:  353\n",
      "Процент оттока в сегменте 1:  43.91\n"
     ]
    }
   ],
   "source": [
    "segment_1 = data.query('(830 <= score <= 900) and (25 <= age <= 35) and (credit_card == 0)')\n",
    "segment_1_churn = round(sum(segment_1['churn']) / len(segment_1) * 100, 2)\n",
    "print('Клиентов в сегменте 1: ', len(segment_1))\n",
    "print('Процент оттока в сегменте 1: ', segment_1_churn)"
   ]
  },
  {
   "cell_type": "markdown",
   "metadata": {},
   "source": [
    "Выделим **сегмент 2** в 50-60 лет с балансом 800 000 и выше и баллами собственности 3-9"
   ]
  },
  {
   "cell_type": "code",
   "execution_count": 90,
   "metadata": {},
   "outputs": [
    {
     "name": "stdout",
     "output_type": "stream",
     "text": [
      "Клиентов в сегменте 2:  536\n",
      "Процент оттока в сегменте 2:  45.34\n"
     ]
    }
   ],
   "source": [
    "segment_2 = data.query('(50 <= age <= 60) and (balance >= 800000) and (equity >= 3)')\n",
    "segment_2_churn = round(sum(segment_2['churn']) / len(segment_2) * 100, 2)\n",
    "print('Клиентов в сегменте 2: ', len(segment_2))\n",
    "print('Процент оттока в сегменте 2: ', segment_2_churn)"
   ]
  },
  {
   "cell_type": "markdown",
   "metadata": {},
   "source": [
    "Выделим **сегмент 3** мужчин с доходом от 100 000 до 250 000 и 3-5 продуктами"
   ]
  },
  {
   "cell_type": "code",
   "execution_count": 91,
   "metadata": {},
   "outputs": [
    {
     "name": "stdout",
     "output_type": "stream",
     "text": [
      "Клиентов в сегменте 3:  357\n",
      "Процент оттока в сегменте 3:  57.14\n"
     ]
    }
   ],
   "source": [
    "segment_3 = data.query('(male == 1) and (100000 <= est_salary <= 250000) and (products >= 3)')\n",
    "segment_3_churn = round(sum(segment_3['churn']) / len(segment_3) * 100, 2)\n",
    "print('Клиентов в сегменте 3: ', len(segment_3))\n",
    "print('Процент оттока в сегменте 3: ', segment_3_churn)"
   ]
  },
  {
   "cell_type": "markdown",
   "metadata": {},
   "source": [
    "Выделим **сегмент 4** активных пользователей из Ярославля с балансом от 500 000 до 1 000 000"
   ]
  },
  {
   "cell_type": "code",
   "execution_count": 92,
   "metadata": {},
   "outputs": [
    {
     "name": "stdout",
     "output_type": "stream",
     "text": [
      "Клиентов в сегменте 4:  595\n",
      "Процент оттока в сегменте 4:  37.14\n"
     ]
    }
   ],
   "source": [
    "segment_4 = data.query('(yaroslavl == 1) and (500000 <= balance <= 1000000) and (last_activity == True)')\n",
    "segment_4_churn = round(sum(segment_4['churn']) / len(segment_4) * 100, 2)\n",
    "print('Клиентов в сегменте 4: ', len(segment_4))\n",
    "print('Процент оттока в сегменте 4: ', segment_4_churn)"
   ]
  },
  {
   "cell_type": "markdown",
   "metadata": {},
   "source": [
    "Выделим **сегмент 5** клиенты с баллами скоринга от 800 и 3-5 продуктами"
   ]
  },
  {
   "cell_type": "code",
   "execution_count": 93,
   "metadata": {},
   "outputs": [
    {
     "name": "stdout",
     "output_type": "stream",
     "text": [
      "Клиентов в сегменте 5:  1197\n",
      "Процент оттока в сегменте 5:  43.78\n"
     ]
    }
   ],
   "source": [
    "segment_5 = data.query('(score >= 800) and (products >= 3)')\n",
    "segment_5_churn = round(sum(segment_5['churn']) / len(segment_5) * 100, 2)\n",
    "print('Клиентов в сегменте 5: ', len(segment_5))\n",
    "print('Процент оттока в сегменте 5: ', segment_5_churn)"
   ]
  },
  {
   "cell_type": "markdown",
   "metadata": {},
   "source": [
    "### Приоритизировать сегменты"
   ]
  },
  {
   "cell_type": "markdown",
   "metadata": {},
   "source": [
    "В первую очередь берем в работу **сегмент 3** - мужчин с доходом от 100 000 до 250 000 и 3-5 продуктами, он небольшой, 357 клиентов, но отточных из них 57,14%.  \n",
    "Вторым возьмем сегмент **сегмент 2** с клиентами 50-60 лет с балансом 800 000 и выше и баллами собственности 3-9, в нем 536 клиентов, из них 45.34% отточных.  \n",
    "И третьим возьмем **сегмент 1** с клиентами, у которых 830-900 баллами скоринга, в возрасте 25-35 лет и без кредитной карты. Он тоже небольшой, из 353 клиентов 43.91% отточных. "
   ]
  },
  {
   "cell_type": "markdown",
   "metadata": {},
   "source": [
    "## Общий вывод и рекомендации по приоритетным сегментам"
   ]
  },
  {
   "cell_type": "markdown",
   "metadata": {},
   "source": [
    "**Портрет отточного клиента**"
   ]
  },
  {
   "cell_type": "markdown",
   "metadata": {},
   "source": [
    "Типичный отточный клиент:  \n",
    "+ мужчина;  \n",
    "+ 25-35 или 50-60 лет;  \n",
    "+ из Ярославля или Ростова Великого;  \n",
    "+ имеет 830-900 баллов кредитного скоринга;  \n",
    "+ баланс от 800 000;  \n",
    "+ доход 100 000 - 250 000;  \n",
    "+ имеет 3-9 баллов оценки собственности;  \n",
    "+ использует 3-5 продуктов банка;  \n",
    "+ не имеет кредитной карты;  \n",
    "+ активный пользователь."
   ]
  },
  {
   "cell_type": "markdown",
   "metadata": {},
   "source": [
    "**Портрет остающегося клиента**"
   ]
  },
  {
   "cell_type": "markdown",
   "metadata": {},
   "source": [
    "Типичный остающийся клиент:  \n",
    "+ женщина;  \n",
    "+ 35-50 лет;  \n",
    "+ из Рыбинска;  \n",
    "+ имеет 650-810 баллов кредитного скоринга;  \n",
    "+ баланс до 700 000;  \n",
    "+ доход ниже 100 000;  \n",
    "+ имеет 1-2 балла оценки собственности;  \n",
    "+ использует 1-2 продукта банка;  \n",
    "+ имеет кредитную карту;  \n",
    "+ неактивный пользователь."
   ]
  },
  {
   "cell_type": "markdown",
   "metadata": {},
   "source": [
    "**Рекомендация для сегмента мужчин с доходом от 100 000 до 250 000 и 3-5 продуктами**"
   ]
  },
  {
   "cell_type": "markdown",
   "metadata": {},
   "source": [
    "У данного сегмента клиентов хороший доход даже для областного центра, а, учитывая количество продуктов, которыми они пользуются, очень странно, что они хотят покинуть банк. В первую очередь стоит выяснить, в чем заключается проблема, и почему чем больше у клиента продуктов, тем вероятнее он уйдет. Возможно, с использованием каких-то продуктов возникают сложности, и необходимы разъяснения, или, наоборот, при таком количестве продуктов клиент получает слишком много уведомлений."
   ]
  },
  {
   "cell_type": "markdown",
   "metadata": {},
   "source": [
    "**Рекомендация для сегмента с клиентами 50-60 лет с балансом 800 000 и выше и баллами собственности 3-9**"
   ]
  },
  {
   "cell_type": "markdown",
   "metadata": {},
   "source": [
    "Для состоятельных клиентов можно пересмотреть условия по вкладам, например, предложить более выгодные процентные ставки, автопролонгирование или снятие без потери процентов, открыть счет для бизнеса, брокерский счет или ИИС. Также для клиентов с большим количеством объектов собственности можно предложить страхование объектов по выгодным условиям (если банк предоставляет такую услугу)."
   ]
  },
  {
   "cell_type": "markdown",
   "metadata": {},
   "source": [
    "**Рекомендация для сегмента с клиентами, у которых 830-900 баллами скоринга, в возрасте 25-35 лет и без кредитной карты**"
   ]
  },
  {
   "cell_type": "markdown",
   "metadata": {},
   "source": [
    "Клиенты с высокими баллами скоринга, как правило, часто пользуются услугами банков и исправно вносят платежи по кредитам. Вероятно, они на хорошем счету и в Метанпромбанке, а значит, им тоже можно предложить более выгодные условия в зависимости от используемых продуктов - рефинансирование кредита или изменение условий по вкладам, а также, учитывая, что у клиентов из данного сегмента нет кредитных карт, можно заинтересовать их картами с увеличенным кредитным лимитом или увеличенным беспроцентным периодом."
   ]
  },
  {
   "cell_type": "markdown",
   "metadata": {},
   "source": [
    "## Презентация"
   ]
  },
  {
   "cell_type": "markdown",
   "metadata": {},
   "source": [
    "Ссылка на презентацию: https://disk.yandex.ru/i/jiPwOlsN-y-Scg"
   ]
  }
 ],
 "metadata": {
  "ExecuteTimeLog": [
   {
    "duration": 1302,
    "start_time": "2024-10-26T22:09:28.075Z"
   },
   {
    "duration": 92,
    "start_time": "2024-10-26T22:10:23.097Z"
   },
   {
    "duration": 24,
    "start_time": "2024-10-26T22:10:47.408Z"
   },
   {
    "duration": 12,
    "start_time": "2024-10-26T22:11:08.507Z"
   },
   {
    "duration": 12,
    "start_time": "2024-10-26T22:11:40.984Z"
   },
   {
    "duration": 108,
    "start_time": "2024-10-26T22:32:16.656Z"
   },
   {
    "duration": 3,
    "start_time": "2024-10-26T22:34:53.438Z"
   },
   {
    "duration": 14,
    "start_time": "2024-10-26T22:35:01.852Z"
   },
   {
    "duration": 72,
    "start_time": "2024-10-26T22:38:16.900Z"
   },
   {
    "duration": 66,
    "start_time": "2024-10-26T22:38:33.629Z"
   },
   {
    "duration": 4,
    "start_time": "2024-10-26T22:38:47.722Z"
   },
   {
    "duration": 14,
    "start_time": "2024-10-26T22:38:50.206Z"
   },
   {
    "duration": 11,
    "start_time": "2024-10-26T22:39:26.285Z"
   },
   {
    "duration": 8,
    "start_time": "2024-10-26T22:41:16.558Z"
   },
   {
    "duration": 13,
    "start_time": "2024-10-26T22:41:51.586Z"
   },
   {
    "duration": 4,
    "start_time": "2024-10-26T22:59:10.916Z"
   },
   {
    "duration": 12,
    "start_time": "2024-10-26T22:59:11.498Z"
   },
   {
    "duration": 8,
    "start_time": "2024-10-26T22:59:34.841Z"
   },
   {
    "duration": 16,
    "start_time": "2024-10-26T22:59:35.644Z"
   },
   {
    "duration": 4,
    "start_time": "2024-10-26T23:37:44.614Z"
   },
   {
    "duration": 12,
    "start_time": "2024-10-26T23:37:45.090Z"
   },
   {
    "duration": 3,
    "start_time": "2024-10-26T23:37:50.051Z"
   },
   {
    "duration": 15,
    "start_time": "2024-10-26T23:37:50.658Z"
   },
   {
    "duration": 1277,
    "start_time": "2024-10-26T23:38:09.466Z"
   },
   {
    "duration": 64,
    "start_time": "2024-10-26T23:38:10.744Z"
   },
   {
    "duration": 49,
    "start_time": "2024-10-26T23:38:10.810Z"
   },
   {
    "duration": 12,
    "start_time": "2024-10-26T23:38:10.862Z"
   },
   {
    "duration": 12,
    "start_time": "2024-10-26T23:38:10.876Z"
   },
   {
    "duration": 24,
    "start_time": "2024-10-26T23:38:10.890Z"
   },
   {
    "duration": 16,
    "start_time": "2024-10-26T23:38:10.916Z"
   },
   {
    "duration": 13,
    "start_time": "2024-10-26T23:38:10.934Z"
   },
   {
    "duration": 94,
    "start_time": "2024-10-26T23:38:10.949Z"
   },
   {
    "duration": 110,
    "start_time": "2024-10-26T23:38:11.045Z"
   },
   {
    "duration": 0,
    "start_time": "2024-10-26T23:38:11.156Z"
   },
   {
    "duration": 11,
    "start_time": "2024-10-26T23:44:56.589Z"
   },
   {
    "duration": 1203,
    "start_time": "2024-10-26T23:45:01.430Z"
   },
   {
    "duration": 3,
    "start_time": "2024-10-26T23:59:54.312Z"
   },
   {
    "duration": 1535,
    "start_time": "2024-10-26T23:59:56.754Z"
   },
   {
    "duration": 3,
    "start_time": "2024-10-27T00:00:08.037Z"
   },
   {
    "duration": 6,
    "start_time": "2024-10-27T00:00:10.584Z"
   },
   {
    "duration": 19,
    "start_time": "2024-10-27T00:00:22.466Z"
   },
   {
    "duration": 3,
    "start_time": "2024-10-27T00:05:17.604Z"
   },
   {
    "duration": 247,
    "start_time": "2024-10-27T00:05:20.267Z"
   },
   {
    "duration": 3,
    "start_time": "2024-10-27T00:05:31.541Z"
   },
   {
    "duration": 265,
    "start_time": "2024-10-27T00:05:33.189Z"
   },
   {
    "duration": 3,
    "start_time": "2024-10-27T00:06:22.497Z"
   },
   {
    "duration": 448,
    "start_time": "2024-10-27T00:06:25.745Z"
   },
   {
    "duration": 5,
    "start_time": "2024-10-27T00:12:11.723Z"
   },
   {
    "duration": 3,
    "start_time": "2024-10-27T00:12:13.844Z"
   },
   {
    "duration": 6,
    "start_time": "2024-10-27T00:12:16.466Z"
   },
   {
    "duration": 18,
    "start_time": "2024-10-27T00:12:23.498Z"
   },
   {
    "duration": 4,
    "start_time": "2024-10-27T00:12:57.038Z"
   },
   {
    "duration": 3,
    "start_time": "2024-10-27T00:12:58.510Z"
   },
   {
    "duration": 11,
    "start_time": "2024-10-27T00:13:01.487Z"
   },
   {
    "duration": 28,
    "start_time": "2024-10-27T00:13:06.133Z"
   },
   {
    "duration": 30,
    "start_time": "2024-10-27T00:13:50.316Z"
   },
   {
    "duration": 74,
    "start_time": "2024-10-27T00:16:52.672Z"
   },
   {
    "duration": 15,
    "start_time": "2024-10-27T00:17:46.118Z"
   },
   {
    "duration": 10,
    "start_time": "2024-10-27T00:23:19.551Z"
   },
   {
    "duration": 47,
    "start_time": "2024-10-27T08:42:22.594Z"
   },
   {
    "duration": 1426,
    "start_time": "2024-10-27T08:42:34.915Z"
   },
   {
    "duration": 81,
    "start_time": "2024-10-27T08:42:36.343Z"
   },
   {
    "duration": 18,
    "start_time": "2024-10-27T08:42:36.425Z"
   },
   {
    "duration": 65,
    "start_time": "2024-10-27T08:42:36.444Z"
   },
   {
    "duration": 2,
    "start_time": "2024-10-27T08:42:36.512Z"
   },
   {
    "duration": 12,
    "start_time": "2024-10-27T08:42:36.516Z"
   },
   {
    "duration": 10,
    "start_time": "2024-10-27T08:42:36.530Z"
   },
   {
    "duration": 18,
    "start_time": "2024-10-27T08:42:36.542Z"
   },
   {
    "duration": 21,
    "start_time": "2024-10-27T08:42:36.562Z"
   },
   {
    "duration": 19,
    "start_time": "2024-10-27T08:42:36.585Z"
   },
   {
    "duration": 14,
    "start_time": "2024-10-27T08:42:36.605Z"
   },
   {
    "duration": 11,
    "start_time": "2024-10-27T08:42:36.621Z"
   },
   {
    "duration": 60,
    "start_time": "2024-10-27T08:42:36.633Z"
   },
   {
    "duration": 96,
    "start_time": "2024-10-27T08:42:36.695Z"
   },
   {
    "duration": 10,
    "start_time": "2024-10-27T08:42:36.793Z"
   },
   {
    "duration": 21,
    "start_time": "2024-10-27T08:42:36.804Z"
   },
   {
    "duration": 28,
    "start_time": "2024-10-27T08:42:36.826Z"
   },
   {
    "duration": 1463,
    "start_time": "2024-10-29T11:52:25.731Z"
   },
   {
    "duration": 95,
    "start_time": "2024-10-29T11:52:27.196Z"
   },
   {
    "duration": 18,
    "start_time": "2024-10-29T11:52:27.292Z"
   },
   {
    "duration": 24,
    "start_time": "2024-10-29T11:52:27.312Z"
   },
   {
    "duration": 3,
    "start_time": "2024-10-29T11:52:27.338Z"
   },
   {
    "duration": 12,
    "start_time": "2024-10-29T11:52:27.343Z"
   },
   {
    "duration": 16,
    "start_time": "2024-10-29T11:52:27.357Z"
   },
   {
    "duration": 9,
    "start_time": "2024-10-29T11:52:27.374Z"
   },
   {
    "duration": 20,
    "start_time": "2024-10-29T11:52:27.385Z"
   },
   {
    "duration": 4,
    "start_time": "2024-10-29T11:52:27.407Z"
   },
   {
    "duration": 19,
    "start_time": "2024-10-29T11:52:27.412Z"
   },
   {
    "duration": 12,
    "start_time": "2024-10-29T11:52:27.433Z"
   },
   {
    "duration": 21,
    "start_time": "2024-10-29T11:52:27.447Z"
   },
   {
    "duration": 71,
    "start_time": "2024-10-29T11:52:27.470Z"
   },
   {
    "duration": 9,
    "start_time": "2024-10-29T11:52:27.543Z"
   },
   {
    "duration": 39,
    "start_time": "2024-10-29T11:52:27.554Z"
   },
   {
    "duration": 21,
    "start_time": "2024-10-29T11:52:27.595Z"
   },
   {
    "duration": 10,
    "start_time": "2024-10-29T12:01:38.253Z"
   },
   {
    "duration": 9,
    "start_time": "2024-10-29T12:01:44.416Z"
   },
   {
    "duration": 6,
    "start_time": "2024-10-29T12:05:28.920Z"
   },
   {
    "duration": 6,
    "start_time": "2024-10-29T12:05:37.078Z"
   },
   {
    "duration": 5,
    "start_time": "2024-10-29T12:05:39.766Z"
   },
   {
    "duration": 12,
    "start_time": "2024-10-29T12:07:44.559Z"
   },
   {
    "duration": 12,
    "start_time": "2024-10-29T12:08:04.920Z"
   },
   {
    "duration": 6,
    "start_time": "2024-10-29T12:09:24.947Z"
   },
   {
    "duration": 5,
    "start_time": "2024-10-29T12:10:05.098Z"
   },
   {
    "duration": 6,
    "start_time": "2024-10-29T12:10:06.838Z"
   },
   {
    "duration": 1308,
    "start_time": "2024-10-29T12:10:29.775Z"
   },
   {
    "duration": 72,
    "start_time": "2024-10-29T12:10:31.085Z"
   },
   {
    "duration": 18,
    "start_time": "2024-10-29T12:10:31.159Z"
   },
   {
    "duration": 20,
    "start_time": "2024-10-29T12:10:31.179Z"
   },
   {
    "duration": 21,
    "start_time": "2024-10-29T12:10:31.202Z"
   },
   {
    "duration": 8,
    "start_time": "2024-10-29T12:10:31.225Z"
   },
   {
    "duration": 25,
    "start_time": "2024-10-29T12:10:31.235Z"
   },
   {
    "duration": 7,
    "start_time": "2024-10-29T12:10:31.262Z"
   },
   {
    "duration": 48,
    "start_time": "2024-10-29T12:10:31.271Z"
   },
   {
    "duration": 23,
    "start_time": "2024-10-29T12:10:31.321Z"
   },
   {
    "duration": 57,
    "start_time": "2024-10-29T12:10:31.346Z"
   },
   {
    "duration": 26,
    "start_time": "2024-10-29T12:10:31.405Z"
   },
   {
    "duration": 32,
    "start_time": "2024-10-29T12:10:31.433Z"
   },
   {
    "duration": 80,
    "start_time": "2024-10-29T12:10:31.468Z"
   },
   {
    "duration": 11,
    "start_time": "2024-10-29T12:10:31.550Z"
   },
   {
    "duration": 87,
    "start_time": "2024-10-29T12:10:31.563Z"
   },
   {
    "duration": 11,
    "start_time": "2024-10-29T12:10:31.652Z"
   },
   {
    "duration": 28,
    "start_time": "2024-10-29T12:10:31.664Z"
   },
   {
    "duration": 28,
    "start_time": "2024-10-29T12:10:31.694Z"
   },
   {
    "duration": 32,
    "start_time": "2024-10-29T12:10:31.723Z"
   },
   {
    "duration": 34,
    "start_time": "2024-10-29T12:10:31.757Z"
   },
   {
    "duration": 5,
    "start_time": "2024-10-29T12:10:56.244Z"
   },
   {
    "duration": 1255,
    "start_time": "2024-10-29T12:11:04.983Z"
   },
   {
    "duration": 82,
    "start_time": "2024-10-29T12:11:06.240Z"
   },
   {
    "duration": 20,
    "start_time": "2024-10-29T12:11:06.324Z"
   },
   {
    "duration": 33,
    "start_time": "2024-10-29T12:11:06.346Z"
   },
   {
    "duration": 21,
    "start_time": "2024-10-29T12:11:06.381Z"
   },
   {
    "duration": 21,
    "start_time": "2024-10-29T12:11:06.404Z"
   },
   {
    "duration": 32,
    "start_time": "2024-10-29T12:11:06.426Z"
   },
   {
    "duration": 20,
    "start_time": "2024-10-29T12:11:06.460Z"
   },
   {
    "duration": 34,
    "start_time": "2024-10-29T12:11:06.482Z"
   },
   {
    "duration": 30,
    "start_time": "2024-10-29T12:11:06.518Z"
   },
   {
    "duration": 32,
    "start_time": "2024-10-29T12:11:06.550Z"
   },
   {
    "duration": 64,
    "start_time": "2024-10-29T12:11:06.584Z"
   },
   {
    "duration": 38,
    "start_time": "2024-10-29T12:11:06.650Z"
   },
   {
    "duration": 114,
    "start_time": "2024-10-29T12:11:06.690Z"
   },
   {
    "duration": 49,
    "start_time": "2024-10-29T12:11:06.806Z"
   },
   {
    "duration": 58,
    "start_time": "2024-10-29T12:11:06.856Z"
   },
   {
    "duration": 19,
    "start_time": "2024-10-29T12:11:06.915Z"
   },
   {
    "duration": 26,
    "start_time": "2024-10-29T12:11:06.936Z"
   },
   {
    "duration": 20,
    "start_time": "2024-10-29T12:11:06.964Z"
   },
   {
    "duration": 31,
    "start_time": "2024-10-29T12:11:06.986Z"
   },
   {
    "duration": 45,
    "start_time": "2024-10-29T12:11:07.018Z"
   },
   {
    "duration": 13,
    "start_time": "2024-10-29T12:12:52.008Z"
   },
   {
    "duration": 6,
    "start_time": "2024-10-29T12:13:10.065Z"
   },
   {
    "duration": 7,
    "start_time": "2024-10-29T12:15:19.560Z"
   },
   {
    "duration": 22,
    "start_time": "2024-10-29T12:15:59.489Z"
   },
   {
    "duration": 10,
    "start_time": "2024-10-29T12:17:25.088Z"
   },
   {
    "duration": 14,
    "start_time": "2024-10-29T12:18:41.845Z"
   },
   {
    "duration": 66,
    "start_time": "2024-10-29T12:19:32.805Z"
   },
   {
    "duration": 6,
    "start_time": "2024-10-29T12:19:47.523Z"
   },
   {
    "duration": 76,
    "start_time": "2024-10-29T12:20:24.250Z"
   },
   {
    "duration": 6,
    "start_time": "2024-10-29T12:20:31.096Z"
   },
   {
    "duration": 6,
    "start_time": "2024-10-29T12:20:43.965Z"
   },
   {
    "duration": 6,
    "start_time": "2024-10-29T12:21:18.901Z"
   },
   {
    "duration": 5,
    "start_time": "2024-10-29T12:21:34.936Z"
   },
   {
    "duration": 5,
    "start_time": "2024-10-29T12:22:00.909Z"
   },
   {
    "duration": 101,
    "start_time": "2024-10-29T12:25:16.245Z"
   },
   {
    "duration": 7,
    "start_time": "2024-10-29T12:25:44.193Z"
   },
   {
    "duration": 14,
    "start_time": "2024-10-29T12:25:54.531Z"
   },
   {
    "duration": 6,
    "start_time": "2024-10-29T12:28:19.148Z"
   },
   {
    "duration": 9,
    "start_time": "2024-10-29T12:28:24.100Z"
   },
   {
    "duration": 4,
    "start_time": "2024-10-29T12:28:53.506Z"
   },
   {
    "duration": 5,
    "start_time": "2024-10-29T12:29:19.750Z"
   },
   {
    "duration": 5,
    "start_time": "2024-10-29T12:29:32.136Z"
   },
   {
    "duration": 15,
    "start_time": "2024-10-29T12:29:38.175Z"
   },
   {
    "duration": 1267,
    "start_time": "2024-10-29T12:31:31.949Z"
   },
   {
    "duration": 66,
    "start_time": "2024-10-29T12:31:33.218Z"
   },
   {
    "duration": 17,
    "start_time": "2024-10-29T12:31:33.286Z"
   },
   {
    "duration": 17,
    "start_time": "2024-10-29T12:31:33.305Z"
   },
   {
    "duration": 3,
    "start_time": "2024-10-29T12:31:33.324Z"
   },
   {
    "duration": 28,
    "start_time": "2024-10-29T12:31:33.329Z"
   },
   {
    "duration": 37,
    "start_time": "2024-10-29T12:31:33.358Z"
   },
   {
    "duration": 28,
    "start_time": "2024-10-29T12:31:33.396Z"
   },
   {
    "duration": 13,
    "start_time": "2024-10-29T12:31:33.426Z"
   },
   {
    "duration": 13,
    "start_time": "2024-10-29T12:31:33.441Z"
   },
   {
    "duration": 7,
    "start_time": "2024-10-29T12:31:33.455Z"
   },
   {
    "duration": 8,
    "start_time": "2024-10-29T12:31:33.463Z"
   },
   {
    "duration": 32,
    "start_time": "2024-10-29T12:31:33.473Z"
   },
   {
    "duration": 86,
    "start_time": "2024-10-29T12:31:33.507Z"
   },
   {
    "duration": 9,
    "start_time": "2024-10-29T12:31:33.594Z"
   },
   {
    "duration": 78,
    "start_time": "2024-10-29T12:31:33.605Z"
   },
   {
    "duration": 4,
    "start_time": "2024-10-29T12:31:33.685Z"
   },
   {
    "duration": 7,
    "start_time": "2024-10-29T12:31:33.691Z"
   },
   {
    "duration": 26,
    "start_time": "2024-10-29T12:31:33.700Z"
   },
   {
    "duration": 14,
    "start_time": "2024-10-29T12:31:33.728Z"
   },
   {
    "duration": 33,
    "start_time": "2024-10-29T12:31:33.743Z"
   },
   {
    "duration": 63,
    "start_time": "2024-10-29T12:31:33.778Z"
   },
   {
    "duration": 37,
    "start_time": "2024-10-29T12:31:33.842Z"
   },
   {
    "duration": 33,
    "start_time": "2024-10-29T12:31:33.881Z"
   },
   {
    "duration": 21,
    "start_time": "2024-10-29T12:31:33.916Z"
   },
   {
    "duration": 26,
    "start_time": "2024-10-29T12:31:33.939Z"
   },
   {
    "duration": 36,
    "start_time": "2024-10-29T12:31:33.967Z"
   },
   {
    "duration": 46,
    "start_time": "2024-10-29T12:31:34.006Z"
   },
   {
    "duration": 9,
    "start_time": "2024-10-29T12:31:34.054Z"
   },
   {
    "duration": 18,
    "start_time": "2024-10-29T12:31:34.065Z"
   },
   {
    "duration": 12,
    "start_time": "2024-10-29T12:33:37.043Z"
   },
   {
    "duration": 12,
    "start_time": "2024-10-29T12:33:42.507Z"
   },
   {
    "duration": 16,
    "start_time": "2024-10-29T15:49:48.947Z"
   },
   {
    "duration": 15,
    "start_time": "2024-10-29T15:52:08.929Z"
   },
   {
    "duration": 22,
    "start_time": "2024-10-29T17:29:59.760Z"
   },
   {
    "duration": 4,
    "start_time": "2024-10-29T17:36:12.955Z"
   },
   {
    "duration": 15,
    "start_time": "2024-10-29T17:36:23.521Z"
   },
   {
    "duration": 113,
    "start_time": "2024-10-29T17:37:08.394Z"
   },
   {
    "duration": 13,
    "start_time": "2024-10-29T17:37:36.942Z"
   },
   {
    "duration": 14,
    "start_time": "2024-10-29T17:37:47.569Z"
   },
   {
    "duration": 1303,
    "start_time": "2024-10-29T17:38:28.391Z"
   },
   {
    "duration": 71,
    "start_time": "2024-10-29T17:38:29.696Z"
   },
   {
    "duration": 24,
    "start_time": "2024-10-29T17:38:29.769Z"
   },
   {
    "duration": 12,
    "start_time": "2024-10-29T17:38:29.795Z"
   },
   {
    "duration": 4,
    "start_time": "2024-10-29T17:38:29.808Z"
   },
   {
    "duration": 7,
    "start_time": "2024-10-29T17:38:29.814Z"
   },
   {
    "duration": 13,
    "start_time": "2024-10-29T17:38:29.822Z"
   },
   {
    "duration": 7,
    "start_time": "2024-10-29T17:38:29.837Z"
   },
   {
    "duration": 11,
    "start_time": "2024-10-29T17:38:29.846Z"
   },
   {
    "duration": 73,
    "start_time": "2024-10-29T17:38:29.859Z"
   },
   {
    "duration": 49,
    "start_time": "2024-10-29T17:38:29.934Z"
   },
   {
    "duration": 28,
    "start_time": "2024-10-29T17:38:29.985Z"
   },
   {
    "duration": 47,
    "start_time": "2024-10-29T17:38:30.016Z"
   },
   {
    "duration": 102,
    "start_time": "2024-10-29T17:38:30.065Z"
   },
   {
    "duration": 13,
    "start_time": "2024-10-29T17:38:30.169Z"
   },
   {
    "duration": 145,
    "start_time": "2024-10-29T17:38:30.200Z"
   },
   {
    "duration": 17,
    "start_time": "2024-10-29T17:38:30.346Z"
   },
   {
    "duration": 8,
    "start_time": "2024-10-29T17:38:30.365Z"
   },
   {
    "duration": 5,
    "start_time": "2024-10-29T17:38:30.375Z"
   },
   {
    "duration": 26,
    "start_time": "2024-10-29T17:38:30.382Z"
   },
   {
    "duration": 41,
    "start_time": "2024-10-29T17:38:30.410Z"
   },
   {
    "duration": 15,
    "start_time": "2024-10-29T17:38:30.453Z"
   },
   {
    "duration": 24,
    "start_time": "2024-10-29T17:38:30.470Z"
   },
   {
    "duration": 79,
    "start_time": "2024-10-29T17:38:30.496Z"
   },
   {
    "duration": 19,
    "start_time": "2024-10-29T17:38:30.578Z"
   },
   {
    "duration": 16,
    "start_time": "2024-10-29T17:38:30.599Z"
   },
   {
    "duration": 38,
    "start_time": "2024-10-29T17:38:30.617Z"
   },
   {
    "duration": 67,
    "start_time": "2024-10-29T17:38:30.659Z"
   },
   {
    "duration": 48,
    "start_time": "2024-10-29T17:38:30.728Z"
   },
   {
    "duration": 20,
    "start_time": "2024-10-29T17:38:30.777Z"
   },
   {
    "duration": 36,
    "start_time": "2024-10-29T17:38:30.799Z"
   },
   {
    "duration": 43,
    "start_time": "2024-10-29T17:38:30.837Z"
   },
   {
    "duration": 16,
    "start_time": "2024-10-29T17:38:30.881Z"
   },
   {
    "duration": 1298,
    "start_time": "2024-10-29T17:40:13.402Z"
   },
   {
    "duration": 71,
    "start_time": "2024-10-29T17:40:14.702Z"
   },
   {
    "duration": 19,
    "start_time": "2024-10-29T17:40:14.775Z"
   },
   {
    "duration": 13,
    "start_time": "2024-10-29T17:40:14.797Z"
   },
   {
    "duration": 4,
    "start_time": "2024-10-29T17:40:14.811Z"
   },
   {
    "duration": 7,
    "start_time": "2024-10-29T17:40:14.816Z"
   },
   {
    "duration": 12,
    "start_time": "2024-10-29T17:40:14.824Z"
   },
   {
    "duration": 6,
    "start_time": "2024-10-29T17:40:14.838Z"
   },
   {
    "duration": 12,
    "start_time": "2024-10-29T17:40:14.846Z"
   },
   {
    "duration": 4,
    "start_time": "2024-10-29T17:40:14.860Z"
   },
   {
    "duration": 12,
    "start_time": "2024-10-29T17:40:14.865Z"
   },
   {
    "duration": 9,
    "start_time": "2024-10-29T17:40:14.900Z"
   },
   {
    "duration": 19,
    "start_time": "2024-10-29T17:40:14.910Z"
   },
   {
    "duration": 82,
    "start_time": "2024-10-29T17:40:14.930Z"
   },
   {
    "duration": 10,
    "start_time": "2024-10-29T17:40:15.014Z"
   },
   {
    "duration": 36,
    "start_time": "2024-10-29T17:40:15.026Z"
   },
   {
    "duration": 9,
    "start_time": "2024-10-29T17:40:15.063Z"
   },
   {
    "duration": 33,
    "start_time": "2024-10-29T17:40:15.074Z"
   },
   {
    "duration": 32,
    "start_time": "2024-10-29T17:40:15.109Z"
   },
   {
    "duration": 7,
    "start_time": "2024-10-29T17:40:15.143Z"
   },
   {
    "duration": 15,
    "start_time": "2024-10-29T17:40:15.152Z"
   },
   {
    "duration": 26,
    "start_time": "2024-10-29T17:40:15.169Z"
   },
   {
    "duration": 20,
    "start_time": "2024-10-29T17:40:15.196Z"
   },
   {
    "duration": 6,
    "start_time": "2024-10-29T17:40:15.218Z"
   },
   {
    "duration": 15,
    "start_time": "2024-10-29T17:40:15.226Z"
   },
   {
    "duration": 14,
    "start_time": "2024-10-29T17:40:15.243Z"
   },
   {
    "duration": 20,
    "start_time": "2024-10-29T17:40:15.259Z"
   },
   {
    "duration": 18,
    "start_time": "2024-10-29T17:40:15.282Z"
   },
   {
    "duration": 10,
    "start_time": "2024-10-29T17:40:15.302Z"
   },
   {
    "duration": 18,
    "start_time": "2024-10-29T17:40:15.314Z"
   },
   {
    "duration": 17,
    "start_time": "2024-10-29T17:40:15.334Z"
   },
   {
    "duration": 24,
    "start_time": "2024-10-29T17:40:15.353Z"
   },
   {
    "duration": 7,
    "start_time": "2024-10-29T17:40:43.610Z"
   },
   {
    "duration": 1252,
    "start_time": "2024-10-29T17:40:51.041Z"
   },
   {
    "duration": 76,
    "start_time": "2024-10-29T17:40:52.295Z"
   },
   {
    "duration": 19,
    "start_time": "2024-10-29T17:40:52.372Z"
   },
   {
    "duration": 17,
    "start_time": "2024-10-29T17:40:52.393Z"
   },
   {
    "duration": 6,
    "start_time": "2024-10-29T17:40:52.412Z"
   },
   {
    "duration": 6,
    "start_time": "2024-10-29T17:40:52.420Z"
   },
   {
    "duration": 12,
    "start_time": "2024-10-29T17:40:52.428Z"
   },
   {
    "duration": 12,
    "start_time": "2024-10-29T17:40:52.442Z"
   },
   {
    "duration": 11,
    "start_time": "2024-10-29T17:40:52.455Z"
   },
   {
    "duration": 4,
    "start_time": "2024-10-29T17:40:52.469Z"
   },
   {
    "duration": 26,
    "start_time": "2024-10-29T17:40:52.474Z"
   },
   {
    "duration": 13,
    "start_time": "2024-10-29T17:40:52.501Z"
   },
   {
    "duration": 40,
    "start_time": "2024-10-29T17:40:52.515Z"
   },
   {
    "duration": 72,
    "start_time": "2024-10-29T17:40:52.557Z"
   },
   {
    "duration": 10,
    "start_time": "2024-10-29T17:40:52.631Z"
   },
   {
    "duration": 11,
    "start_time": "2024-10-29T17:40:52.643Z"
   },
   {
    "duration": 5,
    "start_time": "2024-10-29T17:40:52.656Z"
   },
   {
    "duration": 14,
    "start_time": "2024-10-29T17:40:52.663Z"
   },
   {
    "duration": 7,
    "start_time": "2024-10-29T17:40:52.700Z"
   },
   {
    "duration": 7,
    "start_time": "2024-10-29T17:40:52.709Z"
   },
   {
    "duration": 6,
    "start_time": "2024-10-29T17:40:52.717Z"
   },
   {
    "duration": 5,
    "start_time": "2024-10-29T17:40:52.724Z"
   },
   {
    "duration": 14,
    "start_time": "2024-10-29T17:40:52.730Z"
   },
   {
    "duration": 15,
    "start_time": "2024-10-29T17:40:52.745Z"
   },
   {
    "duration": 40,
    "start_time": "2024-10-29T17:40:52.761Z"
   },
   {
    "duration": 6,
    "start_time": "2024-10-29T17:40:52.803Z"
   },
   {
    "duration": 4,
    "start_time": "2024-10-29T17:40:52.811Z"
   },
   {
    "duration": 10,
    "start_time": "2024-10-29T17:40:52.818Z"
   },
   {
    "duration": 6,
    "start_time": "2024-10-29T17:40:52.830Z"
   },
   {
    "duration": 26,
    "start_time": "2024-10-29T17:40:52.837Z"
   },
   {
    "duration": 37,
    "start_time": "2024-10-29T17:40:52.864Z"
   },
   {
    "duration": 32,
    "start_time": "2024-10-29T17:40:52.903Z"
   },
   {
    "duration": 15,
    "start_time": "2024-10-29T17:46:57.792Z"
   },
   {
    "duration": 1038,
    "start_time": "2024-10-29T20:53:56.567Z"
   },
   {
    "duration": 16,
    "start_time": "2024-10-29T20:56:14.692Z"
   },
   {
    "duration": 20,
    "start_time": "2024-10-29T20:56:32.723Z"
   },
   {
    "duration": 29,
    "start_time": "2024-10-29T20:56:46.338Z"
   },
   {
    "duration": 28,
    "start_time": "2024-10-29T20:57:28.715Z"
   },
   {
    "duration": 11,
    "start_time": "2024-10-29T21:06:31.254Z"
   },
   {
    "duration": 1235,
    "start_time": "2024-10-29T21:06:39.333Z"
   },
   {
    "duration": 113,
    "start_time": "2024-10-29T21:06:40.570Z"
   },
   {
    "duration": 17,
    "start_time": "2024-10-29T21:06:40.685Z"
   },
   {
    "duration": 18,
    "start_time": "2024-10-29T21:06:40.703Z"
   },
   {
    "duration": 4,
    "start_time": "2024-10-29T21:06:40.723Z"
   },
   {
    "duration": 7,
    "start_time": "2024-10-29T21:06:40.728Z"
   },
   {
    "duration": 26,
    "start_time": "2024-10-29T21:06:40.737Z"
   },
   {
    "duration": 6,
    "start_time": "2024-10-29T21:06:40.765Z"
   },
   {
    "duration": 20,
    "start_time": "2024-10-29T21:06:40.773Z"
   },
   {
    "duration": 8,
    "start_time": "2024-10-29T21:06:40.794Z"
   },
   {
    "duration": 4,
    "start_time": "2024-10-29T21:06:40.803Z"
   },
   {
    "duration": 18,
    "start_time": "2024-10-29T21:06:40.808Z"
   },
   {
    "duration": 24,
    "start_time": "2024-10-29T21:06:40.827Z"
   },
   {
    "duration": 67,
    "start_time": "2024-10-29T21:06:40.853Z"
   },
   {
    "duration": 9,
    "start_time": "2024-10-29T21:06:40.922Z"
   },
   {
    "duration": 70,
    "start_time": "2024-10-29T21:06:40.933Z"
   },
   {
    "duration": 89,
    "start_time": "2024-10-29T21:06:41.005Z"
   },
   {
    "duration": 4,
    "start_time": "2024-10-29T21:06:41.096Z"
   },
   {
    "duration": 11,
    "start_time": "2024-10-29T21:06:41.102Z"
   },
   {
    "duration": 5,
    "start_time": "2024-10-29T21:06:41.114Z"
   },
   {
    "duration": 5,
    "start_time": "2024-10-29T21:06:41.121Z"
   },
   {
    "duration": 4,
    "start_time": "2024-10-29T21:06:41.128Z"
   },
   {
    "duration": 5,
    "start_time": "2024-10-29T21:06:41.134Z"
   },
   {
    "duration": 16,
    "start_time": "2024-10-29T21:06:41.140Z"
   },
   {
    "duration": 43,
    "start_time": "2024-10-29T21:06:41.157Z"
   },
   {
    "duration": 5,
    "start_time": "2024-10-29T21:06:41.202Z"
   },
   {
    "duration": 10,
    "start_time": "2024-10-29T21:06:41.209Z"
   },
   {
    "duration": 16,
    "start_time": "2024-10-29T21:06:41.220Z"
   },
   {
    "duration": 19,
    "start_time": "2024-10-29T21:06:41.238Z"
   },
   {
    "duration": 6,
    "start_time": "2024-10-29T21:06:41.259Z"
   },
   {
    "duration": 12,
    "start_time": "2024-10-29T21:06:41.267Z"
   },
   {
    "duration": 32,
    "start_time": "2024-10-29T21:06:41.281Z"
   },
   {
    "duration": 63,
    "start_time": "2024-10-29T21:06:41.315Z"
   },
   {
    "duration": 16,
    "start_time": "2024-10-29T21:06:41.379Z"
   },
   {
    "duration": 45,
    "start_time": "2024-10-29T21:16:12.408Z"
   },
   {
    "duration": 4,
    "start_time": "2024-10-29T21:23:32.389Z"
   },
   {
    "duration": 1247,
    "start_time": "2024-10-29T21:23:41.430Z"
   },
   {
    "duration": 73,
    "start_time": "2024-10-29T21:23:42.679Z"
   },
   {
    "duration": 15,
    "start_time": "2024-10-29T21:23:42.754Z"
   },
   {
    "duration": 12,
    "start_time": "2024-10-29T21:23:42.771Z"
   },
   {
    "duration": 3,
    "start_time": "2024-10-29T21:23:42.785Z"
   },
   {
    "duration": 5,
    "start_time": "2024-10-29T21:23:42.789Z"
   },
   {
    "duration": 23,
    "start_time": "2024-10-29T21:23:42.796Z"
   },
   {
    "duration": 7,
    "start_time": "2024-10-29T21:23:42.821Z"
   },
   {
    "duration": 19,
    "start_time": "2024-10-29T21:23:42.829Z"
   },
   {
    "duration": 9,
    "start_time": "2024-10-29T21:23:42.850Z"
   },
   {
    "duration": 27,
    "start_time": "2024-10-29T21:23:42.860Z"
   },
   {
    "duration": 15,
    "start_time": "2024-10-29T21:23:42.889Z"
   },
   {
    "duration": 26,
    "start_time": "2024-10-29T21:23:42.906Z"
   },
   {
    "duration": 107,
    "start_time": "2024-10-29T21:23:42.934Z"
   },
   {
    "duration": 11,
    "start_time": "2024-10-29T21:23:43.043Z"
   },
   {
    "duration": 67,
    "start_time": "2024-10-29T21:23:43.056Z"
   },
   {
    "duration": 35,
    "start_time": "2024-10-29T21:23:43.125Z"
   },
   {
    "duration": 26,
    "start_time": "2024-10-29T21:23:43.162Z"
   },
   {
    "duration": 7,
    "start_time": "2024-10-29T21:23:43.190Z"
   },
   {
    "duration": 6,
    "start_time": "2024-10-29T21:23:43.198Z"
   },
   {
    "duration": 5,
    "start_time": "2024-10-29T21:23:43.205Z"
   },
   {
    "duration": 8,
    "start_time": "2024-10-29T21:23:43.212Z"
   },
   {
    "duration": 13,
    "start_time": "2024-10-29T21:23:43.222Z"
   },
   {
    "duration": 12,
    "start_time": "2024-10-29T21:23:43.236Z"
   },
   {
    "duration": 19,
    "start_time": "2024-10-29T21:23:43.250Z"
   },
   {
    "duration": 10,
    "start_time": "2024-10-29T21:23:43.271Z"
   },
   {
    "duration": 19,
    "start_time": "2024-10-29T21:23:43.283Z"
   },
   {
    "duration": 12,
    "start_time": "2024-10-29T21:23:43.307Z"
   },
   {
    "duration": 6,
    "start_time": "2024-10-29T21:23:43.321Z"
   },
   {
    "duration": 11,
    "start_time": "2024-10-29T21:23:43.329Z"
   },
   {
    "duration": 16,
    "start_time": "2024-10-29T21:23:43.342Z"
   },
   {
    "duration": 55,
    "start_time": "2024-10-29T21:23:43.360Z"
   },
   {
    "duration": 14,
    "start_time": "2024-10-29T21:23:43.417Z"
   },
   {
    "duration": 43,
    "start_time": "2024-10-29T21:23:43.432Z"
   },
   {
    "duration": 1006,
    "start_time": "2024-10-29T21:26:22.448Z"
   },
   {
    "duration": 39,
    "start_time": "2024-10-29T21:26:32.816Z"
   },
   {
    "duration": 37,
    "start_time": "2024-10-29T21:27:22.795Z"
   },
   {
    "duration": 31,
    "start_time": "2024-10-29T21:28:47.807Z"
   },
   {
    "duration": 1301,
    "start_time": "2024-10-29T21:52:53.100Z"
   },
   {
    "duration": 165,
    "start_time": "2024-10-29T21:52:54.403Z"
   },
   {
    "duration": 16,
    "start_time": "2024-10-29T21:52:54.573Z"
   },
   {
    "duration": 13,
    "start_time": "2024-10-29T21:52:54.591Z"
   },
   {
    "duration": 4,
    "start_time": "2024-10-29T21:52:54.605Z"
   },
   {
    "duration": 6,
    "start_time": "2024-10-29T21:52:54.610Z"
   },
   {
    "duration": 15,
    "start_time": "2024-10-29T21:52:54.617Z"
   },
   {
    "duration": 9,
    "start_time": "2024-10-29T21:52:54.634Z"
   },
   {
    "duration": 16,
    "start_time": "2024-10-29T21:52:54.646Z"
   },
   {
    "duration": 38,
    "start_time": "2024-10-29T21:52:54.664Z"
   },
   {
    "duration": 4,
    "start_time": "2024-10-29T21:52:54.704Z"
   },
   {
    "duration": 17,
    "start_time": "2024-10-29T21:52:54.709Z"
   },
   {
    "duration": 18,
    "start_time": "2024-10-29T21:52:54.727Z"
   },
   {
    "duration": 80,
    "start_time": "2024-10-29T21:52:54.747Z"
   },
   {
    "duration": 9,
    "start_time": "2024-10-29T21:52:54.829Z"
   },
   {
    "duration": 11,
    "start_time": "2024-10-29T21:52:54.840Z"
   },
   {
    "duration": 19,
    "start_time": "2024-10-29T21:52:54.853Z"
   },
   {
    "duration": 25,
    "start_time": "2024-10-29T21:52:54.874Z"
   },
   {
    "duration": 12,
    "start_time": "2024-10-29T21:52:54.900Z"
   },
   {
    "duration": 15,
    "start_time": "2024-10-29T21:52:54.914Z"
   },
   {
    "duration": 6,
    "start_time": "2024-10-29T21:52:54.931Z"
   },
   {
    "duration": 11,
    "start_time": "2024-10-29T21:52:54.939Z"
   },
   {
    "duration": 19,
    "start_time": "2024-10-29T21:52:54.952Z"
   },
   {
    "duration": 10,
    "start_time": "2024-10-29T21:52:54.973Z"
   },
   {
    "duration": 33,
    "start_time": "2024-10-29T21:52:54.984Z"
   },
   {
    "duration": 99,
    "start_time": "2024-10-29T21:52:55.019Z"
   },
   {
    "duration": 118,
    "start_time": "2024-10-29T21:52:55.121Z"
   },
   {
    "duration": 11,
    "start_time": "2024-10-29T21:52:55.241Z"
   },
   {
    "duration": 5,
    "start_time": "2024-10-29T21:52:55.253Z"
   },
   {
    "duration": 11,
    "start_time": "2024-10-29T21:52:55.260Z"
   },
   {
    "duration": 14,
    "start_time": "2024-10-29T21:52:55.272Z"
   },
   {
    "duration": 30,
    "start_time": "2024-10-29T21:52:55.287Z"
   },
   {
    "duration": 11,
    "start_time": "2024-10-29T21:52:55.318Z"
   },
   {
    "duration": 29,
    "start_time": "2024-10-29T21:52:55.331Z"
   },
   {
    "duration": 6,
    "start_time": "2024-10-29T23:06:50.191Z"
   },
   {
    "duration": 104,
    "start_time": "2024-10-29T23:07:10.674Z"
   },
   {
    "duration": 5,
    "start_time": "2024-10-29T23:07:16.210Z"
   },
   {
    "duration": 6,
    "start_time": "2024-10-29T23:07:40.369Z"
   },
   {
    "duration": 24,
    "start_time": "2024-10-29T23:09:15.509Z"
   },
   {
    "duration": 10085,
    "start_time": "2024-10-29T23:26:48.355Z"
   },
   {
    "duration": 21,
    "start_time": "2024-10-29T23:28:03.895Z"
   },
   {
    "duration": 23,
    "start_time": "2024-10-29T23:28:13.689Z"
   },
   {
    "duration": 22,
    "start_time": "2024-10-29T23:28:26.584Z"
   },
   {
    "duration": 22,
    "start_time": "2024-10-29T23:28:42.797Z"
   },
   {
    "duration": 22,
    "start_time": "2024-10-29T23:29:08.486Z"
   },
   {
    "duration": 31,
    "start_time": "2024-10-29T23:29:29.431Z"
   },
   {
    "duration": 22,
    "start_time": "2024-10-29T23:29:38.825Z"
   },
   {
    "duration": 31,
    "start_time": "2024-10-29T23:30:27.331Z"
   },
   {
    "duration": 22,
    "start_time": "2024-10-29T23:30:36.337Z"
   },
   {
    "duration": 12,
    "start_time": "2024-10-29T23:32:08.153Z"
   },
   {
    "duration": 14,
    "start_time": "2024-10-29T23:35:18.517Z"
   },
   {
    "duration": 4909,
    "start_time": "2024-10-29T23:36:20.590Z"
   },
   {
    "duration": 4810,
    "start_time": "2024-10-29T23:37:09.358Z"
   },
   {
    "duration": 22,
    "start_time": "2024-10-29T23:41:19.745Z"
   },
   {
    "duration": 33,
    "start_time": "2024-10-29T23:42:33.164Z"
   },
   {
    "duration": 23,
    "start_time": "2024-10-29T23:43:00.505Z"
   },
   {
    "duration": 22,
    "start_time": "2024-10-29T23:43:21.139Z"
   },
   {
    "duration": 12,
    "start_time": "2024-10-29T23:43:40.644Z"
   },
   {
    "duration": 25,
    "start_time": "2024-10-29T23:43:54.797Z"
   },
   {
    "duration": 344,
    "start_time": "2024-10-29T23:44:01.155Z"
   },
   {
    "duration": 17,
    "start_time": "2024-10-29T23:44:58.738Z"
   },
   {
    "duration": 356,
    "start_time": "2024-10-29T23:46:41.695Z"
   },
   {
    "duration": 98,
    "start_time": "2024-10-29T23:47:03.700Z"
   },
   {
    "duration": 473,
    "start_time": "2024-10-29T23:47:08.730Z"
   },
   {
    "duration": 349,
    "start_time": "2024-10-29T23:47:18.850Z"
   },
   {
    "duration": 346,
    "start_time": "2024-10-29T23:47:39.806Z"
   },
   {
    "duration": 1621,
    "start_time": "2024-10-30T09:04:25.517Z"
   },
   {
    "duration": 113,
    "start_time": "2024-10-30T09:04:27.140Z"
   },
   {
    "duration": 16,
    "start_time": "2024-10-30T09:04:27.254Z"
   },
   {
    "duration": 17,
    "start_time": "2024-10-30T09:04:27.272Z"
   },
   {
    "duration": 24,
    "start_time": "2024-10-30T09:04:27.291Z"
   },
   {
    "duration": 5,
    "start_time": "2024-10-30T09:04:27.317Z"
   },
   {
    "duration": 15,
    "start_time": "2024-10-30T09:04:27.324Z"
   },
   {
    "duration": 8,
    "start_time": "2024-10-30T09:04:27.340Z"
   },
   {
    "duration": 33,
    "start_time": "2024-10-30T09:04:27.350Z"
   },
   {
    "duration": 5,
    "start_time": "2024-10-30T09:04:27.386Z"
   },
   {
    "duration": 10,
    "start_time": "2024-10-30T09:04:27.393Z"
   },
   {
    "duration": 38,
    "start_time": "2024-10-30T09:04:27.405Z"
   },
   {
    "duration": 40,
    "start_time": "2024-10-30T09:04:27.444Z"
   },
   {
    "duration": 93,
    "start_time": "2024-10-30T09:04:27.486Z"
   },
   {
    "duration": 10,
    "start_time": "2024-10-30T09:04:27.580Z"
   },
   {
    "duration": 20,
    "start_time": "2024-10-30T09:04:27.592Z"
   },
   {
    "duration": 143,
    "start_time": "2024-10-30T09:04:27.614Z"
   },
   {
    "duration": 45,
    "start_time": "2024-10-30T09:04:27.758Z"
   },
   {
    "duration": 127,
    "start_time": "2024-10-30T09:04:27.805Z"
   },
   {
    "duration": 29,
    "start_time": "2024-10-30T09:04:27.934Z"
   },
   {
    "duration": 17,
    "start_time": "2024-10-30T09:04:27.965Z"
   },
   {
    "duration": 25,
    "start_time": "2024-10-30T09:04:27.984Z"
   },
   {
    "duration": 21,
    "start_time": "2024-10-30T09:04:28.011Z"
   },
   {
    "duration": 10,
    "start_time": "2024-10-30T09:04:28.033Z"
   },
   {
    "duration": 18,
    "start_time": "2024-10-30T09:04:28.045Z"
   },
   {
    "duration": 31,
    "start_time": "2024-10-30T09:04:28.065Z"
   },
   {
    "duration": 32,
    "start_time": "2024-10-30T09:04:28.098Z"
   },
   {
    "duration": 26,
    "start_time": "2024-10-30T09:04:28.133Z"
   },
   {
    "duration": 5,
    "start_time": "2024-10-30T09:04:28.161Z"
   },
   {
    "duration": 62,
    "start_time": "2024-10-30T09:04:28.168Z"
   },
   {
    "duration": 27,
    "start_time": "2024-10-30T09:04:28.232Z"
   },
   {
    "duration": 32,
    "start_time": "2024-10-30T09:04:28.261Z"
   },
   {
    "duration": 60,
    "start_time": "2024-10-30T09:04:28.295Z"
   },
   {
    "duration": 36,
    "start_time": "2024-10-30T09:04:28.357Z"
   },
   {
    "duration": 9,
    "start_time": "2024-10-30T09:04:28.396Z"
   },
   {
    "duration": 8,
    "start_time": "2024-10-30T09:04:28.407Z"
   },
   {
    "duration": 20,
    "start_time": "2024-10-30T09:04:28.417Z"
   },
   {
    "duration": 466,
    "start_time": "2024-10-30T09:04:28.439Z"
   },
   {
    "duration": 14,
    "start_time": "2024-10-30T09:05:32.459Z"
   },
   {
    "duration": 702,
    "start_time": "2024-10-30T09:06:39.707Z"
   },
   {
    "duration": 551,
    "start_time": "2024-10-30T09:06:56.738Z"
   },
   {
    "duration": 12,
    "start_time": "2024-10-30T09:07:14.496Z"
   },
   {
    "duration": 17,
    "start_time": "2024-10-30T09:07:30.640Z"
   },
   {
    "duration": 12,
    "start_time": "2024-10-30T09:07:49.503Z"
   },
   {
    "duration": 16,
    "start_time": "2024-10-30T09:08:15.825Z"
   },
   {
    "duration": 15,
    "start_time": "2024-10-30T09:08:43.741Z"
   },
   {
    "duration": 18,
    "start_time": "2024-10-30T09:09:31.328Z"
   },
   {
    "duration": 36,
    "start_time": "2024-10-30T09:09:54.400Z"
   },
   {
    "duration": 21,
    "start_time": "2024-10-30T09:11:51.542Z"
   },
   {
    "duration": 416,
    "start_time": "2024-10-30T09:12:03.567Z"
   },
   {
    "duration": 474,
    "start_time": "2024-10-30T09:12:39.694Z"
   },
   {
    "duration": 387,
    "start_time": "2024-10-30T09:12:58.460Z"
   },
   {
    "duration": 24,
    "start_time": "2024-10-30T09:27:25.521Z"
   },
   {
    "duration": 144,
    "start_time": "2024-10-30T09:28:40.262Z"
   },
   {
    "duration": 374,
    "start_time": "2024-10-30T09:28:55.891Z"
   },
   {
    "duration": 343,
    "start_time": "2024-10-30T09:29:10.854Z"
   },
   {
    "duration": 332,
    "start_time": "2024-10-30T09:34:24.805Z"
   },
   {
    "duration": 326,
    "start_time": "2024-10-30T09:34:32.544Z"
   },
   {
    "duration": 494,
    "start_time": "2024-10-30T09:34:53.311Z"
   },
   {
    "duration": 331,
    "start_time": "2024-10-30T09:35:49.330Z"
   },
   {
    "duration": 22,
    "start_time": "2024-10-30T09:37:32.597Z"
   },
   {
    "duration": 22,
    "start_time": "2024-10-30T09:38:58.759Z"
   },
   {
    "duration": 358,
    "start_time": "2024-10-30T09:40:53.560Z"
   },
   {
    "duration": 388,
    "start_time": "2024-10-30T09:43:14.386Z"
   },
   {
    "duration": 425,
    "start_time": "2024-10-30T09:43:31.996Z"
   },
   {
    "duration": 476,
    "start_time": "2024-10-30T09:44:20.726Z"
   },
   {
    "duration": 6441,
    "start_time": "2024-10-30T09:44:48.182Z"
   },
   {
    "duration": 6380,
    "start_time": "2024-10-30T09:45:26.430Z"
   },
   {
    "duration": 769,
    "start_time": "2024-10-30T09:45:33.967Z"
   },
   {
    "duration": 377,
    "start_time": "2024-10-30T09:45:40.983Z"
   },
   {
    "duration": 6005,
    "start_time": "2024-10-30T09:48:23.943Z"
   },
   {
    "duration": 6493,
    "start_time": "2024-10-30T09:48:46.436Z"
   },
   {
    "duration": 6520,
    "start_time": "2024-10-30T09:49:39.510Z"
   },
   {
    "duration": 6582,
    "start_time": "2024-10-30T09:50:26.465Z"
   },
   {
    "duration": 6273,
    "start_time": "2024-10-30T09:50:43.771Z"
   },
   {
    "duration": 6128,
    "start_time": "2024-10-30T09:51:12.574Z"
   },
   {
    "duration": 1117,
    "start_time": "2024-10-30T09:52:39.607Z"
   },
   {
    "duration": 714,
    "start_time": "2024-10-30T09:53:16.451Z"
   },
   {
    "duration": 809,
    "start_time": "2024-10-30T09:53:26.462Z"
   },
   {
    "duration": 726,
    "start_time": "2024-10-30T09:53:39.287Z"
   },
   {
    "duration": 823,
    "start_time": "2024-10-30T09:53:45.252Z"
   },
   {
    "duration": 19,
    "start_time": "2024-10-30T09:56:15.660Z"
   },
   {
    "duration": 150,
    "start_time": "2024-10-30T09:56:52.116Z"
   },
   {
    "duration": 147,
    "start_time": "2024-10-30T09:57:11.254Z"
   },
   {
    "duration": 21,
    "start_time": "2024-10-30T09:58:45.518Z"
   },
   {
    "duration": 121,
    "start_time": "2024-10-30T09:59:58.058Z"
   },
   {
    "duration": 14,
    "start_time": "2024-10-30T10:01:40.043Z"
   },
   {
    "duration": 183,
    "start_time": "2024-10-30T10:03:37.250Z"
   },
   {
    "duration": 15,
    "start_time": "2024-10-30T10:04:05.714Z"
   },
   {
    "duration": 189,
    "start_time": "2024-10-30T10:04:11.311Z"
   },
   {
    "duration": 146,
    "start_time": "2024-10-30T10:05:22.274Z"
   },
   {
    "duration": 25,
    "start_time": "2024-10-30T10:06:26.363Z"
   },
   {
    "duration": 184,
    "start_time": "2024-10-30T10:07:33.370Z"
   },
   {
    "duration": 1287,
    "start_time": "2024-10-30T10:17:19.039Z"
   },
   {
    "duration": 44,
    "start_time": "2024-10-30T10:17:20.328Z"
   },
   {
    "duration": 15,
    "start_time": "2024-10-30T10:17:20.374Z"
   },
   {
    "duration": 19,
    "start_time": "2024-10-30T10:17:20.391Z"
   },
   {
    "duration": 20,
    "start_time": "2024-10-30T10:17:20.412Z"
   },
   {
    "duration": 22,
    "start_time": "2024-10-30T10:17:20.433Z"
   },
   {
    "duration": 49,
    "start_time": "2024-10-30T10:17:20.457Z"
   },
   {
    "duration": 7,
    "start_time": "2024-10-30T10:17:20.507Z"
   },
   {
    "duration": 23,
    "start_time": "2024-10-30T10:17:20.516Z"
   },
   {
    "duration": 4,
    "start_time": "2024-10-30T10:17:20.542Z"
   },
   {
    "duration": 72,
    "start_time": "2024-10-30T10:17:20.548Z"
   },
   {
    "duration": 22,
    "start_time": "2024-10-30T10:17:20.622Z"
   },
   {
    "duration": 20,
    "start_time": "2024-10-30T10:17:20.646Z"
   },
   {
    "duration": 80,
    "start_time": "2024-10-30T10:17:20.668Z"
   },
   {
    "duration": 10,
    "start_time": "2024-10-30T10:17:20.750Z"
   },
   {
    "duration": 14,
    "start_time": "2024-10-30T10:17:20.762Z"
   },
   {
    "duration": 20,
    "start_time": "2024-10-30T10:17:20.778Z"
   },
   {
    "duration": 15,
    "start_time": "2024-10-30T10:17:20.800Z"
   },
   {
    "duration": 31,
    "start_time": "2024-10-30T10:17:20.817Z"
   },
   {
    "duration": 20,
    "start_time": "2024-10-30T10:17:20.850Z"
   },
   {
    "duration": 7,
    "start_time": "2024-10-30T10:17:20.872Z"
   },
   {
    "duration": 17,
    "start_time": "2024-10-30T10:17:20.881Z"
   },
   {
    "duration": 93,
    "start_time": "2024-10-30T10:17:20.900Z"
   },
   {
    "duration": 21,
    "start_time": "2024-10-30T10:17:20.994Z"
   },
   {
    "duration": 15,
    "start_time": "2024-10-30T10:17:21.016Z"
   },
   {
    "duration": 18,
    "start_time": "2024-10-30T10:17:21.032Z"
   },
   {
    "duration": 13,
    "start_time": "2024-10-30T10:17:21.051Z"
   },
   {
    "duration": 23,
    "start_time": "2024-10-30T10:17:21.068Z"
   },
   {
    "duration": 26,
    "start_time": "2024-10-30T10:17:21.092Z"
   },
   {
    "duration": 33,
    "start_time": "2024-10-30T10:17:21.120Z"
   },
   {
    "duration": 28,
    "start_time": "2024-10-30T10:17:21.154Z"
   },
   {
    "duration": 36,
    "start_time": "2024-10-30T10:17:21.183Z"
   },
   {
    "duration": 44,
    "start_time": "2024-10-30T10:17:21.220Z"
   },
   {
    "duration": 29,
    "start_time": "2024-10-30T10:17:21.266Z"
   },
   {
    "duration": 6,
    "start_time": "2024-10-30T10:17:21.296Z"
   },
   {
    "duration": 34,
    "start_time": "2024-10-30T10:17:21.303Z"
   },
   {
    "duration": 404,
    "start_time": "2024-10-30T10:17:21.338Z"
   },
   {
    "duration": 397,
    "start_time": "2024-10-30T10:17:21.744Z"
   },
   {
    "duration": 6067,
    "start_time": "2024-10-30T10:17:22.143Z"
   },
   {
    "duration": 6272,
    "start_time": "2024-10-30T10:17:28.212Z"
   },
   {
    "duration": 1083,
    "start_time": "2024-10-30T10:17:34.486Z"
   },
   {
    "duration": 759,
    "start_time": "2024-10-30T10:17:35.571Z"
   },
   {
    "duration": 21,
    "start_time": "2024-10-30T10:17:36.332Z"
   },
   {
    "duration": 162,
    "start_time": "2024-10-30T10:17:36.354Z"
   },
   {
    "duration": 21,
    "start_time": "2024-10-30T10:17:36.518Z"
   },
   {
    "duration": 225,
    "start_time": "2024-10-30T10:17:36.540Z"
   },
   {
    "duration": 33,
    "start_time": "2024-10-30T10:17:36.766Z"
   },
   {
    "duration": 199,
    "start_time": "2024-10-30T10:17:36.801Z"
   },
   {
    "duration": 23,
    "start_time": "2024-10-30T10:17:37.002Z"
   },
   {
    "duration": 186,
    "start_time": "2024-10-30T10:17:37.027Z"
   },
   {
    "duration": 22,
    "start_time": "2024-10-30T10:17:37.214Z"
   },
   {
    "duration": 125,
    "start_time": "2024-10-30T10:17:37.238Z"
   },
   {
    "duration": 0,
    "start_time": "2024-10-30T10:17:37.364Z"
   },
   {
    "duration": 0,
    "start_time": "2024-10-30T10:17:37.366Z"
   },
   {
    "duration": 139,
    "start_time": "2024-10-30T10:23:45.997Z"
   },
   {
    "duration": 19,
    "start_time": "2024-10-30T10:23:55.600Z"
   },
   {
    "duration": 125,
    "start_time": "2024-10-30T10:24:02.264Z"
   },
   {
    "duration": 426,
    "start_time": "2024-10-30T12:06:59.135Z"
   },
   {
    "duration": 390,
    "start_time": "2024-10-30T12:07:23.135Z"
   },
   {
    "duration": 6633,
    "start_time": "2024-10-30T12:07:35.059Z"
   },
   {
    "duration": 6747,
    "start_time": "2024-10-30T12:07:48.089Z"
   },
   {
    "duration": 1210,
    "start_time": "2024-10-30T12:08:06.262Z"
   },
   {
    "duration": 729,
    "start_time": "2024-10-30T12:08:19.820Z"
   },
   {
    "duration": 13,
    "start_time": "2024-10-30T12:10:16.066Z"
   },
   {
    "duration": 159,
    "start_time": "2024-10-30T12:10:24.731Z"
   },
   {
    "duration": 6060,
    "start_time": "2024-10-30T12:12:29.304Z"
   },
   {
    "duration": 1126,
    "start_time": "2024-10-30T12:13:40.575Z"
   },
   {
    "duration": 49,
    "start_time": "2024-10-30T12:24:27.266Z"
   },
   {
    "duration": 44,
    "start_time": "2024-10-30T12:28:34.280Z"
   },
   {
    "duration": 21,
    "start_time": "2024-10-30T12:33:19.739Z"
   },
   {
    "duration": 57,
    "start_time": "2024-10-30T12:33:28.112Z"
   },
   {
    "duration": 163,
    "start_time": "2024-10-30T12:36:34.410Z"
   },
   {
    "duration": 148,
    "start_time": "2024-10-30T12:36:52.229Z"
   },
   {
    "duration": 149,
    "start_time": "2024-10-30T12:36:58.014Z"
   },
   {
    "duration": 1828,
    "start_time": "2024-10-30T12:37:27.554Z"
   },
   {
    "duration": 1611,
    "start_time": "2024-10-30T12:38:12.606Z"
   },
   {
    "duration": 835,
    "start_time": "2024-10-30T12:38:49.201Z"
   },
   {
    "duration": 146,
    "start_time": "2024-10-30T13:03:53.029Z"
   },
   {
    "duration": 347,
    "start_time": "2024-10-30T13:03:58.194Z"
   },
   {
    "duration": 228,
    "start_time": "2024-10-30T13:04:12.034Z"
   },
   {
    "duration": 450,
    "start_time": "2024-10-30T13:04:20.886Z"
   },
   {
    "duration": 438,
    "start_time": "2024-10-30T13:05:20.042Z"
   },
   {
    "duration": 560,
    "start_time": "2024-10-30T13:06:33.666Z"
   },
   {
    "duration": 446,
    "start_time": "2024-10-30T13:06:51.715Z"
   },
   {
    "duration": 406,
    "start_time": "2024-10-30T13:07:12.234Z"
   },
   {
    "duration": 6842,
    "start_time": "2024-10-30T13:07:39.021Z"
   },
   {
    "duration": 110,
    "start_time": "2024-10-30T13:07:55.368Z"
   },
   {
    "duration": 6895,
    "start_time": "2024-10-30T13:08:02.288Z"
   },
   {
    "duration": 1257,
    "start_time": "2024-10-30T13:08:25.551Z"
   },
   {
    "duration": 809,
    "start_time": "2024-10-30T13:08:34.832Z"
   },
   {
    "duration": 232,
    "start_time": "2024-10-30T13:35:18.645Z"
   },
   {
    "duration": 129,
    "start_time": "2024-10-30T13:35:34.243Z"
   },
   {
    "duration": 1017,
    "start_time": "2024-10-30T13:35:50.085Z"
   },
   {
    "duration": 972,
    "start_time": "2024-10-30T13:37:57.974Z"
   },
   {
    "duration": 1365,
    "start_time": "2024-10-30T17:19:40.719Z"
   },
   {
    "duration": 47,
    "start_time": "2024-10-30T17:19:42.086Z"
   },
   {
    "duration": 18,
    "start_time": "2024-10-30T17:19:42.135Z"
   },
   {
    "duration": 29,
    "start_time": "2024-10-30T17:19:42.155Z"
   },
   {
    "duration": 17,
    "start_time": "2024-10-30T17:19:42.187Z"
   },
   {
    "duration": 4,
    "start_time": "2024-10-30T17:19:42.213Z"
   },
   {
    "duration": 24,
    "start_time": "2024-10-30T17:19:42.219Z"
   },
   {
    "duration": 16,
    "start_time": "2024-10-30T17:19:42.245Z"
   },
   {
    "duration": 14,
    "start_time": "2024-10-30T17:19:42.262Z"
   },
   {
    "duration": 7,
    "start_time": "2024-10-30T17:19:42.279Z"
   },
   {
    "duration": 11,
    "start_time": "2024-10-30T17:19:42.288Z"
   },
   {
    "duration": 14,
    "start_time": "2024-10-30T17:19:42.305Z"
   },
   {
    "duration": 38,
    "start_time": "2024-10-30T17:19:42.320Z"
   },
   {
    "duration": 906,
    "start_time": "2024-10-30T17:19:42.359Z"
   },
   {
    "duration": 12,
    "start_time": "2024-10-30T17:19:43.266Z"
   },
   {
    "duration": 35,
    "start_time": "2024-10-30T17:19:43.279Z"
   },
   {
    "duration": 7,
    "start_time": "2024-10-30T17:19:43.316Z"
   },
   {
    "duration": 11,
    "start_time": "2024-10-30T17:19:43.326Z"
   },
   {
    "duration": 8,
    "start_time": "2024-10-30T17:19:43.339Z"
   },
   {
    "duration": 12,
    "start_time": "2024-10-30T17:19:43.349Z"
   },
   {
    "duration": 46,
    "start_time": "2024-10-30T17:19:43.363Z"
   },
   {
    "duration": 5,
    "start_time": "2024-10-30T17:19:43.413Z"
   },
   {
    "duration": 21,
    "start_time": "2024-10-30T17:19:43.419Z"
   },
   {
    "duration": 8,
    "start_time": "2024-10-30T17:19:43.442Z"
   },
   {
    "duration": 6,
    "start_time": "2024-10-30T17:19:43.452Z"
   },
   {
    "duration": 6,
    "start_time": "2024-10-30T17:19:43.459Z"
   },
   {
    "duration": 40,
    "start_time": "2024-10-30T17:19:43.467Z"
   },
   {
    "duration": 13,
    "start_time": "2024-10-30T17:19:43.515Z"
   },
   {
    "duration": 7,
    "start_time": "2024-10-30T17:19:43.531Z"
   },
   {
    "duration": 21,
    "start_time": "2024-10-30T17:19:43.539Z"
   },
   {
    "duration": 49,
    "start_time": "2024-10-30T17:19:43.562Z"
   },
   {
    "duration": 24,
    "start_time": "2024-10-30T17:19:43.614Z"
   },
   {
    "duration": 15,
    "start_time": "2024-10-30T17:19:43.640Z"
   },
   {
    "duration": 56,
    "start_time": "2024-10-30T17:19:43.657Z"
   },
   {
    "duration": 6,
    "start_time": "2024-10-30T17:19:43.715Z"
   },
   {
    "duration": 28,
    "start_time": "2024-10-30T17:19:43.723Z"
   },
   {
    "duration": 448,
    "start_time": "2024-10-30T17:19:43.752Z"
   },
   {
    "duration": 409,
    "start_time": "2024-10-30T17:19:44.211Z"
   },
   {
    "duration": 7148,
    "start_time": "2024-10-30T17:19:44.622Z"
   },
   {
    "duration": 7050,
    "start_time": "2024-10-30T17:19:51.772Z"
   },
   {
    "duration": 1217,
    "start_time": "2024-10-30T17:19:58.823Z"
   },
   {
    "duration": 805,
    "start_time": "2024-10-30T17:20:00.042Z"
   },
   {
    "duration": 22,
    "start_time": "2024-10-30T17:20:00.848Z"
   },
   {
    "duration": 194,
    "start_time": "2024-10-30T17:20:00.872Z"
   },
   {
    "duration": 33,
    "start_time": "2024-10-30T17:20:01.068Z"
   },
   {
    "duration": 133,
    "start_time": "2024-10-30T17:20:01.109Z"
   },
   {
    "duration": 22,
    "start_time": "2024-10-30T17:20:01.244Z"
   },
   {
    "duration": 241,
    "start_time": "2024-10-30T17:20:01.267Z"
   },
   {
    "duration": 28,
    "start_time": "2024-10-30T17:20:01.510Z"
   },
   {
    "duration": 300,
    "start_time": "2024-10-30T17:20:01.539Z"
   },
   {
    "duration": 19,
    "start_time": "2024-10-30T17:20:01.841Z"
   },
   {
    "duration": 302,
    "start_time": "2024-10-30T17:20:01.862Z"
   },
   {
    "duration": 21,
    "start_time": "2024-10-30T17:20:02.166Z"
   },
   {
    "duration": 150,
    "start_time": "2024-10-30T17:20:02.197Z"
   },
   {
    "duration": 1637,
    "start_time": "2024-10-30T17:20:02.349Z"
   },
   {
    "duration": 174,
    "start_time": "2024-10-30T17:20:03.988Z"
   },
   {
    "duration": 0,
    "start_time": "2024-10-30T17:20:04.164Z"
   },
   {
    "duration": 12,
    "start_time": "2024-10-30T17:28:32.504Z"
   },
   {
    "duration": 2475,
    "start_time": "2024-10-30T17:36:05.586Z"
   },
   {
    "duration": 16,
    "start_time": "2024-10-30T17:36:56.992Z"
   },
   {
    "duration": 171,
    "start_time": "2024-10-30T17:41:53.809Z"
   },
   {
    "duration": 299,
    "start_time": "2024-10-30T17:42:31.840Z"
   },
   {
    "duration": 7,
    "start_time": "2024-10-30T17:57:41.841Z"
   },
   {
    "duration": 5,
    "start_time": "2024-10-30T17:59:03.684Z"
   },
   {
    "duration": 995,
    "start_time": "2024-10-30T18:02:12.315Z"
   },
   {
    "duration": 8,
    "start_time": "2024-10-30T18:02:31.014Z"
   },
   {
    "duration": 14,
    "start_time": "2024-10-30T18:04:15.979Z"
   },
   {
    "duration": 7,
    "start_time": "2024-10-30T18:05:49.260Z"
   },
   {
    "duration": 39,
    "start_time": "2024-10-30T18:10:28.307Z"
   },
   {
    "duration": 204,
    "start_time": "2024-10-30T18:10:40.133Z"
   },
   {
    "duration": 84,
    "start_time": "2024-10-30T18:15:08.505Z"
   },
   {
    "duration": 8,
    "start_time": "2024-10-30T18:20:08.965Z"
   },
   {
    "duration": 6,
    "start_time": "2024-10-30T18:23:54.315Z"
   },
   {
    "duration": 6,
    "start_time": "2024-10-30T18:24:14.087Z"
   },
   {
    "duration": 6,
    "start_time": "2024-10-30T18:25:21.617Z"
   },
   {
    "duration": 19,
    "start_time": "2024-10-30T19:01:35.725Z"
   },
   {
    "duration": 61,
    "start_time": "2024-10-30T19:54:47.814Z"
   },
   {
    "duration": 14,
    "start_time": "2024-10-30T19:56:05.816Z"
   },
   {
    "duration": 6,
    "start_time": "2024-10-30T19:56:21.011Z"
   },
   {
    "duration": 5,
    "start_time": "2024-10-30T19:57:31.767Z"
   },
   {
    "duration": 6,
    "start_time": "2024-10-30T20:03:41.109Z"
   },
   {
    "duration": 5,
    "start_time": "2024-10-30T20:03:54.343Z"
   },
   {
    "duration": 31,
    "start_time": "2024-10-30T20:07:59.914Z"
   },
   {
    "duration": 31,
    "start_time": "2024-10-30T20:08:07.092Z"
   },
   {
    "duration": 1358,
    "start_time": "2024-10-30T20:08:22.005Z"
   },
   {
    "duration": 51,
    "start_time": "2024-10-30T20:08:23.364Z"
   },
   {
    "duration": 17,
    "start_time": "2024-10-30T20:08:23.417Z"
   },
   {
    "duration": 13,
    "start_time": "2024-10-30T20:08:23.436Z"
   },
   {
    "duration": 4,
    "start_time": "2024-10-30T20:08:23.450Z"
   },
   {
    "duration": 8,
    "start_time": "2024-10-30T20:08:23.455Z"
   },
   {
    "duration": 41,
    "start_time": "2024-10-30T20:08:23.464Z"
   },
   {
    "duration": 11,
    "start_time": "2024-10-30T20:08:23.507Z"
   },
   {
    "duration": 13,
    "start_time": "2024-10-30T20:08:23.519Z"
   },
   {
    "duration": 4,
    "start_time": "2024-10-30T20:08:23.534Z"
   },
   {
    "duration": 4,
    "start_time": "2024-10-30T20:08:23.540Z"
   },
   {
    "duration": 9,
    "start_time": "2024-10-30T20:08:23.545Z"
   },
   {
    "duration": 43,
    "start_time": "2024-10-30T20:08:23.556Z"
   },
   {
    "duration": 862,
    "start_time": "2024-10-30T20:08:23.601Z"
   },
   {
    "duration": 11,
    "start_time": "2024-10-30T20:08:24.465Z"
   },
   {
    "duration": 34,
    "start_time": "2024-10-30T20:08:24.478Z"
   },
   {
    "duration": 5,
    "start_time": "2024-10-30T20:08:24.514Z"
   },
   {
    "duration": 36,
    "start_time": "2024-10-30T20:08:24.521Z"
   },
   {
    "duration": 26,
    "start_time": "2024-10-30T20:08:24.559Z"
   },
   {
    "duration": 5,
    "start_time": "2024-10-30T20:08:24.587Z"
   },
   {
    "duration": 13,
    "start_time": "2024-10-30T20:08:24.594Z"
   },
   {
    "duration": 6,
    "start_time": "2024-10-30T20:08:24.614Z"
   },
   {
    "duration": 14,
    "start_time": "2024-10-30T20:08:24.622Z"
   },
   {
    "duration": 8,
    "start_time": "2024-10-30T20:08:24.637Z"
   },
   {
    "duration": 5,
    "start_time": "2024-10-30T20:08:24.647Z"
   },
   {
    "duration": 12,
    "start_time": "2024-10-30T20:08:24.654Z"
   },
   {
    "duration": 7,
    "start_time": "2024-10-30T20:08:24.667Z"
   },
   {
    "duration": 15,
    "start_time": "2024-10-30T20:08:24.704Z"
   },
   {
    "duration": 10,
    "start_time": "2024-10-30T20:08:24.721Z"
   },
   {
    "duration": 22,
    "start_time": "2024-10-30T20:08:24.733Z"
   },
   {
    "duration": 16,
    "start_time": "2024-10-30T20:08:24.756Z"
   },
   {
    "duration": 47,
    "start_time": "2024-10-30T20:08:24.774Z"
   },
   {
    "duration": 67,
    "start_time": "2024-10-30T20:08:24.823Z"
   },
   {
    "duration": 32,
    "start_time": "2024-10-30T20:08:24.891Z"
   },
   {
    "duration": 6,
    "start_time": "2024-10-30T20:08:24.924Z"
   },
   {
    "duration": 15,
    "start_time": "2024-10-30T20:08:24.931Z"
   },
   {
    "duration": 428,
    "start_time": "2024-10-30T20:08:24.947Z"
   },
   {
    "duration": 442,
    "start_time": "2024-10-30T20:08:25.377Z"
   },
   {
    "duration": 6661,
    "start_time": "2024-10-30T20:08:25.821Z"
   },
   {
    "duration": 6668,
    "start_time": "2024-10-30T20:08:32.484Z"
   },
   {
    "duration": 1223,
    "start_time": "2024-10-30T20:08:39.154Z"
   },
   {
    "duration": 807,
    "start_time": "2024-10-30T20:08:40.380Z"
   },
   {
    "duration": 36,
    "start_time": "2024-10-30T20:08:41.188Z"
   },
   {
    "duration": 164,
    "start_time": "2024-10-30T20:08:41.226Z"
   },
   {
    "duration": 32,
    "start_time": "2024-10-30T20:08:41.392Z"
   },
   {
    "duration": 140,
    "start_time": "2024-10-30T20:08:41.426Z"
   },
   {
    "duration": 35,
    "start_time": "2024-10-30T20:08:41.568Z"
   },
   {
    "duration": 202,
    "start_time": "2024-10-30T20:08:41.606Z"
   },
   {
    "duration": 25,
    "start_time": "2024-10-30T20:08:41.810Z"
   },
   {
    "duration": 299,
    "start_time": "2024-10-30T20:08:41.836Z"
   },
   {
    "duration": 20,
    "start_time": "2024-10-30T20:08:42.137Z"
   },
   {
    "duration": 159,
    "start_time": "2024-10-30T20:08:42.158Z"
   },
   {
    "duration": 21,
    "start_time": "2024-10-30T20:08:42.319Z"
   },
   {
    "duration": 151,
    "start_time": "2024-10-30T20:08:42.342Z"
   },
   {
    "duration": 1533,
    "start_time": "2024-10-30T20:08:42.497Z"
   },
   {
    "duration": 9,
    "start_time": "2024-10-30T20:08:44.032Z"
   },
   {
    "duration": 7,
    "start_time": "2024-10-30T20:08:44.042Z"
   },
   {
    "duration": 6,
    "start_time": "2024-10-30T20:08:44.051Z"
   },
   {
    "duration": 6,
    "start_time": "2024-10-30T20:08:44.058Z"
   },
   {
    "duration": 6,
    "start_time": "2024-10-30T20:08:44.066Z"
   },
   {
    "duration": 15,
    "start_time": "2024-10-30T20:08:44.074Z"
   },
   {
    "duration": 16,
    "start_time": "2024-10-30T20:08:44.090Z"
   },
   {
    "duration": 9,
    "start_time": "2024-10-30T20:08:44.108Z"
   },
   {
    "duration": 14,
    "start_time": "2024-10-30T20:08:44.119Z"
   },
   {
    "duration": 29,
    "start_time": "2024-10-30T20:08:44.136Z"
   },
   {
    "duration": 7,
    "start_time": "2024-10-30T20:12:28.811Z"
   },
   {
    "duration": 4,
    "start_time": "2024-10-30T20:12:39.658Z"
   },
   {
    "duration": 5,
    "start_time": "2024-10-30T20:13:28.820Z"
   },
   {
    "duration": 10,
    "start_time": "2024-10-30T20:42:45.562Z"
   },
   {
    "duration": 9,
    "start_time": "2024-10-30T20:47:20.354Z"
   },
   {
    "duration": 9,
    "start_time": "2024-10-30T20:51:38.833Z"
   },
   {
    "duration": 10,
    "start_time": "2024-10-30T20:53:46.944Z"
   },
   {
    "duration": 10,
    "start_time": "2024-10-30T20:55:05.712Z"
   },
   {
    "duration": 13,
    "start_time": "2024-10-30T20:56:23.714Z"
   },
   {
    "duration": 9,
    "start_time": "2024-10-30T20:57:05.719Z"
   },
   {
    "duration": 10,
    "start_time": "2024-10-30T20:58:02.959Z"
   },
   {
    "duration": 9,
    "start_time": "2024-10-30T20:58:21.523Z"
   },
   {
    "duration": 10,
    "start_time": "2024-10-30T21:05:16.940Z"
   },
   {
    "duration": 11,
    "start_time": "2024-10-30T21:05:26.682Z"
   },
   {
    "duration": 12,
    "start_time": "2024-10-30T21:10:10.890Z"
   },
   {
    "duration": 17,
    "start_time": "2024-10-30T21:10:33.694Z"
   },
   {
    "duration": 9,
    "start_time": "2024-10-30T21:10:43.652Z"
   },
   {
    "duration": 8,
    "start_time": "2024-10-30T21:10:57.409Z"
   },
   {
    "duration": 10,
    "start_time": "2024-10-30T21:12:24.131Z"
   },
   {
    "duration": 7,
    "start_time": "2024-10-30T21:12:38.614Z"
   },
   {
    "duration": 12,
    "start_time": "2024-10-30T21:13:32.534Z"
   },
   {
    "duration": 9,
    "start_time": "2024-10-30T21:24:19.553Z"
   },
   {
    "duration": 9,
    "start_time": "2024-10-30T21:24:32.258Z"
   },
   {
    "duration": 9,
    "start_time": "2024-10-30T21:24:44.591Z"
   },
   {
    "duration": 9,
    "start_time": "2024-10-30T21:25:09.410Z"
   },
   {
    "duration": 8,
    "start_time": "2024-10-30T21:25:31.771Z"
   },
   {
    "duration": 1348,
    "start_time": "2024-10-30T21:52:50.274Z"
   },
   {
    "duration": 44,
    "start_time": "2024-10-30T21:52:51.624Z"
   },
   {
    "duration": 15,
    "start_time": "2024-10-30T21:52:51.670Z"
   },
   {
    "duration": 20,
    "start_time": "2024-10-30T21:52:51.687Z"
   },
   {
    "duration": 7,
    "start_time": "2024-10-30T21:52:51.708Z"
   },
   {
    "duration": 11,
    "start_time": "2024-10-30T21:52:51.717Z"
   },
   {
    "duration": 17,
    "start_time": "2024-10-30T21:52:51.730Z"
   },
   {
    "duration": 8,
    "start_time": "2024-10-30T21:52:51.749Z"
   },
   {
    "duration": 15,
    "start_time": "2024-10-30T21:52:51.758Z"
   },
   {
    "duration": 4,
    "start_time": "2024-10-30T21:52:51.775Z"
   },
   {
    "duration": 4,
    "start_time": "2024-10-30T21:52:51.797Z"
   },
   {
    "duration": 26,
    "start_time": "2024-10-30T21:52:51.802Z"
   },
   {
    "duration": 35,
    "start_time": "2024-10-30T21:52:51.830Z"
   },
   {
    "duration": 833,
    "start_time": "2024-10-30T21:52:51.867Z"
   },
   {
    "duration": 10,
    "start_time": "2024-10-30T21:52:52.702Z"
   },
   {
    "duration": 31,
    "start_time": "2024-10-30T21:52:52.714Z"
   },
   {
    "duration": 6,
    "start_time": "2024-10-30T21:52:52.747Z"
   },
   {
    "duration": 9,
    "start_time": "2024-10-30T21:52:52.754Z"
   },
   {
    "duration": 18,
    "start_time": "2024-10-30T21:52:52.764Z"
   },
   {
    "duration": 113,
    "start_time": "2024-10-30T21:52:52.784Z"
   },
   {
    "duration": 22,
    "start_time": "2024-10-30T21:52:52.899Z"
   },
   {
    "duration": 19,
    "start_time": "2024-10-30T21:52:52.923Z"
   },
   {
    "duration": 22,
    "start_time": "2024-10-30T21:52:52.944Z"
   },
   {
    "duration": 7,
    "start_time": "2024-10-30T21:52:52.968Z"
   },
   {
    "duration": 5,
    "start_time": "2024-10-30T21:52:52.977Z"
   },
   {
    "duration": 15,
    "start_time": "2024-10-30T21:52:52.984Z"
   },
   {
    "duration": 11,
    "start_time": "2024-10-30T21:52:53.001Z"
   },
   {
    "duration": 18,
    "start_time": "2024-10-30T21:52:53.016Z"
   },
   {
    "duration": 18,
    "start_time": "2024-10-30T21:52:53.036Z"
   },
   {
    "duration": 21,
    "start_time": "2024-10-30T21:52:53.056Z"
   },
   {
    "duration": 15,
    "start_time": "2024-10-30T21:52:53.079Z"
   },
   {
    "duration": 23,
    "start_time": "2024-10-30T21:52:53.098Z"
   },
   {
    "duration": 14,
    "start_time": "2024-10-30T21:52:53.122Z"
   },
   {
    "duration": 28,
    "start_time": "2024-10-30T21:52:53.138Z"
   },
   {
    "duration": 4,
    "start_time": "2024-10-30T21:52:53.168Z"
   },
   {
    "duration": 29,
    "start_time": "2024-10-30T21:52:53.173Z"
   },
   {
    "duration": 26,
    "start_time": "2024-10-30T21:52:53.204Z"
   },
   {
    "duration": 393,
    "start_time": "2024-10-30T21:52:53.232Z"
   },
   {
    "duration": 387,
    "start_time": "2024-10-30T21:52:53.627Z"
   },
   {
    "duration": 6524,
    "start_time": "2024-10-30T21:52:54.016Z"
   },
   {
    "duration": 6515,
    "start_time": "2024-10-30T21:53:00.541Z"
   },
   {
    "duration": 1212,
    "start_time": "2024-10-30T21:53:07.057Z"
   },
   {
    "duration": 796,
    "start_time": "2024-10-30T21:53:08.271Z"
   },
   {
    "duration": 32,
    "start_time": "2024-10-30T21:53:09.069Z"
   },
   {
    "duration": 226,
    "start_time": "2024-10-30T21:53:09.103Z"
   },
   {
    "duration": 27,
    "start_time": "2024-10-30T21:53:09.332Z"
   },
   {
    "duration": 141,
    "start_time": "2024-10-30T21:53:09.361Z"
   },
   {
    "duration": 21,
    "start_time": "2024-10-30T21:53:09.503Z"
   },
   {
    "duration": 207,
    "start_time": "2024-10-30T21:53:09.525Z"
   },
   {
    "duration": 21,
    "start_time": "2024-10-30T21:53:09.734Z"
   },
   {
    "duration": 296,
    "start_time": "2024-10-30T21:53:09.757Z"
   },
   {
    "duration": 22,
    "start_time": "2024-10-30T21:53:10.055Z"
   },
   {
    "duration": 158,
    "start_time": "2024-10-30T21:53:10.079Z"
   },
   {
    "duration": 23,
    "start_time": "2024-10-30T21:53:10.238Z"
   },
   {
    "duration": 156,
    "start_time": "2024-10-30T21:53:10.263Z"
   },
   {
    "duration": 1449,
    "start_time": "2024-10-30T21:53:10.421Z"
   },
   {
    "duration": 9,
    "start_time": "2024-10-30T21:53:11.872Z"
   },
   {
    "duration": 5,
    "start_time": "2024-10-30T21:53:11.883Z"
   },
   {
    "duration": 11,
    "start_time": "2024-10-30T21:53:11.890Z"
   },
   {
    "duration": 8,
    "start_time": "2024-10-30T21:53:11.903Z"
   },
   {
    "duration": 6,
    "start_time": "2024-10-30T21:53:11.912Z"
   },
   {
    "duration": 13,
    "start_time": "2024-10-30T21:53:11.919Z"
   },
   {
    "duration": 5,
    "start_time": "2024-10-30T21:53:11.934Z"
   },
   {
    "duration": 6,
    "start_time": "2024-10-30T21:53:11.940Z"
   },
   {
    "duration": 55,
    "start_time": "2024-10-30T21:53:11.947Z"
   },
   {
    "duration": 10,
    "start_time": "2024-10-30T21:53:12.003Z"
   },
   {
    "duration": 11,
    "start_time": "2024-10-30T21:53:12.014Z"
   },
   {
    "duration": 8,
    "start_time": "2024-10-30T21:53:12.027Z"
   },
   {
    "duration": 7,
    "start_time": "2024-10-30T21:53:12.037Z"
   },
   {
    "duration": 7,
    "start_time": "2024-10-30T21:53:12.046Z"
   },
   {
    "duration": 46,
    "start_time": "2024-10-30T21:53:12.055Z"
   },
   {
    "duration": 1166,
    "start_time": "2024-10-31T08:13:17.081Z"
   },
   {
    "duration": 145,
    "start_time": "2024-10-31T08:13:18.248Z"
   },
   {
    "duration": 13,
    "start_time": "2024-10-31T08:13:18.394Z"
   },
   {
    "duration": 11,
    "start_time": "2024-10-31T08:13:18.409Z"
   },
   {
    "duration": 12,
    "start_time": "2024-10-31T08:13:18.421Z"
   },
   {
    "duration": 9,
    "start_time": "2024-10-31T08:13:18.434Z"
   },
   {
    "duration": 30,
    "start_time": "2024-10-31T08:13:18.445Z"
   },
   {
    "duration": 14,
    "start_time": "2024-10-31T08:13:18.477Z"
   },
   {
    "duration": 36,
    "start_time": "2024-10-31T08:13:18.492Z"
   },
   {
    "duration": 3,
    "start_time": "2024-10-31T08:13:18.531Z"
   },
   {
    "duration": 9,
    "start_time": "2024-10-31T08:13:18.535Z"
   },
   {
    "duration": 16,
    "start_time": "2024-10-31T08:13:18.545Z"
   },
   {
    "duration": 15,
    "start_time": "2024-10-31T08:13:18.562Z"
   },
   {
    "duration": 710,
    "start_time": "2024-10-31T08:13:18.579Z"
   },
   {
    "duration": 8,
    "start_time": "2024-10-31T08:13:19.290Z"
   },
   {
    "duration": 20,
    "start_time": "2024-10-31T08:13:19.299Z"
   },
   {
    "duration": 4,
    "start_time": "2024-10-31T08:13:19.320Z"
   },
   {
    "duration": 10,
    "start_time": "2024-10-31T08:13:19.326Z"
   },
   {
    "duration": 16,
    "start_time": "2024-10-31T08:13:19.337Z"
   },
   {
    "duration": 5,
    "start_time": "2024-10-31T08:13:19.354Z"
   },
   {
    "duration": 10,
    "start_time": "2024-10-31T08:13:19.360Z"
   },
   {
    "duration": 6,
    "start_time": "2024-10-31T08:13:19.371Z"
   },
   {
    "duration": 11,
    "start_time": "2024-10-31T08:13:19.378Z"
   },
   {
    "duration": 7,
    "start_time": "2024-10-31T08:13:19.390Z"
   },
   {
    "duration": 4,
    "start_time": "2024-10-31T08:13:19.412Z"
   },
   {
    "duration": 8,
    "start_time": "2024-10-31T08:13:19.418Z"
   },
   {
    "duration": 19,
    "start_time": "2024-10-31T08:13:19.428Z"
   },
   {
    "duration": 24,
    "start_time": "2024-10-31T08:13:19.451Z"
   },
   {
    "duration": 5,
    "start_time": "2024-10-31T08:13:19.477Z"
   },
   {
    "duration": 15,
    "start_time": "2024-10-31T08:13:19.483Z"
   },
   {
    "duration": 12,
    "start_time": "2024-10-31T08:13:19.499Z"
   },
   {
    "duration": 19,
    "start_time": "2024-10-31T08:13:19.512Z"
   },
   {
    "duration": 10,
    "start_time": "2024-10-31T08:13:19.532Z"
   },
   {
    "duration": 21,
    "start_time": "2024-10-31T08:13:19.544Z"
   },
   {
    "duration": 3,
    "start_time": "2024-10-31T08:13:19.567Z"
   },
   {
    "duration": 7,
    "start_time": "2024-10-31T08:13:19.571Z"
   },
   {
    "duration": 24,
    "start_time": "2024-10-31T08:13:19.579Z"
   },
   {
    "duration": 340,
    "start_time": "2024-10-31T08:13:19.604Z"
   },
   {
    "duration": 331,
    "start_time": "2024-10-31T08:13:19.946Z"
   },
   {
    "duration": 4626,
    "start_time": "2024-10-31T08:13:20.278Z"
   },
   {
    "duration": 4636,
    "start_time": "2024-10-31T08:13:24.906Z"
   },
   {
    "duration": 787,
    "start_time": "2024-10-31T08:13:29.543Z"
   },
   {
    "duration": 592,
    "start_time": "2024-10-31T08:13:30.332Z"
   },
   {
    "duration": 18,
    "start_time": "2024-10-31T08:13:30.926Z"
   },
   {
    "duration": 138,
    "start_time": "2024-10-31T08:13:30.945Z"
   },
   {
    "duration": 18,
    "start_time": "2024-10-31T08:13:31.085Z"
   },
   {
    "duration": 105,
    "start_time": "2024-10-31T08:13:31.112Z"
   },
   {
    "duration": 16,
    "start_time": "2024-10-31T08:13:31.218Z"
   },
   {
    "duration": 191,
    "start_time": "2024-10-31T08:13:31.236Z"
   },
   {
    "duration": 17,
    "start_time": "2024-10-31T08:13:31.429Z"
   },
   {
    "duration": 201,
    "start_time": "2024-10-31T08:13:31.447Z"
   },
   {
    "duration": 16,
    "start_time": "2024-10-31T08:13:31.649Z"
   },
   {
    "duration": 143,
    "start_time": "2024-10-31T08:13:31.667Z"
   },
   {
    "duration": 17,
    "start_time": "2024-10-31T08:13:31.812Z"
   },
   {
    "duration": 121,
    "start_time": "2024-10-31T08:13:31.830Z"
   },
   {
    "duration": 1178,
    "start_time": "2024-10-31T08:13:31.952Z"
   },
   {
    "duration": 10,
    "start_time": "2024-10-31T08:13:33.132Z"
   },
   {
    "duration": 83,
    "start_time": "2024-10-31T08:13:33.143Z"
   },
   {
    "duration": 16,
    "start_time": "2024-10-31T08:13:33.229Z"
   },
   {
    "duration": 9,
    "start_time": "2024-10-31T08:13:33.246Z"
   },
   {
    "duration": 9,
    "start_time": "2024-10-31T08:13:33.256Z"
   },
   {
    "duration": 20,
    "start_time": "2024-10-31T08:13:33.266Z"
   },
   {
    "duration": 5,
    "start_time": "2024-10-31T08:13:33.287Z"
   },
   {
    "duration": 8,
    "start_time": "2024-10-31T08:13:33.293Z"
   },
   {
    "duration": 11,
    "start_time": "2024-10-31T08:13:33.302Z"
   },
   {
    "duration": 8,
    "start_time": "2024-10-31T08:13:33.315Z"
   },
   {
    "duration": 18,
    "start_time": "2024-10-31T08:13:33.324Z"
   },
   {
    "duration": 10,
    "start_time": "2024-10-31T08:13:33.343Z"
   },
   {
    "duration": 9,
    "start_time": "2024-10-31T08:13:33.354Z"
   },
   {
    "duration": 16,
    "start_time": "2024-10-31T08:13:33.364Z"
   },
   {
    "duration": 18,
    "start_time": "2024-10-31T08:13:33.381Z"
   },
   {
    "duration": 1083,
    "start_time": "2024-10-31T08:13:50.064Z"
   },
   {
    "duration": 37,
    "start_time": "2024-10-31T08:13:51.149Z"
   },
   {
    "duration": 39,
    "start_time": "2024-10-31T08:13:51.187Z"
   },
   {
    "duration": 18,
    "start_time": "2024-10-31T08:13:51.227Z"
   },
   {
    "duration": 3,
    "start_time": "2024-10-31T08:13:51.246Z"
   },
   {
    "duration": 17,
    "start_time": "2024-10-31T08:13:51.250Z"
   },
   {
    "duration": 20,
    "start_time": "2024-10-31T08:13:51.268Z"
   },
   {
    "duration": 6,
    "start_time": "2024-10-31T08:13:51.289Z"
   },
   {
    "duration": 22,
    "start_time": "2024-10-31T08:13:51.296Z"
   },
   {
    "duration": 6,
    "start_time": "2024-10-31T08:13:51.320Z"
   },
   {
    "duration": 15,
    "start_time": "2024-10-31T08:13:51.327Z"
   },
   {
    "duration": 25,
    "start_time": "2024-10-31T08:13:51.344Z"
   },
   {
    "duration": 19,
    "start_time": "2024-10-31T08:13:51.371Z"
   },
   {
    "duration": 693,
    "start_time": "2024-10-31T08:13:51.392Z"
   },
   {
    "duration": 9,
    "start_time": "2024-10-31T08:13:52.087Z"
   },
   {
    "duration": 19,
    "start_time": "2024-10-31T08:13:52.097Z"
   },
   {
    "duration": 4,
    "start_time": "2024-10-31T08:13:52.117Z"
   },
   {
    "duration": 8,
    "start_time": "2024-10-31T08:13:52.122Z"
   },
   {
    "duration": 5,
    "start_time": "2024-10-31T08:13:52.131Z"
   },
   {
    "duration": 7,
    "start_time": "2024-10-31T08:13:52.137Z"
   },
   {
    "duration": 3,
    "start_time": "2024-10-31T08:13:52.145Z"
   },
   {
    "duration": 6,
    "start_time": "2024-10-31T08:13:52.150Z"
   },
   {
    "duration": 12,
    "start_time": "2024-10-31T08:13:52.157Z"
   },
   {
    "duration": 43,
    "start_time": "2024-10-31T08:13:52.170Z"
   },
   {
    "duration": 4,
    "start_time": "2024-10-31T08:13:52.214Z"
   },
   {
    "duration": 16,
    "start_time": "2024-10-31T08:13:52.219Z"
   },
   {
    "duration": 5,
    "start_time": "2024-10-31T08:13:52.236Z"
   },
   {
    "duration": 9,
    "start_time": "2024-10-31T08:13:52.244Z"
   },
   {
    "duration": 5,
    "start_time": "2024-10-31T08:13:52.254Z"
   },
   {
    "duration": 10,
    "start_time": "2024-10-31T08:13:52.260Z"
   },
   {
    "duration": 11,
    "start_time": "2024-10-31T08:13:52.272Z"
   },
   {
    "duration": 42,
    "start_time": "2024-10-31T08:13:52.284Z"
   },
   {
    "duration": 10,
    "start_time": "2024-10-31T08:13:52.327Z"
   },
   {
    "duration": 22,
    "start_time": "2024-10-31T08:13:52.338Z"
   },
   {
    "duration": 3,
    "start_time": "2024-10-31T08:13:52.361Z"
   },
   {
    "duration": 12,
    "start_time": "2024-10-31T08:13:52.366Z"
   },
   {
    "duration": 9,
    "start_time": "2024-10-31T08:13:52.379Z"
   },
   {
    "duration": 317,
    "start_time": "2024-10-31T08:13:52.389Z"
   },
   {
    "duration": 316,
    "start_time": "2024-10-31T08:13:52.707Z"
   },
   {
    "duration": 4758,
    "start_time": "2024-10-31T08:13:53.024Z"
   },
   {
    "duration": 4633,
    "start_time": "2024-10-31T08:13:57.784Z"
   },
   {
    "duration": 849,
    "start_time": "2024-10-31T08:14:02.419Z"
   },
   {
    "duration": 601,
    "start_time": "2024-10-31T08:14:03.270Z"
   },
   {
    "duration": 19,
    "start_time": "2024-10-31T08:14:03.873Z"
   },
   {
    "duration": 147,
    "start_time": "2024-10-31T08:14:03.893Z"
   },
   {
    "duration": 19,
    "start_time": "2024-10-31T08:14:04.041Z"
   },
   {
    "duration": 110,
    "start_time": "2024-10-31T08:14:04.061Z"
   },
   {
    "duration": 18,
    "start_time": "2024-10-31T08:14:04.172Z"
   },
   {
    "duration": 164,
    "start_time": "2024-10-31T08:14:04.191Z"
   },
   {
    "duration": 17,
    "start_time": "2024-10-31T08:14:04.356Z"
   },
   {
    "duration": 222,
    "start_time": "2024-10-31T08:14:04.374Z"
   },
   {
    "duration": 24,
    "start_time": "2024-10-31T08:14:04.597Z"
   },
   {
    "duration": 116,
    "start_time": "2024-10-31T08:14:04.622Z"
   },
   {
    "duration": 18,
    "start_time": "2024-10-31T08:14:04.740Z"
   },
   {
    "duration": 122,
    "start_time": "2024-10-31T08:14:04.760Z"
   },
   {
    "duration": 1183,
    "start_time": "2024-10-31T08:14:04.883Z"
   },
   {
    "duration": 8,
    "start_time": "2024-10-31T08:14:06.067Z"
   },
   {
    "duration": 18,
    "start_time": "2024-10-31T08:14:06.076Z"
   },
   {
    "duration": 7,
    "start_time": "2024-10-31T08:14:06.095Z"
   },
   {
    "duration": 5,
    "start_time": "2024-10-31T08:14:06.103Z"
   },
   {
    "duration": 12,
    "start_time": "2024-10-31T08:14:06.110Z"
   },
   {
    "duration": 35,
    "start_time": "2024-10-31T08:14:06.123Z"
   },
   {
    "duration": 21,
    "start_time": "2024-10-31T08:14:06.159Z"
   },
   {
    "duration": 19,
    "start_time": "2024-10-31T08:14:06.181Z"
   },
   {
    "duration": 7,
    "start_time": "2024-10-31T08:14:06.201Z"
   },
   {
    "duration": 26,
    "start_time": "2024-10-31T08:14:06.209Z"
   },
   {
    "duration": 22,
    "start_time": "2024-10-31T08:14:06.237Z"
   },
   {
    "duration": 33,
    "start_time": "2024-10-31T08:14:06.260Z"
   },
   {
    "duration": 13,
    "start_time": "2024-10-31T08:14:06.294Z"
   },
   {
    "duration": 8,
    "start_time": "2024-10-31T08:14:06.308Z"
   },
   {
    "duration": 19,
    "start_time": "2024-10-31T08:14:06.318Z"
   },
   {
    "duration": 51,
    "start_time": "2024-10-31T15:43:00.587Z"
   },
   {
    "duration": 1542,
    "start_time": "2024-10-31T15:43:08.117Z"
   },
   {
    "duration": 101,
    "start_time": "2024-10-31T15:43:09.661Z"
   },
   {
    "duration": 16,
    "start_time": "2024-10-31T15:43:09.764Z"
   },
   {
    "duration": 25,
    "start_time": "2024-10-31T15:43:09.783Z"
   },
   {
    "duration": 20,
    "start_time": "2024-10-31T15:43:09.810Z"
   },
   {
    "duration": 19,
    "start_time": "2024-10-31T15:43:09.832Z"
   },
   {
    "duration": 28,
    "start_time": "2024-10-31T15:43:09.853Z"
   },
   {
    "duration": 27,
    "start_time": "2024-10-31T15:43:09.883Z"
   },
   {
    "duration": 32,
    "start_time": "2024-10-31T15:43:09.912Z"
   },
   {
    "duration": 11,
    "start_time": "2024-10-31T15:43:09.946Z"
   },
   {
    "duration": 21,
    "start_time": "2024-10-31T15:43:09.959Z"
   },
   {
    "duration": 23,
    "start_time": "2024-10-31T15:43:09.982Z"
   },
   {
    "duration": 49,
    "start_time": "2024-10-31T15:43:10.006Z"
   },
   {
    "duration": 902,
    "start_time": "2024-10-31T15:43:10.056Z"
   },
   {
    "duration": 10,
    "start_time": "2024-10-31T15:43:10.960Z"
   },
   {
    "duration": 35,
    "start_time": "2024-10-31T15:43:10.971Z"
   },
   {
    "duration": 14,
    "start_time": "2024-10-31T15:43:11.007Z"
   },
   {
    "duration": 40,
    "start_time": "2024-10-31T15:43:11.022Z"
   },
   {
    "duration": 26,
    "start_time": "2024-10-31T15:43:11.064Z"
   },
   {
    "duration": 55,
    "start_time": "2024-10-31T15:43:11.092Z"
   },
   {
    "duration": 49,
    "start_time": "2024-10-31T15:43:11.148Z"
   },
   {
    "duration": 32,
    "start_time": "2024-10-31T15:43:11.198Z"
   },
   {
    "duration": 40,
    "start_time": "2024-10-31T15:43:11.232Z"
   },
   {
    "duration": 27,
    "start_time": "2024-10-31T15:43:11.274Z"
   },
   {
    "duration": 19,
    "start_time": "2024-10-31T15:43:11.302Z"
   },
   {
    "duration": 31,
    "start_time": "2024-10-31T15:43:11.322Z"
   },
   {
    "duration": 21,
    "start_time": "2024-10-31T15:43:11.355Z"
   },
   {
    "duration": 20,
    "start_time": "2024-10-31T15:43:11.380Z"
   },
   {
    "duration": 5,
    "start_time": "2024-10-31T15:43:11.402Z"
   },
   {
    "duration": 20,
    "start_time": "2024-10-31T15:43:11.409Z"
   },
   {
    "duration": 16,
    "start_time": "2024-10-31T15:43:11.430Z"
   },
   {
    "duration": 29,
    "start_time": "2024-10-31T15:43:11.448Z"
   },
   {
    "duration": 28,
    "start_time": "2024-10-31T15:43:11.479Z"
   },
   {
    "duration": 27,
    "start_time": "2024-10-31T15:43:11.508Z"
   },
   {
    "duration": 5,
    "start_time": "2024-10-31T15:43:11.537Z"
   },
   {
    "duration": 7,
    "start_time": "2024-10-31T15:43:11.543Z"
   },
   {
    "duration": 6,
    "start_time": "2024-10-31T15:43:11.552Z"
   },
   {
    "duration": 430,
    "start_time": "2024-10-31T15:43:11.559Z"
   },
   {
    "duration": 387,
    "start_time": "2024-10-31T15:43:11.991Z"
   },
   {
    "duration": 6268,
    "start_time": "2024-10-31T15:43:12.380Z"
   },
   {
    "duration": 6170,
    "start_time": "2024-10-31T15:43:18.650Z"
   },
   {
    "duration": 1140,
    "start_time": "2024-10-31T15:43:24.822Z"
   },
   {
    "duration": 737,
    "start_time": "2024-10-31T15:43:25.964Z"
   },
   {
    "duration": 21,
    "start_time": "2024-10-31T15:43:26.702Z"
   },
   {
    "duration": 246,
    "start_time": "2024-10-31T15:43:26.724Z"
   },
   {
    "duration": 0,
    "start_time": "2024-10-31T15:43:26.972Z"
   },
   {
    "duration": 0,
    "start_time": "2024-10-31T15:43:26.973Z"
   },
   {
    "duration": 0,
    "start_time": "2024-10-31T15:43:26.974Z"
   },
   {
    "duration": 0,
    "start_time": "2024-10-31T15:43:26.975Z"
   },
   {
    "duration": 0,
    "start_time": "2024-10-31T15:43:26.977Z"
   },
   {
    "duration": 0,
    "start_time": "2024-10-31T15:43:26.978Z"
   },
   {
    "duration": 0,
    "start_time": "2024-10-31T15:43:26.978Z"
   },
   {
    "duration": 0,
    "start_time": "2024-10-31T15:43:26.980Z"
   },
   {
    "duration": 0,
    "start_time": "2024-10-31T15:43:26.980Z"
   },
   {
    "duration": 0,
    "start_time": "2024-10-31T15:43:26.998Z"
   },
   {
    "duration": 0,
    "start_time": "2024-10-31T15:43:26.999Z"
   },
   {
    "duration": 0,
    "start_time": "2024-10-31T15:43:27.000Z"
   },
   {
    "duration": 0,
    "start_time": "2024-10-31T15:43:27.001Z"
   },
   {
    "duration": 0,
    "start_time": "2024-10-31T15:43:27.003Z"
   },
   {
    "duration": 0,
    "start_time": "2024-10-31T15:43:27.004Z"
   },
   {
    "duration": 0,
    "start_time": "2024-10-31T15:43:27.005Z"
   },
   {
    "duration": 0,
    "start_time": "2024-10-31T15:43:27.006Z"
   },
   {
    "duration": 0,
    "start_time": "2024-10-31T15:43:27.008Z"
   },
   {
    "duration": 0,
    "start_time": "2024-10-31T15:43:27.009Z"
   },
   {
    "duration": 0,
    "start_time": "2024-10-31T15:43:27.010Z"
   },
   {
    "duration": 0,
    "start_time": "2024-10-31T15:43:27.011Z"
   },
   {
    "duration": 0,
    "start_time": "2024-10-31T15:43:27.012Z"
   },
   {
    "duration": 0,
    "start_time": "2024-10-31T15:43:27.013Z"
   },
   {
    "duration": 0,
    "start_time": "2024-10-31T15:43:27.014Z"
   },
   {
    "duration": 0,
    "start_time": "2024-10-31T15:43:27.015Z"
   },
   {
    "duration": 0,
    "start_time": "2024-10-31T15:43:27.016Z"
   },
   {
    "duration": 387,
    "start_time": "2024-10-31T15:44:02.936Z"
   },
   {
    "duration": 477,
    "start_time": "2024-10-31T15:44:21.177Z"
   },
   {
    "duration": 6428,
    "start_time": "2024-10-31T15:44:34.173Z"
   },
   {
    "duration": 6382,
    "start_time": "2024-10-31T15:44:50.020Z"
   },
   {
    "duration": 743,
    "start_time": "2024-10-31T15:45:20.245Z"
   },
   {
    "duration": 1163,
    "start_time": "2024-10-31T15:45:31.107Z"
   },
   {
    "duration": 133,
    "start_time": "2024-10-31T15:45:56.306Z"
   },
   {
    "duration": 149,
    "start_time": "2024-10-31T15:46:33.628Z"
   },
   {
    "duration": 1309,
    "start_time": "2024-10-31T15:46:51.932Z"
   },
   {
    "duration": 45,
    "start_time": "2024-10-31T15:46:53.243Z"
   },
   {
    "duration": 17,
    "start_time": "2024-10-31T15:46:53.290Z"
   },
   {
    "duration": 22,
    "start_time": "2024-10-31T15:46:53.309Z"
   },
   {
    "duration": 3,
    "start_time": "2024-10-31T15:46:53.333Z"
   },
   {
    "duration": 8,
    "start_time": "2024-10-31T15:46:53.338Z"
   },
   {
    "duration": 22,
    "start_time": "2024-10-31T15:46:53.348Z"
   },
   {
    "duration": 10,
    "start_time": "2024-10-31T15:46:53.371Z"
   },
   {
    "duration": 26,
    "start_time": "2024-10-31T15:46:53.382Z"
   },
   {
    "duration": 11,
    "start_time": "2024-10-31T15:46:53.411Z"
   },
   {
    "duration": 10,
    "start_time": "2024-10-31T15:46:53.423Z"
   },
   {
    "duration": 23,
    "start_time": "2024-10-31T15:46:53.435Z"
   },
   {
    "duration": 22,
    "start_time": "2024-10-31T15:46:53.460Z"
   },
   {
    "duration": 829,
    "start_time": "2024-10-31T15:46:53.483Z"
   },
   {
    "duration": 10,
    "start_time": "2024-10-31T15:46:54.314Z"
   },
   {
    "duration": 54,
    "start_time": "2024-10-31T15:46:54.325Z"
   },
   {
    "duration": 17,
    "start_time": "2024-10-31T15:46:54.380Z"
   },
   {
    "duration": 21,
    "start_time": "2024-10-31T15:46:54.399Z"
   },
   {
    "duration": 24,
    "start_time": "2024-10-31T15:46:54.421Z"
   },
   {
    "duration": 92,
    "start_time": "2024-10-31T15:46:54.446Z"
   },
   {
    "duration": 35,
    "start_time": "2024-10-31T15:46:54.540Z"
   },
   {
    "duration": 31,
    "start_time": "2024-10-31T15:46:54.577Z"
   },
   {
    "duration": 42,
    "start_time": "2024-10-31T15:46:54.610Z"
   },
   {
    "duration": 17,
    "start_time": "2024-10-31T15:46:54.654Z"
   },
   {
    "duration": 27,
    "start_time": "2024-10-31T15:46:54.672Z"
   },
   {
    "duration": 56,
    "start_time": "2024-10-31T15:46:54.701Z"
   },
   {
    "duration": 18,
    "start_time": "2024-10-31T15:46:54.758Z"
   },
   {
    "duration": 85,
    "start_time": "2024-10-31T15:46:54.781Z"
   },
   {
    "duration": 26,
    "start_time": "2024-10-31T15:46:54.868Z"
   },
   {
    "duration": 26,
    "start_time": "2024-10-31T15:46:54.896Z"
   },
   {
    "duration": 24,
    "start_time": "2024-10-31T15:46:54.924Z"
   },
   {
    "duration": 40,
    "start_time": "2024-10-31T15:46:54.950Z"
   },
   {
    "duration": 14,
    "start_time": "2024-10-31T15:46:54.992Z"
   },
   {
    "duration": 58,
    "start_time": "2024-10-31T15:46:55.007Z"
   },
   {
    "duration": 14,
    "start_time": "2024-10-31T15:46:55.067Z"
   },
   {
    "duration": 22,
    "start_time": "2024-10-31T15:46:55.083Z"
   },
   {
    "duration": 29,
    "start_time": "2024-10-31T15:46:55.106Z"
   },
   {
    "duration": 412,
    "start_time": "2024-10-31T15:46:55.136Z"
   },
   {
    "duration": 398,
    "start_time": "2024-10-31T15:46:55.549Z"
   },
   {
    "duration": 6358,
    "start_time": "2024-10-31T15:46:55.949Z"
   },
   {
    "duration": 6261,
    "start_time": "2024-10-31T15:47:02.308Z"
   },
   {
    "duration": 1164,
    "start_time": "2024-10-31T15:47:08.570Z"
   },
   {
    "duration": 740,
    "start_time": "2024-10-31T15:47:09.736Z"
   },
   {
    "duration": 30,
    "start_time": "2024-10-31T15:47:10.477Z"
   },
   {
    "duration": 161,
    "start_time": "2024-10-31T15:47:10.509Z"
   },
   {
    "duration": 31,
    "start_time": "2024-10-31T15:47:10.671Z"
   },
   {
    "duration": 126,
    "start_time": "2024-10-31T15:47:10.703Z"
   },
   {
    "duration": 22,
    "start_time": "2024-10-31T15:47:10.831Z"
   },
   {
    "duration": 215,
    "start_time": "2024-10-31T15:47:10.854Z"
   },
   {
    "duration": 20,
    "start_time": "2024-10-31T15:47:11.071Z"
   },
   {
    "duration": 272,
    "start_time": "2024-10-31T15:47:11.098Z"
   },
   {
    "duration": 27,
    "start_time": "2024-10-31T15:47:11.372Z"
   },
   {
    "duration": 140,
    "start_time": "2024-10-31T15:47:11.400Z"
   },
   {
    "duration": 20,
    "start_time": "2024-10-31T15:47:11.542Z"
   },
   {
    "duration": 146,
    "start_time": "2024-10-31T15:47:11.564Z"
   },
   {
    "duration": 1410,
    "start_time": "2024-10-31T15:47:11.712Z"
   },
   {
    "duration": 9,
    "start_time": "2024-10-31T15:47:13.124Z"
   },
   {
    "duration": 9,
    "start_time": "2024-10-31T15:47:13.134Z"
   },
   {
    "duration": 17,
    "start_time": "2024-10-31T15:47:13.144Z"
   },
   {
    "duration": 19,
    "start_time": "2024-10-31T15:47:13.163Z"
   },
   {
    "duration": 53,
    "start_time": "2024-10-31T15:47:13.184Z"
   },
   {
    "duration": 24,
    "start_time": "2024-10-31T15:47:13.239Z"
   },
   {
    "duration": 5,
    "start_time": "2024-10-31T15:47:13.265Z"
   },
   {
    "duration": 5,
    "start_time": "2024-10-31T15:47:13.271Z"
   },
   {
    "duration": 7,
    "start_time": "2024-10-31T15:47:13.278Z"
   },
   {
    "duration": 9,
    "start_time": "2024-10-31T15:47:13.286Z"
   },
   {
    "duration": 30,
    "start_time": "2024-10-31T15:47:13.297Z"
   },
   {
    "duration": 11,
    "start_time": "2024-10-31T15:47:13.331Z"
   },
   {
    "duration": 20,
    "start_time": "2024-10-31T15:47:13.343Z"
   },
   {
    "duration": 9,
    "start_time": "2024-10-31T15:47:13.365Z"
   },
   {
    "duration": 7,
    "start_time": "2024-10-31T15:47:13.376Z"
   },
   {
    "duration": 245,
    "start_time": "2024-10-31T15:50:11.831Z"
   },
   {
    "duration": 137,
    "start_time": "2024-10-31T15:50:27.413Z"
   },
   {
    "duration": 125,
    "start_time": "2024-10-31T15:54:42.338Z"
   },
   {
    "duration": 37,
    "start_time": "2024-10-31T15:57:07.347Z"
   },
   {
    "duration": 133,
    "start_time": "2024-10-31T15:57:15.633Z"
   },
   {
    "duration": 22,
    "start_time": "2024-10-31T15:57:50.627Z"
   },
   {
    "duration": 22,
    "start_time": "2024-10-31T15:58:29.342Z"
   },
   {
    "duration": 127,
    "start_time": "2024-10-31T15:58:35.595Z"
   },
   {
    "duration": 7,
    "start_time": "2024-10-31T17:32:37.310Z"
   },
   {
    "duration": 13,
    "start_time": "2024-10-31T17:32:39.693Z"
   },
   {
    "duration": 50,
    "start_time": "2024-10-31T17:41:43.997Z"
   },
   {
    "duration": 54,
    "start_time": "2024-10-31T17:42:08.692Z"
   },
   {
    "duration": 50,
    "start_time": "2024-10-31T17:42:22.408Z"
   },
   {
    "duration": 49,
    "start_time": "2024-10-31T17:44:17.381Z"
   },
   {
    "duration": 1330,
    "start_time": "2024-10-31T17:44:46.277Z"
   },
   {
    "duration": 45,
    "start_time": "2024-10-31T17:44:47.609Z"
   },
   {
    "duration": 15,
    "start_time": "2024-10-31T17:44:47.656Z"
   },
   {
    "duration": 13,
    "start_time": "2024-10-31T17:44:47.673Z"
   },
   {
    "duration": 9,
    "start_time": "2024-10-31T17:44:47.688Z"
   },
   {
    "duration": 35,
    "start_time": "2024-10-31T17:44:47.699Z"
   },
   {
    "duration": 35,
    "start_time": "2024-10-31T17:44:47.736Z"
   },
   {
    "duration": 31,
    "start_time": "2024-10-31T17:44:47.774Z"
   },
   {
    "duration": 22,
    "start_time": "2024-10-31T17:44:47.807Z"
   },
   {
    "duration": 12,
    "start_time": "2024-10-31T17:44:47.832Z"
   },
   {
    "duration": 21,
    "start_time": "2024-10-31T17:44:47.845Z"
   },
   {
    "duration": 31,
    "start_time": "2024-10-31T17:44:47.867Z"
   },
   {
    "duration": 50,
    "start_time": "2024-10-31T17:44:47.900Z"
   },
   {
    "duration": 874,
    "start_time": "2024-10-31T17:44:47.952Z"
   },
   {
    "duration": 50,
    "start_time": "2024-10-31T17:44:48.828Z"
   },
   {
    "duration": 0,
    "start_time": "2024-10-31T17:44:48.881Z"
   },
   {
    "duration": 0,
    "start_time": "2024-10-31T17:44:48.882Z"
   },
   {
    "duration": 0,
    "start_time": "2024-10-31T17:44:48.883Z"
   },
   {
    "duration": 0,
    "start_time": "2024-10-31T17:44:48.884Z"
   },
   {
    "duration": 0,
    "start_time": "2024-10-31T17:44:48.885Z"
   },
   {
    "duration": 0,
    "start_time": "2024-10-31T17:44:48.886Z"
   },
   {
    "duration": 0,
    "start_time": "2024-10-31T17:44:48.887Z"
   },
   {
    "duration": 0,
    "start_time": "2024-10-31T17:44:48.888Z"
   },
   {
    "duration": 0,
    "start_time": "2024-10-31T17:44:48.889Z"
   },
   {
    "duration": 0,
    "start_time": "2024-10-31T17:44:48.890Z"
   },
   {
    "duration": 0,
    "start_time": "2024-10-31T17:44:48.891Z"
   },
   {
    "duration": 0,
    "start_time": "2024-10-31T17:44:48.892Z"
   },
   {
    "duration": 0,
    "start_time": "2024-10-31T17:44:48.893Z"
   },
   {
    "duration": 0,
    "start_time": "2024-10-31T17:44:48.894Z"
   },
   {
    "duration": 0,
    "start_time": "2024-10-31T17:44:48.895Z"
   },
   {
    "duration": 0,
    "start_time": "2024-10-31T17:44:48.896Z"
   },
   {
    "duration": 0,
    "start_time": "2024-10-31T17:44:48.898Z"
   },
   {
    "duration": 0,
    "start_time": "2024-10-31T17:44:48.899Z"
   },
   {
    "duration": 0,
    "start_time": "2024-10-31T17:44:48.899Z"
   },
   {
    "duration": 0,
    "start_time": "2024-10-31T17:44:48.900Z"
   },
   {
    "duration": 0,
    "start_time": "2024-10-31T17:44:48.902Z"
   },
   {
    "duration": 0,
    "start_time": "2024-10-31T17:44:48.903Z"
   },
   {
    "duration": 0,
    "start_time": "2024-10-31T17:44:48.904Z"
   },
   {
    "duration": 0,
    "start_time": "2024-10-31T17:44:48.905Z"
   },
   {
    "duration": 0,
    "start_time": "2024-10-31T17:44:48.906Z"
   },
   {
    "duration": 0,
    "start_time": "2024-10-31T17:44:48.907Z"
   },
   {
    "duration": 0,
    "start_time": "2024-10-31T17:44:48.908Z"
   },
   {
    "duration": 0,
    "start_time": "2024-10-31T17:44:48.909Z"
   },
   {
    "duration": 0,
    "start_time": "2024-10-31T17:44:48.911Z"
   },
   {
    "duration": 0,
    "start_time": "2024-10-31T17:44:48.911Z"
   },
   {
    "duration": 0,
    "start_time": "2024-10-31T17:44:48.912Z"
   },
   {
    "duration": 0,
    "start_time": "2024-10-31T17:44:48.914Z"
   },
   {
    "duration": 0,
    "start_time": "2024-10-31T17:44:48.915Z"
   },
   {
    "duration": 0,
    "start_time": "2024-10-31T17:44:48.916Z"
   },
   {
    "duration": 0,
    "start_time": "2024-10-31T17:44:48.917Z"
   },
   {
    "duration": 0,
    "start_time": "2024-10-31T17:44:48.918Z"
   },
   {
    "duration": 0,
    "start_time": "2024-10-31T17:44:48.919Z"
   },
   {
    "duration": 0,
    "start_time": "2024-10-31T17:44:48.920Z"
   },
   {
    "duration": 0,
    "start_time": "2024-10-31T17:44:48.922Z"
   },
   {
    "duration": 0,
    "start_time": "2024-10-31T17:44:48.922Z"
   },
   {
    "duration": 0,
    "start_time": "2024-10-31T17:44:48.923Z"
   },
   {
    "duration": 0,
    "start_time": "2024-10-31T17:44:48.924Z"
   },
   {
    "duration": 0,
    "start_time": "2024-10-31T17:44:48.925Z"
   },
   {
    "duration": 0,
    "start_time": "2024-10-31T17:44:48.926Z"
   },
   {
    "duration": 0,
    "start_time": "2024-10-31T17:44:48.927Z"
   },
   {
    "duration": 0,
    "start_time": "2024-10-31T17:44:48.928Z"
   },
   {
    "duration": 0,
    "start_time": "2024-10-31T17:44:48.929Z"
   },
   {
    "duration": 0,
    "start_time": "2024-10-31T17:44:48.930Z"
   },
   {
    "duration": 0,
    "start_time": "2024-10-31T17:44:48.931Z"
   },
   {
    "duration": 0,
    "start_time": "2024-10-31T17:44:48.932Z"
   },
   {
    "duration": 0,
    "start_time": "2024-10-31T17:44:48.932Z"
   },
   {
    "duration": 1,
    "start_time": "2024-10-31T17:44:48.933Z"
   },
   {
    "duration": 0,
    "start_time": "2024-10-31T17:44:48.935Z"
   },
   {
    "duration": 0,
    "start_time": "2024-10-31T17:44:48.936Z"
   },
   {
    "duration": 0,
    "start_time": "2024-10-31T17:44:48.937Z"
   },
   {
    "duration": 0,
    "start_time": "2024-10-31T17:44:48.998Z"
   },
   {
    "duration": 0,
    "start_time": "2024-10-31T17:44:48.999Z"
   },
   {
    "duration": 51,
    "start_time": "2024-10-31T17:45:44.502Z"
   },
   {
    "duration": 88,
    "start_time": "2024-10-31T17:46:48.941Z"
   },
   {
    "duration": 48,
    "start_time": "2024-10-31T17:47:01.713Z"
   },
   {
    "duration": 47,
    "start_time": "2024-10-31T17:56:43.980Z"
   },
   {
    "duration": 57,
    "start_time": "2024-10-31T17:57:03.248Z"
   },
   {
    "duration": 48,
    "start_time": "2024-10-31T17:57:07.117Z"
   },
   {
    "duration": 91,
    "start_time": "2024-10-31T17:57:14.318Z"
   },
   {
    "duration": 57,
    "start_time": "2024-10-31T17:57:43.930Z"
   },
   {
    "duration": 115,
    "start_time": "2024-10-31T18:05:14.827Z"
   },
   {
    "duration": 42931,
    "start_time": "2024-10-31T18:05:28.122Z"
   },
   {
    "duration": 137,
    "start_time": "2024-10-31T18:07:37.606Z"
   },
   {
    "duration": 1324,
    "start_time": "2024-10-31T18:08:51.994Z"
   },
   {
    "duration": 44,
    "start_time": "2024-10-31T18:08:53.320Z"
   },
   {
    "duration": 16,
    "start_time": "2024-10-31T18:08:53.365Z"
   },
   {
    "duration": 12,
    "start_time": "2024-10-31T18:08:53.383Z"
   },
   {
    "duration": 3,
    "start_time": "2024-10-31T18:08:53.396Z"
   },
   {
    "duration": 5,
    "start_time": "2024-10-31T18:08:53.400Z"
   },
   {
    "duration": 15,
    "start_time": "2024-10-31T18:08:53.406Z"
   },
   {
    "duration": 7,
    "start_time": "2024-10-31T18:08:53.422Z"
   },
   {
    "duration": 14,
    "start_time": "2024-10-31T18:08:53.431Z"
   },
   {
    "duration": 5,
    "start_time": "2024-10-31T18:08:53.447Z"
   },
   {
    "duration": 6,
    "start_time": "2024-10-31T18:08:53.453Z"
   },
   {
    "duration": 40,
    "start_time": "2024-10-31T18:08:53.460Z"
   },
   {
    "duration": 64,
    "start_time": "2024-10-31T18:08:53.502Z"
   },
   {
    "duration": 1025,
    "start_time": "2024-10-31T18:08:53.567Z"
   },
   {
    "duration": 10,
    "start_time": "2024-10-31T18:08:54.597Z"
   },
   {
    "duration": 11,
    "start_time": "2024-10-31T18:08:54.608Z"
   },
   {
    "duration": 5,
    "start_time": "2024-10-31T18:08:54.621Z"
   },
   {
    "duration": 22,
    "start_time": "2024-10-31T18:08:54.627Z"
   },
   {
    "duration": 5,
    "start_time": "2024-10-31T18:08:54.651Z"
   },
   {
    "duration": 6,
    "start_time": "2024-10-31T18:08:54.657Z"
   },
   {
    "duration": 33,
    "start_time": "2024-10-31T18:08:54.665Z"
   },
   {
    "duration": 4,
    "start_time": "2024-10-31T18:08:54.699Z"
   },
   {
    "duration": 16,
    "start_time": "2024-10-31T18:08:54.705Z"
   },
   {
    "duration": 8,
    "start_time": "2024-10-31T18:08:54.723Z"
   },
   {
    "duration": 13,
    "start_time": "2024-10-31T18:08:54.733Z"
   },
   {
    "duration": 15,
    "start_time": "2024-10-31T18:08:54.748Z"
   },
   {
    "duration": 5,
    "start_time": "2024-10-31T18:08:54.765Z"
   },
   {
    "duration": 32,
    "start_time": "2024-10-31T18:08:54.774Z"
   },
   {
    "duration": 7,
    "start_time": "2024-10-31T18:08:54.808Z"
   },
   {
    "duration": 13,
    "start_time": "2024-10-31T18:08:54.816Z"
   },
   {
    "duration": 15,
    "start_time": "2024-10-31T18:08:54.831Z"
   },
   {
    "duration": 51,
    "start_time": "2024-10-31T18:08:54.848Z"
   },
   {
    "duration": 13,
    "start_time": "2024-10-31T18:08:54.901Z"
   },
   {
    "duration": 33,
    "start_time": "2024-10-31T18:08:54.915Z"
   },
   {
    "duration": 4,
    "start_time": "2024-10-31T18:08:54.950Z"
   },
   {
    "duration": 7,
    "start_time": "2024-10-31T18:08:54.955Z"
   },
   {
    "duration": 15,
    "start_time": "2024-10-31T18:08:54.963Z"
   },
   {
    "duration": 388,
    "start_time": "2024-10-31T18:08:54.979Z"
   },
   {
    "duration": 375,
    "start_time": "2024-10-31T18:08:55.369Z"
   },
   {
    "duration": 6051,
    "start_time": "2024-10-31T18:08:55.746Z"
   },
   {
    "duration": 6081,
    "start_time": "2024-10-31T18:09:01.799Z"
   },
   {
    "duration": 1137,
    "start_time": "2024-10-31T18:09:07.882Z"
   },
   {
    "duration": 745,
    "start_time": "2024-10-31T18:09:09.020Z"
   },
   {
    "duration": 31,
    "start_time": "2024-10-31T18:09:09.767Z"
   },
   {
    "duration": 160,
    "start_time": "2024-10-31T18:09:09.800Z"
   },
   {
    "duration": 21,
    "start_time": "2024-10-31T18:09:09.962Z"
   },
   {
    "duration": 118,
    "start_time": "2024-10-31T18:09:09.997Z"
   },
   {
    "duration": 20,
    "start_time": "2024-10-31T18:09:10.116Z"
   },
   {
    "duration": 198,
    "start_time": "2024-10-31T18:09:10.137Z"
   },
   {
    "duration": 23,
    "start_time": "2024-10-31T18:09:10.338Z"
   },
   {
    "duration": 286,
    "start_time": "2024-10-31T18:09:10.363Z"
   },
   {
    "duration": 24,
    "start_time": "2024-10-31T18:09:10.651Z"
   },
   {
    "duration": 151,
    "start_time": "2024-10-31T18:09:10.677Z"
   },
   {
    "duration": 21,
    "start_time": "2024-10-31T18:09:10.829Z"
   },
   {
    "duration": 135,
    "start_time": "2024-10-31T18:09:10.851Z"
   },
   {
    "duration": 1450,
    "start_time": "2024-10-31T18:09:10.988Z"
   },
   {
    "duration": 8,
    "start_time": "2024-10-31T18:09:12.440Z"
   },
   {
    "duration": 6,
    "start_time": "2024-10-31T18:09:12.449Z"
   },
   {
    "duration": 5,
    "start_time": "2024-10-31T18:09:12.457Z"
   },
   {
    "duration": 22,
    "start_time": "2024-10-31T18:09:12.463Z"
   },
   {
    "duration": 13,
    "start_time": "2024-10-31T18:09:12.486Z"
   },
   {
    "duration": 15,
    "start_time": "2024-10-31T18:09:12.500Z"
   },
   {
    "duration": 6,
    "start_time": "2024-10-31T18:09:12.516Z"
   },
   {
    "duration": 6,
    "start_time": "2024-10-31T18:09:12.523Z"
   },
   {
    "duration": 10,
    "start_time": "2024-10-31T18:09:12.530Z"
   },
   {
    "duration": 9,
    "start_time": "2024-10-31T18:09:12.541Z"
   },
   {
    "duration": 10,
    "start_time": "2024-10-31T18:09:12.551Z"
   },
   {
    "duration": 38,
    "start_time": "2024-10-31T18:09:12.563Z"
   },
   {
    "duration": 9,
    "start_time": "2024-10-31T18:09:12.602Z"
   },
   {
    "duration": 14,
    "start_time": "2024-10-31T18:09:12.613Z"
   },
   {
    "duration": 8,
    "start_time": "2024-10-31T18:09:12.629Z"
   },
   {
    "duration": 114,
    "start_time": "2024-10-31T18:10:20.754Z"
   },
   {
    "duration": 517,
    "start_time": "2024-10-31T18:10:45.359Z"
   },
   {
    "duration": 374,
    "start_time": "2024-10-31T18:13:19.582Z"
   },
   {
    "duration": 398,
    "start_time": "2024-10-31T18:13:41.965Z"
   },
   {
    "duration": 311,
    "start_time": "2024-10-31T18:14:37.904Z"
   },
   {
    "duration": 8,
    "start_time": "2024-10-31T18:23:18.402Z"
   },
   {
    "duration": 12,
    "start_time": "2024-10-31T18:23:47.731Z"
   },
   {
    "duration": 6,
    "start_time": "2024-10-31T18:28:04.417Z"
   },
   {
    "duration": 7,
    "start_time": "2024-10-31T18:28:15.263Z"
   },
   {
    "duration": 1338,
    "start_time": "2024-10-31T18:28:32.263Z"
   },
   {
    "duration": 47,
    "start_time": "2024-10-31T18:28:33.603Z"
   },
   {
    "duration": 16,
    "start_time": "2024-10-31T18:28:33.651Z"
   },
   {
    "duration": 42,
    "start_time": "2024-10-31T18:28:33.669Z"
   },
   {
    "duration": 21,
    "start_time": "2024-10-31T18:28:33.713Z"
   },
   {
    "duration": 27,
    "start_time": "2024-10-31T18:28:33.736Z"
   },
   {
    "duration": 16,
    "start_time": "2024-10-31T18:28:33.765Z"
   },
   {
    "duration": 8,
    "start_time": "2024-10-31T18:28:33.783Z"
   },
   {
    "duration": 33,
    "start_time": "2024-10-31T18:28:33.793Z"
   },
   {
    "duration": 6,
    "start_time": "2024-10-31T18:28:33.830Z"
   },
   {
    "duration": 30,
    "start_time": "2024-10-31T18:28:33.838Z"
   },
   {
    "duration": 47,
    "start_time": "2024-10-31T18:28:33.870Z"
   },
   {
    "duration": 30,
    "start_time": "2024-10-31T18:28:33.919Z"
   },
   {
    "duration": 853,
    "start_time": "2024-10-31T18:28:33.950Z"
   },
   {
    "duration": 318,
    "start_time": "2024-10-31T18:28:34.805Z"
   },
   {
    "duration": 10,
    "start_time": "2024-10-31T18:28:35.124Z"
   },
   {
    "duration": 42,
    "start_time": "2024-10-31T18:28:35.135Z"
   },
   {
    "duration": 36,
    "start_time": "2024-10-31T18:28:35.178Z"
   },
   {
    "duration": 30,
    "start_time": "2024-10-31T18:28:35.216Z"
   },
   {
    "duration": 30,
    "start_time": "2024-10-31T18:28:35.248Z"
   },
   {
    "duration": 76,
    "start_time": "2024-10-31T18:28:35.280Z"
   },
   {
    "duration": 90,
    "start_time": "2024-10-31T18:28:35.358Z"
   },
   {
    "duration": 28,
    "start_time": "2024-10-31T18:28:35.450Z"
   },
   {
    "duration": 56,
    "start_time": "2024-10-31T18:28:35.480Z"
   },
   {
    "duration": 40,
    "start_time": "2024-10-31T18:28:35.537Z"
   },
   {
    "duration": 30,
    "start_time": "2024-10-31T18:28:35.578Z"
   },
   {
    "duration": 31,
    "start_time": "2024-10-31T18:28:35.610Z"
   },
   {
    "duration": 29,
    "start_time": "2024-10-31T18:28:35.645Z"
   },
   {
    "duration": 61,
    "start_time": "2024-10-31T18:28:35.676Z"
   },
   {
    "duration": 18,
    "start_time": "2024-10-31T18:28:35.739Z"
   },
   {
    "duration": 27,
    "start_time": "2024-10-31T18:28:35.759Z"
   },
   {
    "duration": 44,
    "start_time": "2024-10-31T18:28:35.788Z"
   },
   {
    "duration": 48,
    "start_time": "2024-10-31T18:28:35.834Z"
   },
   {
    "duration": 69,
    "start_time": "2024-10-31T18:28:35.884Z"
   },
   {
    "duration": 48,
    "start_time": "2024-10-31T18:28:35.954Z"
   },
   {
    "duration": 48,
    "start_time": "2024-10-31T18:28:36.004Z"
   },
   {
    "duration": 18,
    "start_time": "2024-10-31T18:28:36.054Z"
   },
   {
    "duration": 51,
    "start_time": "2024-10-31T18:28:36.073Z"
   },
   {
    "duration": 43,
    "start_time": "2024-10-31T18:28:36.126Z"
   },
   {
    "duration": 431,
    "start_time": "2024-10-31T18:28:36.170Z"
   },
   {
    "duration": 407,
    "start_time": "2024-10-31T18:28:36.603Z"
   },
   {
    "duration": 6450,
    "start_time": "2024-10-31T18:28:37.012Z"
   },
   {
    "duration": 6254,
    "start_time": "2024-10-31T18:28:43.465Z"
   },
   {
    "duration": 1132,
    "start_time": "2024-10-31T18:28:49.720Z"
   },
   {
    "duration": 754,
    "start_time": "2024-10-31T18:28:50.853Z"
   },
   {
    "duration": 22,
    "start_time": "2024-10-31T18:28:51.609Z"
   },
   {
    "duration": 166,
    "start_time": "2024-10-31T18:28:51.633Z"
   },
   {
    "duration": 23,
    "start_time": "2024-10-31T18:28:51.801Z"
   },
   {
    "duration": 140,
    "start_time": "2024-10-31T18:28:51.826Z"
   },
   {
    "duration": 30,
    "start_time": "2024-10-31T18:28:51.968Z"
   },
   {
    "duration": 200,
    "start_time": "2024-10-31T18:28:52.000Z"
   },
   {
    "duration": 21,
    "start_time": "2024-10-31T18:28:52.202Z"
   },
   {
    "duration": 300,
    "start_time": "2024-10-31T18:28:52.225Z"
   },
   {
    "duration": 25,
    "start_time": "2024-10-31T18:28:52.527Z"
   },
   {
    "duration": 165,
    "start_time": "2024-10-31T18:28:52.554Z"
   },
   {
    "duration": 28,
    "start_time": "2024-10-31T18:28:52.721Z"
   },
   {
    "duration": 151,
    "start_time": "2024-10-31T18:28:52.751Z"
   },
   {
    "duration": 1654,
    "start_time": "2024-10-31T18:28:52.904Z"
   },
   {
    "duration": 417,
    "start_time": "2024-10-31T18:28:54.560Z"
   },
   {
    "duration": 9,
    "start_time": "2024-10-31T18:28:54.978Z"
   },
   {
    "duration": 17,
    "start_time": "2024-10-31T18:28:54.988Z"
   },
   {
    "duration": 11,
    "start_time": "2024-10-31T18:28:55.006Z"
   },
   {
    "duration": 24,
    "start_time": "2024-10-31T18:28:55.018Z"
   },
   {
    "duration": 20,
    "start_time": "2024-10-31T18:28:55.044Z"
   },
   {
    "duration": 13,
    "start_time": "2024-10-31T18:28:55.066Z"
   },
   {
    "duration": 5,
    "start_time": "2024-10-31T18:28:55.080Z"
   },
   {
    "duration": 6,
    "start_time": "2024-10-31T18:28:55.087Z"
   },
   {
    "duration": 19,
    "start_time": "2024-10-31T18:28:55.095Z"
   },
   {
    "duration": 6,
    "start_time": "2024-10-31T18:28:55.115Z"
   },
   {
    "duration": 9,
    "start_time": "2024-10-31T18:28:55.122Z"
   },
   {
    "duration": 11,
    "start_time": "2024-10-31T18:28:55.132Z"
   },
   {
    "duration": 8,
    "start_time": "2024-10-31T18:28:55.145Z"
   },
   {
    "duration": 9,
    "start_time": "2024-10-31T18:28:55.154Z"
   },
   {
    "duration": 7,
    "start_time": "2024-10-31T18:28:55.164Z"
   },
   {
    "duration": 7,
    "start_time": "2024-10-31T18:29:42.269Z"
   },
   {
    "duration": 5,
    "start_time": "2024-10-31T18:30:14.033Z"
   },
   {
    "duration": 13,
    "start_time": "2024-10-31T18:30:33.092Z"
   },
   {
    "duration": 110,
    "start_time": "2024-10-31T18:30:45.038Z"
   },
   {
    "duration": 1347,
    "start_time": "2024-10-31T18:30:51.988Z"
   },
   {
    "duration": 44,
    "start_time": "2024-10-31T18:30:53.337Z"
   },
   {
    "duration": 17,
    "start_time": "2024-10-31T18:30:53.383Z"
   },
   {
    "duration": 34,
    "start_time": "2024-10-31T18:30:53.402Z"
   },
   {
    "duration": 13,
    "start_time": "2024-10-31T18:30:53.438Z"
   },
   {
    "duration": 16,
    "start_time": "2024-10-31T18:30:53.453Z"
   },
   {
    "duration": 20,
    "start_time": "2024-10-31T18:30:53.470Z"
   },
   {
    "duration": 7,
    "start_time": "2024-10-31T18:30:53.491Z"
   },
   {
    "duration": 13,
    "start_time": "2024-10-31T18:30:53.499Z"
   },
   {
    "duration": 4,
    "start_time": "2024-10-31T18:30:53.514Z"
   },
   {
    "duration": 5,
    "start_time": "2024-10-31T18:30:53.519Z"
   },
   {
    "duration": 23,
    "start_time": "2024-10-31T18:30:53.525Z"
   },
   {
    "duration": 13,
    "start_time": "2024-10-31T18:30:53.549Z"
   },
   {
    "duration": 1005,
    "start_time": "2024-10-31T18:30:53.564Z"
   },
   {
    "duration": 338,
    "start_time": "2024-10-31T18:30:54.570Z"
   },
   {
    "duration": 11,
    "start_time": "2024-10-31T18:30:54.910Z"
   },
   {
    "duration": 126,
    "start_time": "2024-10-31T18:30:54.923Z"
   },
   {
    "duration": 10,
    "start_time": "2024-10-31T18:30:55.051Z"
   },
   {
    "duration": 13,
    "start_time": "2024-10-31T18:30:55.062Z"
   },
   {
    "duration": 114,
    "start_time": "2024-10-31T18:30:55.076Z"
   },
   {
    "duration": 0,
    "start_time": "2024-10-31T18:30:55.194Z"
   },
   {
    "duration": 0,
    "start_time": "2024-10-31T18:30:55.198Z"
   },
   {
    "duration": 0,
    "start_time": "2024-10-31T18:30:55.199Z"
   },
   {
    "duration": 0,
    "start_time": "2024-10-31T18:30:55.201Z"
   },
   {
    "duration": 0,
    "start_time": "2024-10-31T18:30:55.202Z"
   },
   {
    "duration": 0,
    "start_time": "2024-10-31T18:30:55.203Z"
   },
   {
    "duration": 0,
    "start_time": "2024-10-31T18:30:55.204Z"
   },
   {
    "duration": 1,
    "start_time": "2024-10-31T18:30:55.205Z"
   },
   {
    "duration": 0,
    "start_time": "2024-10-31T18:30:55.207Z"
   },
   {
    "duration": 0,
    "start_time": "2024-10-31T18:30:55.208Z"
   },
   {
    "duration": 0,
    "start_time": "2024-10-31T18:30:55.209Z"
   },
   {
    "duration": 0,
    "start_time": "2024-10-31T18:30:55.210Z"
   },
   {
    "duration": 0,
    "start_time": "2024-10-31T18:30:55.211Z"
   },
   {
    "duration": 0,
    "start_time": "2024-10-31T18:30:55.212Z"
   },
   {
    "duration": 0,
    "start_time": "2024-10-31T18:30:55.213Z"
   },
   {
    "duration": 0,
    "start_time": "2024-10-31T18:30:55.215Z"
   },
   {
    "duration": 0,
    "start_time": "2024-10-31T18:30:55.216Z"
   },
   {
    "duration": 0,
    "start_time": "2024-10-31T18:30:55.217Z"
   },
   {
    "duration": 0,
    "start_time": "2024-10-31T18:30:55.218Z"
   },
   {
    "duration": 0,
    "start_time": "2024-10-31T18:30:55.219Z"
   },
   {
    "duration": 0,
    "start_time": "2024-10-31T18:30:55.220Z"
   },
   {
    "duration": 0,
    "start_time": "2024-10-31T18:30:55.221Z"
   },
   {
    "duration": 0,
    "start_time": "2024-10-31T18:30:55.222Z"
   },
   {
    "duration": 0,
    "start_time": "2024-10-31T18:30:55.223Z"
   },
   {
    "duration": 0,
    "start_time": "2024-10-31T18:30:55.224Z"
   },
   {
    "duration": 0,
    "start_time": "2024-10-31T18:30:55.225Z"
   },
   {
    "duration": 0,
    "start_time": "2024-10-31T18:30:55.226Z"
   },
   {
    "duration": 0,
    "start_time": "2024-10-31T18:30:55.228Z"
   },
   {
    "duration": 0,
    "start_time": "2024-10-31T18:30:55.229Z"
   },
   {
    "duration": 0,
    "start_time": "2024-10-31T18:30:55.230Z"
   },
   {
    "duration": 0,
    "start_time": "2024-10-31T18:30:55.231Z"
   },
   {
    "duration": 0,
    "start_time": "2024-10-31T18:30:55.233Z"
   },
   {
    "duration": 0,
    "start_time": "2024-10-31T18:30:55.233Z"
   },
   {
    "duration": 0,
    "start_time": "2024-10-31T18:30:55.235Z"
   },
   {
    "duration": 0,
    "start_time": "2024-10-31T18:30:55.236Z"
   },
   {
    "duration": 0,
    "start_time": "2024-10-31T18:30:55.298Z"
   },
   {
    "duration": 0,
    "start_time": "2024-10-31T18:30:55.299Z"
   },
   {
    "duration": 1,
    "start_time": "2024-10-31T18:30:55.300Z"
   },
   {
    "duration": 0,
    "start_time": "2024-10-31T18:30:55.302Z"
   },
   {
    "duration": 0,
    "start_time": "2024-10-31T18:30:55.303Z"
   },
   {
    "duration": 0,
    "start_time": "2024-10-31T18:30:55.304Z"
   },
   {
    "duration": 0,
    "start_time": "2024-10-31T18:30:55.305Z"
   },
   {
    "duration": 0,
    "start_time": "2024-10-31T18:30:55.306Z"
   },
   {
    "duration": 0,
    "start_time": "2024-10-31T18:30:55.307Z"
   },
   {
    "duration": 0,
    "start_time": "2024-10-31T18:30:55.308Z"
   },
   {
    "duration": 0,
    "start_time": "2024-10-31T18:30:55.309Z"
   },
   {
    "duration": 0,
    "start_time": "2024-10-31T18:30:55.310Z"
   },
   {
    "duration": 0,
    "start_time": "2024-10-31T18:30:55.312Z"
   },
   {
    "duration": 0,
    "start_time": "2024-10-31T18:30:55.313Z"
   },
   {
    "duration": 0,
    "start_time": "2024-10-31T18:30:55.314Z"
   },
   {
    "duration": 0,
    "start_time": "2024-10-31T18:30:55.315Z"
   },
   {
    "duration": 0,
    "start_time": "2024-10-31T18:30:55.316Z"
   },
   {
    "duration": 0,
    "start_time": "2024-10-31T18:30:55.317Z"
   },
   {
    "duration": 0,
    "start_time": "2024-10-31T18:30:55.318Z"
   },
   {
    "duration": 0,
    "start_time": "2024-10-31T18:30:55.318Z"
   },
   {
    "duration": 7,
    "start_time": "2024-10-31T18:31:16.719Z"
   },
   {
    "duration": 251,
    "start_time": "2024-10-31T18:31:37.399Z"
   },
   {
    "duration": 8,
    "start_time": "2024-10-31T18:31:54.574Z"
   },
   {
    "duration": 7,
    "start_time": "2024-10-31T18:32:54.288Z"
   },
   {
    "duration": 6,
    "start_time": "2024-10-31T18:33:07.040Z"
   },
   {
    "duration": 5,
    "start_time": "2024-10-31T18:33:13.618Z"
   },
   {
    "duration": 52,
    "start_time": "2024-10-31T18:35:59.932Z"
   },
   {
    "duration": 9,
    "start_time": "2024-10-31T18:36:47.266Z"
   },
   {
    "duration": 33,
    "start_time": "2024-10-31T18:36:56.301Z"
   },
   {
    "duration": 34,
    "start_time": "2024-10-31T18:37:31.922Z"
   },
   {
    "duration": 29,
    "start_time": "2024-10-31T18:37:58.090Z"
   },
   {
    "duration": 8,
    "start_time": "2024-10-31T18:39:21.621Z"
   },
   {
    "duration": 6,
    "start_time": "2024-10-31T18:39:26.682Z"
   },
   {
    "duration": 6,
    "start_time": "2024-10-31T18:39:30.893Z"
   },
   {
    "duration": 11,
    "start_time": "2024-10-31T18:43:25.983Z"
   },
   {
    "duration": 6,
    "start_time": "2024-10-31T18:43:41.705Z"
   },
   {
    "duration": 6,
    "start_time": "2024-10-31T18:44:00.852Z"
   },
   {
    "duration": 6,
    "start_time": "2024-10-31T18:44:21.634Z"
   },
   {
    "duration": 8,
    "start_time": "2024-10-31T18:44:27.874Z"
   },
   {
    "duration": 20,
    "start_time": "2024-10-31T18:47:07.003Z"
   },
   {
    "duration": 20,
    "start_time": "2024-10-31T18:47:43.777Z"
   },
   {
    "duration": 20,
    "start_time": "2024-10-31T19:02:00.336Z"
   },
   {
    "duration": 1294,
    "start_time": "2024-10-31T19:02:50.026Z"
   },
   {
    "duration": 46,
    "start_time": "2024-10-31T19:02:51.322Z"
   },
   {
    "duration": 16,
    "start_time": "2024-10-31T19:02:51.370Z"
   },
   {
    "duration": 13,
    "start_time": "2024-10-31T19:02:51.388Z"
   },
   {
    "duration": 3,
    "start_time": "2024-10-31T19:02:51.402Z"
   },
   {
    "duration": 12,
    "start_time": "2024-10-31T19:02:51.407Z"
   },
   {
    "duration": 13,
    "start_time": "2024-10-31T19:02:51.420Z"
   },
   {
    "duration": 8,
    "start_time": "2024-10-31T19:02:51.435Z"
   },
   {
    "duration": 12,
    "start_time": "2024-10-31T19:02:51.444Z"
   },
   {
    "duration": 4,
    "start_time": "2024-10-31T19:02:51.460Z"
   },
   {
    "duration": 33,
    "start_time": "2024-10-31T19:02:51.466Z"
   },
   {
    "duration": 8,
    "start_time": "2024-10-31T19:02:51.501Z"
   },
   {
    "duration": 23,
    "start_time": "2024-10-31T19:02:51.510Z"
   },
   {
    "duration": 808,
    "start_time": "2024-10-31T19:02:51.536Z"
   },
   {
    "duration": 354,
    "start_time": "2024-10-31T19:02:52.346Z"
   },
   {
    "duration": 10,
    "start_time": "2024-10-31T19:02:52.702Z"
   },
   {
    "duration": 18,
    "start_time": "2024-10-31T19:02:52.714Z"
   },
   {
    "duration": 6,
    "start_time": "2024-10-31T19:02:52.734Z"
   },
   {
    "duration": 25,
    "start_time": "2024-10-31T19:02:52.742Z"
   },
   {
    "duration": 35,
    "start_time": "2024-10-31T19:02:52.768Z"
   },
   {
    "duration": 6,
    "start_time": "2024-10-31T19:02:52.804Z"
   },
   {
    "duration": 7,
    "start_time": "2024-10-31T19:02:52.811Z"
   },
   {
    "duration": 6,
    "start_time": "2024-10-31T19:02:52.820Z"
   },
   {
    "duration": 5,
    "start_time": "2024-10-31T19:02:52.827Z"
   },
   {
    "duration": 20,
    "start_time": "2024-10-31T19:02:52.834Z"
   },
   {
    "duration": 9,
    "start_time": "2024-10-31T19:02:52.856Z"
   },
   {
    "duration": 6,
    "start_time": "2024-10-31T19:02:52.897Z"
   },
   {
    "duration": 20,
    "start_time": "2024-10-31T19:02:52.907Z"
   },
   {
    "duration": 21,
    "start_time": "2024-10-31T19:02:52.929Z"
   },
   {
    "duration": 13,
    "start_time": "2024-10-31T19:02:52.952Z"
   },
   {
    "duration": 6,
    "start_time": "2024-10-31T19:02:52.967Z"
   },
   {
    "duration": 18,
    "start_time": "2024-10-31T19:02:52.974Z"
   },
   {
    "duration": 14,
    "start_time": "2024-10-31T19:02:52.998Z"
   },
   {
    "duration": 23,
    "start_time": "2024-10-31T19:02:53.014Z"
   },
   {
    "duration": 14,
    "start_time": "2024-10-31T19:02:53.038Z"
   },
   {
    "duration": 55,
    "start_time": "2024-10-31T19:02:53.053Z"
   },
   {
    "duration": 34,
    "start_time": "2024-10-31T19:02:53.110Z"
   },
   {
    "duration": 54,
    "start_time": "2024-10-31T19:02:53.146Z"
   },
   {
    "duration": 13,
    "start_time": "2024-10-31T19:02:53.202Z"
   },
   {
    "duration": 391,
    "start_time": "2024-10-31T19:02:53.217Z"
   },
   {
    "duration": 391,
    "start_time": "2024-10-31T19:02:53.610Z"
   },
   {
    "duration": 6528,
    "start_time": "2024-10-31T19:02:54.003Z"
   },
   {
    "duration": 6178,
    "start_time": "2024-10-31T19:03:00.533Z"
   },
   {
    "duration": 1169,
    "start_time": "2024-10-31T19:03:06.713Z"
   },
   {
    "duration": 805,
    "start_time": "2024-10-31T19:03:07.883Z"
   },
   {
    "duration": 21,
    "start_time": "2024-10-31T19:03:08.697Z"
   },
   {
    "duration": 162,
    "start_time": "2024-10-31T19:03:08.720Z"
   },
   {
    "duration": 28,
    "start_time": "2024-10-31T19:03:08.884Z"
   },
   {
    "duration": 134,
    "start_time": "2024-10-31T19:03:08.914Z"
   },
   {
    "duration": 21,
    "start_time": "2024-10-31T19:03:09.049Z"
   },
   {
    "duration": 307,
    "start_time": "2024-10-31T19:03:09.072Z"
   },
   {
    "duration": 31,
    "start_time": "2024-10-31T19:03:09.380Z"
   },
   {
    "duration": 295,
    "start_time": "2024-10-31T19:03:09.412Z"
   },
   {
    "duration": 20,
    "start_time": "2024-10-31T19:03:09.709Z"
   },
   {
    "duration": 147,
    "start_time": "2024-10-31T19:03:09.731Z"
   },
   {
    "duration": 31,
    "start_time": "2024-10-31T19:03:09.880Z"
   },
   {
    "duration": 133,
    "start_time": "2024-10-31T19:03:09.913Z"
   },
   {
    "duration": 1459,
    "start_time": "2024-10-31T19:03:10.047Z"
   },
   {
    "duration": 376,
    "start_time": "2024-10-31T19:03:11.508Z"
   },
   {
    "duration": 13,
    "start_time": "2024-10-31T19:03:11.885Z"
   },
   {
    "duration": 19,
    "start_time": "2024-10-31T19:03:11.900Z"
   },
   {
    "duration": 38,
    "start_time": "2024-10-31T19:03:11.920Z"
   },
   {
    "duration": 27,
    "start_time": "2024-10-31T19:03:11.959Z"
   },
   {
    "duration": 28,
    "start_time": "2024-10-31T19:03:11.988Z"
   },
   {
    "duration": 55,
    "start_time": "2024-10-31T19:03:12.018Z"
   },
   {
    "duration": 13,
    "start_time": "2024-10-31T19:03:12.075Z"
   },
   {
    "duration": 5,
    "start_time": "2024-10-31T19:03:12.089Z"
   },
   {
    "duration": 29,
    "start_time": "2024-10-31T19:03:12.096Z"
   },
   {
    "duration": 38,
    "start_time": "2024-10-31T19:03:12.126Z"
   },
   {
    "duration": 24,
    "start_time": "2024-10-31T19:03:12.166Z"
   },
   {
    "duration": 41,
    "start_time": "2024-10-31T19:03:12.191Z"
   },
   {
    "duration": 43,
    "start_time": "2024-10-31T19:03:12.233Z"
   },
   {
    "duration": 20,
    "start_time": "2024-10-31T19:03:12.278Z"
   },
   {
    "duration": 43,
    "start_time": "2024-10-31T19:03:12.300Z"
   },
   {
    "duration": 8,
    "start_time": "2024-10-31T19:11:34.710Z"
   },
   {
    "duration": 1248,
    "start_time": "2024-10-31T19:14:39.662Z"
   },
   {
    "duration": 44,
    "start_time": "2024-10-31T19:14:40.912Z"
   },
   {
    "duration": 14,
    "start_time": "2024-10-31T19:14:40.958Z"
   },
   {
    "duration": 27,
    "start_time": "2024-10-31T19:14:40.974Z"
   },
   {
    "duration": 2,
    "start_time": "2024-10-31T19:14:41.003Z"
   },
   {
    "duration": 5,
    "start_time": "2024-10-31T19:14:41.007Z"
   },
   {
    "duration": 10,
    "start_time": "2024-10-31T19:14:41.014Z"
   },
   {
    "duration": 6,
    "start_time": "2024-10-31T19:14:41.026Z"
   },
   {
    "duration": 10,
    "start_time": "2024-10-31T19:14:41.034Z"
   },
   {
    "duration": 4,
    "start_time": "2024-10-31T19:14:41.047Z"
   },
   {
    "duration": 5,
    "start_time": "2024-10-31T19:14:41.053Z"
   },
   {
    "duration": 42,
    "start_time": "2024-10-31T19:14:41.059Z"
   },
   {
    "duration": 114,
    "start_time": "2024-10-31T19:14:41.102Z"
   },
   {
    "duration": 821,
    "start_time": "2024-10-31T19:14:41.217Z"
   },
   {
    "duration": 316,
    "start_time": "2024-10-31T19:14:42.039Z"
   },
   {
    "duration": 10,
    "start_time": "2024-10-31T19:14:42.357Z"
   },
   {
    "duration": 31,
    "start_time": "2024-10-31T19:14:42.369Z"
   },
   {
    "duration": 9,
    "start_time": "2024-10-31T19:14:42.402Z"
   },
   {
    "duration": 22,
    "start_time": "2024-10-31T19:14:42.413Z"
   },
   {
    "duration": 8,
    "start_time": "2024-10-31T19:14:42.437Z"
   },
   {
    "duration": 8,
    "start_time": "2024-10-31T19:14:42.447Z"
   },
   {
    "duration": 14,
    "start_time": "2024-10-31T19:14:42.457Z"
   },
   {
    "duration": 28,
    "start_time": "2024-10-31T19:14:42.472Z"
   },
   {
    "duration": 9,
    "start_time": "2024-10-31T19:14:42.502Z"
   },
   {
    "duration": 19,
    "start_time": "2024-10-31T19:14:42.512Z"
   },
   {
    "duration": 7,
    "start_time": "2024-10-31T19:14:42.532Z"
   },
   {
    "duration": 4,
    "start_time": "2024-10-31T19:14:42.541Z"
   },
   {
    "duration": 19,
    "start_time": "2024-10-31T19:14:42.549Z"
   },
   {
    "duration": 19,
    "start_time": "2024-10-31T19:14:42.570Z"
   },
   {
    "duration": 19,
    "start_time": "2024-10-31T19:14:42.590Z"
   },
   {
    "duration": 13,
    "start_time": "2024-10-31T19:14:42.611Z"
   },
   {
    "duration": 36,
    "start_time": "2024-10-31T19:14:42.626Z"
   },
   {
    "duration": 50,
    "start_time": "2024-10-31T19:14:42.663Z"
   },
   {
    "duration": 23,
    "start_time": "2024-10-31T19:14:42.715Z"
   },
   {
    "duration": 14,
    "start_time": "2024-10-31T19:14:42.740Z"
   },
   {
    "duration": 29,
    "start_time": "2024-10-31T19:14:42.755Z"
   },
   {
    "duration": 5,
    "start_time": "2024-10-31T19:14:42.798Z"
   },
   {
    "duration": 7,
    "start_time": "2024-10-31T19:14:42.804Z"
   },
   {
    "duration": 6,
    "start_time": "2024-10-31T19:14:42.813Z"
   },
   {
    "duration": 9,
    "start_time": "2024-10-31T19:14:42.821Z"
   },
   {
    "duration": 40,
    "start_time": "2024-10-31T19:14:42.832Z"
   },
   {
    "duration": 24,
    "start_time": "2024-10-31T19:14:42.874Z"
   },
   {
    "duration": 6,
    "start_time": "2024-10-31T19:14:42.899Z"
   },
   {
    "duration": 29,
    "start_time": "2024-10-31T19:14:42.906Z"
   },
   {
    "duration": 6,
    "start_time": "2024-10-31T19:14:42.936Z"
   },
   {
    "duration": 22,
    "start_time": "2024-10-31T19:14:42.943Z"
   },
   {
    "duration": 429,
    "start_time": "2024-10-31T19:14:42.966Z"
   },
   {
    "duration": 385,
    "start_time": "2024-10-31T19:14:43.397Z"
   },
   {
    "duration": 6154,
    "start_time": "2024-10-31T19:14:43.784Z"
   },
   {
    "duration": 6275,
    "start_time": "2024-10-31T19:14:49.940Z"
   },
   {
    "duration": 1140,
    "start_time": "2024-10-31T19:14:56.216Z"
   },
   {
    "duration": 739,
    "start_time": "2024-10-31T19:14:57.358Z"
   },
   {
    "duration": 23,
    "start_time": "2024-10-31T19:14:58.099Z"
   },
   {
    "duration": 168,
    "start_time": "2024-10-31T19:14:58.123Z"
   },
   {
    "duration": 24,
    "start_time": "2024-10-31T19:14:58.297Z"
   },
   {
    "duration": 139,
    "start_time": "2024-10-31T19:14:58.322Z"
   },
   {
    "duration": 40,
    "start_time": "2024-10-31T19:14:58.463Z"
   },
   {
    "duration": 195,
    "start_time": "2024-10-31T19:14:58.506Z"
   },
   {
    "duration": 22,
    "start_time": "2024-10-31T19:14:58.703Z"
   },
   {
    "duration": 298,
    "start_time": "2024-10-31T19:14:58.727Z"
   },
   {
    "duration": 25,
    "start_time": "2024-10-31T19:14:59.027Z"
   },
   {
    "duration": 167,
    "start_time": "2024-10-31T19:14:59.054Z"
   },
   {
    "duration": 31,
    "start_time": "2024-10-31T19:14:59.223Z"
   },
   {
    "duration": 143,
    "start_time": "2024-10-31T19:14:59.256Z"
   },
   {
    "duration": 1489,
    "start_time": "2024-10-31T19:14:59.401Z"
   },
   {
    "duration": 390,
    "start_time": "2024-10-31T19:15:00.892Z"
   },
   {
    "duration": 14,
    "start_time": "2024-10-31T19:15:01.283Z"
   },
   {
    "duration": 36,
    "start_time": "2024-10-31T19:15:01.299Z"
   },
   {
    "duration": 9,
    "start_time": "2024-10-31T19:15:01.337Z"
   },
   {
    "duration": 22,
    "start_time": "2024-10-31T19:15:01.348Z"
   },
   {
    "duration": 68,
    "start_time": "2024-10-31T19:15:01.372Z"
   },
   {
    "duration": 71,
    "start_time": "2024-10-31T19:15:01.442Z"
   },
   {
    "duration": 17,
    "start_time": "2024-10-31T19:15:01.515Z"
   },
   {
    "duration": 6,
    "start_time": "2024-10-31T19:15:01.533Z"
   },
   {
    "duration": 10,
    "start_time": "2024-10-31T19:15:01.540Z"
   },
   {
    "duration": 5,
    "start_time": "2024-10-31T19:15:01.552Z"
   },
   {
    "duration": 9,
    "start_time": "2024-10-31T19:15:01.559Z"
   },
   {
    "duration": 8,
    "start_time": "2024-10-31T19:15:01.570Z"
   },
   {
    "duration": 47,
    "start_time": "2024-10-31T19:15:01.580Z"
   },
   {
    "duration": 17,
    "start_time": "2024-10-31T19:15:01.629Z"
   },
   {
    "duration": 49,
    "start_time": "2024-10-31T19:15:01.648Z"
   },
   {
    "duration": 1344,
    "start_time": "2024-10-31T20:39:48.571Z"
   },
   {
    "duration": 45,
    "start_time": "2024-10-31T20:39:49.917Z"
   },
   {
    "duration": 15,
    "start_time": "2024-10-31T20:39:49.964Z"
   },
   {
    "duration": 18,
    "start_time": "2024-10-31T20:39:49.982Z"
   },
   {
    "duration": 11,
    "start_time": "2024-10-31T20:39:50.002Z"
   },
   {
    "duration": 31,
    "start_time": "2024-10-31T20:39:50.015Z"
   },
   {
    "duration": 50,
    "start_time": "2024-10-31T20:39:50.048Z"
   },
   {
    "duration": 17,
    "start_time": "2024-10-31T20:39:50.100Z"
   },
   {
    "duration": 23,
    "start_time": "2024-10-31T20:39:50.119Z"
   },
   {
    "duration": 9,
    "start_time": "2024-10-31T20:39:50.146Z"
   },
   {
    "duration": 28,
    "start_time": "2024-10-31T20:39:50.156Z"
   },
   {
    "duration": 23,
    "start_time": "2024-10-31T20:39:50.185Z"
   },
   {
    "duration": 24,
    "start_time": "2024-10-31T20:39:50.209Z"
   },
   {
    "duration": 794,
    "start_time": "2024-10-31T20:39:50.234Z"
   },
   {
    "duration": 310,
    "start_time": "2024-10-31T20:39:51.029Z"
   },
   {
    "duration": 10,
    "start_time": "2024-10-31T20:39:51.340Z"
   },
   {
    "duration": 11,
    "start_time": "2024-10-31T20:39:51.352Z"
   },
   {
    "duration": 64,
    "start_time": "2024-10-31T20:39:51.365Z"
   },
   {
    "duration": 35,
    "start_time": "2024-10-31T20:39:51.431Z"
   },
   {
    "duration": 8,
    "start_time": "2024-10-31T20:39:51.468Z"
   },
   {
    "duration": 13,
    "start_time": "2024-10-31T20:39:51.478Z"
   },
   {
    "duration": 10,
    "start_time": "2024-10-31T20:39:51.493Z"
   },
   {
    "duration": 8,
    "start_time": "2024-10-31T20:39:51.505Z"
   },
   {
    "duration": 4,
    "start_time": "2024-10-31T20:39:51.514Z"
   },
   {
    "duration": 16,
    "start_time": "2024-10-31T20:39:51.520Z"
   },
   {
    "duration": 7,
    "start_time": "2024-10-31T20:39:51.538Z"
   },
   {
    "duration": 13,
    "start_time": "2024-10-31T20:39:51.547Z"
   },
   {
    "duration": 32,
    "start_time": "2024-10-31T20:39:51.564Z"
   },
   {
    "duration": 25,
    "start_time": "2024-10-31T20:39:51.598Z"
   },
   {
    "duration": 23,
    "start_time": "2024-10-31T20:39:51.625Z"
   },
   {
    "duration": 7,
    "start_time": "2024-10-31T20:39:51.650Z"
   },
   {
    "duration": 98,
    "start_time": "2024-10-31T20:39:51.658Z"
   },
   {
    "duration": 76,
    "start_time": "2024-10-31T20:39:51.758Z"
   },
   {
    "duration": 22,
    "start_time": "2024-10-31T20:39:51.836Z"
   },
   {
    "duration": 13,
    "start_time": "2024-10-31T20:39:51.860Z"
   },
   {
    "duration": 52,
    "start_time": "2024-10-31T20:39:51.875Z"
   },
   {
    "duration": 5,
    "start_time": "2024-10-31T20:39:51.929Z"
   },
   {
    "duration": 9,
    "start_time": "2024-10-31T20:39:51.935Z"
   },
   {
    "duration": 22,
    "start_time": "2024-10-31T20:39:51.946Z"
   },
   {
    "duration": 30,
    "start_time": "2024-10-31T20:39:51.969Z"
   },
   {
    "duration": 40,
    "start_time": "2024-10-31T20:39:52.001Z"
   },
   {
    "duration": 5,
    "start_time": "2024-10-31T20:39:52.043Z"
   },
   {
    "duration": 20,
    "start_time": "2024-10-31T20:39:52.049Z"
   },
   {
    "duration": 37,
    "start_time": "2024-10-31T20:39:52.070Z"
   },
   {
    "duration": 15,
    "start_time": "2024-10-31T20:39:52.108Z"
   },
   {
    "duration": 17,
    "start_time": "2024-10-31T20:39:52.125Z"
   },
   {
    "duration": 441,
    "start_time": "2024-10-31T20:39:52.144Z"
   },
   {
    "duration": 405,
    "start_time": "2024-10-31T20:39:52.587Z"
   },
   {
    "duration": 6178,
    "start_time": "2024-10-31T20:39:52.998Z"
   },
   {
    "duration": 6036,
    "start_time": "2024-10-31T20:39:59.178Z"
   },
   {
    "duration": 1108,
    "start_time": "2024-10-31T20:40:05.216Z"
   },
   {
    "duration": 718,
    "start_time": "2024-10-31T20:40:06.325Z"
   },
   {
    "duration": 24,
    "start_time": "2024-10-31T20:40:07.045Z"
   },
   {
    "duration": 166,
    "start_time": "2024-10-31T20:40:07.070Z"
   },
   {
    "duration": 21,
    "start_time": "2024-10-31T20:40:07.237Z"
   },
   {
    "duration": 138,
    "start_time": "2024-10-31T20:40:07.260Z"
   },
   {
    "duration": 21,
    "start_time": "2024-10-31T20:40:07.399Z"
   },
   {
    "duration": 203,
    "start_time": "2024-10-31T20:40:07.421Z"
   },
   {
    "duration": 20,
    "start_time": "2024-10-31T20:40:07.626Z"
   },
   {
    "duration": 311,
    "start_time": "2024-10-31T20:40:07.648Z"
   },
   {
    "duration": 22,
    "start_time": "2024-10-31T20:40:07.961Z"
   },
   {
    "duration": 139,
    "start_time": "2024-10-31T20:40:07.985Z"
   },
   {
    "duration": 22,
    "start_time": "2024-10-31T20:40:08.126Z"
   },
   {
    "duration": 131,
    "start_time": "2024-10-31T20:40:08.149Z"
   },
   {
    "duration": 1448,
    "start_time": "2024-10-31T20:40:08.282Z"
   },
   {
    "duration": 361,
    "start_time": "2024-10-31T20:40:09.732Z"
   },
   {
    "duration": 8,
    "start_time": "2024-10-31T20:40:10.095Z"
   },
   {
    "duration": 12,
    "start_time": "2024-10-31T20:40:10.105Z"
   },
   {
    "duration": 25,
    "start_time": "2024-10-31T20:40:10.118Z"
   },
   {
    "duration": 31,
    "start_time": "2024-10-31T20:40:10.145Z"
   },
   {
    "duration": 17,
    "start_time": "2024-10-31T20:40:10.178Z"
   },
   {
    "duration": 34,
    "start_time": "2024-10-31T20:40:10.197Z"
   },
   {
    "duration": 23,
    "start_time": "2024-10-31T20:40:10.233Z"
   },
   {
    "duration": 13,
    "start_time": "2024-10-31T20:40:10.257Z"
   },
   {
    "duration": 31,
    "start_time": "2024-10-31T20:40:10.271Z"
   },
   {
    "duration": 33,
    "start_time": "2024-10-31T20:40:10.303Z"
   },
   {
    "duration": 39,
    "start_time": "2024-10-31T20:40:10.338Z"
   },
   {
    "duration": 27,
    "start_time": "2024-10-31T20:40:10.379Z"
   },
   {
    "duration": 31,
    "start_time": "2024-10-31T20:40:10.408Z"
   },
   {
    "duration": 30,
    "start_time": "2024-10-31T20:40:10.441Z"
   },
   {
    "duration": 38,
    "start_time": "2024-10-31T20:40:10.473Z"
   },
   {
    "duration": 1312,
    "start_time": "2024-10-31T21:05:55.082Z"
   },
   {
    "duration": 41,
    "start_time": "2024-10-31T21:05:56.396Z"
   },
   {
    "duration": 16,
    "start_time": "2024-10-31T21:05:56.438Z"
   },
   {
    "duration": 11,
    "start_time": "2024-10-31T21:05:56.455Z"
   },
   {
    "duration": 3,
    "start_time": "2024-10-31T21:05:56.468Z"
   },
   {
    "duration": 4,
    "start_time": "2024-10-31T21:05:56.472Z"
   },
   {
    "duration": 10,
    "start_time": "2024-10-31T21:05:56.478Z"
   },
   {
    "duration": 7,
    "start_time": "2024-10-31T21:05:56.517Z"
   },
   {
    "duration": 23,
    "start_time": "2024-10-31T21:05:56.526Z"
   },
   {
    "duration": 4,
    "start_time": "2024-10-31T21:05:56.552Z"
   },
   {
    "duration": 10,
    "start_time": "2024-10-31T21:05:56.557Z"
   },
   {
    "duration": 14,
    "start_time": "2024-10-31T21:05:56.569Z"
   },
   {
    "duration": 12,
    "start_time": "2024-10-31T21:05:56.585Z"
   },
   {
    "duration": 791,
    "start_time": "2024-10-31T21:05:56.599Z"
   },
   {
    "duration": 350,
    "start_time": "2024-10-31T21:05:57.392Z"
   },
   {
    "duration": 11,
    "start_time": "2024-10-31T21:05:57.744Z"
   },
   {
    "duration": 11,
    "start_time": "2024-10-31T21:05:57.756Z"
   },
   {
    "duration": 5,
    "start_time": "2024-10-31T21:05:57.769Z"
   },
   {
    "duration": 50,
    "start_time": "2024-10-31T21:05:57.776Z"
   },
   {
    "duration": 8,
    "start_time": "2024-10-31T21:05:57.828Z"
   },
   {
    "duration": 6,
    "start_time": "2024-10-31T21:05:57.838Z"
   },
   {
    "duration": 32,
    "start_time": "2024-10-31T21:05:57.845Z"
   },
   {
    "duration": 8,
    "start_time": "2024-10-31T21:05:57.879Z"
   },
   {
    "duration": 7,
    "start_time": "2024-10-31T21:05:57.888Z"
   },
   {
    "duration": 14,
    "start_time": "2024-10-31T21:05:57.897Z"
   },
   {
    "duration": 7,
    "start_time": "2024-10-31T21:05:57.918Z"
   },
   {
    "duration": 10,
    "start_time": "2024-10-31T21:05:57.926Z"
   },
   {
    "duration": 5,
    "start_time": "2024-10-31T21:05:57.940Z"
   },
   {
    "duration": 5,
    "start_time": "2024-10-31T21:05:57.946Z"
   },
   {
    "duration": 11,
    "start_time": "2024-10-31T21:05:57.953Z"
   },
   {
    "duration": 16,
    "start_time": "2024-10-31T21:05:57.966Z"
   },
   {
    "duration": 37,
    "start_time": "2024-10-31T21:05:57.983Z"
   },
   {
    "duration": 14,
    "start_time": "2024-10-31T21:05:58.022Z"
   },
   {
    "duration": 22,
    "start_time": "2024-10-31T21:05:58.037Z"
   },
   {
    "duration": 14,
    "start_time": "2024-10-31T21:05:58.061Z"
   },
   {
    "duration": 61,
    "start_time": "2024-10-31T21:05:58.078Z"
   },
   {
    "duration": 5,
    "start_time": "2024-10-31T21:05:58.141Z"
   },
   {
    "duration": 9,
    "start_time": "2024-10-31T21:05:58.147Z"
   },
   {
    "duration": 6,
    "start_time": "2024-10-31T21:05:58.157Z"
   },
   {
    "duration": 10,
    "start_time": "2024-10-31T21:05:58.164Z"
   },
   {
    "duration": 53,
    "start_time": "2024-10-31T21:05:58.175Z"
   },
   {
    "duration": 6,
    "start_time": "2024-10-31T21:05:58.230Z"
   },
   {
    "duration": 7,
    "start_time": "2024-10-31T21:05:58.237Z"
   },
   {
    "duration": 26,
    "start_time": "2024-10-31T21:05:58.245Z"
   },
   {
    "duration": 6,
    "start_time": "2024-10-31T21:05:58.273Z"
   },
   {
    "duration": 7,
    "start_time": "2024-10-31T21:05:58.280Z"
   },
   {
    "duration": 365,
    "start_time": "2024-10-31T21:05:58.318Z"
   },
   {
    "duration": 357,
    "start_time": "2024-10-31T21:05:58.685Z"
   },
   {
    "duration": 6234,
    "start_time": "2024-10-31T21:05:59.044Z"
   },
   {
    "duration": 6180,
    "start_time": "2024-10-31T21:06:05.280Z"
   },
   {
    "duration": 1135,
    "start_time": "2024-10-31T21:06:11.461Z"
   },
   {
    "duration": 766,
    "start_time": "2024-10-31T21:06:12.598Z"
   },
   {
    "duration": 21,
    "start_time": "2024-10-31T21:06:13.365Z"
   },
   {
    "duration": 159,
    "start_time": "2024-10-31T21:06:13.388Z"
   },
   {
    "duration": 24,
    "start_time": "2024-10-31T21:06:13.550Z"
   },
   {
    "duration": 140,
    "start_time": "2024-10-31T21:06:13.576Z"
   },
   {
    "duration": 21,
    "start_time": "2024-10-31T21:06:13.717Z"
   },
   {
    "duration": 211,
    "start_time": "2024-10-31T21:06:13.740Z"
   },
   {
    "duration": 21,
    "start_time": "2024-10-31T21:06:13.953Z"
   },
   {
    "duration": 271,
    "start_time": "2024-10-31T21:06:13.976Z"
   },
   {
    "duration": 21,
    "start_time": "2024-10-31T21:06:14.249Z"
   },
   {
    "duration": 146,
    "start_time": "2024-10-31T21:06:14.272Z"
   },
   {
    "duration": 21,
    "start_time": "2024-10-31T21:06:14.419Z"
   },
   {
    "duration": 143,
    "start_time": "2024-10-31T21:06:14.442Z"
   },
   {
    "duration": 1448,
    "start_time": "2024-10-31T21:06:14.587Z"
   },
   {
    "duration": 361,
    "start_time": "2024-10-31T21:06:16.037Z"
   },
   {
    "duration": 8,
    "start_time": "2024-10-31T21:06:16.400Z"
   },
   {
    "duration": 10,
    "start_time": "2024-10-31T21:06:16.409Z"
   },
   {
    "duration": 10,
    "start_time": "2024-10-31T21:06:16.421Z"
   },
   {
    "duration": 22,
    "start_time": "2024-10-31T21:06:16.432Z"
   },
   {
    "duration": 9,
    "start_time": "2024-10-31T21:06:16.455Z"
   },
   {
    "duration": 13,
    "start_time": "2024-10-31T21:06:16.465Z"
   },
   {
    "duration": 5,
    "start_time": "2024-10-31T21:06:16.479Z"
   },
   {
    "duration": 8,
    "start_time": "2024-10-31T21:06:16.485Z"
   },
   {
    "duration": 25,
    "start_time": "2024-10-31T21:06:16.494Z"
   },
   {
    "duration": 6,
    "start_time": "2024-10-31T21:06:16.520Z"
   },
   {
    "duration": 13,
    "start_time": "2024-10-31T21:06:16.527Z"
   },
   {
    "duration": 21,
    "start_time": "2024-10-31T21:06:16.541Z"
   },
   {
    "duration": 11,
    "start_time": "2024-10-31T21:06:16.564Z"
   },
   {
    "duration": 10,
    "start_time": "2024-10-31T21:06:16.577Z"
   },
   {
    "duration": 32,
    "start_time": "2024-10-31T21:06:16.589Z"
   },
   {
    "duration": 9,
    "start_time": "2024-10-31T22:06:00.427Z"
   },
   {
    "duration": 124,
    "start_time": "2024-10-31T22:08:53.090Z"
   },
   {
    "duration": 148,
    "start_time": "2024-10-31T22:10:32.176Z"
   },
   {
    "duration": 111,
    "start_time": "2024-10-31T22:10:43.180Z"
   },
   {
    "duration": 156,
    "start_time": "2024-10-31T22:12:18.807Z"
   },
   {
    "duration": 302,
    "start_time": "2024-10-31T22:12:36.152Z"
   },
   {
    "duration": 11,
    "start_time": "2024-10-31T22:15:51.710Z"
   },
   {
    "duration": 11,
    "start_time": "2024-10-31T22:16:41.844Z"
   },
   {
    "duration": 8,
    "start_time": "2024-10-31T22:18:40.594Z"
   },
   {
    "duration": 108,
    "start_time": "2024-10-31T22:20:03.644Z"
   },
   {
    "duration": 143,
    "start_time": "2024-10-31T22:20:37.140Z"
   },
   {
    "duration": 198,
    "start_time": "2024-10-31T22:21:33.862Z"
   },
   {
    "duration": 11,
    "start_time": "2024-10-31T22:23:03.241Z"
   },
   {
    "duration": 12,
    "start_time": "2024-10-31T22:23:38.790Z"
   },
   {
    "duration": 12,
    "start_time": "2024-10-31T22:23:50.394Z"
   },
   {
    "duration": 1350,
    "start_time": "2024-10-31T22:24:08.260Z"
   },
   {
    "duration": 44,
    "start_time": "2024-10-31T22:24:09.612Z"
   },
   {
    "duration": 17,
    "start_time": "2024-10-31T22:24:09.657Z"
   },
   {
    "duration": 12,
    "start_time": "2024-10-31T22:24:09.676Z"
   },
   {
    "duration": 59,
    "start_time": "2024-10-31T22:24:09.690Z"
   },
   {
    "duration": 6,
    "start_time": "2024-10-31T22:24:09.751Z"
   },
   {
    "duration": 16,
    "start_time": "2024-10-31T22:24:09.759Z"
   },
   {
    "duration": 8,
    "start_time": "2024-10-31T22:24:09.777Z"
   },
   {
    "duration": 25,
    "start_time": "2024-10-31T22:24:09.786Z"
   },
   {
    "duration": 4,
    "start_time": "2024-10-31T22:24:09.814Z"
   },
   {
    "duration": 9,
    "start_time": "2024-10-31T22:24:09.819Z"
   },
   {
    "duration": 19,
    "start_time": "2024-10-31T22:24:09.830Z"
   },
   {
    "duration": 17,
    "start_time": "2024-10-31T22:24:09.851Z"
   },
   {
    "duration": 786,
    "start_time": "2024-10-31T22:24:09.869Z"
   },
   {
    "duration": 365,
    "start_time": "2024-10-31T22:24:10.656Z"
   },
   {
    "duration": 11,
    "start_time": "2024-10-31T22:24:11.022Z"
   },
   {
    "duration": 11,
    "start_time": "2024-10-31T22:24:11.034Z"
   },
   {
    "duration": 5,
    "start_time": "2024-10-31T22:24:11.046Z"
   },
   {
    "duration": 46,
    "start_time": "2024-10-31T22:24:11.052Z"
   },
   {
    "duration": 8,
    "start_time": "2024-10-31T22:24:11.099Z"
   },
   {
    "duration": 6,
    "start_time": "2024-10-31T22:24:11.108Z"
   },
   {
    "duration": 7,
    "start_time": "2024-10-31T22:24:11.115Z"
   },
   {
    "duration": 5,
    "start_time": "2024-10-31T22:24:11.124Z"
   },
   {
    "duration": 5,
    "start_time": "2024-10-31T22:24:11.130Z"
   },
   {
    "duration": 11,
    "start_time": "2024-10-31T22:24:11.137Z"
   },
   {
    "duration": 51,
    "start_time": "2024-10-31T22:24:11.150Z"
   },
   {
    "duration": 4,
    "start_time": "2024-10-31T22:24:11.203Z"
   },
   {
    "duration": 6,
    "start_time": "2024-10-31T22:24:11.212Z"
   },
   {
    "duration": 28,
    "start_time": "2024-10-31T22:24:11.220Z"
   },
   {
    "duration": 29,
    "start_time": "2024-10-31T22:24:11.249Z"
   },
   {
    "duration": 8,
    "start_time": "2024-10-31T22:24:11.280Z"
   },
   {
    "duration": 21,
    "start_time": "2024-10-31T22:24:11.289Z"
   },
   {
    "duration": 16,
    "start_time": "2024-10-31T22:24:11.312Z"
   },
   {
    "duration": 24,
    "start_time": "2024-10-31T22:24:11.329Z"
   },
   {
    "duration": 13,
    "start_time": "2024-10-31T22:24:11.355Z"
   },
   {
    "duration": 47,
    "start_time": "2024-10-31T22:24:11.370Z"
   },
   {
    "duration": 4,
    "start_time": "2024-10-31T22:24:11.418Z"
   },
   {
    "duration": 8,
    "start_time": "2024-10-31T22:24:11.424Z"
   },
   {
    "duration": 5,
    "start_time": "2024-10-31T22:24:11.434Z"
   },
   {
    "duration": 8,
    "start_time": "2024-10-31T22:24:11.440Z"
   },
   {
    "duration": 55,
    "start_time": "2024-10-31T22:24:11.450Z"
   },
   {
    "duration": 5,
    "start_time": "2024-10-31T22:24:11.507Z"
   },
   {
    "duration": 6,
    "start_time": "2024-10-31T22:24:11.514Z"
   },
   {
    "duration": 23,
    "start_time": "2024-10-31T22:24:11.522Z"
   },
   {
    "duration": 5,
    "start_time": "2024-10-31T22:24:11.547Z"
   },
   {
    "duration": 44,
    "start_time": "2024-10-31T22:24:11.554Z"
   },
   {
    "duration": 385,
    "start_time": "2024-10-31T22:24:11.600Z"
   },
   {
    "duration": 360,
    "start_time": "2024-10-31T22:24:11.986Z"
   },
   {
    "duration": 5858,
    "start_time": "2024-10-31T22:24:12.348Z"
   },
   {
    "duration": 5896,
    "start_time": "2024-10-31T22:24:18.208Z"
   },
   {
    "duration": 1095,
    "start_time": "2024-10-31T22:24:24.106Z"
   },
   {
    "duration": 708,
    "start_time": "2024-10-31T22:24:25.203Z"
   },
   {
    "duration": 23,
    "start_time": "2024-10-31T22:24:25.912Z"
   },
   {
    "duration": 155,
    "start_time": "2024-10-31T22:24:25.937Z"
   },
   {
    "duration": 20,
    "start_time": "2024-10-31T22:24:26.098Z"
   },
   {
    "duration": 137,
    "start_time": "2024-10-31T22:24:26.120Z"
   },
   {
    "duration": 20,
    "start_time": "2024-10-31T22:24:26.259Z"
   },
   {
    "duration": 243,
    "start_time": "2024-10-31T22:24:26.281Z"
   },
   {
    "duration": 21,
    "start_time": "2024-10-31T22:24:26.525Z"
   },
   {
    "duration": 276,
    "start_time": "2024-10-31T22:24:26.548Z"
   },
   {
    "duration": 20,
    "start_time": "2024-10-31T22:24:26.825Z"
   },
   {
    "duration": 141,
    "start_time": "2024-10-31T22:24:26.847Z"
   },
   {
    "duration": 25,
    "start_time": "2024-10-31T22:24:26.989Z"
   },
   {
    "duration": 130,
    "start_time": "2024-10-31T22:24:27.016Z"
   },
   {
    "duration": 1470,
    "start_time": "2024-10-31T22:24:27.148Z"
   },
   {
    "duration": 365,
    "start_time": "2024-10-31T22:24:28.620Z"
   },
   {
    "duration": 13,
    "start_time": "2024-10-31T22:24:28.986Z"
   },
   {
    "duration": 7,
    "start_time": "2024-10-31T22:24:29.000Z"
   },
   {
    "duration": 13,
    "start_time": "2024-10-31T22:24:29.009Z"
   },
   {
    "duration": 6,
    "start_time": "2024-10-31T22:24:29.023Z"
   },
   {
    "duration": 8,
    "start_time": "2024-10-31T22:24:29.030Z"
   },
   {
    "duration": 12,
    "start_time": "2024-10-31T22:24:29.040Z"
   },
   {
    "duration": 8,
    "start_time": "2024-10-31T22:24:29.054Z"
   },
   {
    "duration": 162,
    "start_time": "2024-10-31T22:24:29.063Z"
   },
   {
    "duration": 157,
    "start_time": "2024-10-31T22:24:29.227Z"
   },
   {
    "duration": 219,
    "start_time": "2024-10-31T22:24:29.385Z"
   },
   {
    "duration": 13,
    "start_time": "2024-10-31T22:24:29.606Z"
   },
   {
    "duration": 9,
    "start_time": "2024-10-31T22:24:29.620Z"
   },
   {
    "duration": 140,
    "start_time": "2024-10-31T22:24:29.631Z"
   },
   {
    "duration": 254,
    "start_time": "2024-10-31T22:24:29.773Z"
   },
   {
    "duration": 221,
    "start_time": "2024-10-31T22:24:30.029Z"
   },
   {
    "duration": 11,
    "start_time": "2024-10-31T22:24:30.256Z"
   },
   {
    "duration": 17,
    "start_time": "2024-10-31T22:24:30.268Z"
   },
   {
    "duration": 38,
    "start_time": "2024-10-31T22:24:30.287Z"
   },
   {
    "duration": 7,
    "start_time": "2024-10-31T22:24:30.327Z"
   },
   {
    "duration": 25,
    "start_time": "2024-10-31T22:24:30.336Z"
   },
   {
    "duration": 21,
    "start_time": "2024-10-31T22:24:30.363Z"
   },
   {
    "duration": 28,
    "start_time": "2024-10-31T22:24:30.386Z"
   },
   {
    "duration": 20,
    "start_time": "2024-10-31T22:24:30.415Z"
   },
   {
    "duration": 32,
    "start_time": "2024-10-31T22:24:30.436Z"
   },
   {
    "duration": 25,
    "start_time": "2024-10-31T22:24:30.470Z"
   },
   {
    "duration": 6,
    "start_time": "2024-10-31T22:26:50.972Z"
   },
   {
    "duration": 65,
    "start_time": "2024-10-31T22:27:43.783Z"
   },
   {
    "duration": 12,
    "start_time": "2024-10-31T22:28:23.725Z"
   },
   {
    "duration": 10,
    "start_time": "2024-10-31T22:38:46.692Z"
   },
   {
    "duration": 1276,
    "start_time": "2024-10-31T22:50:55.936Z"
   },
   {
    "duration": 44,
    "start_time": "2024-10-31T22:50:57.214Z"
   },
   {
    "duration": 14,
    "start_time": "2024-10-31T22:50:57.260Z"
   },
   {
    "duration": 11,
    "start_time": "2024-10-31T22:50:57.276Z"
   },
   {
    "duration": 3,
    "start_time": "2024-10-31T22:50:57.289Z"
   },
   {
    "duration": 13,
    "start_time": "2024-10-31T22:50:57.294Z"
   },
   {
    "duration": 18,
    "start_time": "2024-10-31T22:50:57.309Z"
   },
   {
    "duration": 8,
    "start_time": "2024-10-31T22:50:57.329Z"
   },
   {
    "duration": 12,
    "start_time": "2024-10-31T22:50:57.338Z"
   },
   {
    "duration": 4,
    "start_time": "2024-10-31T22:50:57.353Z"
   },
   {
    "duration": 4,
    "start_time": "2024-10-31T22:50:57.359Z"
   },
   {
    "duration": 11,
    "start_time": "2024-10-31T22:50:57.364Z"
   },
   {
    "duration": 29,
    "start_time": "2024-10-31T22:50:57.377Z"
   },
   {
    "duration": 785,
    "start_time": "2024-10-31T22:50:57.407Z"
   },
   {
    "duration": 323,
    "start_time": "2024-10-31T22:50:58.197Z"
   },
   {
    "duration": 10,
    "start_time": "2024-10-31T22:50:58.521Z"
   },
   {
    "duration": 10,
    "start_time": "2024-10-31T22:50:58.533Z"
   },
   {
    "duration": 4,
    "start_time": "2024-10-31T22:50:58.545Z"
   },
   {
    "duration": 19,
    "start_time": "2024-10-31T22:50:58.551Z"
   },
   {
    "duration": 33,
    "start_time": "2024-10-31T22:50:58.572Z"
   },
   {
    "duration": 5,
    "start_time": "2024-10-31T22:50:58.607Z"
   },
   {
    "duration": 5,
    "start_time": "2024-10-31T22:50:58.614Z"
   },
   {
    "duration": 8,
    "start_time": "2024-10-31T22:50:58.621Z"
   },
   {
    "duration": 5,
    "start_time": "2024-10-31T22:50:58.630Z"
   },
   {
    "duration": 12,
    "start_time": "2024-10-31T22:50:58.636Z"
   },
   {
    "duration": 47,
    "start_time": "2024-10-31T22:50:58.650Z"
   },
   {
    "duration": 5,
    "start_time": "2024-10-31T22:50:58.699Z"
   },
   {
    "duration": 6,
    "start_time": "2024-10-31T22:50:58.708Z"
   },
   {
    "duration": 6,
    "start_time": "2024-10-31T22:50:58.715Z"
   },
   {
    "duration": 13,
    "start_time": "2024-10-31T22:50:58.723Z"
   },
   {
    "duration": 6,
    "start_time": "2024-10-31T22:50:58.738Z"
   },
   {
    "duration": 12,
    "start_time": "2024-10-31T22:50:58.746Z"
   },
   {
    "duration": 47,
    "start_time": "2024-10-31T22:50:58.760Z"
   },
   {
    "duration": 24,
    "start_time": "2024-10-31T22:50:58.809Z"
   },
   {
    "duration": 13,
    "start_time": "2024-10-31T22:50:58.835Z"
   },
   {
    "duration": 49,
    "start_time": "2024-10-31T22:50:58.849Z"
   },
   {
    "duration": 4,
    "start_time": "2024-10-31T22:50:58.900Z"
   },
   {
    "duration": 9,
    "start_time": "2024-10-31T22:50:58.906Z"
   },
   {
    "duration": 6,
    "start_time": "2024-10-31T22:50:58.917Z"
   },
   {
    "duration": 9,
    "start_time": "2024-10-31T22:50:58.924Z"
   },
   {
    "duration": 24,
    "start_time": "2024-10-31T22:50:58.935Z"
   },
   {
    "duration": 5,
    "start_time": "2024-10-31T22:50:58.961Z"
   },
   {
    "duration": 31,
    "start_time": "2024-10-31T22:50:58.968Z"
   },
   {
    "duration": 23,
    "start_time": "2024-10-31T22:50:59.001Z"
   },
   {
    "duration": 4,
    "start_time": "2024-10-31T22:50:59.026Z"
   },
   {
    "duration": 8,
    "start_time": "2024-10-31T22:50:59.031Z"
   },
   {
    "duration": 435,
    "start_time": "2024-10-31T22:50:59.040Z"
   },
   {
    "duration": 378,
    "start_time": "2024-10-31T22:50:59.477Z"
   },
   {
    "duration": 6020,
    "start_time": "2024-10-31T22:50:59.856Z"
   },
   {
    "duration": 5982,
    "start_time": "2024-10-31T22:51:05.878Z"
   },
   {
    "duration": 1091,
    "start_time": "2024-10-31T22:51:11.861Z"
   },
   {
    "duration": 698,
    "start_time": "2024-10-31T22:51:12.954Z"
   },
   {
    "duration": 23,
    "start_time": "2024-10-31T22:51:13.654Z"
   },
   {
    "duration": 171,
    "start_time": "2024-10-31T22:51:13.678Z"
   },
   {
    "duration": 21,
    "start_time": "2024-10-31T22:51:13.850Z"
   },
   {
    "duration": 130,
    "start_time": "2024-10-31T22:51:13.873Z"
   },
   {
    "duration": 20,
    "start_time": "2024-10-31T22:51:14.004Z"
   },
   {
    "duration": 193,
    "start_time": "2024-10-31T22:51:14.025Z"
   },
   {
    "duration": 19,
    "start_time": "2024-10-31T22:51:14.220Z"
   },
   {
    "duration": 264,
    "start_time": "2024-10-31T22:51:14.241Z"
   },
   {
    "duration": 20,
    "start_time": "2024-10-31T22:51:14.507Z"
   },
   {
    "duration": 141,
    "start_time": "2024-10-31T22:51:14.529Z"
   },
   {
    "duration": 33,
    "start_time": "2024-10-31T22:51:14.672Z"
   },
   {
    "duration": 136,
    "start_time": "2024-10-31T22:51:14.707Z"
   },
   {
    "duration": 1441,
    "start_time": "2024-10-31T22:51:14.845Z"
   },
   {
    "duration": 378,
    "start_time": "2024-10-31T22:51:16.288Z"
   },
   {
    "duration": 9,
    "start_time": "2024-10-31T22:51:16.668Z"
   },
   {
    "duration": 21,
    "start_time": "2024-10-31T22:51:16.678Z"
   },
   {
    "duration": 5,
    "start_time": "2024-10-31T22:51:16.701Z"
   },
   {
    "duration": 6,
    "start_time": "2024-10-31T22:51:16.708Z"
   },
   {
    "duration": 7,
    "start_time": "2024-10-31T22:51:16.715Z"
   },
   {
    "duration": 14,
    "start_time": "2024-10-31T22:51:16.723Z"
   },
   {
    "duration": 8,
    "start_time": "2024-10-31T22:51:16.739Z"
   },
   {
    "duration": 162,
    "start_time": "2024-10-31T22:51:16.749Z"
   },
   {
    "duration": 160,
    "start_time": "2024-10-31T22:51:16.912Z"
   },
   {
    "duration": 212,
    "start_time": "2024-10-31T22:51:17.073Z"
   },
   {
    "duration": 20,
    "start_time": "2024-10-31T22:51:17.287Z"
   },
   {
    "duration": 10,
    "start_time": "2024-10-31T22:51:17.308Z"
   },
   {
    "duration": 112,
    "start_time": "2024-10-31T22:51:17.320Z"
   },
   {
    "duration": 250,
    "start_time": "2024-10-31T22:51:17.434Z"
   },
   {
    "duration": 225,
    "start_time": "2024-10-31T22:51:17.686Z"
   },
   {
    "duration": 11,
    "start_time": "2024-10-31T22:51:17.916Z"
   },
   {
    "duration": 6,
    "start_time": "2024-10-31T22:51:17.928Z"
   },
   {
    "duration": 13,
    "start_time": "2024-10-31T22:51:17.935Z"
   },
   {
    "duration": 5,
    "start_time": "2024-10-31T22:51:17.949Z"
   },
   {
    "duration": 5,
    "start_time": "2024-10-31T22:51:17.956Z"
   },
   {
    "duration": 6,
    "start_time": "2024-10-31T22:51:17.997Z"
   },
   {
    "duration": 15,
    "start_time": "2024-10-31T22:51:18.005Z"
   },
   {
    "duration": 11,
    "start_time": "2024-10-31T22:51:18.022Z"
   },
   {
    "duration": 12,
    "start_time": "2024-10-31T22:51:18.035Z"
   },
   {
    "duration": 13,
    "start_time": "2024-10-31T22:51:18.049Z"
   },
   {
    "duration": 17,
    "start_time": "2024-10-31T22:51:18.063Z"
   },
   {
    "duration": 20,
    "start_time": "2024-10-31T22:51:18.082Z"
   },
   {
    "duration": 1524,
    "start_time": "2024-11-01T04:57:35.198Z"
   },
   {
    "duration": 114,
    "start_time": "2024-11-01T04:57:36.724Z"
   },
   {
    "duration": 16,
    "start_time": "2024-11-01T04:57:36.840Z"
   },
   {
    "duration": 14,
    "start_time": "2024-11-01T04:57:36.858Z"
   },
   {
    "duration": 4,
    "start_time": "2024-11-01T04:57:36.874Z"
   },
   {
    "duration": 22,
    "start_time": "2024-11-01T04:57:36.880Z"
   },
   {
    "duration": 30,
    "start_time": "2024-11-01T04:57:36.904Z"
   },
   {
    "duration": 18,
    "start_time": "2024-11-01T04:57:36.936Z"
   },
   {
    "duration": 17,
    "start_time": "2024-11-01T04:57:36.957Z"
   },
   {
    "duration": 5,
    "start_time": "2024-11-01T04:57:36.978Z"
   },
   {
    "duration": 67,
    "start_time": "2024-11-01T04:57:36.985Z"
   },
   {
    "duration": 60,
    "start_time": "2024-11-01T04:57:37.054Z"
   },
   {
    "duration": 26,
    "start_time": "2024-11-01T04:57:37.116Z"
   },
   {
    "duration": 876,
    "start_time": "2024-11-01T04:57:37.144Z"
   },
   {
    "duration": 355,
    "start_time": "2024-11-01T04:57:38.021Z"
   },
   {
    "duration": 13,
    "start_time": "2024-11-01T04:57:38.378Z"
   },
   {
    "duration": 14,
    "start_time": "2024-11-01T04:57:38.392Z"
   },
   {
    "duration": 7,
    "start_time": "2024-11-01T04:57:38.409Z"
   },
   {
    "duration": 49,
    "start_time": "2024-11-01T04:57:38.419Z"
   },
   {
    "duration": 8,
    "start_time": "2024-11-01T04:57:38.470Z"
   },
   {
    "duration": 6,
    "start_time": "2024-11-01T04:57:38.480Z"
   },
   {
    "duration": 11,
    "start_time": "2024-11-01T04:57:38.488Z"
   },
   {
    "duration": 21,
    "start_time": "2024-11-01T04:57:38.500Z"
   },
   {
    "duration": 5,
    "start_time": "2024-11-01T04:57:38.522Z"
   },
   {
    "duration": 29,
    "start_time": "2024-11-01T04:57:38.529Z"
   },
   {
    "duration": 65,
    "start_time": "2024-11-01T04:57:38.560Z"
   },
   {
    "duration": 7,
    "start_time": "2024-11-01T04:57:38.627Z"
   },
   {
    "duration": 7,
    "start_time": "2024-11-01T04:57:38.638Z"
   },
   {
    "duration": 80,
    "start_time": "2024-11-01T04:57:38.646Z"
   },
   {
    "duration": 57,
    "start_time": "2024-11-01T04:57:38.728Z"
   },
   {
    "duration": 7,
    "start_time": "2024-11-01T04:57:38.786Z"
   },
   {
    "duration": 13,
    "start_time": "2024-11-01T04:57:38.795Z"
   },
   {
    "duration": 17,
    "start_time": "2024-11-01T04:57:38.810Z"
   },
   {
    "duration": 28,
    "start_time": "2024-11-01T04:57:38.829Z"
   },
   {
    "duration": 14,
    "start_time": "2024-11-01T04:57:38.859Z"
   },
   {
    "duration": 27,
    "start_time": "2024-11-01T04:57:38.875Z"
   },
   {
    "duration": 5,
    "start_time": "2024-11-01T04:57:38.904Z"
   },
   {
    "duration": 42,
    "start_time": "2024-11-01T04:57:38.910Z"
   },
   {
    "duration": 6,
    "start_time": "2024-11-01T04:57:38.954Z"
   },
   {
    "duration": 19,
    "start_time": "2024-11-01T04:57:38.962Z"
   },
   {
    "duration": 33,
    "start_time": "2024-11-01T04:57:38.983Z"
   },
   {
    "duration": 43,
    "start_time": "2024-11-01T04:57:39.018Z"
   },
   {
    "duration": 7,
    "start_time": "2024-11-01T04:57:39.063Z"
   },
   {
    "duration": 34,
    "start_time": "2024-11-01T04:57:39.072Z"
   },
   {
    "duration": 5,
    "start_time": "2024-11-01T04:57:39.107Z"
   },
   {
    "duration": 10,
    "start_time": "2024-11-01T04:57:39.114Z"
   },
   {
    "duration": 429,
    "start_time": "2024-11-01T04:57:39.126Z"
   },
   {
    "duration": 402,
    "start_time": "2024-11-01T04:57:39.557Z"
   },
   {
    "duration": 6673,
    "start_time": "2024-11-01T04:57:39.960Z"
   },
   {
    "duration": 6422,
    "start_time": "2024-11-01T04:57:46.634Z"
   },
   {
    "duration": 1223,
    "start_time": "2024-11-01T04:57:53.058Z"
   },
   {
    "duration": 762,
    "start_time": "2024-11-01T04:57:54.283Z"
   },
   {
    "duration": 29,
    "start_time": "2024-11-01T04:57:55.047Z"
   },
   {
    "duration": 175,
    "start_time": "2024-11-01T04:57:55.077Z"
   },
   {
    "duration": 23,
    "start_time": "2024-11-01T04:57:55.253Z"
   },
   {
    "duration": 142,
    "start_time": "2024-11-01T04:57:55.278Z"
   },
   {
    "duration": 35,
    "start_time": "2024-11-01T04:57:55.422Z"
   },
   {
    "duration": 207,
    "start_time": "2024-11-01T04:57:55.459Z"
   },
   {
    "duration": 23,
    "start_time": "2024-11-01T04:57:55.667Z"
   },
   {
    "duration": 313,
    "start_time": "2024-11-01T04:57:55.692Z"
   },
   {
    "duration": 33,
    "start_time": "2024-11-01T04:57:56.006Z"
   },
   {
    "duration": 154,
    "start_time": "2024-11-01T04:57:56.052Z"
   },
   {
    "duration": 24,
    "start_time": "2024-11-01T04:57:56.208Z"
   },
   {
    "duration": 153,
    "start_time": "2024-11-01T04:57:56.234Z"
   },
   {
    "duration": 1552,
    "start_time": "2024-11-01T04:57:56.389Z"
   },
   {
    "duration": 404,
    "start_time": "2024-11-01T04:57:57.942Z"
   },
   {
    "duration": 8,
    "start_time": "2024-11-01T04:57:58.352Z"
   },
   {
    "duration": 24,
    "start_time": "2024-11-01T04:57:58.362Z"
   },
   {
    "duration": 9,
    "start_time": "2024-11-01T04:57:58.388Z"
   },
   {
    "duration": 20,
    "start_time": "2024-11-01T04:57:58.398Z"
   },
   {
    "duration": 14,
    "start_time": "2024-11-01T04:57:58.419Z"
   },
   {
    "duration": 19,
    "start_time": "2024-11-01T04:57:58.434Z"
   },
   {
    "duration": 12,
    "start_time": "2024-11-01T04:57:58.456Z"
   },
   {
    "duration": 137,
    "start_time": "2024-11-01T04:57:58.470Z"
   },
   {
    "duration": 194,
    "start_time": "2024-11-01T04:57:58.608Z"
   },
   {
    "duration": 239,
    "start_time": "2024-11-01T04:57:58.804Z"
   },
   {
    "duration": 18,
    "start_time": "2024-11-01T04:57:59.045Z"
   },
   {
    "duration": 9,
    "start_time": "2024-11-01T04:57:59.064Z"
   },
   {
    "duration": 137,
    "start_time": "2024-11-01T04:57:59.075Z"
   },
   {
    "duration": 279,
    "start_time": "2024-11-01T04:57:59.213Z"
   },
   {
    "duration": 242,
    "start_time": "2024-11-01T04:57:59.493Z"
   },
   {
    "duration": 18,
    "start_time": "2024-11-01T04:57:59.741Z"
   },
   {
    "duration": 7,
    "start_time": "2024-11-01T04:57:59.760Z"
   },
   {
    "duration": 17,
    "start_time": "2024-11-01T04:57:59.768Z"
   },
   {
    "duration": 16,
    "start_time": "2024-11-01T04:57:59.787Z"
   },
   {
    "duration": 10,
    "start_time": "2024-11-01T04:57:59.804Z"
   },
   {
    "duration": 23,
    "start_time": "2024-11-01T04:57:59.816Z"
   },
   {
    "duration": 17,
    "start_time": "2024-11-01T04:57:59.842Z"
   },
   {
    "duration": 8,
    "start_time": "2024-11-01T04:57:59.861Z"
   },
   {
    "duration": 9,
    "start_time": "2024-11-01T04:57:59.871Z"
   },
   {
    "duration": 25,
    "start_time": "2024-11-01T04:57:59.882Z"
   },
   {
    "duration": 9,
    "start_time": "2024-11-01T04:57:59.909Z"
   },
   {
    "duration": 39,
    "start_time": "2024-11-01T04:57:59.920Z"
   }
  ],
  "kernelspec": {
   "display_name": "Python 3 (ipykernel)",
   "language": "python",
   "name": "python3"
  },
  "language_info": {
   "codemirror_mode": {
    "name": "ipython",
    "version": 3
   },
   "file_extension": ".py",
   "mimetype": "text/x-python",
   "name": "python",
   "nbconvert_exporter": "python",
   "pygments_lexer": "ipython3",
   "version": "3.12.7"
  },
  "toc": {
   "base_numbering": 1,
   "nav_menu": {},
   "number_sections": true,
   "sideBar": true,
   "skip_h1_title": true,
   "title_cell": "Table of Contents",
   "title_sidebar": "Contents",
   "toc_cell": false,
   "toc_position": {},
   "toc_section_display": true,
   "toc_window_display": false
  }
 },
 "nbformat": 4,
 "nbformat_minor": 4
}
