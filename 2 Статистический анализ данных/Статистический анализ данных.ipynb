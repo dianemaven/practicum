{
 "cells": [
  {
   "cell_type": "markdown",
   "id": "7b5b84c0",
   "metadata": {},
   "source": [
    "# Анализ сервиса аренды самокатов GoFast"
   ]
  },
  {
   "cell_type": "markdown",
   "id": "caea9d29",
   "metadata": {},
   "source": [
    "**Нам передали данные сервиса аренды самокатов GoFast о некоторых пользователях из нескольких городов, а также об их поездках. Необходимо проанализировать данные и проверить некоторые гипотезы, которые могут помочь бизнесу вырасти.  \n",
    "Чтобы совершать поездки по городу, пользователи сервиса GoFast пользуются мобильным приложением. Сервисом можно пользоваться без подписки и с подпиской Ultra.**  \n",
    "\n",
    "**В основных данных есть информация о пользователях, их поездках и подписках:  \n",
    "Пользователи — users_go.csv  \n",
    "Поездки — rides_go.csv  \n",
    "Подписки — subscriptions_go.csv**  \n",
    "\n",
    "Цели проекта:  \n",
    "1. Проанализировать полученные данные;   \n",
    "2. Проверить некоторые гипотезы, которые могут помочь бизнесу вырасти.\n",
    "\n",
    "Для достижения целей необходимо выполнить следующие задачи:\n",
    "1. Загрузка данных  \n",
    "  1.1 Считать CSV-файлы с данными с помощью библиотеки pandas и сохранить их в датафреймы  \n",
    "  1.2 Вывести первые строки каждого набора данных. Изучить общую информацию о каждом датафрейме\n",
    "2. Предобработка данных  \n",
    "  2.1 Привести столбец date к типу даты pandas  \n",
    "  2.2 Создать новый столбец с номером месяца на основе столбца date  \n",
    "  2.3 Проверить наличие пропущенных значений в датафреймах. Обработать их, если такие значения присутствуют  \n",
    "  2.4 Проверить наличие дубликатов в датафреймах. Обработать их, если такие значения присутствуют  \n",
    "3. Исследовательский анализ данных  \n",
    "  Описать и визуализируем общую информацию о пользователях и поездках по следующим пунктам:   \n",
    "  3.1 Частота встречаемости городов  \n",
    "  3.2 Соотношение пользователей с подпиской и без подписки  \n",
    "  3.3 Возраст пользователей  \n",
    "  3.4 Расстояние, которое пользователь преодолел за одну поездку  \n",
    "  3.5 Продолжительность поездок  \n",
    "4. Объединение данных  \n",
    "  4.1 Объединить данные о пользователях, поездках и подписках в один датафрейм  \n",
    "  4.2 Создадать ещё два датафрейма из датафрейма, созданного на этапе 4.1 (данные о пользователях без подписки и данные о пользователях с подпиской)  \n",
    "  4.3 Визуализировать информацию о расстоянии и времени поездок для пользователей обеих категорий  \n",
    "5. Подсчет выручки  \n",
    "  5.1 Создадать датафрейм с агрегированными данными о поездках на основе датафрейма с объединёнными данными из шага 4  \n",
    "  5.2 В этот же датафрейм добавить столбец с помесячной выручкой, которую принес каждый пользователь  \n",
    "6. Проверка гипотез  \n",
    "  Проверть следующие гипотезы:  \n",
    "  6.1 Тратят ли пользователи с подпиской больше времени на поездки? Если да, то пользователи с подпиской могут быть «выгоднее» для компании  \n",
    "  6.2 Расстояние одной поездки в 3130 метров — оптимальное с точки зрения износа самоката. Можно ли сказать, что среднее расстояние, которое проезжают пользователи с подпиской за одну поездку, не превышает 3130 метров?  \n",
    "  6.3 Проверим гипотезу о том, будет ли помесячная выручка от пользователей с подпиской по месяцам выше, чем выручка от пользователей без подписки  \n",
    "  6.4 Тест на проверку гипотезы о количестве обращений в техподдержку до и после обновлений\n",
    "7. Общий вывод  "
   ]
  },
  {
   "cell_type": "markdown",
   "id": "d7a9c781",
   "metadata": {},
   "source": [
    "**Импорт библиотек**"
   ]
  },
  {
   "cell_type": "code",
   "execution_count": null,
   "id": "72576667",
   "metadata": {},
   "outputs": [],
   "source": [
    "import pandas as pd\n",
    "import matplotlib.pyplot as plt\n",
    "import numpy as np\n",
    "from scipy import stats as st\n",
    "import warnings\n",
    "warnings.filterwarnings('ignore')"
   ]
  },
  {
   "cell_type": "markdown",
   "id": "c42cbe00",
   "metadata": {},
   "source": [
    "### Загрузка данных"
   ]
  },
  {
   "cell_type": "markdown",
   "id": "7ca010e9",
   "metadata": {},
   "source": [
    "**1.1 Считаем CSV-файлы с данными с помощью библиотеки pandas и сохраним их в датафреймы**"
   ]
  },
  {
   "cell_type": "code",
   "execution_count": 2,
   "id": "8ca8d187",
   "metadata": {},
   "outputs": [],
   "source": [
    "users = pd.read_csv('/datasets/users_go.csv') #датафрейм с информацией о пользователях, их поездках и подписках."
   ]
  },
  {
   "cell_type": "code",
   "execution_count": 3,
   "id": "55655230",
   "metadata": {},
   "outputs": [],
   "source": [
    "rides = pd.read_csv('/datasets/rides_go.csv') #датафрейм с данными о поездках"
   ]
  },
  {
   "cell_type": "code",
   "execution_count": 4,
   "id": "0090f837",
   "metadata": {},
   "outputs": [],
   "source": [
    "subscriptions = pd.read_csv('/datasets/subscriptions_go.csv') #датафрейм с данными о типах подписки"
   ]
  },
  {
   "cell_type": "markdown",
   "id": "e8f59bfe",
   "metadata": {},
   "source": [
    "**1.2 Выведем первые строки каждого набора данных. Изучим общую информацию о каждом датафрейме**"
   ]
  },
  {
   "cell_type": "code",
   "execution_count": 5,
   "id": "8cd6e856",
   "metadata": {},
   "outputs": [
    {
     "data": {
      "text/html": [
       "<div>\n",
       "<style scoped>\n",
       "    .dataframe tbody tr th:only-of-type {\n",
       "        vertical-align: middle;\n",
       "    }\n",
       "\n",
       "    .dataframe tbody tr th {\n",
       "        vertical-align: top;\n",
       "    }\n",
       "\n",
       "    .dataframe thead th {\n",
       "        text-align: right;\n",
       "    }\n",
       "</style>\n",
       "<table border=\"1\" class=\"dataframe\">\n",
       "  <thead>\n",
       "    <tr style=\"text-align: right;\">\n",
       "      <th></th>\n",
       "      <th>user_id</th>\n",
       "      <th>name</th>\n",
       "      <th>age</th>\n",
       "      <th>city</th>\n",
       "      <th>subscription_type</th>\n",
       "    </tr>\n",
       "  </thead>\n",
       "  <tbody>\n",
       "    <tr>\n",
       "      <th>0</th>\n",
       "      <td>1</td>\n",
       "      <td>Кира</td>\n",
       "      <td>22</td>\n",
       "      <td>Тюмень</td>\n",
       "      <td>ultra</td>\n",
       "    </tr>\n",
       "    <tr>\n",
       "      <th>1</th>\n",
       "      <td>2</td>\n",
       "      <td>Станислав</td>\n",
       "      <td>31</td>\n",
       "      <td>Омск</td>\n",
       "      <td>ultra</td>\n",
       "    </tr>\n",
       "    <tr>\n",
       "      <th>2</th>\n",
       "      <td>3</td>\n",
       "      <td>Алексей</td>\n",
       "      <td>20</td>\n",
       "      <td>Москва</td>\n",
       "      <td>ultra</td>\n",
       "    </tr>\n",
       "    <tr>\n",
       "      <th>3</th>\n",
       "      <td>4</td>\n",
       "      <td>Константин</td>\n",
       "      <td>26</td>\n",
       "      <td>Ростов-на-Дону</td>\n",
       "      <td>ultra</td>\n",
       "    </tr>\n",
       "    <tr>\n",
       "      <th>4</th>\n",
       "      <td>5</td>\n",
       "      <td>Адель</td>\n",
       "      <td>28</td>\n",
       "      <td>Омск</td>\n",
       "      <td>ultra</td>\n",
       "    </tr>\n",
       "    <tr>\n",
       "      <th>5</th>\n",
       "      <td>6</td>\n",
       "      <td>Регина</td>\n",
       "      <td>25</td>\n",
       "      <td>Краснодар</td>\n",
       "      <td>ultra</td>\n",
       "    </tr>\n",
       "    <tr>\n",
       "      <th>6</th>\n",
       "      <td>7</td>\n",
       "      <td>Игорь</td>\n",
       "      <td>23</td>\n",
       "      <td>Омск</td>\n",
       "      <td>ultra</td>\n",
       "    </tr>\n",
       "    <tr>\n",
       "      <th>7</th>\n",
       "      <td>8</td>\n",
       "      <td>Юрий</td>\n",
       "      <td>23</td>\n",
       "      <td>Краснодар</td>\n",
       "      <td>ultra</td>\n",
       "    </tr>\n",
       "    <tr>\n",
       "      <th>8</th>\n",
       "      <td>9</td>\n",
       "      <td>Ян</td>\n",
       "      <td>21</td>\n",
       "      <td>Пятигорск</td>\n",
       "      <td>ultra</td>\n",
       "    </tr>\n",
       "    <tr>\n",
       "      <th>9</th>\n",
       "      <td>10</td>\n",
       "      <td>Валерий</td>\n",
       "      <td>18</td>\n",
       "      <td>Екатеринбург</td>\n",
       "      <td>ultra</td>\n",
       "    </tr>\n",
       "  </tbody>\n",
       "</table>\n",
       "</div>"
      ],
      "text/plain": [
       "   user_id        name  age            city subscription_type\n",
       "0        1        Кира   22          Тюмень             ultra\n",
       "1        2   Станислав   31            Омск             ultra\n",
       "2        3     Алексей   20          Москва             ultra\n",
       "3        4  Константин   26  Ростов-на-Дону             ultra\n",
       "4        5       Адель   28            Омск             ultra\n",
       "5        6      Регина   25       Краснодар             ultra\n",
       "6        7       Игорь   23            Омск             ultra\n",
       "7        8        Юрий   23       Краснодар             ultra\n",
       "8        9          Ян   21       Пятигорск             ultra\n",
       "9       10     Валерий   18    Екатеринбург             ultra"
      ]
     },
     "execution_count": 5,
     "metadata": {},
     "output_type": "execute_result"
    }
   ],
   "source": [
    "users.head(10)"
   ]
  },
  {
   "cell_type": "code",
   "execution_count": 6,
   "id": "216c6de3",
   "metadata": {},
   "outputs": [
    {
     "name": "stdout",
     "output_type": "stream",
     "text": [
      "<class 'pandas.core.frame.DataFrame'>\n",
      "RangeIndex: 1565 entries, 0 to 1564\n",
      "Data columns (total 5 columns):\n",
      " #   Column             Non-Null Count  Dtype \n",
      "---  ------             --------------  ----- \n",
      " 0   user_id            1565 non-null   int64 \n",
      " 1   name               1565 non-null   object\n",
      " 2   age                1565 non-null   int64 \n",
      " 3   city               1565 non-null   object\n",
      " 4   subscription_type  1565 non-null   object\n",
      "dtypes: int64(2), object(3)\n",
      "memory usage: 61.3+ KB\n"
     ]
    }
   ],
   "source": [
    "users.info()"
   ]
  },
  {
   "cell_type": "markdown",
   "id": "382f3721",
   "metadata": {},
   "source": [
    "Датафрейм с информацией о пользователях содержит 1565 строк и 5 столбцов, содержащих уникальный номер пользователя, имя, возраст, город, тип подписки."
   ]
  },
  {
   "cell_type": "code",
   "execution_count": 7,
   "id": "dd638406",
   "metadata": {},
   "outputs": [
    {
     "data": {
      "text/html": [
       "<div>\n",
       "<style scoped>\n",
       "    .dataframe tbody tr th:only-of-type {\n",
       "        vertical-align: middle;\n",
       "    }\n",
       "\n",
       "    .dataframe tbody tr th {\n",
       "        vertical-align: top;\n",
       "    }\n",
       "\n",
       "    .dataframe thead th {\n",
       "        text-align: right;\n",
       "    }\n",
       "</style>\n",
       "<table border=\"1\" class=\"dataframe\">\n",
       "  <thead>\n",
       "    <tr style=\"text-align: right;\">\n",
       "      <th></th>\n",
       "      <th>user_id</th>\n",
       "      <th>distance</th>\n",
       "      <th>duration</th>\n",
       "      <th>date</th>\n",
       "    </tr>\n",
       "  </thead>\n",
       "  <tbody>\n",
       "    <tr>\n",
       "      <th>0</th>\n",
       "      <td>1</td>\n",
       "      <td>4409.919140</td>\n",
       "      <td>25.599769</td>\n",
       "      <td>2021-01-01</td>\n",
       "    </tr>\n",
       "    <tr>\n",
       "      <th>1</th>\n",
       "      <td>1</td>\n",
       "      <td>2617.592153</td>\n",
       "      <td>15.816871</td>\n",
       "      <td>2021-01-18</td>\n",
       "    </tr>\n",
       "    <tr>\n",
       "      <th>2</th>\n",
       "      <td>1</td>\n",
       "      <td>754.159807</td>\n",
       "      <td>6.232113</td>\n",
       "      <td>2021-04-20</td>\n",
       "    </tr>\n",
       "    <tr>\n",
       "      <th>3</th>\n",
       "      <td>1</td>\n",
       "      <td>2694.783254</td>\n",
       "      <td>18.511000</td>\n",
       "      <td>2021-08-11</td>\n",
       "    </tr>\n",
       "    <tr>\n",
       "      <th>4</th>\n",
       "      <td>1</td>\n",
       "      <td>4028.687306</td>\n",
       "      <td>26.265803</td>\n",
       "      <td>2021-08-28</td>\n",
       "    </tr>\n",
       "    <tr>\n",
       "      <th>5</th>\n",
       "      <td>1</td>\n",
       "      <td>2770.890808</td>\n",
       "      <td>16.650138</td>\n",
       "      <td>2021-10-09</td>\n",
       "    </tr>\n",
       "    <tr>\n",
       "      <th>6</th>\n",
       "      <td>1</td>\n",
       "      <td>3039.020292</td>\n",
       "      <td>14.927879</td>\n",
       "      <td>2021-10-19</td>\n",
       "    </tr>\n",
       "    <tr>\n",
       "      <th>7</th>\n",
       "      <td>1</td>\n",
       "      <td>2842.118050</td>\n",
       "      <td>23.117468</td>\n",
       "      <td>2021-11-06</td>\n",
       "    </tr>\n",
       "    <tr>\n",
       "      <th>8</th>\n",
       "      <td>1</td>\n",
       "      <td>3412.690668</td>\n",
       "      <td>15.238072</td>\n",
       "      <td>2021-11-14</td>\n",
       "    </tr>\n",
       "    <tr>\n",
       "      <th>9</th>\n",
       "      <td>1</td>\n",
       "      <td>748.690645</td>\n",
       "      <td>15.041884</td>\n",
       "      <td>2021-11-22</td>\n",
       "    </tr>\n",
       "  </tbody>\n",
       "</table>\n",
       "</div>"
      ],
      "text/plain": [
       "   user_id     distance   duration        date\n",
       "0        1  4409.919140  25.599769  2021-01-01\n",
       "1        1  2617.592153  15.816871  2021-01-18\n",
       "2        1   754.159807   6.232113  2021-04-20\n",
       "3        1  2694.783254  18.511000  2021-08-11\n",
       "4        1  4028.687306  26.265803  2021-08-28\n",
       "5        1  2770.890808  16.650138  2021-10-09\n",
       "6        1  3039.020292  14.927879  2021-10-19\n",
       "7        1  2842.118050  23.117468  2021-11-06\n",
       "8        1  3412.690668  15.238072  2021-11-14\n",
       "9        1   748.690645  15.041884  2021-11-22"
      ]
     },
     "execution_count": 7,
     "metadata": {},
     "output_type": "execute_result"
    }
   ],
   "source": [
    "rides.head(10)"
   ]
  },
  {
   "cell_type": "code",
   "execution_count": 8,
   "id": "7b07c14f",
   "metadata": {},
   "outputs": [
    {
     "name": "stdout",
     "output_type": "stream",
     "text": [
      "<class 'pandas.core.frame.DataFrame'>\n",
      "RangeIndex: 18068 entries, 0 to 18067\n",
      "Data columns (total 4 columns):\n",
      " #   Column    Non-Null Count  Dtype  \n",
      "---  ------    --------------  -----  \n",
      " 0   user_id   18068 non-null  int64  \n",
      " 1   distance  18068 non-null  float64\n",
      " 2   duration  18068 non-null  float64\n",
      " 3   date      18068 non-null  object \n",
      "dtypes: float64(2), int64(1), object(1)\n",
      "memory usage: 564.8+ KB\n"
     ]
    }
   ],
   "source": [
    "rides.info()"
   ]
  },
  {
   "cell_type": "markdown",
   "id": "f4d46d0a",
   "metadata": {},
   "source": [
    "Датафрейм с информацией о поездках содержит 18068 строк и 4 столбца, содержащих уникальный номер пользователя, расстояние поездки (в метрах), время, затраченное на поездку (в минутах), дату совершения поездки."
   ]
  },
  {
   "cell_type": "code",
   "execution_count": 9,
   "id": "89179c9c",
   "metadata": {},
   "outputs": [
    {
     "data": {
      "text/html": [
       "<div>\n",
       "<style scoped>\n",
       "    .dataframe tbody tr th:only-of-type {\n",
       "        vertical-align: middle;\n",
       "    }\n",
       "\n",
       "    .dataframe tbody tr th {\n",
       "        vertical-align: top;\n",
       "    }\n",
       "\n",
       "    .dataframe thead th {\n",
       "        text-align: right;\n",
       "    }\n",
       "</style>\n",
       "<table border=\"1\" class=\"dataframe\">\n",
       "  <thead>\n",
       "    <tr style=\"text-align: right;\">\n",
       "      <th></th>\n",
       "      <th>subscription_type</th>\n",
       "      <th>minute_price</th>\n",
       "      <th>start_ride_price</th>\n",
       "      <th>subscription_fee</th>\n",
       "    </tr>\n",
       "  </thead>\n",
       "  <tbody>\n",
       "    <tr>\n",
       "      <th>0</th>\n",
       "      <td>free</td>\n",
       "      <td>8</td>\n",
       "      <td>50</td>\n",
       "      <td>0</td>\n",
       "    </tr>\n",
       "    <tr>\n",
       "      <th>1</th>\n",
       "      <td>ultra</td>\n",
       "      <td>6</td>\n",
       "      <td>0</td>\n",
       "      <td>199</td>\n",
       "    </tr>\n",
       "  </tbody>\n",
       "</table>\n",
       "</div>"
      ],
      "text/plain": [
       "  subscription_type  minute_price  start_ride_price  subscription_fee\n",
       "0              free             8                50                 0\n",
       "1             ultra             6                 0               199"
      ]
     },
     "execution_count": 9,
     "metadata": {},
     "output_type": "execute_result"
    }
   ],
   "source": [
    "subscriptions.head()"
   ]
  },
  {
   "cell_type": "code",
   "execution_count": 10,
   "id": "60b95bed",
   "metadata": {},
   "outputs": [
    {
     "name": "stdout",
     "output_type": "stream",
     "text": [
      "<class 'pandas.core.frame.DataFrame'>\n",
      "RangeIndex: 2 entries, 0 to 1\n",
      "Data columns (total 4 columns):\n",
      " #   Column             Non-Null Count  Dtype \n",
      "---  ------             --------------  ----- \n",
      " 0   subscription_type  2 non-null      object\n",
      " 1   minute_price       2 non-null      int64 \n",
      " 2   start_ride_price   2 non-null      int64 \n",
      " 3   subscription_fee   2 non-null      int64 \n",
      "dtypes: int64(3), object(1)\n",
      "memory usage: 192.0+ bytes\n"
     ]
    }
   ],
   "source": [
    "subscriptions.info()"
   ]
  },
  {
   "cell_type": "markdown",
   "id": "2c267896",
   "metadata": {},
   "source": [
    "Датафрейм с информацией о типах подписки содержит 2 строки и 4 столбца, содержащих тип подписки, цену за минуту поездки, цену за старт поездки, стоимость подписки."
   ]
  },
  {
   "cell_type": "markdown",
   "id": "5fbc2f50",
   "metadata": {},
   "source": [
    "**Вывод:** были получены три датафрейма с данными о пользователях, поездках и типах подписки. На данном этапе аномалий не выявлено"
   ]
  },
  {
   "cell_type": "markdown",
   "id": "e95ebca7",
   "metadata": {},
   "source": [
    "### Предобработка данных"
   ]
  },
  {
   "cell_type": "markdown",
   "id": "900d0883",
   "metadata": {},
   "source": [
    "**2.1 Приведем столбец date к типу даты pandas**"
   ]
  },
  {
   "cell_type": "code",
   "execution_count": 11,
   "id": "5c45295b",
   "metadata": {},
   "outputs": [],
   "source": [
    "rides['date'] = pd.to_datetime(rides['date'], format='%Y-%m-%d')"
   ]
  },
  {
   "cell_type": "code",
   "execution_count": 12,
   "id": "c29ab6d9",
   "metadata": {},
   "outputs": [
    {
     "name": "stdout",
     "output_type": "stream",
     "text": [
      "<class 'pandas.core.frame.DataFrame'>\n",
      "RangeIndex: 18068 entries, 0 to 18067\n",
      "Data columns (total 4 columns):\n",
      " #   Column    Non-Null Count  Dtype         \n",
      "---  ------    --------------  -----         \n",
      " 0   user_id   18068 non-null  int64         \n",
      " 1   distance  18068 non-null  float64       \n",
      " 2   duration  18068 non-null  float64       \n",
      " 3   date      18068 non-null  datetime64[ns]\n",
      "dtypes: datetime64[ns](1), float64(2), int64(1)\n",
      "memory usage: 564.8 KB\n"
     ]
    }
   ],
   "source": [
    "rides.info() #проверим, применились ли изменения"
   ]
  },
  {
   "cell_type": "markdown",
   "id": "eec31a5c",
   "metadata": {},
   "source": [
    "**2.2 Создадим новый столбец с номером месяца на основе столбца date**"
   ]
  },
  {
   "cell_type": "code",
   "execution_count": 13,
   "id": "6ed64c99",
   "metadata": {},
   "outputs": [],
   "source": [
    "rides['month'] = rides['date'].dt.to_period('M') #проверим за какой период у нас данные, приведем столбец с месяцами к значению 'год-месяц'"
   ]
  },
  {
   "cell_type": "code",
   "execution_count": 14,
   "id": "f991bf9c",
   "metadata": {},
   "outputs": [
    {
     "data": {
      "text/plain": [
       "<PeriodArray>\n",
       "['2021-01', '2021-04', '2021-08', '2021-10', '2021-11', '2021-12', '2021-03',\n",
       " '2021-06', '2021-07', '2021-02', '2021-05', '2021-09']\n",
       "Length: 12, dtype: period[M]"
      ]
     },
     "execution_count": 14,
     "metadata": {},
     "output_type": "execute_result"
    }
   ],
   "source": [
    "rides['month'].unique() #рассмотрим количество уникальных значений"
   ]
  },
  {
   "cell_type": "markdown",
   "id": "cb14d1d7",
   "metadata": {},
   "source": [
    "Уникальных значений 12: на каждый месяц 2021 года, значит можно привести этот столбец к значению \"номер месяца\""
   ]
  },
  {
   "cell_type": "code",
   "execution_count": 15,
   "id": "c5d1bd3f",
   "metadata": {},
   "outputs": [],
   "source": [
    "rides['month'] = rides['date'].dt.month"
   ]
  },
  {
   "cell_type": "code",
   "execution_count": 16,
   "id": "ad143ed3",
   "metadata": {},
   "outputs": [
    {
     "data": {
      "text/html": [
       "<div>\n",
       "<style scoped>\n",
       "    .dataframe tbody tr th:only-of-type {\n",
       "        vertical-align: middle;\n",
       "    }\n",
       "\n",
       "    .dataframe tbody tr th {\n",
       "        vertical-align: top;\n",
       "    }\n",
       "\n",
       "    .dataframe thead th {\n",
       "        text-align: right;\n",
       "    }\n",
       "</style>\n",
       "<table border=\"1\" class=\"dataframe\">\n",
       "  <thead>\n",
       "    <tr style=\"text-align: right;\">\n",
       "      <th></th>\n",
       "      <th>user_id</th>\n",
       "      <th>distance</th>\n",
       "      <th>duration</th>\n",
       "      <th>date</th>\n",
       "      <th>month</th>\n",
       "    </tr>\n",
       "  </thead>\n",
       "  <tbody>\n",
       "    <tr>\n",
       "      <th>0</th>\n",
       "      <td>1</td>\n",
       "      <td>4409.919140</td>\n",
       "      <td>25.599769</td>\n",
       "      <td>2021-01-01</td>\n",
       "      <td>1</td>\n",
       "    </tr>\n",
       "    <tr>\n",
       "      <th>1</th>\n",
       "      <td>1</td>\n",
       "      <td>2617.592153</td>\n",
       "      <td>15.816871</td>\n",
       "      <td>2021-01-18</td>\n",
       "      <td>1</td>\n",
       "    </tr>\n",
       "    <tr>\n",
       "      <th>2</th>\n",
       "      <td>1</td>\n",
       "      <td>754.159807</td>\n",
       "      <td>6.232113</td>\n",
       "      <td>2021-04-20</td>\n",
       "      <td>4</td>\n",
       "    </tr>\n",
       "    <tr>\n",
       "      <th>3</th>\n",
       "      <td>1</td>\n",
       "      <td>2694.783254</td>\n",
       "      <td>18.511000</td>\n",
       "      <td>2021-08-11</td>\n",
       "      <td>8</td>\n",
       "    </tr>\n",
       "    <tr>\n",
       "      <th>4</th>\n",
       "      <td>1</td>\n",
       "      <td>4028.687306</td>\n",
       "      <td>26.265803</td>\n",
       "      <td>2021-08-28</td>\n",
       "      <td>8</td>\n",
       "    </tr>\n",
       "  </tbody>\n",
       "</table>\n",
       "</div>"
      ],
      "text/plain": [
       "   user_id     distance   duration       date  month\n",
       "0        1  4409.919140  25.599769 2021-01-01      1\n",
       "1        1  2617.592153  15.816871 2021-01-18      1\n",
       "2        1   754.159807   6.232113 2021-04-20      4\n",
       "3        1  2694.783254  18.511000 2021-08-11      8\n",
       "4        1  4028.687306  26.265803 2021-08-28      8"
      ]
     },
     "execution_count": 16,
     "metadata": {},
     "output_type": "execute_result"
    }
   ],
   "source": [
    "rides.head() #проверим, появился ли столбец в датафрейме"
   ]
  },
  {
   "cell_type": "markdown",
   "id": "25b193e4",
   "metadata": {},
   "source": [
    "**2.3 Проверим наличие пропущенных значений в датафреймах. Обработаем их, если такие значения присутствуют**"
   ]
  },
  {
   "cell_type": "markdown",
   "id": "ef44409b",
   "metadata": {},
   "source": [
    "Выведем количество пропущенных значений для каждого столбца каждого датафрейма"
   ]
  },
  {
   "cell_type": "code",
   "execution_count": 17,
   "id": "a2662e04",
   "metadata": {},
   "outputs": [
    {
     "data": {
      "text/plain": [
       "user_id              0\n",
       "name                 0\n",
       "age                  0\n",
       "city                 0\n",
       "subscription_type    0\n",
       "dtype: int64"
      ]
     },
     "execution_count": 17,
     "metadata": {},
     "output_type": "execute_result"
    }
   ],
   "source": [
    "users.isna().sum()"
   ]
  },
  {
   "cell_type": "code",
   "execution_count": 18,
   "id": "70bba51a",
   "metadata": {},
   "outputs": [
    {
     "data": {
      "text/plain": [
       "user_id     0\n",
       "distance    0\n",
       "duration    0\n",
       "date        0\n",
       "month       0\n",
       "dtype: int64"
      ]
     },
     "execution_count": 18,
     "metadata": {},
     "output_type": "execute_result"
    }
   ],
   "source": [
    "rides.isna().sum()"
   ]
  },
  {
   "cell_type": "code",
   "execution_count": 19,
   "id": "8072e8ee",
   "metadata": {},
   "outputs": [
    {
     "data": {
      "text/plain": [
       "subscription_type    0\n",
       "minute_price         0\n",
       "start_ride_price     0\n",
       "subscription_fee     0\n",
       "dtype: int64"
      ]
     },
     "execution_count": 19,
     "metadata": {},
     "output_type": "execute_result"
    }
   ],
   "source": [
    "subscriptions.isna().sum()"
   ]
  },
  {
   "cell_type": "markdown",
   "id": "f6c405d6",
   "metadata": {},
   "source": [
    "Пропусков не выявлено"
   ]
  },
  {
   "cell_type": "markdown",
   "id": "a8e69f4e",
   "metadata": {},
   "source": [
    "**2.4 Проверим наличие дубликатов в датафреймах. Обработаем их, если такие значения присутствуют**"
   ]
  },
  {
   "cell_type": "markdown",
   "id": "e51e9f33",
   "metadata": {},
   "source": [
    "Проверим, есть ли в датафреймах явные дубликаты"
   ]
  },
  {
   "cell_type": "code",
   "execution_count": 20,
   "id": "793ec032",
   "metadata": {},
   "outputs": [
    {
     "data": {
      "text/plain": [
       "31"
      ]
     },
     "execution_count": 20,
     "metadata": {},
     "output_type": "execute_result"
    }
   ],
   "source": [
    "users.duplicated().sum()"
   ]
  },
  {
   "cell_type": "markdown",
   "id": "15463290",
   "metadata": {},
   "source": [
    "В датафрейме с информацией о пользователях 31 явный дубликат. Выведем таблицу дубликатов и проверим, совпадают ли индексы с user_id, чтобы убедиться, что это действительно дубликаты, а не совпадающая информация по разным пользователям"
   ]
  },
  {
   "cell_type": "code",
   "execution_count": 21,
   "id": "d2a32d28",
   "metadata": {},
   "outputs": [
    {
     "data": {
      "text/html": [
       "<div>\n",
       "<style scoped>\n",
       "    .dataframe tbody tr th:only-of-type {\n",
       "        vertical-align: middle;\n",
       "    }\n",
       "\n",
       "    .dataframe tbody tr th {\n",
       "        vertical-align: top;\n",
       "    }\n",
       "\n",
       "    .dataframe thead th {\n",
       "        text-align: right;\n",
       "    }\n",
       "</style>\n",
       "<table border=\"1\" class=\"dataframe\">\n",
       "  <thead>\n",
       "    <tr style=\"text-align: right;\">\n",
       "      <th></th>\n",
       "      <th>user_id</th>\n",
       "      <th>name</th>\n",
       "      <th>age</th>\n",
       "      <th>city</th>\n",
       "      <th>subscription_type</th>\n",
       "    </tr>\n",
       "  </thead>\n",
       "  <tbody>\n",
       "    <tr>\n",
       "      <th>1534</th>\n",
       "      <td>293</td>\n",
       "      <td>Агата</td>\n",
       "      <td>26</td>\n",
       "      <td>Краснодар</td>\n",
       "      <td>ultra</td>\n",
       "    </tr>\n",
       "    <tr>\n",
       "      <th>1535</th>\n",
       "      <td>16</td>\n",
       "      <td>Амалия</td>\n",
       "      <td>27</td>\n",
       "      <td>Краснодар</td>\n",
       "      <td>ultra</td>\n",
       "    </tr>\n",
       "    <tr>\n",
       "      <th>1536</th>\n",
       "      <td>909</td>\n",
       "      <td>Константин</td>\n",
       "      <td>20</td>\n",
       "      <td>Екатеринбург</td>\n",
       "      <td>free</td>\n",
       "    </tr>\n",
       "    <tr>\n",
       "      <th>1537</th>\n",
       "      <td>403</td>\n",
       "      <td>Полина</td>\n",
       "      <td>19</td>\n",
       "      <td>Сочи</td>\n",
       "      <td>ultra</td>\n",
       "    </tr>\n",
       "    <tr>\n",
       "      <th>1538</th>\n",
       "      <td>908</td>\n",
       "      <td>Рустам</td>\n",
       "      <td>30</td>\n",
       "      <td>Тюмень</td>\n",
       "      <td>free</td>\n",
       "    </tr>\n",
       "    <tr>\n",
       "      <th>1539</th>\n",
       "      <td>43</td>\n",
       "      <td>Стефания</td>\n",
       "      <td>22</td>\n",
       "      <td>Омск</td>\n",
       "      <td>ultra</td>\n",
       "    </tr>\n",
       "    <tr>\n",
       "      <th>1540</th>\n",
       "      <td>127</td>\n",
       "      <td>Павел</td>\n",
       "      <td>25</td>\n",
       "      <td>Пятигорск</td>\n",
       "      <td>ultra</td>\n",
       "    </tr>\n",
       "    <tr>\n",
       "      <th>1541</th>\n",
       "      <td>659</td>\n",
       "      <td>Злата</td>\n",
       "      <td>27</td>\n",
       "      <td>Ростов-на-Дону</td>\n",
       "      <td>ultra</td>\n",
       "    </tr>\n",
       "    <tr>\n",
       "      <th>1542</th>\n",
       "      <td>204</td>\n",
       "      <td>Руслан</td>\n",
       "      <td>30</td>\n",
       "      <td>Пятигорск</td>\n",
       "      <td>ultra</td>\n",
       "    </tr>\n",
       "    <tr>\n",
       "      <th>1543</th>\n",
       "      <td>153</td>\n",
       "      <td>Герман</td>\n",
       "      <td>23</td>\n",
       "      <td>Москва</td>\n",
       "      <td>ultra</td>\n",
       "    </tr>\n",
       "    <tr>\n",
       "      <th>1544</th>\n",
       "      <td>1245</td>\n",
       "      <td>Регина</td>\n",
       "      <td>27</td>\n",
       "      <td>Пятигорск</td>\n",
       "      <td>free</td>\n",
       "    </tr>\n",
       "    <tr>\n",
       "      <th>1545</th>\n",
       "      <td>807</td>\n",
       "      <td>Александр</td>\n",
       "      <td>28</td>\n",
       "      <td>Екатеринбург</td>\n",
       "      <td>free</td>\n",
       "    </tr>\n",
       "    <tr>\n",
       "      <th>1546</th>\n",
       "      <td>924</td>\n",
       "      <td>Мария</td>\n",
       "      <td>23</td>\n",
       "      <td>Пятигорск</td>\n",
       "      <td>free</td>\n",
       "    </tr>\n",
       "    <tr>\n",
       "      <th>1547</th>\n",
       "      <td>635</td>\n",
       "      <td>Герман</td>\n",
       "      <td>21</td>\n",
       "      <td>Москва</td>\n",
       "      <td>ultra</td>\n",
       "    </tr>\n",
       "    <tr>\n",
       "      <th>1548</th>\n",
       "      <td>136</td>\n",
       "      <td>Марсель</td>\n",
       "      <td>25</td>\n",
       "      <td>Тюмень</td>\n",
       "      <td>ultra</td>\n",
       "    </tr>\n",
       "    <tr>\n",
       "      <th>1549</th>\n",
       "      <td>108</td>\n",
       "      <td>Влада</td>\n",
       "      <td>29</td>\n",
       "      <td>Тюмень</td>\n",
       "      <td>ultra</td>\n",
       "    </tr>\n",
       "    <tr>\n",
       "      <th>1550</th>\n",
       "      <td>737</td>\n",
       "      <td>Мелания</td>\n",
       "      <td>27</td>\n",
       "      <td>Ростов-на-Дону</td>\n",
       "      <td>free</td>\n",
       "    </tr>\n",
       "    <tr>\n",
       "      <th>1551</th>\n",
       "      <td>666</td>\n",
       "      <td>Зарина</td>\n",
       "      <td>29</td>\n",
       "      <td>Москва</td>\n",
       "      <td>ultra</td>\n",
       "    </tr>\n",
       "    <tr>\n",
       "      <th>1552</th>\n",
       "      <td>297</td>\n",
       "      <td>Егор</td>\n",
       "      <td>33</td>\n",
       "      <td>Пятигорск</td>\n",
       "      <td>ultra</td>\n",
       "    </tr>\n",
       "    <tr>\n",
       "      <th>1553</th>\n",
       "      <td>121</td>\n",
       "      <td>Алина</td>\n",
       "      <td>25</td>\n",
       "      <td>Пятигорск</td>\n",
       "      <td>ultra</td>\n",
       "    </tr>\n",
       "    <tr>\n",
       "      <th>1554</th>\n",
       "      <td>1198</td>\n",
       "      <td>Демид</td>\n",
       "      <td>29</td>\n",
       "      <td>Ростов-на-Дону</td>\n",
       "      <td>free</td>\n",
       "    </tr>\n",
       "    <tr>\n",
       "      <th>1555</th>\n",
       "      <td>72</td>\n",
       "      <td>Никита</td>\n",
       "      <td>25</td>\n",
       "      <td>Москва</td>\n",
       "      <td>ultra</td>\n",
       "    </tr>\n",
       "    <tr>\n",
       "      <th>1556</th>\n",
       "      <td>422</td>\n",
       "      <td>Кирилл</td>\n",
       "      <td>27</td>\n",
       "      <td>Сочи</td>\n",
       "      <td>ultra</td>\n",
       "    </tr>\n",
       "    <tr>\n",
       "      <th>1557</th>\n",
       "      <td>611</td>\n",
       "      <td>Владимир</td>\n",
       "      <td>28</td>\n",
       "      <td>Омск</td>\n",
       "      <td>ultra</td>\n",
       "    </tr>\n",
       "    <tr>\n",
       "      <th>1558</th>\n",
       "      <td>1237</td>\n",
       "      <td>Евгения</td>\n",
       "      <td>23</td>\n",
       "      <td>Тюмень</td>\n",
       "      <td>free</td>\n",
       "    </tr>\n",
       "    <tr>\n",
       "      <th>1559</th>\n",
       "      <td>209</td>\n",
       "      <td>Андрей</td>\n",
       "      <td>23</td>\n",
       "      <td>Омск</td>\n",
       "      <td>ultra</td>\n",
       "    </tr>\n",
       "    <tr>\n",
       "      <th>1560</th>\n",
       "      <td>829</td>\n",
       "      <td>Федор</td>\n",
       "      <td>29</td>\n",
       "      <td>Пятигорск</td>\n",
       "      <td>free</td>\n",
       "    </tr>\n",
       "    <tr>\n",
       "      <th>1561</th>\n",
       "      <td>809</td>\n",
       "      <td>Юрий</td>\n",
       "      <td>26</td>\n",
       "      <td>Сочи</td>\n",
       "      <td>free</td>\n",
       "    </tr>\n",
       "    <tr>\n",
       "      <th>1562</th>\n",
       "      <td>307</td>\n",
       "      <td>Ясмина</td>\n",
       "      <td>19</td>\n",
       "      <td>Краснодар</td>\n",
       "      <td>ultra</td>\n",
       "    </tr>\n",
       "    <tr>\n",
       "      <th>1563</th>\n",
       "      <td>47</td>\n",
       "      <td>Юрий</td>\n",
       "      <td>28</td>\n",
       "      <td>Тюмень</td>\n",
       "      <td>ultra</td>\n",
       "    </tr>\n",
       "    <tr>\n",
       "      <th>1564</th>\n",
       "      <td>1045</td>\n",
       "      <td>Артемий</td>\n",
       "      <td>28</td>\n",
       "      <td>Ростов-на-Дону</td>\n",
       "      <td>free</td>\n",
       "    </tr>\n",
       "  </tbody>\n",
       "</table>\n",
       "</div>"
      ],
      "text/plain": [
       "      user_id        name  age            city subscription_type\n",
       "1534      293       Агата   26       Краснодар             ultra\n",
       "1535       16      Амалия   27       Краснодар             ultra\n",
       "1536      909  Константин   20    Екатеринбург              free\n",
       "1537      403      Полина   19            Сочи             ultra\n",
       "1538      908      Рустам   30          Тюмень              free\n",
       "1539       43    Стефания   22            Омск             ultra\n",
       "1540      127       Павел   25       Пятигорск             ultra\n",
       "1541      659       Злата   27  Ростов-на-Дону             ultra\n",
       "1542      204      Руслан   30       Пятигорск             ultra\n",
       "1543      153      Герман   23          Москва             ultra\n",
       "1544     1245      Регина   27       Пятигорск              free\n",
       "1545      807   Александр   28    Екатеринбург              free\n",
       "1546      924       Мария   23       Пятигорск              free\n",
       "1547      635      Герман   21          Москва             ultra\n",
       "1548      136     Марсель   25          Тюмень             ultra\n",
       "1549      108       Влада   29          Тюмень             ultra\n",
       "1550      737     Мелания   27  Ростов-на-Дону              free\n",
       "1551      666      Зарина   29          Москва             ultra\n",
       "1552      297        Егор   33       Пятигорск             ultra\n",
       "1553      121       Алина   25       Пятигорск             ultra\n",
       "1554     1198       Демид   29  Ростов-на-Дону              free\n",
       "1555       72      Никита   25          Москва             ultra\n",
       "1556      422      Кирилл   27            Сочи             ultra\n",
       "1557      611    Владимир   28            Омск             ultra\n",
       "1558     1237     Евгения   23          Тюмень              free\n",
       "1559      209      Андрей   23            Омск             ultra\n",
       "1560      829       Федор   29       Пятигорск              free\n",
       "1561      809        Юрий   26            Сочи              free\n",
       "1562      307      Ясмина   19       Краснодар             ultra\n",
       "1563       47        Юрий   28          Тюмень             ultra\n",
       "1564     1045     Артемий   28  Ростов-на-Дону              free"
      ]
     },
     "execution_count": 21,
     "metadata": {},
     "output_type": "execute_result"
    }
   ],
   "source": [
    "duplicated_users = users[users.duplicated()]\n",
    "duplicated_users"
   ]
  },
  {
   "cell_type": "markdown",
   "id": "22c46758",
   "metadata": {},
   "source": [
    "Индексация и user_id не совпадают. Возможно, на появление дубликатов повлиял технический фактор, и они возникли на этапе загрузки или выгрузки данных, или из-за неправильного запроса или объединения таблиц. Удалим дубликаты"
   ]
  },
  {
   "cell_type": "code",
   "execution_count": 22,
   "id": "21c430c8",
   "metadata": {},
   "outputs": [],
   "source": [
    "users = users.drop_duplicates().reset_index(drop=True) "
   ]
  },
  {
   "cell_type": "code",
   "execution_count": 23,
   "id": "e1c991eb",
   "metadata": {},
   "outputs": [
    {
     "name": "stdout",
     "output_type": "stream",
     "text": [
      "<class 'pandas.core.frame.DataFrame'>\n",
      "RangeIndex: 1534 entries, 0 to 1533\n",
      "Data columns (total 5 columns):\n",
      " #   Column             Non-Null Count  Dtype \n",
      "---  ------             --------------  ----- \n",
      " 0   user_id            1534 non-null   int64 \n",
      " 1   name               1534 non-null   object\n",
      " 2   age                1534 non-null   int64 \n",
      " 3   city               1534 non-null   object\n",
      " 4   subscription_type  1534 non-null   object\n",
      "dtypes: int64(2), object(3)\n",
      "memory usage: 60.0+ KB\n"
     ]
    }
   ],
   "source": [
    "users.info() #выведем информацию по датафрейму"
   ]
  },
  {
   "cell_type": "code",
   "execution_count": 24,
   "id": "08f94061",
   "metadata": {},
   "outputs": [
    {
     "data": {
      "text/plain": [
       "0"
      ]
     },
     "execution_count": 24,
     "metadata": {},
     "output_type": "execute_result"
    }
   ],
   "source": [
    "users.duplicated().sum()"
   ]
  },
  {
   "cell_type": "code",
   "execution_count": 25,
   "id": "bfaddf40",
   "metadata": {},
   "outputs": [
    {
     "data": {
      "text/plain": [
       "0"
      ]
     },
     "execution_count": 25,
     "metadata": {},
     "output_type": "execute_result"
    }
   ],
   "source": [
    "rides.duplicated().sum()"
   ]
  },
  {
   "cell_type": "code",
   "execution_count": 26,
   "id": "87b51d15",
   "metadata": {},
   "outputs": [
    {
     "data": {
      "text/plain": [
       "0"
      ]
     },
     "execution_count": 26,
     "metadata": {},
     "output_type": "execute_result"
    }
   ],
   "source": [
    "subscriptions.duplicated().sum()"
   ]
  },
  {
   "cell_type": "markdown",
   "id": "8423415a",
   "metadata": {},
   "source": [
    "Больше явных дубликатов не наблюдается"
   ]
  },
  {
   "cell_type": "markdown",
   "id": "e45aae4c",
   "metadata": {},
   "source": [
    "Проводить проверку на неявные дубликаты нецелесообразно, т.к. в столбцах с именами пользователей, возрастом и городами так или иначе могут появляться повторы, не являющиеся дубликатами"
   ]
  },
  {
   "cell_type": "markdown",
   "id": "6d03acd5",
   "metadata": {},
   "source": [
    "**Вывод:** На этапе предобработки данных были найдены, изучены и, по возможности, устранены пропуски, дубликаты, преобразованы типы данных. Данные готовы для дальнейшего изучения."
   ]
  },
  {
   "cell_type": "markdown",
   "id": "212593c7",
   "metadata": {},
   "source": [
    "### Исследовательский анализ данных"
   ]
  },
  {
   "cell_type": "markdown",
   "id": "88ba8477",
   "metadata": {},
   "source": [
    "**Опишем и визуализируем общую информацию о пользователях и поездках**"
   ]
  },
  {
   "cell_type": "markdown",
   "id": "695f96e4",
   "metadata": {},
   "source": [
    "**3.1 Частота встречаемости городов**"
   ]
  },
  {
   "cell_type": "code",
   "execution_count": 27,
   "id": "b119a2d4",
   "metadata": {},
   "outputs": [
    {
     "data": {
      "text/plain": [
       "Пятигорск         219\n",
       "Екатеринбург      204\n",
       "Ростов-на-Дону    198\n",
       "Краснодар         193\n",
       "Сочи              189\n",
       "Омск              183\n",
       "Тюмень            180\n",
       "Москва            168\n",
       "Name: city, dtype: int64"
      ]
     },
     "execution_count": 27,
     "metadata": {},
     "output_type": "execute_result"
    }
   ],
   "source": [
    "users['city'].value_counts()"
   ]
  },
  {
   "cell_type": "markdown",
   "id": "33ab9a0f",
   "metadata": {},
   "source": [
    "В представленных датафреймах можем наблюдать данные о пользователях из 8 городов. Максимальное количество пользователей (219) из Пятигорска, второй по численности (204) - Екатеринбург. Минимальное количество пользователей (168) из Москвы.  \n",
    "Рассмотрим данные в виде гистограммы"
   ]
  },
  {
   "cell_type": "code",
   "execution_count": 28,
   "id": "c6968479",
   "metadata": {},
   "outputs": [
    {
     "data": {
      "image/png": "[encoded data removed]",
      "text/plain": [
       "<Figure size 432x288 with 1 Axes>"
      ]
     },
     "metadata": {
      "needs_background": "light"
     },
     "output_type": "display_data"
    }
   ],
   "source": [
    "users['city'].value_counts().plot(kind='bar', grid=True) #выведем гистограмму\n",
    "plt.title('Частота встречаемости городов')\n",
    "plt.ylabel('Количество значений')\n",
    "plt.show()"
   ]
  },
  {
   "cell_type": "markdown",
   "id": "0247b8e6",
   "metadata": {},
   "source": [
    "**3.2 Соотношение пользователей с подпиской и без подписки**"
   ]
  },
  {
   "cell_type": "code",
   "execution_count": 29,
   "id": "0c4af926",
   "metadata": {},
   "outputs": [
    {
     "data": {
      "text/plain": [
       "free     835\n",
       "ultra    699\n",
       "Name: subscription_type, dtype: int64"
      ]
     },
     "execution_count": 29,
     "metadata": {},
     "output_type": "execute_result"
    }
   ],
   "source": [
    "users['subscription_type'].value_counts() #посчитаем уникальные значения"
   ]
  },
  {
   "cell_type": "markdown",
   "id": "22c29578",
   "metadata": {},
   "source": [
    "Большая часть пользователей без подписки, их 835, пользователей с подпиской меньше - 699"
   ]
  },
  {
   "cell_type": "code",
   "execution_count": 30,
   "id": "dec860af",
   "metadata": {},
   "outputs": [
    {
     "data": {
      "image/png": "[encoded data removed]",
      "text/plain": [
       "<Figure size 576x576 with 1 Axes>"
      ]
     },
     "metadata": {},
     "output_type": "display_data"
    }
   ],
   "source": [
    "#выведем круговую диаграмму с процентным соотношением\n",
    "users['subscription_type'].value_counts().plot(kind='pie', autopct='%1.0f%%', figsize= (8,8),\n",
    " colors = ['steelblue', 'skyblue'],\n",
    " title ='Соотношение пользователей с подпиской и без')  \n",
    "plt.show()"
   ]
  },
  {
   "cell_type": "markdown",
   "id": "a4e603ee",
   "metadata": {},
   "source": [
    "Пользователей без подписки 54%, пользователей с подпиской 46%."
   ]
  },
  {
   "cell_type": "markdown",
   "id": "f05c0222",
   "metadata": {},
   "source": [
    "**3.3 Возраст пользователей**"
   ]
  },
  {
   "cell_type": "code",
   "execution_count": 31,
   "id": "1be65f5f",
   "metadata": {},
   "outputs": [
    {
     "data": {
      "text/plain": [
       "count    1534.000000\n",
       "mean       24.903520\n",
       "std         4.572367\n",
       "min        12.000000\n",
       "25%        22.000000\n",
       "50%        25.000000\n",
       "75%        28.000000\n",
       "max        43.000000\n",
       "Name: age, dtype: float64"
      ]
     },
     "execution_count": 31,
     "metadata": {},
     "output_type": "execute_result"
    }
   ],
   "source": [
    "users['age'].describe()"
   ]
  },
  {
   "cell_type": "markdown",
   "id": "4b5be850",
   "metadata": {},
   "source": [
    "Минимальный возраст пользователя 12 лет, максимальный - 43 года. По медиане (25) и среднему (24,9) видим, что возраст большей части пользователей - около 25 лет"
   ]
  },
  {
   "cell_type": "code",
   "execution_count": 32,
   "id": "263b6ea8",
   "metadata": {},
   "outputs": [
    {
     "data": {
      "image/png": "[encoded data removed]",
      "text/plain": [
       "<Figure size 432x288 with 1 Axes>"
      ]
     },
     "metadata": {
      "needs_background": "light"
     },
     "output_type": "display_data"
    }
   ],
   "source": [
    "users.boxplot('age') #выведем диаграмму размаха\n",
    "plt.show()"
   ]
  },
  {
   "cell_type": "markdown",
   "id": "d684d64a",
   "metadata": {},
   "source": [
    "На диаграмме размаха видны незначительные выбросы, они не аномальны, поэтому их можно не удалять"
   ]
  },
  {
   "cell_type": "code",
   "execution_count": 33,
   "id": "1ad94996",
   "metadata": {},
   "outputs": [
    {
     "data": {
      "image/png": "[encoded data removed]",
      "text/plain": [
       "<Figure size 432x288 with 1 Axes>"
      ]
     },
     "metadata": {
      "needs_background": "light"
     },
     "output_type": "display_data"
    }
   ],
   "source": [
    "users.hist('age', bins=15) #выведем гистограмму\n",
    "plt.title('Возраст пользователей')\n",
    "plt.ylabel('Количество значений')\n",
    "plt.xlabel('Возраст (лет)')\n",
    "plt.show()"
   ]
  },
  {
   "cell_type": "markdown",
   "id": "242a4396",
   "metadata": {},
   "source": [
    "Возраст пользователей на гистограмме распределен нормально, здесь также видно, что большинству пользователей около 25 лет, вторая по численности группа - 23-24 года. Меньше всего пользователей возраста около 40 и выше лет"
   ]
  },
  {
   "cell_type": "markdown",
   "id": "bf6077a7",
   "metadata": {},
   "source": [
    "**3.4 Расстояние, которое пользователь преодолел за одну поездку**"
   ]
  },
  {
   "cell_type": "code",
   "execution_count": 34,
   "id": "05ab82c6",
   "metadata": {},
   "outputs": [
    {
     "data": {
      "text/plain": [
       "count    18068.000000\n",
       "mean      3070.659976\n",
       "std       1116.831209\n",
       "min          0.855683\n",
       "25%       2543.226360\n",
       "50%       3133.609994\n",
       "75%       3776.222735\n",
       "max       7211.007745\n",
       "Name: distance, dtype: float64"
      ]
     },
     "execution_count": 34,
     "metadata": {},
     "output_type": "execute_result"
    }
   ],
   "source": [
    "rides['distance'].describe()"
   ]
  },
  {
   "cell_type": "markdown",
   "id": "e04e0587",
   "metadata": {},
   "source": [
    "Мы наблюдаем среднее (3070 м) и медиану (3133 м) на схожих значениях, значит большинство пользователей совершает поезки в пределах 3000 м. Максимальное значение (7211 м) тоже не выглядит странным, такое расстояние при желании можно проделать и пешком. Выбивается минимальное значение в 0.85 м. Возможно, оно появилось из-за того, что пользователь начал поезку, но передумал или самокат был неисправен"
   ]
  },
  {
   "cell_type": "code",
   "execution_count": 35,
   "id": "92c54602",
   "metadata": {},
   "outputs": [
    {
     "data": {
      "image/png": "[encoded data removed]",
      "text/plain": [
       "<Figure size 432x288 with 1 Axes>"
      ]
     },
     "metadata": {
      "needs_background": "light"
     },
     "output_type": "display_data"
    }
   ],
   "source": [
    "rides.boxplot('distance') #выведем диаграмму размаха\n",
    "plt.show()"
   ]
  },
  {
   "cell_type": "markdown",
   "id": "7f7e8a45",
   "metadata": {},
   "source": [
    "На диаграмме размаха также заметна медиана чуть больше значения 3000 м, и выбросы. Для более точного анализа устранять выбросы не будем"
   ]
  },
  {
   "cell_type": "code",
   "execution_count": 36,
   "id": "d2e82bf9",
   "metadata": {},
   "outputs": [
    {
     "data": {
      "image/png": "[encoded data removed]",
      "text/plain": [
       "<Figure size 432x288 with 1 Axes>"
      ]
     },
     "metadata": {
      "needs_background": "light"
     },
     "output_type": "display_data"
    }
   ],
   "source": [
    "rides.hist('distance') #выведем гистограмму\n",
    "plt.title('Расстояние, которое пользователь преодолел за одну поездку')\n",
    "plt.ylabel('Количество значений')\n",
    "plt.xlabel('Расстояние (м)')\n",
    "plt.show()"
   ]
  },
  {
   "cell_type": "code",
   "execution_count": 37,
   "id": "36379e8d",
   "metadata": {},
   "outputs": [
    {
     "data": {
      "image/png": "[encoded data removed]",
      "text/plain": [
       "<Figure size 432x288 with 1 Axes>"
      ]
     },
     "metadata": {
      "needs_background": "light"
     },
     "output_type": "display_data"
    }
   ],
   "source": [
    "rides.hist('distance', bins=30) #выведем гистограмму\n",
    "plt.title('Расстояние, которое пользователь преодолел за одну поездку')\n",
    "plt.ylabel('Количество значений')\n",
    "plt.xlabel('Расстояние (м)')\n",
    "plt.show()"
   ]
  },
  {
   "cell_type": "markdown",
   "id": "0773c808",
   "metadata": {},
   "source": [
    "По гистограмме видно, что данные распределены нормально в двух областях - от 0 до 1500 м и от 1500 до 7000 м. В первом случае большая часть значений приходится на область около 500 м, во втором - на область чуть больше 3000 м"
   ]
  },
  {
   "cell_type": "markdown",
   "id": "256a8be5",
   "metadata": {},
   "source": [
    "**3.5 Продолжительность поездок**"
   ]
  },
  {
   "cell_type": "code",
   "execution_count": 38,
   "id": "a1f0a0c1",
   "metadata": {},
   "outputs": [
    {
     "data": {
      "text/plain": [
       "count    18068.000000\n",
       "mean        17.805011\n",
       "std          6.091051\n",
       "min          0.500000\n",
       "25%         13.597563\n",
       "50%         17.678395\n",
       "75%         21.724800\n",
       "max         40.823963\n",
       "Name: duration, dtype: float64"
      ]
     },
     "execution_count": 38,
     "metadata": {},
     "output_type": "execute_result"
    }
   ],
   "source": [
    "rides['duration'].describe()"
   ]
  },
  {
   "cell_type": "markdown",
   "id": "fb8bcf64",
   "metadata": {},
   "source": [
    "В среднем пользователи тратят на поездку 17-18 минут (среднее 17.8, медиана 17,6). Минимальное значение - 0.5 минуты, т.е. 30 секунд, что вполне коррелирует с данными о растоянии в 0.8 м. Максимальное значение 40 минут, что также связано с поездками длиннее 7000 м"
   ]
  },
  {
   "cell_type": "code",
   "execution_count": 39,
   "id": "f2c04350",
   "metadata": {},
   "outputs": [
    {
     "data": {
      "image/png": "[encoded data removed]",
      "text/plain": [
       "<Figure size 432x288 with 1 Axes>"
      ]
     },
     "metadata": {
      "needs_background": "light"
     },
     "output_type": "display_data"
    }
   ],
   "source": [
    "rides.boxplot('duration') #выведем диаграмму размаха\n",
    "plt.show()"
   ]
  },
  {
   "cell_type": "markdown",
   "id": "ffa0cbd8",
   "metadata": {},
   "source": [
    "На диаграмме размаха мы наблюдаем медиану в значении около 17-18 минут, большая часть значений лежит в области от 13 до 22 минут, есть выбросы, близкий к нулевому значению, скорее всего, связан с быстрым окончанием поездки, как мы предположили ранее"
   ]
  },
  {
   "cell_type": "code",
   "execution_count": 40,
   "id": "4b6a61c8",
   "metadata": {},
   "outputs": [
    {
     "data": {
      "image/png": "[encoded data removed]",
      "text/plain": [
       "<Figure size 432x288 with 1 Axes>"
      ]
     },
     "metadata": {
      "needs_background": "light"
     },
     "output_type": "display_data"
    }
   ],
   "source": [
    "rides.hist('duration') #выведем гистограмму\n",
    "plt.title('Продолжительность поездок')\n",
    "plt.ylabel('Количество значений')\n",
    "plt.xlabel('Продолжительность поездки (мин)')\n",
    "plt.show()"
   ]
  },
  {
   "cell_type": "markdown",
   "id": "820c38d5",
   "metadata": {},
   "source": [
    "Большая часть значений приходится на поездки длиной от 16 до 20 минут, вторая по численности группа - поездки длиной 13-16 минут. Меньше всего поездок длиной 35-40 минут. Данные распределены нормально"
   ]
  },
  {
   "cell_type": "markdown",
   "id": "f8304997",
   "metadata": {},
   "source": [
    "**Вывод:** из рассмотренных данных можно составить портрет среднестатистического пользователя сервиса GoFast: возраст около 25 лет, проживает в Пятигорске или Екатеринбурге, не пользуется платной подпиской, совершает поездки на расстояние около 3000 м и тратит на них 17-18 минут. "
   ]
  },
  {
   "cell_type": "markdown",
   "id": "4ef51331",
   "metadata": {},
   "source": [
    "### Объединение данных"
   ]
  },
  {
   "cell_type": "markdown",
   "id": "3f7ed1dc",
   "metadata": {},
   "source": [
    "**4.1 Объединим данные о пользователях, поездках и подписках в один датафрейм**"
   ]
  },
  {
   "cell_type": "markdown",
   "id": "d9f8fbaa",
   "metadata": {},
   "source": [
    "Проверим размеры трех исходных датафреймов"
   ]
  },
  {
   "cell_type": "code",
   "execution_count": 41,
   "id": "9e065721",
   "metadata": {},
   "outputs": [
    {
     "name": "stdout",
     "output_type": "stream",
     "text": [
      "<class 'pandas.core.frame.DataFrame'>\n",
      "RangeIndex: 1534 entries, 0 to 1533\n",
      "Data columns (total 5 columns):\n",
      " #   Column             Non-Null Count  Dtype \n",
      "---  ------             --------------  ----- \n",
      " 0   user_id            1534 non-null   int64 \n",
      " 1   name               1534 non-null   object\n",
      " 2   age                1534 non-null   int64 \n",
      " 3   city               1534 non-null   object\n",
      " 4   subscription_type  1534 non-null   object\n",
      "dtypes: int64(2), object(3)\n",
      "memory usage: 60.0+ KB\n"
     ]
    }
   ],
   "source": [
    "users.info()"
   ]
  },
  {
   "cell_type": "markdown",
   "id": "33b53189",
   "metadata": {},
   "source": [
    "В датафрейме с информацией о пользователях 5 столбцов и 1534 строки"
   ]
  },
  {
   "cell_type": "code",
   "execution_count": 42,
   "id": "6ca743f9",
   "metadata": {},
   "outputs": [
    {
     "name": "stdout",
     "output_type": "stream",
     "text": [
      "<class 'pandas.core.frame.DataFrame'>\n",
      "RangeIndex: 18068 entries, 0 to 18067\n",
      "Data columns (total 5 columns):\n",
      " #   Column    Non-Null Count  Dtype         \n",
      "---  ------    --------------  -----         \n",
      " 0   user_id   18068 non-null  int64         \n",
      " 1   distance  18068 non-null  float64       \n",
      " 2   duration  18068 non-null  float64       \n",
      " 3   date      18068 non-null  datetime64[ns]\n",
      " 4   month     18068 non-null  int64         \n",
      "dtypes: datetime64[ns](1), float64(2), int64(2)\n",
      "memory usage: 705.9 KB\n"
     ]
    }
   ],
   "source": [
    "rides.info()"
   ]
  },
  {
   "cell_type": "markdown",
   "id": "7a6ccf96",
   "metadata": {},
   "source": [
    "В датафрейме с информацией о поездках 5 колонок и 18068 строк"
   ]
  },
  {
   "cell_type": "code",
   "execution_count": 43,
   "id": "f66021d1",
   "metadata": {},
   "outputs": [
    {
     "name": "stdout",
     "output_type": "stream",
     "text": [
      "<class 'pandas.core.frame.DataFrame'>\n",
      "RangeIndex: 2 entries, 0 to 1\n",
      "Data columns (total 4 columns):\n",
      " #   Column             Non-Null Count  Dtype \n",
      "---  ------             --------------  ----- \n",
      " 0   subscription_type  2 non-null      object\n",
      " 1   minute_price       2 non-null      int64 \n",
      " 2   start_ride_price   2 non-null      int64 \n",
      " 3   subscription_fee   2 non-null      int64 \n",
      "dtypes: int64(3), object(1)\n",
      "memory usage: 192.0+ bytes\n"
     ]
    }
   ],
   "source": [
    "subscriptions.info()"
   ]
  },
  {
   "cell_type": "markdown",
   "id": "4a6e8625",
   "metadata": {},
   "source": [
    "В датафрейме с информацией о типах подписки 4 колонки и 2 строки"
   ]
  },
  {
   "cell_type": "markdown",
   "id": "a7b24533",
   "metadata": {},
   "source": [
    "В новом датафрейме должно быть 12 (5+4+3) колонок и 18068 строк"
   ]
  },
  {
   "cell_type": "markdown",
   "id": "ab2b95de",
   "metadata": {},
   "source": [
    "Последовательно объединим сначала датафрейм users с датафреймом rides по столбцу 'user_id', затем полученный датафрейм с датафреймом subscriptions по столбцу 'subscription_type'. Для этого воспользуемся методом merge()"
   ]
  },
  {
   "cell_type": "code",
   "execution_count": 44,
   "id": "54246412",
   "metadata": {},
   "outputs": [
    {
     "name": "stdout",
     "output_type": "stream",
     "text": [
      "<class 'pandas.core.frame.DataFrame'>\n",
      "Int64Index: 18068 entries, 0 to 18067\n",
      "Data columns (total 12 columns):\n",
      " #   Column             Non-Null Count  Dtype         \n",
      "---  ------             --------------  -----         \n",
      " 0   user_id            18068 non-null  int64         \n",
      " 1   name               18068 non-null  object        \n",
      " 2   age                18068 non-null  int64         \n",
      " 3   city               18068 non-null  object        \n",
      " 4   subscription_type  18068 non-null  object        \n",
      " 5   distance           18068 non-null  float64       \n",
      " 6   duration           18068 non-null  float64       \n",
      " 7   date               18068 non-null  datetime64[ns]\n",
      " 8   month              18068 non-null  int64         \n",
      " 9   minute_price       18068 non-null  int64         \n",
      " 10  start_ride_price   18068 non-null  int64         \n",
      " 11  subscription_fee   18068 non-null  int64         \n",
      "dtypes: datetime64[ns](1), float64(2), int64(6), object(3)\n",
      "memory usage: 1.8+ MB\n"
     ]
    }
   ],
   "source": [
    "data = users.merge(rides, on='user_id').merge(subscriptions, on='subscription_type')\n",
    "data.info() #выведем информацию о полученном датафрейме"
   ]
  },
  {
   "cell_type": "code",
   "execution_count": 45,
   "id": "49ed8c5a",
   "metadata": {},
   "outputs": [
    {
     "data": {
      "text/plain": [
       "1534"
      ]
     },
     "execution_count": 45,
     "metadata": {},
     "output_type": "execute_result"
    }
   ],
   "source": [
    "len(users['user_id'].unique())"
   ]
  },
  {
   "cell_type": "code",
   "execution_count": 46,
   "id": "c3424e2a",
   "metadata": {},
   "outputs": [
    {
     "data": {
      "text/plain": [
       "1534"
      ]
     },
     "execution_count": 46,
     "metadata": {},
     "output_type": "execute_result"
    }
   ],
   "source": [
    "len(data['user_id'].unique())"
   ]
  },
  {
   "cell_type": "markdown",
   "id": "99aecc6e",
   "metadata": {},
   "source": [
    "Количество значений в исходных датафреймах и объединенном датафрейме совпадает по количеству уникальных пользователей из датафрейма 'users', по количеству строк датафрейма 'rides' и по общему количеству столбцов"
   ]
  },
  {
   "cell_type": "markdown",
   "id": "ff456b9e",
   "metadata": {},
   "source": [
    "**4.2 Создадим ещё два датафрейма из датафрейма, созданного на этапе 4.1 (данные о пользователях без подписки и данные о пользователях с подпиской)**"
   ]
  },
  {
   "cell_type": "code",
   "execution_count": 47,
   "id": "247785c8",
   "metadata": {},
   "outputs": [
    {
     "data": {
      "text/html": [
       "<div>\n",
       "<style scoped>\n",
       "    .dataframe tbody tr th:only-of-type {\n",
       "        vertical-align: middle;\n",
       "    }\n",
       "\n",
       "    .dataframe tbody tr th {\n",
       "        vertical-align: top;\n",
       "    }\n",
       "\n",
       "    .dataframe thead th {\n",
       "        text-align: right;\n",
       "    }\n",
       "</style>\n",
       "<table border=\"1\" class=\"dataframe\">\n",
       "  <thead>\n",
       "    <tr style=\"text-align: right;\">\n",
       "      <th></th>\n",
       "      <th>user_id</th>\n",
       "      <th>name</th>\n",
       "      <th>age</th>\n",
       "      <th>city</th>\n",
       "      <th>subscription_type</th>\n",
       "      <th>distance</th>\n",
       "      <th>duration</th>\n",
       "      <th>date</th>\n",
       "      <th>month</th>\n",
       "      <th>minute_price</th>\n",
       "      <th>start_ride_price</th>\n",
       "      <th>subscription_fee</th>\n",
       "    </tr>\n",
       "  </thead>\n",
       "  <tbody>\n",
       "    <tr>\n",
       "      <th>6500</th>\n",
       "      <td>700</td>\n",
       "      <td>Айдар</td>\n",
       "      <td>22</td>\n",
       "      <td>Омск</td>\n",
       "      <td>free</td>\n",
       "      <td>2515.690719</td>\n",
       "      <td>14.944286</td>\n",
       "      <td>2021-01-02</td>\n",
       "      <td>1</td>\n",
       "      <td>8</td>\n",
       "      <td>50</td>\n",
       "      <td>0</td>\n",
       "    </tr>\n",
       "    <tr>\n",
       "      <th>6501</th>\n",
       "      <td>700</td>\n",
       "      <td>Айдар</td>\n",
       "      <td>22</td>\n",
       "      <td>Омск</td>\n",
       "      <td>free</td>\n",
       "      <td>846.932642</td>\n",
       "      <td>16.234663</td>\n",
       "      <td>2021-02-01</td>\n",
       "      <td>2</td>\n",
       "      <td>8</td>\n",
       "      <td>50</td>\n",
       "      <td>0</td>\n",
       "    </tr>\n",
       "    <tr>\n",
       "      <th>6502</th>\n",
       "      <td>700</td>\n",
       "      <td>Айдар</td>\n",
       "      <td>22</td>\n",
       "      <td>Омск</td>\n",
       "      <td>free</td>\n",
       "      <td>4004.434142</td>\n",
       "      <td>20.016628</td>\n",
       "      <td>2021-02-04</td>\n",
       "      <td>2</td>\n",
       "      <td>8</td>\n",
       "      <td>50</td>\n",
       "      <td>0</td>\n",
       "    </tr>\n",
       "    <tr>\n",
       "      <th>6503</th>\n",
       "      <td>700</td>\n",
       "      <td>Айдар</td>\n",
       "      <td>22</td>\n",
       "      <td>Омск</td>\n",
       "      <td>free</td>\n",
       "      <td>1205.911290</td>\n",
       "      <td>9.782872</td>\n",
       "      <td>2021-02-10</td>\n",
       "      <td>2</td>\n",
       "      <td>8</td>\n",
       "      <td>50</td>\n",
       "      <td>0</td>\n",
       "    </tr>\n",
       "    <tr>\n",
       "      <th>6504</th>\n",
       "      <td>700</td>\n",
       "      <td>Айдар</td>\n",
       "      <td>22</td>\n",
       "      <td>Омск</td>\n",
       "      <td>free</td>\n",
       "      <td>3047.379435</td>\n",
       "      <td>17.427673</td>\n",
       "      <td>2021-02-14</td>\n",
       "      <td>2</td>\n",
       "      <td>8</td>\n",
       "      <td>50</td>\n",
       "      <td>0</td>\n",
       "    </tr>\n",
       "    <tr>\n",
       "      <th>6505</th>\n",
       "      <td>700</td>\n",
       "      <td>Айдар</td>\n",
       "      <td>22</td>\n",
       "      <td>Омск</td>\n",
       "      <td>free</td>\n",
       "      <td>4342.002254</td>\n",
       "      <td>22.368009</td>\n",
       "      <td>2021-02-23</td>\n",
       "      <td>2</td>\n",
       "      <td>8</td>\n",
       "      <td>50</td>\n",
       "      <td>0</td>\n",
       "    </tr>\n",
       "    <tr>\n",
       "      <th>6506</th>\n",
       "      <td>700</td>\n",
       "      <td>Айдар</td>\n",
       "      <td>22</td>\n",
       "      <td>Омск</td>\n",
       "      <td>free</td>\n",
       "      <td>3798.334905</td>\n",
       "      <td>18.243756</td>\n",
       "      <td>2021-03-03</td>\n",
       "      <td>3</td>\n",
       "      <td>8</td>\n",
       "      <td>50</td>\n",
       "      <td>0</td>\n",
       "    </tr>\n",
       "    <tr>\n",
       "      <th>6507</th>\n",
       "      <td>700</td>\n",
       "      <td>Айдар</td>\n",
       "      <td>22</td>\n",
       "      <td>Омск</td>\n",
       "      <td>free</td>\n",
       "      <td>2984.551206</td>\n",
       "      <td>15.424899</td>\n",
       "      <td>2021-04-09</td>\n",
       "      <td>4</td>\n",
       "      <td>8</td>\n",
       "      <td>50</td>\n",
       "      <td>0</td>\n",
       "    </tr>\n",
       "    <tr>\n",
       "      <th>6508</th>\n",
       "      <td>700</td>\n",
       "      <td>Айдар</td>\n",
       "      <td>22</td>\n",
       "      <td>Омск</td>\n",
       "      <td>free</td>\n",
       "      <td>3360.107141</td>\n",
       "      <td>16.765497</td>\n",
       "      <td>2021-06-12</td>\n",
       "      <td>6</td>\n",
       "      <td>8</td>\n",
       "      <td>50</td>\n",
       "      <td>0</td>\n",
       "    </tr>\n",
       "    <tr>\n",
       "      <th>6509</th>\n",
       "      <td>700</td>\n",
       "      <td>Айдар</td>\n",
       "      <td>22</td>\n",
       "      <td>Омск</td>\n",
       "      <td>free</td>\n",
       "      <td>2567.543847</td>\n",
       "      <td>11.312160</td>\n",
       "      <td>2021-06-23</td>\n",
       "      <td>6</td>\n",
       "      <td>8</td>\n",
       "      <td>50</td>\n",
       "      <td>0</td>\n",
       "    </tr>\n",
       "  </tbody>\n",
       "</table>\n",
       "</div>"
      ],
      "text/plain": [
       "      user_id   name  age  city subscription_type     distance   duration  \\\n",
       "6500      700  Айдар   22  Омск              free  2515.690719  14.944286   \n",
       "6501      700  Айдар   22  Омск              free   846.932642  16.234663   \n",
       "6502      700  Айдар   22  Омск              free  4004.434142  20.016628   \n",
       "6503      700  Айдар   22  Омск              free  1205.911290   9.782872   \n",
       "6504      700  Айдар   22  Омск              free  3047.379435  17.427673   \n",
       "6505      700  Айдар   22  Омск              free  4342.002254  22.368009   \n",
       "6506      700  Айдар   22  Омск              free  3798.334905  18.243756   \n",
       "6507      700  Айдар   22  Омск              free  2984.551206  15.424899   \n",
       "6508      700  Айдар   22  Омск              free  3360.107141  16.765497   \n",
       "6509      700  Айдар   22  Омск              free  2567.543847  11.312160   \n",
       "\n",
       "           date  month  minute_price  start_ride_price  subscription_fee  \n",
       "6500 2021-01-02      1             8                50                 0  \n",
       "6501 2021-02-01      2             8                50                 0  \n",
       "6502 2021-02-04      2             8                50                 0  \n",
       "6503 2021-02-10      2             8                50                 0  \n",
       "6504 2021-02-14      2             8                50                 0  \n",
       "6505 2021-02-23      2             8                50                 0  \n",
       "6506 2021-03-03      3             8                50                 0  \n",
       "6507 2021-04-09      4             8                50                 0  \n",
       "6508 2021-06-12      6             8                50                 0  \n",
       "6509 2021-06-23      6             8                50                 0  "
      ]
     },
     "execution_count": 47,
     "metadata": {},
     "output_type": "execute_result"
    }
   ],
   "source": [
    "users_free = data[data['subscription_type'] == 'free'] #создадим новый датафрейм с данными о пользователях без подписки по столбцу 'subscription_type'\n",
    "users_free.head(10) #выведем первые 10 строк полученного датафрейма"
   ]
  },
  {
   "cell_type": "code",
   "execution_count": 48,
   "id": "55064635",
   "metadata": {},
   "outputs": [
    {
     "name": "stdout",
     "output_type": "stream",
     "text": [
      "<class 'pandas.core.frame.DataFrame'>\n",
      "Int64Index: 11568 entries, 6500 to 18067\n",
      "Data columns (total 12 columns):\n",
      " #   Column             Non-Null Count  Dtype         \n",
      "---  ------             --------------  -----         \n",
      " 0   user_id            11568 non-null  int64         \n",
      " 1   name               11568 non-null  object        \n",
      " 2   age                11568 non-null  int64         \n",
      " 3   city               11568 non-null  object        \n",
      " 4   subscription_type  11568 non-null  object        \n",
      " 5   distance           11568 non-null  float64       \n",
      " 6   duration           11568 non-null  float64       \n",
      " 7   date               11568 non-null  datetime64[ns]\n",
      " 8   month              11568 non-null  int64         \n",
      " 9   minute_price       11568 non-null  int64         \n",
      " 10  start_ride_price   11568 non-null  int64         \n",
      " 11  subscription_fee   11568 non-null  int64         \n",
      "dtypes: datetime64[ns](1), float64(2), int64(6), object(3)\n",
      "memory usage: 1.1+ MB\n"
     ]
    }
   ],
   "source": [
    "users_free.info() #выведем информацию о полученном датафрейме"
   ]
  },
  {
   "cell_type": "code",
   "execution_count": 49,
   "id": "b8e4fae8",
   "metadata": {},
   "outputs": [
    {
     "data": {
      "text/html": [
       "<div>\n",
       "<style scoped>\n",
       "    .dataframe tbody tr th:only-of-type {\n",
       "        vertical-align: middle;\n",
       "    }\n",
       "\n",
       "    .dataframe tbody tr th {\n",
       "        vertical-align: top;\n",
       "    }\n",
       "\n",
       "    .dataframe thead th {\n",
       "        text-align: right;\n",
       "    }\n",
       "</style>\n",
       "<table border=\"1\" class=\"dataframe\">\n",
       "  <thead>\n",
       "    <tr style=\"text-align: right;\">\n",
       "      <th></th>\n",
       "      <th>user_id</th>\n",
       "      <th>name</th>\n",
       "      <th>age</th>\n",
       "      <th>city</th>\n",
       "      <th>subscription_type</th>\n",
       "      <th>distance</th>\n",
       "      <th>duration</th>\n",
       "      <th>date</th>\n",
       "      <th>month</th>\n",
       "      <th>minute_price</th>\n",
       "      <th>start_ride_price</th>\n",
       "      <th>subscription_fee</th>\n",
       "    </tr>\n",
       "  </thead>\n",
       "  <tbody>\n",
       "    <tr>\n",
       "      <th>0</th>\n",
       "      <td>1</td>\n",
       "      <td>Кира</td>\n",
       "      <td>22</td>\n",
       "      <td>Тюмень</td>\n",
       "      <td>ultra</td>\n",
       "      <td>4409.919140</td>\n",
       "      <td>25.599769</td>\n",
       "      <td>2021-01-01</td>\n",
       "      <td>1</td>\n",
       "      <td>6</td>\n",
       "      <td>0</td>\n",
       "      <td>199</td>\n",
       "    </tr>\n",
       "    <tr>\n",
       "      <th>1</th>\n",
       "      <td>1</td>\n",
       "      <td>Кира</td>\n",
       "      <td>22</td>\n",
       "      <td>Тюмень</td>\n",
       "      <td>ultra</td>\n",
       "      <td>2617.592153</td>\n",
       "      <td>15.816871</td>\n",
       "      <td>2021-01-18</td>\n",
       "      <td>1</td>\n",
       "      <td>6</td>\n",
       "      <td>0</td>\n",
       "      <td>199</td>\n",
       "    </tr>\n",
       "    <tr>\n",
       "      <th>2</th>\n",
       "      <td>1</td>\n",
       "      <td>Кира</td>\n",
       "      <td>22</td>\n",
       "      <td>Тюмень</td>\n",
       "      <td>ultra</td>\n",
       "      <td>754.159807</td>\n",
       "      <td>6.232113</td>\n",
       "      <td>2021-04-20</td>\n",
       "      <td>4</td>\n",
       "      <td>6</td>\n",
       "      <td>0</td>\n",
       "      <td>199</td>\n",
       "    </tr>\n",
       "    <tr>\n",
       "      <th>3</th>\n",
       "      <td>1</td>\n",
       "      <td>Кира</td>\n",
       "      <td>22</td>\n",
       "      <td>Тюмень</td>\n",
       "      <td>ultra</td>\n",
       "      <td>2694.783254</td>\n",
       "      <td>18.511000</td>\n",
       "      <td>2021-08-11</td>\n",
       "      <td>8</td>\n",
       "      <td>6</td>\n",
       "      <td>0</td>\n",
       "      <td>199</td>\n",
       "    </tr>\n",
       "    <tr>\n",
       "      <th>4</th>\n",
       "      <td>1</td>\n",
       "      <td>Кира</td>\n",
       "      <td>22</td>\n",
       "      <td>Тюмень</td>\n",
       "      <td>ultra</td>\n",
       "      <td>4028.687306</td>\n",
       "      <td>26.265803</td>\n",
       "      <td>2021-08-28</td>\n",
       "      <td>8</td>\n",
       "      <td>6</td>\n",
       "      <td>0</td>\n",
       "      <td>199</td>\n",
       "    </tr>\n",
       "    <tr>\n",
       "      <th>5</th>\n",
       "      <td>1</td>\n",
       "      <td>Кира</td>\n",
       "      <td>22</td>\n",
       "      <td>Тюмень</td>\n",
       "      <td>ultra</td>\n",
       "      <td>2770.890808</td>\n",
       "      <td>16.650138</td>\n",
       "      <td>2021-10-09</td>\n",
       "      <td>10</td>\n",
       "      <td>6</td>\n",
       "      <td>0</td>\n",
       "      <td>199</td>\n",
       "    </tr>\n",
       "    <tr>\n",
       "      <th>6</th>\n",
       "      <td>1</td>\n",
       "      <td>Кира</td>\n",
       "      <td>22</td>\n",
       "      <td>Тюмень</td>\n",
       "      <td>ultra</td>\n",
       "      <td>3039.020292</td>\n",
       "      <td>14.927879</td>\n",
       "      <td>2021-10-19</td>\n",
       "      <td>10</td>\n",
       "      <td>6</td>\n",
       "      <td>0</td>\n",
       "      <td>199</td>\n",
       "    </tr>\n",
       "    <tr>\n",
       "      <th>7</th>\n",
       "      <td>1</td>\n",
       "      <td>Кира</td>\n",
       "      <td>22</td>\n",
       "      <td>Тюмень</td>\n",
       "      <td>ultra</td>\n",
       "      <td>2842.118050</td>\n",
       "      <td>23.117468</td>\n",
       "      <td>2021-11-06</td>\n",
       "      <td>11</td>\n",
       "      <td>6</td>\n",
       "      <td>0</td>\n",
       "      <td>199</td>\n",
       "    </tr>\n",
       "    <tr>\n",
       "      <th>8</th>\n",
       "      <td>1</td>\n",
       "      <td>Кира</td>\n",
       "      <td>22</td>\n",
       "      <td>Тюмень</td>\n",
       "      <td>ultra</td>\n",
       "      <td>3412.690668</td>\n",
       "      <td>15.238072</td>\n",
       "      <td>2021-11-14</td>\n",
       "      <td>11</td>\n",
       "      <td>6</td>\n",
       "      <td>0</td>\n",
       "      <td>199</td>\n",
       "    </tr>\n",
       "    <tr>\n",
       "      <th>9</th>\n",
       "      <td>1</td>\n",
       "      <td>Кира</td>\n",
       "      <td>22</td>\n",
       "      <td>Тюмень</td>\n",
       "      <td>ultra</td>\n",
       "      <td>748.690645</td>\n",
       "      <td>15.041884</td>\n",
       "      <td>2021-11-22</td>\n",
       "      <td>11</td>\n",
       "      <td>6</td>\n",
       "      <td>0</td>\n",
       "      <td>199</td>\n",
       "    </tr>\n",
       "  </tbody>\n",
       "</table>\n",
       "</div>"
      ],
      "text/plain": [
       "   user_id  name  age    city subscription_type     distance   duration  \\\n",
       "0        1  Кира   22  Тюмень             ultra  4409.919140  25.599769   \n",
       "1        1  Кира   22  Тюмень             ultra  2617.592153  15.816871   \n",
       "2        1  Кира   22  Тюмень             ultra   754.159807   6.232113   \n",
       "3        1  Кира   22  Тюмень             ultra  2694.783254  18.511000   \n",
       "4        1  Кира   22  Тюмень             ultra  4028.687306  26.265803   \n",
       "5        1  Кира   22  Тюмень             ultra  2770.890808  16.650138   \n",
       "6        1  Кира   22  Тюмень             ultra  3039.020292  14.927879   \n",
       "7        1  Кира   22  Тюмень             ultra  2842.118050  23.117468   \n",
       "8        1  Кира   22  Тюмень             ultra  3412.690668  15.238072   \n",
       "9        1  Кира   22  Тюмень             ultra   748.690645  15.041884   \n",
       "\n",
       "        date  month  minute_price  start_ride_price  subscription_fee  \n",
       "0 2021-01-01      1             6                 0               199  \n",
       "1 2021-01-18      1             6                 0               199  \n",
       "2 2021-04-20      4             6                 0               199  \n",
       "3 2021-08-11      8             6                 0               199  \n",
       "4 2021-08-28      8             6                 0               199  \n",
       "5 2021-10-09     10             6                 0               199  \n",
       "6 2021-10-19     10             6                 0               199  \n",
       "7 2021-11-06     11             6                 0               199  \n",
       "8 2021-11-14     11             6                 0               199  \n",
       "9 2021-11-22     11             6                 0               199  "
      ]
     },
     "execution_count": 49,
     "metadata": {},
     "output_type": "execute_result"
    }
   ],
   "source": [
    "users_ultra = data[data['subscription_type'] == 'ultra'] #создадим новый датафрейм с данными о пользователях с подпиской по столбцу 'subscription_type'\n",
    "users_ultra.head(10) #выведем первые 10 строк полученного датафрейма"
   ]
  },
  {
   "cell_type": "code",
   "execution_count": 50,
   "id": "4a2196a8",
   "metadata": {},
   "outputs": [
    {
     "name": "stdout",
     "output_type": "stream",
     "text": [
      "<class 'pandas.core.frame.DataFrame'>\n",
      "Int64Index: 6500 entries, 0 to 6499\n",
      "Data columns (total 12 columns):\n",
      " #   Column             Non-Null Count  Dtype         \n",
      "---  ------             --------------  -----         \n",
      " 0   user_id            6500 non-null   int64         \n",
      " 1   name               6500 non-null   object        \n",
      " 2   age                6500 non-null   int64         \n",
      " 3   city               6500 non-null   object        \n",
      " 4   subscription_type  6500 non-null   object        \n",
      " 5   distance           6500 non-null   float64       \n",
      " 6   duration           6500 non-null   float64       \n",
      " 7   date               6500 non-null   datetime64[ns]\n",
      " 8   month              6500 non-null   int64         \n",
      " 9   minute_price       6500 non-null   int64         \n",
      " 10  start_ride_price   6500 non-null   int64         \n",
      " 11  subscription_fee   6500 non-null   int64         \n",
      "dtypes: datetime64[ns](1), float64(2), int64(6), object(3)\n",
      "memory usage: 660.2+ KB\n"
     ]
    }
   ],
   "source": [
    "users_ultra.info() #выведем информацию о полученном датафрейме"
   ]
  },
  {
   "cell_type": "markdown",
   "id": "dc4ac0ef",
   "metadata": {},
   "source": [
    "**4.3 Визуализируем информацию о расстоянии и времени поездок для пользователей обеих категорий**"
   ]
  },
  {
   "cell_type": "code",
   "execution_count": 51,
   "id": "9fff8824",
   "metadata": {},
   "outputs": [
    {
     "data": {
      "text/plain": [
       "count    11568.000000\n",
       "mean      3045.495282\n",
       "std       1246.173806\n",
       "min          0.855683\n",
       "25%       2366.562689\n",
       "50%       3114.648465\n",
       "75%       3905.697894\n",
       "max       7211.007745\n",
       "Name: distance, dtype: float64"
      ]
     },
     "execution_count": 51,
     "metadata": {},
     "output_type": "execute_result"
    }
   ],
   "source": [
    "users_free['distance'].describe()"
   ]
  },
  {
   "cell_type": "markdown",
   "id": "361a21d9",
   "metadata": {},
   "source": [
    "По пользователям без подписки мы получили 11568 строк данных. В среднем пользователи совершали поездки на расстояние около 3000 м (среднее 3045 м, медиана 3114 м). Минимальное расстояние - 0.85 м, максимальное - 7211 м."
   ]
  },
  {
   "cell_type": "code",
   "execution_count": 52,
   "id": "12977043",
   "metadata": {},
   "outputs": [
    {
     "data": {
      "image/png": "[encoded data removed]",
      "text/plain": [
       "<Figure size 432x288 with 1 Axes>"
      ]
     },
     "metadata": {
      "needs_background": "light"
     },
     "output_type": "display_data"
    }
   ],
   "source": [
    "users_free.boxplot('distance') #выведем диаграмму размаха\n",
    "plt.show()"
   ]
  },
  {
   "cell_type": "markdown",
   "id": "4f0fda66",
   "metadata": {},
   "source": [
    "На диаграмме размаха можем наблюдать медиану около 3000 м. Имеются выбросы, не являющиеся аномалиями. "
   ]
  },
  {
   "cell_type": "code",
   "execution_count": 53,
   "id": "d68cf481",
   "metadata": {},
   "outputs": [
    {
     "data": {
      "image/png": "[encoded data removed]",
      "text/plain": [
       "<Figure size 432x288 with 1 Axes>"
      ]
     },
     "metadata": {
      "needs_background": "light"
     },
     "output_type": "display_data"
    }
   ],
   "source": [
    "users_free.hist('distance') #выведем гистограмму\n",
    "plt.title('Расстояние, которое пользователь без подписки преодолел за одну поездку')\n",
    "plt.ylabel('Количество значений')\n",
    "plt.xlabel('Расстояние (м)')\n",
    "plt.show()"
   ]
  },
  {
   "cell_type": "code",
   "execution_count": 54,
   "id": "5695e558",
   "metadata": {},
   "outputs": [
    {
     "data": {
      "image/png": "[encoded data removed]",
      "text/plain": [
       "<Figure size 432x288 with 1 Axes>"
      ]
     },
     "metadata": {
      "needs_background": "light"
     },
     "output_type": "display_data"
    }
   ],
   "source": [
    "users_free.hist('distance', bins=30) #выведем гистограмму\n",
    "plt.title('Расстояние, которое пользователь без подписки преодолел за одну поездку')\n",
    "plt.ylabel('Количество значений')\n",
    "plt.xlabel('Расстояние (м)')\n",
    "plt.show()"
   ]
  },
  {
   "cell_type": "markdown",
   "id": "1dc7012a",
   "metadata": {},
   "source": [
    "По гистограмме видно, что данные распределены нормально в двух областях графика - от 0 до 1500 м, и от 1500 м до 7100 м.  \n",
    "В первом случае большинство пользователей совершает поездки на расстояние около 600-700 м, во втором - большинство пользователей совершает поездки на расстояние около 2500-2600 м, следующее по частоте значение - около 2800 м, далее - около 3200.  "
   ]
  },
  {
   "cell_type": "code",
   "execution_count": 55,
   "id": "ff423da8",
   "metadata": {},
   "outputs": [
    {
     "data": {
      "text/plain": [
       "count    11568.000000\n",
       "mean        17.390909\n",
       "std          6.326803\n",
       "min          0.500000\n",
       "25%         12.958437\n",
       "50%         17.326890\n",
       "75%         21.594071\n",
       "max         34.948498\n",
       "Name: duration, dtype: float64"
      ]
     },
     "execution_count": 55,
     "metadata": {},
     "output_type": "execute_result"
    }
   ],
   "source": [
    "users_free['duration'].describe()"
   ]
  },
  {
   "cell_type": "markdown",
   "id": "4b3949e5",
   "metadata": {},
   "source": [
    "Средняя продолжительность поездки для пользователей без подписки составляет около 17,3 минут. Минимальное значение - 0.5 минут (30 секунд), максимальное - 34.9 минут."
   ]
  },
  {
   "cell_type": "code",
   "execution_count": 56,
   "id": "ce86258c",
   "metadata": {},
   "outputs": [
    {
     "data": {
      "image/png": "[encoded data removed]",
      "text/plain": [
       "<Figure size 432x288 with 1 Axes>"
      ]
     },
     "metadata": {
      "needs_background": "light"
     },
     "output_type": "display_data"
    }
   ],
   "source": [
    "users_free.boxplot('duration') #выведем диаграмму размаха\n",
    "plt.show()"
   ]
  },
  {
   "cell_type": "markdown",
   "id": "76bda35f",
   "metadata": {},
   "source": [
    "На диаграмме размаха мы можем наблюдать расположение нормальных значений от 0.5 до 34 минут и незначительные выбросы, превышающие 34 минуты. Медиана находится на значении около 17 минут."
   ]
  },
  {
   "cell_type": "code",
   "execution_count": 57,
   "id": "8124ab29",
   "metadata": {},
   "outputs": [
    {
     "data": {
      "image/png": "[encoded data removed]",
      "text/plain": [
       "<Figure size 432x288 with 1 Axes>"
      ]
     },
     "metadata": {
      "needs_background": "light"
     },
     "output_type": "display_data"
    }
   ],
   "source": [
    "users_free.hist('duration') #выведем гистограмму\n",
    "plt.title('Продолжительность поездок пользователей без подписки')\n",
    "plt.ylabel('Количество значений')\n",
    "plt.xlabel('Продолжительность поездки (мин)')\n",
    "plt.show()"
   ]
  },
  {
   "cell_type": "markdown",
   "id": "1b706802",
   "metadata": {},
   "source": [
    "На гистограмме мы видим нормальное распределение. Большинство пользователей тратят на поездку от 17 до 21 минут, чуть меньше пользователей тратят от 14 до 17 минут. Меньше всего пользователей тратят на поездки от 0.5 до 4 минут, что выглядит логично, т.к. немногие пользователи совершают такие короткие поездки."
   ]
  },
  {
   "cell_type": "code",
   "execution_count": 58,
   "id": "ad642ce0",
   "metadata": {},
   "outputs": [
    {
     "data": {
      "text/plain": [
       "count    6500.000000\n",
       "mean     3115.445388\n",
       "std       836.895330\n",
       "min       244.210438\n",
       "25%      2785.444017\n",
       "50%      3148.637229\n",
       "75%      3560.574425\n",
       "max      5699.769662\n",
       "Name: distance, dtype: float64"
      ]
     },
     "execution_count": 58,
     "metadata": {},
     "output_type": "execute_result"
    }
   ],
   "source": [
    "users_ultra['distance'].describe()"
   ]
  },
  {
   "cell_type": "markdown",
   "id": "ffdf2da4",
   "metadata": {},
   "source": [
    "По пользователям с подпиской мы получили 6500 строк данных. В среднем пользователи совершали поездки на расстояние около 3100 м (среднее 3115 м, медиана 3148 м). Минимальное расстояние - 244 м, максимальное - 5699.7 м."
   ]
  },
  {
   "cell_type": "code",
   "execution_count": 59,
   "id": "f9e66e67",
   "metadata": {},
   "outputs": [
    {
     "data": {
      "image/png": "[encoded data removed]",
      "text/plain": [
       "<Figure size 432x288 with 1 Axes>"
      ]
     },
     "metadata": {
      "needs_background": "light"
     },
     "output_type": "display_data"
    }
   ],
   "source": [
    "users_ultra.boxplot('distance') #выведем диаграмму размаха\n",
    "plt.show()"
   ]
  },
  {
   "cell_type": "markdown",
   "id": "5afe0cc1",
   "metadata": {},
   "source": [
    "На диаграмме размаха можем наблюдать медиану около 3100 м. Имеются значительные выбросы, не являющиеся аномалиями."
   ]
  },
  {
   "cell_type": "code",
   "execution_count": 60,
   "id": "b42b3cf8",
   "metadata": {},
   "outputs": [
    {
     "data": {
      "image/png": "[encoded data removed]",
      "text/plain": [
       "<Figure size 432x288 with 1 Axes>"
      ]
     },
     "metadata": {
      "needs_background": "light"
     },
     "output_type": "display_data"
    }
   ],
   "source": [
    "users_ultra.hist('distance') #выведем гистограмму\n",
    "plt.title('Расстояние, которое пользователь с подпиской преодолел за одну поездку')\n",
    "plt.ylabel('Количество значений')\n",
    "plt.xlabel('Расстояние (м)')\n",
    "plt.show()"
   ]
  },
  {
   "cell_type": "code",
   "execution_count": 61,
   "id": "abac98b7",
   "metadata": {},
   "outputs": [
    {
     "data": {
      "image/png": "[encoded data removed]",
      "text/plain": [
       "<Figure size 432x288 with 1 Axes>"
      ]
     },
     "metadata": {
      "needs_background": "light"
     },
     "output_type": "display_data"
    }
   ],
   "source": [
    "users_ultra.hist('distance', bins=30) #выведем гистограмму\n",
    "plt.title('Расстояние, которое пользователь с подпиской преодолел за одну поездку')\n",
    "plt.ylabel('Количество значений')\n",
    "plt.xlabel('Расстояние (м)')\n",
    "plt.show()"
   ]
  },
  {
   "cell_type": "markdown",
   "id": "2995507d",
   "metadata": {},
   "source": [
    "По гистограмме видно, что данные распределены нормально в двух областях графика - от 200 до 1800 м, и от 1800 м до 5600 м.\n",
    "В первом случае большинство пользователей совершает поездки на расстояние около 1000 м, во втором - большинство пользователей совершает поездки на расстояние около 3000-3100 м, следующее по частоте значение - около 3200 м, далее - около 2800."
   ]
  },
  {
   "cell_type": "code",
   "execution_count": 62,
   "id": "260e8b82",
   "metadata": {},
   "outputs": [
    {
     "data": {
      "text/plain": [
       "count    6500.000000\n",
       "mean       18.541985\n",
       "std         5.572048\n",
       "min         3.760353\n",
       "25%        14.524654\n",
       "50%        18.178153\n",
       "75%        21.884129\n",
       "max        40.823963\n",
       "Name: duration, dtype: float64"
      ]
     },
     "execution_count": 62,
     "metadata": {},
     "output_type": "execute_result"
    }
   ],
   "source": [
    "users_ultra['duration'].describe()"
   ]
  },
  {
   "cell_type": "markdown",
   "id": "382fd6b2",
   "metadata": {},
   "source": [
    "Средняя продолжительность поездки для пользователей с подпиской составляет около 18 минут (среднее 18.5, медиана 18.17). Минимальное значение - 3.7 минут, максимальное - 40.8 минут."
   ]
  },
  {
   "cell_type": "code",
   "execution_count": 63,
   "id": "fe87d8df",
   "metadata": {},
   "outputs": [
    {
     "data": {
      "image/png": "[encoded data removed]",
      "text/plain": [
       "<Figure size 432x288 with 1 Axes>"
      ]
     },
     "metadata": {
      "needs_background": "light"
     },
     "output_type": "display_data"
    }
   ],
   "source": [
    "users_ultra.boxplot('duration') #выведем диаграмму размаха\n",
    "plt.show()"
   ]
  },
  {
   "cell_type": "markdown",
   "id": "c354ae7e",
   "metadata": {},
   "source": [
    "На диаграмме размаха мы можем наблюдать расположение нормальных значений от 3 до 34 минут и выбросы, превышающие 34 минуты. Медиана находится на значении около 18 минут."
   ]
  },
  {
   "cell_type": "code",
   "execution_count": 64,
   "id": "7cdd5d52",
   "metadata": {},
   "outputs": [
    {
     "data": {
      "image/png": "[encoded data removed]",
      "text/plain": [
       "<Figure size 432x288 with 1 Axes>"
      ]
     },
     "metadata": {
      "needs_background": "light"
     },
     "output_type": "display_data"
    }
   ],
   "source": [
    "users_ultra.hist('duration') #выведем гистограмму\n",
    "plt.title('Продолжительность поездок пользователей с подпиской')\n",
    "plt.ylabel('Количество значений')\n",
    "plt.xlabel('Продолжительность поездки (мин)')\n",
    "plt.show()"
   ]
  },
  {
   "cell_type": "markdown",
   "id": "6fc5d018",
   "metadata": {},
   "source": [
    "По гистограмме мы видим, что большинство пользователей тратят на поездку от 15 до 18 минут, чуть меньше пользователей тратят от 18 до 23 минут. Меньше всего пользователей тратят на поездки от 3 до 7 минут."
   ]
  },
  {
   "cell_type": "markdown",
   "id": "42c977e9",
   "metadata": {},
   "source": [
    "**Вывод:** На данном этапе мы объединили три датафрейма в один, а также разделили полученный датафрейм на два отдельных : c данными о пользователях без подписки и с данными о пользователях с подпиской. Отсортированные данные позволили рассмотреть разницу расстояния и времени для пользователей без подписки и с подпиской.  \n",
    "Пользователи без подписки в среднем тратят 17.3 минуты на расстояние около 3000 м, при этом и для времени, и для расстояния минимальные значения у них меньше, а максимальные больше, чем у пользователей с подпиской.  \n",
    "Пользователи с подпиской в среднем тратят 18 минут на расстояние около 3100 м, при этом и для времени, и для расстояния минимальные значения у них больше, а максимальные меньше, чем у пользователей без подписки. "
   ]
  },
  {
   "cell_type": "markdown",
   "id": "402d620f",
   "metadata": {},
   "source": [
    "### Подсчёт выручки"
   ]
  },
  {
   "cell_type": "markdown",
   "id": "d253c68b",
   "metadata": {},
   "source": [
    "**5.1 Создадим датафрейм с агрегированными данными о поездках на основе датафрейма с объединёнными данными из шага 4 (найдем суммарное расстояние, количество поездок и суммарное время для каждого пользователя за каждый месяц)**"
   ]
  },
  {
   "cell_type": "code",
   "execution_count": 65,
   "id": "5b16e76f",
   "metadata": {},
   "outputs": [],
   "source": [
    "#продолжительность каждой поездки в каждой строке исходного датафрейма для подсчёта стоимости округлим до следующего целого числа\n",
    "data['duration'] = np.ceil(data['duration'])"
   ]
  },
  {
   "cell_type": "code",
   "execution_count": 66,
   "id": "fac89c0e",
   "metadata": {},
   "outputs": [],
   "source": [
    "#создадим сводную таблицу с агрегированными данными\n",
    "data_agg = data.pivot_table(index=['user_id', 'month', 'subscription_type'], values=['distance','duration', 'minute_price', 'start_ride_price','subscription_fee'], aggfunc={'count','sum'})"
   ]
  },
  {
   "cell_type": "code",
   "execution_count": 67,
   "id": "0639f7fa",
   "metadata": {},
   "outputs": [],
   "source": [
    "# переименуем столбцы\n",
    "data_agg.columns = ['trips_count', 'total_distance', \n",
    "                    'time_count', 'total_time', \n",
    "                    'minute_price_count', 'minute_price_sum', \n",
    "                    'rides_total', 'start_ride_price', \n",
    "                    'months_subscribed', 'subscription_fee'\n",
    "                   ]"
   ]
  },
  {
   "cell_type": "code",
   "execution_count": 68,
   "id": "03ea1951",
   "metadata": {},
   "outputs": [],
   "source": [
    "data_agg['minute_price'] = data_agg['minute_price_sum'] / data_agg['minute_price_count'] #приведем столбец с ценой за минуту к исходному значению"
   ]
  },
  {
   "cell_type": "code",
   "execution_count": 69,
   "id": "1870f086",
   "metadata": {},
   "outputs": [],
   "source": [
    "data_agg['subscription_fee'] = data_agg['subscription_fee']/ data_agg['trips_count'] #приведем столбец с стоимостью подписки к исходному значению"
   ]
  },
  {
   "cell_type": "code",
   "execution_count": 70,
   "id": "d879013e",
   "metadata": {},
   "outputs": [],
   "source": [
    "data_agg['start_ride_price'] = data_agg['start_ride_price'] / data_agg['trips_count'] #приведем столбец с ценой за начало поездки к исходному значению"
   ]
  },
  {
   "cell_type": "code",
   "execution_count": 71,
   "id": "bda8500b",
   "metadata": {},
   "outputs": [],
   "source": [
    "data_agg.drop(['time_count', 'minute_price_count', 'minute_price_sum', 'rides_total', 'months_subscribed'], axis= 1 , inplace= True ) #удалим лишние столбцы"
   ]
  },
  {
   "cell_type": "code",
   "execution_count": 72,
   "id": "62514e3b",
   "metadata": {},
   "outputs": [
    {
     "data": {
      "text/html": [
       "<div>\n",
       "<style scoped>\n",
       "    .dataframe tbody tr th:only-of-type {\n",
       "        vertical-align: middle;\n",
       "    }\n",
       "\n",
       "    .dataframe tbody tr th {\n",
       "        vertical-align: top;\n",
       "    }\n",
       "\n",
       "    .dataframe thead th {\n",
       "        text-align: right;\n",
       "    }\n",
       "</style>\n",
       "<table border=\"1\" class=\"dataframe\">\n",
       "  <thead>\n",
       "    <tr style=\"text-align: right;\">\n",
       "      <th></th>\n",
       "      <th></th>\n",
       "      <th></th>\n",
       "      <th>trips_count</th>\n",
       "      <th>total_distance</th>\n",
       "      <th>total_time</th>\n",
       "      <th>start_ride_price</th>\n",
       "      <th>subscription_fee</th>\n",
       "      <th>minute_price</th>\n",
       "    </tr>\n",
       "    <tr>\n",
       "      <th>user_id</th>\n",
       "      <th>month</th>\n",
       "      <th>subscription_type</th>\n",
       "      <th></th>\n",
       "      <th></th>\n",
       "      <th></th>\n",
       "      <th></th>\n",
       "      <th></th>\n",
       "      <th></th>\n",
       "    </tr>\n",
       "  </thead>\n",
       "  <tbody>\n",
       "    <tr>\n",
       "      <th rowspan=\"6\" valign=\"top\">1</th>\n",
       "      <th>1</th>\n",
       "      <th>ultra</th>\n",
       "      <td>2</td>\n",
       "      <td>7027.511294</td>\n",
       "      <td>42.0</td>\n",
       "      <td>0.0</td>\n",
       "      <td>199.0</td>\n",
       "      <td>6.0</td>\n",
       "    </tr>\n",
       "    <tr>\n",
       "      <th>4</th>\n",
       "      <th>ultra</th>\n",
       "      <td>1</td>\n",
       "      <td>754.159807</td>\n",
       "      <td>7.0</td>\n",
       "      <td>0.0</td>\n",
       "      <td>199.0</td>\n",
       "      <td>6.0</td>\n",
       "    </tr>\n",
       "    <tr>\n",
       "      <th>8</th>\n",
       "      <th>ultra</th>\n",
       "      <td>2</td>\n",
       "      <td>6723.470560</td>\n",
       "      <td>46.0</td>\n",
       "      <td>0.0</td>\n",
       "      <td>199.0</td>\n",
       "      <td>6.0</td>\n",
       "    </tr>\n",
       "    <tr>\n",
       "      <th>10</th>\n",
       "      <th>ultra</th>\n",
       "      <td>2</td>\n",
       "      <td>5809.911100</td>\n",
       "      <td>32.0</td>\n",
       "      <td>0.0</td>\n",
       "      <td>199.0</td>\n",
       "      <td>6.0</td>\n",
       "    </tr>\n",
       "    <tr>\n",
       "      <th>11</th>\n",
       "      <th>ultra</th>\n",
       "      <td>3</td>\n",
       "      <td>7003.499363</td>\n",
       "      <td>56.0</td>\n",
       "      <td>0.0</td>\n",
       "      <td>199.0</td>\n",
       "      <td>6.0</td>\n",
       "    </tr>\n",
       "    <tr>\n",
       "      <th>12</th>\n",
       "      <th>ultra</th>\n",
       "      <td>2</td>\n",
       "      <td>6751.629942</td>\n",
       "      <td>28.0</td>\n",
       "      <td>0.0</td>\n",
       "      <td>199.0</td>\n",
       "      <td>6.0</td>\n",
       "    </tr>\n",
       "    <tr>\n",
       "      <th rowspan=\"4\" valign=\"top\">2</th>\n",
       "      <th>3</th>\n",
       "      <th>ultra</th>\n",
       "      <td>3</td>\n",
       "      <td>10187.723006</td>\n",
       "      <td>63.0</td>\n",
       "      <td>0.0</td>\n",
       "      <td>199.0</td>\n",
       "      <td>6.0</td>\n",
       "    </tr>\n",
       "    <tr>\n",
       "      <th>4</th>\n",
       "      <th>ultra</th>\n",
       "      <td>2</td>\n",
       "      <td>6164.381824</td>\n",
       "      <td>40.0</td>\n",
       "      <td>0.0</td>\n",
       "      <td>199.0</td>\n",
       "      <td>6.0</td>\n",
       "    </tr>\n",
       "    <tr>\n",
       "      <th>6</th>\n",
       "      <th>ultra</th>\n",
       "      <td>1</td>\n",
       "      <td>3255.338202</td>\n",
       "      <td>14.0</td>\n",
       "      <td>0.0</td>\n",
       "      <td>199.0</td>\n",
       "      <td>6.0</td>\n",
       "    </tr>\n",
       "    <tr>\n",
       "      <th>7</th>\n",
       "      <th>ultra</th>\n",
       "      <td>2</td>\n",
       "      <td>6780.722964</td>\n",
       "      <td>48.0</td>\n",
       "      <td>0.0</td>\n",
       "      <td>199.0</td>\n",
       "      <td>6.0</td>\n",
       "    </tr>\n",
       "  </tbody>\n",
       "</table>\n",
       "</div>"
      ],
      "text/plain": [
       "                                 trips_count  total_distance  total_time  \\\n",
       "user_id month subscription_type                                            \n",
       "1       1     ultra                        2     7027.511294        42.0   \n",
       "        4     ultra                        1      754.159807         7.0   \n",
       "        8     ultra                        2     6723.470560        46.0   \n",
       "        10    ultra                        2     5809.911100        32.0   \n",
       "        11    ultra                        3     7003.499363        56.0   \n",
       "        12    ultra                        2     6751.629942        28.0   \n",
       "2       3     ultra                        3    10187.723006        63.0   \n",
       "        4     ultra                        2     6164.381824        40.0   \n",
       "        6     ultra                        1     3255.338202        14.0   \n",
       "        7     ultra                        2     6780.722964        48.0   \n",
       "\n",
       "                                 start_ride_price  subscription_fee  \\\n",
       "user_id month subscription_type                                       \n",
       "1       1     ultra                           0.0             199.0   \n",
       "        4     ultra                           0.0             199.0   \n",
       "        8     ultra                           0.0             199.0   \n",
       "        10    ultra                           0.0             199.0   \n",
       "        11    ultra                           0.0             199.0   \n",
       "        12    ultra                           0.0             199.0   \n",
       "2       3     ultra                           0.0             199.0   \n",
       "        4     ultra                           0.0             199.0   \n",
       "        6     ultra                           0.0             199.0   \n",
       "        7     ultra                           0.0             199.0   \n",
       "\n",
       "                                 minute_price  \n",
       "user_id month subscription_type                \n",
       "1       1     ultra                       6.0  \n",
       "        4     ultra                       6.0  \n",
       "        8     ultra                       6.0  \n",
       "        10    ultra                       6.0  \n",
       "        11    ultra                       6.0  \n",
       "        12    ultra                       6.0  \n",
       "2       3     ultra                       6.0  \n",
       "        4     ultra                       6.0  \n",
       "        6     ultra                       6.0  \n",
       "        7     ultra                       6.0  "
      ]
     },
     "execution_count": 72,
     "metadata": {},
     "output_type": "execute_result"
    }
   ],
   "source": [
    "data_agg.head(10) #выведем первые 10 строк полученного датафрейма"
   ]
  },
  {
   "cell_type": "markdown",
   "id": "38daa4dc",
   "metadata": {},
   "source": [
    "Получились следующие столбцы:  \n",
    "user_id - уникальный номер пользователя;  \n",
    "month - месяц использования сервиса;  \n",
    "subscription_type - тип подписки (без подписки - free, с подпиской - ultra);  \n",
    "trips_count\t- сколько всего было поездок;  \n",
    "total_distance - общее расстояние за поездку;  \n",
    "total_time - общее время поездок;   \n",
    "start_ride_price - цена за начало поездки;   \n",
    "subscription_fee - плата за подписку;  \n",
    "minute_price - цена за одну минуту"
   ]
  },
  {
   "cell_type": "code",
   "execution_count": 73,
   "id": "ddbd2965",
   "metadata": {},
   "outputs": [
    {
     "data": {
      "text/plain": [
       "trips_count         0\n",
       "total_distance      0\n",
       "total_time          0\n",
       "start_ride_price    0\n",
       "subscription_fee    0\n",
       "minute_price        0\n",
       "dtype: int64"
      ]
     },
     "execution_count": 73,
     "metadata": {},
     "output_type": "execute_result"
    }
   ],
   "source": [
    "data_agg.isna().sum() #проверим сводную таблицу на пропуски"
   ]
  },
  {
   "cell_type": "markdown",
   "id": "0dd6f445",
   "metadata": {},
   "source": [
    "Пропусков нет"
   ]
  },
  {
   "cell_type": "markdown",
   "id": "8596fc3f",
   "metadata": {},
   "source": [
    "**5.2 В этот же датафрейм добавим столбец с помесячной выручкой, которую принёс каждый пользователь. Обратимся к информации об условиях оплаты для подписчиков и тех, у кого нет подписки**"
   ]
  },
  {
   "cell_type": "markdown",
   "id": "983141e7",
   "metadata": {},
   "source": [
    "Помесячная выручка считается по формуле: стоимость старта поездки \n",
    "×  количество поездок + стоимость одной минуты поездки \n",
    "× общая продолжительность всех поездок в минутах + стоимость подписки."
   ]
  },
  {
   "cell_type": "code",
   "execution_count": 74,
   "id": "a12daa37",
   "metadata": {},
   "outputs": [],
   "source": [
    "#рассчитаем помесячную выручку для каждого пользователя и добавим в отдельный столбец\n",
    "data_agg['monthly_revenue'] = data_agg['start_ride_price'] * data_agg['trips_count'] + data_agg['minute_price'] * data_agg['total_time'] + data_agg['subscription_fee']"
   ]
  },
  {
   "cell_type": "code",
   "execution_count": 75,
   "id": "7810555c",
   "metadata": {},
   "outputs": [
    {
     "data": {
      "text/html": [
       "<div>\n",
       "<style scoped>\n",
       "    .dataframe tbody tr th:only-of-type {\n",
       "        vertical-align: middle;\n",
       "    }\n",
       "\n",
       "    .dataframe tbody tr th {\n",
       "        vertical-align: top;\n",
       "    }\n",
       "\n",
       "    .dataframe thead th {\n",
       "        text-align: right;\n",
       "    }\n",
       "</style>\n",
       "<table border=\"1\" class=\"dataframe\">\n",
       "  <thead>\n",
       "    <tr style=\"text-align: right;\">\n",
       "      <th></th>\n",
       "      <th></th>\n",
       "      <th></th>\n",
       "      <th>trips_count</th>\n",
       "      <th>total_distance</th>\n",
       "      <th>total_time</th>\n",
       "      <th>start_ride_price</th>\n",
       "      <th>subscription_fee</th>\n",
       "      <th>minute_price</th>\n",
       "      <th>monthly_revenue</th>\n",
       "    </tr>\n",
       "    <tr>\n",
       "      <th>user_id</th>\n",
       "      <th>month</th>\n",
       "      <th>subscription_type</th>\n",
       "      <th></th>\n",
       "      <th></th>\n",
       "      <th></th>\n",
       "      <th></th>\n",
       "      <th></th>\n",
       "      <th></th>\n",
       "      <th></th>\n",
       "    </tr>\n",
       "  </thead>\n",
       "  <tbody>\n",
       "    <tr>\n",
       "      <th rowspan=\"6\" valign=\"top\">1</th>\n",
       "      <th>1</th>\n",
       "      <th>ultra</th>\n",
       "      <td>2</td>\n",
       "      <td>7027.511294</td>\n",
       "      <td>42.0</td>\n",
       "      <td>0.0</td>\n",
       "      <td>199.0</td>\n",
       "      <td>6.0</td>\n",
       "      <td>451.0</td>\n",
       "    </tr>\n",
       "    <tr>\n",
       "      <th>4</th>\n",
       "      <th>ultra</th>\n",
       "      <td>1</td>\n",
       "      <td>754.159807</td>\n",
       "      <td>7.0</td>\n",
       "      <td>0.0</td>\n",
       "      <td>199.0</td>\n",
       "      <td>6.0</td>\n",
       "      <td>241.0</td>\n",
       "    </tr>\n",
       "    <tr>\n",
       "      <th>8</th>\n",
       "      <th>ultra</th>\n",
       "      <td>2</td>\n",
       "      <td>6723.470560</td>\n",
       "      <td>46.0</td>\n",
       "      <td>0.0</td>\n",
       "      <td>199.0</td>\n",
       "      <td>6.0</td>\n",
       "      <td>475.0</td>\n",
       "    </tr>\n",
       "    <tr>\n",
       "      <th>10</th>\n",
       "      <th>ultra</th>\n",
       "      <td>2</td>\n",
       "      <td>5809.911100</td>\n",
       "      <td>32.0</td>\n",
       "      <td>0.0</td>\n",
       "      <td>199.0</td>\n",
       "      <td>6.0</td>\n",
       "      <td>391.0</td>\n",
       "    </tr>\n",
       "    <tr>\n",
       "      <th>11</th>\n",
       "      <th>ultra</th>\n",
       "      <td>3</td>\n",
       "      <td>7003.499363</td>\n",
       "      <td>56.0</td>\n",
       "      <td>0.0</td>\n",
       "      <td>199.0</td>\n",
       "      <td>6.0</td>\n",
       "      <td>535.0</td>\n",
       "    </tr>\n",
       "    <tr>\n",
       "      <th>12</th>\n",
       "      <th>ultra</th>\n",
       "      <td>2</td>\n",
       "      <td>6751.629942</td>\n",
       "      <td>28.0</td>\n",
       "      <td>0.0</td>\n",
       "      <td>199.0</td>\n",
       "      <td>6.0</td>\n",
       "      <td>367.0</td>\n",
       "    </tr>\n",
       "    <tr>\n",
       "      <th rowspan=\"4\" valign=\"top\">2</th>\n",
       "      <th>3</th>\n",
       "      <th>ultra</th>\n",
       "      <td>3</td>\n",
       "      <td>10187.723006</td>\n",
       "      <td>63.0</td>\n",
       "      <td>0.0</td>\n",
       "      <td>199.0</td>\n",
       "      <td>6.0</td>\n",
       "      <td>577.0</td>\n",
       "    </tr>\n",
       "    <tr>\n",
       "      <th>4</th>\n",
       "      <th>ultra</th>\n",
       "      <td>2</td>\n",
       "      <td>6164.381824</td>\n",
       "      <td>40.0</td>\n",
       "      <td>0.0</td>\n",
       "      <td>199.0</td>\n",
       "      <td>6.0</td>\n",
       "      <td>439.0</td>\n",
       "    </tr>\n",
       "    <tr>\n",
       "      <th>6</th>\n",
       "      <th>ultra</th>\n",
       "      <td>1</td>\n",
       "      <td>3255.338202</td>\n",
       "      <td>14.0</td>\n",
       "      <td>0.0</td>\n",
       "      <td>199.0</td>\n",
       "      <td>6.0</td>\n",
       "      <td>283.0</td>\n",
       "    </tr>\n",
       "    <tr>\n",
       "      <th>7</th>\n",
       "      <th>ultra</th>\n",
       "      <td>2</td>\n",
       "      <td>6780.722964</td>\n",
       "      <td>48.0</td>\n",
       "      <td>0.0</td>\n",
       "      <td>199.0</td>\n",
       "      <td>6.0</td>\n",
       "      <td>487.0</td>\n",
       "    </tr>\n",
       "  </tbody>\n",
       "</table>\n",
       "</div>"
      ],
      "text/plain": [
       "                                 trips_count  total_distance  total_time  \\\n",
       "user_id month subscription_type                                            \n",
       "1       1     ultra                        2     7027.511294        42.0   \n",
       "        4     ultra                        1      754.159807         7.0   \n",
       "        8     ultra                        2     6723.470560        46.0   \n",
       "        10    ultra                        2     5809.911100        32.0   \n",
       "        11    ultra                        3     7003.499363        56.0   \n",
       "        12    ultra                        2     6751.629942        28.0   \n",
       "2       3     ultra                        3    10187.723006        63.0   \n",
       "        4     ultra                        2     6164.381824        40.0   \n",
       "        6     ultra                        1     3255.338202        14.0   \n",
       "        7     ultra                        2     6780.722964        48.0   \n",
       "\n",
       "                                 start_ride_price  subscription_fee  \\\n",
       "user_id month subscription_type                                       \n",
       "1       1     ultra                           0.0             199.0   \n",
       "        4     ultra                           0.0             199.0   \n",
       "        8     ultra                           0.0             199.0   \n",
       "        10    ultra                           0.0             199.0   \n",
       "        11    ultra                           0.0             199.0   \n",
       "        12    ultra                           0.0             199.0   \n",
       "2       3     ultra                           0.0             199.0   \n",
       "        4     ultra                           0.0             199.0   \n",
       "        6     ultra                           0.0             199.0   \n",
       "        7     ultra                           0.0             199.0   \n",
       "\n",
       "                                 minute_price  monthly_revenue  \n",
       "user_id month subscription_type                                 \n",
       "1       1     ultra                       6.0            451.0  \n",
       "        4     ultra                       6.0            241.0  \n",
       "        8     ultra                       6.0            475.0  \n",
       "        10    ultra                       6.0            391.0  \n",
       "        11    ultra                       6.0            535.0  \n",
       "        12    ultra                       6.0            367.0  \n",
       "2       3     ultra                       6.0            577.0  \n",
       "        4     ultra                       6.0            439.0  \n",
       "        6     ultra                       6.0            283.0  \n",
       "        7     ultra                       6.0            487.0  "
      ]
     },
     "execution_count": 75,
     "metadata": {},
     "output_type": "execute_result"
    }
   ],
   "source": [
    "data_agg.head(10) #выведем первые десять строк обновленного датафрейма"
   ]
  },
  {
   "cell_type": "code",
   "execution_count": 76,
   "id": "4da813c7",
   "metadata": {},
   "outputs": [
    {
     "data": {
      "text/html": [
       "<div>\n",
       "<style scoped>\n",
       "    .dataframe tbody tr th:only-of-type {\n",
       "        vertical-align: middle;\n",
       "    }\n",
       "\n",
       "    .dataframe tbody tr th {\n",
       "        vertical-align: top;\n",
       "    }\n",
       "\n",
       "    .dataframe thead th {\n",
       "        text-align: right;\n",
       "    }\n",
       "</style>\n",
       "<table border=\"1\" class=\"dataframe\">\n",
       "  <thead>\n",
       "    <tr style=\"text-align: right;\">\n",
       "      <th></th>\n",
       "      <th></th>\n",
       "      <th></th>\n",
       "      <th>trips_count</th>\n",
       "      <th>total_distance</th>\n",
       "      <th>total_time</th>\n",
       "      <th>start_ride_price</th>\n",
       "      <th>subscription_fee</th>\n",
       "      <th>minute_price</th>\n",
       "      <th>monthly_revenue</th>\n",
       "    </tr>\n",
       "    <tr>\n",
       "      <th>user_id</th>\n",
       "      <th>month</th>\n",
       "      <th>subscription_type</th>\n",
       "      <th></th>\n",
       "      <th></th>\n",
       "      <th></th>\n",
       "      <th></th>\n",
       "      <th></th>\n",
       "      <th></th>\n",
       "      <th></th>\n",
       "    </tr>\n",
       "  </thead>\n",
       "  <tbody>\n",
       "    <tr>\n",
       "      <th rowspan=\"5\" valign=\"top\">1</th>\n",
       "      <th>1</th>\n",
       "      <th>ultra</th>\n",
       "      <td>2</td>\n",
       "      <td>7027.511294</td>\n",
       "      <td>42.0</td>\n",
       "      <td>0.0</td>\n",
       "      <td>199.0</td>\n",
       "      <td>6.0</td>\n",
       "      <td>451.0</td>\n",
       "    </tr>\n",
       "    <tr>\n",
       "      <th>4</th>\n",
       "      <th>ultra</th>\n",
       "      <td>1</td>\n",
       "      <td>754.159807</td>\n",
       "      <td>7.0</td>\n",
       "      <td>0.0</td>\n",
       "      <td>199.0</td>\n",
       "      <td>6.0</td>\n",
       "      <td>241.0</td>\n",
       "    </tr>\n",
       "    <tr>\n",
       "      <th>8</th>\n",
       "      <th>ultra</th>\n",
       "      <td>2</td>\n",
       "      <td>6723.470560</td>\n",
       "      <td>46.0</td>\n",
       "      <td>0.0</td>\n",
       "      <td>199.0</td>\n",
       "      <td>6.0</td>\n",
       "      <td>475.0</td>\n",
       "    </tr>\n",
       "    <tr>\n",
       "      <th>10</th>\n",
       "      <th>ultra</th>\n",
       "      <td>2</td>\n",
       "      <td>5809.911100</td>\n",
       "      <td>32.0</td>\n",
       "      <td>0.0</td>\n",
       "      <td>199.0</td>\n",
       "      <td>6.0</td>\n",
       "      <td>391.0</td>\n",
       "    </tr>\n",
       "    <tr>\n",
       "      <th>11</th>\n",
       "      <th>ultra</th>\n",
       "      <td>3</td>\n",
       "      <td>7003.499363</td>\n",
       "      <td>56.0</td>\n",
       "      <td>0.0</td>\n",
       "      <td>199.0</td>\n",
       "      <td>6.0</td>\n",
       "      <td>535.0</td>\n",
       "    </tr>\n",
       "    <tr>\n",
       "      <th>...</th>\n",
       "      <th>...</th>\n",
       "      <th>...</th>\n",
       "      <td>...</td>\n",
       "      <td>...</td>\n",
       "      <td>...</td>\n",
       "      <td>...</td>\n",
       "      <td>...</td>\n",
       "      <td>...</td>\n",
       "      <td>...</td>\n",
       "    </tr>\n",
       "    <tr>\n",
       "      <th rowspan=\"5\" valign=\"top\">1534</th>\n",
       "      <th>6</th>\n",
       "      <th>free</th>\n",
       "      <td>2</td>\n",
       "      <td>3409.468534</td>\n",
       "      <td>26.0</td>\n",
       "      <td>50.0</td>\n",
       "      <td>0.0</td>\n",
       "      <td>8.0</td>\n",
       "      <td>308.0</td>\n",
       "    </tr>\n",
       "    <tr>\n",
       "      <th>8</th>\n",
       "      <th>free</th>\n",
       "      <td>2</td>\n",
       "      <td>7622.453034</td>\n",
       "      <td>48.0</td>\n",
       "      <td>50.0</td>\n",
       "      <td>0.0</td>\n",
       "      <td>8.0</td>\n",
       "      <td>484.0</td>\n",
       "    </tr>\n",
       "    <tr>\n",
       "      <th>9</th>\n",
       "      <th>free</th>\n",
       "      <td>1</td>\n",
       "      <td>4928.173852</td>\n",
       "      <td>23.0</td>\n",
       "      <td>50.0</td>\n",
       "      <td>0.0</td>\n",
       "      <td>8.0</td>\n",
       "      <td>234.0</td>\n",
       "    </tr>\n",
       "    <tr>\n",
       "      <th>11</th>\n",
       "      <th>free</th>\n",
       "      <td>4</td>\n",
       "      <td>13350.015305</td>\n",
       "      <td>78.0</td>\n",
       "      <td>50.0</td>\n",
       "      <td>0.0</td>\n",
       "      <td>8.0</td>\n",
       "      <td>824.0</td>\n",
       "    </tr>\n",
       "    <tr>\n",
       "      <th>12</th>\n",
       "      <th>free</th>\n",
       "      <td>1</td>\n",
       "      <td>2371.711192</td>\n",
       "      <td>16.0</td>\n",
       "      <td>50.0</td>\n",
       "      <td>0.0</td>\n",
       "      <td>8.0</td>\n",
       "      <td>178.0</td>\n",
       "    </tr>\n",
       "  </tbody>\n",
       "</table>\n",
       "<p>11331 rows × 7 columns</p>\n",
       "</div>"
      ],
      "text/plain": [
       "                                 trips_count  total_distance  total_time  \\\n",
       "user_id month subscription_type                                            \n",
       "1       1     ultra                        2     7027.511294        42.0   \n",
       "        4     ultra                        1      754.159807         7.0   \n",
       "        8     ultra                        2     6723.470560        46.0   \n",
       "        10    ultra                        2     5809.911100        32.0   \n",
       "        11    ultra                        3     7003.499363        56.0   \n",
       "...                                      ...             ...         ...   \n",
       "1534    6     free                         2     3409.468534        26.0   \n",
       "        8     free                         2     7622.453034        48.0   \n",
       "        9     free                         1     4928.173852        23.0   \n",
       "        11    free                         4    13350.015305        78.0   \n",
       "        12    free                         1     2371.711192        16.0   \n",
       "\n",
       "                                 start_ride_price  subscription_fee  \\\n",
       "user_id month subscription_type                                       \n",
       "1       1     ultra                           0.0             199.0   \n",
       "        4     ultra                           0.0             199.0   \n",
       "        8     ultra                           0.0             199.0   \n",
       "        10    ultra                           0.0             199.0   \n",
       "        11    ultra                           0.0             199.0   \n",
       "...                                           ...               ...   \n",
       "1534    6     free                           50.0               0.0   \n",
       "        8     free                           50.0               0.0   \n",
       "        9     free                           50.0               0.0   \n",
       "        11    free                           50.0               0.0   \n",
       "        12    free                           50.0               0.0   \n",
       "\n",
       "                                 minute_price  monthly_revenue  \n",
       "user_id month subscription_type                                 \n",
       "1       1     ultra                       6.0            451.0  \n",
       "        4     ultra                       6.0            241.0  \n",
       "        8     ultra                       6.0            475.0  \n",
       "        10    ultra                       6.0            391.0  \n",
       "        11    ultra                       6.0            535.0  \n",
       "...                                       ...              ...  \n",
       "1534    6     free                        8.0            308.0  \n",
       "        8     free                        8.0            484.0  \n",
       "        9     free                        8.0            234.0  \n",
       "        11    free                        8.0            824.0  \n",
       "        12    free                        8.0            178.0  \n",
       "\n",
       "[11331 rows x 7 columns]"
      ]
     },
     "execution_count": 76,
     "metadata": {},
     "output_type": "execute_result"
    }
   ],
   "source": [
    "data_agg"
   ]
  },
  {
   "cell_type": "markdown",
   "id": "ac0b08a4",
   "metadata": {},
   "source": [
    "**Вывод:** на данном этапе мы создали датафрейм с агрегированными данными о поездках на основе датафрейма с объединёнными данными (нашли суммарное расстояние, количество поездок и суммарное время для каждого пользователя за каждый месяц), в этот же датафрейм добавили столбец с помесячной выручкой, которую принёс каждый пользователь."
   ]
  },
  {
   "cell_type": "markdown",
   "id": "41545ac0",
   "metadata": {},
   "source": [
    "### Проверка гипотез"
   ]
  },
  {
   "cell_type": "markdown",
   "id": "b2805b33",
   "metadata": {},
   "source": [
    "**6.1 Тратят ли пользователи с подпиской больше времени на поездки? Если да, то пользователи с подпиской могут быть «выгоднее» для компании. Проверим гипотезу. Используем исходные данные о продолжительности каждой сессии — отдельно для подписчиков и тех, у кого нет подписки**"
   ]
  },
  {
   "cell_type": "markdown",
   "id": "9ed80d74",
   "metadata": {},
   "source": [
    "Нулевая гипотеза: средняя продолжительность поездок для пользователей с подпиской и без подписки равна.  \n",
    "Альтернативная гипотеза: пользователи с подпиской тратят больше времени на поездки.  \n",
    "Используем двухвыборочный t-test для независимых выборок"
   ]
  },
  {
   "cell_type": "code",
   "execution_count": 77,
   "id": "e63e17a7",
   "metadata": {},
   "outputs": [
    {
     "name": "stdout",
     "output_type": "stream",
     "text": [
      "p-значение: 5.6757813771289775e-37\n",
      "Отвергаем нулевую гипотезу\n"
     ]
    }
   ],
   "source": [
    "duration_ultra = users_ultra['duration'] #значения для пользователей с подпиской\n",
    "duration_free = users_free['duration'] #значения для пользователей без подписки\n",
    "alpha = 0.05 #уровень статистической значимости\n",
    "#проверяем гипотезу о равенстве средних двух генеральных совокупностей\n",
    "results = st.ttest_ind(duration_ultra, duration_free, equal_var=False, alternative='greater')\n",
    "print('p-значение:', results.pvalue)\n",
    "if results.pvalue < alpha:\n",
    "    print('Отвергаем нулевую гипотезу')\n",
    "else:\n",
    "    print('Не получилось отвергнуть нулевую гипотезу')"
   ]
  },
  {
   "cell_type": "markdown",
   "id": "64eee0fa",
   "metadata": {},
   "source": [
    "**Вывод:** Отвергаем нулевую гипотезу, следовательно, пользователи с подпиской тратят больше времени на поездки"
   ]
  },
  {
   "cell_type": "markdown",
   "id": "888d7810",
   "metadata": {},
   "source": [
    "**6.2 Расстояние одной поездки в 3130 метров — оптимальное с точки зрения износа самоката. Можно ли сказать, что среднее расстояние, которое проезжают пользователи с подпиской за одну поездку, не превышает 3130 метров? Проверим гипотезу**"
   ]
  },
  {
   "cell_type": "markdown",
   "id": "92734d35",
   "metadata": {},
   "source": [
    "Нулевая гипотеза: среднее расстояние, которое проезжают пользователи с подпиской за одну поездку, равно 3130 метров.  \n",
    "Альтернативная гипотеза: среднее расстояние, которое проезжают пользователи с подпиской за одну поездку, превышает 3130 метров.  \n",
    "Используем одновыборочный t-test о равенстве среднего генеральной совокупности числу"
   ]
  },
  {
   "cell_type": "code",
   "execution_count": 78,
   "id": "ca73391a",
   "metadata": {},
   "outputs": [
    {
     "name": "stdout",
     "output_type": "stream",
     "text": [
      "p-значение: 0.9195368847849785\n",
      "Не получилось отвергнуть нулевую гипотезу\n"
     ]
    }
   ],
   "source": [
    "distance_ultra = users_ultra['distance'] #значения для пользователей с подпиской\n",
    "alpha = 0.05 #уровень статистической значимости\n",
    "results = st.ttest_1samp(distance_ultra, 3130, alternative='greater')\n",
    "print('p-значение:', results.pvalue)\n",
    "if results.pvalue < alpha:\n",
    "    print('Отвергаем нулевую гипотезу')\n",
    "else:\n",
    "    print('Не получилось отвергнуть нулевую гипотезу')"
   ]
  },
  {
   "cell_type": "markdown",
   "id": "c6d2b161",
   "metadata": {},
   "source": [
    "**Вывод:** Не получилось отвергнуть нулевую гипотезу, следовательно, среднее расстояние, которое проезжают пользователи с подпиской за одну поездку, не превышает 3130 метров"
   ]
  },
  {
   "cell_type": "markdown",
   "id": "57ed85fb",
   "metadata": {},
   "source": [
    "**6.3 Проверим гипотезу о том, будет ли помесячная выручка от пользователей с подпиской по месяцам выше, чем выручка от пользователей без подписки**"
   ]
  },
  {
   "cell_type": "markdown",
   "id": "f395178d",
   "metadata": {},
   "source": [
    "Нулевая гипотеза: помесячная выручка от пользователей с подпиской и без подписки равна.  \n",
    "Альтернативная гипотеза: помесячная выручка от пользователей с подпиской по месяцам выше, чем выручка от пользователей без подписки.  \n",
    "Используем двухвыборочный t-test для независимых выборок"
   ]
  },
  {
   "cell_type": "code",
   "execution_count": 80,
   "id": "f2c9cb03",
   "metadata": {},
   "outputs": [
    {
     "name": "stdout",
     "output_type": "stream",
     "text": [
      "p-значение: 8.874140893976874e-40\n",
      "Отвергаем нулевую гипотезу\n"
     ]
    }
   ],
   "source": [
    "monthly_revenue_free = data_agg[data_agg['subscription_fee'] == 0]['monthly_revenue'] #значения для пользователей без подписки\n",
    "monthly_revenue_ultra = data_agg[data_agg['subscription_fee'] > 0]['monthly_revenue'] #значения для пользователей с подпиской\n",
    "alpha = 0.05 #уровень статистической значимости\n",
    "#проверяем гипотезу о равенстве средних двух генеральных совокупностей\n",
    "results = st.ttest_ind(monthly_revenue_ultra,monthly_revenue_free,  equal_var=False, alternative='greater')\n",
    "print('p-значение:', results.pvalue)\n",
    "if results.pvalue < alpha:\n",
    "    print('Отвергаем нулевую гипотезу')\n",
    "else:\n",
    "    print('Не получилось отвергнуть нулевую гипотезу')"
   ]
  },
  {
   "cell_type": "markdown",
   "id": "e73f59d9",
   "metadata": {},
   "source": [
    "**Вывод:** Получилось отвергнуть нулевую гипотезу, следовательно, помесячная выручка от пользователей с подпиской по месяцам выше, чем выручка от пользователей без подписки"
   ]
  },
  {
   "cell_type": "markdown",
   "id": "7cc7a1b5",
   "metadata": {},
   "source": [
    "**6.4 Представим ситуацию: техническая команда сервиса обновила сервера, с которыми взаимодействует мобильное приложение. Она надеется, что из-за этого количество обращений в техподдержку значимо снизилось. Некоторый файл содержит для каждого пользователя данные о количестве обращений до обновления и после него. Какой тест нам понадобился бы для проверки этой гипотезы?**"
   ]
  },
  {
   "cell_type": "markdown",
   "id": "3faeee04",
   "metadata": {},
   "source": [
    "Нулевая гипотеза: количество обращений в техподдержку до и после обновлений равно  \n",
    "Альтернативная гипотеза: количество обращений в техподдержку значимо снизилось  \n",
    "Для этой гипотезы нам понадобился бы двухвыборочный t-test для зависимых (парных) выборок:  st.ttest_rel(before, after) - в параметрах указываем набор данных до и после обновлений"
   ]
  },
  {
   "cell_type": "markdown",
   "id": "9ead5c83",
   "metadata": {},
   "source": [
    "**Общий вывод:**  \n",
    "Для анализа были получены три датафрейма с данными о пользователях, поездках и типах подписки сервиса GoFast. На этапе предобработки данных были найдены, изучены и, по возможности, устранены пропуски, дубликаты, преобразованы типы данных. В представленных датафреймах можем наблюдать данные о пользователях из 8 городов. Максимальное количество пользователей (219) из Пятигорска, второй по численности (204) – Екатеринбург. Минимальное количество пользователей (168) из Москвы.  \n",
    "Большую часть пользователей составили пользователи без подписки (835), пользователей с подпиской 699. Минимальный возраст пользователя 12 лет, максимальный – 43 года. По медиане (25) и среднему (24,9) видно, что возраст большей части пользователей около 25 лет. Большинство пользователей совершает поездки на расстояние около 3000 м. В среднем пользователи тратят на поездку 17-18 минут (среднее 17.8, медиана 17,6).  \n",
    "Изученные данные позволили составить портрет среднестатистического пользователя сервиса GoFast: возраст около 25 лет, проживает в Пятигорске или Екатеринбурге, не пользуется платной подпиской, совершает поездки на расстояние около 3000 м и тратит на них 17-18 минут.  \n",
    "Если рассматривать разницу расстояния и времени для пользователей без подписки и с подпиской, картина выглядит следующим образом:  \n",
    "Пользователи без подписки в среднем тратят 17.3 минуты на расстояние около 3000 м, при этом и для времени, и для расстояния минимальные значения у них меньше, а максимальные больше, чем у пользователей с подпиской.  \n",
    "Пользователи с подпиской в среднем тратят 18 минут на расстояние около 3100 м, при этом и для времени, и для расстояния минимальные значения у них больше, а максимальные меньше, чем у пользователей без подписки.  \n",
    "Далее был создан датафрейм с агрегированными данными о поездках, включающий в себя суммарное расстояние, количество поездок и суммарное время для каждого пользователя за каждый месяц), в этот же датафрейм добавлен столбец с рассчитанной помесячной выручкой, которую принёс каждый пользователь.  \n",
    "Наконец, было проведено три t-теста на проверку гипотез:  \n",
    "1) В первом случае был использован двухвыборочный t-test для независимых выборок для проверки (нулевой) гипотезы о том, что средняя продолжительность поездок для пользователей с подпиской и без подписки равна, (альтернативная гипотеза заключалась в том, что пользователи с подпиской тратят больше времени на поездки). Нулевая гипотеза была отвергнута. \n",
    "2) Далее был использован одновыборочный t-test о равенстве среднего генеральной совокупности числу для проверки гипотезы о том, что среднее расстояние, которое проезжают пользователи с подпиской за одну поездку, равно 3130 метров, (альтернативная гипотеза: среднее расстояние, которое проезжают пользователи с подпиской за одну поездку, превышает 3130 метров). Нулевую гипотезу отвергнуть не удалось.  \n",
    "3) Затем был использован двухвыборочный t-test для независимых выборок для проверки гипотезы о том, что помесячная выручка от пользователей с подпиской и без подписки равна, (альтернативная гипотеза: помесячная выручка от пользователей с подпиской по месяцам выше, чем выручка от пользователей без подписки). Не получилось отвергнуть нулевую гипотезу.  \n",
    "\n",
    "Исходя из проведенной проверки гипотез, можно сделать вывод, что пользователи с подпиской для компании выгоднее, т.к тратят на поездки больше времени. С одной стороны бизнесу стоит сосредоточиться на распространении платной подписки среди клиентов без подписки, чтобы увеличить прибыль в данном сегменте. С другой стороны, среди пользователей без подписки больше минимальных значений по времени и расстоянию, следовательно, они стремятся как можно быстрее завершить поездку, чтобы сэкономить. Возможно, стоит также пересмотреть условия в тарифе без подписки, чтобы эти клиенты были более заинтересованы в длительных поездках и, как следствие, тратили больше денег.\n"
   ]
  }
 ],
 "metadata": {
  "ExecuteTimeLog": [
   {
    "duration": 46,
    "start_time": "2024-04-27T08:44:03.312Z"
   },
   {
    "duration": 1290,
    "start_time": "2024-04-27T08:44:14.756Z"
   },
   {
    "duration": 105,
    "start_time": "2024-04-27T08:44:17.476Z"
   },
   {
    "duration": 184,
    "start_time": "2024-04-27T08:44:19.028Z"
   },
   {
    "duration": 82,
    "start_time": "2024-04-27T08:44:20.959Z"
   },
   {
    "duration": 14,
    "start_time": "2024-04-27T08:45:40.833Z"
   },
   {
    "duration": 11,
    "start_time": "2024-04-27T08:45:44.909Z"
   },
   {
    "duration": 7,
    "start_time": "2024-04-27T08:45:48.484Z"
   },
   {
    "duration": 7,
    "start_time": "2024-04-27T08:46:03.261Z"
   },
   {
    "duration": 10,
    "start_time": "2024-04-27T08:46:12.068Z"
   },
   {
    "duration": 9,
    "start_time": "2024-04-27T08:46:49.804Z"
   },
   {
    "duration": 8,
    "start_time": "2024-04-27T08:46:58.492Z"
   },
   {
    "duration": 9,
    "start_time": "2024-04-27T08:47:06.850Z"
   },
   {
    "duration": 8,
    "start_time": "2024-04-27T08:47:10.518Z"
   },
   {
    "duration": 9,
    "start_time": "2024-04-27T08:47:53.552Z"
   },
   {
    "duration": 11,
    "start_time": "2024-04-27T08:48:03.234Z"
   },
   {
    "duration": 9,
    "start_time": "2024-04-27T08:48:13.729Z"
   },
   {
    "duration": 49,
    "start_time": "2024-04-27T16:14:49.007Z"
   },
   {
    "duration": 1272,
    "start_time": "2024-04-27T16:15:08.677Z"
   },
   {
    "duration": 107,
    "start_time": "2024-04-27T16:15:09.950Z"
   },
   {
    "duration": 144,
    "start_time": "2024-04-27T16:15:10.059Z"
   },
   {
    "duration": 71,
    "start_time": "2024-04-27T16:15:10.206Z"
   },
   {
    "duration": 12,
    "start_time": "2024-04-27T16:15:10.278Z"
   },
   {
    "duration": 11,
    "start_time": "2024-04-27T16:15:10.292Z"
   },
   {
    "duration": 16,
    "start_time": "2024-04-27T16:15:10.304Z"
   },
   {
    "duration": 11,
    "start_time": "2024-04-27T16:15:10.322Z"
   },
   {
    "duration": 7,
    "start_time": "2024-04-27T16:15:10.334Z"
   },
   {
    "duration": 11,
    "start_time": "2024-04-27T16:15:10.343Z"
   },
   {
    "duration": 90,
    "start_time": "2024-04-27T16:15:10.355Z"
   },
   {
    "duration": 73,
    "start_time": "2024-04-27T16:17:29.877Z"
   },
   {
    "duration": 6,
    "start_time": "2024-04-27T16:18:48.396Z"
   },
   {
    "duration": 9,
    "start_time": "2024-04-27T16:18:57.682Z"
   },
   {
    "duration": 10,
    "start_time": "2024-04-27T16:20:01.736Z"
   },
   {
    "duration": 5,
    "start_time": "2024-04-27T16:21:40.136Z"
   },
   {
    "duration": 8,
    "start_time": "2024-04-27T16:21:54.660Z"
   },
   {
    "duration": 7,
    "start_time": "2024-04-27T16:24:01.605Z"
   },
   {
    "duration": 6,
    "start_time": "2024-04-27T16:24:13.452Z"
   },
   {
    "duration": 94,
    "start_time": "2024-04-27T16:24:23.736Z"
   },
   {
    "duration": 6,
    "start_time": "2024-04-27T16:24:28.306Z"
   },
   {
    "duration": 6,
    "start_time": "2024-04-27T16:27:10.999Z"
   },
   {
    "duration": 9,
    "start_time": "2024-04-27T16:27:23.405Z"
   },
   {
    "duration": 4,
    "start_time": "2024-04-27T16:27:31.636Z"
   },
   {
    "duration": 5,
    "start_time": "2024-04-27T16:31:15.530Z"
   },
   {
    "duration": 12,
    "start_time": "2024-04-27T16:31:24.362Z"
   },
   {
    "duration": 7,
    "start_time": "2024-04-27T16:33:35.338Z"
   },
   {
    "duration": 6,
    "start_time": "2024-04-27T16:33:50.474Z"
   },
   {
    "duration": 8,
    "start_time": "2024-04-27T16:34:00.830Z"
   },
   {
    "duration": 10,
    "start_time": "2024-04-27T16:34:04.796Z"
   },
   {
    "duration": 6,
    "start_time": "2024-04-27T16:34:31.089Z"
   },
   {
    "duration": 11,
    "start_time": "2024-04-27T16:39:10.476Z"
   },
   {
    "duration": 14,
    "start_time": "2024-04-27T20:46:31.200Z"
   },
   {
    "duration": 6,
    "start_time": "2024-04-27T20:47:20.985Z"
   },
   {
    "duration": 163,
    "start_time": "2024-04-27T20:51:01.726Z"
   },
   {
    "duration": 6,
    "start_time": "2024-04-27T20:57:24.429Z"
   },
   {
    "duration": 115,
    "start_time": "2024-04-27T20:58:19.522Z"
   },
   {
    "duration": 8,
    "start_time": "2024-04-27T20:59:37.483Z"
   },
   {
    "duration": 102,
    "start_time": "2024-04-27T21:00:16.515Z"
   },
   {
    "duration": 143,
    "start_time": "2024-04-27T21:01:43.586Z"
   },
   {
    "duration": 8,
    "start_time": "2024-04-27T21:03:15.775Z"
   },
   {
    "duration": 103,
    "start_time": "2024-04-27T21:04:00.200Z"
   },
   {
    "duration": 8,
    "start_time": "2024-04-27T21:04:12.876Z"
   },
   {
    "duration": 117,
    "start_time": "2024-04-27T21:04:30.727Z"
   },
   {
    "duration": 141,
    "start_time": "2024-04-27T21:05:55.727Z"
   },
   {
    "duration": 135,
    "start_time": "2024-04-27T21:07:29.853Z"
   },
   {
    "duration": 46,
    "start_time": "2024-04-28T17:16:23.973Z"
   },
   {
    "duration": 1245,
    "start_time": "2024-04-28T17:16:32.913Z"
   },
   {
    "duration": 107,
    "start_time": "2024-04-28T17:16:34.160Z"
   },
   {
    "duration": 142,
    "start_time": "2024-04-28T17:16:34.268Z"
   },
   {
    "duration": 71,
    "start_time": "2024-04-28T17:16:34.412Z"
   },
   {
    "duration": 12,
    "start_time": "2024-04-28T17:16:34.485Z"
   },
   {
    "duration": 11,
    "start_time": "2024-04-28T17:16:34.499Z"
   },
   {
    "duration": 20,
    "start_time": "2024-04-28T17:16:34.512Z"
   },
   {
    "duration": 24,
    "start_time": "2024-04-28T17:16:34.533Z"
   },
   {
    "duration": 36,
    "start_time": "2024-04-28T17:16:34.558Z"
   },
   {
    "duration": 41,
    "start_time": "2024-04-28T17:16:34.597Z"
   },
   {
    "duration": 22,
    "start_time": "2024-04-28T17:16:34.639Z"
   },
   {
    "duration": 27,
    "start_time": "2024-04-28T17:16:34.662Z"
   },
   {
    "duration": 11,
    "start_time": "2024-04-28T17:16:34.691Z"
   },
   {
    "duration": 21,
    "start_time": "2024-04-28T17:16:34.704Z"
   },
   {
    "duration": 16,
    "start_time": "2024-04-28T17:16:34.727Z"
   },
   {
    "duration": 31,
    "start_time": "2024-04-28T17:16:34.745Z"
   },
   {
    "duration": 14,
    "start_time": "2024-04-28T17:16:34.777Z"
   },
   {
    "duration": 18,
    "start_time": "2024-04-28T17:16:34.792Z"
   },
   {
    "duration": 47,
    "start_time": "2024-04-28T17:16:34.812Z"
   },
   {
    "duration": 29,
    "start_time": "2024-04-28T17:16:34.861Z"
   },
   {
    "duration": 28,
    "start_time": "2024-04-28T17:16:34.892Z"
   },
   {
    "duration": 37,
    "start_time": "2024-04-28T17:16:34.921Z"
   },
   {
    "duration": 23,
    "start_time": "2024-04-28T17:16:34.960Z"
   },
   {
    "duration": 14,
    "start_time": "2024-04-28T17:16:34.984Z"
   },
   {
    "duration": 22,
    "start_time": "2024-04-28T17:16:35.000Z"
   },
   {
    "duration": 159,
    "start_time": "2024-04-28T17:16:35.024Z"
   },
   {
    "duration": 9,
    "start_time": "2024-04-28T17:16:35.185Z"
   },
   {
    "duration": 129,
    "start_time": "2024-04-28T17:16:35.197Z"
   },
   {
    "duration": 8,
    "start_time": "2024-04-28T17:16:35.328Z"
   },
   {
    "duration": 121,
    "start_time": "2024-04-28T17:16:35.338Z"
   },
   {
    "duration": 157,
    "start_time": "2024-04-28T17:16:35.461Z"
   },
   {
    "duration": 8,
    "start_time": "2024-04-28T17:16:35.620Z"
   },
   {
    "duration": 121,
    "start_time": "2024-04-28T17:16:35.630Z"
   },
   {
    "duration": 157,
    "start_time": "2024-04-28T17:16:35.753Z"
   },
   {
    "duration": 178,
    "start_time": "2024-04-28T17:16:35.912Z"
   },
   {
    "duration": 10,
    "start_time": "2024-04-28T17:16:36.092Z"
   },
   {
    "duration": 153,
    "start_time": "2024-04-28T17:16:36.104Z"
   },
   {
    "duration": 154,
    "start_time": "2024-04-28T17:16:36.259Z"
   },
   {
    "duration": 245,
    "start_time": "2024-04-28T17:16:51.500Z"
   },
   {
    "duration": 10,
    "start_time": "2024-04-28T17:23:45.656Z"
   },
   {
    "duration": 17,
    "start_time": "2024-04-28T17:23:56.532Z"
   },
   {
    "duration": 24,
    "start_time": "2024-04-28T17:24:04.110Z"
   },
   {
    "duration": 24,
    "start_time": "2024-04-28T17:24:29.942Z"
   },
   {
    "duration": 1072,
    "start_time": "2024-04-28T17:24:53.580Z"
   },
   {
    "duration": 29,
    "start_time": "2024-04-28T17:24:54.654Z"
   },
   {
    "duration": 47,
    "start_time": "2024-04-28T17:24:54.685Z"
   },
   {
    "duration": 17,
    "start_time": "2024-04-28T17:24:54.734Z"
   },
   {
    "duration": 17,
    "start_time": "2024-04-28T17:24:54.753Z"
   },
   {
    "duration": 46,
    "start_time": "2024-04-28T17:24:54.772Z"
   },
   {
    "duration": 31,
    "start_time": "2024-04-28T17:24:54.819Z"
   },
   {
    "duration": 32,
    "start_time": "2024-04-28T17:24:54.851Z"
   },
   {
    "duration": 34,
    "start_time": "2024-04-28T17:24:54.884Z"
   },
   {
    "duration": 22,
    "start_time": "2024-04-28T17:24:54.921Z"
   },
   {
    "duration": 22,
    "start_time": "2024-04-28T17:24:54.944Z"
   },
   {
    "duration": 46,
    "start_time": "2024-04-28T17:24:54.968Z"
   },
   {
    "duration": 12,
    "start_time": "2024-04-28T17:24:55.016Z"
   },
   {
    "duration": 41,
    "start_time": "2024-04-28T17:24:55.030Z"
   },
   {
    "duration": 29,
    "start_time": "2024-04-28T17:24:55.072Z"
   },
   {
    "duration": 35,
    "start_time": "2024-04-28T17:24:55.102Z"
   },
   {
    "duration": 23,
    "start_time": "2024-04-28T17:24:55.138Z"
   },
   {
    "duration": 21,
    "start_time": "2024-04-28T17:24:55.163Z"
   },
   {
    "duration": 19,
    "start_time": "2024-04-28T17:24:55.186Z"
   },
   {
    "duration": 5,
    "start_time": "2024-04-28T17:24:55.206Z"
   },
   {
    "duration": 30,
    "start_time": "2024-04-28T17:24:55.213Z"
   },
   {
    "duration": 18,
    "start_time": "2024-04-28T17:24:55.244Z"
   },
   {
    "duration": 17,
    "start_time": "2024-04-28T17:24:55.263Z"
   },
   {
    "duration": 18,
    "start_time": "2024-04-28T17:24:55.281Z"
   },
   {
    "duration": 22,
    "start_time": "2024-04-28T17:24:55.301Z"
   },
   {
    "duration": 157,
    "start_time": "2024-04-28T17:24:55.325Z"
   },
   {
    "duration": 6,
    "start_time": "2024-04-28T17:24:55.484Z"
   },
   {
    "duration": 144,
    "start_time": "2024-04-28T17:24:55.493Z"
   },
   {
    "duration": 7,
    "start_time": "2024-04-28T17:24:55.638Z"
   },
   {
    "duration": 94,
    "start_time": "2024-04-28T17:24:55.647Z"
   },
   {
    "duration": 148,
    "start_time": "2024-04-28T17:24:55.742Z"
   },
   {
    "duration": 7,
    "start_time": "2024-04-28T17:24:55.894Z"
   },
   {
    "duration": 118,
    "start_time": "2024-04-28T17:24:55.902Z"
   },
   {
    "duration": 156,
    "start_time": "2024-04-28T17:24:56.022Z"
   },
   {
    "duration": 181,
    "start_time": "2024-04-28T17:24:56.179Z"
   },
   {
    "duration": 10,
    "start_time": "2024-04-28T17:24:56.361Z"
   },
   {
    "duration": 150,
    "start_time": "2024-04-28T17:24:56.372Z"
   },
   {
    "duration": 148,
    "start_time": "2024-04-28T17:24:56.524Z"
   },
   {
    "duration": 45,
    "start_time": "2024-04-28T17:24:56.673Z"
   },
   {
    "duration": 25,
    "start_time": "2024-04-28T17:25:15.151Z"
   },
   {
    "duration": 19,
    "start_time": "2024-04-28T17:25:22.338Z"
   },
   {
    "duration": 89,
    "start_time": "2024-04-28T17:28:49.767Z"
   },
   {
    "duration": 6,
    "start_time": "2024-04-28T17:29:18.512Z"
   },
   {
    "duration": 48,
    "start_time": "2024-04-28T17:41:37.161Z"
   },
   {
    "duration": 8,
    "start_time": "2024-04-28T17:43:24.803Z"
   },
   {
    "duration": 76,
    "start_time": "2024-04-28T17:44:30.824Z"
   },
   {
    "duration": 19,
    "start_time": "2024-04-28T17:56:50.587Z"
   },
   {
    "duration": 14,
    "start_time": "2024-04-28T17:57:00.388Z"
   },
   {
    "duration": 14,
    "start_time": "2024-04-28T17:57:09.375Z"
   },
   {
    "duration": 13,
    "start_time": "2024-04-28T17:57:35.248Z"
   },
   {
    "duration": 9,
    "start_time": "2024-04-28T18:51:48.970Z"
   },
   {
    "duration": 8,
    "start_time": "2024-04-28T18:51:58.812Z"
   },
   {
    "duration": 7,
    "start_time": "2024-04-28T18:52:10.882Z"
   },
   {
    "duration": 7,
    "start_time": "2024-04-28T18:52:29.022Z"
   },
   {
    "duration": 18,
    "start_time": "2024-04-28T18:52:50.493Z"
   },
   {
    "duration": 12,
    "start_time": "2024-04-28T18:53:17.432Z"
   },
   {
    "duration": 15,
    "start_time": "2024-04-28T18:53:26.718Z"
   },
   {
    "duration": 16,
    "start_time": "2024-04-28T18:53:38.992Z"
   },
   {
    "duration": 110,
    "start_time": "2024-04-28T18:55:01.127Z"
   },
   {
    "duration": 100,
    "start_time": "2024-04-28T18:55:06.469Z"
   },
   {
    "duration": 90,
    "start_time": "2024-04-28T18:55:29.356Z"
   },
   {
    "duration": 101,
    "start_time": "2024-04-28T18:55:35.970Z"
   },
   {
    "duration": 138,
    "start_time": "2024-04-28T18:56:48.278Z"
   },
   {
    "duration": 139,
    "start_time": "2024-04-28T18:57:02.505Z"
   },
   {
    "duration": 165,
    "start_time": "2024-04-28T18:57:28.035Z"
   },
   {
    "duration": 154,
    "start_time": "2024-04-28T18:58:16.283Z"
   },
   {
    "duration": 175,
    "start_time": "2024-04-28T18:58:31.850Z"
   },
   {
    "duration": 156,
    "start_time": "2024-04-28T18:59:29.135Z"
   },
   {
    "duration": 134,
    "start_time": "2024-04-28T18:59:42.255Z"
   },
   {
    "duration": 245,
    "start_time": "2024-04-28T18:59:58.987Z"
   },
   {
    "duration": 4,
    "start_time": "2024-04-28T19:08:09.761Z"
   },
   {
    "duration": 27,
    "start_time": "2024-04-28T19:12:04.296Z"
   },
   {
    "duration": 17,
    "start_time": "2024-04-28T19:12:15.831Z"
   },
   {
    "duration": 14,
    "start_time": "2024-04-28T19:12:24.190Z"
   },
   {
    "duration": 1103,
    "start_time": "2024-04-28T19:12:38.937Z"
   },
   {
    "duration": 29,
    "start_time": "2024-04-28T19:12:40.042Z"
   },
   {
    "duration": 28,
    "start_time": "2024-04-28T19:12:40.073Z"
   },
   {
    "duration": 15,
    "start_time": "2024-04-28T19:12:40.103Z"
   },
   {
    "duration": 32,
    "start_time": "2024-04-28T19:12:40.119Z"
   },
   {
    "duration": 20,
    "start_time": "2024-04-28T19:12:40.153Z"
   },
   {
    "duration": 12,
    "start_time": "2024-04-28T19:12:40.174Z"
   },
   {
    "duration": 20,
    "start_time": "2024-04-28T19:12:40.188Z"
   },
   {
    "duration": 15,
    "start_time": "2024-04-28T19:12:40.210Z"
   },
   {
    "duration": 10,
    "start_time": "2024-04-28T19:12:40.228Z"
   },
   {
    "duration": 9,
    "start_time": "2024-04-28T19:12:40.239Z"
   },
   {
    "duration": 9,
    "start_time": "2024-04-28T19:12:40.249Z"
   },
   {
    "duration": 6,
    "start_time": "2024-04-28T19:12:40.260Z"
   },
   {
    "duration": 9,
    "start_time": "2024-04-28T19:12:40.268Z"
   },
   {
    "duration": 18,
    "start_time": "2024-04-28T19:12:40.278Z"
   },
   {
    "duration": 6,
    "start_time": "2024-04-28T19:12:40.298Z"
   },
   {
    "duration": 43,
    "start_time": "2024-04-28T19:12:40.307Z"
   },
   {
    "duration": 15,
    "start_time": "2024-04-28T19:12:40.352Z"
   },
   {
    "duration": 16,
    "start_time": "2024-04-28T19:12:40.368Z"
   },
   {
    "duration": 5,
    "start_time": "2024-04-28T19:12:40.385Z"
   },
   {
    "duration": 15,
    "start_time": "2024-04-28T19:12:40.391Z"
   },
   {
    "duration": 5,
    "start_time": "2024-04-28T19:12:40.407Z"
   },
   {
    "duration": 7,
    "start_time": "2024-04-28T19:12:40.413Z"
   },
   {
    "duration": 3,
    "start_time": "2024-04-28T19:12:40.422Z"
   },
   {
    "duration": 27,
    "start_time": "2024-04-28T19:12:40.427Z"
   },
   {
    "duration": 157,
    "start_time": "2024-04-28T19:12:40.456Z"
   },
   {
    "duration": 5,
    "start_time": "2024-04-28T19:12:40.615Z"
   },
   {
    "duration": 128,
    "start_time": "2024-04-28T19:12:40.623Z"
   },
   {
    "duration": 7,
    "start_time": "2024-04-28T19:12:40.753Z"
   },
   {
    "duration": 97,
    "start_time": "2024-04-28T19:12:40.761Z"
   },
   {
    "duration": 149,
    "start_time": "2024-04-28T19:12:40.859Z"
   },
   {
    "duration": 8,
    "start_time": "2024-04-28T19:12:41.009Z"
   },
   {
    "duration": 116,
    "start_time": "2024-04-28T19:12:41.018Z"
   },
   {
    "duration": 155,
    "start_time": "2024-04-28T19:12:41.136Z"
   },
   {
    "duration": 211,
    "start_time": "2024-04-28T19:12:41.294Z"
   },
   {
    "duration": 9,
    "start_time": "2024-04-28T19:12:41.508Z"
   },
   {
    "duration": 126,
    "start_time": "2024-04-28T19:12:41.524Z"
   },
   {
    "duration": 151,
    "start_time": "2024-04-28T19:12:41.651Z"
   },
   {
    "duration": 24,
    "start_time": "2024-04-28T19:12:41.803Z"
   },
   {
    "duration": 18,
    "start_time": "2024-04-28T19:12:41.829Z"
   },
   {
    "duration": 11,
    "start_time": "2024-04-28T19:12:41.849Z"
   },
   {
    "duration": 33,
    "start_time": "2024-04-28T19:12:41.861Z"
   },
   {
    "duration": 77,
    "start_time": "2024-04-28T19:12:41.896Z"
   },
   {
    "duration": 20,
    "start_time": "2024-04-28T19:12:41.974Z"
   },
   {
    "duration": 111,
    "start_time": "2024-04-28T19:12:41.996Z"
   },
   {
    "duration": 158,
    "start_time": "2024-04-28T19:12:42.109Z"
   },
   {
    "duration": 185,
    "start_time": "2024-04-28T19:12:42.269Z"
   },
   {
    "duration": 9,
    "start_time": "2024-04-28T19:12:42.455Z"
   },
   {
    "duration": 121,
    "start_time": "2024-04-28T19:12:42.465Z"
   },
   {
    "duration": 160,
    "start_time": "2024-04-28T19:12:42.588Z"
   },
   {
    "duration": 10,
    "start_time": "2024-04-28T19:12:42.750Z"
   },
   {
    "duration": 96,
    "start_time": "2024-04-28T19:12:42.762Z"
   },
   {
    "duration": 157,
    "start_time": "2024-04-28T19:12:42.860Z"
   },
   {
    "duration": 166,
    "start_time": "2024-04-28T19:12:43.019Z"
   },
   {
    "duration": 13,
    "start_time": "2024-04-28T19:12:43.186Z"
   },
   {
    "duration": 128,
    "start_time": "2024-04-28T19:12:43.200Z"
   },
   {
    "duration": 159,
    "start_time": "2024-04-28T19:12:43.330Z"
   },
   {
    "duration": 3,
    "start_time": "2024-04-28T19:12:43.493Z"
   },
   {
    "duration": 106,
    "start_time": "2024-04-28T19:30:18.113Z"
   },
   {
    "duration": 8,
    "start_time": "2024-04-28T19:34:40.206Z"
   },
   {
    "duration": 1097,
    "start_time": "2024-04-28T19:34:54.945Z"
   },
   {
    "duration": 29,
    "start_time": "2024-04-28T19:34:56.043Z"
   },
   {
    "duration": 27,
    "start_time": "2024-04-28T19:34:56.074Z"
   },
   {
    "duration": 17,
    "start_time": "2024-04-28T19:34:56.102Z"
   },
   {
    "duration": 12,
    "start_time": "2024-04-28T19:34:56.120Z"
   },
   {
    "duration": 28,
    "start_time": "2024-04-28T19:34:56.133Z"
   },
   {
    "duration": 47,
    "start_time": "2024-04-28T19:34:56.162Z"
   },
   {
    "duration": 26,
    "start_time": "2024-04-28T19:34:56.211Z"
   },
   {
    "duration": 33,
    "start_time": "2024-04-28T19:34:56.238Z"
   },
   {
    "duration": 29,
    "start_time": "2024-04-28T19:34:56.273Z"
   },
   {
    "duration": 22,
    "start_time": "2024-04-28T19:34:56.304Z"
   },
   {
    "duration": 23,
    "start_time": "2024-04-28T19:34:56.327Z"
   },
   {
    "duration": 13,
    "start_time": "2024-04-28T19:34:56.351Z"
   },
   {
    "duration": 29,
    "start_time": "2024-04-28T19:34:56.365Z"
   },
   {
    "duration": 10,
    "start_time": "2024-04-28T19:34:56.395Z"
   },
   {
    "duration": 26,
    "start_time": "2024-04-28T19:34:56.407Z"
   },
   {
    "duration": 27,
    "start_time": "2024-04-28T19:34:56.434Z"
   },
   {
    "duration": 14,
    "start_time": "2024-04-28T19:34:56.463Z"
   },
   {
    "duration": 26,
    "start_time": "2024-04-28T19:34:56.478Z"
   },
   {
    "duration": 5,
    "start_time": "2024-04-28T19:34:56.506Z"
   },
   {
    "duration": 11,
    "start_time": "2024-04-28T19:34:56.513Z"
   },
   {
    "duration": 19,
    "start_time": "2024-04-28T19:34:56.526Z"
   },
   {
    "duration": 30,
    "start_time": "2024-04-28T19:34:56.546Z"
   },
   {
    "duration": 29,
    "start_time": "2024-04-28T19:34:56.577Z"
   },
   {
    "duration": 26,
    "start_time": "2024-04-28T19:34:56.607Z"
   },
   {
    "duration": 171,
    "start_time": "2024-04-28T19:34:56.634Z"
   },
   {
    "duration": 5,
    "start_time": "2024-04-28T19:34:56.806Z"
   },
   {
    "duration": 131,
    "start_time": "2024-04-28T19:34:56.815Z"
   },
   {
    "duration": 7,
    "start_time": "2024-04-28T19:34:56.948Z"
   },
   {
    "duration": 108,
    "start_time": "2024-04-28T19:34:56.956Z"
   },
   {
    "duration": 153,
    "start_time": "2024-04-28T19:34:57.066Z"
   },
   {
    "duration": 8,
    "start_time": "2024-04-28T19:34:57.220Z"
   },
   {
    "duration": 130,
    "start_time": "2024-04-28T19:34:57.229Z"
   },
   {
    "duration": 170,
    "start_time": "2024-04-28T19:34:57.361Z"
   },
   {
    "duration": 206,
    "start_time": "2024-04-28T19:34:57.533Z"
   },
   {
    "duration": 9,
    "start_time": "2024-04-28T19:34:57.740Z"
   },
   {
    "duration": 120,
    "start_time": "2024-04-28T19:34:57.750Z"
   },
   {
    "duration": 147,
    "start_time": "2024-04-28T19:34:57.871Z"
   },
   {
    "duration": 25,
    "start_time": "2024-04-28T19:34:58.020Z"
   },
   {
    "duration": 16,
    "start_time": "2024-04-28T19:34:58.046Z"
   },
   {
    "duration": 31,
    "start_time": "2024-04-28T19:34:58.063Z"
   },
   {
    "duration": 14,
    "start_time": "2024-04-28T19:34:58.095Z"
   },
   {
    "duration": 83,
    "start_time": "2024-04-28T19:34:58.111Z"
   },
   {
    "duration": 9,
    "start_time": "2024-04-28T19:34:58.195Z"
   },
   {
    "duration": 125,
    "start_time": "2024-04-28T19:34:58.205Z"
   },
   {
    "duration": 162,
    "start_time": "2024-04-28T19:34:58.332Z"
   },
   {
    "duration": 188,
    "start_time": "2024-04-28T19:34:58.495Z"
   },
   {
    "duration": 12,
    "start_time": "2024-04-28T19:34:58.684Z"
   },
   {
    "duration": 105,
    "start_time": "2024-04-28T19:34:58.697Z"
   },
   {
    "duration": 160,
    "start_time": "2024-04-28T19:34:58.803Z"
   },
   {
    "duration": 9,
    "start_time": "2024-04-28T19:34:58.965Z"
   },
   {
    "duration": 130,
    "start_time": "2024-04-28T19:34:58.976Z"
   },
   {
    "duration": 143,
    "start_time": "2024-04-28T19:34:59.107Z"
   },
   {
    "duration": 160,
    "start_time": "2024-04-28T19:34:59.252Z"
   },
   {
    "duration": 8,
    "start_time": "2024-04-28T19:34:59.413Z"
   },
   {
    "duration": 113,
    "start_time": "2024-04-28T19:34:59.422Z"
   },
   {
    "duration": 159,
    "start_time": "2024-04-28T19:34:59.536Z"
   },
   {
    "duration": 41,
    "start_time": "2024-04-28T19:34:59.697Z"
   },
   {
    "duration": 3,
    "start_time": "2024-04-28T19:34:59.739Z"
   },
   {
    "duration": 110,
    "start_time": "2024-04-28T19:34:59.743Z"
   },
   {
    "duration": 11,
    "start_time": "2024-04-28T19:35:33.700Z"
   },
   {
    "duration": 22,
    "start_time": "2024-04-28T19:36:57.956Z"
   },
   {
    "duration": 1115,
    "start_time": "2024-04-28T19:38:32.248Z"
   },
   {
    "duration": 30,
    "start_time": "2024-04-28T19:38:33.364Z"
   },
   {
    "duration": 45,
    "start_time": "2024-04-28T19:38:33.395Z"
   },
   {
    "duration": 26,
    "start_time": "2024-04-28T19:38:33.442Z"
   },
   {
    "duration": 58,
    "start_time": "2024-04-28T19:38:33.470Z"
   },
   {
    "duration": 17,
    "start_time": "2024-04-28T19:38:33.530Z"
   },
   {
    "duration": 51,
    "start_time": "2024-04-28T19:38:33.549Z"
   },
   {
    "duration": 53,
    "start_time": "2024-04-28T19:38:33.602Z"
   },
   {
    "duration": 28,
    "start_time": "2024-04-28T19:38:33.657Z"
   },
   {
    "duration": 39,
    "start_time": "2024-04-28T19:38:33.688Z"
   },
   {
    "duration": 26,
    "start_time": "2024-04-28T19:38:33.728Z"
   },
   {
    "duration": 58,
    "start_time": "2024-04-28T19:38:33.755Z"
   },
   {
    "duration": 106,
    "start_time": "2024-04-28T19:38:33.814Z"
   },
   {
    "duration": 159,
    "start_time": "2024-04-28T19:38:33.921Z"
   },
   {
    "duration": 59,
    "start_time": "2024-04-28T19:38:34.082Z"
   },
   {
    "duration": 24,
    "start_time": "2024-04-28T19:38:34.142Z"
   },
   {
    "duration": 22,
    "start_time": "2024-04-28T19:38:34.167Z"
   },
   {
    "duration": 22,
    "start_time": "2024-04-28T19:38:34.191Z"
   },
   {
    "duration": 19,
    "start_time": "2024-04-28T19:38:34.214Z"
   },
   {
    "duration": 4,
    "start_time": "2024-04-28T19:38:34.235Z"
   },
   {
    "duration": 19,
    "start_time": "2024-04-28T19:38:34.241Z"
   },
   {
    "duration": 11,
    "start_time": "2024-04-28T19:38:34.261Z"
   },
   {
    "duration": 36,
    "start_time": "2024-04-28T19:38:34.273Z"
   },
   {
    "duration": 32,
    "start_time": "2024-04-28T19:38:34.311Z"
   },
   {
    "duration": 29,
    "start_time": "2024-04-28T19:38:34.344Z"
   },
   {
    "duration": 153,
    "start_time": "2024-04-28T19:38:34.375Z"
   },
   {
    "duration": 6,
    "start_time": "2024-04-28T19:38:34.529Z"
   },
   {
    "duration": 176,
    "start_time": "2024-04-28T19:38:34.539Z"
   },
   {
    "duration": 9,
    "start_time": "2024-04-28T19:38:34.717Z"
   },
   {
    "duration": 100,
    "start_time": "2024-04-28T19:38:34.728Z"
   },
   {
    "duration": 167,
    "start_time": "2024-04-28T19:38:34.830Z"
   },
   {
    "duration": 9,
    "start_time": "2024-04-28T19:38:34.999Z"
   },
   {
    "duration": 181,
    "start_time": "2024-04-28T19:38:35.009Z"
   },
   {
    "duration": 152,
    "start_time": "2024-04-28T19:38:35.193Z"
   },
   {
    "duration": 202,
    "start_time": "2024-04-28T19:38:35.347Z"
   },
   {
    "duration": 8,
    "start_time": "2024-04-28T19:38:35.551Z"
   },
   {
    "duration": 157,
    "start_time": "2024-04-28T19:38:35.561Z"
   },
   {
    "duration": 140,
    "start_time": "2024-04-28T19:38:35.719Z"
   },
   {
    "duration": 24,
    "start_time": "2024-04-28T19:38:35.860Z"
   },
   {
    "duration": 37,
    "start_time": "2024-04-28T19:38:35.893Z"
   },
   {
    "duration": 41,
    "start_time": "2024-04-28T19:38:35.932Z"
   },
   {
    "duration": 54,
    "start_time": "2024-04-28T19:38:35.974Z"
   },
   {
    "duration": 96,
    "start_time": "2024-04-28T19:38:36.029Z"
   },
   {
    "duration": 8,
    "start_time": "2024-04-28T19:38:36.127Z"
   },
   {
    "duration": 151,
    "start_time": "2024-04-28T19:38:36.136Z"
   },
   {
    "duration": 153,
    "start_time": "2024-04-28T19:38:36.289Z"
   },
   {
    "duration": 181,
    "start_time": "2024-04-28T19:38:36.444Z"
   },
   {
    "duration": 8,
    "start_time": "2024-04-28T19:38:36.627Z"
   },
   {
    "duration": 113,
    "start_time": "2024-04-28T19:38:36.636Z"
   },
   {
    "duration": 147,
    "start_time": "2024-04-28T19:38:36.750Z"
   },
   {
    "duration": 8,
    "start_time": "2024-04-28T19:38:36.899Z"
   },
   {
    "duration": 124,
    "start_time": "2024-04-28T19:38:36.908Z"
   },
   {
    "duration": 142,
    "start_time": "2024-04-28T19:38:37.034Z"
   },
   {
    "duration": 164,
    "start_time": "2024-04-28T19:38:37.177Z"
   },
   {
    "duration": 8,
    "start_time": "2024-04-28T19:38:37.342Z"
   },
   {
    "duration": 118,
    "start_time": "2024-04-28T19:38:37.351Z"
   },
   {
    "duration": 175,
    "start_time": "2024-04-28T19:38:37.470Z"
   },
   {
    "duration": 52,
    "start_time": "2024-04-28T19:38:37.647Z"
   },
   {
    "duration": 28,
    "start_time": "2024-04-28T19:38:37.700Z"
   },
   {
    "duration": 111,
    "start_time": "2024-04-28T19:38:37.729Z"
   },
   {
    "duration": 346,
    "start_time": "2024-04-28T19:41:31.833Z"
   },
   {
    "duration": 316,
    "start_time": "2024-04-28T19:42:42.078Z"
   },
   {
    "duration": 3,
    "start_time": "2024-04-28T19:47:44.734Z"
   },
   {
    "duration": 18,
    "start_time": "2024-04-28T19:47:49.811Z"
   },
   {
    "duration": 39,
    "start_time": "2024-04-28T19:48:43.576Z"
   },
   {
    "duration": 20,
    "start_time": "2024-04-28T19:48:46.243Z"
   },
   {
    "duration": 3,
    "start_time": "2024-04-28T19:51:38.240Z"
   },
   {
    "duration": 17,
    "start_time": "2024-04-28T19:51:41.772Z"
   },
   {
    "duration": 11,
    "start_time": "2024-04-28T19:51:54.122Z"
   },
   {
    "duration": 56,
    "start_time": "2024-04-28T19:55:11.314Z"
   },
   {
    "duration": 3,
    "start_time": "2024-04-28T19:55:12.269Z"
   },
   {
    "duration": 18,
    "start_time": "2024-04-28T19:55:13.014Z"
   },
   {
    "duration": 1204,
    "start_time": "2024-04-28T20:06:46.870Z"
   },
   {
    "duration": 1177,
    "start_time": "2024-04-28T20:07:09.977Z"
   },
   {
    "duration": 30,
    "start_time": "2024-04-28T20:07:11.156Z"
   },
   {
    "duration": 29,
    "start_time": "2024-04-28T20:07:11.187Z"
   },
   {
    "duration": 16,
    "start_time": "2024-04-28T20:07:11.218Z"
   },
   {
    "duration": 16,
    "start_time": "2024-04-28T20:07:11.236Z"
   },
   {
    "duration": 15,
    "start_time": "2024-04-28T20:07:11.254Z"
   },
   {
    "duration": 24,
    "start_time": "2024-04-28T20:07:11.271Z"
   },
   {
    "duration": 14,
    "start_time": "2024-04-28T20:07:11.296Z"
   },
   {
    "duration": 8,
    "start_time": "2024-04-28T20:07:11.312Z"
   },
   {
    "duration": 24,
    "start_time": "2024-04-28T20:07:11.324Z"
   },
   {
    "duration": 21,
    "start_time": "2024-04-28T20:07:11.350Z"
   },
   {
    "duration": 20,
    "start_time": "2024-04-28T20:07:11.372Z"
   },
   {
    "duration": 16,
    "start_time": "2024-04-28T20:07:11.394Z"
   },
   {
    "duration": 33,
    "start_time": "2024-04-28T20:07:11.412Z"
   },
   {
    "duration": 48,
    "start_time": "2024-04-28T20:07:11.447Z"
   },
   {
    "duration": 9,
    "start_time": "2024-04-28T20:07:11.497Z"
   },
   {
    "duration": 29,
    "start_time": "2024-04-28T20:07:11.507Z"
   },
   {
    "duration": 21,
    "start_time": "2024-04-28T20:07:11.537Z"
   },
   {
    "duration": 20,
    "start_time": "2024-04-28T20:07:11.559Z"
   },
   {
    "duration": 41,
    "start_time": "2024-04-28T20:07:11.580Z"
   },
   {
    "duration": 16,
    "start_time": "2024-04-28T20:07:11.623Z"
   },
   {
    "duration": 34,
    "start_time": "2024-04-28T20:07:11.640Z"
   },
   {
    "duration": 15,
    "start_time": "2024-04-28T20:07:11.675Z"
   },
   {
    "duration": 4,
    "start_time": "2024-04-28T20:07:11.691Z"
   },
   {
    "duration": 15,
    "start_time": "2024-04-28T20:07:11.697Z"
   },
   {
    "duration": 172,
    "start_time": "2024-04-28T20:07:11.713Z"
   },
   {
    "duration": 5,
    "start_time": "2024-04-28T20:07:11.886Z"
   },
   {
    "duration": 142,
    "start_time": "2024-04-28T20:07:11.895Z"
   },
   {
    "duration": 7,
    "start_time": "2024-04-28T20:07:12.038Z"
   },
   {
    "duration": 125,
    "start_time": "2024-04-28T20:07:12.047Z"
   },
   {
    "duration": 150,
    "start_time": "2024-04-28T20:07:12.174Z"
   },
   {
    "duration": 8,
    "start_time": "2024-04-28T20:07:12.326Z"
   },
   {
    "duration": 129,
    "start_time": "2024-04-28T20:07:12.335Z"
   },
   {
    "duration": 173,
    "start_time": "2024-04-28T20:07:12.465Z"
   },
   {
    "duration": 192,
    "start_time": "2024-04-28T20:07:12.640Z"
   },
   {
    "duration": 8,
    "start_time": "2024-04-28T20:07:12.833Z"
   },
   {
    "duration": 135,
    "start_time": "2024-04-28T20:07:12.843Z"
   },
   {
    "duration": 142,
    "start_time": "2024-04-28T20:07:12.980Z"
   },
   {
    "duration": 24,
    "start_time": "2024-04-28T20:07:13.124Z"
   },
   {
    "duration": 15,
    "start_time": "2024-04-28T20:07:13.150Z"
   },
   {
    "duration": 34,
    "start_time": "2024-04-28T20:07:13.167Z"
   },
   {
    "duration": 15,
    "start_time": "2024-04-28T20:07:13.203Z"
   },
   {
    "duration": 106,
    "start_time": "2024-04-28T20:07:13.219Z"
   },
   {
    "duration": 7,
    "start_time": "2024-04-28T20:07:13.327Z"
   },
   {
    "duration": 111,
    "start_time": "2024-04-28T20:07:13.336Z"
   },
   {
    "duration": 159,
    "start_time": "2024-04-28T20:07:13.449Z"
   },
   {
    "duration": 188,
    "start_time": "2024-04-28T20:07:13.609Z"
   },
   {
    "duration": 8,
    "start_time": "2024-04-28T20:07:13.799Z"
   },
   {
    "duration": 146,
    "start_time": "2024-04-28T20:07:13.808Z"
   },
   {
    "duration": 174,
    "start_time": "2024-04-28T20:07:13.956Z"
   },
   {
    "duration": 9,
    "start_time": "2024-04-28T20:07:14.131Z"
   },
   {
    "duration": 107,
    "start_time": "2024-04-28T20:07:14.141Z"
   },
   {
    "duration": 145,
    "start_time": "2024-04-28T20:07:14.249Z"
   },
   {
    "duration": 168,
    "start_time": "2024-04-28T20:07:14.396Z"
   },
   {
    "duration": 8,
    "start_time": "2024-04-28T20:07:14.565Z"
   },
   {
    "duration": 110,
    "start_time": "2024-04-28T20:07:14.575Z"
   },
   {
    "duration": 173,
    "start_time": "2024-04-28T20:07:14.687Z"
   },
   {
    "duration": 71,
    "start_time": "2024-04-28T20:07:14.862Z"
   },
   {
    "duration": 3,
    "start_time": "2024-04-28T20:07:14.935Z"
   },
   {
    "duration": 19,
    "start_time": "2024-04-28T20:07:14.939Z"
   },
   {
    "duration": 1274,
    "start_time": "2024-04-28T20:07:14.960Z"
   },
   {
    "duration": 0,
    "start_time": "2024-04-28T20:07:16.235Z"
   },
   {
    "duration": 5,
    "start_time": "2024-04-28T20:08:55.247Z"
   },
   {
    "duration": 12,
    "start_time": "2024-04-28T20:09:25.872Z"
   },
   {
    "duration": 1094,
    "start_time": "2024-04-28T20:13:18.153Z"
   },
   {
    "duration": 30,
    "start_time": "2024-04-28T20:13:19.250Z"
   },
   {
    "duration": 28,
    "start_time": "2024-04-28T20:13:19.282Z"
   },
   {
    "duration": 28,
    "start_time": "2024-04-28T20:13:19.312Z"
   },
   {
    "duration": 17,
    "start_time": "2024-04-28T20:13:19.342Z"
   },
   {
    "duration": 37,
    "start_time": "2024-04-28T20:13:19.360Z"
   },
   {
    "duration": 36,
    "start_time": "2024-04-28T20:13:19.399Z"
   },
   {
    "duration": 37,
    "start_time": "2024-04-28T20:13:19.437Z"
   },
   {
    "duration": 24,
    "start_time": "2024-04-28T20:13:19.475Z"
   },
   {
    "duration": 51,
    "start_time": "2024-04-28T20:13:19.502Z"
   },
   {
    "duration": 26,
    "start_time": "2024-04-28T20:13:19.555Z"
   },
   {
    "duration": 48,
    "start_time": "2024-04-28T20:13:19.583Z"
   },
   {
    "duration": 15,
    "start_time": "2024-04-28T20:13:19.633Z"
   },
   {
    "duration": 27,
    "start_time": "2024-04-28T20:13:19.649Z"
   },
   {
    "duration": 20,
    "start_time": "2024-04-28T20:13:19.678Z"
   },
   {
    "duration": 23,
    "start_time": "2024-04-28T20:13:19.700Z"
   },
   {
    "duration": 7,
    "start_time": "2024-04-28T20:13:19.724Z"
   },
   {
    "duration": 34,
    "start_time": "2024-04-28T20:13:19.732Z"
   },
   {
    "duration": 32,
    "start_time": "2024-04-28T20:13:19.768Z"
   },
   {
    "duration": 10,
    "start_time": "2024-04-28T20:13:19.802Z"
   },
   {
    "duration": 18,
    "start_time": "2024-04-28T20:13:19.813Z"
   },
   {
    "duration": 8,
    "start_time": "2024-04-28T20:13:19.833Z"
   },
   {
    "duration": 32,
    "start_time": "2024-04-28T20:13:19.842Z"
   },
   {
    "duration": 4,
    "start_time": "2024-04-28T20:13:19.876Z"
   },
   {
    "duration": 31,
    "start_time": "2024-04-28T20:13:19.882Z"
   },
   {
    "duration": 169,
    "start_time": "2024-04-28T20:13:19.915Z"
   },
   {
    "duration": 10,
    "start_time": "2024-04-28T20:13:20.085Z"
   },
   {
    "duration": 185,
    "start_time": "2024-04-28T20:13:20.098Z"
   },
   {
    "duration": 10,
    "start_time": "2024-04-28T20:13:20.285Z"
   },
   {
    "duration": 138,
    "start_time": "2024-04-28T20:13:20.296Z"
   },
   {
    "duration": 150,
    "start_time": "2024-04-28T20:13:20.436Z"
   },
   {
    "duration": 13,
    "start_time": "2024-04-28T20:13:20.588Z"
   },
   {
    "duration": 134,
    "start_time": "2024-04-28T20:13:20.602Z"
   },
   {
    "duration": 145,
    "start_time": "2024-04-28T20:13:20.738Z"
   },
   {
    "duration": 194,
    "start_time": "2024-04-28T20:13:20.885Z"
   },
   {
    "duration": 14,
    "start_time": "2024-04-28T20:13:21.081Z"
   },
   {
    "duration": 123,
    "start_time": "2024-04-28T20:13:21.097Z"
   },
   {
    "duration": 146,
    "start_time": "2024-04-28T20:13:21.222Z"
   },
   {
    "duration": 35,
    "start_time": "2024-04-28T20:13:21.370Z"
   },
   {
    "duration": 17,
    "start_time": "2024-04-28T20:13:21.407Z"
   },
   {
    "duration": 13,
    "start_time": "2024-04-28T20:13:21.426Z"
   },
   {
    "duration": 25,
    "start_time": "2024-04-28T20:13:21.440Z"
   },
   {
    "duration": 97,
    "start_time": "2024-04-28T20:13:21.467Z"
   },
   {
    "duration": 8,
    "start_time": "2024-04-28T20:13:21.566Z"
   },
   {
    "duration": 138,
    "start_time": "2024-04-28T20:13:21.576Z"
   },
   {
    "duration": 156,
    "start_time": "2024-04-28T20:13:21.716Z"
   },
   {
    "duration": 179,
    "start_time": "2024-04-28T20:13:21.874Z"
   },
   {
    "duration": 9,
    "start_time": "2024-04-28T20:13:22.055Z"
   },
   {
    "duration": 117,
    "start_time": "2024-04-28T20:13:22.066Z"
   },
   {
    "duration": 146,
    "start_time": "2024-04-28T20:13:22.185Z"
   },
   {
    "duration": 8,
    "start_time": "2024-04-28T20:13:22.333Z"
   },
   {
    "duration": 110,
    "start_time": "2024-04-28T20:13:22.343Z"
   },
   {
    "duration": 134,
    "start_time": "2024-04-28T20:13:22.455Z"
   },
   {
    "duration": 168,
    "start_time": "2024-04-28T20:13:22.590Z"
   },
   {
    "duration": 8,
    "start_time": "2024-04-28T20:13:22.761Z"
   },
   {
    "duration": 152,
    "start_time": "2024-04-28T20:13:22.770Z"
   },
   {
    "duration": 172,
    "start_time": "2024-04-28T20:13:22.924Z"
   },
   {
    "duration": 4,
    "start_time": "2024-04-28T20:13:23.098Z"
   },
   {
    "duration": 75,
    "start_time": "2024-04-28T20:13:23.104Z"
   },
   {
    "duration": 2,
    "start_time": "2024-04-28T20:13:23.181Z"
   },
   {
    "duration": 33,
    "start_time": "2024-04-28T20:13:23.185Z"
   },
   {
    "duration": 40,
    "start_time": "2024-04-28T20:13:23.220Z"
   },
   {
    "duration": 24,
    "start_time": "2024-04-28T20:13:23.262Z"
   },
   {
    "duration": 6,
    "start_time": "2024-04-28T20:29:57.573Z"
   },
   {
    "duration": 6,
    "start_time": "2024-04-28T20:40:30.436Z"
   },
   {
    "duration": 962,
    "start_time": "2024-04-28T20:50:58.708Z"
   },
   {
    "duration": 282,
    "start_time": "2024-04-28T20:53:05.338Z"
   },
   {
    "duration": 1021,
    "start_time": "2024-04-28T20:53:42.558Z"
   },
   {
    "duration": 1092,
    "start_time": "2024-04-28T20:59:56.604Z"
   },
   {
    "duration": 1117,
    "start_time": "2024-04-28T21:00:22.699Z"
   },
   {
    "duration": 29,
    "start_time": "2024-04-28T21:00:23.818Z"
   },
   {
    "duration": 28,
    "start_time": "2024-04-28T21:00:23.849Z"
   },
   {
    "duration": 18,
    "start_time": "2024-04-28T21:00:23.878Z"
   },
   {
    "duration": 15,
    "start_time": "2024-04-28T21:00:23.899Z"
   },
   {
    "duration": 11,
    "start_time": "2024-04-28T21:00:23.916Z"
   },
   {
    "duration": 22,
    "start_time": "2024-04-28T21:00:23.928Z"
   },
   {
    "duration": 16,
    "start_time": "2024-04-28T21:00:23.951Z"
   },
   {
    "duration": 27,
    "start_time": "2024-04-28T21:00:23.968Z"
   },
   {
    "duration": 23,
    "start_time": "2024-04-28T21:00:23.996Z"
   },
   {
    "duration": 18,
    "start_time": "2024-04-28T21:00:24.020Z"
   },
   {
    "duration": 22,
    "start_time": "2024-04-28T21:00:24.039Z"
   },
   {
    "duration": 26,
    "start_time": "2024-04-28T21:00:24.063Z"
   },
   {
    "duration": 15,
    "start_time": "2024-04-28T21:00:24.091Z"
   },
   {
    "duration": 35,
    "start_time": "2024-04-28T21:00:24.107Z"
   },
   {
    "duration": 46,
    "start_time": "2024-04-28T21:00:24.143Z"
   },
   {
    "duration": 25,
    "start_time": "2024-04-28T21:00:24.190Z"
   },
   {
    "duration": 21,
    "start_time": "2024-04-28T21:00:24.217Z"
   },
   {
    "duration": 28,
    "start_time": "2024-04-28T21:00:24.240Z"
   },
   {
    "duration": 14,
    "start_time": "2024-04-28T21:00:24.269Z"
   },
   {
    "duration": 23,
    "start_time": "2024-04-28T21:00:24.284Z"
   },
   {
    "duration": 18,
    "start_time": "2024-04-28T21:00:24.309Z"
   },
   {
    "duration": 14,
    "start_time": "2024-04-28T21:00:24.329Z"
   },
   {
    "duration": 25,
    "start_time": "2024-04-28T21:00:24.344Z"
   },
   {
    "duration": 33,
    "start_time": "2024-04-28T21:00:24.371Z"
   },
   {
    "duration": 168,
    "start_time": "2024-04-28T21:00:24.406Z"
   },
   {
    "duration": 5,
    "start_time": "2024-04-28T21:00:24.577Z"
   },
   {
    "duration": 158,
    "start_time": "2024-04-28T21:00:24.583Z"
   },
   {
    "duration": 8,
    "start_time": "2024-04-28T21:00:24.743Z"
   },
   {
    "duration": 105,
    "start_time": "2024-04-28T21:00:24.752Z"
   },
   {
    "duration": 185,
    "start_time": "2024-04-28T21:00:24.858Z"
   },
   {
    "duration": 8,
    "start_time": "2024-04-28T21:00:25.044Z"
   },
   {
    "duration": 122,
    "start_time": "2024-04-28T21:00:25.053Z"
   },
   {
    "duration": 148,
    "start_time": "2024-04-28T21:00:25.176Z"
   },
   {
    "duration": 198,
    "start_time": "2024-04-28T21:00:25.325Z"
   },
   {
    "duration": 8,
    "start_time": "2024-04-28T21:00:25.524Z"
   },
   {
    "duration": 132,
    "start_time": "2024-04-28T21:00:25.533Z"
   },
   {
    "duration": 148,
    "start_time": "2024-04-28T21:00:25.667Z"
   },
   {
    "duration": 25,
    "start_time": "2024-04-28T21:00:25.816Z"
   },
   {
    "duration": 15,
    "start_time": "2024-04-28T21:00:25.843Z"
   },
   {
    "duration": 23,
    "start_time": "2024-04-28T21:00:25.862Z"
   },
   {
    "duration": 14,
    "start_time": "2024-04-28T21:00:25.894Z"
   },
   {
    "duration": 15,
    "start_time": "2024-04-28T21:00:25.909Z"
   },
   {
    "duration": 7,
    "start_time": "2024-04-28T21:00:25.926Z"
   },
   {
    "duration": 195,
    "start_time": "2024-04-28T21:00:25.934Z"
   },
   {
    "duration": 158,
    "start_time": "2024-04-28T21:00:26.131Z"
   },
   {
    "duration": 174,
    "start_time": "2024-04-28T21:00:26.293Z"
   },
   {
    "duration": 8,
    "start_time": "2024-04-28T21:00:26.469Z"
   },
   {
    "duration": 117,
    "start_time": "2024-04-28T21:00:26.478Z"
   },
   {
    "duration": 148,
    "start_time": "2024-04-28T21:00:26.597Z"
   },
   {
    "duration": 7,
    "start_time": "2024-04-28T21:00:26.747Z"
   },
   {
    "duration": 115,
    "start_time": "2024-04-28T21:00:26.756Z"
   },
   {
    "duration": 140,
    "start_time": "2024-04-28T21:00:26.872Z"
   },
   {
    "duration": 162,
    "start_time": "2024-04-28T21:00:27.013Z"
   },
   {
    "duration": 18,
    "start_time": "2024-04-28T21:00:27.176Z"
   },
   {
    "duration": 102,
    "start_time": "2024-04-28T21:00:27.196Z"
   },
   {
    "duration": 178,
    "start_time": "2024-04-28T21:00:27.299Z"
   },
   {
    "duration": 15,
    "start_time": "2024-04-28T21:00:27.479Z"
   },
   {
    "duration": 120,
    "start_time": "2024-04-28T21:00:27.495Z"
   },
   {
    "duration": 12,
    "start_time": "2024-04-28T21:00:27.617Z"
   },
   {
    "duration": 39,
    "start_time": "2024-04-28T21:00:27.631Z"
   },
   {
    "duration": 12,
    "start_time": "2024-04-28T21:00:27.672Z"
   },
   {
    "duration": 68,
    "start_time": "2024-04-28T21:00:27.685Z"
   },
   {
    "duration": 21,
    "start_time": "2024-04-28T21:00:27.755Z"
   },
   {
    "duration": 27,
    "start_time": "2024-04-28T21:00:27.777Z"
   },
   {
    "duration": 1261,
    "start_time": "2024-04-28T21:00:27.806Z"
   },
   {
    "duration": 0,
    "start_time": "2024-04-28T21:00:29.068Z"
   },
   {
    "duration": 1125,
    "start_time": "2024-04-28T21:02:38.403Z"
   },
   {
    "duration": 8,
    "start_time": "2024-04-28T21:03:18.943Z"
   },
   {
    "duration": 1106,
    "start_time": "2024-04-28T21:03:39.437Z"
   },
   {
    "duration": 1065,
    "start_time": "2024-04-28T21:07:39.831Z"
   },
   {
    "duration": 33,
    "start_time": "2024-04-28T21:07:40.898Z"
   },
   {
    "duration": 28,
    "start_time": "2024-04-28T21:07:40.935Z"
   },
   {
    "duration": 29,
    "start_time": "2024-04-28T21:07:40.965Z"
   },
   {
    "duration": 13,
    "start_time": "2024-04-28T21:07:40.995Z"
   },
   {
    "duration": 11,
    "start_time": "2024-04-28T21:07:41.009Z"
   },
   {
    "duration": 15,
    "start_time": "2024-04-28T21:07:41.021Z"
   },
   {
    "duration": 13,
    "start_time": "2024-04-28T21:07:41.038Z"
   },
   {
    "duration": 6,
    "start_time": "2024-04-28T21:07:41.053Z"
   },
   {
    "duration": 37,
    "start_time": "2024-04-28T21:07:41.061Z"
   },
   {
    "duration": 7,
    "start_time": "2024-04-28T21:07:41.099Z"
   },
   {
    "duration": 15,
    "start_time": "2024-04-28T21:07:41.108Z"
   },
   {
    "duration": 6,
    "start_time": "2024-04-28T21:07:41.124Z"
   },
   {
    "duration": 9,
    "start_time": "2024-04-28T21:07:41.132Z"
   },
   {
    "duration": 7,
    "start_time": "2024-04-28T21:07:41.142Z"
   },
   {
    "duration": 19,
    "start_time": "2024-04-28T21:07:41.151Z"
   },
   {
    "duration": 29,
    "start_time": "2024-04-28T21:07:41.171Z"
   },
   {
    "duration": 11,
    "start_time": "2024-04-28T21:07:41.201Z"
   },
   {
    "duration": 24,
    "start_time": "2024-04-28T21:07:41.214Z"
   },
   {
    "duration": 5,
    "start_time": "2024-04-28T21:07:41.239Z"
   },
   {
    "duration": 13,
    "start_time": "2024-04-28T21:07:41.245Z"
   },
   {
    "duration": 15,
    "start_time": "2024-04-28T21:07:41.260Z"
   },
   {
    "duration": 8,
    "start_time": "2024-04-28T21:07:41.277Z"
   },
   {
    "duration": 9,
    "start_time": "2024-04-28T21:07:41.286Z"
   },
   {
    "duration": 8,
    "start_time": "2024-04-28T21:07:41.296Z"
   },
   {
    "duration": 165,
    "start_time": "2024-04-28T21:07:41.306Z"
   },
   {
    "duration": 6,
    "start_time": "2024-04-28T21:07:41.473Z"
   },
   {
    "duration": 134,
    "start_time": "2024-04-28T21:07:41.493Z"
   },
   {
    "duration": 8,
    "start_time": "2024-04-28T21:07:41.628Z"
   },
   {
    "duration": 113,
    "start_time": "2024-04-28T21:07:41.638Z"
   },
   {
    "duration": 156,
    "start_time": "2024-04-28T21:07:41.753Z"
   },
   {
    "duration": 9,
    "start_time": "2024-04-28T21:07:41.910Z"
   },
   {
    "duration": 131,
    "start_time": "2024-04-28T21:07:41.921Z"
   },
   {
    "duration": 161,
    "start_time": "2024-04-28T21:07:42.054Z"
   },
   {
    "duration": 196,
    "start_time": "2024-04-28T21:07:42.217Z"
   },
   {
    "duration": 8,
    "start_time": "2024-04-28T21:07:42.415Z"
   },
   {
    "duration": 126,
    "start_time": "2024-04-28T21:07:42.424Z"
   },
   {
    "duration": 153,
    "start_time": "2024-04-28T21:07:42.552Z"
   },
   {
    "duration": 27,
    "start_time": "2024-04-28T21:07:42.707Z"
   },
   {
    "duration": 17,
    "start_time": "2024-04-28T21:07:42.736Z"
   },
   {
    "duration": 39,
    "start_time": "2024-04-28T21:07:42.755Z"
   },
   {
    "duration": 16,
    "start_time": "2024-04-28T21:07:42.796Z"
   },
   {
    "duration": 90,
    "start_time": "2024-04-28T21:07:42.814Z"
   },
   {
    "duration": 7,
    "start_time": "2024-04-28T21:07:42.905Z"
   },
   {
    "duration": 116,
    "start_time": "2024-04-28T21:07:42.914Z"
   },
   {
    "duration": 165,
    "start_time": "2024-04-28T21:07:43.031Z"
   },
   {
    "duration": 178,
    "start_time": "2024-04-28T21:07:43.197Z"
   },
   {
    "duration": 17,
    "start_time": "2024-04-28T21:07:43.378Z"
   },
   {
    "duration": 124,
    "start_time": "2024-04-28T21:07:43.396Z"
   },
   {
    "duration": 151,
    "start_time": "2024-04-28T21:07:43.522Z"
   },
   {
    "duration": 7,
    "start_time": "2024-04-28T21:07:43.675Z"
   },
   {
    "duration": 102,
    "start_time": "2024-04-28T21:07:43.684Z"
   },
   {
    "duration": 150,
    "start_time": "2024-04-28T21:07:43.794Z"
   },
   {
    "duration": 163,
    "start_time": "2024-04-28T21:07:43.946Z"
   },
   {
    "duration": 8,
    "start_time": "2024-04-28T21:07:44.110Z"
   },
   {
    "duration": 119,
    "start_time": "2024-04-28T21:07:44.119Z"
   },
   {
    "duration": 168,
    "start_time": "2024-04-28T21:07:44.240Z"
   },
   {
    "duration": 3,
    "start_time": "2024-04-28T21:07:44.410Z"
   },
   {
    "duration": 79,
    "start_time": "2024-04-28T21:07:44.414Z"
   },
   {
    "duration": 3,
    "start_time": "2024-04-28T21:07:44.495Z"
   },
   {
    "duration": 24,
    "start_time": "2024-04-28T21:07:44.499Z"
   },
   {
    "duration": 7,
    "start_time": "2024-04-28T21:07:44.524Z"
   },
   {
    "duration": 26,
    "start_time": "2024-04-28T21:07:44.532Z"
   },
   {
    "duration": 12,
    "start_time": "2024-04-28T21:07:44.561Z"
   },
   {
    "duration": 13,
    "start_time": "2024-04-28T21:07:44.574Z"
   },
   {
    "duration": 1232,
    "start_time": "2024-04-28T21:07:44.588Z"
   },
   {
    "duration": 1054,
    "start_time": "2024-04-28T21:09:32.522Z"
   },
   {
    "duration": 215,
    "start_time": "2024-04-28T21:12:26.564Z"
   },
   {
    "duration": 129,
    "start_time": "2024-04-28T21:13:13.428Z"
   },
   {
    "duration": 76,
    "start_time": "2024-04-28T21:13:53.967Z"
   },
   {
    "duration": 82,
    "start_time": "2024-04-28T21:14:06.881Z"
   },
   {
    "duration": 79,
    "start_time": "2024-04-28T21:14:22.484Z"
   },
   {
    "duration": 594,
    "start_time": "2024-04-28T21:15:03.952Z"
   },
   {
    "duration": 8,
    "start_time": "2024-04-28T21:15:53.659Z"
   },
   {
    "duration": 9,
    "start_time": "2024-04-28T21:16:50.026Z"
   },
   {
    "duration": 10,
    "start_time": "2024-04-28T22:11:20.314Z"
   },
   {
    "duration": 6,
    "start_time": "2024-04-28T22:11:41.409Z"
   },
   {
    "duration": 6,
    "start_time": "2024-04-29T05:42:59.983Z"
   },
   {
    "duration": 8,
    "start_time": "2024-04-29T05:43:05.521Z"
   },
   {
    "duration": 10,
    "start_time": "2024-04-29T11:26:45.955Z"
   },
   {
    "duration": 1379,
    "start_time": "2024-04-29T20:54:27.866Z"
   },
   {
    "duration": 75,
    "start_time": "2024-04-29T20:54:29.247Z"
   },
   {
    "duration": 83,
    "start_time": "2024-04-29T20:54:29.323Z"
   },
   {
    "duration": 62,
    "start_time": "2024-04-29T20:54:29.408Z"
   },
   {
    "duration": 13,
    "start_time": "2024-04-29T20:54:29.472Z"
   },
   {
    "duration": 13,
    "start_time": "2024-04-29T20:54:29.486Z"
   },
   {
    "duration": 13,
    "start_time": "2024-04-29T20:54:29.501Z"
   },
   {
    "duration": 18,
    "start_time": "2024-04-29T20:54:29.515Z"
   },
   {
    "duration": 7,
    "start_time": "2024-04-29T20:54:29.535Z"
   },
   {
    "duration": 11,
    "start_time": "2024-04-29T20:54:29.561Z"
   },
   {
    "duration": 11,
    "start_time": "2024-04-29T20:54:29.574Z"
   },
   {
    "duration": 15,
    "start_time": "2024-04-29T20:54:29.587Z"
   },
   {
    "duration": 6,
    "start_time": "2024-04-29T20:54:29.604Z"
   },
   {
    "duration": 21,
    "start_time": "2024-04-29T20:54:29.611Z"
   },
   {
    "duration": 28,
    "start_time": "2024-04-29T20:54:29.634Z"
   },
   {
    "duration": 7,
    "start_time": "2024-04-29T20:54:29.663Z"
   },
   {
    "duration": 5,
    "start_time": "2024-04-29T20:54:29.672Z"
   },
   {
    "duration": 6,
    "start_time": "2024-04-29T20:54:29.678Z"
   },
   {
    "duration": 19,
    "start_time": "2024-04-29T20:54:29.685Z"
   },
   {
    "duration": 6,
    "start_time": "2024-04-29T20:54:29.706Z"
   },
   {
    "duration": 11,
    "start_time": "2024-04-29T20:54:29.713Z"
   },
   {
    "duration": 6,
    "start_time": "2024-04-29T20:54:29.761Z"
   },
   {
    "duration": 9,
    "start_time": "2024-04-29T20:54:29.768Z"
   },
   {
    "duration": 7,
    "start_time": "2024-04-29T20:54:29.779Z"
   },
   {
    "duration": 8,
    "start_time": "2024-04-29T20:54:29.788Z"
   },
   {
    "duration": 198,
    "start_time": "2024-04-29T20:54:29.797Z"
   },
   {
    "duration": 6,
    "start_time": "2024-04-29T20:54:29.997Z"
   },
   {
    "duration": 186,
    "start_time": "2024-04-29T20:54:30.007Z"
   },
   {
    "duration": 9,
    "start_time": "2024-04-29T20:54:30.194Z"
   },
   {
    "duration": 202,
    "start_time": "2024-04-29T20:54:30.205Z"
   },
   {
    "duration": 167,
    "start_time": "2024-04-29T20:54:30.409Z"
   },
   {
    "duration": 9,
    "start_time": "2024-04-29T20:54:30.578Z"
   },
   {
    "duration": 165,
    "start_time": "2024-04-29T20:54:30.588Z"
   },
   {
    "duration": 190,
    "start_time": "2024-04-29T20:54:30.760Z"
   },
   {
    "duration": 187,
    "start_time": "2024-04-29T20:54:30.952Z"
   },
   {
    "duration": 22,
    "start_time": "2024-04-29T20:54:31.141Z"
   },
   {
    "duration": 123,
    "start_time": "2024-04-29T20:54:31.164Z"
   },
   {
    "duration": 176,
    "start_time": "2024-04-29T20:54:31.289Z"
   },
   {
    "duration": 26,
    "start_time": "2024-04-29T20:54:31.466Z"
   },
   {
    "duration": 17,
    "start_time": "2024-04-29T20:54:31.494Z"
   },
   {
    "duration": 12,
    "start_time": "2024-04-29T20:54:31.513Z"
   },
   {
    "duration": 39,
    "start_time": "2024-04-29T20:54:31.526Z"
   },
   {
    "duration": 100,
    "start_time": "2024-04-29T20:54:31.567Z"
   },
   {
    "duration": 9,
    "start_time": "2024-04-29T20:54:31.669Z"
   },
   {
    "duration": 129,
    "start_time": "2024-04-29T20:54:31.680Z"
   },
   {
    "duration": 171,
    "start_time": "2024-04-29T20:54:31.811Z"
   },
   {
    "duration": 188,
    "start_time": "2024-04-29T20:54:31.983Z"
   },
   {
    "duration": 8,
    "start_time": "2024-04-29T20:54:32.173Z"
   },
   {
    "duration": 122,
    "start_time": "2024-04-29T20:54:32.182Z"
   },
   {
    "duration": 152,
    "start_time": "2024-04-29T20:54:32.306Z"
   },
   {
    "duration": 7,
    "start_time": "2024-04-29T20:54:32.460Z"
   },
   {
    "duration": 102,
    "start_time": "2024-04-29T20:54:32.468Z"
   },
   {
    "duration": 149,
    "start_time": "2024-04-29T20:54:32.571Z"
   },
   {
    "duration": 181,
    "start_time": "2024-04-29T20:54:32.721Z"
   },
   {
    "duration": 10,
    "start_time": "2024-04-29T20:54:32.903Z"
   },
   {
    "duration": 123,
    "start_time": "2024-04-29T20:54:32.915Z"
   },
   {
    "duration": 175,
    "start_time": "2024-04-29T20:54:33.039Z"
   },
   {
    "duration": 4,
    "start_time": "2024-04-29T20:54:33.215Z"
   },
   {
    "duration": 87,
    "start_time": "2024-04-29T20:54:33.220Z"
   },
   {
    "duration": 3,
    "start_time": "2024-04-29T20:54:33.309Z"
   },
   {
    "duration": 16,
    "start_time": "2024-04-29T20:54:33.314Z"
   },
   {
    "duration": 10,
    "start_time": "2024-04-29T20:54:33.332Z"
   },
   {
    "duration": 20,
    "start_time": "2024-04-29T20:54:33.343Z"
   },
   {
    "duration": 6,
    "start_time": "2024-04-29T20:54:33.364Z"
   },
   {
    "duration": 5,
    "start_time": "2024-04-29T20:54:33.371Z"
   },
   {
    "duration": 8,
    "start_time": "2024-04-29T20:54:33.377Z"
   },
   {
    "duration": 167,
    "start_time": "2024-04-29T21:12:06.471Z"
   },
   {
    "duration": 244,
    "start_time": "2024-04-29T21:13:50.310Z"
   },
   {
    "duration": 171,
    "start_time": "2024-04-29T21:14:05.829Z"
   },
   {
    "duration": 157,
    "start_time": "2024-04-29T21:14:24.421Z"
   },
   {
    "duration": 153,
    "start_time": "2024-04-29T21:14:45.356Z"
   },
   {
    "duration": 25,
    "start_time": "2024-04-29T21:42:50.924Z"
   },
   {
    "duration": 17,
    "start_time": "2024-04-29T21:46:17.272Z"
   },
   {
    "duration": 14,
    "start_time": "2024-04-29T21:46:38.908Z"
   },
   {
    "duration": 4,
    "start_time": "2024-04-29T21:48:39.118Z"
   },
   {
    "duration": 4,
    "start_time": "2024-04-29T21:58:02.900Z"
   },
   {
    "duration": 12,
    "start_time": "2024-04-29T21:58:41.140Z"
   },
   {
    "duration": 1232,
    "start_time": "2024-04-29T22:00:54.643Z"
   },
   {
    "duration": 30,
    "start_time": "2024-04-29T22:00:55.877Z"
   },
   {
    "duration": 35,
    "start_time": "2024-04-29T22:00:55.912Z"
   },
   {
    "duration": 15,
    "start_time": "2024-04-29T22:00:55.949Z"
   },
   {
    "duration": 12,
    "start_time": "2024-04-29T22:00:55.966Z"
   },
   {
    "duration": 13,
    "start_time": "2024-04-29T22:00:55.979Z"
   },
   {
    "duration": 11,
    "start_time": "2024-04-29T22:00:55.994Z"
   },
   {
    "duration": 13,
    "start_time": "2024-04-29T22:00:56.007Z"
   },
   {
    "duration": 6,
    "start_time": "2024-04-29T22:00:56.022Z"
   },
   {
    "duration": 11,
    "start_time": "2024-04-29T22:00:56.061Z"
   },
   {
    "duration": 10,
    "start_time": "2024-04-29T22:00:56.073Z"
   },
   {
    "duration": 10,
    "start_time": "2024-04-29T22:00:56.085Z"
   },
   {
    "duration": 5,
    "start_time": "2024-04-29T22:00:56.097Z"
   },
   {
    "duration": 9,
    "start_time": "2024-04-29T22:00:56.104Z"
   },
   {
    "duration": 6,
    "start_time": "2024-04-29T22:00:56.115Z"
   },
   {
    "duration": 41,
    "start_time": "2024-04-29T22:00:56.122Z"
   },
   {
    "duration": 6,
    "start_time": "2024-04-29T22:00:56.165Z"
   },
   {
    "duration": 6,
    "start_time": "2024-04-29T22:00:56.173Z"
   },
   {
    "duration": 13,
    "start_time": "2024-04-29T22:00:56.181Z"
   },
   {
    "duration": 4,
    "start_time": "2024-04-29T22:00:56.196Z"
   },
   {
    "duration": 13,
    "start_time": "2024-04-29T22:00:56.202Z"
   },
   {
    "duration": 5,
    "start_time": "2024-04-29T22:00:56.217Z"
   },
   {
    "duration": 43,
    "start_time": "2024-04-29T22:00:56.223Z"
   },
   {
    "duration": 5,
    "start_time": "2024-04-29T22:00:56.268Z"
   },
   {
    "duration": 9,
    "start_time": "2024-04-29T22:00:56.274Z"
   },
   {
    "duration": 183,
    "start_time": "2024-04-29T22:00:56.284Z"
   },
   {
    "duration": 7,
    "start_time": "2024-04-29T22:00:56.472Z"
   },
   {
    "duration": 146,
    "start_time": "2024-04-29T22:00:56.481Z"
   },
   {
    "duration": 8,
    "start_time": "2024-04-29T22:00:56.628Z"
   },
   {
    "duration": 105,
    "start_time": "2024-04-29T22:00:56.638Z"
   },
   {
    "duration": 155,
    "start_time": "2024-04-29T22:00:56.744Z"
   },
   {
    "duration": 9,
    "start_time": "2024-04-29T22:00:56.900Z"
   },
   {
    "duration": 142,
    "start_time": "2024-04-29T22:00:56.910Z"
   },
   {
    "duration": 175,
    "start_time": "2024-04-29T22:00:57.060Z"
   },
   {
    "duration": 205,
    "start_time": "2024-04-29T22:00:57.237Z"
   },
   {
    "duration": 9,
    "start_time": "2024-04-29T22:00:57.443Z"
   },
   {
    "duration": 125,
    "start_time": "2024-04-29T22:00:57.461Z"
   },
   {
    "duration": 163,
    "start_time": "2024-04-29T22:00:57.588Z"
   },
   {
    "duration": 32,
    "start_time": "2024-04-29T22:00:57.752Z"
   },
   {
    "duration": 17,
    "start_time": "2024-04-29T22:00:57.786Z"
   },
   {
    "duration": 14,
    "start_time": "2024-04-29T22:00:57.805Z"
   },
   {
    "duration": 22,
    "start_time": "2024-04-29T22:00:57.820Z"
   },
   {
    "duration": 106,
    "start_time": "2024-04-29T22:00:57.843Z"
   },
   {
    "duration": 8,
    "start_time": "2024-04-29T22:00:57.961Z"
   },
   {
    "duration": 128,
    "start_time": "2024-04-29T22:00:57.971Z"
   },
   {
    "duration": 163,
    "start_time": "2024-04-29T22:00:58.100Z"
   },
   {
    "duration": 192,
    "start_time": "2024-04-29T22:00:58.265Z"
   },
   {
    "duration": 10,
    "start_time": "2024-04-29T22:00:58.459Z"
   },
   {
    "duration": 140,
    "start_time": "2024-04-29T22:00:58.471Z"
   },
   {
    "duration": 168,
    "start_time": "2024-04-29T22:00:58.613Z"
   },
   {
    "duration": 8,
    "start_time": "2024-04-29T22:00:58.783Z"
   },
   {
    "duration": 116,
    "start_time": "2024-04-29T22:00:58.792Z"
   },
   {
    "duration": 156,
    "start_time": "2024-04-29T22:00:58.909Z"
   },
   {
    "duration": 184,
    "start_time": "2024-04-29T22:00:59.067Z"
   },
   {
    "duration": 12,
    "start_time": "2024-04-29T22:00:59.252Z"
   },
   {
    "duration": 117,
    "start_time": "2024-04-29T22:00:59.266Z"
   },
   {
    "duration": 176,
    "start_time": "2024-04-29T22:00:59.384Z"
   },
   {
    "duration": 3,
    "start_time": "2024-04-29T22:00:59.562Z"
   },
   {
    "duration": 66,
    "start_time": "2024-04-29T22:00:59.567Z"
   },
   {
    "duration": 4,
    "start_time": "2024-04-29T22:00:59.635Z"
   },
   {
    "duration": 22,
    "start_time": "2024-04-29T22:00:59.642Z"
   },
   {
    "duration": 11,
    "start_time": "2024-04-29T22:00:59.666Z"
   },
   {
    "duration": 10,
    "start_time": "2024-04-29T22:00:59.679Z"
   },
   {
    "duration": 14,
    "start_time": "2024-04-29T22:00:59.690Z"
   },
   {
    "duration": 10,
    "start_time": "2024-04-29T22:00:59.706Z"
   },
   {
    "duration": 6,
    "start_time": "2024-04-29T22:00:59.718Z"
   },
   {
    "duration": 37,
    "start_time": "2024-04-29T22:00:59.725Z"
   },
   {
    "duration": 1277,
    "start_time": "2024-04-30T10:16:51.710Z"
   },
   {
    "duration": 103,
    "start_time": "2024-04-30T10:16:52.989Z"
   },
   {
    "duration": 136,
    "start_time": "2024-04-30T10:16:53.093Z"
   },
   {
    "duration": 69,
    "start_time": "2024-04-30T10:16:53.232Z"
   },
   {
    "duration": 13,
    "start_time": "2024-04-30T10:16:53.303Z"
   },
   {
    "duration": 11,
    "start_time": "2024-04-30T10:16:53.317Z"
   },
   {
    "duration": 26,
    "start_time": "2024-04-30T10:16:53.329Z"
   },
   {
    "duration": 32,
    "start_time": "2024-04-30T10:16:53.356Z"
   },
   {
    "duration": 7,
    "start_time": "2024-04-30T10:16:53.389Z"
   },
   {
    "duration": 9,
    "start_time": "2024-04-30T10:16:53.398Z"
   },
   {
    "duration": 20,
    "start_time": "2024-04-30T10:16:53.408Z"
   },
   {
    "duration": 8,
    "start_time": "2024-04-30T10:16:53.429Z"
   },
   {
    "duration": 5,
    "start_time": "2024-04-30T10:16:53.438Z"
   },
   {
    "duration": 8,
    "start_time": "2024-04-30T10:16:53.444Z"
   },
   {
    "duration": 6,
    "start_time": "2024-04-30T10:16:53.453Z"
   },
   {
    "duration": 9,
    "start_time": "2024-04-30T10:16:53.460Z"
   },
   {
    "duration": 15,
    "start_time": "2024-04-30T10:16:53.471Z"
   },
   {
    "duration": 19,
    "start_time": "2024-04-30T10:16:53.487Z"
   },
   {
    "duration": 12,
    "start_time": "2024-04-30T10:16:53.508Z"
   },
   {
    "duration": 4,
    "start_time": "2024-04-30T10:16:53.521Z"
   },
   {
    "duration": 9,
    "start_time": "2024-04-30T10:16:53.527Z"
   },
   {
    "duration": 7,
    "start_time": "2024-04-30T10:16:53.537Z"
   },
   {
    "duration": 9,
    "start_time": "2024-04-30T10:16:53.545Z"
   },
   {
    "duration": 4,
    "start_time": "2024-04-30T10:16:53.555Z"
   },
   {
    "duration": 10,
    "start_time": "2024-04-30T10:16:53.561Z"
   },
   {
    "duration": 177,
    "start_time": "2024-04-30T10:16:53.572Z"
   },
   {
    "duration": 5,
    "start_time": "2024-04-30T10:16:53.751Z"
   },
   {
    "duration": 133,
    "start_time": "2024-04-30T10:16:53.760Z"
   },
   {
    "duration": 8,
    "start_time": "2024-04-30T10:16:53.894Z"
   },
   {
    "duration": 87,
    "start_time": "2024-04-30T10:16:53.904Z"
   },
   {
    "duration": 156,
    "start_time": "2024-04-30T10:16:53.993Z"
   },
   {
    "duration": 8,
    "start_time": "2024-04-30T10:16:54.151Z"
   },
   {
    "duration": 114,
    "start_time": "2024-04-30T10:16:54.160Z"
   },
   {
    "duration": 153,
    "start_time": "2024-04-30T10:16:54.276Z"
   },
   {
    "duration": 180,
    "start_time": "2024-04-30T10:16:54.431Z"
   },
   {
    "duration": 8,
    "start_time": "2024-04-30T10:16:54.614Z"
   },
   {
    "duration": 116,
    "start_time": "2024-04-30T10:16:54.623Z"
   },
   {
    "duration": 138,
    "start_time": "2024-04-30T10:16:54.740Z"
   },
   {
    "duration": 35,
    "start_time": "2024-04-30T10:16:54.880Z"
   },
   {
    "duration": 17,
    "start_time": "2024-04-30T10:16:54.917Z"
   },
   {
    "duration": 13,
    "start_time": "2024-04-30T10:16:54.935Z"
   },
   {
    "duration": 14,
    "start_time": "2024-04-30T10:16:54.950Z"
   },
   {
    "duration": 120,
    "start_time": "2024-04-30T10:16:54.965Z"
   },
   {
    "duration": 9,
    "start_time": "2024-04-30T10:16:55.087Z"
   },
   {
    "duration": 105,
    "start_time": "2024-04-30T10:16:55.097Z"
   },
   {
    "duration": 148,
    "start_time": "2024-04-30T10:16:55.214Z"
   },
   {
    "duration": 175,
    "start_time": "2024-04-30T10:16:55.363Z"
   },
   {
    "duration": 8,
    "start_time": "2024-04-30T10:16:55.539Z"
   },
   {
    "duration": 110,
    "start_time": "2024-04-30T10:16:55.548Z"
   },
   {
    "duration": 148,
    "start_time": "2024-04-30T10:16:55.659Z"
   },
   {
    "duration": 11,
    "start_time": "2024-04-30T10:16:55.809Z"
   },
   {
    "duration": 99,
    "start_time": "2024-04-30T10:16:55.822Z"
   },
   {
    "duration": 143,
    "start_time": "2024-04-30T10:16:55.922Z"
   },
   {
    "duration": 179,
    "start_time": "2024-04-30T10:16:56.067Z"
   },
   {
    "duration": 8,
    "start_time": "2024-04-30T10:16:56.248Z"
   },
   {
    "duration": 110,
    "start_time": "2024-04-30T10:16:56.257Z"
   },
   {
    "duration": 265,
    "start_time": "2024-04-30T10:16:56.368Z"
   },
   {
    "duration": 3,
    "start_time": "2024-04-30T10:16:56.634Z"
   },
   {
    "duration": 109,
    "start_time": "2024-04-30T10:16:56.638Z"
   },
   {
    "duration": 3,
    "start_time": "2024-04-30T10:16:56.749Z"
   },
   {
    "duration": 6,
    "start_time": "2024-04-30T10:16:56.753Z"
   },
   {
    "duration": 20,
    "start_time": "2024-04-30T10:16:56.761Z"
   },
   {
    "duration": 8,
    "start_time": "2024-04-30T10:16:56.782Z"
   },
   {
    "duration": 25,
    "start_time": "2024-04-30T10:16:56.791Z"
   },
   {
    "duration": 6,
    "start_time": "2024-04-30T10:16:56.817Z"
   },
   {
    "duration": 5,
    "start_time": "2024-04-30T10:16:56.824Z"
   },
   {
    "duration": 9,
    "start_time": "2024-04-30T10:16:56.830Z"
   },
   {
    "duration": 8,
    "start_time": "2024-04-30T10:21:51.639Z"
   },
   {
    "duration": 5,
    "start_time": "2024-04-30T10:22:17.446Z"
   },
   {
    "duration": 7,
    "start_time": "2024-04-30T10:23:10.589Z"
   },
   {
    "duration": 209,
    "start_time": "2024-04-30T10:44:10.544Z"
   },
   {
    "duration": 275,
    "start_time": "2024-04-30T10:44:21.715Z"
   },
   {
    "duration": 1083,
    "start_time": "2024-04-30T11:26:39.174Z"
   },
   {
    "duration": 28,
    "start_time": "2024-04-30T11:26:40.259Z"
   },
   {
    "duration": 28,
    "start_time": "2024-04-30T11:26:40.289Z"
   },
   {
    "duration": 15,
    "start_time": "2024-04-30T11:26:40.319Z"
   },
   {
    "duration": 16,
    "start_time": "2024-04-30T11:26:40.336Z"
   },
   {
    "duration": 13,
    "start_time": "2024-04-30T11:26:40.354Z"
   },
   {
    "duration": 10,
    "start_time": "2024-04-30T11:26:40.368Z"
   },
   {
    "duration": 11,
    "start_time": "2024-04-30T11:26:40.380Z"
   },
   {
    "duration": 26,
    "start_time": "2024-04-30T11:26:40.392Z"
   },
   {
    "duration": 10,
    "start_time": "2024-04-30T11:26:40.420Z"
   },
   {
    "duration": 13,
    "start_time": "2024-04-30T11:26:40.432Z"
   },
   {
    "duration": 10,
    "start_time": "2024-04-30T11:26:40.446Z"
   },
   {
    "duration": 4,
    "start_time": "2024-04-30T11:26:40.457Z"
   },
   {
    "duration": 8,
    "start_time": "2024-04-30T11:26:40.463Z"
   },
   {
    "duration": 7,
    "start_time": "2024-04-30T11:26:40.472Z"
   },
   {
    "duration": 36,
    "start_time": "2024-04-30T11:26:40.480Z"
   },
   {
    "duration": 6,
    "start_time": "2024-04-30T11:26:40.517Z"
   },
   {
    "duration": 29,
    "start_time": "2024-04-30T11:26:40.524Z"
   },
   {
    "duration": 19,
    "start_time": "2024-04-30T11:26:40.555Z"
   },
   {
    "duration": 4,
    "start_time": "2024-04-30T11:26:40.576Z"
   },
   {
    "duration": 17,
    "start_time": "2024-04-30T11:26:40.582Z"
   },
   {
    "duration": 8,
    "start_time": "2024-04-30T11:26:40.600Z"
   },
   {
    "duration": 12,
    "start_time": "2024-04-30T11:26:40.609Z"
   },
   {
    "duration": 16,
    "start_time": "2024-04-30T11:26:40.623Z"
   },
   {
    "duration": 10,
    "start_time": "2024-04-30T11:26:40.640Z"
   },
   {
    "duration": 166,
    "start_time": "2024-04-30T11:26:40.652Z"
   },
   {
    "duration": 5,
    "start_time": "2024-04-30T11:26:40.819Z"
   },
   {
    "duration": 133,
    "start_time": "2024-04-30T11:26:40.828Z"
   },
   {
    "duration": 7,
    "start_time": "2024-04-30T11:26:40.962Z"
   },
   {
    "duration": 110,
    "start_time": "2024-04-30T11:26:40.971Z"
   },
   {
    "duration": 154,
    "start_time": "2024-04-30T11:26:41.082Z"
   },
   {
    "duration": 8,
    "start_time": "2024-04-30T11:26:41.237Z"
   },
   {
    "duration": 116,
    "start_time": "2024-04-30T11:26:41.247Z"
   },
   {
    "duration": 169,
    "start_time": "2024-04-30T11:26:41.365Z"
   },
   {
    "duration": 185,
    "start_time": "2024-04-30T11:26:41.535Z"
   },
   {
    "duration": 8,
    "start_time": "2024-04-30T11:26:41.721Z"
   },
   {
    "duration": 120,
    "start_time": "2024-04-30T11:26:41.730Z"
   },
   {
    "duration": 146,
    "start_time": "2024-04-30T11:26:41.851Z"
   },
   {
    "duration": 31,
    "start_time": "2024-04-30T11:26:41.998Z"
   },
   {
    "duration": 17,
    "start_time": "2024-04-30T11:26:42.031Z"
   },
   {
    "duration": 11,
    "start_time": "2024-04-30T11:26:42.050Z"
   },
   {
    "duration": 13,
    "start_time": "2024-04-30T11:26:42.063Z"
   },
   {
    "duration": 111,
    "start_time": "2024-04-30T11:26:42.077Z"
   },
   {
    "duration": 8,
    "start_time": "2024-04-30T11:26:42.189Z"
   },
   {
    "duration": 117,
    "start_time": "2024-04-30T11:26:42.198Z"
   },
   {
    "duration": 152,
    "start_time": "2024-04-30T11:26:42.316Z"
   },
   {
    "duration": 174,
    "start_time": "2024-04-30T11:26:42.470Z"
   },
   {
    "duration": 11,
    "start_time": "2024-04-30T11:26:42.646Z"
   },
   {
    "duration": 152,
    "start_time": "2024-04-30T11:26:42.659Z"
   },
   {
    "duration": 147,
    "start_time": "2024-04-30T11:26:42.814Z"
   },
   {
    "duration": 8,
    "start_time": "2024-04-30T11:26:42.962Z"
   },
   {
    "duration": 105,
    "start_time": "2024-04-30T11:26:42.972Z"
   },
   {
    "duration": 145,
    "start_time": "2024-04-30T11:26:43.079Z"
   },
   {
    "duration": 166,
    "start_time": "2024-04-30T11:26:43.225Z"
   },
   {
    "duration": 9,
    "start_time": "2024-04-30T11:26:43.393Z"
   },
   {
    "duration": 112,
    "start_time": "2024-04-30T11:26:43.403Z"
   },
   {
    "duration": 165,
    "start_time": "2024-04-30T11:26:43.516Z"
   },
   {
    "duration": 4,
    "start_time": "2024-04-30T11:26:43.683Z"
   },
   {
    "duration": 76,
    "start_time": "2024-04-30T11:26:43.688Z"
   },
   {
    "duration": 4,
    "start_time": "2024-04-30T11:26:43.765Z"
   },
   {
    "duration": 107,
    "start_time": "2024-04-30T11:26:43.770Z"
   },
   {
    "duration": 0,
    "start_time": "2024-04-30T11:26:43.879Z"
   },
   {
    "duration": 0,
    "start_time": "2024-04-30T11:26:43.880Z"
   },
   {
    "duration": 0,
    "start_time": "2024-04-30T11:26:43.881Z"
   },
   {
    "duration": 0,
    "start_time": "2024-04-30T11:26:43.882Z"
   },
   {
    "duration": 0,
    "start_time": "2024-04-30T11:26:43.883Z"
   },
   {
    "duration": 0,
    "start_time": "2024-04-30T11:26:43.884Z"
   },
   {
    "duration": 0,
    "start_time": "2024-04-30T11:26:43.885Z"
   },
   {
    "duration": 5,
    "start_time": "2024-04-30T11:27:22.451Z"
   },
   {
    "duration": 1090,
    "start_time": "2024-04-30T11:27:36.376Z"
   },
   {
    "duration": 28,
    "start_time": "2024-04-30T11:27:37.468Z"
   },
   {
    "duration": 27,
    "start_time": "2024-04-30T11:27:37.498Z"
   },
   {
    "duration": 17,
    "start_time": "2024-04-30T11:27:37.526Z"
   },
   {
    "duration": 11,
    "start_time": "2024-04-30T11:27:37.544Z"
   },
   {
    "duration": 10,
    "start_time": "2024-04-30T11:27:37.556Z"
   },
   {
    "duration": 10,
    "start_time": "2024-04-30T11:27:37.567Z"
   },
   {
    "duration": 13,
    "start_time": "2024-04-30T11:27:37.578Z"
   },
   {
    "duration": 25,
    "start_time": "2024-04-30T11:27:37.592Z"
   },
   {
    "duration": 9,
    "start_time": "2024-04-30T11:27:37.619Z"
   },
   {
    "duration": 11,
    "start_time": "2024-04-30T11:27:37.630Z"
   },
   {
    "duration": 10,
    "start_time": "2024-04-30T11:27:37.642Z"
   },
   {
    "duration": 5,
    "start_time": "2024-04-30T11:27:37.654Z"
   },
   {
    "duration": 8,
    "start_time": "2024-04-30T11:27:37.660Z"
   },
   {
    "duration": 11,
    "start_time": "2024-04-30T11:27:37.669Z"
   },
   {
    "duration": 6,
    "start_time": "2024-04-30T11:27:37.681Z"
   },
   {
    "duration": 31,
    "start_time": "2024-04-30T11:27:37.688Z"
   },
   {
    "duration": 5,
    "start_time": "2024-04-30T11:27:37.720Z"
   },
   {
    "duration": 12,
    "start_time": "2024-04-30T11:27:37.726Z"
   },
   {
    "duration": 5,
    "start_time": "2024-04-30T11:27:37.739Z"
   },
   {
    "duration": 9,
    "start_time": "2024-04-30T11:27:37.745Z"
   },
   {
    "duration": 5,
    "start_time": "2024-04-30T11:27:37.756Z"
   },
   {
    "duration": 8,
    "start_time": "2024-04-30T11:27:37.762Z"
   },
   {
    "duration": 45,
    "start_time": "2024-04-30T11:27:37.771Z"
   },
   {
    "duration": 5,
    "start_time": "2024-04-30T11:27:37.818Z"
   },
   {
    "duration": 159,
    "start_time": "2024-04-30T11:27:37.825Z"
   },
   {
    "duration": 5,
    "start_time": "2024-04-30T11:27:37.985Z"
   },
   {
    "duration": 130,
    "start_time": "2024-04-30T11:27:37.993Z"
   },
   {
    "duration": 7,
    "start_time": "2024-04-30T11:27:38.125Z"
   },
   {
    "duration": 106,
    "start_time": "2024-04-30T11:27:38.133Z"
   },
   {
    "duration": 153,
    "start_time": "2024-04-30T11:27:38.240Z"
   },
   {
    "duration": 8,
    "start_time": "2024-04-30T11:27:38.394Z"
   },
   {
    "duration": 113,
    "start_time": "2024-04-30T11:27:38.403Z"
   },
   {
    "duration": 152,
    "start_time": "2024-04-30T11:27:38.518Z"
   },
   {
    "duration": 208,
    "start_time": "2024-04-30T11:27:38.671Z"
   },
   {
    "duration": 11,
    "start_time": "2024-04-30T11:27:38.881Z"
   },
   {
    "duration": 116,
    "start_time": "2024-04-30T11:27:38.894Z"
   },
   {
    "duration": 156,
    "start_time": "2024-04-30T11:27:39.014Z"
   },
   {
    "duration": 24,
    "start_time": "2024-04-30T11:27:39.171Z"
   },
   {
    "duration": 27,
    "start_time": "2024-04-30T11:27:39.197Z"
   },
   {
    "duration": 12,
    "start_time": "2024-04-30T11:27:39.226Z"
   },
   {
    "duration": 14,
    "start_time": "2024-04-30T11:27:39.239Z"
   },
   {
    "duration": 104,
    "start_time": "2024-04-30T11:27:39.255Z"
   },
   {
    "duration": 8,
    "start_time": "2024-04-30T11:27:39.361Z"
   },
   {
    "duration": 120,
    "start_time": "2024-04-30T11:27:39.370Z"
   },
   {
    "duration": 158,
    "start_time": "2024-04-30T11:27:39.491Z"
   },
   {
    "duration": 188,
    "start_time": "2024-04-30T11:27:39.651Z"
   },
   {
    "duration": 9,
    "start_time": "2024-04-30T11:27:39.840Z"
   },
   {
    "duration": 120,
    "start_time": "2024-04-30T11:27:39.850Z"
   },
   {
    "duration": 157,
    "start_time": "2024-04-30T11:27:39.972Z"
   },
   {
    "duration": 7,
    "start_time": "2024-04-30T11:27:40.131Z"
   },
   {
    "duration": 104,
    "start_time": "2024-04-30T11:27:40.140Z"
   },
   {
    "duration": 142,
    "start_time": "2024-04-30T11:27:40.246Z"
   },
   {
    "duration": 160,
    "start_time": "2024-04-30T11:27:40.390Z"
   },
   {
    "duration": 8,
    "start_time": "2024-04-30T11:27:40.551Z"
   },
   {
    "duration": 128,
    "start_time": "2024-04-30T11:27:40.561Z"
   },
   {
    "duration": 164,
    "start_time": "2024-04-30T11:27:40.691Z"
   },
   {
    "duration": 3,
    "start_time": "2024-04-30T11:27:40.857Z"
   },
   {
    "duration": 68,
    "start_time": "2024-04-30T11:27:40.862Z"
   },
   {
    "duration": 3,
    "start_time": "2024-04-30T11:27:40.931Z"
   },
   {
    "duration": 9,
    "start_time": "2024-04-30T11:27:40.935Z"
   },
   {
    "duration": 92,
    "start_time": "2024-04-30T11:27:40.945Z"
   },
   {
    "duration": 11,
    "start_time": "2024-04-30T11:27:41.039Z"
   },
   {
    "duration": 8,
    "start_time": "2024-04-30T11:27:41.051Z"
   },
   {
    "duration": 13,
    "start_time": "2024-04-30T11:27:41.061Z"
   },
   {
    "duration": 6,
    "start_time": "2024-04-30T11:27:41.076Z"
   },
   {
    "duration": 33,
    "start_time": "2024-04-30T11:27:41.083Z"
   },
   {
    "duration": 9,
    "start_time": "2024-04-30T11:27:41.117Z"
   },
   {
    "duration": 95,
    "start_time": "2024-04-30T11:29:30.130Z"
   },
   {
    "duration": 1094,
    "start_time": "2024-04-30T11:31:02.359Z"
   },
   {
    "duration": 28,
    "start_time": "2024-04-30T11:31:03.455Z"
   },
   {
    "duration": 27,
    "start_time": "2024-04-30T11:31:03.485Z"
   },
   {
    "duration": 17,
    "start_time": "2024-04-30T11:31:03.514Z"
   },
   {
    "duration": 12,
    "start_time": "2024-04-30T11:31:03.532Z"
   },
   {
    "duration": 11,
    "start_time": "2024-04-30T11:31:03.545Z"
   },
   {
    "duration": 13,
    "start_time": "2024-04-30T11:31:03.557Z"
   },
   {
    "duration": 11,
    "start_time": "2024-04-30T11:31:03.571Z"
   },
   {
    "duration": 6,
    "start_time": "2024-04-30T11:31:03.583Z"
   },
   {
    "duration": 26,
    "start_time": "2024-04-30T11:31:03.591Z"
   },
   {
    "duration": 19,
    "start_time": "2024-04-30T11:31:03.619Z"
   },
   {
    "duration": 29,
    "start_time": "2024-04-30T11:31:03.639Z"
   },
   {
    "duration": 24,
    "start_time": "2024-04-30T11:31:03.670Z"
   },
   {
    "duration": 17,
    "start_time": "2024-04-30T11:31:03.696Z"
   },
   {
    "duration": 21,
    "start_time": "2024-04-30T11:31:03.714Z"
   },
   {
    "duration": 6,
    "start_time": "2024-04-30T11:31:03.736Z"
   },
   {
    "duration": 5,
    "start_time": "2024-04-30T11:31:03.744Z"
   },
   {
    "duration": 5,
    "start_time": "2024-04-30T11:31:03.750Z"
   },
   {
    "duration": 12,
    "start_time": "2024-04-30T11:31:03.756Z"
   },
   {
    "duration": 5,
    "start_time": "2024-04-30T11:31:03.769Z"
   },
   {
    "duration": 13,
    "start_time": "2024-04-30T11:31:03.775Z"
   },
   {
    "duration": 27,
    "start_time": "2024-04-30T11:31:03.789Z"
   },
   {
    "duration": 8,
    "start_time": "2024-04-30T11:31:03.818Z"
   },
   {
    "duration": 6,
    "start_time": "2024-04-30T11:31:03.828Z"
   },
   {
    "duration": 14,
    "start_time": "2024-04-30T11:31:03.835Z"
   },
   {
    "duration": 178,
    "start_time": "2024-04-30T11:31:03.851Z"
   },
   {
    "duration": 5,
    "start_time": "2024-04-30T11:31:04.031Z"
   },
   {
    "duration": 132,
    "start_time": "2024-04-30T11:31:04.040Z"
   },
   {
    "duration": 12,
    "start_time": "2024-04-30T11:31:04.174Z"
   },
   {
    "duration": 109,
    "start_time": "2024-04-30T11:31:04.188Z"
   },
   {
    "duration": 150,
    "start_time": "2024-04-30T11:31:04.299Z"
   },
   {
    "duration": 8,
    "start_time": "2024-04-30T11:31:04.451Z"
   },
   {
    "duration": 126,
    "start_time": "2024-04-30T11:31:04.461Z"
   },
   {
    "duration": 157,
    "start_time": "2024-04-30T11:31:04.588Z"
   },
   {
    "duration": 192,
    "start_time": "2024-04-30T11:31:04.747Z"
   },
   {
    "duration": 10,
    "start_time": "2024-04-30T11:31:04.941Z"
   },
   {
    "duration": 140,
    "start_time": "2024-04-30T11:31:04.953Z"
   },
   {
    "duration": 158,
    "start_time": "2024-04-30T11:31:05.095Z"
   },
   {
    "duration": 26,
    "start_time": "2024-04-30T11:31:05.254Z"
   },
   {
    "duration": 37,
    "start_time": "2024-04-30T11:31:05.282Z"
   },
   {
    "duration": 13,
    "start_time": "2024-04-30T11:31:05.321Z"
   },
   {
    "duration": 28,
    "start_time": "2024-04-30T11:31:05.336Z"
   },
   {
    "duration": 110,
    "start_time": "2024-04-30T11:31:05.366Z"
   },
   {
    "duration": 8,
    "start_time": "2024-04-30T11:31:05.477Z"
   },
   {
    "duration": 121,
    "start_time": "2024-04-30T11:31:05.486Z"
   },
   {
    "duration": 164,
    "start_time": "2024-04-30T11:31:05.609Z"
   },
   {
    "duration": 183,
    "start_time": "2024-04-30T11:31:05.774Z"
   },
   {
    "duration": 9,
    "start_time": "2024-04-30T11:31:05.958Z"
   },
   {
    "duration": 114,
    "start_time": "2024-04-30T11:31:05.968Z"
   },
   {
    "duration": 162,
    "start_time": "2024-04-30T11:31:06.084Z"
   },
   {
    "duration": 7,
    "start_time": "2024-04-30T11:31:06.248Z"
   },
   {
    "duration": 157,
    "start_time": "2024-04-30T11:31:06.257Z"
   },
   {
    "duration": 147,
    "start_time": "2024-04-30T11:31:06.416Z"
   },
   {
    "duration": 164,
    "start_time": "2024-04-30T11:31:06.564Z"
   },
   {
    "duration": 7,
    "start_time": "2024-04-30T11:31:06.730Z"
   },
   {
    "duration": 110,
    "start_time": "2024-04-30T11:31:06.739Z"
   },
   {
    "duration": 173,
    "start_time": "2024-04-30T11:31:06.850Z"
   },
   {
    "duration": 3,
    "start_time": "2024-04-30T11:31:07.024Z"
   },
   {
    "duration": 82,
    "start_time": "2024-04-30T11:31:07.029Z"
   },
   {
    "duration": 534,
    "start_time": "2024-04-30T11:31:07.112Z"
   },
   {
    "duration": 0,
    "start_time": "2024-04-30T11:31:07.648Z"
   },
   {
    "duration": 0,
    "start_time": "2024-04-30T11:31:07.649Z"
   },
   {
    "duration": 0,
    "start_time": "2024-04-30T11:31:07.650Z"
   },
   {
    "duration": 0,
    "start_time": "2024-04-30T11:31:07.651Z"
   },
   {
    "duration": 0,
    "start_time": "2024-04-30T11:31:07.652Z"
   },
   {
    "duration": 0,
    "start_time": "2024-04-30T11:31:07.653Z"
   },
   {
    "duration": 0,
    "start_time": "2024-04-30T11:31:07.655Z"
   },
   {
    "duration": 262,
    "start_time": "2024-04-30T11:32:15.196Z"
   },
   {
    "duration": 50,
    "start_time": "2024-04-30T11:32:55.585Z"
   },
   {
    "duration": 14,
    "start_time": "2024-04-30T11:32:57.133Z"
   },
   {
    "duration": 4,
    "start_time": "2024-04-30T11:34:35.169Z"
   },
   {
    "duration": 15,
    "start_time": "2024-04-30T11:34:37.130Z"
   },
   {
    "duration": 13,
    "start_time": "2024-04-30T11:34:52.634Z"
   },
   {
    "duration": 4,
    "start_time": "2024-04-30T11:35:17.282Z"
   },
   {
    "duration": 12,
    "start_time": "2024-04-30T11:35:19.417Z"
   },
   {
    "duration": 1109,
    "start_time": "2024-04-30T11:36:17.324Z"
   },
   {
    "duration": 1169,
    "start_time": "2024-04-30T11:36:38.189Z"
   },
   {
    "duration": 29,
    "start_time": "2024-04-30T11:36:39.360Z"
   },
   {
    "duration": 28,
    "start_time": "2024-04-30T11:36:39.390Z"
   },
   {
    "duration": 16,
    "start_time": "2024-04-30T11:36:39.420Z"
   },
   {
    "duration": 12,
    "start_time": "2024-04-30T11:36:39.438Z"
   },
   {
    "duration": 11,
    "start_time": "2024-04-30T11:36:39.451Z"
   },
   {
    "duration": 14,
    "start_time": "2024-04-30T11:36:39.463Z"
   },
   {
    "duration": 19,
    "start_time": "2024-04-30T11:36:39.479Z"
   },
   {
    "duration": 16,
    "start_time": "2024-04-30T11:36:39.500Z"
   },
   {
    "duration": 18,
    "start_time": "2024-04-30T11:36:39.517Z"
   },
   {
    "duration": 18,
    "start_time": "2024-04-30T11:36:39.537Z"
   },
   {
    "duration": 14,
    "start_time": "2024-04-30T11:36:39.557Z"
   },
   {
    "duration": 5,
    "start_time": "2024-04-30T11:36:39.572Z"
   },
   {
    "duration": 9,
    "start_time": "2024-04-30T11:36:39.580Z"
   },
   {
    "duration": 14,
    "start_time": "2024-04-30T11:36:39.590Z"
   },
   {
    "duration": 14,
    "start_time": "2024-04-30T11:36:39.605Z"
   },
   {
    "duration": 6,
    "start_time": "2024-04-30T11:36:39.620Z"
   },
   {
    "duration": 11,
    "start_time": "2024-04-30T11:36:39.628Z"
   },
   {
    "duration": 14,
    "start_time": "2024-04-30T11:36:39.640Z"
   },
   {
    "duration": 4,
    "start_time": "2024-04-30T11:36:39.656Z"
   },
   {
    "duration": 14,
    "start_time": "2024-04-30T11:36:39.661Z"
   },
   {
    "duration": 7,
    "start_time": "2024-04-30T11:36:39.676Z"
   },
   {
    "duration": 32,
    "start_time": "2024-04-30T11:36:39.684Z"
   },
   {
    "duration": 5,
    "start_time": "2024-04-30T11:36:39.717Z"
   },
   {
    "duration": 6,
    "start_time": "2024-04-30T11:36:39.723Z"
   },
   {
    "duration": 166,
    "start_time": "2024-04-30T11:36:39.731Z"
   },
   {
    "duration": 6,
    "start_time": "2024-04-30T11:36:39.898Z"
   },
   {
    "duration": 132,
    "start_time": "2024-04-30T11:36:39.905Z"
   },
   {
    "duration": 8,
    "start_time": "2024-04-30T11:36:40.038Z"
   },
   {
    "duration": 102,
    "start_time": "2024-04-30T11:36:40.048Z"
   },
   {
    "duration": 148,
    "start_time": "2024-04-30T11:36:40.151Z"
   },
   {
    "duration": 8,
    "start_time": "2024-04-30T11:36:40.300Z"
   },
   {
    "duration": 118,
    "start_time": "2024-04-30T11:36:40.310Z"
   },
   {
    "duration": 148,
    "start_time": "2024-04-30T11:36:40.430Z"
   },
   {
    "duration": 205,
    "start_time": "2024-04-30T11:36:40.580Z"
   },
   {
    "duration": 8,
    "start_time": "2024-04-30T11:36:40.787Z"
   },
   {
    "duration": 125,
    "start_time": "2024-04-30T11:36:40.796Z"
   },
   {
    "duration": 146,
    "start_time": "2024-04-30T11:36:40.922Z"
   },
   {
    "duration": 26,
    "start_time": "2024-04-30T11:36:41.069Z"
   },
   {
    "duration": 32,
    "start_time": "2024-04-30T11:36:41.096Z"
   },
   {
    "duration": 12,
    "start_time": "2024-04-30T11:36:41.133Z"
   },
   {
    "duration": 14,
    "start_time": "2024-04-30T11:36:41.146Z"
   },
   {
    "duration": 12,
    "start_time": "2024-04-30T11:36:41.161Z"
   },
   {
    "duration": 7,
    "start_time": "2024-04-30T11:36:41.175Z"
   },
   {
    "duration": 201,
    "start_time": "2024-04-30T11:36:41.184Z"
   },
   {
    "duration": 156,
    "start_time": "2024-04-30T11:36:41.386Z"
   },
   {
    "duration": 176,
    "start_time": "2024-04-30T11:36:41.544Z"
   },
   {
    "duration": 8,
    "start_time": "2024-04-30T11:36:41.721Z"
   },
   {
    "duration": 113,
    "start_time": "2024-04-30T11:36:41.730Z"
   },
   {
    "duration": 149,
    "start_time": "2024-04-30T11:36:41.845Z"
   },
   {
    "duration": 20,
    "start_time": "2024-04-30T11:36:41.996Z"
   },
   {
    "duration": 115,
    "start_time": "2024-04-30T11:36:42.018Z"
   },
   {
    "duration": 147,
    "start_time": "2024-04-30T11:36:42.135Z"
   },
   {
    "duration": 167,
    "start_time": "2024-04-30T11:36:42.284Z"
   },
   {
    "duration": 8,
    "start_time": "2024-04-30T11:36:42.452Z"
   },
   {
    "duration": 110,
    "start_time": "2024-04-30T11:36:42.462Z"
   },
   {
    "duration": 167,
    "start_time": "2024-04-30T11:36:42.574Z"
   },
   {
    "duration": 4,
    "start_time": "2024-04-30T11:36:42.744Z"
   },
   {
    "duration": 69,
    "start_time": "2024-04-30T11:36:42.750Z"
   },
   {
    "duration": 4,
    "start_time": "2024-04-30T11:36:42.821Z"
   },
   {
    "duration": 8,
    "start_time": "2024-04-30T11:36:42.827Z"
   },
   {
    "duration": 20,
    "start_time": "2024-04-30T11:36:42.837Z"
   },
   {
    "duration": 1925,
    "start_time": "2024-04-30T11:36:42.859Z"
   },
   {
    "duration": 0,
    "start_time": "2024-04-30T11:36:44.785Z"
   },
   {
    "duration": 0,
    "start_time": "2024-04-30T11:36:44.786Z"
   },
   {
    "duration": 0,
    "start_time": "2024-04-30T11:36:44.787Z"
   },
   {
    "duration": 0,
    "start_time": "2024-04-30T11:36:44.788Z"
   },
   {
    "duration": 5,
    "start_time": "2024-04-30T11:46:48.955Z"
   },
   {
    "duration": 60,
    "start_time": "2024-04-30T11:46:51.323Z"
   },
   {
    "duration": 15,
    "start_time": "2024-04-30T11:46:56.812Z"
   },
   {
    "duration": 326,
    "start_time": "2024-04-30T11:48:31.609Z"
   },
   {
    "duration": 1125,
    "start_time": "2024-04-30T11:49:54.329Z"
   },
   {
    "duration": 28,
    "start_time": "2024-04-30T11:49:55.456Z"
   },
   {
    "duration": 32,
    "start_time": "2024-04-30T11:49:55.485Z"
   },
   {
    "duration": 15,
    "start_time": "2024-04-30T11:49:55.519Z"
   },
   {
    "duration": 17,
    "start_time": "2024-04-30T11:49:55.536Z"
   },
   {
    "duration": 13,
    "start_time": "2024-04-30T11:49:55.555Z"
   },
   {
    "duration": 26,
    "start_time": "2024-04-30T11:49:55.570Z"
   },
   {
    "duration": 20,
    "start_time": "2024-04-30T11:49:55.597Z"
   },
   {
    "duration": 21,
    "start_time": "2024-04-30T11:49:55.618Z"
   },
   {
    "duration": 20,
    "start_time": "2024-04-30T11:49:55.642Z"
   },
   {
    "duration": 19,
    "start_time": "2024-04-30T11:49:55.664Z"
   },
   {
    "duration": 15,
    "start_time": "2024-04-30T11:49:55.684Z"
   },
   {
    "duration": 7,
    "start_time": "2024-04-30T11:49:55.700Z"
   },
   {
    "duration": 10,
    "start_time": "2024-04-30T11:49:55.708Z"
   },
   {
    "duration": 10,
    "start_time": "2024-04-30T11:49:55.719Z"
   },
   {
    "duration": 8,
    "start_time": "2024-04-30T11:49:55.730Z"
   },
   {
    "duration": 4,
    "start_time": "2024-04-30T11:49:55.740Z"
   },
   {
    "duration": 8,
    "start_time": "2024-04-30T11:49:55.746Z"
   },
   {
    "duration": 12,
    "start_time": "2024-04-30T11:49:55.756Z"
   },
   {
    "duration": 5,
    "start_time": "2024-04-30T11:49:55.769Z"
   },
   {
    "duration": 10,
    "start_time": "2024-04-30T11:49:55.776Z"
   },
   {
    "duration": 8,
    "start_time": "2024-04-30T11:49:55.814Z"
   },
   {
    "duration": 8,
    "start_time": "2024-04-30T11:49:55.823Z"
   },
   {
    "duration": 6,
    "start_time": "2024-04-30T11:49:55.832Z"
   },
   {
    "duration": 5,
    "start_time": "2024-04-30T11:49:55.839Z"
   },
   {
    "duration": 174,
    "start_time": "2024-04-30T11:49:55.846Z"
   },
   {
    "duration": 6,
    "start_time": "2024-04-30T11:49:56.022Z"
   },
   {
    "duration": 134,
    "start_time": "2024-04-30T11:49:56.031Z"
   },
   {
    "duration": 8,
    "start_time": "2024-04-30T11:49:56.166Z"
   },
   {
    "duration": 105,
    "start_time": "2024-04-30T11:49:56.175Z"
   },
   {
    "duration": 155,
    "start_time": "2024-04-30T11:49:56.281Z"
   },
   {
    "duration": 8,
    "start_time": "2024-04-30T11:49:56.438Z"
   },
   {
    "duration": 121,
    "start_time": "2024-04-30T11:49:56.447Z"
   },
   {
    "duration": 162,
    "start_time": "2024-04-30T11:49:56.569Z"
   },
   {
    "duration": 200,
    "start_time": "2024-04-30T11:49:56.733Z"
   },
   {
    "duration": 8,
    "start_time": "2024-04-30T11:49:56.934Z"
   },
   {
    "duration": 132,
    "start_time": "2024-04-30T11:49:56.943Z"
   },
   {
    "duration": 154,
    "start_time": "2024-04-30T11:49:57.076Z"
   },
   {
    "duration": 25,
    "start_time": "2024-04-30T11:49:57.231Z"
   },
   {
    "duration": 18,
    "start_time": "2024-04-30T11:49:57.257Z"
   },
   {
    "duration": 14,
    "start_time": "2024-04-30T11:49:57.276Z"
   },
   {
    "duration": 15,
    "start_time": "2024-04-30T11:49:57.315Z"
   },
   {
    "duration": 94,
    "start_time": "2024-04-30T11:49:57.331Z"
   },
   {
    "duration": 8,
    "start_time": "2024-04-30T11:49:57.427Z"
   },
   {
    "duration": 124,
    "start_time": "2024-04-30T11:49:57.436Z"
   },
   {
    "duration": 159,
    "start_time": "2024-04-30T11:49:57.561Z"
   },
   {
    "duration": 181,
    "start_time": "2024-04-30T11:49:57.722Z"
   },
   {
    "duration": 12,
    "start_time": "2024-04-30T11:49:57.905Z"
   },
   {
    "duration": 103,
    "start_time": "2024-04-30T11:49:57.918Z"
   },
   {
    "duration": 158,
    "start_time": "2024-04-30T11:49:58.023Z"
   },
   {
    "duration": 9,
    "start_time": "2024-04-30T11:49:58.183Z"
   },
   {
    "duration": 109,
    "start_time": "2024-04-30T11:49:58.193Z"
   },
   {
    "duration": 145,
    "start_time": "2024-04-30T11:49:58.303Z"
   },
   {
    "duration": 169,
    "start_time": "2024-04-30T11:49:58.449Z"
   },
   {
    "duration": 7,
    "start_time": "2024-04-30T11:49:58.620Z"
   },
   {
    "duration": 116,
    "start_time": "2024-04-30T11:49:58.629Z"
   },
   {
    "duration": 189,
    "start_time": "2024-04-30T11:49:58.747Z"
   },
   {
    "duration": 4,
    "start_time": "2024-04-30T11:49:58.937Z"
   },
   {
    "duration": 64,
    "start_time": "2024-04-30T11:49:58.942Z"
   },
   {
    "duration": 384,
    "start_time": "2024-04-30T11:49:59.014Z"
   },
   {
    "duration": 0,
    "start_time": "2024-04-30T11:49:59.400Z"
   },
   {
    "duration": 0,
    "start_time": "2024-04-30T11:49:59.401Z"
   },
   {
    "duration": 0,
    "start_time": "2024-04-30T11:49:59.402Z"
   },
   {
    "duration": 0,
    "start_time": "2024-04-30T11:49:59.403Z"
   },
   {
    "duration": 0,
    "start_time": "2024-04-30T11:49:59.404Z"
   },
   {
    "duration": 0,
    "start_time": "2024-04-30T11:49:59.405Z"
   },
   {
    "duration": 0,
    "start_time": "2024-04-30T11:49:59.406Z"
   },
   {
    "duration": 0,
    "start_time": "2024-04-30T11:49:59.407Z"
   },
   {
    "duration": 20,
    "start_time": "2024-04-30T11:51:11.652Z"
   },
   {
    "duration": 316,
    "start_time": "2024-04-30T11:52:01.628Z"
   },
   {
    "duration": 279,
    "start_time": "2024-04-30T11:52:15.979Z"
   },
   {
    "duration": 4,
    "start_time": "2024-04-30T11:52:41.785Z"
   },
   {
    "duration": 5,
    "start_time": "2024-04-30T11:52:50.358Z"
   },
   {
    "duration": 14,
    "start_time": "2024-04-30T11:53:02.028Z"
   },
   {
    "duration": 6,
    "start_time": "2024-04-30T11:53:45.927Z"
   },
   {
    "duration": 12,
    "start_time": "2024-04-30T11:53:46.978Z"
   },
   {
    "duration": 6,
    "start_time": "2024-04-30T11:55:03.629Z"
   },
   {
    "duration": 20,
    "start_time": "2024-04-30T11:55:04.784Z"
   },
   {
    "duration": 1142,
    "start_time": "2024-04-30T11:55:46.824Z"
   },
   {
    "duration": 29,
    "start_time": "2024-04-30T11:55:47.968Z"
   },
   {
    "duration": 28,
    "start_time": "2024-04-30T11:55:47.998Z"
   },
   {
    "duration": 15,
    "start_time": "2024-04-30T11:55:48.028Z"
   },
   {
    "duration": 12,
    "start_time": "2024-04-30T11:55:48.044Z"
   },
   {
    "duration": 14,
    "start_time": "2024-04-30T11:55:48.058Z"
   },
   {
    "duration": 17,
    "start_time": "2024-04-30T11:55:48.074Z"
   },
   {
    "duration": 23,
    "start_time": "2024-04-30T11:55:48.092Z"
   },
   {
    "duration": 8,
    "start_time": "2024-04-30T11:55:48.116Z"
   },
   {
    "duration": 16,
    "start_time": "2024-04-30T11:55:48.127Z"
   },
   {
    "duration": 14,
    "start_time": "2024-04-30T11:55:48.145Z"
   },
   {
    "duration": 12,
    "start_time": "2024-04-30T11:55:48.160Z"
   },
   {
    "duration": 7,
    "start_time": "2024-04-30T11:55:48.173Z"
   },
   {
    "duration": 11,
    "start_time": "2024-04-30T11:55:48.182Z"
   },
   {
    "duration": 8,
    "start_time": "2024-04-30T11:55:48.215Z"
   },
   {
    "duration": 7,
    "start_time": "2024-04-30T11:55:48.224Z"
   },
   {
    "duration": 7,
    "start_time": "2024-04-30T11:55:48.232Z"
   },
   {
    "duration": 5,
    "start_time": "2024-04-30T11:55:48.240Z"
   },
   {
    "duration": 17,
    "start_time": "2024-04-30T11:55:48.247Z"
   },
   {
    "duration": 5,
    "start_time": "2024-04-30T11:55:48.265Z"
   },
   {
    "duration": 13,
    "start_time": "2024-04-30T11:55:48.272Z"
   },
   {
    "duration": 32,
    "start_time": "2024-04-30T11:55:48.286Z"
   },
   {
    "duration": 8,
    "start_time": "2024-04-30T11:55:48.319Z"
   },
   {
    "duration": 12,
    "start_time": "2024-04-30T11:55:48.328Z"
   },
   {
    "duration": 7,
    "start_time": "2024-04-30T11:55:48.341Z"
   },
   {
    "duration": 164,
    "start_time": "2024-04-30T11:55:48.350Z"
   },
   {
    "duration": 5,
    "start_time": "2024-04-30T11:55:48.515Z"
   },
   {
    "duration": 128,
    "start_time": "2024-04-30T11:55:48.524Z"
   },
   {
    "duration": 7,
    "start_time": "2024-04-30T11:55:48.653Z"
   },
   {
    "duration": 104,
    "start_time": "2024-04-30T11:55:48.662Z"
   },
   {
    "duration": 160,
    "start_time": "2024-04-30T11:55:48.768Z"
   },
   {
    "duration": 8,
    "start_time": "2024-04-30T11:55:48.930Z"
   },
   {
    "duration": 126,
    "start_time": "2024-04-30T11:55:48.939Z"
   },
   {
    "duration": 162,
    "start_time": "2024-04-30T11:55:49.067Z"
   },
   {
    "duration": 202,
    "start_time": "2024-04-30T11:55:49.231Z"
   },
   {
    "duration": 8,
    "start_time": "2024-04-30T11:55:49.434Z"
   },
   {
    "duration": 120,
    "start_time": "2024-04-30T11:55:49.444Z"
   },
   {
    "duration": 154,
    "start_time": "2024-04-30T11:55:49.565Z"
   },
   {
    "duration": 26,
    "start_time": "2024-04-30T11:55:49.720Z"
   },
   {
    "duration": 18,
    "start_time": "2024-04-30T11:55:49.748Z"
   },
   {
    "duration": 12,
    "start_time": "2024-04-30T11:55:49.767Z"
   },
   {
    "duration": 46,
    "start_time": "2024-04-30T11:55:49.781Z"
   },
   {
    "duration": 99,
    "start_time": "2024-04-30T11:55:49.828Z"
   },
   {
    "duration": 7,
    "start_time": "2024-04-30T11:55:49.929Z"
   },
   {
    "duration": 117,
    "start_time": "2024-04-30T11:55:49.937Z"
   },
   {
    "duration": 162,
    "start_time": "2024-04-30T11:55:50.055Z"
   },
   {
    "duration": 173,
    "start_time": "2024-04-30T11:55:50.218Z"
   },
   {
    "duration": 22,
    "start_time": "2024-04-30T11:55:50.393Z"
   },
   {
    "duration": 111,
    "start_time": "2024-04-30T11:55:50.417Z"
   },
   {
    "duration": 155,
    "start_time": "2024-04-30T11:55:50.530Z"
   },
   {
    "duration": 8,
    "start_time": "2024-04-30T11:55:50.686Z"
   },
   {
    "duration": 101,
    "start_time": "2024-04-30T11:55:50.696Z"
   },
   {
    "duration": 137,
    "start_time": "2024-04-30T11:55:50.799Z"
   },
   {
    "duration": 177,
    "start_time": "2024-04-30T11:55:50.937Z"
   },
   {
    "duration": 8,
    "start_time": "2024-04-30T11:55:51.116Z"
   },
   {
    "duration": 110,
    "start_time": "2024-04-30T11:55:51.126Z"
   },
   {
    "duration": 170,
    "start_time": "2024-04-30T11:55:51.237Z"
   },
   {
    "duration": 8,
    "start_time": "2024-04-30T11:55:51.408Z"
   },
   {
    "duration": 64,
    "start_time": "2024-04-30T11:55:51.417Z"
   },
   {
    "duration": 3,
    "start_time": "2024-04-30T11:55:51.483Z"
   },
   {
    "duration": 5,
    "start_time": "2024-04-30T11:55:51.487Z"
   },
   {
    "duration": 5,
    "start_time": "2024-04-30T11:55:51.494Z"
   },
   {
    "duration": 32,
    "start_time": "2024-04-30T11:55:51.500Z"
   },
   {
    "duration": 14,
    "start_time": "2024-04-30T11:55:51.533Z"
   },
   {
    "duration": 14,
    "start_time": "2024-04-30T11:55:51.548Z"
   },
   {
    "duration": 9,
    "start_time": "2024-04-30T11:55:51.563Z"
   },
   {
    "duration": 7,
    "start_time": "2024-04-30T11:55:51.573Z"
   },
   {
    "duration": 9,
    "start_time": "2024-04-30T11:55:51.582Z"
   },
   {
    "duration": 8,
    "start_time": "2024-04-30T12:06:20.465Z"
   },
   {
    "duration": 1142,
    "start_time": "2024-04-30T13:10:36.224Z"
   },
   {
    "duration": 28,
    "start_time": "2024-04-30T13:10:37.368Z"
   },
   {
    "duration": 28,
    "start_time": "2024-04-30T13:10:37.398Z"
   },
   {
    "duration": 15,
    "start_time": "2024-04-30T13:10:37.428Z"
   },
   {
    "duration": 16,
    "start_time": "2024-04-30T13:10:37.444Z"
   },
   {
    "duration": 11,
    "start_time": "2024-04-30T13:10:37.462Z"
   },
   {
    "duration": 22,
    "start_time": "2024-04-30T13:10:37.475Z"
   },
   {
    "duration": 19,
    "start_time": "2024-04-30T13:10:37.499Z"
   },
   {
    "duration": 6,
    "start_time": "2024-04-30T13:10:37.519Z"
   },
   {
    "duration": 9,
    "start_time": "2024-04-30T13:10:37.528Z"
   },
   {
    "duration": 8,
    "start_time": "2024-04-30T13:10:37.538Z"
   },
   {
    "duration": 9,
    "start_time": "2024-04-30T13:10:37.548Z"
   },
   {
    "duration": 4,
    "start_time": "2024-04-30T13:10:37.558Z"
   },
   {
    "duration": 52,
    "start_time": "2024-04-30T13:10:37.563Z"
   },
   {
    "duration": 8,
    "start_time": "2024-04-30T13:10:37.617Z"
   },
   {
    "duration": 8,
    "start_time": "2024-04-30T13:10:37.627Z"
   },
   {
    "duration": 7,
    "start_time": "2024-04-30T13:10:37.636Z"
   },
   {
    "duration": 12,
    "start_time": "2024-04-30T13:10:37.645Z"
   },
   {
    "duration": 12,
    "start_time": "2024-04-30T13:10:37.658Z"
   },
   {
    "duration": 43,
    "start_time": "2024-04-30T13:10:37.672Z"
   },
   {
    "duration": 13,
    "start_time": "2024-04-30T13:10:37.716Z"
   },
   {
    "duration": 7,
    "start_time": "2024-04-30T13:10:37.731Z"
   },
   {
    "duration": 13,
    "start_time": "2024-04-30T13:10:37.740Z"
   },
   {
    "duration": 7,
    "start_time": "2024-04-30T13:10:37.756Z"
   },
   {
    "duration": 30,
    "start_time": "2024-04-30T13:10:37.765Z"
   },
   {
    "duration": 213,
    "start_time": "2024-04-30T13:10:37.797Z"
   },
   {
    "duration": 6,
    "start_time": "2024-04-30T13:10:38.014Z"
   },
   {
    "duration": 132,
    "start_time": "2024-04-30T13:10:38.023Z"
   },
   {
    "duration": 8,
    "start_time": "2024-04-30T13:10:38.157Z"
   },
   {
    "duration": 105,
    "start_time": "2024-04-30T13:10:38.166Z"
   },
   {
    "duration": 147,
    "start_time": "2024-04-30T13:10:38.272Z"
   },
   {
    "duration": 8,
    "start_time": "2024-04-30T13:10:38.421Z"
   },
   {
    "duration": 121,
    "start_time": "2024-04-30T13:10:38.430Z"
   },
   {
    "duration": 152,
    "start_time": "2024-04-30T13:10:38.552Z"
   },
   {
    "duration": 230,
    "start_time": "2024-04-30T13:10:38.705Z"
   },
   {
    "duration": 11,
    "start_time": "2024-04-30T13:10:38.938Z"
   },
   {
    "duration": 159,
    "start_time": "2024-04-30T13:10:38.951Z"
   },
   {
    "duration": 150,
    "start_time": "2024-04-30T13:10:39.115Z"
   },
   {
    "duration": 26,
    "start_time": "2024-04-30T13:10:39.267Z"
   },
   {
    "duration": 33,
    "start_time": "2024-04-30T13:10:39.295Z"
   },
   {
    "duration": 12,
    "start_time": "2024-04-30T13:10:39.330Z"
   },
   {
    "duration": 14,
    "start_time": "2024-04-30T13:10:39.344Z"
   },
   {
    "duration": 120,
    "start_time": "2024-04-30T13:10:39.360Z"
   },
   {
    "duration": 10,
    "start_time": "2024-04-30T13:10:39.481Z"
   },
   {
    "duration": 133,
    "start_time": "2024-04-30T13:10:39.493Z"
   },
   {
    "duration": 156,
    "start_time": "2024-04-30T13:10:39.627Z"
   },
   {
    "duration": 180,
    "start_time": "2024-04-30T13:10:39.785Z"
   },
   {
    "duration": 8,
    "start_time": "2024-04-30T13:10:39.967Z"
   },
   {
    "duration": 111,
    "start_time": "2024-04-30T13:10:39.976Z"
   },
   {
    "duration": 149,
    "start_time": "2024-04-30T13:10:40.089Z"
   },
   {
    "duration": 8,
    "start_time": "2024-04-30T13:10:40.240Z"
   },
   {
    "duration": 112,
    "start_time": "2024-04-30T13:10:40.249Z"
   },
   {
    "duration": 142,
    "start_time": "2024-04-30T13:10:40.362Z"
   },
   {
    "duration": 168,
    "start_time": "2024-04-30T13:10:40.505Z"
   },
   {
    "duration": 8,
    "start_time": "2024-04-30T13:10:40.675Z"
   },
   {
    "duration": 116,
    "start_time": "2024-04-30T13:10:40.684Z"
   },
   {
    "duration": 161,
    "start_time": "2024-04-30T13:10:40.801Z"
   },
   {
    "duration": 4,
    "start_time": "2024-04-30T13:10:40.963Z"
   },
   {
    "duration": 71,
    "start_time": "2024-04-30T13:10:40.969Z"
   },
   {
    "duration": 3,
    "start_time": "2024-04-30T13:10:41.042Z"
   },
   {
    "duration": 8,
    "start_time": "2024-04-30T13:10:41.047Z"
   },
   {
    "duration": 13,
    "start_time": "2024-04-30T13:10:41.057Z"
   },
   {
    "duration": 17,
    "start_time": "2024-04-30T13:10:41.071Z"
   },
   {
    "duration": 5,
    "start_time": "2024-04-30T13:10:41.089Z"
   },
   {
    "duration": 23,
    "start_time": "2024-04-30T13:10:41.095Z"
   },
   {
    "duration": 5,
    "start_time": "2024-04-30T13:10:41.120Z"
   },
   {
    "duration": 4,
    "start_time": "2024-04-30T13:10:41.127Z"
   },
   {
    "duration": 13,
    "start_time": "2024-04-30T13:10:41.132Z"
   },
   {
    "duration": 1141,
    "start_time": "2024-04-30T13:54:22.307Z"
   },
   {
    "duration": 29,
    "start_time": "2024-04-30T13:54:23.451Z"
   },
   {
    "duration": 29,
    "start_time": "2024-04-30T13:54:23.481Z"
   },
   {
    "duration": 16,
    "start_time": "2024-04-30T13:54:23.514Z"
   },
   {
    "duration": 12,
    "start_time": "2024-04-30T13:54:23.532Z"
   },
   {
    "duration": 11,
    "start_time": "2024-04-30T13:54:23.546Z"
   },
   {
    "duration": 14,
    "start_time": "2024-04-30T13:54:23.558Z"
   },
   {
    "duration": 19,
    "start_time": "2024-04-30T13:54:23.574Z"
   },
   {
    "duration": 7,
    "start_time": "2024-04-30T13:54:23.595Z"
   },
   {
    "duration": 11,
    "start_time": "2024-04-30T13:54:23.605Z"
   },
   {
    "duration": 10,
    "start_time": "2024-04-30T13:54:23.617Z"
   },
   {
    "duration": 11,
    "start_time": "2024-04-30T13:54:23.629Z"
   },
   {
    "duration": 4,
    "start_time": "2024-04-30T13:54:23.642Z"
   },
   {
    "duration": 40,
    "start_time": "2024-04-30T13:54:23.648Z"
   },
   {
    "duration": 5,
    "start_time": "2024-04-30T13:54:23.690Z"
   },
   {
    "duration": 6,
    "start_time": "2024-04-30T13:54:23.697Z"
   },
   {
    "duration": 6,
    "start_time": "2024-04-30T13:54:23.704Z"
   },
   {
    "duration": 6,
    "start_time": "2024-04-30T13:54:23.711Z"
   },
   {
    "duration": 16,
    "start_time": "2024-04-30T13:54:23.719Z"
   },
   {
    "duration": 5,
    "start_time": "2024-04-30T13:54:23.737Z"
   },
   {
    "duration": 12,
    "start_time": "2024-04-30T13:54:23.782Z"
   },
   {
    "duration": 6,
    "start_time": "2024-04-30T13:54:23.796Z"
   },
   {
    "duration": 9,
    "start_time": "2024-04-30T13:54:23.803Z"
   },
   {
    "duration": 5,
    "start_time": "2024-04-30T13:54:23.814Z"
   },
   {
    "duration": 13,
    "start_time": "2024-04-30T13:54:23.821Z"
   },
   {
    "duration": 207,
    "start_time": "2024-04-30T13:54:23.836Z"
   },
   {
    "duration": 6,
    "start_time": "2024-04-30T13:54:24.044Z"
   },
   {
    "duration": 154,
    "start_time": "2024-04-30T13:54:24.054Z"
   },
   {
    "duration": 10,
    "start_time": "2024-04-30T13:54:24.210Z"
   },
   {
    "duration": 117,
    "start_time": "2024-04-30T13:54:24.222Z"
   },
   {
    "duration": 161,
    "start_time": "2024-04-30T13:54:24.341Z"
   },
   {
    "duration": 8,
    "start_time": "2024-04-30T13:54:24.504Z"
   },
   {
    "duration": 130,
    "start_time": "2024-04-30T13:54:24.513Z"
   },
   {
    "duration": 164,
    "start_time": "2024-04-30T13:54:24.644Z"
   },
   {
    "duration": 211,
    "start_time": "2024-04-30T13:54:24.809Z"
   },
   {
    "duration": 9,
    "start_time": "2024-04-30T13:54:25.022Z"
   },
   {
    "duration": 135,
    "start_time": "2024-04-30T13:54:25.033Z"
   },
   {
    "duration": 165,
    "start_time": "2024-04-30T13:54:25.170Z"
   },
   {
    "duration": 27,
    "start_time": "2024-04-30T13:54:25.337Z"
   },
   {
    "duration": 31,
    "start_time": "2024-04-30T13:54:25.366Z"
   },
   {
    "duration": 14,
    "start_time": "2024-04-30T13:54:25.399Z"
   },
   {
    "duration": 17,
    "start_time": "2024-04-30T13:54:25.415Z"
   },
   {
    "duration": 120,
    "start_time": "2024-04-30T13:54:25.433Z"
   },
   {
    "duration": 8,
    "start_time": "2024-04-30T13:54:25.555Z"
   },
   {
    "duration": 139,
    "start_time": "2024-04-30T13:54:25.564Z"
   },
   {
    "duration": 188,
    "start_time": "2024-04-30T13:54:25.705Z"
   },
   {
    "duration": 193,
    "start_time": "2024-04-30T13:54:25.895Z"
   },
   {
    "duration": 9,
    "start_time": "2024-04-30T13:54:26.090Z"
   },
   {
    "duration": 124,
    "start_time": "2024-04-30T13:54:26.101Z"
   },
   {
    "duration": 161,
    "start_time": "2024-04-30T13:54:26.226Z"
   },
   {
    "duration": 8,
    "start_time": "2024-04-30T13:54:26.388Z"
   },
   {
    "duration": 112,
    "start_time": "2024-04-30T13:54:26.398Z"
   },
   {
    "duration": 145,
    "start_time": "2024-04-30T13:54:26.512Z"
   },
   {
    "duration": 181,
    "start_time": "2024-04-30T13:54:26.659Z"
   },
   {
    "duration": 7,
    "start_time": "2024-04-30T13:54:26.842Z"
   },
   {
    "duration": 124,
    "start_time": "2024-04-30T13:54:26.851Z"
   },
   {
    "duration": 186,
    "start_time": "2024-04-30T13:54:26.976Z"
   },
   {
    "duration": 3,
    "start_time": "2024-04-30T13:54:27.164Z"
   },
   {
    "duration": 70,
    "start_time": "2024-04-30T13:54:27.183Z"
   },
   {
    "duration": 3,
    "start_time": "2024-04-30T13:54:27.255Z"
   },
   {
    "duration": 8,
    "start_time": "2024-04-30T13:54:27.260Z"
   },
   {
    "duration": 19,
    "start_time": "2024-04-30T13:54:27.281Z"
   },
   {
    "duration": 22,
    "start_time": "2024-04-30T13:54:27.302Z"
   },
   {
    "duration": 10,
    "start_time": "2024-04-30T13:54:27.327Z"
   },
   {
    "duration": 20,
    "start_time": "2024-04-30T13:54:27.339Z"
   },
   {
    "duration": 9,
    "start_time": "2024-04-30T13:54:27.361Z"
   },
   {
    "duration": 11,
    "start_time": "2024-04-30T13:54:27.372Z"
   },
   {
    "duration": 8,
    "start_time": "2024-04-30T13:54:27.384Z"
   },
   {
    "duration": 23,
    "start_time": "2024-04-30T14:00:20.758Z"
   },
   {
    "duration": 8,
    "start_time": "2024-04-30T17:19:02.154Z"
   },
   {
    "duration": 10,
    "start_time": "2024-04-30T17:19:04.635Z"
   },
   {
    "duration": 5,
    "start_time": "2024-04-30T17:19:53.749Z"
   },
   {
    "duration": 12,
    "start_time": "2024-04-30T17:19:56.478Z"
   },
   {
    "duration": 6,
    "start_time": "2024-04-30T17:20:30.743Z"
   },
   {
    "duration": 9,
    "start_time": "2024-04-30T17:20:32.879Z"
   },
   {
    "duration": 5,
    "start_time": "2024-04-30T17:22:30.554Z"
   },
   {
    "duration": 9,
    "start_time": "2024-04-30T17:22:32.766Z"
   },
   {
    "duration": 4,
    "start_time": "2024-04-30T17:23:25.472Z"
   },
   {
    "duration": 10,
    "start_time": "2024-04-30T17:24:15.850Z"
   },
   {
    "duration": 90,
    "start_time": "2024-04-30T17:25:20.797Z"
   },
   {
    "duration": 6,
    "start_time": "2024-04-30T17:25:53.357Z"
   },
   {
    "duration": 5,
    "start_time": "2024-04-30T17:25:55.494Z"
   },
   {
    "duration": 6,
    "start_time": "2024-04-30T17:27:17.349Z"
   },
   {
    "duration": 5,
    "start_time": "2024-04-30T17:27:36.894Z"
   },
   {
    "duration": 6,
    "start_time": "2024-04-30T17:28:53.285Z"
   },
   {
    "duration": 9,
    "start_time": "2024-04-30T17:28:58.494Z"
   },
   {
    "duration": 71,
    "start_time": "2024-04-30T17:29:40.779Z"
   },
   {
    "duration": 171,
    "start_time": "2024-04-30T17:35:05.104Z"
   },
   {
    "duration": 10,
    "start_time": "2024-04-30T17:38:52.877Z"
   },
   {
    "duration": 159,
    "start_time": "2024-04-30T17:42:04.276Z"
   },
   {
    "duration": 94,
    "start_time": "2024-04-30T17:42:25.054Z"
   },
   {
    "duration": 93,
    "start_time": "2024-04-30T17:42:49.103Z"
   },
   {
    "duration": 9,
    "start_time": "2024-04-30T17:43:19.836Z"
   },
   {
    "duration": 8,
    "start_time": "2024-04-30T17:43:51.270Z"
   },
   {
    "duration": 107,
    "start_time": "2024-04-30T17:48:21.013Z"
   },
   {
    "duration": 92,
    "start_time": "2024-04-30T17:48:44.341Z"
   },
   {
    "duration": 88,
    "start_time": "2024-04-30T17:50:17.970Z"
   },
   {
    "duration": 98,
    "start_time": "2024-04-30T17:51:32.402Z"
   },
   {
    "duration": 4,
    "start_time": "2024-04-30T17:58:19.127Z"
   },
   {
    "duration": 4,
    "start_time": "2024-04-30T17:58:45.692Z"
   },
   {
    "duration": 5,
    "start_time": "2024-04-30T17:58:51.046Z"
   },
   {
    "duration": 4,
    "start_time": "2024-04-30T17:58:59.113Z"
   },
   {
    "duration": 4,
    "start_time": "2024-04-30T17:59:54.719Z"
   },
   {
    "duration": 13,
    "start_time": "2024-04-30T22:15:48.826Z"
   },
   {
    "duration": 4,
    "start_time": "2024-04-30T22:16:25.193Z"
   },
   {
    "duration": 11,
    "start_time": "2024-04-30T22:18:49.879Z"
   },
   {
    "duration": 12,
    "start_time": "2024-04-30T22:19:12.948Z"
   },
   {
    "duration": 10,
    "start_time": "2024-04-30T22:19:38.500Z"
   },
   {
    "duration": 76,
    "start_time": "2024-04-30T22:23:24.818Z"
   },
   {
    "duration": 7,
    "start_time": "2024-04-30T22:30:05.059Z"
   },
   {
    "duration": 5,
    "start_time": "2024-04-30T22:30:22.251Z"
   },
   {
    "duration": 68,
    "start_time": "2024-04-30T22:30:59.848Z"
   },
   {
    "duration": 17,
    "start_time": "2024-04-30T22:35:41.775Z"
   },
   {
    "duration": 1094,
    "start_time": "2024-04-30T22:36:02.576Z"
   },
   {
    "duration": 29,
    "start_time": "2024-04-30T22:36:03.672Z"
   },
   {
    "duration": 28,
    "start_time": "2024-04-30T22:36:03.703Z"
   },
   {
    "duration": 15,
    "start_time": "2024-04-30T22:36:03.733Z"
   },
   {
    "duration": 11,
    "start_time": "2024-04-30T22:36:03.750Z"
   },
   {
    "duration": 11,
    "start_time": "2024-04-30T22:36:03.763Z"
   },
   {
    "duration": 10,
    "start_time": "2024-04-30T22:36:03.775Z"
   },
   {
    "duration": 14,
    "start_time": "2024-04-30T22:36:03.786Z"
   },
   {
    "duration": 17,
    "start_time": "2024-04-30T22:36:03.802Z"
   },
   {
    "duration": 10,
    "start_time": "2024-04-30T22:36:03.821Z"
   },
   {
    "duration": 8,
    "start_time": "2024-04-30T22:36:03.832Z"
   },
   {
    "duration": 10,
    "start_time": "2024-04-30T22:36:03.842Z"
   },
   {
    "duration": 6,
    "start_time": "2024-04-30T22:36:03.853Z"
   },
   {
    "duration": 5,
    "start_time": "2024-04-30T22:36:03.861Z"
   },
   {
    "duration": 10,
    "start_time": "2024-04-30T22:36:03.867Z"
   },
   {
    "duration": 40,
    "start_time": "2024-04-30T22:36:03.879Z"
   },
   {
    "duration": 6,
    "start_time": "2024-04-30T22:36:03.921Z"
   },
   {
    "duration": 6,
    "start_time": "2024-04-30T22:36:03.928Z"
   },
   {
    "duration": 14,
    "start_time": "2024-04-30T22:36:03.935Z"
   },
   {
    "duration": 22,
    "start_time": "2024-04-30T22:36:03.951Z"
   },
   {
    "duration": 15,
    "start_time": "2024-04-30T22:36:03.974Z"
   },
   {
    "duration": 4,
    "start_time": "2024-04-30T22:36:03.991Z"
   },
   {
    "duration": 22,
    "start_time": "2024-04-30T22:36:03.997Z"
   },
   {
    "duration": 5,
    "start_time": "2024-04-30T22:36:04.020Z"
   },
   {
    "duration": 10,
    "start_time": "2024-04-30T22:36:04.027Z"
   },
   {
    "duration": 11,
    "start_time": "2024-04-30T22:36:04.038Z"
   },
   {
    "duration": 19,
    "start_time": "2024-04-30T22:36:04.050Z"
   },
   {
    "duration": 153,
    "start_time": "2024-04-30T22:36:04.073Z"
   },
   {
    "duration": 5,
    "start_time": "2024-04-30T22:36:04.228Z"
   },
   {
    "duration": 101,
    "start_time": "2024-04-30T22:36:04.234Z"
   },
   {
    "duration": 7,
    "start_time": "2024-04-30T22:36:04.336Z"
   },
   {
    "duration": 103,
    "start_time": "2024-04-30T22:36:04.345Z"
   },
   {
    "duration": 141,
    "start_time": "2024-04-30T22:36:04.449Z"
   },
   {
    "duration": 9,
    "start_time": "2024-04-30T22:36:04.591Z"
   },
   {
    "duration": 128,
    "start_time": "2024-04-30T22:36:04.601Z"
   },
   {
    "duration": 153,
    "start_time": "2024-04-30T22:36:04.731Z"
   },
   {
    "duration": 206,
    "start_time": "2024-04-30T22:36:04.886Z"
   },
   {
    "duration": 9,
    "start_time": "2024-04-30T22:36:05.094Z"
   },
   {
    "duration": 112,
    "start_time": "2024-04-30T22:36:05.115Z"
   },
   {
    "duration": 144,
    "start_time": "2024-04-30T22:36:05.228Z"
   },
   {
    "duration": 11,
    "start_time": "2024-04-30T22:36:05.373Z"
   },
   {
    "duration": 14,
    "start_time": "2024-04-30T22:36:05.385Z"
   },
   {
    "duration": 25,
    "start_time": "2024-04-30T22:36:05.400Z"
   },
   {
    "duration": 46,
    "start_time": "2024-04-30T22:36:05.426Z"
   },
   {
    "duration": 4,
    "start_time": "2024-04-30T22:36:05.473Z"
   },
   {
    "duration": 14,
    "start_time": "2024-04-30T22:36:05.478Z"
   },
   {
    "duration": 43,
    "start_time": "2024-04-30T22:36:05.493Z"
   },
   {
    "duration": 12,
    "start_time": "2024-04-30T22:36:05.537Z"
   },
   {
    "duration": 91,
    "start_time": "2024-04-30T22:36:05.550Z"
   },
   {
    "duration": 13,
    "start_time": "2024-04-30T22:36:05.642Z"
   },
   {
    "duration": 10,
    "start_time": "2024-04-30T22:36:05.657Z"
   },
   {
    "duration": 118,
    "start_time": "2024-04-30T22:36:05.669Z"
   },
   {
    "duration": 156,
    "start_time": "2024-04-30T22:36:05.789Z"
   },
   {
    "duration": 181,
    "start_time": "2024-04-30T22:36:05.946Z"
   },
   {
    "duration": 8,
    "start_time": "2024-04-30T22:36:06.129Z"
   },
   {
    "duration": 120,
    "start_time": "2024-04-30T22:36:06.138Z"
   },
   {
    "duration": 150,
    "start_time": "2024-04-30T22:36:06.260Z"
   },
   {
    "duration": 8,
    "start_time": "2024-04-30T22:36:06.414Z"
   },
   {
    "duration": 117,
    "start_time": "2024-04-30T22:36:06.424Z"
   },
   {
    "duration": 140,
    "start_time": "2024-04-30T22:36:06.543Z"
   },
   {
    "duration": 172,
    "start_time": "2024-04-30T22:36:06.685Z"
   },
   {
    "duration": 9,
    "start_time": "2024-04-30T22:36:06.858Z"
   },
   {
    "duration": 119,
    "start_time": "2024-04-30T22:36:06.869Z"
   },
   {
    "duration": 166,
    "start_time": "2024-04-30T22:36:06.990Z"
   },
   {
    "duration": 4,
    "start_time": "2024-04-30T22:36:07.158Z"
   },
   {
    "duration": 70,
    "start_time": "2024-04-30T22:36:07.163Z"
   },
   {
    "duration": 3,
    "start_time": "2024-04-30T22:36:07.235Z"
   },
   {
    "duration": 12,
    "start_time": "2024-04-30T22:36:07.239Z"
   },
   {
    "duration": 7,
    "start_time": "2024-04-30T22:36:07.252Z"
   },
   {
    "duration": 29,
    "start_time": "2024-04-30T22:36:07.260Z"
   },
   {
    "duration": 21,
    "start_time": "2024-04-30T22:36:07.291Z"
   },
   {
    "duration": 15,
    "start_time": "2024-04-30T22:36:07.314Z"
   },
   {
    "duration": 32,
    "start_time": "2024-04-30T22:36:07.330Z"
   },
   {
    "duration": 21,
    "start_time": "2024-04-30T22:36:07.364Z"
   },
   {
    "duration": 15,
    "start_time": "2024-04-30T22:36:07.386Z"
   },
   {
    "duration": 17,
    "start_time": "2024-04-30T22:36:07.402Z"
   },
   {
    "duration": 13,
    "start_time": "2024-04-30T22:36:07.420Z"
   },
   {
    "duration": 4,
    "start_time": "2024-04-30T22:38:08.331Z"
   },
   {
    "duration": 1145,
    "start_time": "2024-04-30T22:38:14.733Z"
   },
   {
    "duration": 28,
    "start_time": "2024-04-30T22:38:15.880Z"
   },
   {
    "duration": 27,
    "start_time": "2024-04-30T22:38:15.910Z"
   },
   {
    "duration": 17,
    "start_time": "2024-04-30T22:38:15.939Z"
   },
   {
    "duration": 12,
    "start_time": "2024-04-30T22:38:15.957Z"
   },
   {
    "duration": 22,
    "start_time": "2024-04-30T22:38:15.970Z"
   },
   {
    "duration": 17,
    "start_time": "2024-04-30T22:38:15.993Z"
   },
   {
    "duration": 12,
    "start_time": "2024-04-30T22:38:16.011Z"
   },
   {
    "duration": 10,
    "start_time": "2024-04-30T22:38:16.025Z"
   },
   {
    "duration": 11,
    "start_time": "2024-04-30T22:38:16.038Z"
   },
   {
    "duration": 13,
    "start_time": "2024-04-30T22:38:16.051Z"
   },
   {
    "duration": 9,
    "start_time": "2024-04-30T22:38:16.065Z"
   },
   {
    "duration": 5,
    "start_time": "2024-04-30T22:38:16.076Z"
   },
   {
    "duration": 12,
    "start_time": "2024-04-30T22:38:16.082Z"
   },
   {
    "duration": 20,
    "start_time": "2024-04-30T22:38:16.096Z"
   },
   {
    "duration": 9,
    "start_time": "2024-04-30T22:38:16.118Z"
   },
   {
    "duration": 19,
    "start_time": "2024-04-30T22:38:16.129Z"
   },
   {
    "duration": 9,
    "start_time": "2024-04-30T22:38:16.149Z"
   },
   {
    "duration": 6,
    "start_time": "2024-04-30T22:38:16.160Z"
   },
   {
    "duration": 12,
    "start_time": "2024-04-30T22:38:16.168Z"
   },
   {
    "duration": 18,
    "start_time": "2024-04-30T22:38:16.182Z"
   },
   {
    "duration": 13,
    "start_time": "2024-04-30T22:38:16.202Z"
   },
   {
    "duration": 13,
    "start_time": "2024-04-30T22:38:16.216Z"
   },
   {
    "duration": 19,
    "start_time": "2024-04-30T22:38:16.231Z"
   },
   {
    "duration": 17,
    "start_time": "2024-04-30T22:38:16.251Z"
   },
   {
    "duration": 7,
    "start_time": "2024-04-30T22:38:16.270Z"
   },
   {
    "duration": 17,
    "start_time": "2024-04-30T22:38:16.278Z"
   },
   {
    "duration": 180,
    "start_time": "2024-04-30T22:38:16.300Z"
   },
   {
    "duration": 6,
    "start_time": "2024-04-30T22:38:16.482Z"
   },
   {
    "duration": 504,
    "start_time": "2024-04-30T22:38:16.490Z"
   },
   {
    "duration": 499,
    "start_time": "2024-04-30T22:38:16.996Z"
   },
   {
    "duration": 569,
    "start_time": "2024-04-30T22:38:17.497Z"
   },
   {
    "duration": 544,
    "start_time": "2024-04-30T22:38:18.067Z"
   },
   {
    "duration": 285,
    "start_time": "2024-04-30T22:38:18.615Z"
   },
   {
    "duration": 454,
    "start_time": "2024-04-30T22:38:18.902Z"
   },
   {
    "duration": 473,
    "start_time": "2024-04-30T22:38:19.357Z"
   },
   {
    "duration": 797,
    "start_time": "2024-04-30T22:38:19.832Z"
   },
   {
    "duration": 240,
    "start_time": "2024-04-30T22:38:20.630Z"
   },
   {
    "duration": 412,
    "start_time": "2024-04-30T22:38:20.872Z"
   },
   {
    "duration": 600,
    "start_time": "2024-04-30T22:38:21.286Z"
   },
   {
    "duration": 606,
    "start_time": "2024-04-30T22:38:21.888Z"
   },
   {
    "duration": 1237,
    "start_time": "2024-04-30T22:38:22.495Z"
   },
   {
    "duration": 1427,
    "start_time": "2024-04-30T22:38:23.733Z"
   },
   {
    "duration": 27,
    "start_time": "2024-04-30T22:38:25.162Z"
   },
   {
    "duration": 4,
    "start_time": "2024-04-30T22:38:25.190Z"
   },
   {
    "duration": 4,
    "start_time": "2024-04-30T22:38:25.195Z"
   },
   {
    "duration": 16,
    "start_time": "2024-04-30T22:38:25.200Z"
   },
   {
    "duration": 12,
    "start_time": "2024-04-30T22:38:25.217Z"
   },
   {
    "duration": 103,
    "start_time": "2024-04-30T22:38:25.230Z"
   },
   {
    "duration": 12,
    "start_time": "2024-04-30T22:38:25.334Z"
   },
   {
    "duration": 16,
    "start_time": "2024-04-30T22:38:25.347Z"
   },
   {
    "duration": 102,
    "start_time": "2024-04-30T22:38:25.365Z"
   },
   {
    "duration": 146,
    "start_time": "2024-04-30T22:38:25.469Z"
   },
   {
    "duration": 172,
    "start_time": "2024-04-30T22:38:25.616Z"
   },
   {
    "duration": 7,
    "start_time": "2024-04-30T22:38:25.790Z"
   },
   {
    "duration": 120,
    "start_time": "2024-04-30T22:38:25.798Z"
   },
   {
    "duration": 153,
    "start_time": "2024-04-30T22:38:25.920Z"
   },
   {
    "duration": 8,
    "start_time": "2024-04-30T22:38:26.074Z"
   },
   {
    "duration": 107,
    "start_time": "2024-04-30T22:38:26.083Z"
   },
   {
    "duration": 146,
    "start_time": "2024-04-30T22:38:26.192Z"
   },
   {
    "duration": 162,
    "start_time": "2024-04-30T22:38:26.339Z"
   },
   {
    "duration": 14,
    "start_time": "2024-04-30T22:38:26.502Z"
   },
   {
    "duration": 103,
    "start_time": "2024-04-30T22:38:26.517Z"
   },
   {
    "duration": 159,
    "start_time": "2024-04-30T22:38:26.621Z"
   },
   {
    "duration": 4,
    "start_time": "2024-04-30T22:38:26.781Z"
   },
   {
    "duration": 70,
    "start_time": "2024-04-30T22:38:26.786Z"
   },
   {
    "duration": 3,
    "start_time": "2024-04-30T22:38:26.857Z"
   },
   {
    "duration": 12,
    "start_time": "2024-04-30T22:38:26.862Z"
   },
   {
    "duration": 10,
    "start_time": "2024-04-30T22:38:26.875Z"
   },
   {
    "duration": 6,
    "start_time": "2024-04-30T22:38:26.886Z"
   },
   {
    "duration": 16,
    "start_time": "2024-04-30T22:38:26.893Z"
   },
   {
    "duration": 8,
    "start_time": "2024-04-30T22:38:26.910Z"
   },
   {
    "duration": 6,
    "start_time": "2024-04-30T22:38:26.920Z"
   },
   {
    "duration": 13,
    "start_time": "2024-04-30T22:38:26.927Z"
   },
   {
    "duration": 20,
    "start_time": "2024-04-30T22:38:26.942Z"
   },
   {
    "duration": 13,
    "start_time": "2024-04-30T22:38:26.963Z"
   },
   {
    "duration": 6,
    "start_time": "2024-04-30T22:38:26.978Z"
   },
   {
    "duration": 37,
    "start_time": "2024-04-30T22:38:26.985Z"
   },
   {
    "duration": 87,
    "start_time": "2024-04-30T22:44:06.367Z"
   },
   {
    "duration": 6,
    "start_time": "2024-04-30T22:46:22.598Z"
   },
   {
    "duration": 126,
    "start_time": "2024-04-30T22:47:00.714Z"
   },
   {
    "duration": 1157,
    "start_time": "2024-04-30T22:55:43.213Z"
   },
   {
    "duration": 29,
    "start_time": "2024-04-30T22:55:44.372Z"
   },
   {
    "duration": 27,
    "start_time": "2024-04-30T22:55:44.402Z"
   },
   {
    "duration": 15,
    "start_time": "2024-04-30T22:55:44.431Z"
   },
   {
    "duration": 11,
    "start_time": "2024-04-30T22:55:44.448Z"
   },
   {
    "duration": 10,
    "start_time": "2024-04-30T22:55:44.461Z"
   },
   {
    "duration": 12,
    "start_time": "2024-04-30T22:55:44.472Z"
   },
   {
    "duration": 12,
    "start_time": "2024-04-30T22:55:44.485Z"
   },
   {
    "duration": 23,
    "start_time": "2024-04-30T22:55:44.498Z"
   },
   {
    "duration": 12,
    "start_time": "2024-04-30T22:55:44.523Z"
   },
   {
    "duration": 14,
    "start_time": "2024-04-30T22:55:44.536Z"
   },
   {
    "duration": 9,
    "start_time": "2024-04-30T22:55:44.552Z"
   },
   {
    "duration": 11,
    "start_time": "2024-04-30T22:55:44.562Z"
   },
   {
    "duration": 20,
    "start_time": "2024-04-30T22:55:44.574Z"
   },
   {
    "duration": 18,
    "start_time": "2024-04-30T22:55:44.595Z"
   },
   {
    "duration": 13,
    "start_time": "2024-04-30T22:55:44.615Z"
   },
   {
    "duration": 10,
    "start_time": "2024-04-30T22:55:44.629Z"
   },
   {
    "duration": 11,
    "start_time": "2024-04-30T22:55:44.641Z"
   },
   {
    "duration": 5,
    "start_time": "2024-04-30T22:55:44.653Z"
   },
   {
    "duration": 7,
    "start_time": "2024-04-30T22:55:44.660Z"
   },
   {
    "duration": 14,
    "start_time": "2024-04-30T22:55:44.668Z"
   },
   {
    "duration": 5,
    "start_time": "2024-04-30T22:55:44.683Z"
   },
   {
    "duration": 28,
    "start_time": "2024-04-30T22:55:44.689Z"
   },
   {
    "duration": 6,
    "start_time": "2024-04-30T22:55:44.719Z"
   },
   {
    "duration": 8,
    "start_time": "2024-04-30T22:55:44.726Z"
   },
   {
    "duration": 4,
    "start_time": "2024-04-30T22:55:44.735Z"
   },
   {
    "duration": 6,
    "start_time": "2024-04-30T22:55:44.741Z"
   },
   {
    "duration": 177,
    "start_time": "2024-04-30T22:55:44.750Z"
   },
   {
    "duration": 5,
    "start_time": "2024-04-30T22:55:44.928Z"
   },
   {
    "duration": 110,
    "start_time": "2024-04-30T22:55:44.934Z"
   },
   {
    "duration": 8,
    "start_time": "2024-04-30T22:55:45.046Z"
   },
   {
    "duration": 101,
    "start_time": "2024-04-30T22:55:45.055Z"
   },
   {
    "duration": 139,
    "start_time": "2024-04-30T22:55:45.158Z"
   },
   {
    "duration": 17,
    "start_time": "2024-04-30T22:55:45.298Z"
   },
   {
    "duration": 118,
    "start_time": "2024-04-30T22:55:45.317Z"
   },
   {
    "duration": 156,
    "start_time": "2024-04-30T22:55:45.437Z"
   },
   {
    "duration": 196,
    "start_time": "2024-04-30T22:55:45.594Z"
   },
   {
    "duration": 8,
    "start_time": "2024-04-30T22:55:45.792Z"
   },
   {
    "duration": 122,
    "start_time": "2024-04-30T22:55:45.801Z"
   },
   {
    "duration": 149,
    "start_time": "2024-04-30T22:55:45.924Z"
   },
   {
    "duration": 9,
    "start_time": "2024-04-30T22:55:46.075Z"
   },
   {
    "duration": 12,
    "start_time": "2024-04-30T22:55:46.085Z"
   },
   {
    "duration": 24,
    "start_time": "2024-04-30T22:55:46.099Z"
   },
   {
    "duration": 25,
    "start_time": "2024-04-30T22:55:46.125Z"
   },
   {
    "duration": 4,
    "start_time": "2024-04-30T22:55:46.152Z"
   },
   {
    "duration": 11,
    "start_time": "2024-04-30T22:55:46.157Z"
   },
   {
    "duration": 19,
    "start_time": "2024-04-30T22:55:46.169Z"
   },
   {
    "duration": 34,
    "start_time": "2024-04-30T22:55:46.189Z"
   },
   {
    "duration": 97,
    "start_time": "2024-04-30T22:55:46.224Z"
   },
   {
    "duration": 12,
    "start_time": "2024-04-30T22:55:46.322Z"
   },
   {
    "duration": 12,
    "start_time": "2024-04-30T22:55:46.336Z"
   },
   {
    "duration": 142,
    "start_time": "2024-04-30T22:55:46.349Z"
   },
   {
    "duration": 161,
    "start_time": "2024-04-30T22:55:46.492Z"
   },
   {
    "duration": 188,
    "start_time": "2024-04-30T22:55:46.655Z"
   },
   {
    "duration": 8,
    "start_time": "2024-04-30T22:55:46.845Z"
   },
   {
    "duration": 116,
    "start_time": "2024-04-30T22:55:46.854Z"
   },
   {
    "duration": 156,
    "start_time": "2024-04-30T22:55:46.972Z"
   },
   {
    "duration": 8,
    "start_time": "2024-04-30T22:55:47.129Z"
   },
   {
    "duration": 105,
    "start_time": "2024-04-30T22:55:47.138Z"
   },
   {
    "duration": 136,
    "start_time": "2024-04-30T22:55:47.245Z"
   },
   {
    "duration": 166,
    "start_time": "2024-04-30T22:55:47.382Z"
   },
   {
    "duration": 7,
    "start_time": "2024-04-30T22:55:47.549Z"
   },
   {
    "duration": 120,
    "start_time": "2024-04-30T22:55:47.557Z"
   },
   {
    "duration": 167,
    "start_time": "2024-04-30T22:55:47.679Z"
   },
   {
    "duration": 4,
    "start_time": "2024-04-30T22:55:47.847Z"
   },
   {
    "duration": 68,
    "start_time": "2024-04-30T22:55:47.852Z"
   },
   {
    "duration": 3,
    "start_time": "2024-04-30T22:55:47.921Z"
   },
   {
    "duration": 5,
    "start_time": "2024-04-30T22:55:47.925Z"
   },
   {
    "duration": 13,
    "start_time": "2024-04-30T22:55:47.931Z"
   },
   {
    "duration": 4,
    "start_time": "2024-04-30T22:55:47.945Z"
   },
   {
    "duration": 17,
    "start_time": "2024-04-30T22:55:47.950Z"
   },
   {
    "duration": 13,
    "start_time": "2024-04-30T22:55:47.969Z"
   },
   {
    "duration": 4,
    "start_time": "2024-04-30T22:55:47.983Z"
   },
   {
    "duration": 29,
    "start_time": "2024-04-30T22:55:47.989Z"
   },
   {
    "duration": 6,
    "start_time": "2024-04-30T22:55:48.019Z"
   },
   {
    "duration": 6,
    "start_time": "2024-04-30T22:55:48.027Z"
   },
   {
    "duration": 12,
    "start_time": "2024-04-30T22:55:48.034Z"
   },
   {
    "duration": 1111,
    "start_time": "2024-04-30T23:38:00.750Z"
   },
   {
    "duration": 28,
    "start_time": "2024-04-30T23:38:01.863Z"
   },
   {
    "duration": 71,
    "start_time": "2024-04-30T23:38:01.893Z"
   },
   {
    "duration": 22,
    "start_time": "2024-04-30T23:38:01.966Z"
   },
   {
    "duration": 52,
    "start_time": "2024-04-30T23:38:01.990Z"
   },
   {
    "duration": 83,
    "start_time": "2024-04-30T23:38:02.043Z"
   },
   {
    "duration": 52,
    "start_time": "2024-04-30T23:38:02.128Z"
   },
   {
    "duration": 76,
    "start_time": "2024-04-30T23:38:02.182Z"
   },
   {
    "duration": 41,
    "start_time": "2024-04-30T23:38:02.259Z"
   },
   {
    "duration": 53,
    "start_time": "2024-04-30T23:38:02.301Z"
   },
   {
    "duration": 59,
    "start_time": "2024-04-30T23:38:02.355Z"
   },
   {
    "duration": 47,
    "start_time": "2024-04-30T23:38:02.416Z"
   },
   {
    "duration": 43,
    "start_time": "2024-04-30T23:38:02.465Z"
   },
   {
    "duration": 64,
    "start_time": "2024-04-30T23:38:02.510Z"
   },
   {
    "duration": 70,
    "start_time": "2024-04-30T23:38:02.575Z"
   },
   {
    "duration": 51,
    "start_time": "2024-04-30T23:38:02.646Z"
   },
   {
    "duration": 82,
    "start_time": "2024-04-30T23:38:02.699Z"
   },
   {
    "duration": 42,
    "start_time": "2024-04-30T23:38:02.782Z"
   },
   {
    "duration": 88,
    "start_time": "2024-04-30T23:38:02.826Z"
   },
   {
    "duration": 164,
    "start_time": "2024-04-30T23:38:02.915Z"
   },
   {
    "duration": 60,
    "start_time": "2024-04-30T23:38:03.081Z"
   },
   {
    "duration": 17,
    "start_time": "2024-04-30T23:38:03.143Z"
   },
   {
    "duration": 58,
    "start_time": "2024-04-30T23:38:03.161Z"
   },
   {
    "duration": 8,
    "start_time": "2024-04-30T23:38:03.220Z"
   },
   {
    "duration": 39,
    "start_time": "2024-04-30T23:38:03.229Z"
   },
   {
    "duration": 39,
    "start_time": "2024-04-30T23:38:03.270Z"
   },
   {
    "duration": 74,
    "start_time": "2024-04-30T23:38:03.311Z"
   },
   {
    "duration": 264,
    "start_time": "2024-04-30T23:38:03.386Z"
   },
   {
    "duration": 7,
    "start_time": "2024-04-30T23:38:03.651Z"
   },
   {
    "duration": 122,
    "start_time": "2024-04-30T23:38:03.660Z"
   },
   {
    "duration": 15,
    "start_time": "2024-04-30T23:38:03.784Z"
   },
   {
    "duration": 100,
    "start_time": "2024-04-30T23:38:03.801Z"
   },
   {
    "duration": 154,
    "start_time": "2024-04-30T23:38:03.903Z"
   },
   {
    "duration": 9,
    "start_time": "2024-04-30T23:38:04.058Z"
   },
   {
    "duration": 132,
    "start_time": "2024-04-30T23:38:04.068Z"
   },
   {
    "duration": 175,
    "start_time": "2024-04-30T23:38:04.202Z"
   },
   {
    "duration": 190,
    "start_time": "2024-04-30T23:38:04.378Z"
   },
   {
    "duration": 8,
    "start_time": "2024-04-30T23:38:04.570Z"
   },
   {
    "duration": 141,
    "start_time": "2024-04-30T23:38:04.579Z"
   },
   {
    "duration": 142,
    "start_time": "2024-04-30T23:38:04.721Z"
   },
   {
    "duration": 10,
    "start_time": "2024-04-30T23:38:04.867Z"
   },
   {
    "duration": 31,
    "start_time": "2024-04-30T23:38:04.878Z"
   },
   {
    "duration": 36,
    "start_time": "2024-04-30T23:38:04.910Z"
   },
   {
    "duration": 109,
    "start_time": "2024-04-30T23:38:04.948Z"
   },
   {
    "duration": 4,
    "start_time": "2024-04-30T23:38:05.058Z"
   },
   {
    "duration": 30,
    "start_time": "2024-04-30T23:38:05.063Z"
   },
   {
    "duration": 38,
    "start_time": "2024-04-30T23:38:05.095Z"
   },
   {
    "duration": 35,
    "start_time": "2024-04-30T23:38:05.135Z"
   },
   {
    "duration": 67,
    "start_time": "2024-04-30T23:38:05.171Z"
   },
   {
    "duration": 37,
    "start_time": "2024-04-30T23:38:05.240Z"
   },
   {
    "duration": 54,
    "start_time": "2024-04-30T23:38:05.279Z"
   },
   {
    "duration": 162,
    "start_time": "2024-04-30T23:38:05.334Z"
   },
   {
    "duration": 159,
    "start_time": "2024-04-30T23:38:05.498Z"
   },
   {
    "duration": 189,
    "start_time": "2024-04-30T23:38:05.659Z"
   },
   {
    "duration": 9,
    "start_time": "2024-04-30T23:38:05.850Z"
   },
   {
    "duration": 133,
    "start_time": "2024-04-30T23:38:05.861Z"
   },
   {
    "duration": 151,
    "start_time": "2024-04-30T23:38:05.996Z"
   },
   {
    "duration": 7,
    "start_time": "2024-04-30T23:38:06.149Z"
   },
   {
    "duration": 117,
    "start_time": "2024-04-30T23:38:06.158Z"
   },
   {
    "duration": 138,
    "start_time": "2024-04-30T23:38:06.277Z"
   },
   {
    "duration": 165,
    "start_time": "2024-04-30T23:38:06.416Z"
   },
   {
    "duration": 12,
    "start_time": "2024-04-30T23:38:06.583Z"
   },
   {
    "duration": 104,
    "start_time": "2024-04-30T23:38:06.597Z"
   },
   {
    "duration": 166,
    "start_time": "2024-04-30T23:38:06.703Z"
   },
   {
    "duration": 4,
    "start_time": "2024-04-30T23:38:06.871Z"
   },
   {
    "duration": 79,
    "start_time": "2024-04-30T23:38:06.876Z"
   },
   {
    "duration": 4,
    "start_time": "2024-04-30T23:38:06.957Z"
   },
   {
    "duration": 13,
    "start_time": "2024-04-30T23:38:06.962Z"
   },
   {
    "duration": 37,
    "start_time": "2024-04-30T23:38:06.976Z"
   },
   {
    "duration": 18,
    "start_time": "2024-04-30T23:38:07.015Z"
   },
   {
    "duration": 26,
    "start_time": "2024-04-30T23:38:07.035Z"
   },
   {
    "duration": 40,
    "start_time": "2024-04-30T23:38:07.062Z"
   },
   {
    "duration": 18,
    "start_time": "2024-04-30T23:38:07.103Z"
   },
   {
    "duration": 27,
    "start_time": "2024-04-30T23:38:07.122Z"
   },
   {
    "duration": 14,
    "start_time": "2024-04-30T23:38:07.150Z"
   },
   {
    "duration": 14,
    "start_time": "2024-04-30T23:38:07.166Z"
   },
   {
    "duration": 23,
    "start_time": "2024-04-30T23:38:07.181Z"
   },
   {
    "duration": 20,
    "start_time": "2024-04-30T23:39:05.659Z"
   },
   {
    "duration": 22,
    "start_time": "2024-04-30T23:39:30.016Z"
   },
   {
    "duration": 65,
    "start_time": "2024-05-01T06:41:23.358Z"
   },
   {
    "duration": 1329,
    "start_time": "2024-05-01T06:41:33.327Z"
   },
   {
    "duration": 102,
    "start_time": "2024-05-01T06:41:34.658Z"
   },
   {
    "duration": 135,
    "start_time": "2024-05-01T06:41:34.761Z"
   },
   {
    "duration": 67,
    "start_time": "2024-05-01T06:41:34.898Z"
   },
   {
    "duration": 14,
    "start_time": "2024-05-01T06:41:34.967Z"
   },
   {
    "duration": 12,
    "start_time": "2024-05-01T06:41:34.982Z"
   },
   {
    "duration": 10,
    "start_time": "2024-05-01T06:41:34.996Z"
   },
   {
    "duration": 11,
    "start_time": "2024-05-01T06:41:35.008Z"
   },
   {
    "duration": 7,
    "start_time": "2024-05-01T06:41:35.020Z"
   },
   {
    "duration": 12,
    "start_time": "2024-05-01T06:41:35.029Z"
   },
   {
    "duration": 52,
    "start_time": "2024-05-01T06:41:35.043Z"
   },
   {
    "duration": 12,
    "start_time": "2024-05-01T06:41:35.097Z"
   },
   {
    "duration": 7,
    "start_time": "2024-05-01T06:41:35.110Z"
   },
   {
    "duration": 7,
    "start_time": "2024-05-01T06:41:35.119Z"
   },
   {
    "duration": 5,
    "start_time": "2024-05-01T06:41:35.128Z"
   },
   {
    "duration": 9,
    "start_time": "2024-05-01T06:41:35.135Z"
   },
   {
    "duration": 35,
    "start_time": "2024-05-01T06:41:35.146Z"
   },
   {
    "duration": 7,
    "start_time": "2024-05-01T06:41:35.183Z"
   },
   {
    "duration": 7,
    "start_time": "2024-05-01T06:41:35.192Z"
   },
   {
    "duration": 6,
    "start_time": "2024-05-01T06:41:35.201Z"
   },
   {
    "duration": 13,
    "start_time": "2024-05-01T06:41:35.208Z"
   },
   {
    "duration": 5,
    "start_time": "2024-05-01T06:41:35.222Z"
   },
   {
    "duration": 61,
    "start_time": "2024-05-01T06:41:35.228Z"
   },
   {
    "duration": 7,
    "start_time": "2024-05-01T06:41:35.291Z"
   },
   {
    "duration": 16,
    "start_time": "2024-05-01T06:41:35.299Z"
   },
   {
    "duration": 13,
    "start_time": "2024-05-01T06:41:35.316Z"
   },
   {
    "duration": 6,
    "start_time": "2024-05-01T06:41:35.330Z"
   },
   {
    "duration": 186,
    "start_time": "2024-05-01T06:41:35.341Z"
   },
   {
    "duration": 6,
    "start_time": "2024-05-01T06:41:35.529Z"
   },
   {
    "duration": 114,
    "start_time": "2024-05-01T06:41:35.537Z"
   },
   {
    "duration": 8,
    "start_time": "2024-05-01T06:41:35.653Z"
   },
   {
    "duration": 118,
    "start_time": "2024-05-01T06:41:35.663Z"
   },
   {
    "duration": 155,
    "start_time": "2024-05-01T06:41:35.783Z"
   },
   {
    "duration": 9,
    "start_time": "2024-05-01T06:41:35.940Z"
   },
   {
    "duration": 133,
    "start_time": "2024-05-01T06:41:35.950Z"
   },
   {
    "duration": 169,
    "start_time": "2024-05-01T06:41:36.084Z"
   },
   {
    "duration": 207,
    "start_time": "2024-05-01T06:41:36.255Z"
   },
   {
    "duration": 19,
    "start_time": "2024-05-01T06:41:36.464Z"
   },
   {
    "duration": 139,
    "start_time": "2024-05-01T06:41:36.485Z"
   },
   {
    "duration": 205,
    "start_time": "2024-05-01T06:41:36.626Z"
   },
   {
    "duration": 11,
    "start_time": "2024-05-01T06:41:36.833Z"
   },
   {
    "duration": 19,
    "start_time": "2024-05-01T06:41:36.846Z"
   },
   {
    "duration": 22,
    "start_time": "2024-05-01T06:41:36.867Z"
   },
   {
    "duration": 31,
    "start_time": "2024-05-01T06:41:36.891Z"
   },
   {
    "duration": 5,
    "start_time": "2024-05-01T06:41:36.925Z"
   },
   {
    "duration": 8,
    "start_time": "2024-05-01T06:41:36.931Z"
   },
   {
    "duration": 49,
    "start_time": "2024-05-01T06:41:36.941Z"
   },
   {
    "duration": 16,
    "start_time": "2024-05-01T06:41:36.992Z"
   },
   {
    "duration": 110,
    "start_time": "2024-05-01T06:41:37.010Z"
   },
   {
    "duration": 19,
    "start_time": "2024-05-01T06:41:37.122Z"
   },
   {
    "duration": 12,
    "start_time": "2024-05-01T06:41:37.143Z"
   },
   {
    "duration": 143,
    "start_time": "2024-05-01T06:41:37.156Z"
   },
   {
    "duration": 172,
    "start_time": "2024-05-01T06:41:37.301Z"
   },
   {
    "duration": 195,
    "start_time": "2024-05-01T06:41:37.474Z"
   },
   {
    "duration": 11,
    "start_time": "2024-05-01T06:41:37.671Z"
   },
   {
    "duration": 120,
    "start_time": "2024-05-01T06:41:37.683Z"
   },
   {
    "duration": 160,
    "start_time": "2024-05-01T06:41:37.805Z"
   },
   {
    "duration": 15,
    "start_time": "2024-05-01T06:41:37.967Z"
   },
   {
    "duration": 105,
    "start_time": "2024-05-01T06:41:37.984Z"
   },
   {
    "duration": 155,
    "start_time": "2024-05-01T06:41:38.090Z"
   },
   {
    "duration": 183,
    "start_time": "2024-05-01T06:41:38.246Z"
   },
   {
    "duration": 8,
    "start_time": "2024-05-01T06:41:38.431Z"
   },
   {
    "duration": 145,
    "start_time": "2024-05-01T06:41:38.440Z"
   },
   {
    "duration": 214,
    "start_time": "2024-05-01T06:41:38.587Z"
   },
   {
    "duration": 4,
    "start_time": "2024-05-01T06:41:38.803Z"
   },
   {
    "duration": 76,
    "start_time": "2024-05-01T06:41:38.808Z"
   },
   {
    "duration": 3,
    "start_time": "2024-05-01T06:41:38.886Z"
   },
   {
    "duration": 5,
    "start_time": "2024-05-01T06:41:38.890Z"
   },
   {
    "duration": 4,
    "start_time": "2024-05-01T06:41:38.896Z"
   },
   {
    "duration": 14,
    "start_time": "2024-05-01T06:41:38.902Z"
   },
   {
    "duration": 9,
    "start_time": "2024-05-01T06:41:38.917Z"
   },
   {
    "duration": 16,
    "start_time": "2024-05-01T06:41:38.927Z"
   },
   {
    "duration": 37,
    "start_time": "2024-05-01T06:41:38.944Z"
   },
   {
    "duration": 4,
    "start_time": "2024-05-01T06:41:38.983Z"
   },
   {
    "duration": 17,
    "start_time": "2024-05-01T06:41:38.989Z"
   },
   {
    "duration": 22,
    "start_time": "2024-05-01T06:41:39.008Z"
   },
   {
    "duration": 5,
    "start_time": "2024-05-01T06:41:39.032Z"
   },
   {
    "duration": 43,
    "start_time": "2024-05-01T06:41:39.039Z"
   },
   {
    "duration": 11,
    "start_time": "2024-05-01T06:41:39.084Z"
   },
   {
    "duration": 78,
    "start_time": "2024-05-01T06:42:50.917Z"
   },
   {
    "duration": 1270,
    "start_time": "2024-05-01T06:43:25.176Z"
   },
   {
    "duration": 29,
    "start_time": "2024-05-01T06:43:26.449Z"
   },
   {
    "duration": 32,
    "start_time": "2024-05-01T06:43:26.480Z"
   },
   {
    "duration": 15,
    "start_time": "2024-05-01T06:43:26.514Z"
   },
   {
    "duration": 12,
    "start_time": "2024-05-01T06:43:26.531Z"
   },
   {
    "duration": 11,
    "start_time": "2024-05-01T06:43:26.545Z"
   },
   {
    "duration": 27,
    "start_time": "2024-05-01T06:43:26.558Z"
   },
   {
    "duration": 15,
    "start_time": "2024-05-01T06:43:26.589Z"
   },
   {
    "duration": 7,
    "start_time": "2024-05-01T06:43:26.606Z"
   },
   {
    "duration": 12,
    "start_time": "2024-05-01T06:43:26.616Z"
   },
   {
    "duration": 20,
    "start_time": "2024-05-01T06:43:26.630Z"
   },
   {
    "duration": 30,
    "start_time": "2024-05-01T06:43:26.652Z"
   },
   {
    "duration": 8,
    "start_time": "2024-05-01T06:43:26.688Z"
   },
   {
    "duration": 7,
    "start_time": "2024-05-01T06:43:26.698Z"
   },
   {
    "duration": 7,
    "start_time": "2024-05-01T06:43:26.706Z"
   },
   {
    "duration": 10,
    "start_time": "2024-05-01T06:43:26.714Z"
   },
   {
    "duration": 8,
    "start_time": "2024-05-01T06:43:26.725Z"
   },
   {
    "duration": 6,
    "start_time": "2024-05-01T06:43:26.735Z"
   },
   {
    "duration": 6,
    "start_time": "2024-05-01T06:43:26.742Z"
   },
   {
    "duration": 20,
    "start_time": "2024-05-01T06:43:26.779Z"
   },
   {
    "duration": 17,
    "start_time": "2024-05-01T06:43:26.801Z"
   },
   {
    "duration": 6,
    "start_time": "2024-05-01T06:43:26.819Z"
   },
   {
    "duration": 11,
    "start_time": "2024-05-01T06:43:26.826Z"
   },
   {
    "duration": 9,
    "start_time": "2024-05-01T06:43:26.838Z"
   },
   {
    "duration": 8,
    "start_time": "2024-05-01T06:43:26.849Z"
   },
   {
    "duration": 33,
    "start_time": "2024-05-01T06:43:26.858Z"
   },
   {
    "duration": 8,
    "start_time": "2024-05-01T06:43:26.893Z"
   },
   {
    "duration": 188,
    "start_time": "2024-05-01T06:43:26.905Z"
   },
   {
    "duration": 6,
    "start_time": "2024-05-01T06:43:27.095Z"
   },
   {
    "duration": 114,
    "start_time": "2024-05-01T06:43:27.103Z"
   },
   {
    "duration": 8,
    "start_time": "2024-05-01T06:43:27.219Z"
   },
   {
    "duration": 122,
    "start_time": "2024-05-01T06:43:27.229Z"
   },
   {
    "duration": 178,
    "start_time": "2024-05-01T06:43:27.353Z"
   },
   {
    "duration": 11,
    "start_time": "2024-05-01T06:43:27.533Z"
   },
   {
    "duration": 159,
    "start_time": "2024-05-01T06:43:27.546Z"
   },
   {
    "duration": 175,
    "start_time": "2024-05-01T06:43:27.707Z"
   },
   {
    "duration": 230,
    "start_time": "2024-05-01T06:43:27.887Z"
   },
   {
    "duration": 11,
    "start_time": "2024-05-01T06:43:28.119Z"
   },
   {
    "duration": 182,
    "start_time": "2024-05-01T06:43:28.132Z"
   },
   {
    "duration": 156,
    "start_time": "2024-05-01T06:43:28.316Z"
   },
   {
    "duration": 24,
    "start_time": "2024-05-01T06:43:28.474Z"
   },
   {
    "duration": 17,
    "start_time": "2024-05-01T06:43:28.500Z"
   },
   {
    "duration": 22,
    "start_time": "2024-05-01T06:43:28.518Z"
   },
   {
    "duration": 49,
    "start_time": "2024-05-01T06:43:28.542Z"
   },
   {
    "duration": 5,
    "start_time": "2024-05-01T06:43:28.593Z"
   },
   {
    "duration": 5,
    "start_time": "2024-05-01T06:43:28.601Z"
   },
   {
    "duration": 17,
    "start_time": "2024-05-01T06:43:28.607Z"
   },
   {
    "duration": 12,
    "start_time": "2024-05-01T06:43:28.626Z"
   },
   {
    "duration": 122,
    "start_time": "2024-05-01T06:43:28.640Z"
   },
   {
    "duration": 44,
    "start_time": "2024-05-01T06:43:28.764Z"
   },
   {
    "duration": 13,
    "start_time": "2024-05-01T06:43:28.810Z"
   },
   {
    "duration": 125,
    "start_time": "2024-05-01T06:43:28.825Z"
   },
   {
    "duration": 175,
    "start_time": "2024-05-01T06:43:28.951Z"
   },
   {
    "duration": 200,
    "start_time": "2024-05-01T06:43:29.127Z"
   },
   {
    "duration": 8,
    "start_time": "2024-05-01T06:43:29.328Z"
   },
   {
    "duration": 129,
    "start_time": "2024-05-01T06:43:29.338Z"
   },
   {
    "duration": 161,
    "start_time": "2024-05-01T06:43:29.469Z"
   },
   {
    "duration": 8,
    "start_time": "2024-05-01T06:43:29.632Z"
   },
   {
    "duration": 115,
    "start_time": "2024-05-01T06:43:29.641Z"
   },
   {
    "duration": 171,
    "start_time": "2024-05-01T06:43:29.758Z"
   },
   {
    "duration": 185,
    "start_time": "2024-05-01T06:43:29.931Z"
   },
   {
    "duration": 8,
    "start_time": "2024-05-01T06:43:30.117Z"
   },
   {
    "duration": 168,
    "start_time": "2024-05-01T06:43:30.127Z"
   },
   {
    "duration": 171,
    "start_time": "2024-05-01T06:43:30.296Z"
   },
   {
    "duration": 3,
    "start_time": "2024-05-01T06:43:30.469Z"
   },
   {
    "duration": 147,
    "start_time": "2024-05-01T06:43:30.485Z"
   },
   {
    "duration": 42,
    "start_time": "2024-05-01T06:43:30.634Z"
   },
   {
    "duration": 90,
    "start_time": "2024-05-01T06:43:30.677Z"
   },
   {
    "duration": 38,
    "start_time": "2024-05-01T06:43:30.769Z"
   },
   {
    "duration": 66,
    "start_time": "2024-05-01T06:43:30.809Z"
   },
   {
    "duration": 49,
    "start_time": "2024-05-01T06:43:30.877Z"
   },
   {
    "duration": 32,
    "start_time": "2024-05-01T06:43:30.927Z"
   },
   {
    "duration": 53,
    "start_time": "2024-05-01T06:43:30.961Z"
   },
   {
    "duration": 44,
    "start_time": "2024-05-01T06:43:31.016Z"
   },
   {
    "duration": 49,
    "start_time": "2024-05-01T06:43:31.062Z"
   },
   {
    "duration": 50,
    "start_time": "2024-05-01T06:43:31.113Z"
   },
   {
    "duration": 45,
    "start_time": "2024-05-01T06:43:31.164Z"
   },
   {
    "duration": 47,
    "start_time": "2024-05-01T06:43:31.211Z"
   },
   {
    "duration": 67,
    "start_time": "2024-05-01T06:43:31.260Z"
   },
   {
    "duration": 1028,
    "start_time": "2024-05-01T11:21:37.901Z"
   },
   {
    "duration": 28,
    "start_time": "2024-05-01T11:21:38.931Z"
   },
   {
    "duration": 28,
    "start_time": "2024-05-01T11:21:38.960Z"
   },
   {
    "duration": 15,
    "start_time": "2024-05-01T11:21:38.991Z"
   },
   {
    "duration": 12,
    "start_time": "2024-05-01T11:21:39.007Z"
   },
   {
    "duration": 14,
    "start_time": "2024-05-01T11:21:39.020Z"
   },
   {
    "duration": 9,
    "start_time": "2024-05-01T11:21:39.035Z"
   },
   {
    "duration": 10,
    "start_time": "2024-05-01T11:21:39.046Z"
   },
   {
    "duration": 16,
    "start_time": "2024-05-01T11:21:39.057Z"
   },
   {
    "duration": 13,
    "start_time": "2024-05-01T11:21:39.076Z"
   },
   {
    "duration": 14,
    "start_time": "2024-05-01T11:21:39.092Z"
   },
   {
    "duration": 22,
    "start_time": "2024-05-01T11:21:39.108Z"
   },
   {
    "duration": 5,
    "start_time": "2024-05-01T11:21:39.132Z"
   },
   {
    "duration": 8,
    "start_time": "2024-05-01T11:21:39.139Z"
   },
   {
    "duration": 21,
    "start_time": "2024-05-01T11:21:39.148Z"
   },
   {
    "duration": 21,
    "start_time": "2024-05-01T11:21:39.171Z"
   },
   {
    "duration": 15,
    "start_time": "2024-05-01T11:21:39.193Z"
   },
   {
    "duration": 23,
    "start_time": "2024-05-01T11:21:39.209Z"
   },
   {
    "duration": 32,
    "start_time": "2024-05-01T11:21:39.233Z"
   },
   {
    "duration": 18,
    "start_time": "2024-05-01T11:21:39.266Z"
   },
   {
    "duration": 12,
    "start_time": "2024-05-01T11:21:39.285Z"
   },
   {
    "duration": 4,
    "start_time": "2024-05-01T11:21:39.299Z"
   },
   {
    "duration": 10,
    "start_time": "2024-05-01T11:21:39.305Z"
   },
   {
    "duration": 13,
    "start_time": "2024-05-01T11:21:39.316Z"
   },
   {
    "duration": 9,
    "start_time": "2024-05-01T11:21:39.331Z"
   },
   {
    "duration": 5,
    "start_time": "2024-05-01T11:21:39.341Z"
   },
   {
    "duration": 5,
    "start_time": "2024-05-01T11:21:39.347Z"
   },
   {
    "duration": 150,
    "start_time": "2024-05-01T11:21:39.373Z"
   },
   {
    "duration": 5,
    "start_time": "2024-05-01T11:21:39.525Z"
   },
   {
    "duration": 110,
    "start_time": "2024-05-01T11:21:39.532Z"
   },
   {
    "duration": 7,
    "start_time": "2024-05-01T11:21:39.644Z"
   },
   {
    "duration": 93,
    "start_time": "2024-05-01T11:21:39.653Z"
   },
   {
    "duration": 143,
    "start_time": "2024-05-01T11:21:39.748Z"
   },
   {
    "duration": 8,
    "start_time": "2024-05-01T11:21:39.892Z"
   },
   {
    "duration": 132,
    "start_time": "2024-05-01T11:21:39.901Z"
   },
   {
    "duration": 165,
    "start_time": "2024-05-01T11:21:40.035Z"
   },
   {
    "duration": 192,
    "start_time": "2024-05-01T11:21:40.201Z"
   },
   {
    "duration": 10,
    "start_time": "2024-05-01T11:21:40.394Z"
   },
   {
    "duration": 132,
    "start_time": "2024-05-01T11:21:40.406Z"
   },
   {
    "duration": 164,
    "start_time": "2024-05-01T11:21:40.539Z"
   },
   {
    "duration": 10,
    "start_time": "2024-05-01T11:21:40.704Z"
   },
   {
    "duration": 28,
    "start_time": "2024-05-01T11:21:40.715Z"
   },
   {
    "duration": 32,
    "start_time": "2024-05-01T11:21:40.744Z"
   },
   {
    "duration": 40,
    "start_time": "2024-05-01T11:21:40.777Z"
   },
   {
    "duration": 18,
    "start_time": "2024-05-01T11:21:40.818Z"
   },
   {
    "duration": 33,
    "start_time": "2024-05-01T11:21:40.837Z"
   },
   {
    "duration": 39,
    "start_time": "2024-05-01T11:21:40.871Z"
   },
   {
    "duration": 25,
    "start_time": "2024-05-01T11:21:40.911Z"
   },
   {
    "duration": 104,
    "start_time": "2024-05-01T11:21:40.938Z"
   },
   {
    "duration": 11,
    "start_time": "2024-05-01T11:21:41.044Z"
   },
   {
    "duration": 29,
    "start_time": "2024-05-01T11:21:41.056Z"
   },
   {
    "duration": 129,
    "start_time": "2024-05-01T11:21:41.087Z"
   },
   {
    "duration": 154,
    "start_time": "2024-05-01T11:21:41.217Z"
   },
   {
    "duration": 190,
    "start_time": "2024-05-01T11:21:41.373Z"
   },
   {
    "duration": 10,
    "start_time": "2024-05-01T11:21:41.565Z"
   },
   {
    "duration": 143,
    "start_time": "2024-05-01T11:21:41.577Z"
   },
   {
    "duration": 149,
    "start_time": "2024-05-01T11:21:41.721Z"
   },
   {
    "duration": 8,
    "start_time": "2024-05-01T11:21:41.871Z"
   },
   {
    "duration": 121,
    "start_time": "2024-05-01T11:21:41.880Z"
   },
   {
    "duration": 151,
    "start_time": "2024-05-01T11:21:42.003Z"
   },
   {
    "duration": 178,
    "start_time": "2024-05-01T11:21:42.156Z"
   },
   {
    "duration": 7,
    "start_time": "2024-05-01T11:21:42.335Z"
   },
   {
    "duration": 142,
    "start_time": "2024-05-01T11:21:42.343Z"
   },
   {
    "duration": 155,
    "start_time": "2024-05-01T11:21:42.486Z"
   },
   {
    "duration": 4,
    "start_time": "2024-05-01T11:21:42.642Z"
   },
   {
    "duration": 73,
    "start_time": "2024-05-01T11:21:42.647Z"
   },
   {
    "duration": 3,
    "start_time": "2024-05-01T11:21:42.721Z"
   },
   {
    "duration": 30,
    "start_time": "2024-05-01T11:21:42.726Z"
   },
   {
    "duration": 23,
    "start_time": "2024-05-01T11:21:42.757Z"
   },
   {
    "duration": 36,
    "start_time": "2024-05-01T11:21:42.782Z"
   },
   {
    "duration": 27,
    "start_time": "2024-05-01T11:21:42.819Z"
   },
   {
    "duration": 59,
    "start_time": "2024-05-01T11:21:42.848Z"
   },
   {
    "duration": 25,
    "start_time": "2024-05-01T11:21:42.909Z"
   },
   {
    "duration": 35,
    "start_time": "2024-05-01T11:21:42.936Z"
   },
   {
    "duration": 38,
    "start_time": "2024-05-01T11:21:42.972Z"
   },
   {
    "duration": 46,
    "start_time": "2024-05-01T11:21:43.012Z"
   },
   {
    "duration": 34,
    "start_time": "2024-05-01T11:21:43.060Z"
   },
   {
    "duration": 32,
    "start_time": "2024-05-01T11:21:43.096Z"
   },
   {
    "duration": 21,
    "start_time": "2024-05-01T11:21:43.130Z"
   },
   {
    "duration": 7,
    "start_time": "2024-05-01T11:22:09.551Z"
   }
  ],
  "kernelspec": {
   "display_name": "Python 3 (ipykernel)",
   "language": "python",
   "name": "python3"
  },
  "language_info": {
   "codemirror_mode": {
    "name": "ipython",
    "version": 3
   },
   "file_extension": ".py",
   "mimetype": "text/x-python",
   "name": "python",
   "nbconvert_exporter": "python",
   "pygments_lexer": "ipython3",
   "version": "3.12.7"
  },
  "toc": {
   "base_numbering": 1,
   "nav_menu": {},
   "number_sections": true,
   "sideBar": true,
   "skip_h1_title": true,
   "title_cell": "Table of Contents",
   "title_sidebar": "Contents",
   "toc_cell": false,
   "toc_position": {
    "height": "calc(100% - 180px)",
    "left": "10px",
    "top": "150px",
    "width": "273.188px"
   },
   "toc_section_display": true,
   "toc_window_display": false
  }
 },
 "nbformat": 4,
 "nbformat_minor": 5
}
