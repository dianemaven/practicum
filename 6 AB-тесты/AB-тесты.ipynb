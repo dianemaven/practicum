{
 "cells": [
  {
   "cell_type": "markdown",
   "metadata": {},
   "source": [
    "# Анализ поведения пользователей мобильного приложения"
   ]
  },
  {
   "cell_type": "markdown",
   "metadata": {},
   "source": [
    "В данном проекте нам предстоит проанализировать поведение пользователей мобильного приложения стартапа, который продаёт продукты питания. Помимо этого, в компании проводится A/A/B-эксперимент. Дизайнеры предложили поменять шрифты во всём приложении, а менеджеры опасались, что нововведение будет непривычно для пользователей, поэтому решение должно быть принято по результатам A/A/B-теста. Пользователей разбили на 3 группы: 2 контрольные со старыми шрифтами и одну экспериментальную — с новыми. Нам предстоит выяснить какой шрифт лучше.\n",
    "Создание двух групп A вместо одной имеет определённые преимущества. Если две контрольные группы окажутся равны, мы можем быть уверены в точности проведенного тестирования. Если же между значениями A и A будут существенные различия, это поможет обнаружить факторы, которые привели к искажению результатов. Сравнение контрольных групп также помогает понять, сколько времени и данных потребуется для дальнейших тестов.\n",
    "\n",
    "**Цели проекта:**   \n",
    "+ разобраться, как ведут себя пользователи мобильного приложения;  \n",
    "+ исследовать результаты A/A/B-эксперимента\n",
    "\n",
    "**Для достижения целей необходимо выполнить следующие задачи:**  \n",
    "1. Открыть файл с данными и изучить общую информацию  \n",
    "2. Подготовить данные к анализу  \n",
    "3. Изучить и проверьть данные  \n",
    "4. Изучить воронку событий  \n",
    "5. Изучить результаты эксперимента  \n",
    "6. Сделать выводы  \n",
    "\n",
    "**Описание данных:**  \n",
    "Каждая запись в логе — это действие пользователя, или событие.   \n",
    "+ EventName — название события;\n",
    "+ DeviceIDHash — уникальный идентификатор пользователя;\n",
    "+ EventTimestamp — время события;\n",
    "+ ExpId — номер эксперимента: 246 и 247 — контрольные группы, а 248 — экспериментальная.\n"
   ]
  },
  {
   "cell_type": "markdown",
   "metadata": {},
   "source": [
    "**Импорт библиотек**"
   ]
  },
  {
   "cell_type": "code",
   "execution_count": 1,
   "metadata": {},
   "outputs": [],
   "source": [
    "import pandas as pd\n",
    "import matplotlib.pyplot as plt\n",
    "import seaborn as sns\n",
    "import numpy as np\n",
    "from datetime import date, datetime, timedelta\n",
    "from scipy import stats as st\n",
    "import math as mth\n",
    "import warnings\n",
    "warnings.filterwarnings('ignore')"
   ]
  },
  {
   "cell_type": "markdown",
   "metadata": {},
   "source": [
    "### Загрузка файл с данными и изучение общей информации"
   ]
  },
  {
   "cell_type": "code",
   "execution_count": 2,
   "metadata": {},
   "outputs": [],
   "source": [
    "logs = pd.read_csv('/datasets/logs_exp.csv', sep='\\t')"
   ]
  },
  {
   "cell_type": "code",
   "execution_count": 3,
   "metadata": {},
   "outputs": [
    {
     "data": {
      "text/html": [
       "<div>\n",
       "<style scoped>\n",
       "    .dataframe tbody tr th:only-of-type {\n",
       "        vertical-align: middle;\n",
       "    }\n",
       "\n",
       "    .dataframe tbody tr th {\n",
       "        vertical-align: top;\n",
       "    }\n",
       "\n",
       "    .dataframe thead th {\n",
       "        text-align: right;\n",
       "    }\n",
       "</style>\n",
       "<table border=\"1\" class=\"dataframe\">\n",
       "  <thead>\n",
       "    <tr style=\"text-align: right;\">\n",
       "      <th></th>\n",
       "      <th>EventName</th>\n",
       "      <th>DeviceIDHash</th>\n",
       "      <th>EventTimestamp</th>\n",
       "      <th>ExpId</th>\n",
       "    </tr>\n",
       "  </thead>\n",
       "  <tbody>\n",
       "    <tr>\n",
       "      <th>0</th>\n",
       "      <td>MainScreenAppear</td>\n",
       "      <td>4575588528974610257</td>\n",
       "      <td>1564029816</td>\n",
       "      <td>246</td>\n",
       "    </tr>\n",
       "    <tr>\n",
       "      <th>1</th>\n",
       "      <td>MainScreenAppear</td>\n",
       "      <td>7416695313311560658</td>\n",
       "      <td>1564053102</td>\n",
       "      <td>246</td>\n",
       "    </tr>\n",
       "    <tr>\n",
       "      <th>2</th>\n",
       "      <td>PaymentScreenSuccessful</td>\n",
       "      <td>3518123091307005509</td>\n",
       "      <td>1564054127</td>\n",
       "      <td>248</td>\n",
       "    </tr>\n",
       "    <tr>\n",
       "      <th>3</th>\n",
       "      <td>CartScreenAppear</td>\n",
       "      <td>3518123091307005509</td>\n",
       "      <td>1564054127</td>\n",
       "      <td>248</td>\n",
       "    </tr>\n",
       "    <tr>\n",
       "      <th>4</th>\n",
       "      <td>PaymentScreenSuccessful</td>\n",
       "      <td>6217807653094995999</td>\n",
       "      <td>1564055322</td>\n",
       "      <td>248</td>\n",
       "    </tr>\n",
       "    <tr>\n",
       "      <th>5</th>\n",
       "      <td>CartScreenAppear</td>\n",
       "      <td>6217807653094995999</td>\n",
       "      <td>1564055323</td>\n",
       "      <td>248</td>\n",
       "    </tr>\n",
       "    <tr>\n",
       "      <th>6</th>\n",
       "      <td>OffersScreenAppear</td>\n",
       "      <td>8351860793733343758</td>\n",
       "      <td>1564066242</td>\n",
       "      <td>246</td>\n",
       "    </tr>\n",
       "    <tr>\n",
       "      <th>7</th>\n",
       "      <td>MainScreenAppear</td>\n",
       "      <td>5682100281902512875</td>\n",
       "      <td>1564085677</td>\n",
       "      <td>246</td>\n",
       "    </tr>\n",
       "    <tr>\n",
       "      <th>8</th>\n",
       "      <td>MainScreenAppear</td>\n",
       "      <td>1850981295691852772</td>\n",
       "      <td>1564086702</td>\n",
       "      <td>247</td>\n",
       "    </tr>\n",
       "    <tr>\n",
       "      <th>9</th>\n",
       "      <td>MainScreenAppear</td>\n",
       "      <td>5407636962369102641</td>\n",
       "      <td>1564112112</td>\n",
       "      <td>246</td>\n",
       "    </tr>\n",
       "  </tbody>\n",
       "</table>\n",
       "</div>"
      ],
      "text/plain": [
       "                 EventName         DeviceIDHash  EventTimestamp  ExpId\n",
       "0         MainScreenAppear  4575588528974610257      1564029816    246\n",
       "1         MainScreenAppear  7416695313311560658      1564053102    246\n",
       "2  PaymentScreenSuccessful  3518123091307005509      1564054127    248\n",
       "3         CartScreenAppear  3518123091307005509      1564054127    248\n",
       "4  PaymentScreenSuccessful  6217807653094995999      1564055322    248\n",
       "5         CartScreenAppear  6217807653094995999      1564055323    248\n",
       "6       OffersScreenAppear  8351860793733343758      1564066242    246\n",
       "7         MainScreenAppear  5682100281902512875      1564085677    246\n",
       "8         MainScreenAppear  1850981295691852772      1564086702    247\n",
       "9         MainScreenAppear  5407636962369102641      1564112112    246"
      ]
     },
     "execution_count": 3,
     "metadata": {},
     "output_type": "execute_result"
    }
   ],
   "source": [
    "logs.head(10) #выведем первые десять строк датафрейма с данными"
   ]
  },
  {
   "cell_type": "code",
   "execution_count": 4,
   "metadata": {},
   "outputs": [
    {
     "name": "stdout",
     "output_type": "stream",
     "text": [
      "<class 'pandas.core.frame.DataFrame'>\n",
      "RangeIndex: 244126 entries, 0 to 244125\n",
      "Data columns (total 4 columns):\n",
      " #   Column          Non-Null Count   Dtype \n",
      "---  ------          --------------   ----- \n",
      " 0   EventName       244126 non-null  object\n",
      " 1   DeviceIDHash    244126 non-null  int64 \n",
      " 2   EventTimestamp  244126 non-null  int64 \n",
      " 3   ExpId           244126 non-null  int64 \n",
      "dtypes: int64(3), object(1)\n",
      "memory usage: 7.5+ MB\n"
     ]
    }
   ],
   "source": [
    "logs.info() #выведем общую информацию по таблице"
   ]
  },
  {
   "cell_type": "markdown",
   "metadata": {},
   "source": [
    "**Вывод:** таблица состоит из 244 126 строк и 4 колонок. Тип данных в столбце с датой и временем не соответствует заданным значениям, также дата указана в неверном формате. "
   ]
  },
  {
   "cell_type": "markdown",
   "metadata": {},
   "source": [
    "### Подготовка данных"
   ]
  },
  {
   "cell_type": "markdown",
   "metadata": {},
   "source": [
    "**2.1 Заменим названия столбцов**"
   ]
  },
  {
   "cell_type": "code",
   "execution_count": 5,
   "metadata": {},
   "outputs": [
    {
     "data": {
      "text/html": [
       "<div>\n",
       "<style scoped>\n",
       "    .dataframe tbody tr th:only-of-type {\n",
       "        vertical-align: middle;\n",
       "    }\n",
       "\n",
       "    .dataframe tbody tr th {\n",
       "        vertical-align: top;\n",
       "    }\n",
       "\n",
       "    .dataframe thead th {\n",
       "        text-align: right;\n",
       "    }\n",
       "</style>\n",
       "<table border=\"1\" class=\"dataframe\">\n",
       "  <thead>\n",
       "    <tr style=\"text-align: right;\">\n",
       "      <th></th>\n",
       "      <th>event_name</th>\n",
       "      <th>device_id</th>\n",
       "      <th>timestamp</th>\n",
       "      <th>experiment_id</th>\n",
       "    </tr>\n",
       "  </thead>\n",
       "  <tbody>\n",
       "    <tr>\n",
       "      <th>0</th>\n",
       "      <td>MainScreenAppear</td>\n",
       "      <td>4575588528974610257</td>\n",
       "      <td>1564029816</td>\n",
       "      <td>246</td>\n",
       "    </tr>\n",
       "    <tr>\n",
       "      <th>1</th>\n",
       "      <td>MainScreenAppear</td>\n",
       "      <td>7416695313311560658</td>\n",
       "      <td>1564053102</td>\n",
       "      <td>246</td>\n",
       "    </tr>\n",
       "    <tr>\n",
       "      <th>2</th>\n",
       "      <td>PaymentScreenSuccessful</td>\n",
       "      <td>3518123091307005509</td>\n",
       "      <td>1564054127</td>\n",
       "      <td>248</td>\n",
       "    </tr>\n",
       "    <tr>\n",
       "      <th>3</th>\n",
       "      <td>CartScreenAppear</td>\n",
       "      <td>3518123091307005509</td>\n",
       "      <td>1564054127</td>\n",
       "      <td>248</td>\n",
       "    </tr>\n",
       "    <tr>\n",
       "      <th>4</th>\n",
       "      <td>PaymentScreenSuccessful</td>\n",
       "      <td>6217807653094995999</td>\n",
       "      <td>1564055322</td>\n",
       "      <td>248</td>\n",
       "    </tr>\n",
       "  </tbody>\n",
       "</table>\n",
       "</div>"
      ],
      "text/plain": [
       "                event_name            device_id   timestamp  experiment_id\n",
       "0         MainScreenAppear  4575588528974610257  1564029816            246\n",
       "1         MainScreenAppear  7416695313311560658  1564053102            246\n",
       "2  PaymentScreenSuccessful  3518123091307005509  1564054127            248\n",
       "3         CartScreenAppear  3518123091307005509  1564054127            248\n",
       "4  PaymentScreenSuccessful  6217807653094995999  1564055322            248"
      ]
     },
     "execution_count": 5,
     "metadata": {},
     "output_type": "execute_result"
    }
   ],
   "source": [
    "logs.columns = ['event_name', 'device_id', 'timestamp', 'experiment_id']\n",
    "logs.head() #выведем первые пять строк датафрейма для проверки изменений"
   ]
  },
  {
   "cell_type": "markdown",
   "metadata": {},
   "source": [
    "**2.2 Проверим пропуски**"
   ]
  },
  {
   "cell_type": "code",
   "execution_count": 6,
   "metadata": {},
   "outputs": [
    {
     "data": {
      "text/plain": [
       "event_name       0\n",
       "device_id        0\n",
       "timestamp        0\n",
       "experiment_id    0\n",
       "dtype: int64"
      ]
     },
     "execution_count": 6,
     "metadata": {},
     "output_type": "execute_result"
    }
   ],
   "source": [
    "logs.isna().sum() #убедимся в отсутствии пропусков"
   ]
  },
  {
   "cell_type": "markdown",
   "metadata": {},
   "source": [
    "**2.3 Проверим дубликаты**"
   ]
  },
  {
   "cell_type": "code",
   "execution_count": 7,
   "metadata": {},
   "outputs": [
    {
     "data": {
      "text/plain": [
       "413"
      ]
     },
     "execution_count": 7,
     "metadata": {},
     "output_type": "execute_result"
    }
   ],
   "source": [
    "logs.duplicated().sum() #проверим наличие дубликатов"
   ]
  },
  {
   "cell_type": "code",
   "execution_count": 8,
   "metadata": {},
   "outputs": [
    {
     "data": {
      "text/plain": [
       "0"
      ]
     },
     "execution_count": 8,
     "metadata": {},
     "output_type": "execute_result"
    }
   ],
   "source": [
    "logs = logs.drop_duplicates() #удалим дубликаты\n",
    "logs.duplicated().sum() #проверим наличие дубликатов еще раз"
   ]
  },
  {
   "cell_type": "markdown",
   "metadata": {},
   "source": [
    "**2.4 Изменим типы данных**"
   ]
  },
  {
   "cell_type": "code",
   "execution_count": 9,
   "metadata": {},
   "outputs": [
    {
     "name": "stdout",
     "output_type": "stream",
     "text": [
      "<class 'pandas.core.frame.DataFrame'>\n",
      "Int64Index: 243713 entries, 0 to 244125\n",
      "Data columns (total 4 columns):\n",
      " #   Column         Non-Null Count   Dtype         \n",
      "---  ------         --------------   -----         \n",
      " 0   event_name     243713 non-null  object        \n",
      " 1   device_id      243713 non-null  int64         \n",
      " 2   timestamp      243713 non-null  datetime64[ns]\n",
      " 3   experiment_id  243713 non-null  int64         \n",
      "dtypes: datetime64[ns](1), int64(2), object(1)\n",
      "memory usage: 9.3+ MB\n"
     ]
    }
   ],
   "source": [
    "logs['timestamp'] = pd.to_datetime(logs['timestamp'], unit='s')\n",
    "logs.info()"
   ]
  },
  {
   "cell_type": "markdown",
   "metadata": {},
   "source": [
    "**2.4 Добавим столбец дат**"
   ]
  },
  {
   "cell_type": "code",
   "execution_count": 10,
   "metadata": {},
   "outputs": [
    {
     "data": {
      "text/html": [
       "<div>\n",
       "<style scoped>\n",
       "    .dataframe tbody tr th:only-of-type {\n",
       "        vertical-align: middle;\n",
       "    }\n",
       "\n",
       "    .dataframe tbody tr th {\n",
       "        vertical-align: top;\n",
       "    }\n",
       "\n",
       "    .dataframe thead th {\n",
       "        text-align: right;\n",
       "    }\n",
       "</style>\n",
       "<table border=\"1\" class=\"dataframe\">\n",
       "  <thead>\n",
       "    <tr style=\"text-align: right;\">\n",
       "      <th></th>\n",
       "      <th>event_name</th>\n",
       "      <th>device_id</th>\n",
       "      <th>timestamp</th>\n",
       "      <th>experiment_id</th>\n",
       "      <th>date</th>\n",
       "    </tr>\n",
       "  </thead>\n",
       "  <tbody>\n",
       "    <tr>\n",
       "      <th>0</th>\n",
       "      <td>MainScreenAppear</td>\n",
       "      <td>4575588528974610257</td>\n",
       "      <td>2019-07-25 04:43:36</td>\n",
       "      <td>246</td>\n",
       "      <td>2019-07-25</td>\n",
       "    </tr>\n",
       "    <tr>\n",
       "      <th>1</th>\n",
       "      <td>MainScreenAppear</td>\n",
       "      <td>7416695313311560658</td>\n",
       "      <td>2019-07-25 11:11:42</td>\n",
       "      <td>246</td>\n",
       "      <td>2019-07-25</td>\n",
       "    </tr>\n",
       "    <tr>\n",
       "      <th>2</th>\n",
       "      <td>PaymentScreenSuccessful</td>\n",
       "      <td>3518123091307005509</td>\n",
       "      <td>2019-07-25 11:28:47</td>\n",
       "      <td>248</td>\n",
       "      <td>2019-07-25</td>\n",
       "    </tr>\n",
       "    <tr>\n",
       "      <th>3</th>\n",
       "      <td>CartScreenAppear</td>\n",
       "      <td>3518123091307005509</td>\n",
       "      <td>2019-07-25 11:28:47</td>\n",
       "      <td>248</td>\n",
       "      <td>2019-07-25</td>\n",
       "    </tr>\n",
       "    <tr>\n",
       "      <th>4</th>\n",
       "      <td>PaymentScreenSuccessful</td>\n",
       "      <td>6217807653094995999</td>\n",
       "      <td>2019-07-25 11:48:42</td>\n",
       "      <td>248</td>\n",
       "      <td>2019-07-25</td>\n",
       "    </tr>\n",
       "  </tbody>\n",
       "</table>\n",
       "</div>"
      ],
      "text/plain": [
       "                event_name            device_id           timestamp  \\\n",
       "0         MainScreenAppear  4575588528974610257 2019-07-25 04:43:36   \n",
       "1         MainScreenAppear  7416695313311560658 2019-07-25 11:11:42   \n",
       "2  PaymentScreenSuccessful  3518123091307005509 2019-07-25 11:28:47   \n",
       "3         CartScreenAppear  3518123091307005509 2019-07-25 11:28:47   \n",
       "4  PaymentScreenSuccessful  6217807653094995999 2019-07-25 11:48:42   \n",
       "\n",
       "   experiment_id       date  \n",
       "0            246 2019-07-25  \n",
       "1            246 2019-07-25  \n",
       "2            248 2019-07-25  \n",
       "3            248 2019-07-25  \n",
       "4            248 2019-07-25  "
      ]
     },
     "execution_count": 10,
     "metadata": {},
     "output_type": "execute_result"
    }
   ],
   "source": [
    "#выведем дату из стобца 'timestamp' и приведем к нужному формату\n",
    "logs['date'] = pd.to_datetime(logs['timestamp'].dt.date) \n",
    "logs.head()"
   ]
  },
  {
   "cell_type": "code",
   "execution_count": 11,
   "metadata": {},
   "outputs": [
    {
     "name": "stdout",
     "output_type": "stream",
     "text": [
      "<class 'pandas.core.frame.DataFrame'>\n",
      "Int64Index: 243713 entries, 0 to 244125\n",
      "Data columns (total 5 columns):\n",
      " #   Column         Non-Null Count   Dtype         \n",
      "---  ------         --------------   -----         \n",
      " 0   event_name     243713 non-null  object        \n",
      " 1   device_id      243713 non-null  int64         \n",
      " 2   timestamp      243713 non-null  datetime64[ns]\n",
      " 3   experiment_id  243713 non-null  int64         \n",
      " 4   date           243713 non-null  datetime64[ns]\n",
      "dtypes: datetime64[ns](2), int64(2), object(1)\n",
      "memory usage: 11.2+ MB\n"
     ]
    }
   ],
   "source": [
    "logs.info()"
   ]
  },
  {
   "cell_type": "markdown",
   "metadata": {},
   "source": [
    "**2.4 Проверим пользователей по группам**"
   ]
  },
  {
   "cell_type": "markdown",
   "metadata": {},
   "source": [
    "Выполним проверку, не попадают ли какие-то пользователи в две или три группы одновременно. Для этого воспрользуемся срезами"
   ]
  },
  {
   "cell_type": "code",
   "execution_count": 12,
   "metadata": {},
   "outputs": [
    {
     "name": "stdout",
     "output_type": "stream",
     "text": [
      "device_id    0\n",
      "dtype: int64\n",
      "device_id    0\n",
      "dtype: int64\n"
     ]
    },
    {
     "data": {
      "text/plain": [
       "device_id    0\n",
       "dtype: int64"
      ]
     },
     "execution_count": 12,
     "metadata": {},
     "output_type": "execute_result"
    }
   ],
   "source": [
    "gr_246 = logs.query('experiment_id == 246').loc[:, ['device_id', 'experiment_id']].drop_duplicates().drop(columns=['experiment_id'])\n",
    "gr_247 = logs.query('experiment_id == 247').loc[:, ['device_id', 'experiment_id']].drop_duplicates().drop(columns=['experiment_id'])\n",
    "gr_248 = logs.query('experiment_id == 248').loc[:, ['device_id', 'experiment_id']].drop_duplicates().drop(columns=['experiment_id'])\n",
    "\n",
    "print(gr_246.isin(gr_247).sum())\n",
    "print(gr_247.isin(gr_248).sum())\n",
    "gr_247.isin(gr_248).sum()"
   ]
  },
  {
   "cell_type": "markdown",
   "metadata": {},
   "source": [
    "Повторов не обнаружено"
   ]
  },
  {
   "cell_type": "markdown",
   "metadata": {},
   "source": [
    "**Вывод:** на данном этапе столбцы датафрейма были переименованы, пропусков и повторов пользователей по группам обнаружено не было, дубликаты удалены, столбец с датой и временем приведен к необходимому типу данных. Можно приступать к анализу."
   ]
  },
  {
   "cell_type": "markdown",
   "metadata": {},
   "source": [
    "### Изучение и проверка данных"
   ]
  },
  {
   "cell_type": "markdown",
   "metadata": {},
   "source": [
    "**3.1 Посчитаем количество событий в логе**"
   ]
  },
  {
   "cell_type": "code",
   "execution_count": 13,
   "metadata": {},
   "outputs": [
    {
     "data": {
      "text/plain": [
       "243713"
      ]
     },
     "execution_count": 13,
     "metadata": {},
     "output_type": "execute_result"
    }
   ],
   "source": [
    "#выведем количество событий\n",
    "logs['timestamp'].count()"
   ]
  },
  {
   "cell_type": "code",
   "execution_count": 14,
   "metadata": {},
   "outputs": [
    {
     "data": {
      "text/plain": [
       "MainScreenAppear           119101\n",
       "OffersScreenAppear          46808\n",
       "CartScreenAppear            42668\n",
       "PaymentScreenSuccessful     34118\n",
       "Tutorial                     1018\n",
       "Name: event_name, dtype: int64"
      ]
     },
     "execution_count": 14,
     "metadata": {},
     "output_type": "execute_result"
    }
   ],
   "source": [
    "#выведем список уникальных событий\n",
    "logs['event_name'].value_counts()"
   ]
  },
  {
   "cell_type": "markdown",
   "metadata": {},
   "source": [
    "Всего в логе 243 713 событий, уникальных из них 5."
   ]
  },
  {
   "cell_type": "markdown",
   "metadata": {},
   "source": [
    "**3.2 Посчитаем количество пользователей в логе**"
   ]
  },
  {
   "cell_type": "code",
   "execution_count": 15,
   "metadata": {},
   "outputs": [
    {
     "data": {
      "text/plain": [
       "7551"
      ]
     },
     "execution_count": 15,
     "metadata": {},
     "output_type": "execute_result"
    }
   ],
   "source": [
    "logs['device_id'].nunique()"
   ]
  },
  {
   "cell_type": "markdown",
   "metadata": {},
   "source": [
    "Уникальных пользователей в логе 7551, следовательно, на каждого пользователя приходится несколько событий"
   ]
  },
  {
   "cell_type": "markdown",
   "metadata": {},
   "source": [
    "**3.3 Посчитаем сколько в среднем событий приходится на пользователя**"
   ]
  },
  {
   "cell_type": "code",
   "execution_count": 16,
   "metadata": {},
   "outputs": [
    {
     "data": {
      "text/plain": [
       "32.28"
      ]
     },
     "execution_count": 16,
     "metadata": {},
     "output_type": "execute_result"
    }
   ],
   "source": [
    "#сгруппируем данные\n",
    "events_mean = round(logs.groupby('device_id').agg({'timestamp': 'count'}).timestamp.mean(), 2)\n",
    "events_mean"
   ]
  },
  {
   "cell_type": "markdown",
   "metadata": {},
   "source": [
    "В среднем на пользователя приходится 32 события"
   ]
  },
  {
   "cell_type": "markdown",
   "metadata": {},
   "source": [
    "**3.4 Изучим период, данными за который мы располагаем**"
   ]
  },
  {
   "cell_type": "markdown",
   "metadata": {},
   "source": [
    "Найдем максимальную и минимальную дату"
   ]
  },
  {
   "cell_type": "code",
   "execution_count": 17,
   "metadata": {},
   "outputs": [
    {
     "name": "stdout",
     "output_type": "stream",
     "text": [
      "Минимальная дата 2019-07-25 00:00:00\n",
      "Максимальная дата 2019-08-07 00:00:00\n"
     ]
    }
   ],
   "source": [
    "print('Минимальная дата', logs['date'].min())\n",
    "print('Максимальная дата', logs['date'].max())"
   ]
  },
  {
   "cell_type": "markdown",
   "metadata": {},
   "source": [
    "Изучим, как меняется количество данных: построим столбчатую диаграмму, которая отобразит количество событий в зависимости от времени в разрезе групп"
   ]
  },
  {
   "cell_type": "code",
   "execution_count": 18,
   "metadata": {},
   "outputs": [
    {
     "data": {
      "image/png": "[encoded data removed]",
      "text/plain": [
       "<Figure size 1008x432 with 1 Axes>"
      ]
     },
     "metadata": {
      "needs_background": "light"
     },
     "output_type": "display_data"
    }
   ],
   "source": [
    "#выведем столбчатую диаграмму для наглядности\n",
    "plt.figure(figsize=(14, 6))\n",
    "sns.histplot(data=logs, x='timestamp')\n",
    "plt.title('Количество событий в зависимости от времени в разрезе групп')\n",
    "plt.ylabel('Количество событий')\n",
    "plt.xlabel('Дата')\n",
    "plt.xticks(rotation=50)\n",
    "plt.grid(which='major')\n",
    "plt.show()"
   ]
  },
  {
   "cell_type": "markdown",
   "metadata": {},
   "source": [
    "Определим, с какого момента данные полные и отбросим более старые"
   ]
  },
  {
   "cell_type": "markdown",
   "metadata": {},
   "source": [
    "По диаграмме видно, что до 1 августа количество событий не достигает и 1000, зато уже 1 августа превышают 70000, поэтому данные до 1 августа можно отбросить"
   ]
  },
  {
   "cell_type": "code",
   "execution_count": 19,
   "metadata": {},
   "outputs": [
    {
     "name": "stdout",
     "output_type": "stream",
     "text": [
      "<class 'pandas.core.frame.DataFrame'>\n",
      "Int64Index: 243713 entries, 0 to 244125\n",
      "Data columns (total 5 columns):\n",
      " #   Column         Non-Null Count   Dtype         \n",
      "---  ------         --------------   -----         \n",
      " 0   event_name     243713 non-null  object        \n",
      " 1   device_id      243713 non-null  int64         \n",
      " 2   timestamp      243713 non-null  datetime64[ns]\n",
      " 3   experiment_id  243713 non-null  int64         \n",
      " 4   date           243713 non-null  datetime64[ns]\n",
      "dtypes: datetime64[ns](2), int64(2), object(1)\n",
      "memory usage: 11.2+ MB\n"
     ]
    }
   ],
   "source": [
    "logs.info()"
   ]
  },
  {
   "cell_type": "code",
   "execution_count": 20,
   "metadata": {},
   "outputs": [
    {
     "data": {
      "text/html": [
       "<div>\n",
       "<style scoped>\n",
       "    .dataframe tbody tr th:only-of-type {\n",
       "        vertical-align: middle;\n",
       "    }\n",
       "\n",
       "    .dataframe tbody tr th {\n",
       "        vertical-align: top;\n",
       "    }\n",
       "\n",
       "    .dataframe thead th {\n",
       "        text-align: right;\n",
       "    }\n",
       "</style>\n",
       "<table border=\"1\" class=\"dataframe\">\n",
       "  <thead>\n",
       "    <tr style=\"text-align: right;\">\n",
       "      <th></th>\n",
       "      <th>event_name</th>\n",
       "      <th>device_id</th>\n",
       "      <th>timestamp</th>\n",
       "      <th>experiment_id</th>\n",
       "      <th>date</th>\n",
       "    </tr>\n",
       "  </thead>\n",
       "  <tbody>\n",
       "    <tr>\n",
       "      <th>2828</th>\n",
       "      <td>Tutorial</td>\n",
       "      <td>3737462046622621720</td>\n",
       "      <td>2019-08-01 00:07:28</td>\n",
       "      <td>246</td>\n",
       "      <td>2019-08-01</td>\n",
       "    </tr>\n",
       "    <tr>\n",
       "      <th>2829</th>\n",
       "      <td>MainScreenAppear</td>\n",
       "      <td>3737462046622621720</td>\n",
       "      <td>2019-08-01 00:08:00</td>\n",
       "      <td>246</td>\n",
       "      <td>2019-08-01</td>\n",
       "    </tr>\n",
       "    <tr>\n",
       "      <th>2830</th>\n",
       "      <td>MainScreenAppear</td>\n",
       "      <td>3737462046622621720</td>\n",
       "      <td>2019-08-01 00:08:55</td>\n",
       "      <td>246</td>\n",
       "      <td>2019-08-01</td>\n",
       "    </tr>\n",
       "    <tr>\n",
       "      <th>2831</th>\n",
       "      <td>OffersScreenAppear</td>\n",
       "      <td>3737462046622621720</td>\n",
       "      <td>2019-08-01 00:08:58</td>\n",
       "      <td>246</td>\n",
       "      <td>2019-08-01</td>\n",
       "    </tr>\n",
       "    <tr>\n",
       "      <th>2832</th>\n",
       "      <td>MainScreenAppear</td>\n",
       "      <td>1433840883824088890</td>\n",
       "      <td>2019-08-01 00:08:59</td>\n",
       "      <td>247</td>\n",
       "      <td>2019-08-01</td>\n",
       "    </tr>\n",
       "  </tbody>\n",
       "</table>\n",
       "</div>"
      ],
      "text/plain": [
       "              event_name            device_id           timestamp  \\\n",
       "2828            Tutorial  3737462046622621720 2019-08-01 00:07:28   \n",
       "2829    MainScreenAppear  3737462046622621720 2019-08-01 00:08:00   \n",
       "2830    MainScreenAppear  3737462046622621720 2019-08-01 00:08:55   \n",
       "2831  OffersScreenAppear  3737462046622621720 2019-08-01 00:08:58   \n",
       "2832    MainScreenAppear  1433840883824088890 2019-08-01 00:08:59   \n",
       "\n",
       "      experiment_id       date  \n",
       "2828            246 2019-08-01  \n",
       "2829            246 2019-08-01  \n",
       "2830            246 2019-08-01  \n",
       "2831            246 2019-08-01  \n",
       "2832            247 2019-08-01  "
      ]
     },
     "execution_count": 20,
     "metadata": {},
     "output_type": "execute_result"
    }
   ],
   "source": [
    "logs_new = logs.query('date > \"2019-07-31\"')\n",
    "logs_new.head()"
   ]
  },
  {
   "cell_type": "markdown",
   "metadata": {},
   "source": [
    "На самом деле мы располагаем данными за 7 дней (с 1 по 7 август включительно)."
   ]
  },
  {
   "cell_type": "markdown",
   "metadata": {},
   "source": [
    "**3.5 Рассмотрим количество событий и пользователей, которых мы потеряли, отбросив старые данные**"
   ]
  },
  {
   "cell_type": "code",
   "execution_count": 21,
   "metadata": {},
   "outputs": [
    {
     "data": {
      "text/plain": [
       "2826"
      ]
     },
     "execution_count": 21,
     "metadata": {},
     "output_type": "execute_result"
    }
   ],
   "source": [
    "#посчитаем события\n",
    "logs_old = logs.query('date <= \"2019-07-31\"')\n",
    "len(logs_old['event_name'])"
   ]
  },
  {
   "cell_type": "code",
   "execution_count": 35,
   "metadata": {},
   "outputs": [
    {
     "data": {
      "text/plain": [
       "1.16"
      ]
     },
     "execution_count": 35,
     "metadata": {},
     "output_type": "execute_result"
    }
   ],
   "source": [
    "event_old_share = round(len(logs_old['event_name']) / len(logs['event_name']) * 100, 2)\n",
    "event_old_share"
   ]
  },
  {
   "cell_type": "code",
   "execution_count": 31,
   "metadata": {},
   "outputs": [
    {
     "data": {
      "text/plain": [
       "17"
      ]
     },
     "execution_count": 31,
     "metadata": {},
     "output_type": "execute_result"
    }
   ],
   "source": [
    "device_old = logs['device_id'].nunique() - logs_new['device_id'].nunique()\n",
    "device_old"
   ]
  },
  {
   "cell_type": "code",
   "execution_count": 36,
   "metadata": {},
   "outputs": [
    {
     "data": {
      "text/plain": [
       "0.23"
      ]
     },
     "execution_count": 36,
     "metadata": {},
     "output_type": "execute_result"
    }
   ],
   "source": [
    "device_old_share = round(device_old / logs['device_id'].nunique() * 100, 2)\n",
    "device_old_share"
   ]
  },
  {
   "cell_type": "markdown",
   "metadata": {},
   "source": [
    "Отбросив старые данные, мы потеряли всего 2826 (1.16%) событий и 17 (0.23%) пользователей. По сравнению с оставшимися, количество незначительно."
   ]
  },
  {
   "cell_type": "markdown",
   "metadata": {},
   "source": [
    "**3.6 Проверим, что у нас есть пользователи из всех трёх экспериментальных групп**"
   ]
  },
  {
   "cell_type": "code",
   "execution_count": 37,
   "metadata": {},
   "outputs": [
    {
     "data": {
      "text/plain": [
       "248    84563\n",
       "246    79302\n",
       "247    77022\n",
       "Name: experiment_id, dtype: int64"
      ]
     },
     "execution_count": 37,
     "metadata": {},
     "output_type": "execute_result"
    }
   ],
   "source": [
    "logs_new['experiment_id'].value_counts()"
   ]
  },
  {
   "cell_type": "markdown",
   "metadata": {},
   "source": [
    "У нас есть пользователи из всех трех экспериментальных групп, в каждой группе примерно одинаковое количество событий."
   ]
  },
  {
   "cell_type": "markdown",
   "metadata": {},
   "source": [
    "**Вывод:** в ходе изучения и проверки данных мы посчитали количество событий и пользователей и отбросили данные ранее 1 августа 2019. Данные с 1 по 7 августа 2019 готовы для дальнейшего изучения. "
   ]
  },
  {
   "cell_type": "markdown",
   "metadata": {},
   "source": [
    "### Изучение воронки событий"
   ]
  },
  {
   "cell_type": "markdown",
   "metadata": {},
   "source": [
    "**4.1 Посмотрим, какие события есть в логах, как часто они встречаются. Отсортируем события по частоте**"
   ]
  },
  {
   "cell_type": "code",
   "execution_count": 38,
   "metadata": {},
   "outputs": [
    {
     "data": {
      "text/plain": [
       "MainScreenAppear           117328\n",
       "OffersScreenAppear          46333\n",
       "CartScreenAppear            42303\n",
       "PaymentScreenSuccessful     33918\n",
       "Tutorial                     1005\n",
       "Name: event_name, dtype: int64"
      ]
     },
     "execution_count": 38,
     "metadata": {},
     "output_type": "execute_result"
    }
   ],
   "source": [
    "#выведем список уникальных событий\n",
    "logs_new['event_name'].value_counts()"
   ]
  },
  {
   "cell_type": "markdown",
   "metadata": {},
   "source": [
    "В логе 5 видов уникальных событий, они включают в себя просмотр главной страницы (117328), просмотр предложений (46333), просмотр корзины (42303), просмотр страницы успешной оплаты (33918), просмотр урока (1005). "
   ]
  },
  {
   "cell_type": "markdown",
   "metadata": {},
   "source": [
    "**4.2 Посчитаем, сколько пользователей совершали каждое из этих событий. Отсортируем события по числу пользователей и посчитаем долю пользователей, которые хоть раз совершали событие**"
   ]
  },
  {
   "cell_type": "code",
   "execution_count": 39,
   "metadata": {},
   "outputs": [
    {
     "data": {
      "text/html": [
       "<div>\n",
       "<style scoped>\n",
       "    .dataframe tbody tr th:only-of-type {\n",
       "        vertical-align: middle;\n",
       "    }\n",
       "\n",
       "    .dataframe tbody tr th {\n",
       "        vertical-align: top;\n",
       "    }\n",
       "\n",
       "    .dataframe thead th {\n",
       "        text-align: right;\n",
       "    }\n",
       "</style>\n",
       "<table border=\"1\" class=\"dataframe\">\n",
       "  <thead>\n",
       "    <tr style=\"text-align: right;\">\n",
       "      <th></th>\n",
       "      <th>device_id</th>\n",
       "      <th>share</th>\n",
       "    </tr>\n",
       "    <tr>\n",
       "      <th>event_name</th>\n",
       "      <th></th>\n",
       "      <th></th>\n",
       "    </tr>\n",
       "  </thead>\n",
       "  <tbody>\n",
       "    <tr>\n",
       "      <th>MainScreenAppear</th>\n",
       "      <td>7419</td>\n",
       "      <td>98.47</td>\n",
       "    </tr>\n",
       "    <tr>\n",
       "      <th>OffersScreenAppear</th>\n",
       "      <td>4593</td>\n",
       "      <td>60.96</td>\n",
       "    </tr>\n",
       "    <tr>\n",
       "      <th>CartScreenAppear</th>\n",
       "      <td>3734</td>\n",
       "      <td>49.56</td>\n",
       "    </tr>\n",
       "    <tr>\n",
       "      <th>PaymentScreenSuccessful</th>\n",
       "      <td>3539</td>\n",
       "      <td>46.97</td>\n",
       "    </tr>\n",
       "    <tr>\n",
       "      <th>Tutorial</th>\n",
       "      <td>840</td>\n",
       "      <td>11.15</td>\n",
       "    </tr>\n",
       "  </tbody>\n",
       "</table>\n",
       "</div>"
      ],
      "text/plain": [
       "                         device_id  share\n",
       "event_name                               \n",
       "MainScreenAppear              7419  98.47\n",
       "OffersScreenAppear            4593  60.96\n",
       "CartScreenAppear              3734  49.56\n",
       "PaymentScreenSuccessful       3539  46.97\n",
       "Tutorial                       840  11.15"
      ]
     },
     "execution_count": 39,
     "metadata": {},
     "output_type": "execute_result"
    }
   ],
   "source": [
    "users_events = logs_new.pivot_table(index='event_name',values='device_id',aggfunc='nunique').sort_values(by = 'device_id', ascending = False)\n",
    "users_events['share'] = round(users_events / logs_new.device_id.nunique() * 100, 2)\n",
    "users_events"
   ]
  },
  {
   "cell_type": "markdown",
   "metadata": {},
   "source": [
    "98% пользователей посещают главную страницу, 60% пользователей посещают страницу с предложениями, 49% пользователей посащают корзину, 46% пользователей посущают страницу оплаты, 11% пользователей посещают страницу обучения."
   ]
  },
  {
   "cell_type": "markdown",
   "metadata": {},
   "source": [
    "**4.3 Предположим, в каком порядке происходят события. Все ли они выстраиваются в последовательную цепочку?**"
   ]
  },
  {
   "cell_type": "markdown",
   "metadata": {},
   "source": [
    "Выстраивается следующая цепочка:  \n",
    "пользователь посещает главную страницу → затем страницу с предложениями → корзину → страницу оплаты.  \n",
    "Обучение в данную цепочку не вписывается. Скорее всего, страница обучения появляется после регистрации и ее можно пропустить, поэтому ее посещало так мало пользователей. "
   ]
  },
  {
   "cell_type": "markdown",
   "metadata": {},
   "source": [
    "**4.4 По воронке событий посчитаем, какая доля пользователей проходит на следующий шаг воронки (от числа пользователей на предыдущем)**"
   ]
  },
  {
   "cell_type": "markdown",
   "metadata": {},
   "source": [
    "Для последовательности событий A → B → C посчитаем отношение числа пользователей с событием B к количеству пользователей с событием A, а также отношение числа пользователей с событием C к количеству пользователей с событием B."
   ]
  },
  {
   "cell_type": "code",
   "execution_count": 40,
   "metadata": {},
   "outputs": [
    {
     "data": {
      "text/html": [
       "<div>\n",
       "<style scoped>\n",
       "    .dataframe tbody tr th:only-of-type {\n",
       "        vertical-align: middle;\n",
       "    }\n",
       "\n",
       "    .dataframe tbody tr th {\n",
       "        vertical-align: top;\n",
       "    }\n",
       "\n",
       "    .dataframe thead th {\n",
       "        text-align: right;\n",
       "    }\n",
       "</style>\n",
       "<table border=\"1\" class=\"dataframe\">\n",
       "  <thead>\n",
       "    <tr style=\"text-align: right;\">\n",
       "      <th></th>\n",
       "      <th>event_name</th>\n",
       "      <th>device_id</th>\n",
       "      <th>share</th>\n",
       "    </tr>\n",
       "  </thead>\n",
       "  <tbody>\n",
       "    <tr>\n",
       "      <th>0</th>\n",
       "      <td>MainScreenAppear</td>\n",
       "      <td>7419</td>\n",
       "      <td>NaN</td>\n",
       "    </tr>\n",
       "    <tr>\n",
       "      <th>1</th>\n",
       "      <td>OffersScreenAppear</td>\n",
       "      <td>4593</td>\n",
       "      <td>61.91</td>\n",
       "    </tr>\n",
       "    <tr>\n",
       "      <th>2</th>\n",
       "      <td>CartScreenAppear</td>\n",
       "      <td>3734</td>\n",
       "      <td>81.30</td>\n",
       "    </tr>\n",
       "    <tr>\n",
       "      <th>3</th>\n",
       "      <td>PaymentScreenSuccessful</td>\n",
       "      <td>3539</td>\n",
       "      <td>94.78</td>\n",
       "    </tr>\n",
       "  </tbody>\n",
       "</table>\n",
       "</div>"
      ],
      "text/plain": [
       "                event_name  device_id  share\n",
       "0         MainScreenAppear       7419    NaN\n",
       "1       OffersScreenAppear       4593  61.91\n",
       "2         CartScreenAppear       3734  81.30\n",
       "3  PaymentScreenSuccessful       3539  94.78"
      ]
     },
     "execution_count": 40,
     "metadata": {},
     "output_type": "execute_result"
    }
   ],
   "source": [
    "#создадим срез и сгруппируем данные\n",
    "users_share = logs_new.query('event_name != \"Tutorial\"').groupby('event_name').agg({'device_id': 'nunique'}) \\\n",
    "                    .sort_values(by='device_id', ascending=False).reset_index()\n",
    "users_share['share'] = round(100 + users_share['device_id'].pct_change() * 100, 2) #рассчитаем процентное соотношение\n",
    "users_share"
   ]
  },
  {
   "cell_type": "markdown",
   "metadata": {},
   "source": [
    "От общего числа пользователей на первом шаге до второго доходит 61%, от второго до третьего - 81% и от третьего до четвертого - 94%.  \n",
    "Больше всего пользователей (около 38%) теряется на втором шаге - при переходе с главной страницы на страницу с предложениями."
   ]
  },
  {
   "cell_type": "markdown",
   "metadata": {},
   "source": [
    "**4.5 Рассчитаем, какая доля пользователей доходит от первого события до оплаты**"
   ]
  },
  {
   "cell_type": "code",
   "execution_count": 41,
   "metadata": {},
   "outputs": [
    {
     "data": {
      "text/html": [
       "<div>\n",
       "<style scoped>\n",
       "    .dataframe tbody tr th:only-of-type {\n",
       "        vertical-align: middle;\n",
       "    }\n",
       "\n",
       "    .dataframe tbody tr th {\n",
       "        vertical-align: top;\n",
       "    }\n",
       "\n",
       "    .dataframe thead th {\n",
       "        text-align: right;\n",
       "    }\n",
       "</style>\n",
       "<table border=\"1\" class=\"dataframe\">\n",
       "  <thead>\n",
       "    <tr style=\"text-align: right;\">\n",
       "      <th></th>\n",
       "      <th>event_name</th>\n",
       "      <th>device_id</th>\n",
       "      <th>share</th>\n",
       "      <th>total_share</th>\n",
       "    </tr>\n",
       "  </thead>\n",
       "  <tbody>\n",
       "    <tr>\n",
       "      <th>0</th>\n",
       "      <td>MainScreenAppear</td>\n",
       "      <td>7419</td>\n",
       "      <td>NaN</td>\n",
       "      <td>100.00</td>\n",
       "    </tr>\n",
       "    <tr>\n",
       "      <th>1</th>\n",
       "      <td>OffersScreenAppear</td>\n",
       "      <td>4593</td>\n",
       "      <td>61.91</td>\n",
       "      <td>61.91</td>\n",
       "    </tr>\n",
       "    <tr>\n",
       "      <th>2</th>\n",
       "      <td>CartScreenAppear</td>\n",
       "      <td>3734</td>\n",
       "      <td>81.30</td>\n",
       "      <td>50.33</td>\n",
       "    </tr>\n",
       "    <tr>\n",
       "      <th>3</th>\n",
       "      <td>PaymentScreenSuccessful</td>\n",
       "      <td>3539</td>\n",
       "      <td>94.78</td>\n",
       "      <td>47.70</td>\n",
       "    </tr>\n",
       "  </tbody>\n",
       "</table>\n",
       "</div>"
      ],
      "text/plain": [
       "                event_name  device_id  share  total_share\n",
       "0         MainScreenAppear       7419    NaN       100.00\n",
       "1       OffersScreenAppear       4593  61.91        61.91\n",
       "2         CartScreenAppear       3734  81.30        50.33\n",
       "3  PaymentScreenSuccessful       3539  94.78        47.70"
      ]
     },
     "execution_count": 41,
     "metadata": {},
     "output_type": "execute_result"
    }
   ],
   "source": [
    "users_share['total_share'] = round(users_share['device_id'] / users_share['device_id'][0] * 100, 2)\n",
    "users_share"
   ]
  },
  {
   "cell_type": "markdown",
   "metadata": {},
   "source": [
    "От первого события до оплаты доходит 47,7% пользователей. "
   ]
  },
  {
   "cell_type": "code",
   "execution_count": 46,
   "metadata": {},
   "outputs": [
    {
     "data": {
      "image/png": "[encoded data removed]",
      "text/plain": [
       "<Figure size 864x432 with 1 Axes>"
      ]
     },
     "metadata": {
      "needs_background": "light"
     },
     "output_type": "display_data"
    }
   ],
   "source": [
    "plt.figure(figsize=(12, 6)) #выведем столбчатую диаграмму для наглядности\n",
    "sns.barplot(data=users_share, x='event_name', y='total_share', palette='icefire')\n",
    "plt.title('Воронка событий')\n",
    "plt.ylabel('Процент пользователей')\n",
    "plt.xlabel('Событие')\n",
    "plt.grid(which='major')\n",
    "plt.show()"
   ]
  },
  {
   "cell_type": "markdown",
   "metadata": {},
   "source": [
    "### Изучение результатов эксперимента"
   ]
  },
  {
   "cell_type": "markdown",
   "metadata": {},
   "source": [
    "**5.1 Рассчитаем количество пользователей в каждой экспериментальной группе**"
   ]
  },
  {
   "cell_type": "code",
   "execution_count": 48,
   "metadata": {},
   "outputs": [
    {
     "data": {
      "text/plain": [
       "experiment_id\n",
       "246    2484\n",
       "247    2513\n",
       "248    2537\n",
       "Name: device_id, dtype: int64"
      ]
     },
     "execution_count": 48,
     "metadata": {},
     "output_type": "execute_result"
    }
   ],
   "source": [
    "groups = logs_new.groupby('experiment_id')['device_id'].nunique()\n",
    "groups"
   ]
  },
  {
   "cell_type": "code",
   "execution_count": 59,
   "metadata": {},
   "outputs": [
    {
     "data": {
      "text/plain": [
       "experiment_id\n",
       "246    32.97\n",
       "247    33.36\n",
       "248    33.67\n",
       "Name: device_id, dtype: float64"
      ]
     },
     "execution_count": 59,
     "metadata": {},
     "output_type": "execute_result"
    }
   ],
   "source": [
    "groups_share = round(logs_new.groupby('experiment_id')['device_id'].nunique() / logs_new['device_id'].nunique() * 100, 2)\n",
    "groups_share"
   ]
  },
  {
   "cell_type": "markdown",
   "metadata": {},
   "source": [
    "В группе 246 - 2484 (32.9%) пользователя, в 247 - 2513 (33.3%) пользователя, в 248 - 2537 (33.6%) пользователя.  \n",
    "По экспериментальным группам пользователи распределены корректно, тест построен хорошо, разница в количестве меньше 1% и несущественна.\n"
   ]
  },
  {
   "cell_type": "markdown",
   "metadata": {},
   "source": [
    "**5.2 Есть 2 контрольные группы для А/А-эксперимента, чтобы проверить корректность всех механизмов и расчётов. Проверим, находят ли статистические критерии разницу между выборками 246 и 247**"
   ]
  },
  {
   "cell_type": "markdown",
   "metadata": {},
   "source": [
    "**Выберем самое популярное событие. Посчитаем число пользователей, совершивших это событие в каждой из контрольных групп. Посчитаем долю пользователей, совершивших это событие**"
   ]
  },
  {
   "cell_type": "code",
   "execution_count": null,
   "metadata": {},
   "outputs": [],
   "source": [
    "events_and_users = logs_new[logs_new['experiment_id'] != 248].pivot_table(index=logs_new['event_name'], columns=logs_new['experiment_id'], aggfunc={'count', 'nunique'})['device_id']\n",
    "events_and_users.columns = ['events_246', 'events_247', 'users_246', 'users_247']\n",
    "events_and_users['events_246_247'] = events_and_users['events_246'] + events_and_users['events_247']\n",
    "events_and_users['users_246_247'] = events_and_users['users_246'] + events_and_users['users_247']\n",
    "events_and_users.sort_values(by='events_246', ascending=False)"
   ]
  },
  {
   "cell_type": "markdown",
   "metadata": {},
   "source": [
    "Нулевая гипотеза: доли по событиям между группами равны.  \n",
    "Альтернативная гипотеза: доли по событиям между группами различаются.  \n",
    "\n",
    "Для проверки гипотез используем z-test для поиска статистически значимого различия."
   ]
  },
  {
   "cell_type": "code",
   "execution_count": null,
   "metadata": {},
   "outputs": [],
   "source": [
    "#функция для проверки гипотез\n",
    "def z_test(group_a, group_b, event, alpha):\n",
    "    group_users = np.array([logs_new.query('event_name == @event and experiment_id == @group_a').device_id.nunique(),\n",
    "                           logs_new.query('event_name == @event and experiment_id == @group_b').device_id.nunique()])\n",
    "    total_users = np.array([logs_new.query('experiment_id == @group_a').device_id.nunique(),\n",
    "                           logs_new.query('experiment_id == @group_b').device_id.nunique()])\n",
    "        #пропорция в первой группе:\n",
    "    p1 = group_users[0]/total_users[0]\n",
    "\n",
    "    #пропорция во второй группе:\n",
    "    p2 = group_users[1]/total_users[1]\n",
    "\n",
    "    #пропорция в комбинированном датасете:\n",
    "    p_combined = (group_users[0] + group_users[1]) / (total_users[0] + total_users[1])\n",
    "\n",
    "    #разница пропорций в датасетах\n",
    "    difference = p1 - p2 \n",
    "\n",
    "    #считаем статистику в ст.отклонениях стандартного нормального распределения\n",
    "    z_value = difference / mth.sqrt(\n",
    "        p_combined * (1 - p_combined) * (1 / total_users[0] + 1 / total_users[1])\n",
    "    )\n",
    "\n",
    "    #задаем стандартное нормальное распределение (среднее 0, ст.отклонение 1)    \n",
    "    distr = st.norm(0, 1)\n",
    "\n",
    "    p_value = (1 - distr.cdf(abs(z_value))) * 2\n",
    "\n",
    "    print('p-значение: ', p_value)\n",
    "\n",
    "    if p_value < alpha:\n",
    "        print('Отвергаем нулевую гипотезу: между долями есть значимая разница')\n",
    "    else:\n",
    "        print(\n",
    "            'Не получилось отвергнуть нулевую гипотезу, нет оснований считать доли разными')"
   ]
  },
  {
   "cell_type": "code",
   "execution_count": null,
   "metadata": {},
   "outputs": [],
   "source": [
    "#критический уровень статистической значимости\n",
    "alpha = 0.05  "
   ]
  },
  {
   "cell_type": "markdown",
   "metadata": {},
   "source": [
    "Сравним группы 246 и 247"
   ]
  },
  {
   "cell_type": "code",
   "execution_count": null,
   "metadata": {},
   "outputs": [],
   "source": [
    "group_a = 246\n",
    "group_b = 247\n",
    "\n",
    "print('\\033[1m' + 'MainScreenAppear:' + '\\033[0m')\n",
    "event = 'MainScreenAppear'\n",
    "z_test(group_a, group_b, event, alpha)\n",
    "\n",
    "print('\\033[1m' + 'OffersScreenAppear:' + '\\033[0m')\n",
    "event = 'OffersScreenAppear'\n",
    "z_test(group_a, group_b, event, alpha)\n",
    "\n",
    "print('\\033[1m' + 'CartScreenAppear:' + '\\033[0m')\n",
    "event = 'CartScreenAppear'\n",
    "z_test(group_a, group_b, event, alpha)\n",
    "\n",
    "print('\\033[1m' + 'PaymentScreenSuccessful:' + '\\033[0m')\n",
    "event = 'PaymentScreenSuccessful'\n",
    "z_test(group_a, group_b, event, alpha)"
   ]
  },
  {
   "cell_type": "markdown",
   "metadata": {},
   "source": [
    "Самое популяерное событие, как ипредполагалось, - посещение пользователем главной страницы. Разбиение на группы работает корректно. Доли по событиям между группами равны."
   ]
  },
  {
   "cell_type": "markdown",
   "metadata": {},
   "source": [
    "**5.4 Аналогично поступим с группой с изменённым шрифтом**"
   ]
  },
  {
   "cell_type": "markdown",
   "metadata": {},
   "source": [
    "Сравним результаты с каждой из контрольных групп в отдельности по каждому событию"
   ]
  },
  {
   "cell_type": "markdown",
   "metadata": {},
   "source": [
    "Сравним группы 246 (контрольную) и 248 (экспериментальную)"
   ]
  },
  {
   "cell_type": "code",
   "execution_count": null,
   "metadata": {},
   "outputs": [],
   "source": [
    "group_a = 246\n",
    "group_b = 248\n",
    "\n",
    "print('\\033[1m' + 'MainScreenAppear:' + '\\033[0m')\n",
    "event = 'MainScreenAppear'\n",
    "z_test(group_a, group_b, event, alpha)\n",
    "\n",
    "print('\\033[1m' + 'OffersScreenAppear:' + '\\033[0m')\n",
    "event = 'OffersScreenAppear'\n",
    "z_test(group_a, group_b, event, alpha)\n",
    "\n",
    "print('\\033[1m' + 'CartScreenAppear:' + '\\033[0m')\n",
    "event = 'CartScreenAppear'\n",
    "z_test(group_a, group_b, event, alpha)\n",
    "\n",
    "print('\\033[1m' + 'PaymentScreenSuccessful:' + '\\033[0m')\n",
    "event = 'PaymentScreenSuccessful'\n",
    "z_test(group_a, group_b, event, alpha)"
   ]
  },
  {
   "cell_type": "markdown",
   "metadata": {},
   "source": [
    "Доли по событиям между группами равны, нулевую гипотезу не отвергаем."
   ]
  },
  {
   "cell_type": "markdown",
   "metadata": {},
   "source": [
    "Сравним группы 247 (контрольную) и 248 (экспериментальную)"
   ]
  },
  {
   "cell_type": "code",
   "execution_count": null,
   "metadata": {},
   "outputs": [],
   "source": [
    "group_a = 247\n",
    "group_b = 248\n",
    "\n",
    "print('\\033[1m' + 'MainScreenAppear:' + '\\033[0m')\n",
    "event = 'MainScreenAppear'\n",
    "z_test(group_a, group_b, event, alpha)\n",
    "\n",
    "print('\\033[1m' + 'OffersScreenAppear:' + '\\033[0m')\n",
    "event = 'OffersScreenAppear'\n",
    "z_test(group_a, group_b, event, alpha)\n",
    "\n",
    "print('\\033[1m' + 'CartScreenAppear:' + '\\033[0m')\n",
    "event = 'CartScreenAppear'\n",
    "z_test(group_a, group_b, event, alpha)\n",
    "\n",
    "print('\\033[1m' + 'PaymentScreenSuccessful:' + '\\033[0m')\n",
    "event = 'PaymentScreenSuccessful'\n",
    "z_test(group_a, group_b, event, alpha)"
   ]
  },
  {
   "cell_type": "markdown",
   "metadata": {},
   "source": [
    "Доли по событиям между группами равны, нулевую гипотезу не отвергаем."
   ]
  },
  {
   "cell_type": "markdown",
   "metadata": {},
   "source": [
    "**Сравним результаты с объединённой контрольной группой**"
   ]
  },
  {
   "cell_type": "code",
   "execution_count": null,
   "metadata": {},
   "outputs": [],
   "source": [
    "group_a = [246, 247]\n",
    "group_b = 248\n",
    "\n",
    "print('\\033[1m' + 'MainScreenAppear:' + '\\033[0m')\n",
    "event = 'MainScreenAppear'\n",
    "z_test(group_a, group_b, event, alpha)\n",
    "\n",
    "print('\\033[1m' + 'OffersScreenAppear:' + '\\033[0m')\n",
    "event = 'OffersScreenAppear'\n",
    "z_test(group_a, group_b, event, alpha)\n",
    "\n",
    "print('\\033[1m' + 'CartScreenAppear:' + '\\033[0m')\n",
    "event = 'CartScreenAppear'\n",
    "z_test(group_a, group_b, event, alpha)\n",
    "\n",
    "print('\\033[1m' + 'PaymentScreenSuccessful:' + '\\033[0m')\n",
    "event = 'PaymentScreenSuccessful'\n",
    "z_test(group_a, group_b, event, alpha)"
   ]
  },
  {
   "cell_type": "markdown",
   "metadata": {},
   "source": [
    "**Вывод:** по итогам 16 проведенных тестов, нулевая гипотеза ни разу не была отвергнута, следовательно, доли по событиям между групп равны, а изменение шрифтов никак не повлияло на конверсию."
   ]
  },
  {
   "cell_type": "markdown",
   "metadata": {},
   "source": [
    "**5.5 Уровень значимости при проверке статистических гипотез**"
   ]
  },
  {
   "cell_type": "markdown",
   "metadata": {},
   "source": [
    "**Какой уровень значимости был выбран при проверке статистических гипотез?**"
   ]
  },
  {
   "cell_type": "markdown",
   "metadata": {},
   "source": [
    "При проверке гипотез был выбран уровень статистической значимости 0.05. Мы провели 16 проверок статистических гипотез, статистически значимой разницы между группами во всех тестах не выявлено."
   ]
  },
  {
   "cell_type": "markdown",
   "metadata": {},
   "source": [
    "**При уровне значимости 0.1 в 10% случаев можно ошибочно отклонить нулевую гипотезу при условии, что она верна. Какой уровень значимости стоит применить?**"
   ]
  },
  {
   "cell_type": "markdown",
   "metadata": {},
   "source": [
    "При увеличении уровня статистической значимости растет вероятность ошибки первого рода - можно ошибочно отклонить нулевую гипотезу при условии, что она верна. При уровне статистической значимости 0.1 каждый десятый раз можно получать ложный результат.  \n",
    "В данном случае следует вместо 0.1 использовать метод Бонферрони или метод Шидака. Уровень статистической значимости будет ниже, а точность будет выше, и ни одна из нулевых гипотез не будет отвергнута (так же, как и в нашем случае), поэтому менять уровень статистической значимости и повторять тесты нецелесообразно."
   ]
  },
  {
   "cell_type": "markdown",
   "metadata": {},
   "source": [
    "### Общий вывод"
   ]
  },
  {
   "cell_type": "markdown",
   "metadata": {},
   "source": [
    "Нами было проведено исследование поведения пользователей мобильного приложения стартапа, который продаёт продукты питания.  \n",
    "В ходе исследования были отсечены данные за первую неделю, т.к. не несли практической пользы. Дальнейший анализ строился на основе данных за вторую неделю.  \n",
    "Мы выяснили, что 98% пользователей посещают главную страницу, 60% пользователей посещают страницу с предложениями, 49% пользователей посащают корзину, 46% пользователей посущают страницу оплаты, 11% пользователей посещают страницу обучения. Большинство пользователей пропускает обучение.  \n",
    "От общего числа пользователей на первом шаге до второго доходит 61%, от второго до третьего - 81% и от третьего до четвертого - 94%. Больше всего пользователей (около 38%) теряется на втором шаге - при переходе с главной страницы на страницу с предложениями. От первого события до оплаты доходит 47,7% пользователей.  \n",
    "Также был проведен A/A/B-тест.  \n",
    "Статистически значимых различий между двумя контрольными группами не найдено, пользователи распределены по группам корректно. Также статистически значимых различий не обнаружено и между контрольными и тестовой группами. Изменение шрифтов никак не влияет на конверсию.\n",
    "Исходя из того, что мы отсекли данные за первую неделю, можно провести повторные тесты после дополнительного сбора данных, например, еще через неделю, но результат вряд ли изменится. "
   ]
  }
 ],
 "metadata": {
  "ExecuteTimeLog": [
   {
    "duration": 1311,
    "start_time": "2024-09-14T14:49:44.553Z"
   },
   {
    "duration": 3,
    "start_time": "2024-09-14T14:52:22.627Z"
   },
   {
    "duration": 885,
    "start_time": "2024-09-14T14:53:35.476Z"
   },
   {
    "duration": 12,
    "start_time": "2024-09-14T14:53:55.866Z"
   },
   {
    "duration": 183,
    "start_time": "2024-09-14T14:54:22.022Z"
   },
   {
    "duration": 8,
    "start_time": "2024-09-14T14:54:23.182Z"
   },
   {
    "duration": 22,
    "start_time": "2024-09-14T14:54:35.311Z"
   },
   {
    "duration": 8,
    "start_time": "2024-09-14T15:01:39.500Z"
   },
   {
    "duration": 21,
    "start_time": "2024-09-14T15:01:40.107Z"
   },
   {
    "duration": 3,
    "start_time": "2024-09-14T15:04:58.784Z"
   },
   {
    "duration": 7,
    "start_time": "2024-09-14T15:05:17.856Z"
   },
   {
    "duration": 8,
    "start_time": "2024-09-14T15:05:45.132Z"
   },
   {
    "duration": 16,
    "start_time": "2024-09-14T15:07:19.161Z"
   },
   {
    "duration": 59,
    "start_time": "2024-09-14T15:08:38.889Z"
   },
   {
    "duration": 57,
    "start_time": "2024-09-14T15:09:04.701Z"
   },
   {
    "duration": 62,
    "start_time": "2024-09-14T15:09:15.968Z"
   },
   {
    "duration": 123,
    "start_time": "2024-09-14T15:11:26.215Z"
   },
   {
    "duration": 3,
    "start_time": "2024-09-14T15:15:16.894Z"
   },
   {
    "duration": 10,
    "start_time": "2024-09-14T15:15:23.698Z"
   },
   {
    "duration": 9,
    "start_time": "2024-09-14T15:15:50.312Z"
   },
   {
    "duration": 21,
    "start_time": "2024-09-14T15:16:20.865Z"
   },
   {
    "duration": 72,
    "start_time": "2024-09-14T15:18:30.428Z"
   },
   {
    "duration": 9,
    "start_time": "2024-09-14T15:18:32.158Z"
   },
   {
    "duration": 39,
    "start_time": "2024-09-14T15:18:46.063Z"
   },
   {
    "duration": 79,
    "start_time": "2024-09-14T15:19:02.955Z"
   },
   {
    "duration": 1079,
    "start_time": "2024-09-14T15:19:24.886Z"
   },
   {
    "duration": 179,
    "start_time": "2024-09-14T15:19:25.967Z"
   },
   {
    "duration": 10,
    "start_time": "2024-09-14T15:19:26.148Z"
   },
   {
    "duration": 22,
    "start_time": "2024-09-14T15:19:26.160Z"
   },
   {
    "duration": 3,
    "start_time": "2024-09-14T15:19:26.184Z"
   },
   {
    "duration": 9,
    "start_time": "2024-09-14T15:19:26.188Z"
   },
   {
    "duration": 16,
    "start_time": "2024-09-14T15:19:26.199Z"
   },
   {
    "duration": 97,
    "start_time": "2024-09-14T15:19:26.216Z"
   },
   {
    "duration": 139,
    "start_time": "2024-09-14T15:19:26.315Z"
   },
   {
    "duration": 25,
    "start_time": "2024-09-14T15:19:26.456Z"
   },
   {
    "duration": 88,
    "start_time": "2024-09-14T15:19:26.482Z"
   },
   {
    "duration": 309,
    "start_time": "2024-09-14T15:19:58.274Z"
   },
   {
    "duration": 1106,
    "start_time": "2024-09-14T15:20:15.246Z"
   },
   {
    "duration": 171,
    "start_time": "2024-09-14T15:20:16.354Z"
   },
   {
    "duration": 10,
    "start_time": "2024-09-14T15:20:16.527Z"
   },
   {
    "duration": 32,
    "start_time": "2024-09-14T15:20:16.539Z"
   },
   {
    "duration": 7,
    "start_time": "2024-09-14T15:20:16.573Z"
   },
   {
    "duration": 24,
    "start_time": "2024-09-14T15:20:16.581Z"
   },
   {
    "duration": 73,
    "start_time": "2024-09-14T15:20:16.606Z"
   },
   {
    "duration": 145,
    "start_time": "2024-09-14T15:20:16.680Z"
   },
   {
    "duration": 33,
    "start_time": "2024-09-14T15:20:16.827Z"
   },
   {
    "duration": 81,
    "start_time": "2024-09-14T15:20:16.862Z"
   },
   {
    "duration": 130,
    "start_time": "2024-09-14T15:42:59.489Z"
   },
   {
    "duration": 27,
    "start_time": "2024-09-14T15:43:20.955Z"
   },
   {
    "duration": 47,
    "start_time": "2024-09-14T15:43:38.181Z"
   },
   {
    "duration": 1279,
    "start_time": "2024-09-14T20:50:12.288Z"
   },
   {
    "duration": 838,
    "start_time": "2024-09-14T20:50:13.569Z"
   },
   {
    "duration": 10,
    "start_time": "2024-09-14T20:50:14.409Z"
   },
   {
    "duration": 20,
    "start_time": "2024-09-14T20:50:14.421Z"
   },
   {
    "duration": 7,
    "start_time": "2024-09-14T20:50:14.443Z"
   },
   {
    "duration": 24,
    "start_time": "2024-09-14T20:50:14.452Z"
   },
   {
    "duration": 62,
    "start_time": "2024-09-14T20:50:14.478Z"
   },
   {
    "duration": 132,
    "start_time": "2024-09-14T20:50:14.541Z"
   },
   {
    "duration": 25,
    "start_time": "2024-09-14T20:50:14.675Z"
   },
   {
    "duration": 81,
    "start_time": "2024-09-14T20:50:14.702Z"
   },
   {
    "duration": 53,
    "start_time": "2024-09-14T20:50:14.784Z"
   },
   {
    "duration": 4,
    "start_time": "2024-09-14T20:56:47.845Z"
   },
   {
    "duration": 24,
    "start_time": "2024-09-14T20:57:39.897Z"
   },
   {
    "duration": 7,
    "start_time": "2024-09-14T21:01:22.835Z"
   },
   {
    "duration": 7,
    "start_time": "2024-09-14T21:03:50.040Z"
   },
   {
    "duration": 10,
    "start_time": "2024-09-14T21:04:29.885Z"
   },
   {
    "duration": 11,
    "start_time": "2024-09-14T21:04:36.295Z"
   },
   {
    "duration": 32,
    "start_time": "2024-09-14T21:09:01.593Z"
   },
   {
    "duration": 95,
    "start_time": "2024-09-14T21:18:27.632Z"
   },
   {
    "duration": 16,
    "start_time": "2024-09-14T21:19:12.289Z"
   },
   {
    "duration": 40,
    "start_time": "2024-09-14T21:19:19.273Z"
   },
   {
    "duration": 42,
    "start_time": "2024-09-14T21:20:39.827Z"
   },
   {
    "duration": 42,
    "start_time": "2024-09-14T21:21:30.967Z"
   },
   {
    "duration": 39,
    "start_time": "2024-09-14T21:21:41.797Z"
   },
   {
    "duration": 13,
    "start_time": "2024-09-14T21:22:48.682Z"
   },
   {
    "duration": 395,
    "start_time": "2024-09-14T21:24:17.963Z"
   },
   {
    "duration": 386,
    "start_time": "2024-09-14T21:24:42.137Z"
   },
   {
    "duration": 327,
    "start_time": "2024-09-14T21:24:54.057Z"
   },
   {
    "duration": 391,
    "start_time": "2024-09-14T21:25:02.878Z"
   },
   {
    "duration": 309,
    "start_time": "2024-09-14T21:25:17.496Z"
   },
   {
    "duration": 12,
    "start_time": "2024-09-14T21:25:29.467Z"
   },
   {
    "duration": 337,
    "start_time": "2024-09-14T21:28:18.179Z"
   },
   {
    "duration": 419,
    "start_time": "2024-09-14T21:28:30.480Z"
   },
   {
    "duration": 470,
    "start_time": "2024-09-14T21:28:59.053Z"
   },
   {
    "duration": 328,
    "start_time": "2024-09-14T21:29:08.303Z"
   },
   {
    "duration": 10,
    "start_time": "2024-09-14T21:31:58.131Z"
   },
   {
    "duration": 256,
    "start_time": "2024-09-14T21:38:27.837Z"
   },
   {
    "duration": 226,
    "start_time": "2024-09-14T21:39:12.550Z"
   },
   {
    "duration": 254,
    "start_time": "2024-09-14T21:41:02.730Z"
   },
   {
    "duration": 236,
    "start_time": "2024-09-14T21:41:07.927Z"
   },
   {
    "duration": 38,
    "start_time": "2024-09-14T21:43:14.879Z"
   },
   {
    "duration": 278,
    "start_time": "2024-09-14T21:43:39.327Z"
   },
   {
    "duration": 22,
    "start_time": "2024-09-14T21:43:50.387Z"
   },
   {
    "duration": 252,
    "start_time": "2024-09-14T21:44:19.177Z"
   },
   {
    "duration": 28,
    "start_time": "2024-09-14T21:44:34.199Z"
   },
   {
    "duration": 101,
    "start_time": "2024-09-14T21:46:05.777Z"
   },
   {
    "duration": 21,
    "start_time": "2024-09-14T21:46:12.920Z"
   },
   {
    "duration": 70,
    "start_time": "2024-09-14T21:47:06.051Z"
   },
   {
    "duration": 103,
    "start_time": "2024-09-14T21:47:38.390Z"
   },
   {
    "duration": 99,
    "start_time": "2024-09-14T21:48:17.422Z"
   },
   {
    "duration": 19,
    "start_time": "2024-09-14T21:48:23.578Z"
   },
   {
    "duration": 96,
    "start_time": "2024-09-14T21:48:51.788Z"
   },
   {
    "duration": 22,
    "start_time": "2024-09-14T21:49:20.097Z"
   },
   {
    "duration": 1071,
    "start_time": "2024-09-14T21:50:18.088Z"
   },
   {
    "duration": 173,
    "start_time": "2024-09-14T21:50:19.161Z"
   },
   {
    "duration": 10,
    "start_time": "2024-09-14T21:50:19.335Z"
   },
   {
    "duration": 19,
    "start_time": "2024-09-14T21:50:19.346Z"
   },
   {
    "duration": 6,
    "start_time": "2024-09-14T21:50:19.375Z"
   },
   {
    "duration": 14,
    "start_time": "2024-09-14T21:50:19.382Z"
   },
   {
    "duration": 56,
    "start_time": "2024-09-14T21:50:19.397Z"
   },
   {
    "duration": 130,
    "start_time": "2024-09-14T21:50:19.454Z"
   },
   {
    "duration": 23,
    "start_time": "2024-09-14T21:50:19.586Z"
   },
   {
    "duration": 109,
    "start_time": "2024-09-14T21:50:19.611Z"
   },
   {
    "duration": 18,
    "start_time": "2024-09-14T21:50:19.722Z"
   },
   {
    "duration": 60,
    "start_time": "2024-09-14T21:50:19.741Z"
   },
   {
    "duration": 5,
    "start_time": "2024-09-14T21:50:19.802Z"
   },
   {
    "duration": 23,
    "start_time": "2024-09-14T21:50:19.809Z"
   },
   {
    "duration": 7,
    "start_time": "2024-09-14T21:50:19.834Z"
   },
   {
    "duration": 36,
    "start_time": "2024-09-14T21:50:19.842Z"
   },
   {
    "duration": 6,
    "start_time": "2024-09-14T21:50:19.879Z"
   },
   {
    "duration": 419,
    "start_time": "2024-09-14T21:50:19.886Z"
   },
   {
    "duration": 19,
    "start_time": "2024-09-14T21:50:20.307Z"
   },
   {
    "duration": 19,
    "start_time": "2024-09-14T21:50:20.328Z"
   },
   {
    "duration": 21,
    "start_time": "2024-09-14T21:50:48.755Z"
   },
   {
    "duration": 6,
    "start_time": "2024-09-14T21:52:46.990Z"
   },
   {
    "duration": 3,
    "start_time": "2024-09-14T21:54:46.175Z"
   },
   {
    "duration": 7,
    "start_time": "2024-09-14T21:59:21.461Z"
   },
   {
    "duration": 4,
    "start_time": "2024-09-14T22:00:27.717Z"
   },
   {
    "duration": 4,
    "start_time": "2024-09-14T22:02:26.161Z"
   },
   {
    "duration": 89,
    "start_time": "2024-09-14T22:03:04.925Z"
   },
   {
    "duration": 7,
    "start_time": "2024-09-14T22:03:12.607Z"
   },
   {
    "duration": 4,
    "start_time": "2024-09-14T22:03:48.271Z"
   },
   {
    "duration": 3,
    "start_time": "2024-09-14T22:03:55.553Z"
   },
   {
    "duration": 5,
    "start_time": "2024-09-14T22:04:07.026Z"
   },
   {
    "duration": 5,
    "start_time": "2024-09-14T22:04:44.498Z"
   },
   {
    "duration": 1067,
    "start_time": "2024-09-14T22:04:58.990Z"
   },
   {
    "duration": 164,
    "start_time": "2024-09-14T22:05:00.059Z"
   },
   {
    "duration": 9,
    "start_time": "2024-09-14T22:05:00.225Z"
   },
   {
    "duration": 37,
    "start_time": "2024-09-14T22:05:00.236Z"
   },
   {
    "duration": 13,
    "start_time": "2024-09-14T22:05:00.274Z"
   },
   {
    "duration": 30,
    "start_time": "2024-09-14T22:05:00.288Z"
   },
   {
    "duration": 64,
    "start_time": "2024-09-14T22:05:00.319Z"
   },
   {
    "duration": 117,
    "start_time": "2024-09-14T22:05:00.384Z"
   },
   {
    "duration": 27,
    "start_time": "2024-09-14T22:05:00.503Z"
   },
   {
    "duration": 126,
    "start_time": "2024-09-14T22:05:00.533Z"
   },
   {
    "duration": 28,
    "start_time": "2024-09-14T22:05:00.660Z"
   },
   {
    "duration": 54,
    "start_time": "2024-09-14T22:05:00.690Z"
   },
   {
    "duration": 4,
    "start_time": "2024-09-14T22:05:00.745Z"
   },
   {
    "duration": 31,
    "start_time": "2024-09-14T22:05:00.750Z"
   },
   {
    "duration": 7,
    "start_time": "2024-09-14T22:05:00.783Z"
   },
   {
    "duration": 19,
    "start_time": "2024-09-14T22:05:00.792Z"
   },
   {
    "duration": 4,
    "start_time": "2024-09-14T22:05:00.813Z"
   },
   {
    "duration": 420,
    "start_time": "2024-09-14T22:05:00.818Z"
   },
   {
    "duration": 19,
    "start_time": "2024-09-14T22:05:01.240Z"
   },
   {
    "duration": 33,
    "start_time": "2024-09-14T22:05:01.260Z"
   },
   {
    "duration": 9,
    "start_time": "2024-09-14T22:05:01.295Z"
   },
   {
    "duration": 4,
    "start_time": "2024-09-14T22:05:01.305Z"
   },
   {
    "duration": 5,
    "start_time": "2024-09-14T22:05:01.310Z"
   },
   {
    "duration": 110,
    "start_time": "2024-09-14T22:05:01.316Z"
   },
   {
    "duration": 5,
    "start_time": "2024-09-14T22:05:18.775Z"
   },
   {
    "duration": 7,
    "start_time": "2024-09-14T22:05:47.481Z"
   },
   {
    "duration": 6,
    "start_time": "2024-09-14T22:08:04.974Z"
   },
   {
    "duration": 23,
    "start_time": "2024-09-14T22:13:48.853Z"
   },
   {
    "duration": 23,
    "start_time": "2024-09-14T22:14:15.008Z"
   },
   {
    "duration": 67,
    "start_time": "2024-09-14T22:19:52.995Z"
   },
   {
    "duration": 68,
    "start_time": "2024-09-14T22:20:07.755Z"
   },
   {
    "duration": 68,
    "start_time": "2024-09-14T22:37:42.965Z"
   },
   {
    "duration": 67,
    "start_time": "2024-09-14T22:39:22.879Z"
   },
   {
    "duration": 70,
    "start_time": "2024-09-14T22:42:08.081Z"
   },
   {
    "duration": 8,
    "start_time": "2024-09-14T22:45:51.541Z"
   },
   {
    "duration": 71,
    "start_time": "2024-09-14T22:46:45.760Z"
   },
   {
    "duration": 8,
    "start_time": "2024-09-14T22:46:59.723Z"
   },
   {
    "duration": 36,
    "start_time": "2024-09-14T23:16:47.421Z"
   },
   {
    "duration": 28,
    "start_time": "2024-09-14T23:25:53.373Z"
   },
   {
    "duration": 30,
    "start_time": "2024-09-14T23:26:04.982Z"
   },
   {
    "duration": 767,
    "start_time": "2024-09-14T23:26:29.378Z"
   },
   {
    "duration": 77,
    "start_time": "2024-09-14T23:27:07.118Z"
   },
   {
    "duration": 75,
    "start_time": "2024-09-14T23:56:42.503Z"
   },
   {
    "duration": 46,
    "start_time": "2024-09-14T23:57:10.621Z"
   },
   {
    "duration": 73,
    "start_time": "2024-09-14T23:57:19.807Z"
   },
   {
    "duration": 71,
    "start_time": "2024-09-14T23:57:22.069Z"
   },
   {
    "duration": 71,
    "start_time": "2024-09-14T23:57:31.551Z"
   },
   {
    "duration": 9,
    "start_time": "2024-09-15T00:12:55.025Z"
   },
   {
    "duration": 32,
    "start_time": "2024-09-15T00:13:32.196Z"
   },
   {
    "duration": 28,
    "start_time": "2024-09-15T00:13:52.342Z"
   },
   {
    "duration": 85,
    "start_time": "2024-09-15T00:15:26.140Z"
   },
   {
    "duration": 34,
    "start_time": "2024-09-15T00:15:36.920Z"
   },
   {
    "duration": 38,
    "start_time": "2024-09-15T00:16:04.246Z"
   },
   {
    "duration": 66,
    "start_time": "2024-09-15T00:16:25.133Z"
   },
   {
    "duration": 5,
    "start_time": "2024-09-15T00:37:07.513Z"
   },
   {
    "duration": 4,
    "start_time": "2024-09-15T00:40:23.808Z"
   },
   {
    "duration": 5,
    "start_time": "2024-09-15T00:42:08.519Z"
   },
   {
    "duration": 738,
    "start_time": "2024-09-15T00:42:59.530Z"
   },
   {
    "duration": 758,
    "start_time": "2024-09-15T00:44:33.206Z"
   },
   {
    "duration": 40,
    "start_time": "2024-09-15T00:45:40.534Z"
   },
   {
    "duration": 1003,
    "start_time": "2024-09-15T00:45:45.014Z"
   },
   {
    "duration": 964,
    "start_time": "2024-09-15T00:47:00.449Z"
   },
   {
    "duration": 70,
    "start_time": "2024-09-15T00:48:15.660Z"
   },
   {
    "duration": 73,
    "start_time": "2024-09-15T00:48:42.464Z"
   },
   {
    "duration": 68,
    "start_time": "2024-09-15T00:48:48.560Z"
   },
   {
    "duration": 72,
    "start_time": "2024-09-15T00:52:09.825Z"
   },
   {
    "duration": 76,
    "start_time": "2024-09-15T00:52:22.615Z"
   },
   {
    "duration": 987,
    "start_time": "2024-09-15T00:52:53.559Z"
   },
   {
    "duration": 919,
    "start_time": "2024-09-15T00:53:11.300Z"
   },
   {
    "duration": 988,
    "start_time": "2024-09-15T00:55:06.156Z"
   },
   {
    "duration": 993,
    "start_time": "2024-09-15T00:55:41.750Z"
   },
   {
    "duration": 36,
    "start_time": "2024-09-15T01:00:19.750Z"
   },
   {
    "duration": 42,
    "start_time": "2024-09-15T01:00:31.162Z"
   },
   {
    "duration": 78,
    "start_time": "2024-09-15T01:00:36.070Z"
   },
   {
    "duration": 77,
    "start_time": "2024-09-15T01:01:05.593Z"
   },
   {
    "duration": 77,
    "start_time": "2024-09-15T01:01:34.042Z"
   },
   {
    "duration": 71,
    "start_time": "2024-09-15T01:01:48.698Z"
   },
   {
    "duration": 71,
    "start_time": "2024-09-15T01:02:46.402Z"
   },
   {
    "duration": 801,
    "start_time": "2024-09-15T01:02:56.820Z"
   },
   {
    "duration": 725,
    "start_time": "2024-09-15T01:03:18.296Z"
   },
   {
    "duration": 75,
    "start_time": "2024-09-15T01:03:27.050Z"
   },
   {
    "duration": 83,
    "start_time": "2024-09-15T01:03:42.393Z"
   },
   {
    "duration": 87,
    "start_time": "2024-09-15T01:04:14.826Z"
   },
   {
    "duration": 68,
    "start_time": "2024-09-15T01:04:19.981Z"
   },
   {
    "duration": 78,
    "start_time": "2024-09-15T01:04:25.760Z"
   },
   {
    "duration": 83,
    "start_time": "2024-09-15T01:04:39.342Z"
   },
   {
    "duration": 115,
    "start_time": "2024-09-15T01:05:10.269Z"
   },
   {
    "duration": 83,
    "start_time": "2024-09-15T01:06:44.130Z"
   },
   {
    "duration": 81,
    "start_time": "2024-09-15T01:06:50.060Z"
   },
   {
    "duration": 77,
    "start_time": "2024-09-15T01:07:22.199Z"
   },
   {
    "duration": 120,
    "start_time": "2024-09-15T01:08:55.102Z"
   },
   {
    "duration": 1094,
    "start_time": "2024-09-15T01:09:15.216Z"
   },
   {
    "duration": 175,
    "start_time": "2024-09-15T01:09:16.312Z"
   },
   {
    "duration": 11,
    "start_time": "2024-09-15T01:09:16.489Z"
   },
   {
    "duration": 21,
    "start_time": "2024-09-15T01:09:16.502Z"
   },
   {
    "duration": 7,
    "start_time": "2024-09-15T01:09:16.524Z"
   },
   {
    "duration": 16,
    "start_time": "2024-09-15T01:09:16.533Z"
   },
   {
    "duration": 87,
    "start_time": "2024-09-15T01:09:16.550Z"
   },
   {
    "duration": 146,
    "start_time": "2024-09-15T01:09:16.638Z"
   },
   {
    "duration": 27,
    "start_time": "2024-09-15T01:09:16.786Z"
   },
   {
    "duration": 122,
    "start_time": "2024-09-15T01:09:16.816Z"
   },
   {
    "duration": 37,
    "start_time": "2024-09-15T01:09:16.939Z"
   },
   {
    "duration": 47,
    "start_time": "2024-09-15T01:09:16.978Z"
   },
   {
    "duration": 4,
    "start_time": "2024-09-15T01:09:17.026Z"
   },
   {
    "duration": 46,
    "start_time": "2024-09-15T01:09:17.031Z"
   },
   {
    "duration": 7,
    "start_time": "2024-09-15T01:09:17.078Z"
   },
   {
    "duration": 11,
    "start_time": "2024-09-15T01:09:17.087Z"
   },
   {
    "duration": 5,
    "start_time": "2024-09-15T01:09:17.099Z"
   },
   {
    "duration": 477,
    "start_time": "2024-09-15T01:09:17.105Z"
   },
   {
    "duration": 21,
    "start_time": "2024-09-15T01:09:17.583Z"
   },
   {
    "duration": 20,
    "start_time": "2024-09-15T01:09:17.606Z"
   },
   {
    "duration": 9,
    "start_time": "2024-09-15T01:09:17.628Z"
   },
   {
    "duration": 6,
    "start_time": "2024-09-15T01:09:17.638Z"
   },
   {
    "duration": 8,
    "start_time": "2024-09-15T01:09:17.676Z"
   },
   {
    "duration": 27,
    "start_time": "2024-09-15T01:09:17.685Z"
   },
   {
    "duration": 97,
    "start_time": "2024-09-15T01:09:17.714Z"
   },
   {
    "duration": 85,
    "start_time": "2024-09-15T01:09:17.813Z"
   },
   {
    "duration": 10,
    "start_time": "2024-09-15T01:09:17.899Z"
   },
   {
    "duration": 64,
    "start_time": "2024-09-15T01:09:17.913Z"
   },
   {
    "duration": 219,
    "start_time": "2024-09-15T01:09:17.979Z"
   },
   {
    "duration": 0,
    "start_time": "2024-09-15T01:09:18.200Z"
   },
   {
    "duration": 0,
    "start_time": "2024-09-15T01:09:18.203Z"
   },
   {
    "duration": 0,
    "start_time": "2024-09-15T01:09:18.204Z"
   },
   {
    "duration": 90,
    "start_time": "2024-09-15T01:09:58.188Z"
   },
   {
    "duration": 115,
    "start_time": "2024-09-15T01:10:45.355Z"
   },
   {
    "duration": 35,
    "start_time": "2024-09-15T01:14:47.402Z"
   },
   {
    "duration": 260,
    "start_time": "2024-09-15T01:17:39.556Z"
   },
   {
    "duration": 6,
    "start_time": "2024-09-15T01:18:45.099Z"
   },
   {
    "duration": 5,
    "start_time": "2024-09-15T01:21:46.126Z"
   },
   {
    "duration": 4,
    "start_time": "2024-09-15T01:21:48.181Z"
   },
   {
    "duration": 12,
    "start_time": "2024-09-15T01:36:25.588Z"
   },
   {
    "duration": 6,
    "start_time": "2024-09-15T01:38:20.449Z"
   },
   {
    "duration": 3,
    "start_time": "2024-09-15T01:38:21.947Z"
   },
   {
    "duration": 143,
    "start_time": "2024-09-15T01:38:23.318Z"
   },
   {
    "duration": 141,
    "start_time": "2024-09-15T01:43:19.780Z"
   },
   {
    "duration": 132,
    "start_time": "2024-09-15T01:44:35.137Z"
   },
   {
    "duration": 56,
    "start_time": "2024-09-15T01:45:28.638Z"
   },
   {
    "duration": 153,
    "start_time": "2024-09-15T01:46:21.564Z"
   },
   {
    "duration": 1303,
    "start_time": "2024-09-15T04:50:15.261Z"
   },
   {
    "duration": 630,
    "start_time": "2024-09-15T04:50:16.566Z"
   },
   {
    "duration": 13,
    "start_time": "2024-09-15T04:50:17.198Z"
   },
   {
    "duration": 191,
    "start_time": "2024-09-15T04:50:17.213Z"
   },
   {
    "duration": 27,
    "start_time": "2024-09-15T04:50:17.406Z"
   },
   {
    "duration": 17,
    "start_time": "2024-09-15T04:50:17.435Z"
   },
   {
    "duration": 57,
    "start_time": "2024-09-15T04:50:17.453Z"
   },
   {
    "duration": 129,
    "start_time": "2024-09-15T04:50:17.511Z"
   },
   {
    "duration": 20,
    "start_time": "2024-09-15T04:50:17.641Z"
   },
   {
    "duration": 117,
    "start_time": "2024-09-15T04:50:17.663Z"
   },
   {
    "duration": 27,
    "start_time": "2024-09-15T04:50:17.782Z"
   },
   {
    "duration": 43,
    "start_time": "2024-09-15T04:50:17.810Z"
   },
   {
    "duration": 4,
    "start_time": "2024-09-15T04:50:17.855Z"
   },
   {
    "duration": 19,
    "start_time": "2024-09-15T04:50:17.862Z"
   },
   {
    "duration": 49,
    "start_time": "2024-09-15T04:50:17.883Z"
   },
   {
    "duration": 23,
    "start_time": "2024-09-15T04:50:17.934Z"
   },
   {
    "duration": 4,
    "start_time": "2024-09-15T04:50:17.959Z"
   },
   {
    "duration": 376,
    "start_time": "2024-09-15T04:50:17.965Z"
   },
   {
    "duration": 16,
    "start_time": "2024-09-15T04:50:18.342Z"
   },
   {
    "duration": 19,
    "start_time": "2024-09-15T04:50:18.360Z"
   },
   {
    "duration": 27,
    "start_time": "2024-09-15T04:50:18.381Z"
   },
   {
    "duration": 5,
    "start_time": "2024-09-15T04:50:18.409Z"
   },
   {
    "duration": 8,
    "start_time": "2024-09-15T04:50:18.416Z"
   },
   {
    "duration": 18,
    "start_time": "2024-09-15T04:50:18.425Z"
   },
   {
    "duration": 88,
    "start_time": "2024-09-15T04:50:18.444Z"
   },
   {
    "duration": 76,
    "start_time": "2024-09-15T04:50:18.534Z"
   },
   {
    "duration": 8,
    "start_time": "2024-09-15T04:50:18.612Z"
   },
   {
    "duration": 44,
    "start_time": "2024-09-15T04:50:18.621Z"
   },
   {
    "duration": 218,
    "start_time": "2024-09-15T04:50:18.667Z"
   },
   {
    "duration": 6,
    "start_time": "2024-09-15T04:50:18.887Z"
   },
   {
    "duration": 22,
    "start_time": "2024-09-15T04:50:18.894Z"
   },
   {
    "duration": 132,
    "start_time": "2024-09-15T04:50:18.917Z"
   },
   {
    "duration": 127,
    "start_time": "2024-09-15T04:50:19.051Z"
   },
   {
    "duration": 135,
    "start_time": "2024-09-15T04:50:19.180Z"
   },
   {
    "duration": 169,
    "start_time": "2024-09-15T04:50:19.317Z"
   },
   {
    "duration": 33,
    "start_time": "2024-09-15T04:54:27.730Z"
   },
   {
    "duration": 106,
    "start_time": "2024-09-15T05:04:00.890Z"
   },
   {
    "duration": 56,
    "start_time": "2024-09-15T11:17:52.005Z"
   },
   {
    "duration": 1385,
    "start_time": "2024-09-15T11:18:03.307Z"
   },
   {
    "duration": 771,
    "start_time": "2024-09-15T11:18:04.695Z"
   },
   {
    "duration": 15,
    "start_time": "2024-09-15T11:18:05.468Z"
   },
   {
    "duration": 34,
    "start_time": "2024-09-15T11:18:05.485Z"
   },
   {
    "duration": 13,
    "start_time": "2024-09-15T11:18:05.521Z"
   },
   {
    "duration": 36,
    "start_time": "2024-09-15T11:18:05.536Z"
   },
   {
    "duration": 79,
    "start_time": "2024-09-15T11:18:05.574Z"
   },
   {
    "duration": 140,
    "start_time": "2024-09-15T11:18:05.654Z"
   },
   {
    "duration": 29,
    "start_time": "2024-09-15T11:18:05.796Z"
   },
   {
    "duration": 166,
    "start_time": "2024-09-15T11:18:05.828Z"
   },
   {
    "duration": 22,
    "start_time": "2024-09-15T11:18:05.996Z"
   },
   {
    "duration": 72,
    "start_time": "2024-09-15T11:18:06.020Z"
   },
   {
    "duration": 4,
    "start_time": "2024-09-15T11:18:06.093Z"
   },
   {
    "duration": 66,
    "start_time": "2024-09-15T11:18:06.100Z"
   },
   {
    "duration": 42,
    "start_time": "2024-09-15T11:18:06.168Z"
   },
   {
    "duration": 15,
    "start_time": "2024-09-15T11:18:06.212Z"
   },
   {
    "duration": 26,
    "start_time": "2024-09-15T11:18:06.229Z"
   },
   {
    "duration": 497,
    "start_time": "2024-09-15T11:18:06.257Z"
   },
   {
    "duration": 27,
    "start_time": "2024-09-15T11:18:06.756Z"
   },
   {
    "duration": 20,
    "start_time": "2024-09-15T11:18:06.784Z"
   },
   {
    "duration": 8,
    "start_time": "2024-09-15T11:18:06.805Z"
   },
   {
    "duration": 167,
    "start_time": "2024-09-15T11:18:06.815Z"
   },
   {
    "duration": 0,
    "start_time": "2024-09-15T11:18:06.984Z"
   },
   {
    "duration": 0,
    "start_time": "2024-09-15T11:18:06.985Z"
   },
   {
    "duration": 0,
    "start_time": "2024-09-15T11:18:06.986Z"
   },
   {
    "duration": 0,
    "start_time": "2024-09-15T11:18:06.987Z"
   },
   {
    "duration": 0,
    "start_time": "2024-09-15T11:18:06.989Z"
   },
   {
    "duration": 0,
    "start_time": "2024-09-15T11:18:06.990Z"
   },
   {
    "duration": 0,
    "start_time": "2024-09-15T11:18:06.991Z"
   },
   {
    "duration": 0,
    "start_time": "2024-09-15T11:18:06.992Z"
   },
   {
    "duration": 0,
    "start_time": "2024-09-15T11:18:06.993Z"
   },
   {
    "duration": 0,
    "start_time": "2024-09-15T11:18:06.994Z"
   },
   {
    "duration": 0,
    "start_time": "2024-09-15T11:18:06.995Z"
   },
   {
    "duration": 0,
    "start_time": "2024-09-15T11:18:06.996Z"
   },
   {
    "duration": 0,
    "start_time": "2024-09-15T11:18:06.997Z"
   },
   {
    "duration": 0,
    "start_time": "2024-09-15T11:18:06.998Z"
   },
   {
    "duration": 47,
    "start_time": "2024-09-15T11:18:50.329Z"
   },
   {
    "duration": 3,
    "start_time": "2024-09-15T11:19:01.363Z"
   },
   {
    "duration": 4,
    "start_time": "2024-09-15T11:19:08.613Z"
   },
   {
    "duration": 13,
    "start_time": "2024-09-15T11:21:39.659Z"
   },
   {
    "duration": 10,
    "start_time": "2024-09-15T11:23:33.147Z"
   },
   {
    "duration": 11,
    "start_time": "2024-09-15T11:23:40.623Z"
   },
   {
    "duration": 5,
    "start_time": "2024-09-15T11:24:11.099Z"
   },
   {
    "duration": 5,
    "start_time": "2024-09-15T11:24:57.425Z"
   },
   {
    "duration": 12,
    "start_time": "2024-09-15T11:24:59.422Z"
   },
   {
    "duration": 6,
    "start_time": "2024-09-15T11:25:01.224Z"
   },
   {
    "duration": 11,
    "start_time": "2024-09-15T11:26:14.188Z"
   },
   {
    "duration": 11,
    "start_time": "2024-09-15T11:26:37.898Z"
   },
   {
    "duration": 4,
    "start_time": "2024-09-15T11:27:03.971Z"
   },
   {
    "duration": 9,
    "start_time": "2024-09-15T11:27:06.604Z"
   },
   {
    "duration": 6,
    "start_time": "2024-09-15T11:30:41.501Z"
   },
   {
    "duration": 29,
    "start_time": "2024-09-15T11:30:45.294Z"
   },
   {
    "duration": 75,
    "start_time": "2024-09-15T11:30:47.562Z"
   },
   {
    "duration": 78,
    "start_time": "2024-09-15T11:30:57.422Z"
   },
   {
    "duration": 9,
    "start_time": "2024-09-15T11:31:01.607Z"
   },
   {
    "duration": 16,
    "start_time": "2024-09-15T11:32:46.907Z"
   },
   {
    "duration": 180,
    "start_time": "2024-09-15T11:33:13.268Z"
   },
   {
    "duration": 136,
    "start_time": "2024-09-15T11:33:26.238Z"
   },
   {
    "duration": 18,
    "start_time": "2024-09-15T11:33:46.829Z"
   },
   {
    "duration": 204,
    "start_time": "2024-09-15T11:34:26.483Z"
   },
   {
    "duration": 73,
    "start_time": "2024-09-15T11:34:59.456Z"
   },
   {
    "duration": 31,
    "start_time": "2024-09-15T11:36:03.390Z"
   },
   {
    "duration": 4,
    "start_time": "2024-09-15T11:40:20.216Z"
   },
   {
    "duration": 86,
    "start_time": "2024-09-15T11:40:41.644Z"
   },
   {
    "duration": 952,
    "start_time": "2024-09-15T11:40:44.987Z"
   },
   {
    "duration": 4,
    "start_time": "2024-09-15T11:41:09.295Z"
   },
   {
    "duration": 10,
    "start_time": "2024-09-15T11:41:33.611Z"
   },
   {
    "duration": 34,
    "start_time": "2024-09-15T11:43:53.886Z"
   },
   {
    "duration": 41,
    "start_time": "2024-09-15T11:44:13.927Z"
   },
   {
    "duration": 51,
    "start_time": "2024-09-15T11:44:49.596Z"
   },
   {
    "duration": 46,
    "start_time": "2024-09-15T11:46:01.444Z"
   },
   {
    "duration": 37,
    "start_time": "2024-09-15T11:46:13.208Z"
   },
   {
    "duration": 33,
    "start_time": "2024-09-15T11:46:48.027Z"
   },
   {
    "duration": 97,
    "start_time": "2024-09-15T11:49:57.622Z"
   }
  ],
  "kernelspec": {
   "display_name": "Python 3 (ipykernel)",
   "language": "python",
   "name": "python3"
  },
  "language_info": {
   "codemirror_mode": {
    "name": "ipython",
    "version": 3
   },
   "file_extension": ".py",
   "mimetype": "text/x-python",
   "name": "python",
   "nbconvert_exporter": "python",
   "pygments_lexer": "ipython3",
   "version": "3.12.7"
  },
  "toc": {
   "base_numbering": 1,
   "nav_menu": {},
   "number_sections": true,
   "sideBar": true,
   "skip_h1_title": true,
   "title_cell": "Table of Contents",
   "title_sidebar": "Contents",
   "toc_cell": false,
   "toc_position": {},
   "toc_section_display": true,
   "toc_window_display": false
  }
 },
 "nbformat": 4,
 "nbformat_minor": 4
}
