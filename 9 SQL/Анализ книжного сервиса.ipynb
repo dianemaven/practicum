{
 "cells": [
  {
   "cell_type": "markdown",
   "metadata": {},
   "source": [
    "# Анализ базы данных книжного сервиса"
   ]
  },
  {
   "cell_type": "markdown",
   "metadata": {},
   "source": [
    "После пандемии коронавируса компания купила крупный сервис для чтения книг по подписке.  В базе данных информация о книгах, издательствах, авторах, а также пользовательские обзоры книг. Эти данные помогут нам провести анализ и сформулировать ценностное предложение для нового продукта.  \n",
    "\n",
    "**Цель проекта:** проанализировать базу данных.  \n",
    "Для достижения цели необходимо выполнить следующие **задачи**:  \n",
    "1. Ознакомиться с данными и исследовать таблицы;  \n",
    "2. Посчитать, сколько книг вышло после 1 января 2000 года;  \n",
    "3. Для каждой книги посчитать количество обзоров и среднюю оценку;\n",
    "4. Определить издательство, которое выпустило наибольшее число книг толще 50 страниц;  \n",
    "5. Определить автора с самой высокой средней оценкой книг;  \n",
    "6. Посчитайте среднее количество обзоров от пользователей, которые поставили больше 48 оценок.  \n"
   ]
  },
  {
   "cell_type": "markdown",
   "metadata": {},
   "source": [
    "**Описание данных**\n",
    "\n",
    "Таблица **books**  \n",
    "Содержит данные о книгах:  \n",
    "+ *book_id* — идентификатор книги;  \n",
    "+ *author_id* — идентификатор автора;  \n",
    "+ *title* — название книги;  \n",
    "+ *num_pages* — количество страниц;  \n",
    "+ *publication_date* — дата публикации книги;  \n",
    "+ *publisher_id* — идентификатор издателя.  \n",
    "\n",
    "Таблица **authors**  \n",
    "Содержит данные об авторах:  \n",
    "+ *author_id* — идентификатор автора;  \n",
    "+ *author* — имя автора.  \n",
    "\n",
    "Таблица **publishers**  \n",
    "Содержит данные об издательствах:  \n",
    "+ *publisher_id* — идентификатор издательства;  \n",
    "+ *publisher* — название издательства;   \n",
    "\n",
    "Таблица **ratings**  \n",
    "Содержит данные о пользовательских оценках книг:  \n",
    "+ *rating_id* — идентификатор оценки;  \n",
    "+ *book_id* — идентификатор книги;  \n",
    "+ *username* — имя пользователя, оставившего оценку;  \n",
    "+ *rating* — оценка книги.  \n",
    "\n",
    "Таблица **reviews**  \n",
    "Содержит данные о пользовательских обзорах:  \n",
    "+ *review_id* — идентификатор обзора;  \n",
    "+ *book_id* — идентификатор книги;  \n",
    "+ *username* — имя автора обзора;  \n",
    "+ *text* — текст обзора.  "
   ]
  },
  {
   "cell_type": "markdown",
   "metadata": {},
   "source": [
    "**Импорт библиотек**"
   ]
  },
  {
   "cell_type": "code",
   "execution_count": 1,
   "metadata": {},
   "outputs": [],
   "source": [
    "import pandas as pd\n",
    "from sqlalchemy import text, create_engine\n",
    "import warnings\n",
    "warnings.filterwarnings('ignore')"
   ]
  },
  {
   "cell_type": "markdown",
   "metadata": {},
   "source": [
    "**Подключение к базе данных**"
   ]
  },
  {
   "cell_type": "code",
   "execution_count": 2,
   "metadata": {},
   "outputs": [],
   "source": [
    "#устанавливаем параметры\n",
    "db_config = {'user': 'praktikum_student', #имя пользователя\n",
    "'pwd': 'Sdf4$2;d-d30pp', #пароль\n",
    "'host': 'rc1b-wcoijxj3yxfsf3fs.mdb.yandexcloud.net',\n",
    "'port': 6432, #порт подключения\n",
    "'db': 'data-analyst-final-project-db'} #название базы данных\n",
    "connection_string = 'postgresql://{user}:{pwd}@{host}:{port}/{db}'.format(**db_config)\n",
    "#сохраняем коннектор\n",
    "engine = create_engine(connection_string, connect_args={'sslmode':'require'})"
   ]
  },
  {
   "cell_type": "markdown",
   "metadata": {},
   "source": [
    "## Исследование таблиц"
   ]
  },
  {
   "cell_type": "code",
   "execution_count": 3,
   "metadata": {},
   "outputs": [
    {
     "data": {
      "text/html": [
       "<div>\n",
       "<style scoped>\n",
       "    .dataframe tbody tr th:only-of-type {\n",
       "        vertical-align: middle;\n",
       "    }\n",
       "\n",
       "    .dataframe tbody tr th {\n",
       "        vertical-align: top;\n",
       "    }\n",
       "\n",
       "    .dataframe thead th {\n",
       "        text-align: right;\n",
       "    }\n",
       "</style>\n",
       "<table border=\"1\" class=\"dataframe\">\n",
       "  <thead>\n",
       "    <tr style=\"text-align: right;\">\n",
       "      <th></th>\n",
       "      <th>book_id</th>\n",
       "      <th>author_id</th>\n",
       "      <th>title</th>\n",
       "      <th>num_pages</th>\n",
       "      <th>publication_date</th>\n",
       "      <th>publisher_id</th>\n",
       "    </tr>\n",
       "  </thead>\n",
       "  <tbody>\n",
       "    <tr>\n",
       "      <th>0</th>\n",
       "      <td>1</td>\n",
       "      <td>546</td>\n",
       "      <td>'Salem's Lot</td>\n",
       "      <td>594</td>\n",
       "      <td>2005-11-01</td>\n",
       "      <td>93</td>\n",
       "    </tr>\n",
       "    <tr>\n",
       "      <th>1</th>\n",
       "      <td>2</td>\n",
       "      <td>465</td>\n",
       "      <td>1 000 Places to See Before You Die</td>\n",
       "      <td>992</td>\n",
       "      <td>2003-05-22</td>\n",
       "      <td>336</td>\n",
       "    </tr>\n",
       "    <tr>\n",
       "      <th>2</th>\n",
       "      <td>3</td>\n",
       "      <td>407</td>\n",
       "      <td>13 Little Blue Envelopes (Little Blue Envelope...</td>\n",
       "      <td>322</td>\n",
       "      <td>2010-12-21</td>\n",
       "      <td>135</td>\n",
       "    </tr>\n",
       "    <tr>\n",
       "      <th>3</th>\n",
       "      <td>4</td>\n",
       "      <td>82</td>\n",
       "      <td>1491: New Revelations of the Americas Before C...</td>\n",
       "      <td>541</td>\n",
       "      <td>2006-10-10</td>\n",
       "      <td>309</td>\n",
       "    </tr>\n",
       "    <tr>\n",
       "      <th>4</th>\n",
       "      <td>5</td>\n",
       "      <td>125</td>\n",
       "      <td>1776</td>\n",
       "      <td>386</td>\n",
       "      <td>2006-07-04</td>\n",
       "      <td>268</td>\n",
       "    </tr>\n",
       "  </tbody>\n",
       "</table>\n",
       "</div>"
      ],
      "text/plain": [
       "   book_id  author_id                                              title  \\\n",
       "0        1        546                                       'Salem's Lot   \n",
       "1        2        465                 1 000 Places to See Before You Die   \n",
       "2        3        407  13 Little Blue Envelopes (Little Blue Envelope...   \n",
       "3        4         82  1491: New Revelations of the Americas Before C...   \n",
       "4        5        125                                               1776   \n",
       "\n",
       "   num_pages publication_date  publisher_id  \n",
       "0        594       2005-11-01            93  \n",
       "1        992       2003-05-22           336  \n",
       "2        322       2010-12-21           135  \n",
       "3        541       2006-10-10           309  \n",
       "4        386       2006-07-04           268  "
      ]
     },
     "execution_count": 3,
     "metadata": {},
     "output_type": "execute_result"
    }
   ],
   "source": [
    "#выведем первые пять строк таблицы books\n",
    "query = '''\n",
    "SELECT * \n",
    "FROM books \n",
    "LIMIT 5\n",
    "'''\n",
    "con=engine.connect()\n",
    "pd.io.sql.read_sql(sql=text(query), con = con)"
   ]
  },
  {
   "cell_type": "code",
   "execution_count": 4,
   "metadata": {},
   "outputs": [
    {
     "data": {
      "text/html": [
       "<div>\n",
       "<style scoped>\n",
       "    .dataframe tbody tr th:only-of-type {\n",
       "        vertical-align: middle;\n",
       "    }\n",
       "\n",
       "    .dataframe tbody tr th {\n",
       "        vertical-align: top;\n",
       "    }\n",
       "\n",
       "    .dataframe thead th {\n",
       "        text-align: right;\n",
       "    }\n",
       "</style>\n",
       "<table border=\"1\" class=\"dataframe\">\n",
       "  <thead>\n",
       "    <tr style=\"text-align: right;\">\n",
       "      <th></th>\n",
       "      <th>author_id</th>\n",
       "      <th>author</th>\n",
       "    </tr>\n",
       "  </thead>\n",
       "  <tbody>\n",
       "    <tr>\n",
       "      <th>0</th>\n",
       "      <td>1</td>\n",
       "      <td>A.S. Byatt</td>\n",
       "    </tr>\n",
       "    <tr>\n",
       "      <th>1</th>\n",
       "      <td>2</td>\n",
       "      <td>Aesop/Laura Harris/Laura Gibbs</td>\n",
       "    </tr>\n",
       "    <tr>\n",
       "      <th>2</th>\n",
       "      <td>3</td>\n",
       "      <td>Agatha Christie</td>\n",
       "    </tr>\n",
       "    <tr>\n",
       "      <th>3</th>\n",
       "      <td>4</td>\n",
       "      <td>Alan Brennert</td>\n",
       "    </tr>\n",
       "    <tr>\n",
       "      <th>4</th>\n",
       "      <td>5</td>\n",
       "      <td>Alan Moore/David   Lloyd</td>\n",
       "    </tr>\n",
       "  </tbody>\n",
       "</table>\n",
       "</div>"
      ],
      "text/plain": [
       "   author_id                          author\n",
       "0          1                      A.S. Byatt\n",
       "1          2  Aesop/Laura Harris/Laura Gibbs\n",
       "2          3                 Agatha Christie\n",
       "3          4                   Alan Brennert\n",
       "4          5        Alan Moore/David   Lloyd"
      ]
     },
     "execution_count": 4,
     "metadata": {},
     "output_type": "execute_result"
    }
   ],
   "source": [
    "#выведем первые пять строк таблицы authors\n",
    "query = '''\n",
    "SELECT * \n",
    "FROM authors \n",
    "LIMIT 5\n",
    "'''\n",
    "con=engine.connect()\n",
    "pd.io.sql.read_sql(sql=text(query), con = con)"
   ]
  },
  {
   "cell_type": "code",
   "execution_count": 5,
   "metadata": {},
   "outputs": [
    {
     "data": {
      "text/html": [
       "<div>\n",
       "<style scoped>\n",
       "    .dataframe tbody tr th:only-of-type {\n",
       "        vertical-align: middle;\n",
       "    }\n",
       "\n",
       "    .dataframe tbody tr th {\n",
       "        vertical-align: top;\n",
       "    }\n",
       "\n",
       "    .dataframe thead th {\n",
       "        text-align: right;\n",
       "    }\n",
       "</style>\n",
       "<table border=\"1\" class=\"dataframe\">\n",
       "  <thead>\n",
       "    <tr style=\"text-align: right;\">\n",
       "      <th></th>\n",
       "      <th>author_id</th>\n",
       "      <th>author</th>\n",
       "    </tr>\n",
       "  </thead>\n",
       "  <tbody>\n",
       "    <tr>\n",
       "      <th>0</th>\n",
       "      <td>1</td>\n",
       "      <td>A.S. Byatt</td>\n",
       "    </tr>\n",
       "    <tr>\n",
       "      <th>1</th>\n",
       "      <td>2</td>\n",
       "      <td>Aesop/Laura Harris/Laura Gibbs</td>\n",
       "    </tr>\n",
       "    <tr>\n",
       "      <th>2</th>\n",
       "      <td>3</td>\n",
       "      <td>Agatha Christie</td>\n",
       "    </tr>\n",
       "    <tr>\n",
       "      <th>3</th>\n",
       "      <td>4</td>\n",
       "      <td>Alan Brennert</td>\n",
       "    </tr>\n",
       "    <tr>\n",
       "      <th>4</th>\n",
       "      <td>5</td>\n",
       "      <td>Alan Moore/David   Lloyd</td>\n",
       "    </tr>\n",
       "  </tbody>\n",
       "</table>\n",
       "</div>"
      ],
      "text/plain": [
       "   author_id                          author\n",
       "0          1                      A.S. Byatt\n",
       "1          2  Aesop/Laura Harris/Laura Gibbs\n",
       "2          3                 Agatha Christie\n",
       "3          4                   Alan Brennert\n",
       "4          5        Alan Moore/David   Lloyd"
      ]
     },
     "execution_count": 5,
     "metadata": {},
     "output_type": "execute_result"
    }
   ],
   "source": [
    "#выведем первые пять строк таблицы publishers\n",
    "query_3 = '''\n",
    "SELECT * \n",
    "FROM publishers \n",
    "LIMIT 5\n",
    "'''\n",
    "con=engine.connect()\n",
    "pd.io.sql.read_sql(sql=text(query), con = con)"
   ]
  },
  {
   "cell_type": "code",
   "execution_count": 6,
   "metadata": {},
   "outputs": [
    {
     "data": {
      "text/html": [
       "<div>\n",
       "<style scoped>\n",
       "    .dataframe tbody tr th:only-of-type {\n",
       "        vertical-align: middle;\n",
       "    }\n",
       "\n",
       "    .dataframe tbody tr th {\n",
       "        vertical-align: top;\n",
       "    }\n",
       "\n",
       "    .dataframe thead th {\n",
       "        text-align: right;\n",
       "    }\n",
       "</style>\n",
       "<table border=\"1\" class=\"dataframe\">\n",
       "  <thead>\n",
       "    <tr style=\"text-align: right;\">\n",
       "      <th></th>\n",
       "      <th>rating_id</th>\n",
       "      <th>book_id</th>\n",
       "      <th>username</th>\n",
       "      <th>rating</th>\n",
       "    </tr>\n",
       "  </thead>\n",
       "  <tbody>\n",
       "    <tr>\n",
       "      <th>0</th>\n",
       "      <td>1</td>\n",
       "      <td>1</td>\n",
       "      <td>ryanfranco</td>\n",
       "      <td>4</td>\n",
       "    </tr>\n",
       "    <tr>\n",
       "      <th>1</th>\n",
       "      <td>2</td>\n",
       "      <td>1</td>\n",
       "      <td>grantpatricia</td>\n",
       "      <td>2</td>\n",
       "    </tr>\n",
       "    <tr>\n",
       "      <th>2</th>\n",
       "      <td>3</td>\n",
       "      <td>1</td>\n",
       "      <td>brandtandrea</td>\n",
       "      <td>5</td>\n",
       "    </tr>\n",
       "    <tr>\n",
       "      <th>3</th>\n",
       "      <td>4</td>\n",
       "      <td>2</td>\n",
       "      <td>lorichen</td>\n",
       "      <td>3</td>\n",
       "    </tr>\n",
       "    <tr>\n",
       "      <th>4</th>\n",
       "      <td>5</td>\n",
       "      <td>2</td>\n",
       "      <td>mariokeller</td>\n",
       "      <td>2</td>\n",
       "    </tr>\n",
       "  </tbody>\n",
       "</table>\n",
       "</div>"
      ],
      "text/plain": [
       "   rating_id  book_id       username  rating\n",
       "0          1        1     ryanfranco       4\n",
       "1          2        1  grantpatricia       2\n",
       "2          3        1   brandtandrea       5\n",
       "3          4        2       lorichen       3\n",
       "4          5        2    mariokeller       2"
      ]
     },
     "execution_count": 6,
     "metadata": {},
     "output_type": "execute_result"
    }
   ],
   "source": [
    "#выведем первые пять строк таблицы ratings\n",
    "query = '''\n",
    "SELECT * \n",
    "FROM ratings\n",
    "LIMIT 5\n",
    "'''\n",
    "con=engine.connect()\n",
    "pd.io.sql.read_sql(sql=text(query), con = con)"
   ]
  },
  {
   "cell_type": "code",
   "execution_count": 7,
   "metadata": {},
   "outputs": [
    {
     "data": {
      "text/html": [
       "<div>\n",
       "<style scoped>\n",
       "    .dataframe tbody tr th:only-of-type {\n",
       "        vertical-align: middle;\n",
       "    }\n",
       "\n",
       "    .dataframe tbody tr th {\n",
       "        vertical-align: top;\n",
       "    }\n",
       "\n",
       "    .dataframe thead th {\n",
       "        text-align: right;\n",
       "    }\n",
       "</style>\n",
       "<table border=\"1\" class=\"dataframe\">\n",
       "  <thead>\n",
       "    <tr style=\"text-align: right;\">\n",
       "      <th></th>\n",
       "      <th>review_id</th>\n",
       "      <th>book_id</th>\n",
       "      <th>username</th>\n",
       "      <th>text</th>\n",
       "    </tr>\n",
       "  </thead>\n",
       "  <tbody>\n",
       "    <tr>\n",
       "      <th>0</th>\n",
       "      <td>1</td>\n",
       "      <td>1</td>\n",
       "      <td>brandtandrea</td>\n",
       "      <td>Mention society tell send professor analysis. ...</td>\n",
       "    </tr>\n",
       "    <tr>\n",
       "      <th>1</th>\n",
       "      <td>2</td>\n",
       "      <td>1</td>\n",
       "      <td>ryanfranco</td>\n",
       "      <td>Foot glass pretty audience hit themselves. Amo...</td>\n",
       "    </tr>\n",
       "    <tr>\n",
       "      <th>2</th>\n",
       "      <td>3</td>\n",
       "      <td>2</td>\n",
       "      <td>lorichen</td>\n",
       "      <td>Listen treat keep worry. Miss husband tax but ...</td>\n",
       "    </tr>\n",
       "    <tr>\n",
       "      <th>3</th>\n",
       "      <td>4</td>\n",
       "      <td>3</td>\n",
       "      <td>johnsonamanda</td>\n",
       "      <td>Finally month interesting blue could nature cu...</td>\n",
       "    </tr>\n",
       "    <tr>\n",
       "      <th>4</th>\n",
       "      <td>5</td>\n",
       "      <td>3</td>\n",
       "      <td>scotttamara</td>\n",
       "      <td>Nation purpose heavy give wait song will. List...</td>\n",
       "    </tr>\n",
       "  </tbody>\n",
       "</table>\n",
       "</div>"
      ],
      "text/plain": [
       "   review_id  book_id       username  \\\n",
       "0          1        1   brandtandrea   \n",
       "1          2        1     ryanfranco   \n",
       "2          3        2       lorichen   \n",
       "3          4        3  johnsonamanda   \n",
       "4          5        3    scotttamara   \n",
       "\n",
       "                                                text  \n",
       "0  Mention society tell send professor analysis. ...  \n",
       "1  Foot glass pretty audience hit themselves. Amo...  \n",
       "2  Listen treat keep worry. Miss husband tax but ...  \n",
       "3  Finally month interesting blue could nature cu...  \n",
       "4  Nation purpose heavy give wait song will. List...  "
      ]
     },
     "execution_count": 7,
     "metadata": {},
     "output_type": "execute_result"
    }
   ],
   "source": [
    "#выведем первые пять строк таблицы reviews\n",
    "query = '''\n",
    "SELECT * \n",
    "FROM reviews\n",
    "LIMIT 5\n",
    "'''\n",
    "con=engine.connect()\n",
    "pd.io.sql.read_sql(sql=text(query), con = con)"
   ]
  },
  {
   "cell_type": "markdown",
   "metadata": {},
   "source": [
    "Для анализа у нас есть пять таблиц, данные считываются корректно. Можем переходить к следующим запросам."
   ]
  },
  {
   "cell_type": "markdown",
   "metadata": {},
   "source": [
    "## Посчитаем, сколько книг вышло после 1 января 2000 года"
   ]
  },
  {
   "cell_type": "code",
   "execution_count": 8,
   "metadata": {},
   "outputs": [
    {
     "data": {
      "text/html": [
       "<div>\n",
       "<style scoped>\n",
       "    .dataframe tbody tr th:only-of-type {\n",
       "        vertical-align: middle;\n",
       "    }\n",
       "\n",
       "    .dataframe tbody tr th {\n",
       "        vertical-align: top;\n",
       "    }\n",
       "\n",
       "    .dataframe thead th {\n",
       "        text-align: right;\n",
       "    }\n",
       "</style>\n",
       "<table border=\"1\" class=\"dataframe\">\n",
       "  <thead>\n",
       "    <tr style=\"text-align: right;\">\n",
       "      <th></th>\n",
       "      <th>count</th>\n",
       "    </tr>\n",
       "  </thead>\n",
       "  <tbody>\n",
       "    <tr>\n",
       "      <th>0</th>\n",
       "      <td>819</td>\n",
       "    </tr>\n",
       "  </tbody>\n",
       "</table>\n",
       "</div>"
      ],
      "text/plain": [
       "   count\n",
       "0    819"
      ]
     },
     "execution_count": 8,
     "metadata": {},
     "output_type": "execute_result"
    }
   ],
   "source": [
    "query = '''\n",
    "SELECT COUNT(book_id)\n",
    "FROM books \n",
    "WHERE publication_date > '2000-01-01' \n",
    "'''\n",
    "con=engine.connect()\n",
    "pd.io.sql.read_sql(sql=text(query), con = con)"
   ]
  },
  {
   "cell_type": "markdown",
   "metadata": {},
   "source": [
    "После 1 января 2000 года вышло 819 книг."
   ]
  },
  {
   "cell_type": "markdown",
   "metadata": {},
   "source": [
    "## Для каждой книги посчитаем количество обзоров и среднюю оценку"
   ]
  },
  {
   "cell_type": "code",
   "execution_count": 9,
   "metadata": {},
   "outputs": [
    {
     "data": {
      "text/html": [
       "<div>\n",
       "<style scoped>\n",
       "    .dataframe tbody tr th:only-of-type {\n",
       "        vertical-align: middle;\n",
       "    }\n",
       "\n",
       "    .dataframe tbody tr th {\n",
       "        vertical-align: top;\n",
       "    }\n",
       "\n",
       "    .dataframe thead th {\n",
       "        text-align: right;\n",
       "    }\n",
       "</style>\n",
       "<table border=\"1\" class=\"dataframe\">\n",
       "  <thead>\n",
       "    <tr style=\"text-align: right;\">\n",
       "      <th></th>\n",
       "      <th>book_id</th>\n",
       "      <th>title</th>\n",
       "      <th>cnt_reviews</th>\n",
       "      <th>avg_rating</th>\n",
       "    </tr>\n",
       "  </thead>\n",
       "  <tbody>\n",
       "    <tr>\n",
       "      <th>0</th>\n",
       "      <td>948</td>\n",
       "      <td>Twilight (Twilight  #1)</td>\n",
       "      <td>7</td>\n",
       "      <td>3.66</td>\n",
       "    </tr>\n",
       "    <tr>\n",
       "      <th>1</th>\n",
       "      <td>963</td>\n",
       "      <td>Water for Elephants</td>\n",
       "      <td>6</td>\n",
       "      <td>3.98</td>\n",
       "    </tr>\n",
       "    <tr>\n",
       "      <th>2</th>\n",
       "      <td>734</td>\n",
       "      <td>The Glass Castle</td>\n",
       "      <td>6</td>\n",
       "      <td>4.21</td>\n",
       "    </tr>\n",
       "    <tr>\n",
       "      <th>3</th>\n",
       "      <td>302</td>\n",
       "      <td>Harry Potter and the Prisoner of Azkaban (Harr...</td>\n",
       "      <td>6</td>\n",
       "      <td>4.41</td>\n",
       "    </tr>\n",
       "    <tr>\n",
       "      <th>4</th>\n",
       "      <td>695</td>\n",
       "      <td>The Curious Incident of the Dog in the Night-Time</td>\n",
       "      <td>6</td>\n",
       "      <td>4.08</td>\n",
       "    </tr>\n",
       "    <tr>\n",
       "      <th>...</th>\n",
       "      <td>...</td>\n",
       "      <td>...</td>\n",
       "      <td>...</td>\n",
       "      <td>...</td>\n",
       "    </tr>\n",
       "    <tr>\n",
       "      <th>995</th>\n",
       "      <td>83</td>\n",
       "      <td>Anne Rice's The Vampire Lestat: A Graphic Novel</td>\n",
       "      <td>0</td>\n",
       "      <td>3.67</td>\n",
       "    </tr>\n",
       "    <tr>\n",
       "      <th>996</th>\n",
       "      <td>808</td>\n",
       "      <td>The Natural Way to Draw</td>\n",
       "      <td>0</td>\n",
       "      <td>3.00</td>\n",
       "    </tr>\n",
       "    <tr>\n",
       "      <th>997</th>\n",
       "      <td>672</td>\n",
       "      <td>The Cat in the Hat and Other Dr. Seuss Favorites</td>\n",
       "      <td>0</td>\n",
       "      <td>5.00</td>\n",
       "    </tr>\n",
       "    <tr>\n",
       "      <th>998</th>\n",
       "      <td>221</td>\n",
       "      <td>Essential Tales and Poems</td>\n",
       "      <td>0</td>\n",
       "      <td>4.00</td>\n",
       "    </tr>\n",
       "    <tr>\n",
       "      <th>999</th>\n",
       "      <td>191</td>\n",
       "      <td>Disney's Beauty and the Beast (A Little Golden...</td>\n",
       "      <td>0</td>\n",
       "      <td>4.00</td>\n",
       "    </tr>\n",
       "  </tbody>\n",
       "</table>\n",
       "<p>1000 rows × 4 columns</p>\n",
       "</div>"
      ],
      "text/plain": [
       "     book_id                                              title  cnt_reviews  \\\n",
       "0        948                            Twilight (Twilight  #1)            7   \n",
       "1        963                                Water for Elephants            6   \n",
       "2        734                                   The Glass Castle            6   \n",
       "3        302  Harry Potter and the Prisoner of Azkaban (Harr...            6   \n",
       "4        695  The Curious Incident of the Dog in the Night-Time            6   \n",
       "..       ...                                                ...          ...   \n",
       "995       83    Anne Rice's The Vampire Lestat: A Graphic Novel            0   \n",
       "996      808                            The Natural Way to Draw            0   \n",
       "997      672   The Cat in the Hat and Other Dr. Seuss Favorites            0   \n",
       "998      221                          Essential Tales and Poems            0   \n",
       "999      191  Disney's Beauty and the Beast (A Little Golden...            0   \n",
       "\n",
       "     avg_rating  \n",
       "0          3.66  \n",
       "1          3.98  \n",
       "2          4.21  \n",
       "3          4.41  \n",
       "4          4.08  \n",
       "..          ...  \n",
       "995        3.67  \n",
       "996        3.00  \n",
       "997        5.00  \n",
       "998        4.00  \n",
       "999        4.00  \n",
       "\n",
       "[1000 rows x 4 columns]"
      ]
     },
     "execution_count": 9,
     "metadata": {},
     "output_type": "execute_result"
    }
   ],
   "source": [
    "query = '''\n",
    "SELECT b.book_id,\n",
    "       b.title, \n",
    "       COUNT(DISTINCT rev.review_id) AS cnt_reviews,\n",
    "       ROUND(AVG(rat.rating),2) AS avg_rating                 \n",
    "FROM books AS b\n",
    "LEFT JOIN reviews AS rev ON b.book_id=rev.book_id\n",
    "LEFT JOIN ratings AS rat ON b.book_id=rat.book_id\n",
    "GROUP BY b.book_id\n",
    "ORDER BY cnt_reviews DESC\n",
    "\n",
    "'''\n",
    "con=engine.connect()\n",
    "pd.io.sql.read_sql(sql=text(query), con = con)"
   ]
  },
  {
   "cell_type": "markdown",
   "metadata": {},
   "source": [
    "Количество обзоров и средняя оценка для каждой книги посчитаны. Больше всего обзоров (7) у книги Twilight (Twilight #1) со средней оценкой 3.66."
   ]
  },
  {
   "cell_type": "markdown",
   "metadata": {},
   "source": [
    "## Определим издательство, которое выпустило наибольшее число книг толще 50 страниц (так исключим из анализа брошюры)"
   ]
  },
  {
   "cell_type": "code",
   "execution_count": 10,
   "metadata": {},
   "outputs": [
    {
     "data": {
      "text/html": [
       "<div>\n",
       "<style scoped>\n",
       "    .dataframe tbody tr th:only-of-type {\n",
       "        vertical-align: middle;\n",
       "    }\n",
       "\n",
       "    .dataframe tbody tr th {\n",
       "        vertical-align: top;\n",
       "    }\n",
       "\n",
       "    .dataframe thead th {\n",
       "        text-align: right;\n",
       "    }\n",
       "</style>\n",
       "<table border=\"1\" class=\"dataframe\">\n",
       "  <thead>\n",
       "    <tr style=\"text-align: right;\">\n",
       "      <th></th>\n",
       "      <th>publisher_id</th>\n",
       "      <th>publisher</th>\n",
       "      <th>cnt_books</th>\n",
       "    </tr>\n",
       "  </thead>\n",
       "  <tbody>\n",
       "    <tr>\n",
       "      <th>0</th>\n",
       "      <td>212</td>\n",
       "      <td>Penguin Books</td>\n",
       "      <td>42</td>\n",
       "    </tr>\n",
       "  </tbody>\n",
       "</table>\n",
       "</div>"
      ],
      "text/plain": [
       "   publisher_id      publisher  cnt_books\n",
       "0           212  Penguin Books         42"
      ]
     },
     "execution_count": 10,
     "metadata": {},
     "output_type": "execute_result"
    }
   ],
   "source": [
    "query = '''\n",
    "SELECT b.publisher_id,\n",
    "       pub.publisher,\n",
    "       COUNT(b.book_id) AS cnt_books\n",
    "FROM books AS b\n",
    "LEFT JOIN publishers AS pub ON b.publisher_id=pub.publisher_id\n",
    "WHERE b.num_pages > 50\n",
    "GROUP BY b.publisher_id, pub.publisher_id\n",
    "ORDER BY cnt_books DESC\n",
    "LIMIT 1 \n",
    "'''\n",
    "con=engine.connect()\n",
    "pd.io.sql.read_sql(sql=text(query), con = con)"
   ]
  },
  {
   "cell_type": "markdown",
   "metadata": {},
   "source": [
    "Больше всего книг выпустило издтательство Penguin Books."
   ]
  },
  {
   "cell_type": "markdown",
   "metadata": {},
   "source": [
    "## Определим автора с самой высокой средней оценкой книг (учтем только книги с 50 и более оценками)"
   ]
  },
  {
   "cell_type": "code",
   "execution_count": 11,
   "metadata": {},
   "outputs": [
    {
     "data": {
      "text/html": [
       "<div>\n",
       "<style scoped>\n",
       "    .dataframe tbody tr th:only-of-type {\n",
       "        vertical-align: middle;\n",
       "    }\n",
       "\n",
       "    .dataframe tbody tr th {\n",
       "        vertical-align: top;\n",
       "    }\n",
       "\n",
       "    .dataframe thead th {\n",
       "        text-align: right;\n",
       "    }\n",
       "</style>\n",
       "<table border=\"1\" class=\"dataframe\">\n",
       "  <thead>\n",
       "    <tr style=\"text-align: right;\">\n",
       "      <th></th>\n",
       "      <th>author</th>\n",
       "      <th>avg_rating</th>\n",
       "    </tr>\n",
       "  </thead>\n",
       "  <tbody>\n",
       "    <tr>\n",
       "      <th>0</th>\n",
       "      <td>J.K. Rowling/Mary GrandPré</td>\n",
       "      <td>4.0</td>\n",
       "    </tr>\n",
       "  </tbody>\n",
       "</table>\n",
       "</div>"
      ],
      "text/plain": [
       "                       author  avg_rating\n",
       "0  J.K. Rowling/Mary GrandPré         4.0"
      ]
     },
     "execution_count": 11,
     "metadata": {},
     "output_type": "execute_result"
    }
   ],
   "source": [
    "query = '''\n",
    "SELECT author,\n",
    "       ROUND(AVG(rating)) AS avg_rating\n",
    "FROM books AS b\n",
    "LEFT JOIN authors AS a ON b.author_id=a.author_id\n",
    "LEFT JOIN ratings AS rat ON b.book_id=rat.book_id\n",
    "WHERE b.book_id IN\n",
    "                        (\n",
    "                        SELECT book_id\n",
    "                        FROM ratings\n",
    "                        GROUP BY book_id\n",
    "                        HAVING COUNT(rating_id) > 50\n",
    "                        )\n",
    "GROUP BY author\n",
    "ORDER BY avg_rating DESC\n",
    "LIMIT 1\n",
    "\n",
    "\n",
    "'''\n",
    "con=engine.connect()\n",
    "pd.io.sql.read_sql(sql=text(query), con = con)"
   ]
  },
  {
   "cell_type": "markdown",
   "metadata": {},
   "source": [
    "Автор с самой высокой средней оценкой книг (среди книг с 50 и более оценками) - J.K. Rowling/Mary GrandPré, средняя оценка 4.0."
   ]
  },
  {
   "cell_type": "markdown",
   "metadata": {},
   "source": [
    "## Посчитаем среднее количество обзоров от пользователей, которые поставили больше 48 оценок"
   ]
  },
  {
   "cell_type": "code",
   "execution_count": 12,
   "metadata": {},
   "outputs": [
    {
     "data": {
      "text/html": [
       "<div>\n",
       "<style scoped>\n",
       "    .dataframe tbody tr th:only-of-type {\n",
       "        vertical-align: middle;\n",
       "    }\n",
       "\n",
       "    .dataframe tbody tr th {\n",
       "        vertical-align: top;\n",
       "    }\n",
       "\n",
       "    .dataframe thead th {\n",
       "        text-align: right;\n",
       "    }\n",
       "</style>\n",
       "<table border=\"1\" class=\"dataframe\">\n",
       "  <thead>\n",
       "    <tr style=\"text-align: right;\">\n",
       "      <th></th>\n",
       "      <th>average_user_reviews_count</th>\n",
       "    </tr>\n",
       "  </thead>\n",
       "  <tbody>\n",
       "    <tr>\n",
       "      <th>0</th>\n",
       "      <td>24.0</td>\n",
       "    </tr>\n",
       "  </tbody>\n",
       "</table>\n",
       "</div>"
      ],
      "text/plain": [
       "   average_user_reviews_count\n",
       "0                        24.0"
      ]
     },
     "execution_count": 12,
     "metadata": {},
     "output_type": "execute_result"
    }
   ],
   "source": [
    "query = '''\n",
    "WITH ur AS \n",
    "          (\n",
    "          SELECT COUNT(review_id) FROM reviews\n",
    "          WHERE username in \n",
    "                            (\n",
    "                            SELECT username \n",
    "                            FROM ratings\n",
    "                            GROUP BY username\n",
    "                            HAVING COUNT(rating_id) > 48\n",
    "                            )\n",
    "         GROUP BY username\n",
    "         )\n",
    "SELECT AVG(count) as average_user_reviews_count\n",
    "FROM ur\n",
    "'''\n",
    "con=engine.connect()\n",
    "pd.io.sql.read_sql(sql=text(query), con = con)"
   ]
  },
  {
   "cell_type": "markdown",
   "metadata": {},
   "source": [
    "Cреднее количество обзоров от пользователей, которые поставили больше 48 оценок составляет 24 обзора."
   ]
  },
  {
   "cell_type": "markdown",
   "metadata": {},
   "source": [
    "## Выводы"
   ]
  },
  {
   "cell_type": "markdown",
   "metadata": {},
   "source": [
    "1. После 1 января 2000 года вышло 819 книг.  \n",
    "2. Количество обзоров и средняя оценка для каждой книги посчитаны. Больше всего обзоров (7) у книги Twilight (Twilight #1) со средней оценкой 3.66.  \n",
    "3. Больше всего книг выпустило издтательство Penguin Books.  \n",
    "4. Автор с самой высокой средней оценкой книг (среди книг с 50 и более оценками) - J.K. Rowling/Mary GrandPré, средняя оценка 4.0.  \n",
    "5. Cреднее количество обзоров от пользователей, которые поставили больше 48 оценок составляет 24 обзора."
   ]
  }
 ],
 "metadata": {
  "ExecuteTimeLog": [
   {
    "duration": 472,
    "start_time": "2024-11-01T13:59:48.725Z"
   },
   {
    "duration": 2,
    "start_time": "2024-11-01T14:00:10.781Z"
   },
   {
    "duration": 8156,
    "start_time": "2024-11-01T14:00:44.376Z"
   },
   {
    "duration": 3,
    "start_time": "2024-11-01T14:03:48.155Z"
   },
   {
    "duration": 216,
    "start_time": "2024-11-01T16:30:44.663Z"
   },
   {
    "duration": 124,
    "start_time": "2024-11-01T16:31:41.524Z"
   },
   {
    "duration": 49,
    "start_time": "2024-11-01T16:32:28.283Z"
   },
   {
    "duration": 49,
    "start_time": "2024-11-01T16:33:13.801Z"
   },
   {
    "duration": 49,
    "start_time": "2024-11-01T16:45:20.897Z"
   },
   {
    "duration": 436,
    "start_time": "2024-11-01T16:46:40.567Z"
   },
   {
    "duration": 7232,
    "start_time": "2024-11-01T16:46:41.005Z"
   },
   {
    "duration": 231,
    "start_time": "2024-11-01T16:46:48.238Z"
   },
   {
    "duration": 0,
    "start_time": "2024-11-01T16:46:48.470Z"
   },
   {
    "duration": 0,
    "start_time": "2024-11-01T16:46:48.471Z"
   },
   {
    "duration": 0,
    "start_time": "2024-11-01T16:46:48.472Z"
   },
   {
    "duration": 0,
    "start_time": "2024-11-01T16:46:48.473Z"
   },
   {
    "duration": 0,
    "start_time": "2024-11-01T16:46:48.474Z"
   },
   {
    "duration": 460,
    "start_time": "2024-11-01T16:49:04.140Z"
   },
   {
    "duration": 6874,
    "start_time": "2024-11-01T16:49:04.602Z"
   },
   {
    "duration": 223,
    "start_time": "2024-11-01T16:49:11.477Z"
   },
   {
    "duration": 116,
    "start_time": "2024-11-01T16:49:11.702Z"
   },
   {
    "duration": 50,
    "start_time": "2024-11-01T16:49:11.820Z"
   },
   {
    "duration": 50,
    "start_time": "2024-11-01T16:49:11.871Z"
   },
   {
    "duration": 50,
    "start_time": "2024-11-01T16:49:11.922Z"
   },
   {
    "duration": 48,
    "start_time": "2024-11-01T16:49:11.974Z"
   },
   {
    "duration": 90,
    "start_time": "2024-11-01T16:55:11.166Z"
   },
   {
    "duration": 85,
    "start_time": "2024-11-01T16:55:55.109Z"
   },
   {
    "duration": 86,
    "start_time": "2024-11-01T16:57:50.788Z"
   },
   {
    "duration": 93,
    "start_time": "2024-11-01T16:58:03.961Z"
   },
   {
    "duration": 129,
    "start_time": "2024-11-01T16:59:27.343Z"
   },
   {
    "duration": 68,
    "start_time": "2024-11-01T16:59:39.698Z"
   },
   {
    "duration": 159,
    "start_time": "2024-11-01T16:59:43.968Z"
   },
   {
    "duration": 78,
    "start_time": "2024-11-01T17:04:27.501Z"
   },
   {
    "duration": 49,
    "start_time": "2024-11-01T17:04:46.807Z"
   },
   {
    "duration": 77,
    "start_time": "2024-11-01T17:15:50.877Z"
   },
   {
    "duration": 66,
    "start_time": "2024-11-01T17:22:04.430Z"
   },
   {
    "duration": 42,
    "start_time": "2024-11-01T17:22:27.875Z"
   },
   {
    "duration": 153,
    "start_time": "2024-11-01T17:26:25.417Z"
   },
   {
    "duration": 67,
    "start_time": "2024-11-01T17:26:55.230Z"
   },
   {
    "duration": 53,
    "start_time": "2024-11-01T17:29:44.694Z"
   },
   {
    "duration": 50,
    "start_time": "2024-11-01T17:29:50.798Z"
   },
   {
    "duration": 49,
    "start_time": "2024-11-01T17:31:41.600Z"
   },
   {
    "duration": 50,
    "start_time": "2024-11-01T17:36:37.780Z"
   },
   {
    "duration": 52,
    "start_time": "2024-11-01T17:37:31.004Z"
   },
   {
    "duration": 84,
    "start_time": "2024-11-01T17:38:43.682Z"
   },
   {
    "duration": 83,
    "start_time": "2024-11-01T17:38:48.717Z"
   },
   {
    "duration": 87,
    "start_time": "2024-11-01T17:39:18.085Z"
   },
   {
    "duration": 84,
    "start_time": "2024-11-01T17:39:52.359Z"
   },
   {
    "duration": 76,
    "start_time": "2024-11-01T17:40:34.147Z"
   },
   {
    "duration": 70,
    "start_time": "2024-11-01T17:41:08.026Z"
   },
   {
    "duration": 68,
    "start_time": "2024-11-01T17:41:18.311Z"
   },
   {
    "duration": 82,
    "start_time": "2024-11-01T17:42:21.631Z"
   },
   {
    "duration": 83,
    "start_time": "2024-11-01T17:42:46.467Z"
   },
   {
    "duration": 475,
    "start_time": "2024-11-01T17:45:27.717Z"
   },
   {
    "duration": 6257,
    "start_time": "2024-11-01T17:45:28.194Z"
   },
   {
    "duration": 213,
    "start_time": "2024-11-01T17:45:34.452Z"
   },
   {
    "duration": 121,
    "start_time": "2024-11-01T17:45:34.666Z"
   },
   {
    "duration": 49,
    "start_time": "2024-11-01T17:45:34.788Z"
   },
   {
    "duration": 47,
    "start_time": "2024-11-01T17:45:34.839Z"
   },
   {
    "duration": 50,
    "start_time": "2024-11-01T17:45:34.887Z"
   },
   {
    "duration": 46,
    "start_time": "2024-11-01T17:45:34.939Z"
   },
   {
    "duration": 88,
    "start_time": "2024-11-01T17:45:34.987Z"
   },
   {
    "duration": 49,
    "start_time": "2024-11-01T17:45:35.078Z"
   },
   {
    "duration": 54,
    "start_time": "2024-11-01T17:45:35.129Z"
   },
   {
    "duration": 50,
    "start_time": "2024-11-01T17:45:35.184Z"
   },
   {
    "duration": 51,
    "start_time": "2024-11-01T17:46:56.143Z"
   },
   {
    "duration": 508,
    "start_time": "2024-11-01T18:29:49.350Z"
   },
   {
    "duration": 5678,
    "start_time": "2024-11-01T18:29:49.860Z"
   },
   {
    "duration": 65,
    "start_time": "2024-11-01T18:29:55.539Z"
   },
   {
    "duration": 43,
    "start_time": "2024-11-01T18:29:55.607Z"
   },
   {
    "duration": 10,
    "start_time": "2024-11-01T18:29:55.652Z"
   },
   {
    "duration": 23,
    "start_time": "2024-11-01T18:29:55.663Z"
   },
   {
    "duration": 12,
    "start_time": "2024-11-01T18:29:55.688Z"
   },
   {
    "duration": 27,
    "start_time": "2024-11-01T18:29:55.701Z"
   },
   {
    "duration": 31,
    "start_time": "2024-11-01T18:29:55.729Z"
   },
   {
    "duration": 12,
    "start_time": "2024-11-01T18:29:55.762Z"
   },
   {
    "duration": 34,
    "start_time": "2024-11-01T18:29:55.775Z"
   },
   {
    "duration": 15,
    "start_time": "2024-11-01T18:29:55.812Z"
   },
   {
    "duration": 14,
    "start_time": "2024-11-01T18:33:23.629Z"
   },
   {
    "duration": 15,
    "start_time": "2024-11-01T18:33:39.107Z"
   }
  ],
  "kernelspec": {
   "display_name": "Python 3 (ipykernel)",
   "language": "python",
   "name": "python3"
  },
  "language_info": {
   "codemirror_mode": {
    "name": "ipython",
    "version": 3
   },
   "file_extension": ".py",
   "mimetype": "text/x-python",
   "name": "python",
   "nbconvert_exporter": "python",
   "pygments_lexer": "ipython3",
   "version": "3.12.7"
  },
  "toc": {
   "base_numbering": 1,
   "nav_menu": {},
   "number_sections": true,
   "sideBar": true,
   "skip_h1_title": true,
   "title_cell": "Table of Contents",
   "title_sidebar": "Contents",
   "toc_cell": false,
   "toc_position": {},
   "toc_section_display": true,
   "toc_window_display": false
  }
 },
 "nbformat": 4,
 "nbformat_minor": 4
}
