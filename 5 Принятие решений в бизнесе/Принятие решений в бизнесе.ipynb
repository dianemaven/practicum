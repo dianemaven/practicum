{
 "cells": [
  {
   "cell_type": "markdown",
   "metadata": {},
   "source": [
    "# Принятие решений в бизнесе"
   ]
  },
  {
   "cell_type": "markdown",
   "metadata": {},
   "source": [
    "**Вместе с отделом маркетинга крупного интернет-магазина мы подготовили список гипотез для увеличения выручки.**  \n",
    "**Цели проекта:**  \n",
    "1. Приоритизировать гипотезы  \n",
    "2. Запустить A/B-тест  \n",
    "3. Проанализировать результаты  \n",
    "\n",
    "**Для достижения целей необходимо выполнить следующие задачи:**  \n",
    "+ Применить фреймворк ICE для приоритизации гипотез  \n",
    "+ Применить фреймворк RICE для приоритизации гипотез  \n",
    "+ Указать как изменилась приоритизация гипотез при применении RICE вместо ICE и объяснить почему так произошло  \n",
    "+ Построить график кумулятивной выручки по группам  \n",
    "+ Построить график кумулятивного среднего чека по группам  \n",
    "+ Построитьграфик относительного изменения кумулятивного среднего чека группы B к группе A  \n",
    "+ Построить график кумулятивного среднего количества заказов на посетителя по группам  \n",
    "+ Построить график относительного изменения кумулятивного среднего количества заказов на посетителя группы B к группе A  \n",
    "+ Построить точечный график количества заказов по пользователям  \n",
    "+ Посчитать 95-й и 99-й перцентили количества заказов на пользователя  \n",
    "+ Выбрать границу для определения аномальных пользователей  \n",
    "+ Построить точечный график стоимостей заказов  \n",
    "+ Посчитать 95-й и 99-й перцентили стоимости заказов  \n",
    "+ Посчитать статистическую значимость различий в среднем количестве заказов на посетителя между группами по «сырым» данным  \n",
    "+ Посчитать статистическую значимость различий в среднем чеке заказа между группами по «сырым» данным  \n",
    "+ Посчитать статистическую значимость различий в среднем количестве заказов на посетителя между группами по «очищенным» данным  \n",
    "+ Посчитать статистическую значимость различий в среднем чеке заказа между группами по «очищенным» данным\n",
    "+ Принять решение по результатам теста и объясниь его  "
   ]
  },
  {
   "cell_type": "markdown",
   "metadata": {},
   "source": [
    "**Описание данных**  \n",
    "В файле /datasets/hypothesis.csv 9 гипотез по увеличению выручки интернет-магазина с указанными параметрами:  \n",
    "+ Hypothesis — краткое описание гипотезы;  \n",
    "+ Reach — охват пользователей по 10-балльной шкале;  \n",
    "+ Impact — влияние на пользователей по 10-балльной шкале;  \n",
    "+ Confidence — уверенность в гипотезе по 10-балльной шкале;  \n",
    "+ Efforts — затраты ресурсов на проверку гипотезы по 10-балльной шкале.  \n",
    "\n",
    "В файле /datasets/orders.csv содержатся данные о заказах интернет-магазина после проведения A/B-теста:  \n",
    "+ transactionId — идентификатор заказа;  \n",
    "+ visitorId — идентификатор пользователя, совершившего заказ;  \n",
    "+ date — дата, когда был совершён заказ;  \n",
    "+ revenue — выручка заказа;  \n",
    "+ group — группа A/B-теста, в которую попал заказ.  \n",
    "\n",
    "В файле /datasets/visitors.csv содержатся данные о пользователях интернет-магазина после проведения A/B-теста:  \n",
    "+ date — дата;  \n",
    "+ group — группа A/B-теста;  \n",
    "+ visitors — количество пользователей в указанную дату в указанной группе A/B-теста.  "
   ]
  },
  {
   "cell_type": "markdown",
   "metadata": {},
   "source": [
    "**Импорт библиотек**"
   ]
  },
  {
   "cell_type": "code",
   "execution_count": 1,
   "metadata": {},
   "outputs": [],
   "source": [
    "import pandas as pd\n",
    "import datetime as dt\n",
    "import matplotlib.pyplot as plt\n",
    "from scipy import stats as st\n",
    "import numpy as np\n",
    "import math as mth\n",
    "import warnings\n",
    "warnings.filterwarnings('ignore')"
   ]
  },
  {
   "cell_type": "markdown",
   "metadata": {},
   "source": [
    "### Загрузка данных и подготовка к анализу"
   ]
  },
  {
   "cell_type": "markdown",
   "metadata": {},
   "source": [
    "**1.1 Считаем CSV-файлы с данными с помощью библиотеки pandas и сохраним их в датафреймы**"
   ]
  },
  {
   "cell_type": "code",
   "execution_count": 2,
   "metadata": {},
   "outputs": [],
   "source": [
    "hyp = pd.read_csv('/datasets/hypothesis.csv') #данные о гипотезах"
   ]
  },
  {
   "cell_type": "code",
   "execution_count": 3,
   "metadata": {},
   "outputs": [],
   "source": [
    "orders = pd.read_csv('/datasets/orders.csv') #данные о заказах"
   ]
  },
  {
   "cell_type": "code",
   "execution_count": 4,
   "metadata": {},
   "outputs": [],
   "source": [
    "visitors = pd.read_csv('/datasets/visitors.csv') #данные о пользователях"
   ]
  },
  {
   "cell_type": "markdown",
   "metadata": {},
   "source": [
    "**1.2 Выведем первые строки каждого набора данных. Изучим общую информацию о каждом датафрейме**"
   ]
  },
  {
   "cell_type": "code",
   "execution_count": 5,
   "metadata": {},
   "outputs": [
    {
     "data": {
      "text/html": [
       "<div>\n",
       "<style scoped>\n",
       "    .dataframe tbody tr th:only-of-type {\n",
       "        vertical-align: middle;\n",
       "    }\n",
       "\n",
       "    .dataframe tbody tr th {\n",
       "        vertical-align: top;\n",
       "    }\n",
       "\n",
       "    .dataframe thead th {\n",
       "        text-align: right;\n",
       "    }\n",
       "</style>\n",
       "<table border=\"1\" class=\"dataframe\">\n",
       "  <thead>\n",
       "    <tr style=\"text-align: right;\">\n",
       "      <th></th>\n",
       "      <th>Hypothesis</th>\n",
       "      <th>Reach</th>\n",
       "      <th>Impact</th>\n",
       "      <th>Confidence</th>\n",
       "      <th>Efforts</th>\n",
       "    </tr>\n",
       "  </thead>\n",
       "  <tbody>\n",
       "    <tr>\n",
       "      <th>0</th>\n",
       "      <td>Добавить два новых канала привлечения трафика,...</td>\n",
       "      <td>3</td>\n",
       "      <td>10</td>\n",
       "      <td>8</td>\n",
       "      <td>6</td>\n",
       "    </tr>\n",
       "    <tr>\n",
       "      <th>1</th>\n",
       "      <td>Запустить собственную службу доставки, что сок...</td>\n",
       "      <td>2</td>\n",
       "      <td>5</td>\n",
       "      <td>4</td>\n",
       "      <td>10</td>\n",
       "    </tr>\n",
       "    <tr>\n",
       "      <th>2</th>\n",
       "      <td>Добавить блоки рекомендаций товаров на сайт ин...</td>\n",
       "      <td>8</td>\n",
       "      <td>3</td>\n",
       "      <td>7</td>\n",
       "      <td>3</td>\n",
       "    </tr>\n",
       "    <tr>\n",
       "      <th>3</th>\n",
       "      <td>Изменить структура категорий, что увеличит кон...</td>\n",
       "      <td>8</td>\n",
       "      <td>3</td>\n",
       "      <td>3</td>\n",
       "      <td>8</td>\n",
       "    </tr>\n",
       "    <tr>\n",
       "      <th>4</th>\n",
       "      <td>Изменить цвет фона главной страницы, чтобы уве...</td>\n",
       "      <td>3</td>\n",
       "      <td>1</td>\n",
       "      <td>1</td>\n",
       "      <td>1</td>\n",
       "    </tr>\n",
       "    <tr>\n",
       "      <th>5</th>\n",
       "      <td>Добавить страницу отзывов клиентов о магазине,...</td>\n",
       "      <td>3</td>\n",
       "      <td>2</td>\n",
       "      <td>2</td>\n",
       "      <td>3</td>\n",
       "    </tr>\n",
       "    <tr>\n",
       "      <th>6</th>\n",
       "      <td>Показать на главной странице баннеры с актуаль...</td>\n",
       "      <td>5</td>\n",
       "      <td>3</td>\n",
       "      <td>8</td>\n",
       "      <td>3</td>\n",
       "    </tr>\n",
       "    <tr>\n",
       "      <th>7</th>\n",
       "      <td>Добавить форму подписки на все основные страни...</td>\n",
       "      <td>10</td>\n",
       "      <td>7</td>\n",
       "      <td>8</td>\n",
       "      <td>5</td>\n",
       "    </tr>\n",
       "    <tr>\n",
       "      <th>8</th>\n",
       "      <td>Запустить акцию, дающую скидку на товар в день...</td>\n",
       "      <td>1</td>\n",
       "      <td>9</td>\n",
       "      <td>9</td>\n",
       "      <td>5</td>\n",
       "    </tr>\n",
       "  </tbody>\n",
       "</table>\n",
       "</div>"
      ],
      "text/plain": [
       "                                          Hypothesis  Reach  Impact  \\\n",
       "0  Добавить два новых канала привлечения трафика,...      3      10   \n",
       "1  Запустить собственную службу доставки, что сок...      2       5   \n",
       "2  Добавить блоки рекомендаций товаров на сайт ин...      8       3   \n",
       "3  Изменить структура категорий, что увеличит кон...      8       3   \n",
       "4  Изменить цвет фона главной страницы, чтобы уве...      3       1   \n",
       "5  Добавить страницу отзывов клиентов о магазине,...      3       2   \n",
       "6  Показать на главной странице баннеры с актуаль...      5       3   \n",
       "7  Добавить форму подписки на все основные страни...     10       7   \n",
       "8  Запустить акцию, дающую скидку на товар в день...      1       9   \n",
       "\n",
       "   Confidence  Efforts  \n",
       "0           8        6  \n",
       "1           4       10  \n",
       "2           7        3  \n",
       "3           3        8  \n",
       "4           1        1  \n",
       "5           2        3  \n",
       "6           8        3  \n",
       "7           8        5  \n",
       "8           9        5  "
      ]
     },
     "execution_count": 5,
     "metadata": {},
     "output_type": "execute_result"
    }
   ],
   "source": [
    "hyp #выведем таблицу с гипотезами"
   ]
  },
  {
   "cell_type": "code",
   "execution_count": 6,
   "metadata": {},
   "outputs": [
    {
     "name": "stdout",
     "output_type": "stream",
     "text": [
      "<class 'pandas.core.frame.DataFrame'>\n",
      "RangeIndex: 9 entries, 0 to 8\n",
      "Data columns (total 5 columns):\n",
      " #   Column      Non-Null Count  Dtype \n",
      "---  ------      --------------  ----- \n",
      " 0   Hypothesis  9 non-null      object\n",
      " 1   Reach       9 non-null      int64 \n",
      " 2   Impact      9 non-null      int64 \n",
      " 3   Confidence  9 non-null      int64 \n",
      " 4   Efforts     9 non-null      int64 \n",
      "dtypes: int64(4), object(1)\n",
      "memory usage: 488.0+ bytes\n"
     ]
    }
   ],
   "source": [
    "hyp.info() #выведем общую информацию"
   ]
  },
  {
   "cell_type": "code",
   "execution_count": 7,
   "metadata": {},
   "outputs": [
    {
     "data": {
      "text/html": [
       "<div>\n",
       "<style scoped>\n",
       "    .dataframe tbody tr th:only-of-type {\n",
       "        vertical-align: middle;\n",
       "    }\n",
       "\n",
       "    .dataframe tbody tr th {\n",
       "        vertical-align: top;\n",
       "    }\n",
       "\n",
       "    .dataframe thead th {\n",
       "        text-align: right;\n",
       "    }\n",
       "</style>\n",
       "<table border=\"1\" class=\"dataframe\">\n",
       "  <thead>\n",
       "    <tr style=\"text-align: right;\">\n",
       "      <th></th>\n",
       "      <th>transactionId</th>\n",
       "      <th>visitorId</th>\n",
       "      <th>date</th>\n",
       "      <th>revenue</th>\n",
       "      <th>group</th>\n",
       "    </tr>\n",
       "  </thead>\n",
       "  <tbody>\n",
       "    <tr>\n",
       "      <th>0</th>\n",
       "      <td>3667963787</td>\n",
       "      <td>3312258926</td>\n",
       "      <td>2019-08-15</td>\n",
       "      <td>1650</td>\n",
       "      <td>B</td>\n",
       "    </tr>\n",
       "    <tr>\n",
       "      <th>1</th>\n",
       "      <td>2804400009</td>\n",
       "      <td>3642806036</td>\n",
       "      <td>2019-08-15</td>\n",
       "      <td>730</td>\n",
       "      <td>B</td>\n",
       "    </tr>\n",
       "    <tr>\n",
       "      <th>2</th>\n",
       "      <td>2961555356</td>\n",
       "      <td>4069496402</td>\n",
       "      <td>2019-08-15</td>\n",
       "      <td>400</td>\n",
       "      <td>A</td>\n",
       "    </tr>\n",
       "    <tr>\n",
       "      <th>3</th>\n",
       "      <td>3797467345</td>\n",
       "      <td>1196621759</td>\n",
       "      <td>2019-08-15</td>\n",
       "      <td>9759</td>\n",
       "      <td>B</td>\n",
       "    </tr>\n",
       "    <tr>\n",
       "      <th>4</th>\n",
       "      <td>2282983706</td>\n",
       "      <td>2322279887</td>\n",
       "      <td>2019-08-15</td>\n",
       "      <td>2308</td>\n",
       "      <td>B</td>\n",
       "    </tr>\n",
       "    <tr>\n",
       "      <th>5</th>\n",
       "      <td>182168103</td>\n",
       "      <td>935554773</td>\n",
       "      <td>2019-08-15</td>\n",
       "      <td>2210</td>\n",
       "      <td>B</td>\n",
       "    </tr>\n",
       "    <tr>\n",
       "      <th>6</th>\n",
       "      <td>398296753</td>\n",
       "      <td>2900797465</td>\n",
       "      <td>2019-08-15</td>\n",
       "      <td>1860</td>\n",
       "      <td>B</td>\n",
       "    </tr>\n",
       "    <tr>\n",
       "      <th>7</th>\n",
       "      <td>2626614568</td>\n",
       "      <td>78758296</td>\n",
       "      <td>2019-08-15</td>\n",
       "      <td>1044</td>\n",
       "      <td>A</td>\n",
       "    </tr>\n",
       "    <tr>\n",
       "      <th>8</th>\n",
       "      <td>1576988021</td>\n",
       "      <td>295230930</td>\n",
       "      <td>2019-08-15</td>\n",
       "      <td>13710</td>\n",
       "      <td>A</td>\n",
       "    </tr>\n",
       "    <tr>\n",
       "      <th>9</th>\n",
       "      <td>1506739906</td>\n",
       "      <td>1882260405</td>\n",
       "      <td>2019-08-15</td>\n",
       "      <td>1855</td>\n",
       "      <td>B</td>\n",
       "    </tr>\n",
       "  </tbody>\n",
       "</table>\n",
       "</div>"
      ],
      "text/plain": [
       "   transactionId   visitorId        date  revenue group\n",
       "0     3667963787  3312258926  2019-08-15     1650     B\n",
       "1     2804400009  3642806036  2019-08-15      730     B\n",
       "2     2961555356  4069496402  2019-08-15      400     A\n",
       "3     3797467345  1196621759  2019-08-15     9759     B\n",
       "4     2282983706  2322279887  2019-08-15     2308     B\n",
       "5      182168103   935554773  2019-08-15     2210     B\n",
       "6      398296753  2900797465  2019-08-15     1860     B\n",
       "7     2626614568    78758296  2019-08-15     1044     A\n",
       "8     1576988021   295230930  2019-08-15    13710     A\n",
       "9     1506739906  1882260405  2019-08-15     1855     B"
      ]
     },
     "execution_count": 7,
     "metadata": {},
     "output_type": "execute_result"
    }
   ],
   "source": [
    "orders.head(10) #выведем первые десять строк датафрейма с данными о заказах"
   ]
  },
  {
   "cell_type": "code",
   "execution_count": 8,
   "metadata": {},
   "outputs": [
    {
     "name": "stdout",
     "output_type": "stream",
     "text": [
      "<class 'pandas.core.frame.DataFrame'>\n",
      "RangeIndex: 1197 entries, 0 to 1196\n",
      "Data columns (total 5 columns):\n",
      " #   Column         Non-Null Count  Dtype \n",
      "---  ------         --------------  ----- \n",
      " 0   transactionId  1197 non-null   int64 \n",
      " 1   visitorId      1197 non-null   int64 \n",
      " 2   date           1197 non-null   object\n",
      " 3   revenue        1197 non-null   int64 \n",
      " 4   group          1197 non-null   object\n",
      "dtypes: int64(3), object(2)\n",
      "memory usage: 46.9+ KB\n"
     ]
    }
   ],
   "source": [
    "orders.info() #выведем общую информацию"
   ]
  },
  {
   "cell_type": "code",
   "execution_count": 9,
   "metadata": {},
   "outputs": [
    {
     "data": {
      "text/plain": [
       "transactionId    0\n",
       "visitorId        0\n",
       "date             0\n",
       "revenue          0\n",
       "group            0\n",
       "dtype: int64"
      ]
     },
     "execution_count": 9,
     "metadata": {},
     "output_type": "execute_result"
    }
   ],
   "source": [
    "orders.isna().sum() #убедимся в отсутствии пропусков"
   ]
  },
  {
   "cell_type": "code",
   "execution_count": 10,
   "metadata": {},
   "outputs": [
    {
     "data": {
      "text/plain": [
       "0"
      ]
     },
     "execution_count": 10,
     "metadata": {},
     "output_type": "execute_result"
    }
   ],
   "source": [
    "orders.duplicated().sum() #проверим наличие дубликатов"
   ]
  },
  {
   "cell_type": "markdown",
   "metadata": {},
   "source": [
    "Датафрейм с данными о заказах содержит 1197 строку и 5 столбцов, пропусков и явных дубликатов нет. Тип данных в столбцах с датой не соответствует заданным значениям."
   ]
  },
  {
   "cell_type": "code",
   "execution_count": 11,
   "metadata": {},
   "outputs": [
    {
     "data": {
      "text/html": [
       "<div>\n",
       "<style scoped>\n",
       "    .dataframe tbody tr th:only-of-type {\n",
       "        vertical-align: middle;\n",
       "    }\n",
       "\n",
       "    .dataframe tbody tr th {\n",
       "        vertical-align: top;\n",
       "    }\n",
       "\n",
       "    .dataframe thead th {\n",
       "        text-align: right;\n",
       "    }\n",
       "</style>\n",
       "<table border=\"1\" class=\"dataframe\">\n",
       "  <thead>\n",
       "    <tr style=\"text-align: right;\">\n",
       "      <th></th>\n",
       "      <th>date</th>\n",
       "      <th>group</th>\n",
       "      <th>visitors</th>\n",
       "    </tr>\n",
       "  </thead>\n",
       "  <tbody>\n",
       "    <tr>\n",
       "      <th>0</th>\n",
       "      <td>2019-08-01</td>\n",
       "      <td>A</td>\n",
       "      <td>719</td>\n",
       "    </tr>\n",
       "    <tr>\n",
       "      <th>1</th>\n",
       "      <td>2019-08-02</td>\n",
       "      <td>A</td>\n",
       "      <td>619</td>\n",
       "    </tr>\n",
       "    <tr>\n",
       "      <th>2</th>\n",
       "      <td>2019-08-03</td>\n",
       "      <td>A</td>\n",
       "      <td>507</td>\n",
       "    </tr>\n",
       "    <tr>\n",
       "      <th>3</th>\n",
       "      <td>2019-08-04</td>\n",
       "      <td>A</td>\n",
       "      <td>717</td>\n",
       "    </tr>\n",
       "    <tr>\n",
       "      <th>4</th>\n",
       "      <td>2019-08-05</td>\n",
       "      <td>A</td>\n",
       "      <td>756</td>\n",
       "    </tr>\n",
       "    <tr>\n",
       "      <th>5</th>\n",
       "      <td>2019-08-06</td>\n",
       "      <td>A</td>\n",
       "      <td>667</td>\n",
       "    </tr>\n",
       "    <tr>\n",
       "      <th>6</th>\n",
       "      <td>2019-08-07</td>\n",
       "      <td>A</td>\n",
       "      <td>644</td>\n",
       "    </tr>\n",
       "    <tr>\n",
       "      <th>7</th>\n",
       "      <td>2019-08-08</td>\n",
       "      <td>A</td>\n",
       "      <td>610</td>\n",
       "    </tr>\n",
       "    <tr>\n",
       "      <th>8</th>\n",
       "      <td>2019-08-09</td>\n",
       "      <td>A</td>\n",
       "      <td>617</td>\n",
       "    </tr>\n",
       "    <tr>\n",
       "      <th>9</th>\n",
       "      <td>2019-08-10</td>\n",
       "      <td>A</td>\n",
       "      <td>406</td>\n",
       "    </tr>\n",
       "  </tbody>\n",
       "</table>\n",
       "</div>"
      ],
      "text/plain": [
       "         date group  visitors\n",
       "0  2019-08-01     A       719\n",
       "1  2019-08-02     A       619\n",
       "2  2019-08-03     A       507\n",
       "3  2019-08-04     A       717\n",
       "4  2019-08-05     A       756\n",
       "5  2019-08-06     A       667\n",
       "6  2019-08-07     A       644\n",
       "7  2019-08-08     A       610\n",
       "8  2019-08-09     A       617\n",
       "9  2019-08-10     A       406"
      ]
     },
     "execution_count": 11,
     "metadata": {},
     "output_type": "execute_result"
    }
   ],
   "source": [
    "visitors.head(10) #выведем первые десять строк датафрейма с данными о пользователях"
   ]
  },
  {
   "cell_type": "code",
   "execution_count": 12,
   "metadata": {},
   "outputs": [
    {
     "name": "stdout",
     "output_type": "stream",
     "text": [
      "<class 'pandas.core.frame.DataFrame'>\n",
      "RangeIndex: 62 entries, 0 to 61\n",
      "Data columns (total 3 columns):\n",
      " #   Column    Non-Null Count  Dtype \n",
      "---  ------    --------------  ----- \n",
      " 0   date      62 non-null     object\n",
      " 1   group     62 non-null     object\n",
      " 2   visitors  62 non-null     int64 \n",
      "dtypes: int64(1), object(2)\n",
      "memory usage: 1.6+ KB\n"
     ]
    }
   ],
   "source": [
    "visitors.info() #выведем общую информацию"
   ]
  },
  {
   "cell_type": "code",
   "execution_count": 13,
   "metadata": {},
   "outputs": [
    {
     "data": {
      "text/plain": [
       "date        0\n",
       "group       0\n",
       "visitors    0\n",
       "dtype: int64"
      ]
     },
     "execution_count": 13,
     "metadata": {},
     "output_type": "execute_result"
    }
   ],
   "source": [
    "visitors.isna().sum() #убедимся в отсутствии пропусков"
   ]
  },
  {
   "cell_type": "code",
   "execution_count": 14,
   "metadata": {},
   "outputs": [
    {
     "data": {
      "text/plain": [
       "0"
      ]
     },
     "execution_count": 14,
     "metadata": {},
     "output_type": "execute_result"
    }
   ],
   "source": [
    "visitors.duplicated().sum() #проверим наличие дубликатов"
   ]
  },
  {
   "cell_type": "markdown",
   "metadata": {},
   "source": [
    "Датафрейм с данными о визитах содержит 62 строки и 3 столбца, пропусков и явных дубликатов нет. Тип данных в столбцах с датой не соответствует заданным значениям."
   ]
  },
  {
   "cell_type": "markdown",
   "metadata": {},
   "source": [
    "**1.3 Проведем необходимые изменения**"
   ]
  },
  {
   "cell_type": "code",
   "execution_count": 15,
   "metadata": {},
   "outputs": [],
   "source": [
    "#приведем названия столбцов к нижнему регистру\n",
    "hyp.columns = hyp.columns.str.lower()\n",
    "orders.columns = orders.columns.str.lower()\n",
    "visitors.columns = visitors.columns.str.lower()"
   ]
  },
  {
   "cell_type": "code",
   "execution_count": 16,
   "metadata": {},
   "outputs": [],
   "source": [
    "#изменим тип данных в столбцах с датой\n",
    "orders['date'] = orders['date'].astype('datetime64[D]')\n",
    "visitors['date'] = visitors['date'].astype('datetime64[D]')"
   ]
  },
  {
   "cell_type": "code",
   "execution_count": 17,
   "metadata": {},
   "outputs": [
    {
     "name": "stdout",
     "output_type": "stream",
     "text": [
      "<class 'pandas.core.frame.DataFrame'>\n",
      "RangeIndex: 1197 entries, 0 to 1196\n",
      "Data columns (total 5 columns):\n",
      " #   Column         Non-Null Count  Dtype         \n",
      "---  ------         --------------  -----         \n",
      " 0   transactionid  1197 non-null   int64         \n",
      " 1   visitorid      1197 non-null   int64         \n",
      " 2   date           1197 non-null   datetime64[ns]\n",
      " 3   revenue        1197 non-null   int64         \n",
      " 4   group          1197 non-null   object        \n",
      "dtypes: datetime64[ns](1), int64(3), object(1)\n",
      "memory usage: 46.9+ KB\n"
     ]
    }
   ],
   "source": [
    "orders.info() #выведем информацию по таблице для проверки изменений"
   ]
  },
  {
   "cell_type": "code",
   "execution_count": 18,
   "metadata": {},
   "outputs": [
    {
     "name": "stdout",
     "output_type": "stream",
     "text": [
      "<class 'pandas.core.frame.DataFrame'>\n",
      "RangeIndex: 62 entries, 0 to 61\n",
      "Data columns (total 3 columns):\n",
      " #   Column    Non-Null Count  Dtype         \n",
      "---  ------    --------------  -----         \n",
      " 0   date      62 non-null     datetime64[ns]\n",
      " 1   group     62 non-null     object        \n",
      " 2   visitors  62 non-null     int64         \n",
      "dtypes: datetime64[ns](1), int64(1), object(1)\n",
      "memory usage: 1.6+ KB\n"
     ]
    }
   ],
   "source": [
    "visitors.info()#выведем информацию по таблице для проверки изменений"
   ]
  },
  {
   "cell_type": "markdown",
   "metadata": {},
   "source": [
    "**Вывод:** данные готовы для дальнейшего анализа."
   ]
  },
  {
   "cell_type": "markdown",
   "metadata": {},
   "source": [
    "### Приоритизация гипотез"
   ]
  },
  {
   "cell_type": "markdown",
   "metadata": {},
   "source": [
    "**2.1 Применим фреймворк ICE для приоритизации гипотез**"
   ]
  },
  {
   "cell_type": "code",
   "execution_count": 19,
   "metadata": {},
   "outputs": [],
   "source": [
    "hyp['ICE'] = round(hyp['impact'] * hyp['confidence'] / hyp['efforts'], 2)"
   ]
  },
  {
   "cell_type": "markdown",
   "metadata": {},
   "source": [
    "**2.2 Отсортируем их по убыванию приоритета**"
   ]
  },
  {
   "cell_type": "code",
   "execution_count": 20,
   "metadata": {},
   "outputs": [
    {
     "data": {
      "text/html": [
       "<div>\n",
       "<style scoped>\n",
       "    .dataframe tbody tr th:only-of-type {\n",
       "        vertical-align: middle;\n",
       "    }\n",
       "\n",
       "    .dataframe tbody tr th {\n",
       "        vertical-align: top;\n",
       "    }\n",
       "\n",
       "    .dataframe thead th {\n",
       "        text-align: right;\n",
       "    }\n",
       "</style>\n",
       "<table border=\"1\" class=\"dataframe\">\n",
       "  <thead>\n",
       "    <tr style=\"text-align: right;\">\n",
       "      <th></th>\n",
       "      <th>hypothesis</th>\n",
       "      <th>reach</th>\n",
       "      <th>impact</th>\n",
       "      <th>confidence</th>\n",
       "      <th>efforts</th>\n",
       "      <th>ICE</th>\n",
       "    </tr>\n",
       "  </thead>\n",
       "  <tbody>\n",
       "    <tr>\n",
       "      <th>8</th>\n",
       "      <td>Запустить акцию, дающую скидку на товар в день рождения</td>\n",
       "      <td>1</td>\n",
       "      <td>9</td>\n",
       "      <td>9</td>\n",
       "      <td>5</td>\n",
       "      <td>16.20</td>\n",
       "    </tr>\n",
       "    <tr>\n",
       "      <th>0</th>\n",
       "      <td>Добавить два новых канала привлечения трафика, что позволит привлекать на 30% больше пользователей</td>\n",
       "      <td>3</td>\n",
       "      <td>10</td>\n",
       "      <td>8</td>\n",
       "      <td>6</td>\n",
       "      <td>13.33</td>\n",
       "    </tr>\n",
       "    <tr>\n",
       "      <th>7</th>\n",
       "      <td>Добавить форму подписки на все основные страницы, чтобы собрать базу клиентов для email-рассылок</td>\n",
       "      <td>10</td>\n",
       "      <td>7</td>\n",
       "      <td>8</td>\n",
       "      <td>5</td>\n",
       "      <td>11.20</td>\n",
       "    </tr>\n",
       "    <tr>\n",
       "      <th>6</th>\n",
       "      <td>Показать на главной странице баннеры с актуальными акциями и распродажами, чтобы увеличить конверсию</td>\n",
       "      <td>5</td>\n",
       "      <td>3</td>\n",
       "      <td>8</td>\n",
       "      <td>3</td>\n",
       "      <td>8.00</td>\n",
       "    </tr>\n",
       "    <tr>\n",
       "      <th>2</th>\n",
       "      <td>Добавить блоки рекомендаций товаров на сайт интернет магазина, чтобы повысить конверсию и средний чек заказа</td>\n",
       "      <td>8</td>\n",
       "      <td>3</td>\n",
       "      <td>7</td>\n",
       "      <td>3</td>\n",
       "      <td>7.00</td>\n",
       "    </tr>\n",
       "    <tr>\n",
       "      <th>1</th>\n",
       "      <td>Запустить собственную службу доставки, что сократит срок доставки заказов</td>\n",
       "      <td>2</td>\n",
       "      <td>5</td>\n",
       "      <td>4</td>\n",
       "      <td>10</td>\n",
       "      <td>2.00</td>\n",
       "    </tr>\n",
       "    <tr>\n",
       "      <th>5</th>\n",
       "      <td>Добавить страницу отзывов клиентов о магазине, что позволит увеличить количество заказов</td>\n",
       "      <td>3</td>\n",
       "      <td>2</td>\n",
       "      <td>2</td>\n",
       "      <td>3</td>\n",
       "      <td>1.33</td>\n",
       "    </tr>\n",
       "    <tr>\n",
       "      <th>3</th>\n",
       "      <td>Изменить структура категорий, что увеличит конверсию, т.к. пользователи быстрее найдут нужный товар</td>\n",
       "      <td>8</td>\n",
       "      <td>3</td>\n",
       "      <td>3</td>\n",
       "      <td>8</td>\n",
       "      <td>1.12</td>\n",
       "    </tr>\n",
       "    <tr>\n",
       "      <th>4</th>\n",
       "      <td>Изменить цвет фона главной страницы, чтобы увеличить вовлеченность пользователей</td>\n",
       "      <td>3</td>\n",
       "      <td>1</td>\n",
       "      <td>1</td>\n",
       "      <td>1</td>\n",
       "      <td>1.00</td>\n",
       "    </tr>\n",
       "  </tbody>\n",
       "</table>\n",
       "</div>"
      ],
      "text/plain": [
       "                                                                                                     hypothesis  \\\n",
       "8                                                       Запустить акцию, дающую скидку на товар в день рождения   \n",
       "0            Добавить два новых канала привлечения трафика, что позволит привлекать на 30% больше пользователей   \n",
       "7              Добавить форму подписки на все основные страницы, чтобы собрать базу клиентов для email-рассылок   \n",
       "6          Показать на главной странице баннеры с актуальными акциями и распродажами, чтобы увеличить конверсию   \n",
       "2  Добавить блоки рекомендаций товаров на сайт интернет магазина, чтобы повысить конверсию и средний чек заказа   \n",
       "1                                     Запустить собственную службу доставки, что сократит срок доставки заказов   \n",
       "5                      Добавить страницу отзывов клиентов о магазине, что позволит увеличить количество заказов   \n",
       "3           Изменить структура категорий, что увеличит конверсию, т.к. пользователи быстрее найдут нужный товар   \n",
       "4                              Изменить цвет фона главной страницы, чтобы увеличить вовлеченность пользователей   \n",
       "\n",
       "   reach  impact  confidence  efforts    ICE  \n",
       "8      1       9           9        5  16.20  \n",
       "0      3      10           8        6  13.33  \n",
       "7     10       7           8        5  11.20  \n",
       "6      5       3           8        3   8.00  \n",
       "2      8       3           7        3   7.00  \n",
       "1      2       5           4       10   2.00  \n",
       "5      3       2           2        3   1.33  \n",
       "3      8       3           3        8   1.12  \n",
       "4      3       1           1        1   1.00  "
      ]
     },
     "execution_count": 20,
     "metadata": {},
     "output_type": "execute_result"
    }
   ],
   "source": [
    "pd.set_option('max_colwidth', 200)\n",
    "hyp.sort_values(by='ICE', ascending=False)"
   ]
  },
  {
   "cell_type": "markdown",
   "metadata": {},
   "source": [
    "**2.3 Применим фреймворк RICE для приоритизации гипотез**"
   ]
  },
  {
   "cell_type": "code",
   "execution_count": 21,
   "metadata": {},
   "outputs": [],
   "source": [
    "hyp['RICE'] = round(hyp['reach'] * hyp['impact'] * hyp['confidence'] / hyp['efforts'], 2)"
   ]
  },
  {
   "cell_type": "markdown",
   "metadata": {},
   "source": [
    "**2.4 Отсортируем их по убыванию приоритета**"
   ]
  },
  {
   "cell_type": "code",
   "execution_count": 22,
   "metadata": {},
   "outputs": [
    {
     "data": {
      "text/html": [
       "<div>\n",
       "<style scoped>\n",
       "    .dataframe tbody tr th:only-of-type {\n",
       "        vertical-align: middle;\n",
       "    }\n",
       "\n",
       "    .dataframe tbody tr th {\n",
       "        vertical-align: top;\n",
       "    }\n",
       "\n",
       "    .dataframe thead th {\n",
       "        text-align: right;\n",
       "    }\n",
       "</style>\n",
       "<table border=\"1\" class=\"dataframe\">\n",
       "  <thead>\n",
       "    <tr style=\"text-align: right;\">\n",
       "      <th></th>\n",
       "      <th>hypothesis</th>\n",
       "      <th>reach</th>\n",
       "      <th>impact</th>\n",
       "      <th>confidence</th>\n",
       "      <th>efforts</th>\n",
       "      <th>ICE</th>\n",
       "      <th>RICE</th>\n",
       "    </tr>\n",
       "  </thead>\n",
       "  <tbody>\n",
       "    <tr>\n",
       "      <th>7</th>\n",
       "      <td>Добавить форму подписки на все основные страницы, чтобы собрать базу клиентов для email-рассылок</td>\n",
       "      <td>10</td>\n",
       "      <td>7</td>\n",
       "      <td>8</td>\n",
       "      <td>5</td>\n",
       "      <td>11.20</td>\n",
       "      <td>112.0</td>\n",
       "    </tr>\n",
       "    <tr>\n",
       "      <th>2</th>\n",
       "      <td>Добавить блоки рекомендаций товаров на сайт интернет магазина, чтобы повысить конверсию и средний чек заказа</td>\n",
       "      <td>8</td>\n",
       "      <td>3</td>\n",
       "      <td>7</td>\n",
       "      <td>3</td>\n",
       "      <td>7.00</td>\n",
       "      <td>56.0</td>\n",
       "    </tr>\n",
       "    <tr>\n",
       "      <th>0</th>\n",
       "      <td>Добавить два новых канала привлечения трафика, что позволит привлекать на 30% больше пользователей</td>\n",
       "      <td>3</td>\n",
       "      <td>10</td>\n",
       "      <td>8</td>\n",
       "      <td>6</td>\n",
       "      <td>13.33</td>\n",
       "      <td>40.0</td>\n",
       "    </tr>\n",
       "    <tr>\n",
       "      <th>6</th>\n",
       "      <td>Показать на главной странице баннеры с актуальными акциями и распродажами, чтобы увеличить конверсию</td>\n",
       "      <td>5</td>\n",
       "      <td>3</td>\n",
       "      <td>8</td>\n",
       "      <td>3</td>\n",
       "      <td>8.00</td>\n",
       "      <td>40.0</td>\n",
       "    </tr>\n",
       "    <tr>\n",
       "      <th>8</th>\n",
       "      <td>Запустить акцию, дающую скидку на товар в день рождения</td>\n",
       "      <td>1</td>\n",
       "      <td>9</td>\n",
       "      <td>9</td>\n",
       "      <td>5</td>\n",
       "      <td>16.20</td>\n",
       "      <td>16.2</td>\n",
       "    </tr>\n",
       "    <tr>\n",
       "      <th>3</th>\n",
       "      <td>Изменить структура категорий, что увеличит конверсию, т.к. пользователи быстрее найдут нужный товар</td>\n",
       "      <td>8</td>\n",
       "      <td>3</td>\n",
       "      <td>3</td>\n",
       "      <td>8</td>\n",
       "      <td>1.12</td>\n",
       "      <td>9.0</td>\n",
       "    </tr>\n",
       "    <tr>\n",
       "      <th>1</th>\n",
       "      <td>Запустить собственную службу доставки, что сократит срок доставки заказов</td>\n",
       "      <td>2</td>\n",
       "      <td>5</td>\n",
       "      <td>4</td>\n",
       "      <td>10</td>\n",
       "      <td>2.00</td>\n",
       "      <td>4.0</td>\n",
       "    </tr>\n",
       "    <tr>\n",
       "      <th>5</th>\n",
       "      <td>Добавить страницу отзывов клиентов о магазине, что позволит увеличить количество заказов</td>\n",
       "      <td>3</td>\n",
       "      <td>2</td>\n",
       "      <td>2</td>\n",
       "      <td>3</td>\n",
       "      <td>1.33</td>\n",
       "      <td>4.0</td>\n",
       "    </tr>\n",
       "    <tr>\n",
       "      <th>4</th>\n",
       "      <td>Изменить цвет фона главной страницы, чтобы увеличить вовлеченность пользователей</td>\n",
       "      <td>3</td>\n",
       "      <td>1</td>\n",
       "      <td>1</td>\n",
       "      <td>1</td>\n",
       "      <td>1.00</td>\n",
       "      <td>3.0</td>\n",
       "    </tr>\n",
       "  </tbody>\n",
       "</table>\n",
       "</div>"
      ],
      "text/plain": [
       "                                                                                                     hypothesis  \\\n",
       "7              Добавить форму подписки на все основные страницы, чтобы собрать базу клиентов для email-рассылок   \n",
       "2  Добавить блоки рекомендаций товаров на сайт интернет магазина, чтобы повысить конверсию и средний чек заказа   \n",
       "0            Добавить два новых канала привлечения трафика, что позволит привлекать на 30% больше пользователей   \n",
       "6          Показать на главной странице баннеры с актуальными акциями и распродажами, чтобы увеличить конверсию   \n",
       "8                                                       Запустить акцию, дающую скидку на товар в день рождения   \n",
       "3           Изменить структура категорий, что увеличит конверсию, т.к. пользователи быстрее найдут нужный товар   \n",
       "1                                     Запустить собственную службу доставки, что сократит срок доставки заказов   \n",
       "5                      Добавить страницу отзывов клиентов о магазине, что позволит увеличить количество заказов   \n",
       "4                              Изменить цвет фона главной страницы, чтобы увеличить вовлеченность пользователей   \n",
       "\n",
       "   reach  impact  confidence  efforts    ICE   RICE  \n",
       "7     10       7           8        5  11.20  112.0  \n",
       "2      8       3           7        3   7.00   56.0  \n",
       "0      3      10           8        6  13.33   40.0  \n",
       "6      5       3           8        3   8.00   40.0  \n",
       "8      1       9           9        5  16.20   16.2  \n",
       "3      8       3           3        8   1.12    9.0  \n",
       "1      2       5           4       10   2.00    4.0  \n",
       "5      3       2           2        3   1.33    4.0  \n",
       "4      3       1           1        1   1.00    3.0  "
      ]
     },
     "execution_count": 22,
     "metadata": {},
     "output_type": "execute_result"
    }
   ],
   "source": [
    "pd.set_option('max_colwidth', 200)\n",
    "hyp.sort_values(by='RICE', ascending=False)"
   ]
  },
  {
   "cell_type": "markdown",
   "metadata": {},
   "source": [
    "**2.5 Как изменилась приоритизация гипотез при применении RICE вместо ICE и почему так произошло**"
   ]
  },
  {
   "cell_type": "markdown",
   "metadata": {},
   "source": [
    "При применении фреймворка ICE приоритетными оказались гипотезы 8, 0 и 7 (16, 13 и 11 баллов соответственно), тогда как при применении фреймворка RICE приоритетными оказались гипотезы 7, 2, 0 и 6 (112, 56 и по 40 баллов соотвественно). Дело в том, что RICE включает в себя параметр 'reach' - охват предстоящих изменений, поэтому чем больше охват, тем приоритетнее гипотеза. При совокупности всех параметров гипотеза 7 является наиболее приоритетной."
   ]
  },
  {
   "cell_type": "markdown",
   "metadata": {},
   "source": [
    "### Анализ A/B-теста"
   ]
  },
  {
   "cell_type": "markdown",
   "metadata": {},
   "source": [
    "**Мы провели A/B-тест и получили результаты, которые описаны в датафреймах 'orders' и 'visitors'**"
   ]
  },
  {
   "cell_type": "markdown",
   "metadata": {},
   "source": [
    "**3.1 Построим график кумулятивной выручки по группам**"
   ]
  },
  {
   "cell_type": "code",
   "execution_count": 23,
   "metadata": {},
   "outputs": [
    {
     "data": {
      "text/html": [
       "<div>\n",
       "<style scoped>\n",
       "    .dataframe tbody tr th:only-of-type {\n",
       "        vertical-align: middle;\n",
       "    }\n",
       "\n",
       "    .dataframe tbody tr th {\n",
       "        vertical-align: top;\n",
       "    }\n",
       "\n",
       "    .dataframe thead th {\n",
       "        text-align: right;\n",
       "    }\n",
       "</style>\n",
       "<table border=\"1\" class=\"dataframe\">\n",
       "  <thead>\n",
       "    <tr style=\"text-align: right;\">\n",
       "      <th></th>\n",
       "      <th>date</th>\n",
       "      <th>group</th>\n",
       "      <th>orders</th>\n",
       "      <th>buyers</th>\n",
       "      <th>revenue</th>\n",
       "      <th>visitors</th>\n",
       "    </tr>\n",
       "  </thead>\n",
       "  <tbody>\n",
       "    <tr>\n",
       "      <th>0</th>\n",
       "      <td>2019-08-01</td>\n",
       "      <td>A</td>\n",
       "      <td>24</td>\n",
       "      <td>20</td>\n",
       "      <td>148579</td>\n",
       "      <td>719</td>\n",
       "    </tr>\n",
       "    <tr>\n",
       "      <th>1</th>\n",
       "      <td>2019-08-01</td>\n",
       "      <td>B</td>\n",
       "      <td>21</td>\n",
       "      <td>20</td>\n",
       "      <td>101217</td>\n",
       "      <td>713</td>\n",
       "    </tr>\n",
       "    <tr>\n",
       "      <th>2</th>\n",
       "      <td>2019-08-02</td>\n",
       "      <td>A</td>\n",
       "      <td>44</td>\n",
       "      <td>38</td>\n",
       "      <td>242401</td>\n",
       "      <td>1338</td>\n",
       "    </tr>\n",
       "    <tr>\n",
       "      <th>3</th>\n",
       "      <td>2019-08-02</td>\n",
       "      <td>B</td>\n",
       "      <td>45</td>\n",
       "      <td>43</td>\n",
       "      <td>266748</td>\n",
       "      <td>1294</td>\n",
       "    </tr>\n",
       "    <tr>\n",
       "      <th>4</th>\n",
       "      <td>2019-08-03</td>\n",
       "      <td>A</td>\n",
       "      <td>68</td>\n",
       "      <td>62</td>\n",
       "      <td>354874</td>\n",
       "      <td>1845</td>\n",
       "    </tr>\n",
       "  </tbody>\n",
       "</table>\n",
       "</div>"
      ],
      "text/plain": [
       "        date group  orders  buyers  revenue  visitors\n",
       "0 2019-08-01     A      24      20   148579       719\n",
       "1 2019-08-01     B      21      20   101217       713\n",
       "2 2019-08-02     A      44      38   242401      1338\n",
       "3 2019-08-02     B      45      43   266748      1294\n",
       "4 2019-08-03     A      68      62   354874      1845"
      ]
     },
     "execution_count": 23,
     "metadata": {},
     "output_type": "execute_result"
    }
   ],
   "source": [
    "#создаем массив уникальных пар значений дат и групп теста\n",
    "datesGroups = orders[['date','group']].drop_duplicates()\n",
    "\n",
    "#получаем агрегированные кумулятивные по дням данные о заказах \n",
    "ordersAggregated = datesGroups.apply(lambda x: orders[np.logical_and(orders['date'] <= x['date'], orders['group'] == x['group'])]\n",
    "                                     .agg({'date' : 'max', \n",
    "                                           'group' : 'max', \n",
    "                                           'transactionid' : 'nunique', \n",
    "                                           'visitorid' : 'nunique', \n",
    "                                           'revenue' : 'sum'}), axis=1).sort_values(by=['date','group'])\n",
    "\n",
    "#получаем агрегированные кумулятивные по дням данные о посетителях интернет-магазина \n",
    "visitorsAggregated = datesGroups.apply(lambda x: visitors[np.logical_and(visitors['date'] <= x['date'], visitors['group'] == x['group'])]\n",
    "                                       .agg({'date' : 'max', \n",
    "                                             'group' : 'max', \n",
    "                                             'visitors' : 'sum'}), axis=1).sort_values(by=['date','group'])\n",
    "\n",
    "#объединяем кумулятивные данные в одной таблице и присваиваем ее столбцам понятные названия\n",
    "cumulativeData = ordersAggregated.merge(visitorsAggregated, left_on=['date', 'group'], right_on=['date', 'group'])\n",
    "cumulativeData.columns = ['date', 'group', 'orders', 'buyers', 'revenue', 'visitors']\n",
    "\n",
    "cumulativeData.head(5)"
   ]
  },
  {
   "cell_type": "code",
   "execution_count": 24,
   "metadata": {},
   "outputs": [
    {
     "data": {
      "image/png": "[encoded data removed]",
      "text/plain": [
       "<Figure size 864x432 with 1 Axes>"
      ]
     },
     "metadata": {
      "needs_background": "light"
     },
     "output_type": "display_data"
    }
   ],
   "source": [
    "#датафрейм с кумулятивным количеством заказов и кумулятивной выручкой по дням в группе А\n",
    "cumulativeRevenueA = cumulativeData[cumulativeData['group']=='A'][['date','revenue', 'orders']]\n",
    "\n",
    "#датафрейм с кумулятивным количеством заказов и кумулятивной выручкой по дням в группе B\n",
    "cumulativeRevenueB = cumulativeData[cumulativeData['group']=='B'][['date','revenue', 'orders']]\n",
    "\n",
    "plt.figure(figsize=(12,6))\n",
    "\n",
    "#строим график выручки группы А\n",
    "plt.plot(cumulativeRevenueA['date'], cumulativeRevenueA['revenue'], label='A')\n",
    "\n",
    "#строим график выручки группы B\n",
    "plt.plot(cumulativeRevenueB['date'], cumulativeRevenueB['revenue'], label='B') \n",
    "\n",
    "\n",
    "plt.title('График кумулятивной выручки по группам')\n",
    "plt.xlabel('Дата')\n",
    "plt.ylabel('Выручка')\n",
    "plt.legend(loc='best')\n",
    "plt.show()"
   ]
  },
  {
   "cell_type": "markdown",
   "metadata": {},
   "source": [
    "Поначалу выручка увеличивается почти равномерно, но после 5 августа группа B начинает лидировать. К 13 августа группа A догоняет группу B, но 18 августа у группы B происходит резкий скачок - возможно произошел всплеск числа заказов, либо в выборке появились очень дорогие заказы. "
   ]
  },
  {
   "cell_type": "markdown",
   "metadata": {},
   "source": [
    "**3.2 Построим график кумулятивного среднего чека по группам**"
   ]
  },
  {
   "cell_type": "code",
   "execution_count": 25,
   "metadata": {},
   "outputs": [
    {
     "data": {
      "image/png": "[encoded data removed]",
      "text/plain": [
       "<Figure size 864x432 with 1 Axes>"
      ]
     },
     "metadata": {
      "needs_background": "light"
     },
     "output_type": "display_data"
    }
   ],
   "source": [
    "plt.figure(figsize=(12,6))\n",
    "plt.plot(cumulativeRevenueA['date'], cumulativeRevenueA['revenue']/cumulativeRevenueA['orders'], label='A')\n",
    "plt.plot(cumulativeRevenueB['date'], cumulativeRevenueB['revenue']/cumulativeRevenueB['orders'], label='B')\n",
    "\n",
    "plt.title('График кумулятивного среднего чека по группам')\n",
    "plt.xlabel('Дата')\n",
    "plt.ylabel('Средний чек')\n",
    "plt.legend(loc='best')\n",
    "plt.show()"
   ]
  },
  {
   "cell_type": "markdown",
   "metadata": {},
   "source": [
    "Кумулятивное значение среднего чека почти вседа было выше у группы B. 11 и 15 августа средниц чек обеих групп сравнялся, 13 августа для группы A было пиковое значение. А для группы B пиковое значение пришлось на 19 августа, как раз после резкого скачка 18 августа. Возможно, причиной этому были крупные заказы. "
   ]
  },
  {
   "cell_type": "markdown",
   "metadata": {},
   "source": [
    "**3.3 Построим график относительного изменения кумулятивного среднего чека группы B к группе A**"
   ]
  },
  {
   "cell_type": "code",
   "execution_count": 26,
   "metadata": {},
   "outputs": [
    {
     "data": {
      "image/png": "[encoded data removed]",
      "text/plain": [
       "<Figure size 864x432 with 1 Axes>"
      ]
     },
     "metadata": {
      "needs_background": "light"
     },
     "output_type": "display_data"
    }
   ],
   "source": [
    "# собираем данные в одном датафрейме\n",
    "mergedCumulativeRevenue = cumulativeRevenueA.merge(cumulativeRevenueB, left_on='date', right_on='date', how='left', suffixes=['A', 'B'])\n",
    "\n",
    "plt.figure(figsize=(12,6))\n",
    "# cтроим отношение средних чеков\n",
    "plt.plot(mergedCumulativeRevenue['date'], (mergedCumulativeRevenue['revenueB']/mergedCumulativeRevenue['ordersB'])/(mergedCumulativeRevenue['revenueA']/mergedCumulativeRevenue['ordersA'])-1)\n",
    "\n",
    "# добавляем ось X\n",
    "plt.axhline(y=0, color='black', linestyle='--')\n",
    "\n",
    "plt.title('График относительного изменения кумулятивного среднего чека группы B к группе A')\n",
    "plt.xlabel('Дата')\n",
    "plt.ylabel('Относительное изменение (%)')\n",
    "plt.show()"
   ]
  },
  {
   "cell_type": "markdown",
   "metadata": {},
   "source": [
    "И снова мы можем наблюдать скачкообразные изменения в графике, даты как раз те же, что и на предыдущих графиках."
   ]
  },
  {
   "cell_type": "markdown",
   "metadata": {},
   "source": [
    "**3.4 Построим график кумулятивного среднего количества заказов на посетителя по группам**"
   ]
  },
  {
   "cell_type": "code",
   "execution_count": 27,
   "metadata": {},
   "outputs": [
    {
     "data": {
      "image/png": "[encoded data removed]",
      "text/plain": [
       "<Figure size 864x432 with 1 Axes>"
      ]
     },
     "metadata": {
      "needs_background": "light"
     },
     "output_type": "display_data"
    }
   ],
   "source": [
    "# считаем среднее количество заказов на посетителя\n",
    "cumulativeData['conversion'] = cumulativeData['orders']/cumulativeData['visitors']\n",
    "\n",
    "# отделяем данные по группе A\n",
    "cumulativeDataA = cumulativeData[cumulativeData['group']=='A']\n",
    "\n",
    "# отделяем данные по группе B\n",
    "cumulativeDataB = cumulativeData[cumulativeData['group']=='B']\n",
    "\n",
    "plt.figure(figsize=(12,6))\n",
    "# строим графики\n",
    "plt.plot(cumulativeDataA['date'], cumulativeDataA['conversion'], label='A')\n",
    "plt.plot(cumulativeDataB['date'], cumulativeDataB['conversion'], label='B')\n",
    "\n",
    "plt.title('График кумулятивной конверсии по группам')\n",
    "plt.xlabel('Дата')\n",
    "plt.ylabel('Среднее количество заказов')\n",
    "plt.legend(loc='best')\n",
    "plt.show()"
   ]
  },
  {
   "cell_type": "markdown",
   "metadata": {},
   "source": [
    "Поначалу группы колебались, к 6 августа значения сравнялись, но затем у группы B среднее количество заказов вырвалось вперед, а у группы A просело. "
   ]
  },
  {
   "cell_type": "markdown",
   "metadata": {},
   "source": [
    "**3.5 Построим график относительного изменения кумулятивного среднего количества заказов на посетителя группы B к группе A**"
   ]
  },
  {
   "cell_type": "code",
   "execution_count": 28,
   "metadata": {},
   "outputs": [
    {
     "data": {
      "image/png": "[encoded data removed]",
      "text/plain": [
       "<Figure size 864x432 with 1 Axes>"
      ]
     },
     "metadata": {
      "needs_background": "light"
     },
     "output_type": "display_data"
    }
   ],
   "source": [
    "mergedCumulativeConversions = cumulativeDataA[['date','conversion']].merge(cumulativeDataB[['date','conversion']], left_on='date', right_on='date', how='left', suffixes=['A', 'B'])\n",
    "\n",
    "plt.figure(figsize=(12,6))\n",
    "plt.plot(mergedCumulativeConversions['date'], mergedCumulativeConversions['conversionB']/mergedCumulativeConversions['conversionA']-1)\n",
    "\n",
    "plt.axhline(y=0, color='black', linestyle='--')\n",
    "plt.axhline(y=0.15, color='grey', linestyle='--')\n",
    "\n",
    "plt.title('График относительного изменения кумулятивного среднего количества заказов на посетителя группы B к группе A')\n",
    "plt.xlabel('Дата')\n",
    "plt.show()\n"
   ]
  },
  {
   "cell_type": "markdown",
   "metadata": {},
   "source": [
    "После пяти дней наблюдений группа B вырвалась вперёд. После 18 августа среднее количество заказов на посетителя для группы B снова уменьшалось, но с 29 августа постепенно растет."
   ]
  },
  {
   "cell_type": "markdown",
   "metadata": {},
   "source": [
    "**3.6 Построим точечный график количества заказов по пользователям**"
   ]
  },
  {
   "cell_type": "code",
   "execution_count": 29,
   "metadata": {},
   "outputs": [
    {
     "name": "stdout",
     "output_type": "stream",
     "text": [
      "       visitorid  orders\n",
      "1023  4256040402      11\n",
      "591   2458001652      11\n",
      "569   2378935119       9\n",
      "487   2038680547       8\n",
      "44     199603092       5\n",
      "744   3062433592       5\n",
      "55     237748145       5\n",
      "917   3803269165       5\n",
      "299   1230306981       5\n",
      "897   3717692402       5\n"
     ]
    }
   ],
   "source": [
    "#выведем таблицу по количеству заказов на пользователя\n",
    "ordersByUsers = (\n",
    "    orders.groupby('visitorid', as_index=False)\n",
    "    .agg({'transactionid': pd.Series.nunique})\n",
    ")\n",
    "ordersByUsers.columns = ['visitorid', 'orders']\n",
    "\n",
    "print(ordersByUsers.sort_values(by='orders', ascending=False).head(10))"
   ]
  },
  {
   "cell_type": "code",
   "execution_count": 30,
   "metadata": {},
   "outputs": [
    {
     "data": {
      "image/png": "[encoded data removed]",
      "text/plain": [
       "<Figure size 864x432 with 1 Axes>"
      ]
     },
     "metadata": {
      "needs_background": "light"
     },
     "output_type": "display_data"
    }
   ],
   "source": [
    "x_values = pd.Series(range(0, len(ordersByUsers)))\n",
    "plt.figure(figsize=(12,6))\n",
    "plt.scatter(x_values, ordersByUsers['orders']);\n",
    "plt.title('Точечный график количества заказов по пользователям')\n",
    "plt.ylabel('Количество заказов')\n",
    "plt.show()"
   ]
  },
  {
   "cell_type": "markdown",
   "metadata": {},
   "source": [
    "Подавляющее большинство пользователей делали только один заказ. Значительное количество пользователей делало два заказа, но их точная доля не ясна. Больше двух заказов - лишь единичные случаи. "
   ]
  },
  {
   "cell_type": "markdown",
   "metadata": {},
   "source": [
    "**3.7 Посчитаем 95-й и 99-й перцентили количества заказов на пользователя и выберем границу для определения аномальных пользователей**"
   ]
  },
  {
   "cell_type": "code",
   "execution_count": 31,
   "metadata": {},
   "outputs": [
    {
     "data": {
      "text/plain": [
       "array([2., 4.])"
      ]
     },
     "execution_count": 31,
     "metadata": {},
     "output_type": "execute_result"
    }
   ],
   "source": [
    "np.percentile(ordersByUsers['orders'], [95, 99])"
   ]
  },
  {
   "cell_type": "markdown",
   "metadata": {},
   "source": [
    "Не более 5% пользователей оформляли больше чем 2 заказа. И не более 1% пользователей заказывали более четырех раз. \n",
    "Разумно выбрать 2 заказа на одного пользователя за верхнюю границу числа заказов, и отсеять аномальных пользователей по ней."
   ]
  },
  {
   "cell_type": "markdown",
   "metadata": {},
   "source": [
    "**3.8 Построим точечный график стоимостей заказов**"
   ]
  },
  {
   "cell_type": "code",
   "execution_count": 32,
   "metadata": {},
   "outputs": [
    {
     "data": {
      "text/html": [
       "<div>\n",
       "<style scoped>\n",
       "    .dataframe tbody tr th:only-of-type {\n",
       "        vertical-align: middle;\n",
       "    }\n",
       "\n",
       "    .dataframe tbody tr th {\n",
       "        vertical-align: top;\n",
       "    }\n",
       "\n",
       "    .dataframe thead th {\n",
       "        text-align: right;\n",
       "    }\n",
       "</style>\n",
       "<table border=\"1\" class=\"dataframe\">\n",
       "  <thead>\n",
       "    <tr style=\"text-align: right;\">\n",
       "      <th></th>\n",
       "      <th>transactionid</th>\n",
       "      <th>visitorid</th>\n",
       "      <th>date</th>\n",
       "      <th>revenue</th>\n",
       "      <th>group</th>\n",
       "    </tr>\n",
       "  </thead>\n",
       "  <tbody>\n",
       "    <tr>\n",
       "      <th>425</th>\n",
       "      <td>590470918</td>\n",
       "      <td>1920142716</td>\n",
       "      <td>2019-08-19</td>\n",
       "      <td>1294500</td>\n",
       "      <td>B</td>\n",
       "    </tr>\n",
       "    <tr>\n",
       "      <th>1196</th>\n",
       "      <td>3936777065</td>\n",
       "      <td>2108080724</td>\n",
       "      <td>2019-08-15</td>\n",
       "      <td>202740</td>\n",
       "      <td>B</td>\n",
       "    </tr>\n",
       "    <tr>\n",
       "      <th>858</th>\n",
       "      <td>192721366</td>\n",
       "      <td>1316129916</td>\n",
       "      <td>2019-08-27</td>\n",
       "      <td>93940</td>\n",
       "      <td>A</td>\n",
       "    </tr>\n",
       "    <tr>\n",
       "      <th>1136</th>\n",
       "      <td>666610489</td>\n",
       "      <td>1307669133</td>\n",
       "      <td>2019-08-13</td>\n",
       "      <td>92550</td>\n",
       "      <td>A</td>\n",
       "    </tr>\n",
       "    <tr>\n",
       "      <th>744</th>\n",
       "      <td>3668308183</td>\n",
       "      <td>888512513</td>\n",
       "      <td>2019-08-27</td>\n",
       "      <td>86620</td>\n",
       "      <td>B</td>\n",
       "    </tr>\n",
       "    <tr>\n",
       "      <th>682</th>\n",
       "      <td>1216533772</td>\n",
       "      <td>4266935830</td>\n",
       "      <td>2019-08-29</td>\n",
       "      <td>78990</td>\n",
       "      <td>B</td>\n",
       "    </tr>\n",
       "    <tr>\n",
       "      <th>662</th>\n",
       "      <td>1811671147</td>\n",
       "      <td>4266935830</td>\n",
       "      <td>2019-08-29</td>\n",
       "      <td>78990</td>\n",
       "      <td>A</td>\n",
       "    </tr>\n",
       "    <tr>\n",
       "      <th>743</th>\n",
       "      <td>3603576309</td>\n",
       "      <td>4133034833</td>\n",
       "      <td>2019-08-09</td>\n",
       "      <td>67990</td>\n",
       "      <td>A</td>\n",
       "    </tr>\n",
       "    <tr>\n",
       "      <th>1103</th>\n",
       "      <td>1348774318</td>\n",
       "      <td>1164614297</td>\n",
       "      <td>2019-08-12</td>\n",
       "      <td>66350</td>\n",
       "      <td>A</td>\n",
       "    </tr>\n",
       "    <tr>\n",
       "      <th>1099</th>\n",
       "      <td>316924019</td>\n",
       "      <td>148427295</td>\n",
       "      <td>2019-08-12</td>\n",
       "      <td>65710</td>\n",
       "      <td>A</td>\n",
       "    </tr>\n",
       "  </tbody>\n",
       "</table>\n",
       "</div>"
      ],
      "text/plain": [
       "      transactionid   visitorid       date  revenue group\n",
       "425       590470918  1920142716 2019-08-19  1294500     B\n",
       "1196     3936777065  2108080724 2019-08-15   202740     B\n",
       "858       192721366  1316129916 2019-08-27    93940     A\n",
       "1136      666610489  1307669133 2019-08-13    92550     A\n",
       "744      3668308183   888512513 2019-08-27    86620     B\n",
       "682      1216533772  4266935830 2019-08-29    78990     B\n",
       "662      1811671147  4266935830 2019-08-29    78990     A\n",
       "743      3603576309  4133034833 2019-08-09    67990     A\n",
       "1103     1348774318  1164614297 2019-08-12    66350     A\n",
       "1099      316924019   148427295 2019-08-12    65710     A"
      ]
     },
     "execution_count": 32,
     "metadata": {},
     "output_type": "execute_result"
    }
   ],
   "source": [
    "#выведем таблицу стоимости заказов\n",
    "orders.sort_values(by='revenue', ascending=False).head(10)"
   ]
  },
  {
   "cell_type": "code",
   "execution_count": 33,
   "metadata": {},
   "outputs": [
    {
     "data": {
      "image/png": "[encoded data removed]",
      "text/plain": [
       "<Figure size 864x432 with 1 Axes>"
      ]
     },
     "metadata": {
      "needs_background": "light"
     },
     "output_type": "display_data"
    },
    {
     "data": {
      "image/png": "[encoded data removed]",
      "text/plain": [
       "<Figure size 864x432 with 1 Axes>"
      ]
     },
     "metadata": {
      "needs_background": "light"
     },
     "output_type": "display_data"
    }
   ],
   "source": [
    "x_values = pd.Series(range(0, len(orders['revenue'])))\n",
    "plt.figure(figsize=(12,6))\n",
    "plt.scatter(x_values, orders['revenue'])\n",
    "plt.title('Точечный график стоимостей заказов')\n",
    "plt.ylabel('Стоимость заказа (млн)')\n",
    "plt.show()\n",
    "\n",
    "plt.figure(figsize=(12,6))\n",
    "plt.axis([0, 1200, 0, 100000])\n",
    "plt.scatter(x_values, orders['revenue'])\n",
    "plt.title('Точечный график стоимостей заказов (без аномалий)')\n",
    "plt.ylabel('Стоимость заказа (тыс)')\n",
    "plt.show()"
   ]
  },
  {
   "cell_type": "markdown",
   "metadata": {},
   "source": [
    "Абсолютное большинство заказов не превышает 100 000, но есть и аномалии - 202 740 и 1 294 500. Вполне возможно, что именно эти заказы влияли на графики кумулятивного среднего чека и кумулятивной выручки. "
   ]
  },
  {
   "cell_type": "markdown",
   "metadata": {},
   "source": [
    "**3.9 Посчитаем 95-й и 99-й перцентили стоимости заказов и выберем границу для определения аномальных заказов**"
   ]
  },
  {
   "cell_type": "code",
   "execution_count": 34,
   "metadata": {},
   "outputs": [
    {
     "data": {
      "text/plain": [
       "array([28000. , 58233.2])"
      ]
     },
     "execution_count": 34,
     "metadata": {},
     "output_type": "execute_result"
    }
   ],
   "source": [
    "np.percentile(orders['revenue'], [95, 99])"
   ]
  },
  {
   "cell_type": "markdown",
   "metadata": {},
   "source": [
    "Не более 5% заказов превысили 28000. И не более 1% заказов превысили 58233. Разумно выбрать 28000 за верхнюю границу стоимости заказов, и отсеять аномальные показатели по ней."
   ]
  },
  {
   "cell_type": "markdown",
   "metadata": {},
   "source": [
    "**3.10 Посчитаем статистическую значимость различий в среднем количестве заказов на посетителя между группами по «сырым» данным**"
   ]
  },
  {
   "cell_type": "markdown",
   "metadata": {},
   "source": [
    "Нулевая гипотеза: различий в среднем количестве заказов на посетителя между группами нет.  \n",
    "Альтернативная гипотеза: различия в среднем между группами есть.  \n",
    "\n",
    "Уровень статистической значимости = 0.05  \n",
    "Для проверки данной гипотезы используем непараметрический тест, т.к. имеющиеся аномалии могут исказить результаты.  "
   ]
  },
  {
   "cell_type": "code",
   "execution_count": 35,
   "metadata": {},
   "outputs": [
    {
     "name": "stdout",
     "output_type": "stream",
     "text": [
      "0.01679\n",
      "0.138\n"
     ]
    }
   ],
   "source": [
    "visitorsADaily = visitors[visitors['group'] == 'A'][['date', 'visitors']]\n",
    "visitorsADaily.columns = ['date', 'visitorsPerDateA']\n",
    "\n",
    "visitorsACummulative = visitorsADaily.apply(\n",
    "    lambda x: visitorsADaily[visitorsADaily['date'] <= x['date']].agg(\n",
    "        {'date': 'max', 'visitorsPerDateA': 'sum'}\n",
    "    ),\n",
    "    axis=1,\n",
    ")\n",
    "visitorsACummulative.columns = ['date', 'visitorsCummulativeA']\n",
    "\n",
    "visitorsBDaily = visitors[visitors['group'] == 'B'][['date', 'visitors']]\n",
    "visitorsBDaily.columns = ['date', 'visitorsPerDateB']\n",
    "\n",
    "visitorsBCummulative = visitorsBDaily.apply(\n",
    "    lambda x: visitorsBDaily[visitorsBDaily['date'] <= x['date']].agg(\n",
    "        {'date': 'max', 'visitorsPerDateB': 'sum'}\n",
    "    ),\n",
    "    axis=1,\n",
    ")\n",
    "visitorsBCummulative.columns = ['date', 'visitorsCummulativeB']\n",
    "\n",
    "ordersADaily = (\n",
    "    orders[orders['group'] == 'A'][['date', 'transactionid', 'visitorid', 'revenue']]\n",
    "    .groupby('date', as_index=False)\n",
    "    .agg({'transactionid': pd.Series.nunique, 'revenue': 'sum'})\n",
    ")\n",
    "ordersADaily.columns = ['date', 'ordersPerDateA', 'revenuePerDateA']\n",
    "\n",
    "ordersACummulative = ordersADaily.apply(\n",
    "    lambda x: ordersADaily[ordersADaily['date'] <= x['date']].agg(\n",
    "        {'date': 'max', 'ordersPerDateA': 'sum', 'revenuePerDateA': 'sum'}\n",
    "    ),\n",
    "    axis=1,\n",
    ").sort_values(by=['date'])\n",
    "ordersACummulative.columns = [\n",
    "    'date',\n",
    "    'ordersCummulativeA',\n",
    "    'revenueCummulativeA',\n",
    "]\n",
    "\n",
    "ordersBDaily = (\n",
    "    orders[orders['group'] == 'B'][['date', 'transactionid', 'visitorid', 'revenue']]\n",
    "    .groupby('date', as_index=False)\n",
    "    .agg({'transactionid': pd.Series.nunique, 'revenue': 'sum'})\n",
    ")\n",
    "ordersBDaily.columns = ['date', 'ordersPerDateB', 'revenuePerDateB']\n",
    "\n",
    "ordersBCummulative = ordersBDaily.apply(\n",
    "    lambda x: ordersBDaily[ordersBDaily['date'] <= x['date']].agg(\n",
    "        {'date': 'max', 'ordersPerDateB': 'sum', 'revenuePerDateB': 'sum'}\n",
    "    ),\n",
    "    axis=1,\n",
    ").sort_values(by=['date'])\n",
    "ordersBCummulative.columns = [\n",
    "    'date',\n",
    "    'ordersCummulativeB',\n",
    "    'revenueCummulativeB',\n",
    "]\n",
    "\n",
    "data = (\n",
    "    ordersADaily.merge(\n",
    "        ordersBDaily, left_on='date', right_on='date', how='left'\n",
    "    )\n",
    "    .merge(ordersACummulative, left_on='date', right_on='date', how='left')\n",
    "    .merge(ordersBCummulative, left_on='date', right_on='date', how='left')\n",
    "    .merge(visitorsADaily, left_on='date', right_on='date', how='left')\n",
    "    .merge(visitorsBDaily, left_on='date', right_on='date', how='left')\n",
    "    .merge(visitorsACummulative, left_on='date', right_on='date', how='left')\n",
    "    .merge(visitorsBCummulative, left_on='date', right_on='date', how='left')\n",
    ")\n",
    "\n",
    "ordersByUsersA = (\n",
    "    orders[orders['group'] == 'A']\n",
    "    .groupby('visitorid', as_index=False)\n",
    "    .agg({'transactionid': pd.Series.nunique})\n",
    ")\n",
    "ordersByUsersA.columns = ['userId', 'orders']\n",
    "\n",
    "ordersByUsersB = (\n",
    "    orders[orders['group'] == 'B']\n",
    "    .groupby('visitorid', as_index=False)\n",
    "    .agg({'transactionid': pd.Series.nunique})\n",
    ")\n",
    "ordersByUsersB.columns = ['userId', 'orders'] \n",
    "\n",
    "\n",
    "sampleA = pd.concat([ordersByUsersA['orders'],pd.Series(0, index=np.arange(data['visitorsPerDateA'].sum() - len(ordersByUsersA['orders'])), name='orders')],axis=0)\n",
    "\n",
    "sampleB = pd.concat([ordersByUsersB['orders'],pd.Series(0, index=np.arange(data['visitorsPerDateB'].sum() - len(ordersByUsersB['orders'])), name='orders')],axis=0)\n",
    "\n",
    "print(\"{0:.5f}\".format(st.mannwhitneyu(sampleA, sampleB)[1]))\n",
    "\n",
    "print(\"{0:.3f}\".format(sampleB.mean() / sampleA.mean() - 1))"
   ]
  },
  {
   "cell_type": "markdown",
   "metadata": {},
   "source": [
    "Первое число - p-value = 0.01679 меньше 0.05. Значит, нулевую гипотезу о том, что статистически значимых различий в среднем числе заказов между группами нет, мы отвергаем. Группа B лидирует на 13,8%. "
   ]
  },
  {
   "cell_type": "markdown",
   "metadata": {},
   "source": [
    "**3.11 Посчитаем статистическую значимость различий в среднем чеке заказа между группами по «сырым» данным.**"
   ]
  },
  {
   "cell_type": "markdown",
   "metadata": {},
   "source": [
    "Нулевая гипотеза: различий в среднем чеке между группами нет.  \n",
    "Альтернативная гипотеза: различия в среднем чеке между группами есть. "
   ]
  },
  {
   "cell_type": "code",
   "execution_count": 36,
   "metadata": {},
   "outputs": [
    {
     "name": "stdout",
     "output_type": "stream",
     "text": [
      "0.729\n",
      "0.259\n"
     ]
    }
   ],
   "source": [
    "print('{0:.3f}'.format(st.mannwhitneyu(orders[orders['group']=='A']['revenue'], orders[orders['group']=='B']['revenue'])[1]))\n",
    "print('{0:.3f}'.format(orders[orders['group']=='B']['revenue'].mean()/orders[orders['group']=='A']['revenue'].mean()-1))"
   ]
  },
  {
   "cell_type": "markdown",
   "metadata": {},
   "source": [
    "P-value значительно больше 0.05. Значит, причин отвергать нулевую гипотезу и считать, что в среднем чеке есть статистически значимые различия, нет. Однако, средний чек группы B выше среднего чека группы A."
   ]
  },
  {
   "cell_type": "markdown",
   "metadata": {},
   "source": [
    "**3.12 Посчитаем статистическую значимость различий в среднем количестве заказов на посетителя между группами по «очищенным» данным.**"
   ]
  },
  {
   "cell_type": "code",
   "execution_count": 37,
   "metadata": {},
   "outputs": [],
   "source": [
    "#очистим данные по количеству заказов\n",
    "usersWithManyOrders = pd.concat(\n",
    "    [\n",
    "        ordersByUsersA[ordersByUsersA['orders'] > np.percentile(ordersByUsers['orders'], 95)]['userId'],\n",
    "        ordersByUsersB[ordersByUsersB['orders'] > np.percentile(ordersByUsers['orders'], 95)]['userId'],\n",
    "    ],\n",
    "    axis=0,\n",
    ")"
   ]
  },
  {
   "cell_type": "code",
   "execution_count": 38,
   "metadata": {},
   "outputs": [],
   "source": [
    "#очистим данные по стоимости заказов\n",
    "usersWithExpensiveOrders = orders[orders['revenue'] > np.percentile(orders['revenue'], 95)]['visitorid'] \n",
    "abnormalUsers = (\n",
    "    pd.concat([usersWithManyOrders, usersWithExpensiveOrders], axis=0)\n",
    "    .drop_duplicates()\n",
    "    .sort_values()\n",
    ")"
   ]
  },
  {
   "cell_type": "markdown",
   "metadata": {},
   "source": [
    "Нулевая гипотеза: различий в среднем количестве заказов на посетителя между группами нет.  \n",
    "Альтернативная гипотеза: различия в среднем между группами есть."
   ]
  },
  {
   "cell_type": "code",
   "execution_count": 39,
   "metadata": {},
   "outputs": [
    {
     "name": "stdout",
     "output_type": "stream",
     "text": [
      "0.01304\n",
      "0.173\n"
     ]
    }
   ],
   "source": [
    "sampleAFiltered = pd.concat(\n",
    "    [\n",
    "        ordersByUsersA[\n",
    "            np.logical_not(ordersByUsersA['userId'].isin(abnormalUsers))\n",
    "        ]['orders'],\n",
    "        pd.Series(\n",
    "            0,\n",
    "            index=np.arange(\n",
    "                data['visitorsPerDateA'].sum() - len(ordersByUsersA['orders'])\n",
    "            ),\n",
    "            name='orders',\n",
    "        ),\n",
    "    ],\n",
    "    axis=0,\n",
    ")\n",
    "\n",
    "sampleBFiltered = pd.concat(\n",
    "    [\n",
    "        ordersByUsersB[\n",
    "            np.logical_not(ordersByUsersB['userId'].isin(abnormalUsers))\n",
    "        ]['orders'],\n",
    "        pd.Series(\n",
    "            0,\n",
    "            index=np.arange(\n",
    "                data['visitorsPerDateB'].sum() - len(ordersByUsersB['orders'])\n",
    "            ),\n",
    "            name='orders',\n",
    "        ),\n",
    "    ],\n",
    "    axis=0,\n",
    ")\n",
    "\n",
    "print('{0:.5f}'.format(st.mannwhitneyu(sampleAFiltered, sampleBFiltered)[1]))\n",
    "print('{0:.3f}'.format(sampleBFiltered.mean()/sampleAFiltered.mean()-1)) "
   ]
  },
  {
   "cell_type": "markdown",
   "metadata": {},
   "source": [
    "Так же, как и в случае с \"сырыми\" данными, нулевую гипотезу мы отвергаем. Среднее количество заказов на посетителя в группе B больше на 17,3%."
   ]
  },
  {
   "cell_type": "markdown",
   "metadata": {},
   "source": [
    "**3.13 Посчитаем статистическую значимость различий в среднем чеке заказа между группами по «очищенным» данным**"
   ]
  },
  {
   "cell_type": "markdown",
   "metadata": {},
   "source": [
    "Нулевая гипотеза: различий в среднем чеке между группами нет.  \n",
    "Альтернативная гипотеза: различия в среднем чеке между группами есть."
   ]
  },
  {
   "cell_type": "code",
   "execution_count": 40,
   "metadata": {},
   "outputs": [
    {
     "name": "stdout",
     "output_type": "stream",
     "text": [
      "0.738\n",
      "-0.020\n"
     ]
    }
   ],
   "source": [
    "print(\n",
    "    '{0:.3f}'.format(\n",
    "        st.mannwhitneyu(\n",
    "            orders[\n",
    "                np.logical_and(\n",
    "                    orders['group'] == 'A',\n",
    "                    np.logical_not(orders['visitorid'].isin(abnormalUsers)),\n",
    "                )\n",
    "            ]['revenue'],\n",
    "            orders[\n",
    "                np.logical_and(\n",
    "                    orders['group'] == 'B',\n",
    "                    np.logical_not(orders['visitorid'].isin(abnormalUsers)),\n",
    "                )\n",
    "            ]['revenue'],\n",
    "        )[1]\n",
    "    )\n",
    ")\n",
    "\n",
    "print(\n",
    "    \"{0:.3f}\".format(\n",
    "        orders[\n",
    "            np.logical_and(\n",
    "                orders['group'] == 'B',\n",
    "                np.logical_not(orders['visitorid'].isin(abnormalUsers)),\n",
    "            )\n",
    "        ]['revenue'].mean()\n",
    "        / orders[\n",
    "            np.logical_and(\n",
    "                orders['group'] == 'A',\n",
    "                np.logical_not(orders['visitorid'].isin(abnormalUsers)),\n",
    "            )\n",
    "        ]['revenue'].mean()\n",
    "        - 1\n",
    "    )\n",
    ")"
   ]
  },
  {
   "cell_type": "markdown",
   "metadata": {},
   "source": [
    "Показатель p-value несколько вырос, но все равно причин отвергать нулевую гипотезу и считать, что в среднем чеке есть статистически значимые различия, нет. Вот только если в случае с \"сырыми\" данными средний чек группы B был выше среднего чека группы A, то теперь ситуация изменилась в обратную сторону."
   ]
  },
  {
   "cell_type": "markdown",
   "metadata": {},
   "source": [
    "**3.14 Примем решение по результатам теста и объясните его. Варианты решений:**  \n",
    "1. Остановить тест, зафиксировать победу одной из групп.  \n",
    "2. Остановить тест, зафиксировать отсутствие различий между группами.  \n",
    "3. Продолжить тест."
   ]
  },
  {
   "cell_type": "markdown",
   "metadata": {},
   "source": [
    "Имеющиеся факты:\n",
    "+ Среднее количество заказов как по \"сырым\", так и по \"очищенным\" данным больше у группы B;  \n",
    "+ Нет статистически значимого различия по среднему чеку между группами ни по «сырым», ни по данным после фильтрации аномалий;  \n",
    "+ График различия среднего количества заказов между группами сообщает, что результаты группы B лучше группы A.\n"
   ]
  },
  {
   "cell_type": "markdown",
   "metadata": {},
   "source": [
    "**Вывод:** Проведенный тест соответствует всем необходимым критериям: размер корректен, проблема подглядывания исключена. При имеющихся данных сегмент B на самом деле лучше сегмента A: и до, и после очистки аномалий группа B лидировала по конверсии сначала на 13,8%, а после очистки данных на 17,3%. Исходя из обнаруженных фактов, тест следует остановить и зафиксировать победу группы B. "
   ]
  }
 ],
 "metadata": {
  "ExecuteTimeLog": [
   {
    "duration": 1474,
    "start_time": "2024-09-13T21:02:01.100Z"
   },
   {
    "duration": 73,
    "start_time": "2024-09-13T21:13:22.964Z"
   },
   {
    "duration": 92,
    "start_time": "2024-09-13T21:13:23.548Z"
   },
   {
    "duration": 87,
    "start_time": "2024-09-13T21:13:23.995Z"
   },
   {
    "duration": 16,
    "start_time": "2024-09-13T21:14:47.178Z"
   },
   {
    "duration": 13,
    "start_time": "2024-09-13T21:15:03.338Z"
   },
   {
    "duration": 8,
    "start_time": "2024-09-13T21:15:18.036Z"
   },
   {
    "duration": 11,
    "start_time": "2024-09-13T21:15:26.056Z"
   },
   {
    "duration": 11,
    "start_time": "2024-09-13T21:15:33.029Z"
   },
   {
    "duration": 11,
    "start_time": "2024-09-13T21:16:02.346Z"
   },
   {
    "duration": 16,
    "start_time": "2024-09-13T21:16:11.567Z"
   },
   {
    "duration": 8,
    "start_time": "2024-09-13T21:17:20.494Z"
   },
   {
    "duration": 8,
    "start_time": "2024-09-13T21:18:33.754Z"
   },
   {
    "duration": 14,
    "start_time": "2024-09-13T21:18:39.482Z"
   },
   {
    "duration": 11,
    "start_time": "2024-09-13T21:19:01.835Z"
   },
   {
    "duration": 11,
    "start_time": "2024-09-13T21:19:07.939Z"
   },
   {
    "duration": 11,
    "start_time": "2024-09-13T21:21:20.973Z"
   },
   {
    "duration": 9,
    "start_time": "2024-09-13T21:21:23.068Z"
   },
   {
    "duration": 6,
    "start_time": "2024-09-13T21:22:23.750Z"
   },
   {
    "duration": 149,
    "start_time": "2024-09-13T21:22:25.857Z"
   },
   {
    "duration": 8,
    "start_time": "2024-09-13T21:22:31.672Z"
   },
   {
    "duration": 8,
    "start_time": "2024-09-13T21:26:17.663Z"
   },
   {
    "duration": 11,
    "start_time": "2024-09-13T21:26:25.128Z"
   },
   {
    "duration": 12,
    "start_time": "2024-09-13T21:27:25.821Z"
   },
   {
    "duration": 11,
    "start_time": "2024-09-13T21:27:41.634Z"
   },
   {
    "duration": 12,
    "start_time": "2024-09-13T21:27:41.994Z"
   },
   {
    "duration": 6,
    "start_time": "2024-09-13T21:28:58.171Z"
   },
   {
    "duration": 12,
    "start_time": "2024-09-13T21:28:59.976Z"
   },
   {
    "duration": 14,
    "start_time": "2024-09-13T21:29:00.898Z"
   },
   {
    "duration": 12,
    "start_time": "2024-09-13T21:29:01.930Z"
   },
   {
    "duration": 11,
    "start_time": "2024-09-13T21:29:17.216Z"
   },
   {
    "duration": 10,
    "start_time": "2024-09-13T21:29:23.305Z"
   },
   {
    "duration": 100,
    "start_time": "2024-09-13T21:31:49.516Z"
   },
   {
    "duration": 1166,
    "start_time": "2024-09-13T21:35:18.491Z"
   },
   {
    "duration": 32,
    "start_time": "2024-09-13T21:35:19.659Z"
   },
   {
    "duration": 37,
    "start_time": "2024-09-13T21:35:19.693Z"
   },
   {
    "duration": 17,
    "start_time": "2024-09-13T21:35:19.732Z"
   },
   {
    "duration": 34,
    "start_time": "2024-09-13T21:35:19.751Z"
   },
   {
    "duration": 16,
    "start_time": "2024-09-13T21:35:19.789Z"
   },
   {
    "duration": 8,
    "start_time": "2024-09-13T21:35:19.806Z"
   },
   {
    "duration": 12,
    "start_time": "2024-09-13T21:35:19.816Z"
   },
   {
    "duration": 7,
    "start_time": "2024-09-13T21:35:19.830Z"
   },
   {
    "duration": 5,
    "start_time": "2024-09-13T21:35:19.838Z"
   },
   {
    "duration": 10,
    "start_time": "2024-09-13T21:35:19.844Z"
   },
   {
    "duration": 27,
    "start_time": "2024-09-13T21:35:19.856Z"
   },
   {
    "duration": 10,
    "start_time": "2024-09-13T21:35:19.884Z"
   },
   {
    "duration": 5,
    "start_time": "2024-09-13T21:35:19.896Z"
   },
   {
    "duration": 6,
    "start_time": "2024-09-13T21:35:19.902Z"
   },
   {
    "duration": 8,
    "start_time": "2024-09-13T21:35:19.909Z"
   },
   {
    "duration": 11,
    "start_time": "2024-09-13T21:35:19.918Z"
   },
   {
    "duration": 39,
    "start_time": "2024-09-13T21:35:19.930Z"
   },
   {
    "duration": 1038,
    "start_time": "2024-09-13T21:35:19.971Z"
   },
   {
    "duration": 5,
    "start_time": "2024-09-13T21:36:18.250Z"
   },
   {
    "duration": 6,
    "start_time": "2024-09-13T21:36:26.315Z"
   },
   {
    "duration": 13,
    "start_time": "2024-09-13T21:36:48.174Z"
   },
   {
    "duration": 10,
    "start_time": "2024-09-13T21:37:01.729Z"
   },
   {
    "duration": 1159,
    "start_time": "2024-09-13T21:38:07.483Z"
   },
   {
    "duration": 34,
    "start_time": "2024-09-13T21:38:08.644Z"
   },
   {
    "duration": 37,
    "start_time": "2024-09-13T21:38:08.679Z"
   },
   {
    "duration": 16,
    "start_time": "2024-09-13T21:38:08.718Z"
   },
   {
    "duration": 15,
    "start_time": "2024-09-13T21:38:08.736Z"
   },
   {
    "duration": 19,
    "start_time": "2024-09-13T21:38:08.753Z"
   },
   {
    "duration": 28,
    "start_time": "2024-09-13T21:38:08.775Z"
   },
   {
    "duration": 16,
    "start_time": "2024-09-13T21:38:08.805Z"
   },
   {
    "duration": 11,
    "start_time": "2024-09-13T21:38:08.823Z"
   },
   {
    "duration": 6,
    "start_time": "2024-09-13T21:38:08.836Z"
   },
   {
    "duration": 9,
    "start_time": "2024-09-13T21:38:08.844Z"
   },
   {
    "duration": 39,
    "start_time": "2024-09-13T21:38:08.854Z"
   },
   {
    "duration": 8,
    "start_time": "2024-09-13T21:38:08.895Z"
   },
   {
    "duration": 6,
    "start_time": "2024-09-13T21:38:08.907Z"
   },
   {
    "duration": 28,
    "start_time": "2024-09-13T21:38:08.914Z"
   },
   {
    "duration": 44,
    "start_time": "2024-09-13T21:38:08.944Z"
   },
   {
    "duration": 25,
    "start_time": "2024-09-13T21:38:08.990Z"
   },
   {
    "duration": 16,
    "start_time": "2024-09-13T21:38:09.017Z"
   },
   {
    "duration": 53,
    "start_time": "2024-09-13T21:38:09.035Z"
   },
   {
    "duration": 15,
    "start_time": "2024-09-13T21:38:09.090Z"
   },
   {
    "duration": 9,
    "start_time": "2024-09-13T21:38:14.354Z"
   },
   {
    "duration": 4,
    "start_time": "2024-09-13T21:41:07.228Z"
   },
   {
    "duration": 3,
    "start_time": "2024-09-13T21:41:16.639Z"
   },
   {
    "duration": 21,
    "start_time": "2024-09-13T21:41:18.957Z"
   },
   {
    "duration": 10,
    "start_time": "2024-09-13T21:41:20.663Z"
   },
   {
    "duration": 11,
    "start_time": "2024-09-13T21:41:37.540Z"
   },
   {
    "duration": 129,
    "start_time": "2024-09-13T22:02:25.136Z"
   },
   {
    "duration": 304,
    "start_time": "2024-09-13T22:08:04.592Z"
   },
   {
    "duration": 309,
    "start_time": "2024-09-13T22:08:32.231Z"
   },
   {
    "duration": 302,
    "start_time": "2024-09-13T22:10:25.928Z"
   },
   {
    "duration": 7,
    "start_time": "2024-09-13T22:14:02.387Z"
   },
   {
    "duration": 205,
    "start_time": "2024-09-13T22:14:08.903Z"
   },
   {
    "duration": 177,
    "start_time": "2024-09-13T22:15:28.839Z"
   },
   {
    "duration": 339,
    "start_time": "2024-09-13T22:16:43.587Z"
   },
   {
    "duration": 224,
    "start_time": "2024-09-13T22:17:23.461Z"
   },
   {
    "duration": 188,
    "start_time": "2024-09-13T22:22:42.553Z"
   },
   {
    "duration": 327,
    "start_time": "2024-09-13T22:23:18.499Z"
   },
   {
    "duration": 190,
    "start_time": "2024-09-13T22:25:35.609Z"
   },
   {
    "duration": 277,
    "start_time": "2024-09-13T22:28:52.163Z"
   },
   {
    "duration": 356,
    "start_time": "2024-09-13T22:29:03.861Z"
   },
   {
    "duration": 329,
    "start_time": "2024-09-13T22:29:08.093Z"
   },
   {
    "duration": 352,
    "start_time": "2024-09-13T22:31:21.448Z"
   },
   {
    "duration": 254,
    "start_time": "2024-09-13T22:32:01.873Z"
   },
   {
    "duration": 23,
    "start_time": "2024-09-13T22:32:17.364Z"
   },
   {
    "duration": 256,
    "start_time": "2024-09-13T22:33:21.532Z"
   },
   {
    "duration": 201,
    "start_time": "2024-09-13T22:33:26.224Z"
   },
   {
    "duration": 261,
    "start_time": "2024-09-13T22:33:33.147Z"
   },
   {
    "duration": 225,
    "start_time": "2024-09-13T22:40:53.386Z"
   },
   {
    "duration": 314,
    "start_time": "2024-09-13T22:46:05.444Z"
   },
   {
    "duration": 290,
    "start_time": "2024-09-13T22:46:42.715Z"
   },
   {
    "duration": 404,
    "start_time": "2024-09-13T22:48:03.508Z"
   },
   {
    "duration": 245,
    "start_time": "2024-09-13T22:53:24.626Z"
   },
   {
    "duration": 226,
    "start_time": "2024-09-13T22:53:37.507Z"
   },
   {
    "duration": 327,
    "start_time": "2024-09-13T23:01:16.190Z"
   },
   {
    "duration": 310,
    "start_time": "2024-09-13T23:01:43.417Z"
   },
   {
    "duration": 9,
    "start_time": "2024-09-13T23:10:13.616Z"
   },
   {
    "duration": 130,
    "start_time": "2024-09-13T23:19:49.074Z"
   },
   {
    "duration": 135,
    "start_time": "2024-09-13T23:22:30.255Z"
   },
   {
    "duration": 148,
    "start_time": "2024-09-13T23:23:03.186Z"
   },
   {
    "duration": 137,
    "start_time": "2024-09-13T23:23:08.840Z"
   },
   {
    "duration": 267,
    "start_time": "2024-09-13T23:29:49.554Z"
   },
   {
    "duration": 166,
    "start_time": "2024-09-13T23:30:03.445Z"
   },
   {
    "duration": 157,
    "start_time": "2024-09-13T23:32:35.427Z"
   },
   {
    "duration": 5,
    "start_time": "2024-09-13T23:34:39.121Z"
   },
   {
    "duration": 5,
    "start_time": "2024-09-13T23:35:08.944Z"
   },
   {
    "duration": 12,
    "start_time": "2024-09-13T23:55:26.393Z"
   },
   {
    "duration": 174,
    "start_time": "2024-09-13T23:56:35.781Z"
   },
   {
    "duration": 7,
    "start_time": "2024-09-14T00:02:51.604Z"
   },
   {
    "duration": 124,
    "start_time": "2024-09-14T00:10:06.550Z"
   },
   {
    "duration": 131,
    "start_time": "2024-09-14T00:11:23.527Z"
   },
   {
    "duration": 116,
    "start_time": "2024-09-14T00:12:41.819Z"
   },
   {
    "duration": 117,
    "start_time": "2024-09-14T00:13:30.346Z"
   },
   {
    "duration": 1168,
    "start_time": "2024-09-14T00:16:22.773Z"
   },
   {
    "duration": 37,
    "start_time": "2024-09-14T00:16:23.943Z"
   },
   {
    "duration": 37,
    "start_time": "2024-09-14T00:16:23.985Z"
   },
   {
    "duration": 15,
    "start_time": "2024-09-14T00:16:24.024Z"
   },
   {
    "duration": 11,
    "start_time": "2024-09-14T00:16:24.042Z"
   },
   {
    "duration": 12,
    "start_time": "2024-09-14T00:16:24.054Z"
   },
   {
    "duration": 21,
    "start_time": "2024-09-14T00:16:24.069Z"
   },
   {
    "duration": 10,
    "start_time": "2024-09-14T00:16:24.094Z"
   },
   {
    "duration": 14,
    "start_time": "2024-09-14T00:16:24.105Z"
   },
   {
    "duration": 7,
    "start_time": "2024-09-14T00:16:24.120Z"
   },
   {
    "duration": 7,
    "start_time": "2024-09-14T00:16:24.128Z"
   },
   {
    "duration": 18,
    "start_time": "2024-09-14T00:16:24.137Z"
   },
   {
    "duration": 26,
    "start_time": "2024-09-14T00:16:24.156Z"
   },
   {
    "duration": 12,
    "start_time": "2024-09-14T00:16:24.185Z"
   },
   {
    "duration": 10,
    "start_time": "2024-09-14T00:16:24.198Z"
   },
   {
    "duration": 8,
    "start_time": "2024-09-14T00:16:24.209Z"
   },
   {
    "duration": 9,
    "start_time": "2024-09-14T00:16:24.219Z"
   },
   {
    "duration": 10,
    "start_time": "2024-09-14T00:16:24.229Z"
   },
   {
    "duration": 14,
    "start_time": "2024-09-14T00:16:24.241Z"
   },
   {
    "duration": 12,
    "start_time": "2024-09-14T00:16:24.256Z"
   },
   {
    "duration": 26,
    "start_time": "2024-09-14T00:16:24.269Z"
   },
   {
    "duration": 15,
    "start_time": "2024-09-14T00:16:24.296Z"
   },
   {
    "duration": 307,
    "start_time": "2024-09-14T00:16:24.312Z"
   },
   {
    "duration": 336,
    "start_time": "2024-09-14T00:16:24.620Z"
   },
   {
    "duration": 251,
    "start_time": "2024-09-14T00:16:24.958Z"
   },
   {
    "duration": 304,
    "start_time": "2024-09-14T00:16:25.211Z"
   },
   {
    "duration": 255,
    "start_time": "2024-09-14T00:16:25.517Z"
   },
   {
    "duration": 334,
    "start_time": "2024-09-14T00:16:25.779Z"
   },
   {
    "duration": 155,
    "start_time": "2024-09-14T00:16:26.115Z"
   },
   {
    "duration": 157,
    "start_time": "2024-09-14T00:16:26.273Z"
   },
   {
    "duration": 5,
    "start_time": "2024-09-14T00:16:26.431Z"
   },
   {
    "duration": 11,
    "start_time": "2024-09-14T00:16:26.438Z"
   },
   {
    "duration": 167,
    "start_time": "2024-09-14T00:16:26.471Z"
   },
   {
    "duration": 5,
    "start_time": "2024-09-14T00:16:26.640Z"
   },
   {
    "duration": 239,
    "start_time": "2024-09-14T00:16:26.647Z"
   },
   {
    "duration": 111,
    "start_time": "2024-09-14T00:17:41.445Z"
   },
   {
    "duration": 192,
    "start_time": "2024-09-14T00:18:20.910Z"
   },
   {
    "duration": 213,
    "start_time": "2024-09-14T00:18:45.845Z"
   },
   {
    "duration": 373,
    "start_time": "2024-09-14T00:19:36.919Z"
   },
   {
    "duration": 398,
    "start_time": "2024-09-14T00:20:29.015Z"
   },
   {
    "duration": 10,
    "start_time": "2024-09-14T00:26:57.643Z"
   },
   {
    "duration": 92,
    "start_time": "2024-09-14T00:27:27.624Z"
   },
   {
    "duration": 8,
    "start_time": "2024-09-14T00:27:39.499Z"
   },
   {
    "duration": 10,
    "start_time": "2024-09-14T00:27:57.323Z"
   },
   {
    "duration": 6,
    "start_time": "2024-09-14T00:32:27.079Z"
   },
   {
    "duration": 1366,
    "start_time": "2024-09-14T00:32:48.438Z"
   },
   {
    "duration": 6,
    "start_time": "2024-09-14T00:33:02.615Z"
   },
   {
    "duration": 16,
    "start_time": "2024-09-14T00:34:34.075Z"
   },
   {
    "duration": 35,
    "start_time": "2024-09-14T00:34:40.862Z"
   },
   {
    "duration": 898,
    "start_time": "2024-09-14T00:40:26.109Z"
   },
   {
    "duration": 1041,
    "start_time": "2024-09-14T00:41:04.203Z"
   },
   {
    "duration": 906,
    "start_time": "2024-09-14T00:41:42.372Z"
   },
   {
    "duration": 14,
    "start_time": "2024-09-14T00:42:46.540Z"
   },
   {
    "duration": 1178,
    "start_time": "2024-09-14T01:08:45.244Z"
   },
   {
    "duration": 28,
    "start_time": "2024-09-14T01:08:46.424Z"
   },
   {
    "duration": 36,
    "start_time": "2024-09-14T01:08:46.454Z"
   },
   {
    "duration": 16,
    "start_time": "2024-09-14T01:08:46.492Z"
   },
   {
    "duration": 12,
    "start_time": "2024-09-14T01:08:46.510Z"
   },
   {
    "duration": 13,
    "start_time": "2024-09-14T01:08:46.523Z"
   },
   {
    "duration": 12,
    "start_time": "2024-09-14T01:08:46.537Z"
   },
   {
    "duration": 24,
    "start_time": "2024-09-14T01:08:46.550Z"
   },
   {
    "duration": 14,
    "start_time": "2024-09-14T01:08:46.576Z"
   },
   {
    "duration": 12,
    "start_time": "2024-09-14T01:08:46.593Z"
   },
   {
    "duration": 31,
    "start_time": "2024-09-14T01:08:46.607Z"
   },
   {
    "duration": 11,
    "start_time": "2024-09-14T01:08:46.640Z"
   },
   {
    "duration": 28,
    "start_time": "2024-09-14T01:08:46.652Z"
   },
   {
    "duration": 12,
    "start_time": "2024-09-14T01:08:46.681Z"
   },
   {
    "duration": 9,
    "start_time": "2024-09-14T01:08:46.694Z"
   },
   {
    "duration": 10,
    "start_time": "2024-09-14T01:08:46.704Z"
   },
   {
    "duration": 10,
    "start_time": "2024-09-14T01:08:46.715Z"
   },
   {
    "duration": 9,
    "start_time": "2024-09-14T01:08:46.726Z"
   },
   {
    "duration": 12,
    "start_time": "2024-09-14T01:08:46.737Z"
   },
   {
    "duration": 31,
    "start_time": "2024-09-14T01:08:46.751Z"
   },
   {
    "duration": 4,
    "start_time": "2024-09-14T01:08:46.784Z"
   },
   {
    "duration": 51,
    "start_time": "2024-09-14T01:08:46.789Z"
   },
   {
    "duration": 298,
    "start_time": "2024-09-14T01:08:46.842Z"
   },
   {
    "duration": 305,
    "start_time": "2024-09-14T01:08:47.142Z"
   },
   {
    "duration": 210,
    "start_time": "2024-09-14T01:08:47.449Z"
   },
   {
    "duration": 344,
    "start_time": "2024-09-14T01:08:47.660Z"
   },
   {
    "duration": 242,
    "start_time": "2024-09-14T01:08:48.006Z"
   },
   {
    "duration": 349,
    "start_time": "2024-09-14T01:08:48.252Z"
   },
   {
    "duration": 167,
    "start_time": "2024-09-14T01:08:48.602Z"
   },
   {
    "duration": 159,
    "start_time": "2024-09-14T01:08:48.779Z"
   },
   {
    "duration": 6,
    "start_time": "2024-09-14T01:08:48.939Z"
   },
   {
    "duration": 78,
    "start_time": "2024-09-14T01:08:48.946Z"
   },
   {
    "duration": 180,
    "start_time": "2024-09-14T01:08:49.026Z"
   },
   {
    "duration": 5,
    "start_time": "2024-09-14T01:08:49.207Z"
   },
   {
    "duration": 384,
    "start_time": "2024-09-14T01:08:49.213Z"
   },
   {
    "duration": 9,
    "start_time": "2024-09-14T01:08:49.599Z"
   },
   {
    "duration": 6,
    "start_time": "2024-09-14T01:08:49.610Z"
   },
   {
    "duration": 5,
    "start_time": "2024-09-14T01:08:49.617Z"
   },
   {
    "duration": 58,
    "start_time": "2024-09-14T01:08:49.623Z"
   },
   {
    "duration": 15,
    "start_time": "2024-09-14T01:08:49.683Z"
   },
   {
    "duration": 1071,
    "start_time": "2024-09-14T05:37:40.589Z"
   },
   {
    "duration": 33,
    "start_time": "2024-09-14T05:37:41.662Z"
   },
   {
    "duration": 45,
    "start_time": "2024-09-14T05:37:41.696Z"
   },
   {
    "duration": 19,
    "start_time": "2024-09-14T05:37:41.743Z"
   },
   {
    "duration": 12,
    "start_time": "2024-09-14T05:37:41.763Z"
   },
   {
    "duration": 10,
    "start_time": "2024-09-14T05:37:41.777Z"
   },
   {
    "duration": 8,
    "start_time": "2024-09-14T05:37:41.789Z"
   },
   {
    "duration": 10,
    "start_time": "2024-09-14T05:37:41.798Z"
   },
   {
    "duration": 5,
    "start_time": "2024-09-14T05:37:41.809Z"
   },
   {
    "duration": 5,
    "start_time": "2024-09-14T05:37:41.816Z"
   },
   {
    "duration": 19,
    "start_time": "2024-09-14T05:37:41.822Z"
   },
   {
    "duration": 27,
    "start_time": "2024-09-14T05:37:41.842Z"
   },
   {
    "duration": 7,
    "start_time": "2024-09-14T05:37:41.871Z"
   },
   {
    "duration": 5,
    "start_time": "2024-09-14T05:37:41.879Z"
   },
   {
    "duration": 5,
    "start_time": "2024-09-14T05:37:41.886Z"
   },
   {
    "duration": 22,
    "start_time": "2024-09-14T05:37:41.893Z"
   },
   {
    "duration": 9,
    "start_time": "2024-09-14T05:37:41.916Z"
   },
   {
    "duration": 14,
    "start_time": "2024-09-14T05:37:41.927Z"
   },
   {
    "duration": 5,
    "start_time": "2024-09-14T05:37:41.942Z"
   },
   {
    "duration": 10,
    "start_time": "2024-09-14T05:37:41.948Z"
   },
   {
    "duration": 4,
    "start_time": "2024-09-14T05:37:41.959Z"
   },
   {
    "duration": 12,
    "start_time": "2024-09-14T05:37:41.964Z"
   },
   {
    "duration": 295,
    "start_time": "2024-09-14T05:37:41.977Z"
   },
   {
    "duration": 292,
    "start_time": "2024-09-14T05:37:42.273Z"
   },
   {
    "duration": 211,
    "start_time": "2024-09-14T05:37:42.567Z"
   },
   {
    "duration": 332,
    "start_time": "2024-09-14T05:37:42.779Z"
   },
   {
    "duration": 222,
    "start_time": "2024-09-14T05:37:43.112Z"
   },
   {
    "duration": 306,
    "start_time": "2024-09-14T05:37:43.337Z"
   },
   {
    "duration": 128,
    "start_time": "2024-09-14T05:37:43.645Z"
   },
   {
    "duration": 149,
    "start_time": "2024-09-14T05:37:43.774Z"
   },
   {
    "duration": 4,
    "start_time": "2024-09-14T05:37:43.925Z"
   },
   {
    "duration": 16,
    "start_time": "2024-09-14T05:37:43.931Z"
   },
   {
    "duration": 161,
    "start_time": "2024-09-14T05:37:43.949Z"
   },
   {
    "duration": 4,
    "start_time": "2024-09-14T05:37:44.112Z"
   },
   {
    "duration": 361,
    "start_time": "2024-09-14T05:37:44.118Z"
   },
   {
    "duration": 9,
    "start_time": "2024-09-14T05:37:44.481Z"
   },
   {
    "duration": 17,
    "start_time": "2024-09-14T05:37:44.492Z"
   },
   {
    "duration": 12,
    "start_time": "2024-09-14T05:37:44.510Z"
   },
   {
    "duration": 31,
    "start_time": "2024-09-14T05:37:44.523Z"
   },
   {
    "duration": 12,
    "start_time": "2024-09-14T05:37:44.555Z"
   },
   {
    "duration": 45,
    "start_time": "2024-09-14T09:44:25.087Z"
   },
   {
    "duration": 1263,
    "start_time": "2024-09-14T09:44:41.043Z"
   },
   {
    "duration": 97,
    "start_time": "2024-09-14T09:44:42.307Z"
   },
   {
    "duration": 100,
    "start_time": "2024-09-14T09:44:42.406Z"
   },
   {
    "duration": 73,
    "start_time": "2024-09-14T09:44:42.508Z"
   },
   {
    "duration": 11,
    "start_time": "2024-09-14T09:44:42.583Z"
   },
   {
    "duration": 15,
    "start_time": "2024-09-14T09:44:42.595Z"
   },
   {
    "duration": 10,
    "start_time": "2024-09-14T09:44:42.612Z"
   },
   {
    "duration": 17,
    "start_time": "2024-09-14T09:44:42.624Z"
   },
   {
    "duration": 7,
    "start_time": "2024-09-14T09:44:42.642Z"
   },
   {
    "duration": 5,
    "start_time": "2024-09-14T09:44:42.652Z"
   },
   {
    "duration": 10,
    "start_time": "2024-09-14T09:44:42.658Z"
   },
   {
    "duration": 25,
    "start_time": "2024-09-14T09:44:42.670Z"
   },
   {
    "duration": 6,
    "start_time": "2024-09-14T09:44:42.696Z"
   },
   {
    "duration": 12,
    "start_time": "2024-09-14T09:44:42.704Z"
   },
   {
    "duration": 11,
    "start_time": "2024-09-14T09:44:42.717Z"
   },
   {
    "duration": 8,
    "start_time": "2024-09-14T09:44:42.730Z"
   },
   {
    "duration": 14,
    "start_time": "2024-09-14T09:44:42.739Z"
   },
   {
    "duration": 21,
    "start_time": "2024-09-14T09:44:42.754Z"
   },
   {
    "duration": 17,
    "start_time": "2024-09-14T09:44:42.776Z"
   },
   {
    "duration": 99,
    "start_time": "2024-09-14T09:44:42.795Z"
   },
   {
    "duration": 0,
    "start_time": "2024-09-14T09:44:42.896Z"
   },
   {
    "duration": 0,
    "start_time": "2024-09-14T09:44:42.898Z"
   },
   {
    "duration": 1,
    "start_time": "2024-09-14T09:44:42.898Z"
   },
   {
    "duration": 0,
    "start_time": "2024-09-14T09:44:42.900Z"
   },
   {
    "duration": 0,
    "start_time": "2024-09-14T09:44:42.901Z"
   },
   {
    "duration": 0,
    "start_time": "2024-09-14T09:44:42.902Z"
   },
   {
    "duration": 0,
    "start_time": "2024-09-14T09:44:42.903Z"
   },
   {
    "duration": 0,
    "start_time": "2024-09-14T09:44:42.904Z"
   },
   {
    "duration": 0,
    "start_time": "2024-09-14T09:44:42.905Z"
   },
   {
    "duration": 0,
    "start_time": "2024-09-14T09:44:42.906Z"
   },
   {
    "duration": 0,
    "start_time": "2024-09-14T09:44:42.907Z"
   },
   {
    "duration": 0,
    "start_time": "2024-09-14T09:44:42.908Z"
   },
   {
    "duration": 0,
    "start_time": "2024-09-14T09:44:42.910Z"
   },
   {
    "duration": 0,
    "start_time": "2024-09-14T09:44:42.910Z"
   },
   {
    "duration": 0,
    "start_time": "2024-09-14T09:44:42.911Z"
   },
   {
    "duration": 0,
    "start_time": "2024-09-14T09:44:42.912Z"
   },
   {
    "duration": 0,
    "start_time": "2024-09-14T09:44:42.914Z"
   },
   {
    "duration": 0,
    "start_time": "2024-09-14T09:44:42.915Z"
   },
   {
    "duration": 1,
    "start_time": "2024-09-14T09:44:42.915Z"
   },
   {
    "duration": 0,
    "start_time": "2024-09-14T09:44:42.917Z"
   },
   {
    "duration": 10,
    "start_time": "2024-09-14T09:45:33.992Z"
   },
   {
    "duration": 4,
    "start_time": "2024-09-14T09:47:01.439Z"
   },
   {
    "duration": 13,
    "start_time": "2024-09-14T09:47:13.843Z"
   },
   {
    "duration": 4,
    "start_time": "2024-09-14T09:47:32.527Z"
   },
   {
    "duration": 12,
    "start_time": "2024-09-14T09:47:48.248Z"
   },
   {
    "duration": 11,
    "start_time": "2024-09-14T09:49:07.828Z"
   },
   {
    "duration": 274,
    "start_time": "2024-09-14T09:49:32.354Z"
   },
   {
    "duration": 295,
    "start_time": "2024-09-14T09:49:37.641Z"
   },
   {
    "duration": 195,
    "start_time": "2024-09-14T09:49:44.685Z"
   },
   {
    "duration": 351,
    "start_time": "2024-09-14T09:49:52.805Z"
   },
   {
    "duration": 299,
    "start_time": "2024-09-14T09:51:03.503Z"
   },
   {
    "duration": 217,
    "start_time": "2024-09-14T09:51:12.201Z"
   },
   {
    "duration": 211,
    "start_time": "2024-09-14T09:51:45.046Z"
   },
   {
    "duration": 331,
    "start_time": "2024-09-14T09:51:55.773Z"
   },
   {
    "duration": 321,
    "start_time": "2024-09-14T09:52:10.194Z"
   },
   {
    "duration": 360,
    "start_time": "2024-09-14T09:52:48.649Z"
   },
   {
    "duration": 58,
    "start_time": "2024-09-14T09:53:03.111Z"
   },
   {
    "duration": 1075,
    "start_time": "2024-09-14T09:54:04.158Z"
   },
   {
    "duration": 33,
    "start_time": "2024-09-14T09:54:05.234Z"
   },
   {
    "duration": 45,
    "start_time": "2024-09-14T09:54:05.268Z"
   },
   {
    "duration": 18,
    "start_time": "2024-09-14T09:54:05.316Z"
   },
   {
    "duration": 10,
    "start_time": "2024-09-14T09:54:05.336Z"
   },
   {
    "duration": 10,
    "start_time": "2024-09-14T09:54:05.348Z"
   },
   {
    "duration": 8,
    "start_time": "2024-09-14T09:54:05.359Z"
   },
   {
    "duration": 28,
    "start_time": "2024-09-14T09:54:05.368Z"
   },
   {
    "duration": 15,
    "start_time": "2024-09-14T09:54:05.398Z"
   },
   {
    "duration": 29,
    "start_time": "2024-09-14T09:54:05.415Z"
   },
   {
    "duration": 7,
    "start_time": "2024-09-14T09:54:05.446Z"
   },
   {
    "duration": 11,
    "start_time": "2024-09-14T09:54:05.454Z"
   },
   {
    "duration": 15,
    "start_time": "2024-09-14T09:54:05.466Z"
   },
   {
    "duration": 10,
    "start_time": "2024-09-14T09:54:05.483Z"
   },
   {
    "duration": 14,
    "start_time": "2024-09-14T09:54:05.495Z"
   },
   {
    "duration": 18,
    "start_time": "2024-09-14T09:54:05.510Z"
   },
   {
    "duration": 10,
    "start_time": "2024-09-14T09:54:05.530Z"
   },
   {
    "duration": 14,
    "start_time": "2024-09-14T09:54:05.542Z"
   },
   {
    "duration": 5,
    "start_time": "2024-09-14T09:54:05.558Z"
   },
   {
    "duration": 10,
    "start_time": "2024-09-14T09:54:05.565Z"
   },
   {
    "duration": 14,
    "start_time": "2024-09-14T09:54:05.577Z"
   },
   {
    "duration": 23,
    "start_time": "2024-09-14T09:54:05.593Z"
   },
   {
    "duration": 314,
    "start_time": "2024-09-14T09:54:05.618Z"
   },
   {
    "duration": 281,
    "start_time": "2024-09-14T09:54:05.934Z"
   },
   {
    "duration": 203,
    "start_time": "2024-09-14T09:54:06.217Z"
   },
   {
    "duration": 289,
    "start_time": "2024-09-14T09:54:06.422Z"
   },
   {
    "duration": 220,
    "start_time": "2024-09-14T09:54:06.712Z"
   },
   {
    "duration": 284,
    "start_time": "2024-09-14T09:54:06.936Z"
   },
   {
    "duration": 142,
    "start_time": "2024-09-14T09:54:07.221Z"
   },
   {
    "duration": 141,
    "start_time": "2024-09-14T09:54:07.365Z"
   },
   {
    "duration": 5,
    "start_time": "2024-09-14T09:54:07.507Z"
   },
   {
    "duration": 11,
    "start_time": "2024-09-14T09:54:07.513Z"
   },
   {
    "duration": 170,
    "start_time": "2024-09-14T09:54:07.525Z"
   },
   {
    "duration": 4,
    "start_time": "2024-09-14T09:54:07.696Z"
   },
   {
    "duration": 359,
    "start_time": "2024-09-14T09:54:07.702Z"
   },
   {
    "duration": 11,
    "start_time": "2024-09-14T09:54:08.062Z"
   },
   {
    "duration": 18,
    "start_time": "2024-09-14T09:54:08.075Z"
   },
   {
    "duration": 10,
    "start_time": "2024-09-14T09:54:08.094Z"
   },
   {
    "duration": 62,
    "start_time": "2024-09-14T09:54:08.106Z"
   },
   {
    "duration": 15,
    "start_time": "2024-09-14T09:54:08.169Z"
   },
   {
    "duration": 441,
    "start_time": "2024-09-14T10:02:52.139Z"
   },
   {
    "duration": 288,
    "start_time": "2024-09-14T10:03:28.679Z"
   },
   {
    "duration": 277,
    "start_time": "2024-09-14T10:03:46.932Z"
   },
   {
    "duration": 59,
    "start_time": "2024-09-14T10:04:18.144Z"
   },
   {
    "duration": 99,
    "start_time": "2024-09-14T10:15:45.183Z"
   },
   {
    "duration": 13,
    "start_time": "2024-09-14T10:16:45.897Z"
   },
   {
    "duration": 6,
    "start_time": "2024-09-14T10:17:17.307Z"
   },
   {
    "duration": 5,
    "start_time": "2024-09-14T10:17:21.582Z"
   },
   {
    "duration": 6,
    "start_time": "2024-09-14T10:18:48.170Z"
   },
   {
    "duration": 6,
    "start_time": "2024-09-14T10:19:05.576Z"
   },
   {
    "duration": 6,
    "start_time": "2024-09-14T10:19:07.023Z"
   },
   {
    "duration": 29,
    "start_time": "2024-09-14T10:19:11.697Z"
   },
   {
    "duration": 47,
    "start_time": "2024-09-14T10:20:20.269Z"
   },
   {
    "duration": 73,
    "start_time": "2024-09-14T10:21:18.871Z"
   },
   {
    "duration": 1198,
    "start_time": "2024-09-14T13:21:15.171Z"
   },
   {
    "duration": 79,
    "start_time": "2024-09-14T13:21:16.371Z"
   },
   {
    "duration": 79,
    "start_time": "2024-09-14T13:21:16.451Z"
   },
   {
    "duration": 60,
    "start_time": "2024-09-14T13:21:16.532Z"
   },
   {
    "duration": 11,
    "start_time": "2024-09-14T13:21:16.593Z"
   },
   {
    "duration": 9,
    "start_time": "2024-09-14T13:21:16.605Z"
   },
   {
    "duration": 7,
    "start_time": "2024-09-14T13:21:16.616Z"
   },
   {
    "duration": 8,
    "start_time": "2024-09-14T13:21:16.624Z"
   },
   {
    "duration": 5,
    "start_time": "2024-09-14T13:21:16.633Z"
   },
   {
    "duration": 6,
    "start_time": "2024-09-14T13:21:16.640Z"
   },
   {
    "duration": 7,
    "start_time": "2024-09-14T13:21:16.647Z"
   },
   {
    "duration": 27,
    "start_time": "2024-09-14T13:21:16.655Z"
   },
   {
    "duration": 5,
    "start_time": "2024-09-14T13:21:16.683Z"
   },
   {
    "duration": 4,
    "start_time": "2024-09-14T13:21:16.689Z"
   },
   {
    "duration": 4,
    "start_time": "2024-09-14T13:21:16.694Z"
   },
   {
    "duration": 9,
    "start_time": "2024-09-14T13:21:16.699Z"
   },
   {
    "duration": 9,
    "start_time": "2024-09-14T13:21:16.709Z"
   },
   {
    "duration": 8,
    "start_time": "2024-09-14T13:21:16.720Z"
   },
   {
    "duration": 5,
    "start_time": "2024-09-14T13:21:16.729Z"
   },
   {
    "duration": 47,
    "start_time": "2024-09-14T13:21:16.735Z"
   },
   {
    "duration": 5,
    "start_time": "2024-09-14T13:21:16.783Z"
   },
   {
    "duration": 27,
    "start_time": "2024-09-14T13:21:16.789Z"
   },
   {
    "duration": 264,
    "start_time": "2024-09-14T13:21:16.818Z"
   },
   {
    "duration": 264,
    "start_time": "2024-09-14T13:21:17.083Z"
   },
   {
    "duration": 183,
    "start_time": "2024-09-14T13:21:17.348Z"
   },
   {
    "duration": 396,
    "start_time": "2024-09-14T13:21:17.532Z"
   },
   {
    "duration": 204,
    "start_time": "2024-09-14T13:21:17.929Z"
   },
   {
    "duration": 305,
    "start_time": "2024-09-14T13:21:18.136Z"
   },
   {
    "duration": 122,
    "start_time": "2024-09-14T13:21:18.443Z"
   },
   {
    "duration": 127,
    "start_time": "2024-09-14T13:21:18.567Z"
   },
   {
    "duration": 4,
    "start_time": "2024-09-14T13:21:18.696Z"
   },
   {
    "duration": 8,
    "start_time": "2024-09-14T13:21:18.701Z"
   },
   {
    "duration": 282,
    "start_time": "2024-09-14T13:21:18.710Z"
   },
   {
    "duration": 4,
    "start_time": "2024-09-14T13:21:18.993Z"
   },
   {
    "duration": 407,
    "start_time": "2024-09-14T13:21:18.999Z"
   },
   {
    "duration": 9,
    "start_time": "2024-09-14T13:21:19.407Z"
   },
   {
    "duration": 5,
    "start_time": "2024-09-14T13:21:19.417Z"
   },
   {
    "duration": 5,
    "start_time": "2024-09-14T13:21:19.423Z"
   },
   {
    "duration": 48,
    "start_time": "2024-09-14T13:21:19.430Z"
   },
   {
    "duration": 13,
    "start_time": "2024-09-14T13:21:19.480Z"
   }
  ],
  "kernelspec": {
   "display_name": "Python 3 (ipykernel)",
   "language": "python",
   "name": "python3"
  },
  "language_info": {
   "codemirror_mode": {
    "name": "ipython",
    "version": 3
   },
   "file_extension": ".py",
   "mimetype": "text/x-python",
   "name": "python",
   "nbconvert_exporter": "python",
   "pygments_lexer": "ipython3",
   "version": "3.12.7"
  },
  "toc": {
   "base_numbering": 1,
   "nav_menu": {},
   "number_sections": true,
   "sideBar": true,
   "skip_h1_title": true,
   "title_cell": "Table of Contents",
   "title_sidebar": "Contents",
   "toc_cell": false,
   "toc_position": {},
   "toc_section_display": true,
   "toc_window_display": false
  }
 },
 "nbformat": 4,
 "nbformat_minor": 4
}
